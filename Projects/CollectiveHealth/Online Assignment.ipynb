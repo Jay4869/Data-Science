{
 "cells": [
  {
   "cell_type": "code",
   "execution_count": 98,
   "metadata": {},
   "outputs": [],
   "source": [
    "import numpy as np\n",
    "import pandas as pd\n",
    "import matplotlib.pyplot as plt\n",
    "import seaborn as sns\n",
    "\n",
    "import warnings\n",
    "warnings.filterwarnings('ignore')"
   ]
  },
  {
   "cell_type": "code",
   "execution_count": 99,
   "metadata": {
    "scrolled": true
   },
   "outputs": [
    {
     "data": {
      "text/html": [
       "<div>\n",
       "<style scoped>\n",
       "    .dataframe tbody tr th:only-of-type {\n",
       "        vertical-align: middle;\n",
       "    }\n",
       "\n",
       "    .dataframe tbody tr th {\n",
       "        vertical-align: top;\n",
       "    }\n",
       "\n",
       "    .dataframe thead th {\n",
       "        text-align: right;\n",
       "    }\n",
       "</style>\n",
       "<table border=\"1\" class=\"dataframe\">\n",
       "  <thead>\n",
       "    <tr style=\"text-align: right;\">\n",
       "      <th></th>\n",
       "      <th>member_id</th>\n",
       "      <th>employer_name</th>\n",
       "      <th>claim_id</th>\n",
       "      <th>line_number</th>\n",
       "      <th>benefit_category</th>\n",
       "      <th>major_clinical_condition</th>\n",
       "      <th>minor_clinical_condition</th>\n",
       "      <th>claim_status</th>\n",
       "      <th>claim_grouping_major</th>\n",
       "      <th>claim_grouping_minor</th>\n",
       "      <th>is_in_network</th>\n",
       "      <th>service_month</th>\n",
       "      <th>allowed_amount</th>\n",
       "      <th>paid_amount</th>\n",
       "    </tr>\n",
       "  </thead>\n",
       "  <tbody>\n",
       "    <tr>\n",
       "      <th>0</th>\n",
       "      <td>108297829</td>\n",
       "      <td>Donald Duck Co.</td>\n",
       "      <td>71162567-108297829</td>\n",
       "      <td>1</td>\n",
       "      <td>PHY_PCP_OV</td>\n",
       "      <td>Respiratory conditions</td>\n",
       "      <td>Other upper respiratory disease</td>\n",
       "      <td>FINALIZED</td>\n",
       "      <td>Professional</td>\n",
       "      <td>Office Visit - Primary Care</td>\n",
       "      <td>Yes</td>\n",
       "      <td>2020-01</td>\n",
       "      <td>230.00</td>\n",
       "      <td>215.00</td>\n",
       "    </tr>\n",
       "    <tr>\n",
       "      <th>1</th>\n",
       "      <td>115098509</td>\n",
       "      <td>Donald Duck Co.</td>\n",
       "      <td>73362567-115098509</td>\n",
       "      <td>1</td>\n",
       "      <td>PHY_PT</td>\n",
       "      <td>Musculoskeletal disease</td>\n",
       "      <td>Non-traumatic joint disorders</td>\n",
       "      <td>FINALIZED</td>\n",
       "      <td>Professional</td>\n",
       "      <td>Rehabilitation</td>\n",
       "      <td>Yes</td>\n",
       "      <td>2020-01</td>\n",
       "      <td>34.61</td>\n",
       "      <td>19.61</td>\n",
       "    </tr>\n",
       "    <tr>\n",
       "      <th>2</th>\n",
       "      <td>115098509</td>\n",
       "      <td>Donald Duck Co.</td>\n",
       "      <td>73362567-115098509</td>\n",
       "      <td>2</td>\n",
       "      <td>PHY_PT</td>\n",
       "      <td>Musculoskeletal disease</td>\n",
       "      <td>Non-traumatic joint disorders</td>\n",
       "      <td>FINALIZED</td>\n",
       "      <td>Professional</td>\n",
       "      <td>Rehabilitation</td>\n",
       "      <td>Yes</td>\n",
       "      <td>2020-01</td>\n",
       "      <td>27.64</td>\n",
       "      <td>27.64</td>\n",
       "    </tr>\n",
       "    <tr>\n",
       "      <th>3</th>\n",
       "      <td>115098509</td>\n",
       "      <td>Donald Duck Co.</td>\n",
       "      <td>73362567-115098509</td>\n",
       "      <td>3</td>\n",
       "      <td>PHY_PT</td>\n",
       "      <td>Musculoskeletal disease</td>\n",
       "      <td>Non-traumatic joint disorders</td>\n",
       "      <td>FINALIZED</td>\n",
       "      <td>Professional</td>\n",
       "      <td>Rehabilitation</td>\n",
       "      <td>Yes</td>\n",
       "      <td>2020-01</td>\n",
       "      <td>29.42</td>\n",
       "      <td>29.42</td>\n",
       "    </tr>\n",
       "    <tr>\n",
       "      <th>4</th>\n",
       "      <td>167996799</td>\n",
       "      <td>Donald Duck Co.</td>\n",
       "      <td>73412517-167996799</td>\n",
       "      <td>2</td>\n",
       "      <td>PHY_PCP_OV</td>\n",
       "      <td>Respiratory conditions</td>\n",
       "      <td>Respiratory infections</td>\n",
       "      <td>FINALIZED</td>\n",
       "      <td>Professional</td>\n",
       "      <td>Office Visit - Primary Care</td>\n",
       "      <td>Yes</td>\n",
       "      <td>2020-01</td>\n",
       "      <td>53.72</td>\n",
       "      <td>38.72</td>\n",
       "    </tr>\n",
       "  </tbody>\n",
       "</table>\n",
       "</div>"
      ],
      "text/plain": [
       "   member_id    employer_name            claim_id  line_number  \\\n",
       "0  108297829  Donald Duck Co.  71162567-108297829            1   \n",
       "1  115098509  Donald Duck Co.  73362567-115098509            1   \n",
       "2  115098509  Donald Duck Co.  73362567-115098509            2   \n",
       "3  115098509  Donald Duck Co.  73362567-115098509            3   \n",
       "4  167996799  Donald Duck Co.  73412517-167996799            2   \n",
       "\n",
       "  benefit_category major_clinical_condition         minor_clinical_condition  \\\n",
       "0       PHY_PCP_OV   Respiratory conditions  Other upper respiratory disease   \n",
       "1           PHY_PT  Musculoskeletal disease    Non-traumatic joint disorders   \n",
       "2           PHY_PT  Musculoskeletal disease    Non-traumatic joint disorders   \n",
       "3           PHY_PT  Musculoskeletal disease    Non-traumatic joint disorders   \n",
       "4       PHY_PCP_OV   Respiratory conditions           Respiratory infections   \n",
       "\n",
       "  claim_status claim_grouping_major         claim_grouping_minor  \\\n",
       "0    FINALIZED         Professional  Office Visit - Primary Care   \n",
       "1    FINALIZED         Professional               Rehabilitation   \n",
       "2    FINALIZED         Professional               Rehabilitation   \n",
       "3    FINALIZED         Professional               Rehabilitation   \n",
       "4    FINALIZED         Professional  Office Visit - Primary Care   \n",
       "\n",
       "  is_in_network service_month  allowed_amount  paid_amount  \n",
       "0           Yes       2020-01          230.00       215.00  \n",
       "1           Yes       2020-01           34.61        19.61  \n",
       "2           Yes       2020-01           27.64        27.64  \n",
       "3           Yes       2020-01           29.42        29.42  \n",
       "4           Yes       2020-01           53.72        38.72  "
      ]
     },
     "execution_count": 99,
     "metadata": {},
     "output_type": "execute_result"
    }
   ],
   "source": [
    "claims = pd.read_csv('claims.csv')\n",
    "claims.head()"
   ]
  },
  {
   "cell_type": "code",
   "execution_count": 100,
   "metadata": {},
   "outputs": [
    {
     "name": "stdout",
     "output_type": "stream",
     "text": [
      "raw claims: (21843, 14)\n",
      "removed duplicated claims: (21842, 14)\n"
     ]
    }
   ],
   "source": [
    "# fix employers' name typo\n",
    "claims['employer_name'] = claims.employer_name.str.replace('Mickey Inc.', 'Mickey Mouse Inc.')\n",
    "claims['employer_name'] = claims.employer_name.str.replace('Donald Co.', 'Donald Duck Co.')\n",
    "\n",
    "# remove duplicates\n",
    "print('raw claims:', claims.shape)\n",
    "claims = claims.drop_duplicates()\n",
    "print('removed duplicated claims:', claims.shape)"
   ]
  },
  {
   "cell_type": "code",
   "execution_count": 101,
   "metadata": {},
   "outputs": [
    {
     "data": {
      "text/html": [
       "<div>\n",
       "<style scoped>\n",
       "    .dataframe tbody tr th:only-of-type {\n",
       "        vertical-align: middle;\n",
       "    }\n",
       "\n",
       "    .dataframe tbody tr th {\n",
       "        vertical-align: top;\n",
       "    }\n",
       "\n",
       "    .dataframe thead th {\n",
       "        text-align: right;\n",
       "    }\n",
       "</style>\n",
       "<table border=\"1\" class=\"dataframe\">\n",
       "  <thead>\n",
       "    <tr style=\"text-align: right;\">\n",
       "      <th></th>\n",
       "      <th>member_id</th>\n",
       "      <th>employer_name</th>\n",
       "      <th>gender</th>\n",
       "      <th>effective_month</th>\n",
       "      <th>coverage_tier</th>\n",
       "      <th>relationship_medical</th>\n",
       "      <th>plan_type</th>\n",
       "      <th>plan_name</th>\n",
       "    </tr>\n",
       "  </thead>\n",
       "  <tbody>\n",
       "    <tr>\n",
       "      <th>0</th>\n",
       "      <td>105070503</td>\n",
       "      <td>Mickey Mouse Inc.</td>\n",
       "      <td>F</td>\n",
       "      <td>2020-04</td>\n",
       "      <td>Employee Only</td>\n",
       "      <td>subscriber</td>\n",
       "      <td>Medical</td>\n",
       "      <td>PPO</td>\n",
       "    </tr>\n",
       "    <tr>\n",
       "      <th>1</th>\n",
       "      <td>226038609</td>\n",
       "      <td>Mickey Mouse Inc.</td>\n",
       "      <td>M</td>\n",
       "      <td>2020-04</td>\n",
       "      <td>Employee + Family</td>\n",
       "      <td>subscriber</td>\n",
       "      <td>Medical</td>\n",
       "      <td>PPO</td>\n",
       "    </tr>\n",
       "    <tr>\n",
       "      <th>2</th>\n",
       "      <td>338932895</td>\n",
       "      <td>Mickey Mouse Inc.</td>\n",
       "      <td>M</td>\n",
       "      <td>2020-04</td>\n",
       "      <td>Employee + Family</td>\n",
       "      <td>subscriber</td>\n",
       "      <td>Medical</td>\n",
       "      <td>PPO</td>\n",
       "    </tr>\n",
       "    <tr>\n",
       "      <th>3</th>\n",
       "      <td>280835088</td>\n",
       "      <td>Mickey Mouse Inc.</td>\n",
       "      <td>M</td>\n",
       "      <td>2020-04</td>\n",
       "      <td>Employee + Spouse</td>\n",
       "      <td>subscriber</td>\n",
       "      <td>Medical</td>\n",
       "      <td>PPO</td>\n",
       "    </tr>\n",
       "    <tr>\n",
       "      <th>4</th>\n",
       "      <td>172970293</td>\n",
       "      <td>Mickey Mouse Inc.</td>\n",
       "      <td>M</td>\n",
       "      <td>2020-04</td>\n",
       "      <td>Employee Only</td>\n",
       "      <td>subscriber</td>\n",
       "      <td>Medical</td>\n",
       "      <td>PPO</td>\n",
       "    </tr>\n",
       "  </tbody>\n",
       "</table>\n",
       "</div>"
      ],
      "text/plain": [
       "   member_id      employer_name gender effective_month      coverage_tier  \\\n",
       "0  105070503  Mickey Mouse Inc.      F         2020-04      Employee Only   \n",
       "1  226038609  Mickey Mouse Inc.      M         2020-04  Employee + Family   \n",
       "2  338932895  Mickey Mouse Inc.      M         2020-04  Employee + Family   \n",
       "3  280835088  Mickey Mouse Inc.      M         2020-04  Employee + Spouse   \n",
       "4  172970293  Mickey Mouse Inc.      M         2020-04      Employee Only   \n",
       "\n",
       "  relationship_medical plan_type plan_name  \n",
       "0           subscriber   Medical       PPO  \n",
       "1           subscriber   Medical       PPO  \n",
       "2           subscriber   Medical       PPO  \n",
       "3           subscriber   Medical       PPO  \n",
       "4           subscriber   Medical       PPO  "
      ]
     },
     "execution_count": 101,
     "metadata": {},
     "output_type": "execute_result"
    }
   ],
   "source": [
    "mem = pd.read_csv('membership.csv')\n",
    "mem.head()"
   ]
  },
  {
   "cell_type": "markdown",
   "metadata": {},
   "source": [
    "### Question:\n",
    "\n",
    "How many subscribers were effective on the PPO medical plan for each month for Donald\n",
    "Duck Co.?"
   ]
  },
  {
   "cell_type": "code",
   "execution_count": 102,
   "metadata": {},
   "outputs": [
    {
     "name": "stdout",
     "output_type": "stream",
     "text": [
      "effective_month\n",
      "2020-01-01    2408\n",
      "2020-02-01    2413\n",
      "2020-03-01    2414\n",
      "2020-04-01    2376\n",
      "Name: member_id, dtype: int64\n"
     ]
    }
   ],
   "source": [
    "temp = mem.query('employer_name == \"Donald Duck Co.\" and plan_name == \"PPO\"')\n",
    "temp['effective_month'] = pd.to_datetime(temp.effective_month)\n",
    "q1 = temp.groupby('effective_month').member_id.nunique()\n",
    "print(q1)"
   ]
  },
  {
   "cell_type": "markdown",
   "metadata": {},
   "source": [
    "### Question:\n",
    "\n",
    "What is the distribution of claim dollars (employer-paid basis) across various coverage\n",
    "tiers?"
   ]
  },
  {
   "cell_type": "code",
   "execution_count": 103,
   "metadata": {},
   "outputs": [
    {
     "name": "stdout",
     "output_type": "stream",
     "text": [
      "                             paid_amount\n",
      "member_id coverage_tier                 \n",
      "100097009 Employee + Spouse         0.00\n",
      "100098009 Employee + Family      4252.08\n",
      "100099009 Employee + Spouse      1020.00\n",
      "100197019 Employee + Spouse       774.52\n",
      "100198019 Employee + Family      3645.84\n"
     ]
    },
    {
     "data": {
      "image/png": "[encoded data removed]",
      "text/plain": [
       "<Figure size 509.5x360 with 1 Axes>"
      ]
     },
     "metadata": {
      "needs_background": "light"
     },
     "output_type": "display_data"
    },
    {
     "data": {
      "image/png": "[encoded data removed]",
      "text/plain": [
       "<Figure size 509.5x360 with 1 Axes>"
      ]
     },
     "metadata": {
      "needs_background": "light"
     },
     "output_type": "display_data"
    }
   ],
   "source": [
    "temp = pd.merge(claims[['member_id', 'employer_name', 'paid_amount']],\n",
    "              mem[['member_id', 'employer_name', 'coverage_tier']],\n",
    "              left_on = ['member_id', 'employer_name'], right_on = ['member_id', 'employer_name'])\n",
    "\n",
    "q2 = temp.groupby(['member_id', 'coverage_tier'])[['paid_amount']].agg('sum')\n",
    "print(q2.head())\n",
    "\n",
    "sns.displot(x='paid_amount', hue='coverage_tier', kind='kde', data=q2)\n",
    "q2['Log(paid_amount)'] = np.log(q2.paid_amount+0.01)\n",
    "sns.displot(x='Log(paid_amount)', hue='coverage_tier', kind='kde', data=q2)\n",
    "plt.show()"
   ]
  },
  {
   "cell_type": "markdown",
   "metadata": {},
   "source": [
    "### Question\n",
    "\n",
    "Compare the allowed PMPM (per member per month) due to respiratory conditions\n",
    "between the two employer groups."
   ]
  },
  {
   "cell_type": "code",
   "execution_count": 104,
   "metadata": {},
   "outputs": [
    {
     "name": "stdout",
     "output_type": "stream",
     "text": [
      "                                 allowed_amount  member_id  Allowed_PMPM\n",
      "employer_name     service_month                                         \n",
      "Donald Duck Co.   2020-01              33926.30        124    273.599194\n",
      "                  2020-02              59725.63         97    615.728144\n",
      "                  2020-03              33695.59         86    391.809186\n",
      "                  2020-04              55933.81         90    621.486778\n",
      "Mickey Mouse Inc. 2020-01              31226.25         62    503.649194\n",
      "                  2020-02              23259.99         65    357.846000\n",
      "                  2020-03              17507.24         68    257.459412\n",
      "                  2020-04              27025.34         48    563.027917\n"
     ]
    }
   ],
   "source": [
    "q3 = claims.query('major_clinical_condition == \"Respiratory conditions\"').groupby(['employer_name', 'service_month']).agg({'allowed_amount': np.sum, 'member_id': pd.Series.nunique})\n",
    "q3.eval('Allowed_PMPM = allowed_amount/member_id', inplace=True)\n",
    "print(q3)"
   ]
  },
  {
   "cell_type": "markdown",
   "metadata": {},
   "source": [
    "### Question\n",
    "\n",
    "Are the claim paid amounts statistically significantly different between the two\n",
    "companies? For simplicity, you may assume that paid claims fit a normal distribution"
   ]
  },
  {
   "cell_type": "code",
   "execution_count": 105,
   "metadata": {},
   "outputs": [
    {
     "name": "stdout",
     "output_type": "stream",
     "text": [
      "Independent T-test:\n",
      "Ttest_indResult(statistic=1.3787310080476685, pvalue=0.16799182612607602)\n"
     ]
    }
   ],
   "source": [
    "from scipy.stats import ttest_ind, levene\n",
    "\n",
    "x = claims.query('employer_name == \"Donald Duck Co.\"').paid_amount\n",
    "y = claims.query('employer_name == \"Mickey Mouse Inc.\"').paid_amount\n",
    "\n",
    "print('Independent T-test:')\n",
    "print(ttest_ind(x, y))"
   ]
  },
  {
   "cell_type": "markdown",
   "metadata": {},
   "source": [
    "As assuming paid claims fit a normal distribution, I applied an `indepentent T-test` to test for a statistically significant difference of claim paid amounts between two companies (Donald Duck Co. vs Mickey Mouse Inc.). The null hypothesis is that two independent samples have identical average values. **The result shows p-value = 0.168 > 0.05, so there is a statistically significant difference in the average of claim paid amounts between two companies.**"
   ]
  },
  {
   "cell_type": "code",
   "execution_count": 106,
   "metadata": {},
   "outputs": [
    {
     "name": "stdout",
     "output_type": "stream",
     "text": [
      "Levene's test:\n",
      "LeveneResult(statistic=6.186057298991946, pvalue=0.012883480651485844)\n"
     ]
    }
   ],
   "source": [
    "print(\"Levene's test:\")\n",
    "print(levene(x, y, center= 'mean'))"
   ]
  },
  {
   "cell_type": "markdown",
   "metadata": {},
   "source": [
    "However, one of the assumptions needs to be checked that both groups have equal variances. One method for testing this assumption is the `Levene's test` of homogeneity of variances. The null hypothesis that all input samples are from populations with equal variances. **The result of Levene's test shows p-value = 0.01 < 0.05, so the two distributions of claim paid amounts have non-equal variance.**"
   ]
  },
  {
   "cell_type": "code",
   "execution_count": 107,
   "metadata": {},
   "outputs": [
    {
     "name": "stdout",
     "output_type": "stream",
     "text": [
      "Welch’s t-test:\n",
      "Ttest_indResult(statistic=1.7900104845550546, pvalue=0.07346883847983107)\n"
     ]
    }
   ],
   "source": [
    "print('Welch’s t-test:')\n",
    "print(ttest_ind(x, y, equal_var=False))"
   ]
  },
  {
   "cell_type": "markdown",
   "metadata": {},
   "source": [
    "Therefore, I applied the `Welch’s t-test`, which does not assume equal population variance. **The result of Welch’s t-test shows p-value = 0.07 > 0.05, so it also concludes the claim paid amounts are significant different between two companies.**"
   ]
  },
  {
   "cell_type": "markdown",
   "metadata": {},
   "source": [
    "### Question\n",
    "\n",
    "We want to identify the drivers of medical costs by analyzing the total allowed amount accrued per member for both employer groups.\n",
    "\n",
    "a. Who are the top 5 large claimants (based on the total allowed amount) for Donald Duck Co. across the entire time captured in the data? Your response should include member ID, gender, relationship, and the total allowed amount."
   ]
  },
  {
   "cell_type": "code",
   "execution_count": 108,
   "metadata": {},
   "outputs": [
    {
     "data": {
      "text/html": [
       "<div>\n",
       "<style scoped>\n",
       "    .dataframe tbody tr th:only-of-type {\n",
       "        vertical-align: middle;\n",
       "    }\n",
       "\n",
       "    .dataframe tbody tr th {\n",
       "        vertical-align: top;\n",
       "    }\n",
       "\n",
       "    .dataframe thead th {\n",
       "        text-align: right;\n",
       "    }\n",
       "</style>\n",
       "<table border=\"1\" class=\"dataframe\">\n",
       "  <thead>\n",
       "    <tr style=\"text-align: right;\">\n",
       "      <th></th>\n",
       "      <th>member_id</th>\n",
       "      <th>gender</th>\n",
       "      <th>relationship_medical</th>\n",
       "    </tr>\n",
       "  </thead>\n",
       "  <tbody>\n",
       "    <tr>\n",
       "      <th>0</th>\n",
       "      <td>192169219</td>\n",
       "      <td>F</td>\n",
       "      <td>child</td>\n",
       "    </tr>\n",
       "    <tr>\n",
       "      <th>4</th>\n",
       "      <td>215959599</td>\n",
       "      <td>F</td>\n",
       "      <td>subscriber</td>\n",
       "    </tr>\n",
       "    <tr>\n",
       "      <th>8</th>\n",
       "      <td>159170913</td>\n",
       "      <td>F</td>\n",
       "      <td>subscriber</td>\n",
       "    </tr>\n",
       "    <tr>\n",
       "      <th>12</th>\n",
       "      <td>103398339</td>\n",
       "      <td>F</td>\n",
       "      <td>spouse</td>\n",
       "    </tr>\n",
       "    <tr>\n",
       "      <th>16</th>\n",
       "      <td>145498549</td>\n",
       "      <td>F</td>\n",
       "      <td>subscriber</td>\n",
       "    </tr>\n",
       "    <tr>\n",
       "      <th>20</th>\n",
       "      <td>396924697</td>\n",
       "      <td>M</td>\n",
       "      <td>child</td>\n",
       "    </tr>\n",
       "    <tr>\n",
       "      <th>24</th>\n",
       "      <td>191698169</td>\n",
       "      <td>M</td>\n",
       "      <td>subscriber</td>\n",
       "    </tr>\n",
       "    <tr>\n",
       "      <th>28</th>\n",
       "      <td>135498549</td>\n",
       "      <td>M</td>\n",
       "      <td>subscriber</td>\n",
       "    </tr>\n",
       "    <tr>\n",
       "      <th>32</th>\n",
       "      <td>137870783</td>\n",
       "      <td>F</td>\n",
       "      <td>spouse</td>\n",
       "    </tr>\n",
       "    <tr>\n",
       "      <th>36</th>\n",
       "      <td>200345038</td>\n",
       "      <td>F</td>\n",
       "      <td>subscriber</td>\n",
       "    </tr>\n",
       "  </tbody>\n",
       "</table>\n",
       "</div>"
      ],
      "text/plain": [
       "    member_id gender relationship_medical\n",
       "0   192169219      F                child\n",
       "4   215959599      F           subscriber\n",
       "8   159170913      F           subscriber\n",
       "12  103398339      F               spouse\n",
       "16  145498549      F           subscriber\n",
       "20  396924697      M                child\n",
       "24  191698169      M           subscriber\n",
       "28  135498549      M           subscriber\n",
       "32  137870783      F               spouse\n",
       "36  200345038      F           subscriber"
      ]
     },
     "execution_count": 108,
     "metadata": {},
     "output_type": "execute_result"
    }
   ],
   "source": [
    "temp = claims.groupby(['member_id', 'employer_name']).agg({'allowed_amount': np.sum}).reset_index()\n",
    "temp = temp.groupby('employer_name')[['member_id', 'allowed_amount']].apply(lambda x: x.sort_values('allowed_amount', ascending=False))\n",
    "temp = temp.groupby('employer_name').head(5).member_id\n",
    "\n",
    "q5 = pd.merge(mem, temp,\n",
    "              left_on = ['member_id'],\n",
    "              right_on = ['member_id'],\n",
    "              how='inner')[['member_id', 'gender', 'relationship_medical']].drop_duplicates()\n",
    "\n",
    "q5"
   ]
  },
  {
   "cell_type": "markdown",
   "metadata": {},
   "source": [
    "b. We want to identify the drivers of the total allowed amount per claimant over the\n",
    "entire period. Please run a multivariate OLS regression with the total allowed dollars across all claims per member (same methodology as 5a above beforefiltering for top 5 claimants) as the dependent variable and major clinical condition and employer as the independent variables. What is the goodness of fit for this\n",
    "model? Assuming there is an omitted variable bias, how would you improve the model?"
   ]
  },
  {
   "cell_type": "code",
   "execution_count": 109,
   "metadata": {},
   "outputs": [
    {
     "data": {
      "text/html": [
       "<div>\n",
       "<style scoped>\n",
       "    .dataframe tbody tr th:only-of-type {\n",
       "        vertical-align: middle;\n",
       "    }\n",
       "\n",
       "    .dataframe tbody tr th {\n",
       "        vertical-align: top;\n",
       "    }\n",
       "\n",
       "    .dataframe thead th {\n",
       "        text-align: right;\n",
       "    }\n",
       "</style>\n",
       "<table border=\"1\" class=\"dataframe\">\n",
       "  <thead>\n",
       "    <tr style=\"text-align: right;\">\n",
       "      <th></th>\n",
       "      <th>member_id</th>\n",
       "      <th>gender</th>\n",
       "      <th>coverage_tier</th>\n",
       "      <th>relationship_medical</th>\n",
       "      <th>major_clinical_condition</th>\n",
       "      <th>allowed_amount</th>\n",
       "    </tr>\n",
       "  </thead>\n",
       "  <tbody>\n",
       "    <tr>\n",
       "      <th>0</th>\n",
       "      <td>172970293</td>\n",
       "      <td>M</td>\n",
       "      <td>Employee Only</td>\n",
       "      <td>subscriber</td>\n",
       "      <td>Musculoskeletal disease</td>\n",
       "      <td>783.61</td>\n",
       "    </tr>\n",
       "    <tr>\n",
       "      <th>4</th>\n",
       "      <td>239031904</td>\n",
       "      <td>F</td>\n",
       "      <td>Employee + Family</td>\n",
       "      <td>child</td>\n",
       "      <td>General evaluation and undiagnosed symptoms</td>\n",
       "      <td>1136.29</td>\n",
       "    </tr>\n",
       "    <tr>\n",
       "      <th>5</th>\n",
       "      <td>239031904</td>\n",
       "      <td>F</td>\n",
       "      <td>Employee + Family</td>\n",
       "      <td>child</td>\n",
       "      <td>Skin and subcutaneous tissue disorders</td>\n",
       "      <td>257.76</td>\n",
       "    </tr>\n",
       "    <tr>\n",
       "      <th>12</th>\n",
       "      <td>114497449</td>\n",
       "      <td>F</td>\n",
       "      <td>Employee + Family</td>\n",
       "      <td>spouse</td>\n",
       "      <td>Injury, burns, and poisoning</td>\n",
       "      <td>152.00</td>\n",
       "    </tr>\n",
       "    <tr>\n",
       "      <th>13</th>\n",
       "      <td>114497449</td>\n",
       "      <td>F</td>\n",
       "      <td>Employee + Family</td>\n",
       "      <td>spouse</td>\n",
       "      <td>Nervous system diseases</td>\n",
       "      <td>983.02</td>\n",
       "    </tr>\n",
       "  </tbody>\n",
       "</table>\n",
       "</div>"
      ],
      "text/plain": [
       "    member_id gender      coverage_tier relationship_medical  \\\n",
       "0   172970293      M      Employee Only           subscriber   \n",
       "4   239031904      F  Employee + Family                child   \n",
       "5   239031904      F  Employee + Family                child   \n",
       "12  114497449      F  Employee + Family               spouse   \n",
       "13  114497449      F  Employee + Family               spouse   \n",
       "\n",
       "                       major_clinical_condition  allowed_amount  \n",
       "0                       Musculoskeletal disease          783.61  \n",
       "4   General evaluation and undiagnosed symptoms         1136.29  \n",
       "5        Skin and subcutaneous tissue disorders          257.76  \n",
       "12                 Injury, burns, and poisoning          152.00  \n",
       "13                      Nervous system diseases          983.02  "
      ]
     },
     "execution_count": 109,
     "metadata": {},
     "output_type": "execute_result"
    }
   ],
   "source": [
    "temp = claims.groupby(['member_id', 'employer_name', 'major_clinical_condition']).agg({'allowed_amount': np.sum}).reset_index()\n",
    "\n",
    "q5 = pd.merge(mem, temp,\n",
    "              left_on = ['member_id'],\n",
    "              right_on = ['member_id'],\n",
    "              how='inner')[['member_id', 'gender', 'coverage_tier', 'relationship_medical', 'major_clinical_condition', 'allowed_amount']].drop_duplicates()\n",
    "\n",
    "q5.head()"
   ]
  },
  {
   "cell_type": "code",
   "execution_count": 110,
   "metadata": {},
   "outputs": [
    {
     "name": "stdout",
     "output_type": "stream",
     "text": [
      "Goodness of fit for this OLS regression: 0.036\n"
     ]
    }
   ],
   "source": [
    "from sklearn.model_selection import train_test_split\n",
    "from sklearn.preprocessing import OneHotEncoder\n",
    "from sklearn.linear_model import LinearRegression\n",
    "from sklearn.metrics import r2_score\n",
    "\n",
    "X = q5[['gender', 'coverage_tier', 'relationship_medical', 'major_clinical_condition']]\n",
    "y = q5.allowed_amount\n",
    "\n",
    "# create dummies variables instead of one-hot-encoding due to multicollinearity issue\n",
    "X_trans = pd.get_dummies(X, drop_first=True)\n",
    "\n",
    "model = LinearRegression()\n",
    "model.fit(X_trans, y)\n",
    "y_pred = model.predict(X_trans)\n",
    "r2 = r2_score(y, y_pred)\n",
    "print('Goodness of fit for this OLS regression:', round(r2,3))"
   ]
  },
  {
   "cell_type": "markdown",
   "metadata": {},
   "source": [
    "Because the R-squared score of OLS regression is quite low, 0.036, we might conclude that the total claim allowed does not have a strong linear relationship between those features, which is the baseline assumption of multivariate OLS regression. For the improvement, I suggest fitting a tree-base model to extract non-linear patterns on the high dimensional space. For example, the Random Forests Model can easily learn interaction features and non-linear relationship between allowed claim costs, and provides the feature importance to answer the data-driven factors of medical costs."
   ]
  },
  {
   "cell_type": "markdown",
   "metadata": {},
   "source": [
    "### Question\n",
    "\n",
    "List and describe any data issues you found along with assumptions/fixes you had to\n",
    "make to answer the above questions.\n",
    "\n",
    "Answer:\n",
    "1. `employer name` in the claim table has different formats for two companies.\n",
    "2. One duplicated claim (16420021-145498549) has been found.\n",
    "3. There are 1% claims that total allowed is greater than \\$3244.50, called high-cost claimants. We might need to further verify the data quality.\n",
    "4. There are 3,119 claim records with \\$0 allowed amount and major clinical conditions. We need to verify the raw data quality."
   ]
  },
  {
   "cell_type": "code",
   "execution_count": 93,
   "metadata": {},
   "outputs": [
    {
     "name": "stdout",
     "output_type": "stream",
     "text": [
      "Top 1% allowed cost claims: 3244.501999999985\n"
     ]
    },
    {
     "data": {
      "image/png": "[encoded data removed]",
      "text/plain": [
       "<Figure size 432x288 with 1 Axes>"
      ]
     },
     "metadata": {
      "needs_background": "light"
     },
     "output_type": "display_data"
    }
   ],
   "source": [
    "print('Top 1% allowed cost claims:', np.percentile(claims.allowed_amount, 99))\n",
    "\n",
    "sns.boxplot(claims.allowed_amount)\n",
    "plt.show()"
   ]
  },
  {
   "cell_type": "code",
   "execution_count": 126,
   "metadata": {},
   "outputs": [
    {
     "data": {
      "text/html": [
       "<div>\n",
       "<style scoped>\n",
       "    .dataframe tbody tr th:only-of-type {\n",
       "        vertical-align: middle;\n",
       "    }\n",
       "\n",
       "    .dataframe tbody tr th {\n",
       "        vertical-align: top;\n",
       "    }\n",
       "\n",
       "    .dataframe thead th {\n",
       "        text-align: right;\n",
       "    }\n",
       "</style>\n",
       "<table border=\"1\" class=\"dataframe\">\n",
       "  <thead>\n",
       "    <tr style=\"text-align: right;\">\n",
       "      <th></th>\n",
       "      <th>member_id</th>\n",
       "      <th>employer_name</th>\n",
       "      <th>claim_id</th>\n",
       "      <th>line_number</th>\n",
       "      <th>benefit_category</th>\n",
       "      <th>major_clinical_condition</th>\n",
       "      <th>minor_clinical_condition</th>\n",
       "      <th>claim_status</th>\n",
       "      <th>claim_grouping_major</th>\n",
       "      <th>claim_grouping_minor</th>\n",
       "      <th>is_in_network</th>\n",
       "      <th>service_month</th>\n",
       "      <th>allowed_amount</th>\n",
       "      <th>paid_amount</th>\n",
       "    </tr>\n",
       "  </thead>\n",
       "  <tbody>\n",
       "    <tr>\n",
       "      <th>23</th>\n",
       "      <td>117198719</td>\n",
       "      <td>Donald Duck Co.</td>\n",
       "      <td>76973177-117198719</td>\n",
       "      <td>2</td>\n",
       "      <td>HIP_RoomBoard</td>\n",
       "      <td>Maternity and complications related to childbirth</td>\n",
       "      <td>Complications mainly related to pregnancy</td>\n",
       "      <td>FINALIZED</td>\n",
       "      <td>Inpatient Facility</td>\n",
       "      <td>Medical</td>\n",
       "      <td>Yes</td>\n",
       "      <td>2020-01</td>\n",
       "      <td>0.0</td>\n",
       "      <td>0.0</td>\n",
       "    </tr>\n",
       "    <tr>\n",
       "      <th>24</th>\n",
       "      <td>117198719</td>\n",
       "      <td>Donald Duck Co.</td>\n",
       "      <td>76973177-117198719</td>\n",
       "      <td>3</td>\n",
       "      <td>HIP_RoomBoard</td>\n",
       "      <td>Maternity and complications related to childbirth</td>\n",
       "      <td>Complications mainly related to pregnancy</td>\n",
       "      <td>FINALIZED</td>\n",
       "      <td>Inpatient Facility</td>\n",
       "      <td>Medical</td>\n",
       "      <td>Yes</td>\n",
       "      <td>2020-01</td>\n",
       "      <td>0.0</td>\n",
       "      <td>0.0</td>\n",
       "    </tr>\n",
       "    <tr>\n",
       "      <th>25</th>\n",
       "      <td>117198719</td>\n",
       "      <td>Donald Duck Co.</td>\n",
       "      <td>76973177-117198719</td>\n",
       "      <td>4</td>\n",
       "      <td>HIP_RoomBoard</td>\n",
       "      <td>Maternity and complications related to childbirth</td>\n",
       "      <td>Complications mainly related to pregnancy</td>\n",
       "      <td>FINALIZED</td>\n",
       "      <td>Inpatient Facility</td>\n",
       "      <td>Medical</td>\n",
       "      <td>Yes</td>\n",
       "      <td>2020-01</td>\n",
       "      <td>0.0</td>\n",
       "      <td>0.0</td>\n",
       "    </tr>\n",
       "    <tr>\n",
       "      <th>26</th>\n",
       "      <td>117198719</td>\n",
       "      <td>Donald Duck Co.</td>\n",
       "      <td>76973177-117198719</td>\n",
       "      <td>5</td>\n",
       "      <td>HIP_RoomBoard</td>\n",
       "      <td>Maternity and complications related to childbirth</td>\n",
       "      <td>Complications mainly related to pregnancy</td>\n",
       "      <td>FINALIZED</td>\n",
       "      <td>Inpatient Facility</td>\n",
       "      <td>Medical</td>\n",
       "      <td>Yes</td>\n",
       "      <td>2020-01</td>\n",
       "      <td>0.0</td>\n",
       "      <td>0.0</td>\n",
       "    </tr>\n",
       "    <tr>\n",
       "      <th>27</th>\n",
       "      <td>117198719</td>\n",
       "      <td>Donald Duck Co.</td>\n",
       "      <td>76973177-117198719</td>\n",
       "      <td>6</td>\n",
       "      <td>HIP_RoomBoard</td>\n",
       "      <td>Maternity and complications related to childbirth</td>\n",
       "      <td>Complications mainly related to pregnancy</td>\n",
       "      <td>FINALIZED</td>\n",
       "      <td>Inpatient Facility</td>\n",
       "      <td>Medical</td>\n",
       "      <td>Yes</td>\n",
       "      <td>2020-01</td>\n",
       "      <td>0.0</td>\n",
       "      <td>0.0</td>\n",
       "    </tr>\n",
       "  </tbody>\n",
       "</table>\n",
       "</div>"
      ],
      "text/plain": [
       "    member_id    employer_name            claim_id  line_number  \\\n",
       "23  117198719  Donald Duck Co.  76973177-117198719            2   \n",
       "24  117198719  Donald Duck Co.  76973177-117198719            3   \n",
       "25  117198719  Donald Duck Co.  76973177-117198719            4   \n",
       "26  117198719  Donald Duck Co.  76973177-117198719            5   \n",
       "27  117198719  Donald Duck Co.  76973177-117198719            6   \n",
       "\n",
       "   benefit_category                           major_clinical_condition  \\\n",
       "23    HIP_RoomBoard  Maternity and complications related to childbirth   \n",
       "24    HIP_RoomBoard  Maternity and complications related to childbirth   \n",
       "25    HIP_RoomBoard  Maternity and complications related to childbirth   \n",
       "26    HIP_RoomBoard  Maternity and complications related to childbirth   \n",
       "27    HIP_RoomBoard  Maternity and complications related to childbirth   \n",
       "\n",
       "                     minor_clinical_condition claim_status  \\\n",
       "23  Complications mainly related to pregnancy    FINALIZED   \n",
       "24  Complications mainly related to pregnancy    FINALIZED   \n",
       "25  Complications mainly related to pregnancy    FINALIZED   \n",
       "26  Complications mainly related to pregnancy    FINALIZED   \n",
       "27  Complications mainly related to pregnancy    FINALIZED   \n",
       "\n",
       "   claim_grouping_major claim_grouping_minor is_in_network service_month  \\\n",
       "23   Inpatient Facility              Medical           Yes       2020-01   \n",
       "24   Inpatient Facility              Medical           Yes       2020-01   \n",
       "25   Inpatient Facility              Medical           Yes       2020-01   \n",
       "26   Inpatient Facility              Medical           Yes       2020-01   \n",
       "27   Inpatient Facility              Medical           Yes       2020-01   \n",
       "\n",
       "    allowed_amount  paid_amount  \n",
       "23             0.0          0.0  \n",
       "24             0.0          0.0  \n",
       "25             0.0          0.0  \n",
       "26             0.0          0.0  \n",
       "27             0.0          0.0  "
      ]
     },
     "execution_count": 126,
     "metadata": {},
     "output_type": "execute_result"
    }
   ],
   "source": [
    "claims[claims.allowed_amount == 0].head()"
   ]
  }
 ],
 "metadata": {
  "kernelspec": {
   "display_name": "Python 3",
   "language": "python",
   "name": "python3"
  },
  "language_info": {
   "codemirror_mode": {
    "name": "ipython",
    "version": 3
   },
   "file_extension": ".py",
   "mimetype": "text/x-python",
   "name": "python",
   "nbconvert_exporter": "python",
   "pygments_lexer": "ipython3",
   "version": "3.7.3"
  }
 },
 "nbformat": 4,
 "nbformat_minor": 2
}
