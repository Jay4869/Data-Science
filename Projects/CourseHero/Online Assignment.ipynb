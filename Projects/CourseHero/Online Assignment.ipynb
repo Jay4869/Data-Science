{
 "cells": [
  {
   "cell_type": "code",
   "execution_count": 1,
   "metadata": {},
   "outputs": [],
   "source": [
    "import numpy as np\n",
    "import pandas as pd\n",
    "import matplotlib.pyplot as plt\n",
    "import seaborn as sns\n",
    "import warnings\n",
    "warnings.filterwarnings('ignore')"
   ]
  },
  {
   "cell_type": "markdown",
   "metadata": {},
   "source": [
    "### Load Data"
   ]
  },
  {
   "cell_type": "code",
   "execution_count": 2,
   "metadata": {},
   "outputs": [
    {
     "data": {
      "text/html": [
       "<div>\n",
       "<style scoped>\n",
       "    .dataframe tbody tr th:only-of-type {\n",
       "        vertical-align: middle;\n",
       "    }\n",
       "\n",
       "    .dataframe tbody tr th {\n",
       "        vertical-align: top;\n",
       "    }\n",
       "\n",
       "    .dataframe thead th {\n",
       "        text-align: right;\n",
       "    }\n",
       "</style>\n",
       "<table border=\"1\" class=\"dataframe\">\n",
       "  <thead>\n",
       "    <tr style=\"text-align: right;\">\n",
       "      <th></th>\n",
       "      <th>New_ID</th>\n",
       "      <th>date</th>\n",
       "      <th>year_month</th>\n",
       "      <th>byte_size</th>\n",
       "      <th>filetype</th>\n",
       "      <th>school_country</th>\n",
       "      <th>school_name</th>\n",
       "      <th>school_type</th>\n",
       "      <th>enrollment</th>\n",
       "      <th>first_subject_name</th>\n",
       "      <th>tag</th>\n",
       "      <th>page_count</th>\n",
       "      <th>hqd_score</th>\n",
       "      <th>is_mcq</th>\n",
       "      <th>top_keywords</th>\n",
       "      <th>language</th>\n",
       "      <th>course_id_</th>\n",
       "      <th>user_id_</th>\n",
       "    </tr>\n",
       "  </thead>\n",
       "  <tbody>\n",
       "    <tr>\n",
       "      <th>0</th>\n",
       "      <td>880</td>\n",
       "      <td>2017-11-19</td>\n",
       "      <td>2017-11</td>\n",
       "      <td>48940</td>\n",
       "      <td>docx</td>\n",
       "      <td>United States</td>\n",
       "      <td>Fordham University</td>\n",
       "      <td>HIGHER</td>\n",
       "      <td>17901.0</td>\n",
       "      <td>accounting</td>\n",
       "      <td>paper</td>\n",
       "      <td>4.0</td>\n",
       "      <td>0.95683</td>\n",
       "      <td>NaN</td>\n",
       "      <td>1</td>\n",
       "      <td>NaN</td>\n",
       "      <td>0</td>\n",
       "      <td>0</td>\n",
       "    </tr>\n",
       "    <tr>\n",
       "      <th>1</th>\n",
       "      <td>881</td>\n",
       "      <td>2016-06-10</td>\n",
       "      <td>2016-06</td>\n",
       "      <td>5336</td>\n",
       "      <td>docx</td>\n",
       "      <td>United States</td>\n",
       "      <td>Rio Salado Community College</td>\n",
       "      <td>HIGHER</td>\n",
       "      <td>6086.0</td>\n",
       "      <td>economics</td>\n",
       "      <td>paper</td>\n",
       "      <td>1.0</td>\n",
       "      <td>0.77776</td>\n",
       "      <td>NaN</td>\n",
       "      <td>0</td>\n",
       "      <td>english</td>\n",
       "      <td>1</td>\n",
       "      <td>1</td>\n",
       "    </tr>\n",
       "    <tr>\n",
       "      <th>2</th>\n",
       "      <td>882</td>\n",
       "      <td>2017-03-20</td>\n",
       "      <td>2017-03</td>\n",
       "      <td>18034</td>\n",
       "      <td>docx</td>\n",
       "      <td>United States</td>\n",
       "      <td>University of Phoenix</td>\n",
       "      <td>HIGHER</td>\n",
       "      <td>212044.0</td>\n",
       "      <td>sociology</td>\n",
       "      <td>paper</td>\n",
       "      <td>3.0</td>\n",
       "      <td>0.94462</td>\n",
       "      <td>NaN</td>\n",
       "      <td>1</td>\n",
       "      <td>english</td>\n",
       "      <td>2</td>\n",
       "      <td>2</td>\n",
       "    </tr>\n",
       "    <tr>\n",
       "      <th>3</th>\n",
       "      <td>883</td>\n",
       "      <td>2018-01-28</td>\n",
       "      <td>2018-01</td>\n",
       "      <td>16518</td>\n",
       "      <td>docx</td>\n",
       "      <td>Canada</td>\n",
       "      <td>University of Waterloo</td>\n",
       "      <td>HIGHER</td>\n",
       "      <td>36670.0</td>\n",
       "      <td>history</td>\n",
       "      <td>notes</td>\n",
       "      <td>3.0</td>\n",
       "      <td>0.96980</td>\n",
       "      <td>NaN</td>\n",
       "      <td>0</td>\n",
       "      <td>english</td>\n",
       "      <td>3</td>\n",
       "      <td>3</td>\n",
       "    </tr>\n",
       "    <tr>\n",
       "      <th>4</th>\n",
       "      <td>884</td>\n",
       "      <td>2017-06-11</td>\n",
       "      <td>2017-06</td>\n",
       "      <td>88860</td>\n",
       "      <td>docx</td>\n",
       "      <td>United States</td>\n",
       "      <td>University of California, Santa Barbara</td>\n",
       "      <td>HIGHER</td>\n",
       "      <td>25833.0</td>\n",
       "      <td>sociology</td>\n",
       "      <td>notes</td>\n",
       "      <td>4.0</td>\n",
       "      <td>0.96610</td>\n",
       "      <td>NaN</td>\n",
       "      <td>1</td>\n",
       "      <td>english</td>\n",
       "      <td>4</td>\n",
       "      <td>4</td>\n",
       "    </tr>\n",
       "  </tbody>\n",
       "</table>\n",
       "</div>"
      ],
      "text/plain": [
       "   New_ID        date year_month  byte_size filetype school_country  \\\n",
       "0     880  2017-11-19    2017-11      48940     docx  United States   \n",
       "1     881  2016-06-10    2016-06       5336     docx  United States   \n",
       "2     882  2017-03-20    2017-03      18034     docx  United States   \n",
       "3     883  2018-01-28    2018-01      16518     docx         Canada   \n",
       "4     884  2017-06-11    2017-06      88860     docx  United States   \n",
       "\n",
       "                               school_name school_type  enrollment  \\\n",
       "0                       Fordham University      HIGHER     17901.0   \n",
       "1             Rio Salado Community College      HIGHER      6086.0   \n",
       "2                    University of Phoenix      HIGHER    212044.0   \n",
       "3                   University of Waterloo      HIGHER     36670.0   \n",
       "4  University of California, Santa Barbara      HIGHER     25833.0   \n",
       "\n",
       "  first_subject_name    tag  page_count  hqd_score  is_mcq  top_keywords  \\\n",
       "0         accounting  paper         4.0    0.95683     NaN             1   \n",
       "1          economics  paper         1.0    0.77776     NaN             0   \n",
       "2          sociology  paper         3.0    0.94462     NaN             1   \n",
       "3            history  notes         3.0    0.96980     NaN             0   \n",
       "4          sociology  notes         4.0    0.96610     NaN             1   \n",
       "\n",
       "  language  course_id_  user_id_  \n",
       "0      NaN           0         0  \n",
       "1  english           1         1  \n",
       "2  english           2         2  \n",
       "3  english           3         3  \n",
       "4  english           4         4  "
      ]
     },
     "execution_count": 2,
     "metadata": {},
     "output_type": "execute_result"
    }
   ],
   "source": [
    "doc = pd.read_csv('DS_interview_doc.csv')\n",
    "doc.head()"
   ]
  },
  {
   "cell_type": "code",
   "execution_count": 3,
   "metadata": {},
   "outputs": [
    {
     "name": "stdout",
     "output_type": "stream",
     "text": [
      "<class 'pandas.core.frame.DataFrame'>\n",
      "RangeIndex: 10000 entries, 0 to 9999\n",
      "Data columns (total 18 columns):\n",
      " #   Column              Non-Null Count  Dtype  \n",
      "---  ------              --------------  -----  \n",
      " 0   New_ID              10000 non-null  int64  \n",
      " 1   date                10000 non-null  object \n",
      " 2   year_month          10000 non-null  object \n",
      " 3   byte_size           10000 non-null  int64  \n",
      " 4   filetype            10000 non-null  object \n",
      " 5   school_country      10000 non-null  object \n",
      " 6   school_name         10000 non-null  object \n",
      " 7   school_type         10000 non-null  object \n",
      " 8   enrollment          9932 non-null   float64\n",
      " 9   first_subject_name  10000 non-null  object \n",
      " 10  tag                 9999 non-null   object \n",
      " 11  page_count          10000 non-null  float64\n",
      " 12  hqd_score           9789 non-null   float64\n",
      " 13  is_mcq              415 non-null    float64\n",
      " 14  top_keywords        10000 non-null  int64  \n",
      " 15  language            9575 non-null   object \n",
      " 16  course_id_          10000 non-null  int64  \n",
      " 17  user_id_            10000 non-null  int64  \n",
      "dtypes: float64(4), int64(5), object(9)\n",
      "memory usage: 1.4+ MB\n"
     ]
    }
   ],
   "source": [
    "# check data type and missing value\n",
    "doc.info()"
   ]
  },
  {
   "cell_type": "code",
   "execution_count": 4,
   "metadata": {},
   "outputs": [
    {
     "data": {
      "text/html": [
       "<div>\n",
       "<style scoped>\n",
       "    .dataframe tbody tr th:only-of-type {\n",
       "        vertical-align: middle;\n",
       "    }\n",
       "\n",
       "    .dataframe tbody tr th {\n",
       "        vertical-align: top;\n",
       "    }\n",
       "\n",
       "    .dataframe thead th {\n",
       "        text-align: right;\n",
       "    }\n",
       "</style>\n",
       "<table border=\"1\" class=\"dataframe\">\n",
       "  <thead>\n",
       "    <tr style=\"text-align: right;\">\n",
       "      <th></th>\n",
       "      <th>New_ID</th>\n",
       "      <th>unlock_date</th>\n",
       "      <th>unlock_cnt</th>\n",
       "    </tr>\n",
       "  </thead>\n",
       "  <tbody>\n",
       "    <tr>\n",
       "      <th>0</th>\n",
       "      <td>6488</td>\n",
       "      <td>2016-07-25</td>\n",
       "      <td>1</td>\n",
       "    </tr>\n",
       "    <tr>\n",
       "      <th>1</th>\n",
       "      <td>6488</td>\n",
       "      <td>2017-05-03</td>\n",
       "      <td>1</td>\n",
       "    </tr>\n",
       "    <tr>\n",
       "      <th>2</th>\n",
       "      <td>6488</td>\n",
       "      <td>2017-05-03</td>\n",
       "      <td>1</td>\n",
       "    </tr>\n",
       "    <tr>\n",
       "      <th>3</th>\n",
       "      <td>6488</td>\n",
       "      <td>2017-10-28</td>\n",
       "      <td>1</td>\n",
       "    </tr>\n",
       "    <tr>\n",
       "      <th>4</th>\n",
       "      <td>6488</td>\n",
       "      <td>2018-01-24</td>\n",
       "      <td>1</td>\n",
       "    </tr>\n",
       "  </tbody>\n",
       "</table>\n",
       "</div>"
      ],
      "text/plain": [
       "   New_ID unlock_date  unlock_cnt\n",
       "0    6488  2016-07-25           1\n",
       "1    6488  2017-05-03           1\n",
       "2    6488  2017-05-03           1\n",
       "3    6488  2017-10-28           1\n",
       "4    6488  2018-01-24           1"
      ]
     },
     "execution_count": 4,
     "metadata": {},
     "output_type": "execute_result"
    }
   ],
   "source": [
    "paid = pd.read_csv('DS_interview_paid_unlock.csv')\n",
    "paid.head()"
   ]
  },
  {
   "cell_type": "code",
   "execution_count": 5,
   "metadata": {},
   "outputs": [
    {
     "name": "stdout",
     "output_type": "stream",
     "text": [
      "<class 'pandas.core.frame.DataFrame'>\n",
      "RangeIndex: 38868 entries, 0 to 38867\n",
      "Data columns (total 3 columns):\n",
      " #   Column       Non-Null Count  Dtype \n",
      "---  ------       --------------  ----- \n",
      " 0   New_ID       38868 non-null  int64 \n",
      " 1   unlock_date  38868 non-null  object\n",
      " 2   unlock_cnt   38868 non-null  int64 \n",
      "dtypes: int64(2), object(1)\n",
      "memory usage: 911.1+ KB\n"
     ]
    }
   ],
   "source": [
    "# check data type and missing value\n",
    "paid.info()"
   ]
  },
  {
   "cell_type": "markdown",
   "metadata": {},
   "source": [
    "### Question:\n",
    "\n",
    "Define the problem - What is the document quality status today based on the datasets? For example, what fraction of the documents are of high quality per current definition?"
   ]
  },
  {
   "cell_type": "code",
   "execution_count": 6,
   "metadata": {},
   "outputs": [],
   "source": [
    "# convert string to date type\n",
    "doc['date'] = pd.to_datetime(doc.date)\n",
    "doc['year_month'] = pd.to_datetime(doc.year_month)\n",
    "paid['unlock_date'] = pd.to_datetime(paid.unlock_date)"
   ]
  },
  {
   "cell_type": "code",
   "execution_count": 9,
   "metadata": {
    "scrolled": false
   },
   "outputs": [
    {
     "name": "stdout",
     "output_type": "stream",
     "text": [
      "The fraction of high quality documents versus total uploaded documents: 0.1612\n"
     ]
    }
   ],
   "source": [
    "# join doc and paid datasets by New_ID\n",
    "temp = pd.merge(doc, paid, left_on = 'New_ID', right_on = 'New_ID', how = 'inner')[['New_ID', 'date', 'unlock_date', 'unlock_cnt']]\n",
    "\n",
    "# calculate the month difference b/w unlock date and upload date\n",
    "temp['month_diff'] = (temp.unlock_date - temp.date) / np.timedelta64(1, 'M')\n",
    "\n",
    "# create high quality docs \n",
    "high_quality_doc = temp.query('month_diff <= 24').groupby('New_ID').agg({'unlock_cnt': 'sum'}).query('unlock_cnt >= 3').reset_index()\n",
    "print('The fraction of high quality documents versus total uploaded documents:', len(high_quality_doc)/doc.New_ID.nunique())"
   ]
  },
  {
   "cell_type": "markdown",
   "metadata": {},
   "source": [
    "### Question\n",
    "\n",
    "Understand the data - Perform any EDA on the data set to derive insights, identify opportunities and etc. "
   ]
  },
  {
   "cell_type": "code",
   "execution_count": 10,
   "metadata": {
    "scrolled": true
   },
   "outputs": [
    {
     "data": {
      "text/html": [
       "<div>\n",
       "<style scoped>\n",
       "    .dataframe tbody tr th:only-of-type {\n",
       "        vertical-align: middle;\n",
       "    }\n",
       "\n",
       "    .dataframe tbody tr th {\n",
       "        vertical-align: top;\n",
       "    }\n",
       "\n",
       "    .dataframe thead th {\n",
       "        text-align: right;\n",
       "    }\n",
       "</style>\n",
       "<table border=\"1\" class=\"dataframe\">\n",
       "  <thead>\n",
       "    <tr style=\"text-align: right;\">\n",
       "      <th></th>\n",
       "      <th>New_ID</th>\n",
       "      <th>date</th>\n",
       "      <th>year_month</th>\n",
       "      <th>byte_size</th>\n",
       "      <th>filetype</th>\n",
       "      <th>school_country</th>\n",
       "      <th>school_name</th>\n",
       "      <th>school_type</th>\n",
       "      <th>enrollment</th>\n",
       "      <th>first_subject_name</th>\n",
       "      <th>tag</th>\n",
       "      <th>page_count</th>\n",
       "      <th>hqd_score</th>\n",
       "      <th>is_mcq</th>\n",
       "      <th>top_keywords</th>\n",
       "      <th>language</th>\n",
       "      <th>course_id_</th>\n",
       "      <th>user_id_</th>\n",
       "      <th>hqd</th>\n",
       "    </tr>\n",
       "  </thead>\n",
       "  <tbody>\n",
       "    <tr>\n",
       "      <th>0</th>\n",
       "      <td>880</td>\n",
       "      <td>2017-11-19</td>\n",
       "      <td>2017-11-01</td>\n",
       "      <td>48940</td>\n",
       "      <td>docx</td>\n",
       "      <td>United States</td>\n",
       "      <td>Fordham University</td>\n",
       "      <td>HIGHER</td>\n",
       "      <td>17901.0</td>\n",
       "      <td>accounting</td>\n",
       "      <td>paper</td>\n",
       "      <td>4.0</td>\n",
       "      <td>0.95683</td>\n",
       "      <td>NaN</td>\n",
       "      <td>1</td>\n",
       "      <td>NaN</td>\n",
       "      <td>0</td>\n",
       "      <td>0</td>\n",
       "      <td>False</td>\n",
       "    </tr>\n",
       "    <tr>\n",
       "      <th>1</th>\n",
       "      <td>881</td>\n",
       "      <td>2016-06-10</td>\n",
       "      <td>2016-06-01</td>\n",
       "      <td>5336</td>\n",
       "      <td>docx</td>\n",
       "      <td>United States</td>\n",
       "      <td>Rio Salado Community College</td>\n",
       "      <td>HIGHER</td>\n",
       "      <td>6086.0</td>\n",
       "      <td>economics</td>\n",
       "      <td>paper</td>\n",
       "      <td>1.0</td>\n",
       "      <td>0.77776</td>\n",
       "      <td>NaN</td>\n",
       "      <td>0</td>\n",
       "      <td>english</td>\n",
       "      <td>1</td>\n",
       "      <td>1</td>\n",
       "      <td>True</td>\n",
       "    </tr>\n",
       "    <tr>\n",
       "      <th>2</th>\n",
       "      <td>882</td>\n",
       "      <td>2017-03-20</td>\n",
       "      <td>2017-03-01</td>\n",
       "      <td>18034</td>\n",
       "      <td>docx</td>\n",
       "      <td>United States</td>\n",
       "      <td>University of Phoenix</td>\n",
       "      <td>HIGHER</td>\n",
       "      <td>212044.0</td>\n",
       "      <td>sociology</td>\n",
       "      <td>paper</td>\n",
       "      <td>3.0</td>\n",
       "      <td>0.94462</td>\n",
       "      <td>NaN</td>\n",
       "      <td>1</td>\n",
       "      <td>english</td>\n",
       "      <td>2</td>\n",
       "      <td>2</td>\n",
       "      <td>True</td>\n",
       "    </tr>\n",
       "    <tr>\n",
       "      <th>3</th>\n",
       "      <td>883</td>\n",
       "      <td>2018-01-28</td>\n",
       "      <td>2018-01-01</td>\n",
       "      <td>16518</td>\n",
       "      <td>docx</td>\n",
       "      <td>Canada</td>\n",
       "      <td>University of Waterloo</td>\n",
       "      <td>HIGHER</td>\n",
       "      <td>36670.0</td>\n",
       "      <td>history</td>\n",
       "      <td>notes</td>\n",
       "      <td>3.0</td>\n",
       "      <td>0.96980</td>\n",
       "      <td>NaN</td>\n",
       "      <td>0</td>\n",
       "      <td>english</td>\n",
       "      <td>3</td>\n",
       "      <td>3</td>\n",
       "      <td>False</td>\n",
       "    </tr>\n",
       "    <tr>\n",
       "      <th>4</th>\n",
       "      <td>884</td>\n",
       "      <td>2017-06-11</td>\n",
       "      <td>2017-06-01</td>\n",
       "      <td>88860</td>\n",
       "      <td>docx</td>\n",
       "      <td>United States</td>\n",
       "      <td>University of California, Santa Barbara</td>\n",
       "      <td>HIGHER</td>\n",
       "      <td>25833.0</td>\n",
       "      <td>sociology</td>\n",
       "      <td>notes</td>\n",
       "      <td>4.0</td>\n",
       "      <td>0.96610</td>\n",
       "      <td>NaN</td>\n",
       "      <td>1</td>\n",
       "      <td>english</td>\n",
       "      <td>4</td>\n",
       "      <td>4</td>\n",
       "      <td>True</td>\n",
       "    </tr>\n",
       "  </tbody>\n",
       "</table>\n",
       "</div>"
      ],
      "text/plain": [
       "   New_ID       date year_month  byte_size filetype school_country  \\\n",
       "0     880 2017-11-19 2017-11-01      48940     docx  United States   \n",
       "1     881 2016-06-10 2016-06-01       5336     docx  United States   \n",
       "2     882 2017-03-20 2017-03-01      18034     docx  United States   \n",
       "3     883 2018-01-28 2018-01-01      16518     docx         Canada   \n",
       "4     884 2017-06-11 2017-06-01      88860     docx  United States   \n",
       "\n",
       "                               school_name school_type  enrollment  \\\n",
       "0                       Fordham University      HIGHER     17901.0   \n",
       "1             Rio Salado Community College      HIGHER      6086.0   \n",
       "2                    University of Phoenix      HIGHER    212044.0   \n",
       "3                   University of Waterloo      HIGHER     36670.0   \n",
       "4  University of California, Santa Barbara      HIGHER     25833.0   \n",
       "\n",
       "  first_subject_name    tag  page_count  hqd_score  is_mcq  top_keywords  \\\n",
       "0         accounting  paper         4.0    0.95683     NaN             1   \n",
       "1          economics  paper         1.0    0.77776     NaN             0   \n",
       "2          sociology  paper         3.0    0.94462     NaN             1   \n",
       "3            history  notes         3.0    0.96980     NaN             0   \n",
       "4          sociology  notes         4.0    0.96610     NaN             1   \n",
       "\n",
       "  language  course_id_  user_id_    hqd  \n",
       "0      NaN           0         0  False  \n",
       "1  english           1         1   True  \n",
       "2  english           2         2   True  \n",
       "3  english           3         3  False  \n",
       "4  english           4         4   True  "
      ]
     },
     "execution_count": 10,
     "metadata": {},
     "output_type": "execute_result"
    }
   ],
   "source": [
    "# select high quality documents\n",
    "doc['hqd'] = doc.New_ID.isin(high_quality_doc.New_ID)\n",
    "doc.head()"
   ]
  },
  {
   "cell_type": "markdown",
   "metadata": {},
   "source": [
    "Plotting the time series of document volume shows the seasonality and trend through 2016-06-01 and 2018-03-01. It clearly shows high utilization occurs during school spring and fall semesters, and lower utilization when school is off. From those 22 months, the upper-forward trend is telling us our business is increasing. One more interesting point is found that the volume of high quality documents in 2017 Spring is significantly greater than others. "
   ]
  },
  {
   "cell_type": "code",
   "execution_count": 68,
   "metadata": {},
   "outputs": [
    {
     "data": {
      "image/png": "[encoded data removed]",
      "text/plain": [
       "<Figure size 432x288 with 2 Axes>"
      ]
     },
     "metadata": {
      "needs_background": "light"
     },
     "output_type": "display_data"
    }
   ],
   "source": [
    "ax = doc.groupby(['year_month']).size().plot(label='Uploaded Document')\n",
    "plt.ylabel('Counts')\n",
    "ax2 = ax.twinx()\n",
    "doc.query('hqd == True').groupby(['year_month']).size().plot(ax=ax2, label='High Quality Document', color='r')\n",
    "plt.axvline(x='2017-02-01', linestyle='--', color='gray')\n",
    "plt.axvline(x='2017-05-01', linestyle='--', color='gray')\n",
    "plt.title('Document Trend over Time')\n",
    "ax.figure.legend(bbox_to_anchor=(0.9, 0.35))\n",
    "plt.show()"
   ]
  },
  {
   "cell_type": "markdown",
   "metadata": {},
   "source": [
    "Analyzing the distribution of student enrollment shows the number of students less than 100k is covered 95% high quality documents. And rest 5% occurs the 200K student enrollment."
   ]
  },
  {
   "cell_type": "code",
   "execution_count": 12,
   "metadata": {
    "scrolled": false
   },
   "outputs": [
    {
     "data": {
      "image/png": "[encoded data removed]",
      "text/plain": [
       "<Figure size 422.125x360 with 1 Axes>"
      ]
     },
     "metadata": {
      "needs_background": "light"
     },
     "output_type": "display_data"
    },
    {
     "data": {
      "image/png": "[encoded data removed]",
      "text/plain": [
       "<Figure size 422.125x360 with 1 Axes>"
      ]
     },
     "metadata": {
      "needs_background": "light"
     },
     "output_type": "display_data"
    }
   ],
   "source": [
    "sns.displot(x='enrollment', hue='hqd', kind='kde', data=doc)\n",
    "plt.title('Distribution of Enrollment across HQD')\n",
    "\n",
    "sns.displot(x='enrollment', hue='hqd', kind='ecdf', data=doc)\n",
    "plt.title('Cumulative Distribution of Enrollment across HQD')\n",
    "plt.show()"
   ]
  },
  {
   "cell_type": "markdown",
   "metadata": {},
   "source": [
    "Calculating the high quality document (HQD) rate by different categorical features to perform a barplot as following. The idea is normalized high quality document volumne by total documents to aviod population bias.\n",
    "\n",
    "$$\n",
    "HQD\\ Rate = \\frac{N(high-quality-documents)}{N(total-documents)}\n",
    "$$\n",
    "\n",
    "#### School Type Corhot\n",
    "the `Trade` type has the highest HQD rate about 25%, and the `High` type has the lowest rate as 8%."
   ]
  },
  {
   "cell_type": "code",
   "execution_count": 27,
   "metadata": {},
   "outputs": [
    {
     "data": {
      "image/png": "[encoded data removed]",
      "text/plain": [
       "<Figure size 576x432 with 1 Axes>"
      ]
     },
     "metadata": {
      "needs_background": "light"
     },
     "output_type": "display_data"
    }
   ],
   "source": [
    "temp = doc.query('hqd == True').groupby(['school_type', 'hqd']).size()/doc.groupby(['school_type']).size()\n",
    "temp = temp.reset_index().sort_values(0, ascending=False).head(20)\n",
    "\n",
    "plt.figure(figsize=(8,6))\n",
    "ax = sns.barplot(x='school_type', y=0, data=temp)\n",
    "plt.xlabel('School Type')\n",
    "plt.ylabel('HQD Rate')\n",
    "plt.title('HQD Rate of School Type')\n",
    "plt.show()"
   ]
  },
  {
   "cell_type": "markdown",
   "metadata": {},
   "source": [
    "#### First Subject Corhot\n",
    "\n",
    "The nursing is leading the top with 38% HQD rate, and top 5 subject categories are health science, finance, management and business."
   ]
  },
  {
   "cell_type": "code",
   "execution_count": 101,
   "metadata": {},
   "outputs": [
    {
     "data": {
      "image/png": "[encoded data removed]",
      "text/plain": [
       "<Figure size 576x432 with 1 Axes>"
      ]
     },
     "metadata": {
      "needs_background": "light"
     },
     "output_type": "display_data"
    }
   ],
   "source": [
    "temp = doc.query('hqd == True').groupby(['first_subject_name']).size()/doc.groupby(['first_subject_name']).size()\n",
    "temp = temp.reset_index().sort_values(0, ascending=False).head(20)\n",
    "\n",
    "plt.figure(figsize=(8,6))\n",
    "ax = sns.barplot(x=0, y='first_subject_name', data=temp)\n",
    "plt.xlabel('HQD Rate')\n",
    "plt.ylabel('Subject Name')\n",
    "plt.title('Top 20 subjects HQD Rate')\n",
    "plt.show()"
   ]
  },
  {
   "cell_type": "markdown",
   "metadata": {},
   "source": [
    "#### Top Keywods Corhot\n",
    "\n",
    "The barplot shows HQD rate with extracted top keywords is 12% higher than without keywords, so the `top keywods` is a good indicator of identifing high quality document."
   ]
  },
  {
   "cell_type": "code",
   "execution_count": 105,
   "metadata": {},
   "outputs": [
    {
     "data": {
      "image/png": "[encoded data removed]",
      "text/plain": [
       "<Figure size 432x288 with 1 Axes>"
      ]
     },
     "metadata": {
      "needs_background": "light"
     },
     "output_type": "display_data"
    }
   ],
   "source": [
    "temp = doc.query('hqd == True').groupby(['top_keywords']).size()/doc.groupby(['top_keywords']).size()\n",
    "temp = temp.reset_index().sort_values(0, ascending=False).head(20)\n",
    "\n",
    "sns.barplot(x='top_keywords', y=0, data=temp)\n",
    "plt.ylabel('HQD Rate')\n",
    "plt.ylim(0, 0.25)\n",
    "plt.title('HQD Rate of Top Keywords')\n",
    "plt.show()"
   ]
  },
  {
   "cell_type": "markdown",
   "metadata": {},
   "source": [
    "Reviewing the distribution of HQD score, it shows the correlation between document readability and high quality documents. And, I found the median score of high quality document readability is 0.95, however, it contains a lot of false positive as well."
   ]
  },
  {
   "cell_type": "code",
   "execution_count": 125,
   "metadata": {},
   "outputs": [
    {
     "data": {
      "image/png": "[encoded data removed]",
      "text/plain": [
       "<Figure size 422.125x360 with 1 Axes>"
      ]
     },
     "metadata": {
      "needs_background": "light"
     },
     "output_type": "display_data"
    }
   ],
   "source": [
    "sns.displot(x='hqd_score', hue='hqd', kind='kde', data=doc)\n",
    "plt.axvline(doc.query('hqd == True').hqd_score.median(), linestyle='--', color='gray', label='hqd_score_median')\n",
    "plt.legend()\n",
    "plt.title('Distribution of HQD Score')\n",
    "plt.show()"
   ]
  },
  {
   "cell_type": "markdown",
   "metadata": {},
   "source": [
    "### Question\n",
    "\n",
    "Discuss your analytics plan/steps - How would you build a prediction model for high quality documents? Actual model development is not required.\n",
    "\n",
    "1. Data Retrieval\n",
    "   * collect historical data with labeled high quality documents based on current definition\n",
    "   * join with other data sources might be helpful to target high quality documents: domain knowledge, feature correlation\n",
    "2. Data Preprocessing\n",
    "   * transform data\n",
    "   * impute missing value/outliers\n",
    "   * sampling method if imbalanced dataset\n",
    "3. Data Split\n",
    "   * construct training and test sets\n",
    "   * validate the class distribution\n",
    "4. Model Training\n",
    "   * construct a simple baseline model (random forest)\n",
    "   * feature engineering\n",
    "       * one-hot-encoding/categorical embedding\n",
    "       * scaling\n",
    "       * time series features: spike detection, time series trend, seasonality\n",
    "       * clusters: geographic, user profile\n",
    "   * advanced ML model vs business needs\n",
    "       * logistic regression: easy interpretation, faster training, stable, lower model complexity\n",
    "       * XGBoost: well performance, longer training/tuning time, lack interpretation\n",
    "       * SVM: long training time, but easy deploy the model\n",
    "       * Deep Learning: black box, well performance on imbalanced data, long training time\n",
    "5. Model Evaluation & Insights\n",
    "   * design the evaluation metrics based on the business needs\n",
    "   * select the optimal model based on evaluation metrics, comparing with the baseline model\n",
    "   * report the predictions, model performance and top factors derive decision"
   ]
  },
  {
   "cell_type": "markdown",
   "metadata": {},
   "source": [
    "### Bonus question\n",
    "\n",
    "Discuss how Course Hero might leverage the insights gained from the analytics deliverable to improve?\n",
    "\n",
    "1. build and analyze user profiles to help better understand users' preference and needs\n",
    "2. recommend high quality documents to users based on their profiles to increase users' experience and business retention\n",
    "3. validate/remove lower quality documents when users upload documents to reduce the website capacity and improve users' experience\n",
    "4. leverage NLP technique to better understand document content in order to pre-tag and categorize documents\n",
    "5. analyze/forecast churn users to reduce the churn rate and increase retention through survey and promotions"
   ]
  }
 ],
 "metadata": {
  "kernelspec": {
   "display_name": "Python 3",
   "language": "python",
   "name": "python3"
  },
  "language_info": {
   "codemirror_mode": {
    "name": "ipython",
    "version": 3
   },
   "file_extension": ".py",
   "mimetype": "text/x-python",
   "name": "python",
   "nbconvert_exporter": "python",
   "pygments_lexer": "ipython3",
   "version": "3.7.3"
  }
 },
 "nbformat": 4,
 "nbformat_minor": 2
}
