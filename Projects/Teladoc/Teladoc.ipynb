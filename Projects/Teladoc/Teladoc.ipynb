{
 "cells": [
  {
   "cell_type": "markdown",
   "metadata": {},
   "source": [
    "### Code"
   ]
  },
  {
   "cell_type": "code",
   "execution_count": 1,
   "metadata": {},
   "outputs": [],
   "source": [
    "import numpy as np\n",
    "import pandas as pd\n",
    "import matplotlib.pyplot as plt\n",
    "import seaborn as sns"
   ]
  },
  {
   "cell_type": "code",
   "execution_count": 2,
   "metadata": {},
   "outputs": [
    {
     "data": {
      "text/html": [
       "<div>\n",
       "<style scoped>\n",
       "    .dataframe tbody tr th:only-of-type {\n",
       "        vertical-align: middle;\n",
       "    }\n",
       "\n",
       "    .dataframe tbody tr th {\n",
       "        vertical-align: top;\n",
       "    }\n",
       "\n",
       "    .dataframe thead th {\n",
       "        text-align: right;\n",
       "    }\n",
       "</style>\n",
       "<table border=\"1\" class=\"dataframe\">\n",
       "  <thead>\n",
       "    <tr style=\"text-align: right;\">\n",
       "      <th></th>\n",
       "      <th>user</th>\n",
       "      <th>day</th>\n",
       "      <th>usage</th>\n",
       "    </tr>\n",
       "  </thead>\n",
       "  <tbody>\n",
       "    <tr>\n",
       "      <th>0</th>\n",
       "      <td>00097b5304ac028d14ec093cba2c41f76126fab4</td>\n",
       "      <td>0</td>\n",
       "      <td>0</td>\n",
       "    </tr>\n",
       "    <tr>\n",
       "      <th>1</th>\n",
       "      <td>00097b5304ac028d14ec093cba2c41f76126fab4</td>\n",
       "      <td>1</td>\n",
       "      <td>0</td>\n",
       "    </tr>\n",
       "    <tr>\n",
       "      <th>2</th>\n",
       "      <td>00097b5304ac028d14ec093cba2c41f76126fab4</td>\n",
       "      <td>2</td>\n",
       "      <td>0</td>\n",
       "    </tr>\n",
       "    <tr>\n",
       "      <th>3</th>\n",
       "      <td>00097b5304ac028d14ec093cba2c41f76126fab4</td>\n",
       "      <td>3</td>\n",
       "      <td>0</td>\n",
       "    </tr>\n",
       "    <tr>\n",
       "      <th>4</th>\n",
       "      <td>00097b5304ac028d14ec093cba2c41f76126fab4</td>\n",
       "      <td>4</td>\n",
       "      <td>0</td>\n",
       "    </tr>\n",
       "  </tbody>\n",
       "</table>\n",
       "</div>"
      ],
      "text/plain": [
       "                                       user  day  usage\n",
       "0  00097b5304ac028d14ec093cba2c41f76126fab4    0      0\n",
       "1  00097b5304ac028d14ec093cba2c41f76126fab4    1      0\n",
       "2  00097b5304ac028d14ec093cba2c41f76126fab4    2      0\n",
       "3  00097b5304ac028d14ec093cba2c41f76126fab4    3      0\n",
       "4  00097b5304ac028d14ec093cba2c41f76126fab4    4      0"
      ]
     },
     "execution_count": 2,
     "metadata": {},
     "output_type": "execute_result"
    }
   ],
   "source": [
    "usage = pd.read_csv('Data/usage.csv')\n",
    "usage.head()"
   ]
  },
  {
   "cell_type": "code",
   "execution_count": 4,
   "metadata": {},
   "outputs": [
    {
     "data": {
      "text/html": [
       "<div>\n",
       "<style scoped>\n",
       "    .dataframe tbody tr th:only-of-type {\n",
       "        vertical-align: middle;\n",
       "    }\n",
       "\n",
       "    .dataframe tbody tr th {\n",
       "        vertical-align: top;\n",
       "    }\n",
       "\n",
       "    .dataframe thead th {\n",
       "        text-align: right;\n",
       "    }\n",
       "</style>\n",
       "<table border=\"1\" class=\"dataframe\">\n",
       "  <thead>\n",
       "    <tr style=\"text-align: right;\">\n",
       "      <th></th>\n",
       "      <th>user</th>\n",
       "      <th>age</th>\n",
       "      <th>gender</th>\n",
       "    </tr>\n",
       "  </thead>\n",
       "  <tbody>\n",
       "    <tr>\n",
       "      <th>0</th>\n",
       "      <td>00097b5304ac028d14ec093cba2c41f76126fab4</td>\n",
       "      <td>67</td>\n",
       "      <td>0</td>\n",
       "    </tr>\n",
       "    <tr>\n",
       "      <th>1</th>\n",
       "      <td>002b862b2604247ecfe7c9dc9d5fa41811a93d3e</td>\n",
       "      <td>55</td>\n",
       "      <td>1</td>\n",
       "    </tr>\n",
       "    <tr>\n",
       "      <th>2</th>\n",
       "      <td>0036892c09cc30ab1dec9999eb43189af4dd71b4</td>\n",
       "      <td>56</td>\n",
       "      <td>0</td>\n",
       "    </tr>\n",
       "    <tr>\n",
       "      <th>3</th>\n",
       "      <td>0040b11703e9dd8d7c8e5b8b46f64d20b642eb71</td>\n",
       "      <td>57</td>\n",
       "      <td>0</td>\n",
       "    </tr>\n",
       "    <tr>\n",
       "      <th>4</th>\n",
       "      <td>0048bc445cdbff2bba4963af21e881c8645a6cdb</td>\n",
       "      <td>41</td>\n",
       "      <td>1</td>\n",
       "    </tr>\n",
       "  </tbody>\n",
       "</table>\n",
       "</div>"
      ],
      "text/plain": [
       "                                       user  age  gender\n",
       "0  00097b5304ac028d14ec093cba2c41f76126fab4   67       0\n",
       "1  002b862b2604247ecfe7c9dc9d5fa41811a93d3e   55       1\n",
       "2  0036892c09cc30ab1dec9999eb43189af4dd71b4   56       0\n",
       "3  0040b11703e9dd8d7c8e5b8b46f64d20b642eb71   57       0\n",
       "4  0048bc445cdbff2bba4963af21e881c8645a6cdb   41       1"
      ]
     },
     "execution_count": 4,
     "metadata": {},
     "output_type": "execute_result"
    }
   ],
   "source": [
    "mem = pd.read_csv('Data/user_info.csv')\n",
    "mem.head()"
   ]
  },
  {
   "cell_type": "markdown",
   "metadata": {},
   "source": [
    "1.\tCompute the longest run of days where usage=0 for each user (longest_no_usage).\n",
    "\n",
    "a.\tsummarize the results visually.\n",
    "\n",
    "b.\tProvide the min, 25%, median, 75% and max in numerical form\n"
   ]
  },
  {
   "cell_type": "code",
   "execution_count": 234,
   "metadata": {},
   "outputs": [
    {
     "data": {
      "text/html": [
       "<div>\n",
       "<style scoped>\n",
       "    .dataframe tbody tr th:only-of-type {\n",
       "        vertical-align: middle;\n",
       "    }\n",
       "\n",
       "    .dataframe tbody tr th {\n",
       "        vertical-align: top;\n",
       "    }\n",
       "\n",
       "    .dataframe thead th {\n",
       "        text-align: right;\n",
       "    }\n",
       "</style>\n",
       "<table border=\"1\" class=\"dataframe\">\n",
       "  <thead>\n",
       "    <tr style=\"text-align: right;\">\n",
       "      <th></th>\n",
       "      <th>user</th>\n",
       "      <th>day</th>\n",
       "      <th>usage</th>\n",
       "      <th>times</th>\n",
       "    </tr>\n",
       "  </thead>\n",
       "  <tbody>\n",
       "    <tr>\n",
       "      <th>0</th>\n",
       "      <td>00097b5304ac028d14ec093cba2c41f76126fab4</td>\n",
       "      <td>0</td>\n",
       "      <td>0</td>\n",
       "      <td>0</td>\n",
       "    </tr>\n",
       "    <tr>\n",
       "      <th>1</th>\n",
       "      <td>00097b5304ac028d14ec093cba2c41f76126fab4</td>\n",
       "      <td>1</td>\n",
       "      <td>0</td>\n",
       "      <td>0</td>\n",
       "    </tr>\n",
       "    <tr>\n",
       "      <th>2</th>\n",
       "      <td>00097b5304ac028d14ec093cba2c41f76126fab4</td>\n",
       "      <td>2</td>\n",
       "      <td>0</td>\n",
       "      <td>0</td>\n",
       "    </tr>\n",
       "    <tr>\n",
       "      <th>3</th>\n",
       "      <td>00097b5304ac028d14ec093cba2c41f76126fab4</td>\n",
       "      <td>3</td>\n",
       "      <td>0</td>\n",
       "      <td>0</td>\n",
       "    </tr>\n",
       "    <tr>\n",
       "      <th>4</th>\n",
       "      <td>00097b5304ac028d14ec093cba2c41f76126fab4</td>\n",
       "      <td>4</td>\n",
       "      <td>0</td>\n",
       "      <td>0</td>\n",
       "    </tr>\n",
       "  </tbody>\n",
       "</table>\n",
       "</div>"
      ],
      "text/plain": [
       "                                       user  day  usage  times\n",
       "0  00097b5304ac028d14ec093cba2c41f76126fab4    0      0      0\n",
       "1  00097b5304ac028d14ec093cba2c41f76126fab4    1      0      0\n",
       "2  00097b5304ac028d14ec093cba2c41f76126fab4    2      0      0\n",
       "3  00097b5304ac028d14ec093cba2c41f76126fab4    3      0      0\n",
       "4  00097b5304ac028d14ec093cba2c41f76126fab4    4      0      0"
      ]
     },
     "execution_count": 234,
     "metadata": {},
     "output_type": "execute_result"
    }
   ],
   "source": [
    "# assigning the number of time of usage\n",
    "usage['times'] = usage.sort_values(['user', 'day']).groupby('user').usage.cumsum()\n",
    "usage.head()"
   ]
  },
  {
   "cell_type": "code",
   "execution_count": 235,
   "metadata": {
    "scrolled": false
   },
   "outputs": [
    {
     "data": {
      "text/html": [
       "<div>\n",
       "<style scoped>\n",
       "    .dataframe tbody tr th:only-of-type {\n",
       "        vertical-align: middle;\n",
       "    }\n",
       "\n",
       "    .dataframe tbody tr th {\n",
       "        vertical-align: top;\n",
       "    }\n",
       "\n",
       "    .dataframe thead th {\n",
       "        text-align: right;\n",
       "    }\n",
       "</style>\n",
       "<table border=\"1\" class=\"dataframe\">\n",
       "  <thead>\n",
       "    <tr style=\"text-align: right;\">\n",
       "      <th></th>\n",
       "      <th>user</th>\n",
       "      <th>times</th>\n",
       "      <th>day</th>\n",
       "    </tr>\n",
       "  </thead>\n",
       "  <tbody>\n",
       "    <tr>\n",
       "      <th>0</th>\n",
       "      <td>00097b5304ac028d14ec093cba2c41f76126fab4</td>\n",
       "      <td>0</td>\n",
       "      <td>59</td>\n",
       "    </tr>\n",
       "    <tr>\n",
       "      <th>1</th>\n",
       "      <td>00097b5304ac028d14ec093cba2c41f76126fab4</td>\n",
       "      <td>1</td>\n",
       "      <td>1</td>\n",
       "    </tr>\n",
       "    <tr>\n",
       "      <th>2</th>\n",
       "      <td>00097b5304ac028d14ec093cba2c41f76126fab4</td>\n",
       "      <td>2</td>\n",
       "      <td>4</td>\n",
       "    </tr>\n",
       "    <tr>\n",
       "      <th>3</th>\n",
       "      <td>00097b5304ac028d14ec093cba2c41f76126fab4</td>\n",
       "      <td>3</td>\n",
       "      <td>1</td>\n",
       "    </tr>\n",
       "    <tr>\n",
       "      <th>4</th>\n",
       "      <td>00097b5304ac028d14ec093cba2c41f76126fab4</td>\n",
       "      <td>4</td>\n",
       "      <td>2</td>\n",
       "    </tr>\n",
       "    <tr>\n",
       "      <th>...</th>\n",
       "      <td>...</td>\n",
       "      <td>...</td>\n",
       "      <td>...</td>\n",
       "    </tr>\n",
       "    <tr>\n",
       "      <th>287298</th>\n",
       "      <td>ffe49fb47ef4028061866472b8e9201763cc1816</td>\n",
       "      <td>24</td>\n",
       "      <td>1</td>\n",
       "    </tr>\n",
       "    <tr>\n",
       "      <th>287299</th>\n",
       "      <td>ffe49fb47ef4028061866472b8e9201763cc1816</td>\n",
       "      <td>25</td>\n",
       "      <td>2</td>\n",
       "    </tr>\n",
       "    <tr>\n",
       "      <th>287300</th>\n",
       "      <td>ffe49fb47ef4028061866472b8e9201763cc1816</td>\n",
       "      <td>26</td>\n",
       "      <td>1</td>\n",
       "    </tr>\n",
       "    <tr>\n",
       "      <th>287301</th>\n",
       "      <td>ffe49fb47ef4028061866472b8e9201763cc1816</td>\n",
       "      <td>27</td>\n",
       "      <td>3</td>\n",
       "    </tr>\n",
       "    <tr>\n",
       "      <th>287302</th>\n",
       "      <td>ffe49fb47ef4028061866472b8e9201763cc1816</td>\n",
       "      <td>28</td>\n",
       "      <td>1</td>\n",
       "    </tr>\n",
       "  </tbody>\n",
       "</table>\n",
       "<p>287303 rows × 3 columns</p>\n",
       "</div>"
      ],
      "text/plain": [
       "                                            user  times  day\n",
       "0       00097b5304ac028d14ec093cba2c41f76126fab4      0   59\n",
       "1       00097b5304ac028d14ec093cba2c41f76126fab4      1    1\n",
       "2       00097b5304ac028d14ec093cba2c41f76126fab4      2    4\n",
       "3       00097b5304ac028d14ec093cba2c41f76126fab4      3    1\n",
       "4       00097b5304ac028d14ec093cba2c41f76126fab4      4    2\n",
       "...                                          ...    ...  ...\n",
       "287298  ffe49fb47ef4028061866472b8e9201763cc1816     24    1\n",
       "287299  ffe49fb47ef4028061866472b8e9201763cc1816     25    2\n",
       "287300  ffe49fb47ef4028061866472b8e9201763cc1816     26    1\n",
       "287301  ffe49fb47ef4028061866472b8e9201763cc1816     27    3\n",
       "287302  ffe49fb47ef4028061866472b8e9201763cc1816     28    1\n",
       "\n",
       "[287303 rows x 3 columns]"
      ]
     },
     "execution_count": 235,
     "metadata": {},
     "output_type": "execute_result"
    }
   ],
   "source": [
    "# counting the number of gaps\n",
    "temp = usage.groupby(['user', 'times']).agg('count').day.reset_index()\n",
    "temp"
   ]
  },
  {
   "cell_type": "code",
   "execution_count": 236,
   "metadata": {},
   "outputs": [
    {
     "data": {
      "text/plain": [
       "user\n",
       "00097b5304ac028d14ec093cba2c41f76126fab4     58\n",
       "002b862b2604247ecfe7c9dc9d5fa41811a93d3e     11\n",
       "0036892c09cc30ab1dec9999eb43189af4dd71b4      1\n",
       "0040b11703e9dd8d7c8e5b8b46f64d20b642eb71    101\n",
       "0048bc445cdbff2bba4963af21e881c8645a6cdb      3\n",
       "                                           ... \n",
       "ffc89b8b577bf7c575197f8eeb4469db397d6e53      5\n",
       "ffccfd84cbe0dc72d54fb866e3d1592ff40a85cd     61\n",
       "ffdaf16d61f651749c33b8491b487968bff99dba     60\n",
       "ffe1aaf5638976decbe985debc96af530b8ae63d      3\n",
       "ffe49fb47ef4028061866472b8e9201763cc1816     42\n",
       "Name: day, Length: 5149, dtype: int64"
      ]
     },
     "execution_count": 236,
     "metadata": {},
     "output_type": "execute_result"
    }
   ],
   "source": [
    "# finding the longest not usage for each user\n",
    "output = temp.groupby('user').day.agg('max')-1\n",
    "output"
   ]
  },
  {
   "cell_type": "code",
   "execution_count": 237,
   "metadata": {},
   "outputs": [
    {
     "data": {
      "text/plain": [
       "<matplotlib.axes._subplots.AxesSubplot at 0x2480c437940>"
      ]
     },
     "execution_count": 237,
     "metadata": {},
     "output_type": "execute_result"
    },
    {
     "data": {
      "image/png": "[encoded data removed]",
      "text/plain": [
       "<Figure size 432x288 with 1 Axes>"
      ]
     },
     "metadata": {
      "needs_background": "light"
     },
     "output_type": "display_data"
    }
   ],
   "source": [
    "sns.distplot(output, hist=False)"
   ]
  },
  {
   "cell_type": "code",
   "execution_count": 238,
   "metadata": {},
   "outputs": [
    {
     "name": "stdout",
     "output_type": "stream",
     "text": [
      "the min of user longest day not being usaged: 0\n",
      "the 25% of user longest day not being usaged: 6.0\n",
      "the median of user longest day not being usaged: 23.0\n",
      "the max of user longest day not being usaged: 272\n"
     ]
    }
   ],
   "source": [
    "print('the min of user longest day not being usaged:', output.min())\n",
    "print('the 25% of user longest day not being usaged:', output.quantile(0.25))\n",
    "print('the median of user longest day not being usaged:', output.median())\n",
    "print('the max of user longest day not being usaged:', output.max())"
   ]
  },
  {
   "cell_type": "markdown",
   "metadata": {},
   "source": [
    "### LSTM"
   ]
  },
  {
   "cell_type": "code",
   "execution_count": 12,
   "metadata": {},
   "outputs": [
    {
     "data": {
      "text/plain": [
       "Index(['00097b5304ac028d14ec093cba2c41f76126fab4',\n",
       "       '002b862b2604247ecfe7c9dc9d5fa41811a93d3e',\n",
       "       '0040b11703e9dd8d7c8e5b8b46f64d20b642eb71',\n",
       "       '00510bfdb09f06057ffebc04b259a673dc38cb8b',\n",
       "       '0074824c7bc3ebea47f098c670947fe1422d5ad0',\n",
       "       '008092a153c4933e5dfba5aabee2ea97c13a9620',\n",
       "       '008bcb6164ffbf3839c8511b07412b4ded4d5ce1',\n",
       "       '008dff2bb55d5aef4de4a2a772a3a86cb1d7ba80',\n",
       "       '00a209930462551cd6c6c6d4ac2461c7ba4059f0',\n",
       "       '00a78f39b2e295511861f850fd615747da093f5e',\n",
       "       ...\n",
       "       'ff4b3757e1734915ed792ec263367e83cf23e001',\n",
       "       'ff4e797b3070a03b407d575b08bff2fcd34b4611',\n",
       "       'ff676ba20aebc67bad5a928e35ed1c79245f723c',\n",
       "       'ff8c164e2af86297808dc85284cf2859f55ea575',\n",
       "       'ff9df310b54a6849007a45c971d8a4486e734a71',\n",
       "       'ffb90d5525e7cae30e99139294e8749549e7ab5b',\n",
       "       'ffbcc708001792de7a6491ca45e87bae65b02564',\n",
       "       'ffccfd84cbe0dc72d54fb866e3d1592ff40a85cd',\n",
       "       'ffdaf16d61f651749c33b8491b487968bff99dba',\n",
       "       'ffe49fb47ef4028061866472b8e9201763cc1816'],\n",
       "      dtype='object', name='user', length=3559)"
      ]
     },
     "execution_count": 12,
     "metadata": {},
     "output_type": "execute_result"
    }
   ],
   "source": [
    "# query the members who do have greater 8 days not usage\n",
    "mem_list = output[output > 8].index\n",
    "mem_list"
   ]
  },
  {
   "cell_type": "code",
   "execution_count": 158,
   "metadata": {
    "scrolled": false
   },
   "outputs": [
    {
     "data": {
      "text/html": [
       "<div>\n",
       "<style scoped>\n",
       "    .dataframe tbody tr th:only-of-type {\n",
       "        vertical-align: middle;\n",
       "    }\n",
       "\n",
       "    .dataframe tbody tr th {\n",
       "        vertical-align: top;\n",
       "    }\n",
       "\n",
       "    .dataframe thead th {\n",
       "        text-align: right;\n",
       "    }\n",
       "</style>\n",
       "<table border=\"1\" class=\"dataframe\">\n",
       "  <thead>\n",
       "    <tr style=\"text-align: right;\">\n",
       "      <th></th>\n",
       "      <th>user</th>\n",
       "      <th>day</th>\n",
       "      <th>usage</th>\n",
       "      <th>age</th>\n",
       "      <th>gender</th>\n",
       "    </tr>\n",
       "  </thead>\n",
       "  <tbody>\n",
       "    <tr>\n",
       "      <th>0</th>\n",
       "      <td>00097b5304ac028d14ec093cba2c41f76126fab4</td>\n",
       "      <td>0</td>\n",
       "      <td>0</td>\n",
       "      <td>67</td>\n",
       "      <td>0</td>\n",
       "    </tr>\n",
       "    <tr>\n",
       "      <th>1</th>\n",
       "      <td>00097b5304ac028d14ec093cba2c41f76126fab4</td>\n",
       "      <td>1</td>\n",
       "      <td>0</td>\n",
       "      <td>67</td>\n",
       "      <td>0</td>\n",
       "    </tr>\n",
       "    <tr>\n",
       "      <th>2</th>\n",
       "      <td>00097b5304ac028d14ec093cba2c41f76126fab4</td>\n",
       "      <td>2</td>\n",
       "      <td>0</td>\n",
       "      <td>67</td>\n",
       "      <td>0</td>\n",
       "    </tr>\n",
       "    <tr>\n",
       "      <th>3</th>\n",
       "      <td>00097b5304ac028d14ec093cba2c41f76126fab4</td>\n",
       "      <td>3</td>\n",
       "      <td>0</td>\n",
       "      <td>67</td>\n",
       "      <td>0</td>\n",
       "    </tr>\n",
       "    <tr>\n",
       "      <th>4</th>\n",
       "      <td>00097b5304ac028d14ec093cba2c41f76126fab4</td>\n",
       "      <td>4</td>\n",
       "      <td>0</td>\n",
       "      <td>67</td>\n",
       "      <td>0</td>\n",
       "    </tr>\n",
       "    <tr>\n",
       "      <th>5</th>\n",
       "      <td>00097b5304ac028d14ec093cba2c41f76126fab4</td>\n",
       "      <td>5</td>\n",
       "      <td>0</td>\n",
       "      <td>67</td>\n",
       "      <td>0</td>\n",
       "    </tr>\n",
       "    <tr>\n",
       "      <th>6</th>\n",
       "      <td>00097b5304ac028d14ec093cba2c41f76126fab4</td>\n",
       "      <td>6</td>\n",
       "      <td>0</td>\n",
       "      <td>67</td>\n",
       "      <td>0</td>\n",
       "    </tr>\n",
       "    <tr>\n",
       "      <th>7</th>\n",
       "      <td>00097b5304ac028d14ec093cba2c41f76126fab4</td>\n",
       "      <td>7</td>\n",
       "      <td>0</td>\n",
       "      <td>67</td>\n",
       "      <td>0</td>\n",
       "    </tr>\n",
       "    <tr>\n",
       "      <th>8</th>\n",
       "      <td>002b862b2604247ecfe7c9dc9d5fa41811a93d3e</td>\n",
       "      <td>0</td>\n",
       "      <td>1</td>\n",
       "      <td>55</td>\n",
       "      <td>1</td>\n",
       "    </tr>\n",
       "    <tr>\n",
       "      <th>9</th>\n",
       "      <td>002b862b2604247ecfe7c9dc9d5fa41811a93d3e</td>\n",
       "      <td>1</td>\n",
       "      <td>1</td>\n",
       "      <td>55</td>\n",
       "      <td>1</td>\n",
       "    </tr>\n",
       "    <tr>\n",
       "      <th>10</th>\n",
       "      <td>002b862b2604247ecfe7c9dc9d5fa41811a93d3e</td>\n",
       "      <td>2</td>\n",
       "      <td>1</td>\n",
       "      <td>55</td>\n",
       "      <td>1</td>\n",
       "    </tr>\n",
       "    <tr>\n",
       "      <th>11</th>\n",
       "      <td>002b862b2604247ecfe7c9dc9d5fa41811a93d3e</td>\n",
       "      <td>3</td>\n",
       "      <td>0</td>\n",
       "      <td>55</td>\n",
       "      <td>1</td>\n",
       "    </tr>\n",
       "    <tr>\n",
       "      <th>12</th>\n",
       "      <td>002b862b2604247ecfe7c9dc9d5fa41811a93d3e</td>\n",
       "      <td>4</td>\n",
       "      <td>1</td>\n",
       "      <td>55</td>\n",
       "      <td>1</td>\n",
       "    </tr>\n",
       "    <tr>\n",
       "      <th>13</th>\n",
       "      <td>002b862b2604247ecfe7c9dc9d5fa41811a93d3e</td>\n",
       "      <td>5</td>\n",
       "      <td>1</td>\n",
       "      <td>55</td>\n",
       "      <td>1</td>\n",
       "    </tr>\n",
       "    <tr>\n",
       "      <th>14</th>\n",
       "      <td>002b862b2604247ecfe7c9dc9d5fa41811a93d3e</td>\n",
       "      <td>6</td>\n",
       "      <td>0</td>\n",
       "      <td>55</td>\n",
       "      <td>1</td>\n",
       "    </tr>\n",
       "    <tr>\n",
       "      <th>15</th>\n",
       "      <td>002b862b2604247ecfe7c9dc9d5fa41811a93d3e</td>\n",
       "      <td>7</td>\n",
       "      <td>0</td>\n",
       "      <td>55</td>\n",
       "      <td>1</td>\n",
       "    </tr>\n",
       "  </tbody>\n",
       "</table>\n",
       "</div>"
      ],
      "text/plain": [
       "                                        user  day  usage  age  gender\n",
       "0   00097b5304ac028d14ec093cba2c41f76126fab4    0      0   67       0\n",
       "1   00097b5304ac028d14ec093cba2c41f76126fab4    1      0   67       0\n",
       "2   00097b5304ac028d14ec093cba2c41f76126fab4    2      0   67       0\n",
       "3   00097b5304ac028d14ec093cba2c41f76126fab4    3      0   67       0\n",
       "4   00097b5304ac028d14ec093cba2c41f76126fab4    4      0   67       0\n",
       "5   00097b5304ac028d14ec093cba2c41f76126fab4    5      0   67       0\n",
       "6   00097b5304ac028d14ec093cba2c41f76126fab4    6      0   67       0\n",
       "7   00097b5304ac028d14ec093cba2c41f76126fab4    7      0   67       0\n",
       "8   002b862b2604247ecfe7c9dc9d5fa41811a93d3e    0      1   55       1\n",
       "9   002b862b2604247ecfe7c9dc9d5fa41811a93d3e    1      1   55       1\n",
       "10  002b862b2604247ecfe7c9dc9d5fa41811a93d3e    2      1   55       1\n",
       "11  002b862b2604247ecfe7c9dc9d5fa41811a93d3e    3      0   55       1\n",
       "12  002b862b2604247ecfe7c9dc9d5fa41811a93d3e    4      1   55       1\n",
       "13  002b862b2604247ecfe7c9dc9d5fa41811a93d3e    5      1   55       1\n",
       "14  002b862b2604247ecfe7c9dc9d5fa41811a93d3e    6      0   55       1\n",
       "15  002b862b2604247ecfe7c9dc9d5fa41811a93d3e    7      0   55       1"
      ]
     },
     "execution_count": 158,
     "metadata": {},
     "output_type": "execute_result"
    }
   ],
   "source": [
    "# finding members' first 7 days usage info\n",
    "train_usage = usage[usage.user.isin(mem_list)].drop(['times'], axis=1).groupby('user').head(8)\n",
    "train_usage['day'] = list(range(8))*3559\n",
    "\n",
    "train_mem = mem[mem.user.isin(mem_list)]\n",
    "\n",
    "df = pd.merge(train_usage, train_mem, right_on='user', left_on='user')\n",
    "df.head(16)"
   ]
  },
  {
   "cell_type": "code",
   "execution_count": 160,
   "metadata": {},
   "outputs": [
    {
     "name": "stdout",
     "output_type": "stream",
     "text": [
      "(3559, 7, 4)\n",
      "(3559, 1)\n"
     ]
    }
   ],
   "source": [
    "X = df.query('day!=7').drop('user', axis=1)\n",
    "X = X.values.reshape((3559, 7, -1))\n",
    "print(X.shape)\n",
    "\n",
    "y = df.query('day==7').usage.values.reshape((3559, -1))\n",
    "print(y.shape)"
   ]
  },
  {
   "cell_type": "code",
   "execution_count": 75,
   "metadata": {},
   "outputs": [],
   "source": [
    "from keras import Sequential\n",
    "from keras.layers import Dense  \n",
    "from keras.layers import LSTM  \n",
    "from keras.layers import Dropout  \n",
    "from keras.models import Model\n",
    "from keras.layers import Add\n",
    "from keras.layers import Concatenate\n",
    "from keras.layers import Dense, concatenate, Input\n",
    "from keras.layers import LSTM\n",
    "from sklearn.model_selection import train_test_split"
   ]
  },
  {
   "cell_type": "code",
   "execution_count": 161,
   "metadata": {},
   "outputs": [],
   "source": [
    "X_train, X_test, y_train, y_test = train_test_split(X, y, test_size=0.33, random_state=42)"
   ]
  },
  {
   "cell_type": "code",
   "execution_count": 182,
   "metadata": {
    "scrolled": false
   },
   "outputs": [],
   "source": [
    "mdl_input1 = Input(shape=(7,2))\n",
    "\n",
    "x = LSTM(128, activation='tanh', return_sequences=True)(mdl_input1)\n",
    "x = Dropout(0.2)(x)\n",
    "mdl_input2 = Input(shape=(7,2))\n",
    "concat = Concatenate([x, mdl_input2])\n",
    "x = Dense(64)(x)\n",
    "output = Dense(1, activation='sigmoid')(x)\n",
    "\n",
    "model = Model([mdl_input1, mdl_input2], output)"
   ]
  },
  {
   "cell_type": "code",
   "execution_count": 183,
   "metadata": {},
   "outputs": [
    {
     "name": "stdout",
     "output_type": "stream",
     "text": [
      "Epoch 1/15\n",
      "17/17 [==============================] - 2s 30ms/step - loss: 0.6540 - accuracy: 0.6489 - val_loss: 0.6016 - val_accuracy: 0.7083\n",
      "Epoch 2/15\n",
      "17/17 [==============================] - 0s 9ms/step - loss: 0.5759 - accuracy: 0.7284 - val_loss: 0.5803 - val_accuracy: 0.7203\n",
      "Epoch 3/15\n",
      "17/17 [==============================] - 0s 9ms/step - loss: 0.5454 - accuracy: 0.7378 - val_loss: 0.5649 - val_accuracy: 0.7215\n",
      "Epoch 4/15\n",
      "17/17 [==============================] - 0s 9ms/step - loss: 0.5322 - accuracy: 0.7443 - val_loss: 0.5602 - val_accuracy: 0.7268\n",
      "Epoch 5/15\n",
      "17/17 [==============================] - 0s 9ms/step - loss: 0.5226 - accuracy: 0.7469 - val_loss: 0.5420 - val_accuracy: 0.7340\n",
      "Epoch 6/15\n",
      "17/17 [==============================] - 0s 9ms/step - loss: 0.5305 - accuracy: 0.7399 - val_loss: 0.5482 - val_accuracy: 0.7310\n",
      "Epoch 7/15\n",
      "17/17 [==============================] - 0s 9ms/step - loss: 0.5225 - accuracy: 0.7441 - val_loss: 0.5393 - val_accuracy: 0.7328\n",
      "Epoch 8/15\n",
      "17/17 [==============================] - 0s 9ms/step - loss: 0.5211 - accuracy: 0.7469 - val_loss: 0.5393 - val_accuracy: 0.7328\n",
      "Epoch 9/15\n",
      "17/17 [==============================] - 0s 9ms/step - loss: 0.5352 - accuracy: 0.7334 - val_loss: 0.5440 - val_accuracy: 0.7340\n",
      "Epoch 10/15\n",
      "17/17 [==============================] - 0s 9ms/step - loss: 0.5137 - accuracy: 0.7537 - val_loss: 0.5485 - val_accuracy: 0.7358\n",
      "Epoch 11/15\n",
      "17/17 [==============================] - 0s 9ms/step - loss: 0.5141 - accuracy: 0.7550 - val_loss: 0.5402 - val_accuracy: 0.7370\n",
      "Epoch 12/15\n",
      "17/17 [==============================] - 0s 9ms/step - loss: 0.5153 - accuracy: 0.7445 - val_loss: 0.5405 - val_accuracy: 0.7364\n",
      "Epoch 13/15\n",
      "17/17 [==============================] - 0s 9ms/step - loss: 0.5056 - accuracy: 0.7554 - val_loss: 0.5415 - val_accuracy: 0.7364\n",
      "Epoch 14/15\n",
      "17/17 [==============================] - 0s 9ms/step - loss: 0.5209 - accuracy: 0.7428 - val_loss: 0.5379 - val_accuracy: 0.7376\n",
      "Epoch 15/15\n",
      "17/17 [==============================] - 0s 9ms/step - loss: 0.5196 - accuracy: 0.7467 - val_loss: 0.5429 - val_accuracy: 0.7376\n"
     ]
    },
    {
     "data": {
      "text/plain": [
       "<tensorflow.python.keras.callbacks.History at 0x2481cfff128>"
      ]
     },
     "execution_count": 183,
     "metadata": {},
     "output_type": "execute_result"
    }
   ],
   "source": [
    "model.compile(loss = 'binary_crossentropy', optimizer = 'adam', metrics = ['accuracy'])\n",
    "model.fit([X_train[:,:,0:2], X_train[:,:,2:4]], y_train, batch_size=128, epochs=15, validation_split=0.1)"
   ]
  },
  {
   "cell_type": "code",
   "execution_count": 198,
   "metadata": {},
   "outputs": [
    {
     "data": {
      "text/plain": [
       "array([[0.21532252],\n",
       "       [0.44418183],\n",
       "       [0.44418183],\n",
       "       ...,\n",
       "       [0.44418183],\n",
       "       [0.44418183],\n",
       "       [0.21532252]], dtype=float32)"
      ]
     },
     "execution_count": 198,
     "metadata": {},
     "output_type": "execute_result"
    }
   ],
   "source": [
    "pred = model.predict([X_test[:,:,0:2], X_test[:,:,2:4]])[:, 0, :]\n",
    "pred"
   ]
  },
  {
   "cell_type": "code",
   "execution_count": 232,
   "metadata": {},
   "outputs": [],
   "source": [
    "from sklearn.metrics import precision_recall_curve, f1_score, roc_curve, auc, roc_auc_score, confusion_matrix, accuracy_score, plot_precision_recall_curve"
   ]
  },
  {
   "cell_type": "code",
   "execution_count": 201,
   "metadata": {},
   "outputs": [
    {
     "name": "stdout",
     "output_type": "stream",
     "text": [
      "[0.31574468 0.43067847 1.        ] [1.         0.78706199 0.        ] [0.21532252 0.44418183]\n"
     ]
    }
   ],
   "source": [
    "precision, recall, thresholds = precision_recall_curve(y_test, pred)\n",
    "print(precision, recall, thresholds)"
   ]
  },
  {
   "cell_type": "code",
   "execution_count": 217,
   "metadata": {},
   "outputs": [
    {
     "name": "stdout",
     "output_type": "stream",
     "text": [
      "area of precision and recall 0.642487251619526\n"
     ]
    }
   ],
   "source": [
    "aucpr = auc(recall, precision)\n",
    "print('area of precision and recall', aucpr)"
   ]
  },
  {
   "cell_type": "code",
   "execution_count": 196,
   "metadata": {},
   "outputs": [
    {
     "data": {
      "text/plain": [
       "array([0.47994825, 0.55672069, 0.        ])"
      ]
     },
     "execution_count": 196,
     "metadata": {},
     "output_type": "execute_result"
    }
   ],
   "source": [
    "f1 = (2 * precision * recall) / (precision + recall)\n",
    "f1"
   ]
  },
  {
   "cell_type": "code",
   "execution_count": 239,
   "metadata": {},
   "outputs": [],
   "source": [
    "y_pred = [1 if i >= 0.5  else 0 for i in pred]"
   ]
  },
  {
   "cell_type": "code",
   "execution_count": 240,
   "metadata": {},
   "outputs": [
    {
     "name": "stdout",
     "output_type": "stream",
     "text": [
      "accuracy 0.6842553191489362\n"
     ]
    }
   ],
   "source": [
    "print('accuracy', accuracy_score(y_test, y_pred))"
   ]
  },
  {
   "cell_type": "code",
   "execution_count": 241,
   "metadata": {},
   "outputs": [
    {
     "name": "stdout",
     "output_type": "stream",
     "text": [
      "confusion matrix\n"
     ]
    },
    {
     "data": {
      "text/plain": [
       "array([[804,   0],\n",
       "       [371,   0]], dtype=int64)"
      ]
     },
     "execution_count": 241,
     "metadata": {},
     "output_type": "execute_result"
    }
   ],
   "source": [
    "conf = confusion_matrix(y_test, y_pred)\n",
    "print('confusion matrix')\n",
    "conf"
   ]
  },
  {
   "cell_type": "code",
   "execution_count": null,
   "metadata": {},
   "outputs": [],
   "source": []
  }
 ],
 "metadata": {
  "kernelspec": {
   "display_name": "Python 3",
   "language": "python",
   "name": "python3"
  },
  "language_info": {
   "codemirror_mode": {
    "name": "ipython",
    "version": 3
   },
   "file_extension": ".py",
   "mimetype": "text/x-python",
   "name": "python",
   "nbconvert_exporter": "python",
   "pygments_lexer": "ipython3",
   "version": "3.7.3"
  }
 },
 "nbformat": 4,
 "nbformat_minor": 2
}
