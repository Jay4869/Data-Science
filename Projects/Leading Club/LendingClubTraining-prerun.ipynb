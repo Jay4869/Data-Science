{
 "cells": [
  {
   "cell_type": "markdown",
   "metadata": {},
   "source": [
    "# *Lending Club Training*\n",
    "\n",
    "In this tutorial, we will go through a step-by-step workflow to determine loan deliquency.  Predictions are made based on the information available at the time the loan was issued.  Our data is a portion of the public Lending Club dataset."
   ]
  },
  {
   "cell_type": "markdown",
   "metadata": {},
   "source": [
    "## Workflow\n",
    "\n",
    "1. Start H2O-3 cluster\n",
    "2. Import data\n",
    "3. Clean data\n",
    "4. Feature engineering\n",
    "5. Model training\n",
    "6. Examine model accuracy\n",
    "7. Interpret model\n",
    "8. Save and reuse model\n",
    "9. AutoML (optional)\n",
    "10. Stop H2O-3 cluster"
   ]
  },
  {
   "cell_type": "markdown",
   "metadata": {},
   "source": [
    "# Step 1 (of 10). Start H2O-3 cluster"
   ]
  },
  {
   "cell_type": "code",
   "execution_count": 1,
   "metadata": {},
   "outputs": [
    {
     "name": "stdout",
     "output_type": "stream",
     "text": [
      "Checking whether there is an H2O instance running at http://localhost:54321..... not found.\n",
      "Attempting to start a local H2O server...\n",
      "  Java Version: java version \"1.8.0_181\"; Java(TM) SE Runtime Environment (build 1.8.0_181-b13); Java HotSpot(TM) 64-Bit Server VM (build 25.181-b13, mixed mode)\n",
      "  Starting server from /Users/vaclav/Software/anaconda3/envs/h2o/lib/python3.6/site-packages/h2o/backend/bin/h2o.jar\n",
      "  Ice root: /var/folders/3v/0m8rhn8d417_8y2drh1dpwrh0000gn/T/tmpt7yamp4z\n",
      "  JVM stdout: /var/folders/3v/0m8rhn8d417_8y2drh1dpwrh0000gn/T/tmpt7yamp4z/h2o_vaclav_started_from_python.out\n",
      "  JVM stderr: /var/folders/3v/0m8rhn8d417_8y2drh1dpwrh0000gn/T/tmpt7yamp4z/h2o_vaclav_started_from_python.err\n",
      "  Server is running at http://127.0.0.1:54321\n",
      "Connecting to H2O server at http://127.0.0.1:54321... successful.\n"
     ]
    },
    {
     "data": {
      "text/html": [
       "<div style=\"overflow:auto\"><table style=\"width:50%\"><tr><td>H2O cluster uptime:</td>\n",
       "<td>02 secs</td></tr>\n",
       "<tr><td>H2O cluster timezone:</td>\n",
       "<td>Europe/Prague</td></tr>\n",
       "<tr><td>H2O data parsing timezone:</td>\n",
       "<td>UTC</td></tr>\n",
       "<tr><td>H2O cluster version:</td>\n",
       "<td>3.22.0.2</td></tr>\n",
       "<tr><td>H2O cluster version age:</td>\n",
       "<td>7 days, 8 hours and 2 minutes </td></tr>\n",
       "<tr><td>H2O cluster name:</td>\n",
       "<td>H2O_from_python_vaclav_qcmewy</td></tr>\n",
       "<tr><td>H2O cluster total nodes:</td>\n",
       "<td>1</td></tr>\n",
       "<tr><td>H2O cluster free memory:</td>\n",
       "<td>3.556 Gb</td></tr>\n",
       "<tr><td>H2O cluster total cores:</td>\n",
       "<td>8</td></tr>\n",
       "<tr><td>H2O cluster allowed cores:</td>\n",
       "<td>8</td></tr>\n",
       "<tr><td>H2O cluster status:</td>\n",
       "<td>accepting new members, healthy</td></tr>\n",
       "<tr><td>H2O connection url:</td>\n",
       "<td>http://127.0.0.1:54321</td></tr>\n",
       "<tr><td>H2O connection proxy:</td>\n",
       "<td>None</td></tr>\n",
       "<tr><td>H2O internal security:</td>\n",
       "<td>False</td></tr>\n",
       "<tr><td>H2O API Extensions:</td>\n",
       "<td>XGBoost, Algos, AutoML, Core V3, Core V4</td></tr>\n",
       "<tr><td>Python version:</td>\n",
       "<td>3.6.6 final</td></tr></table></div>"
      ],
      "text/plain": [
       "--------------------------  ----------------------------------------\n",
       "H2O cluster uptime:         02 secs\n",
       "H2O cluster timezone:       Europe/Prague\n",
       "H2O data parsing timezone:  UTC\n",
       "H2O cluster version:        3.22.0.2\n",
       "H2O cluster version age:    7 days, 8 hours and 2 minutes\n",
       "H2O cluster name:           H2O_from_python_vaclav_qcmewy\n",
       "H2O cluster total nodes:    1\n",
       "H2O cluster free memory:    3.556 Gb\n",
       "H2O cluster total cores:    8\n",
       "H2O cluster allowed cores:  8\n",
       "H2O cluster status:         accepting new members, healthy\n",
       "H2O connection url:         http://127.0.0.1:54321\n",
       "H2O connection proxy:\n",
       "H2O internal security:      False\n",
       "H2O API Extensions:         XGBoost, Algos, AutoML, Core V3, Core V4\n",
       "Python version:             3.6.6 final\n",
       "--------------------------  ----------------------------------------"
      ]
     },
     "metadata": {},
     "output_type": "display_data"
    }
   ],
   "source": [
    "import h2o\n",
    "h2o.init(bind_to_localhost=False)  # run and expose the cluster to the Internet"
   ]
  },
  {
   "cell_type": "markdown",
   "metadata": {},
   "source": [
    "# Step 2 (of 10). Import data\n",
    "\n",
    "### View Data"
   ]
  },
  {
   "cell_type": "code",
   "execution_count": 3,
   "metadata": {},
   "outputs": [
    {
     "name": "stdout",
     "output_type": "stream",
     "text": [
      "Parse progress: |█████████████████████████████████████████████████████████| 100%\n"
     ]
    }
   ],
   "source": [
    "# https://s3-us-west-2.amazonaws.com/h2o-tutorials/data/topics/lending/lending_club/LoanStats3a.csv\n",
    "# Desc: https://www.kaggle.com/pragyanbo/a-hitchhiker-s-guide-to-lending-club-loan-data/notebook\n",
    "loans = h2o.import_file(\"../../data/topics/lending/lending_club/LoanStats3a.csv\",\n",
    "                        col_types = {\"int_rate\":\"string\", \n",
    "                                     \"revol_util\":\"string\", \n",
    "                                     \"emp_length\":\"string\", \n",
    "                                     \"verification_status\":\"string\"})"
   ]
  },
  {
   "cell_type": "code",
   "execution_count": 4,
   "metadata": {},
   "outputs": [
    {
     "data": {
      "text/plain": [
       "[42536, 52]"
      ]
     },
     "execution_count": 4,
     "metadata": {},
     "output_type": "execute_result"
    }
   ],
   "source": [
    "loans.dim"
   ]
  },
  {
   "cell_type": "code",
   "execution_count": 5,
   "metadata": {},
   "outputs": [
    {
     "data": {
      "text/html": [
       "<table>\n",
       "<thead>\n",
       "<tr><th style=\"text-align: right;\">         id</th><th style=\"text-align: right;\">  member_id</th><th style=\"text-align: right;\">  loan_amnt</th><th style=\"text-align: right;\">  funded_amnt</th><th style=\"text-align: right;\">  funded_amnt_inv</th><th>term     </th><th>int_rate  </th><th style=\"text-align: right;\">  installment</th><th>grade  </th><th>sub_grade  </th><th>emp_title                </th><th>emp_length  </th><th>home_ownership  </th><th style=\"text-align: right;\">  annual_inc</th><th>verification_status     </th><th>issue_d            </th><th>loan_status  </th><th>pymnt_plan  </th><th>url                                                                 </th><th>desc                                                                                                                                                                                                                                                                                                                                                                                                                                                                                                                                                                                                        </th><th>purpose           </th><th>title                                </th><th>zip_code  </th><th>addr_state  </th><th style=\"text-align: right;\">  dti</th><th style=\"text-align: right;\">  delinq_2yrs</th><th>earliest_cr_line   </th><th style=\"text-align: right;\">  inq_last_6mths</th><th>mths_since_last_delinq  </th><th>mths_since_last_record  </th><th style=\"text-align: right;\">  open_acc</th><th style=\"text-align: right;\">  pub_rec</th><th style=\"text-align: right;\">  revol_bal</th><th>revol_util  </th><th style=\"text-align: right;\">  total_acc</th><th>initial_list_status  </th><th style=\"text-align: right;\">  out_prncp</th><th style=\"text-align: right;\">  out_prncp_inv</th><th style=\"text-align: right;\">  total_pymnt</th><th style=\"text-align: right;\">  total_pymnt_inv</th><th style=\"text-align: right;\">  total_rec_prncp</th><th style=\"text-align: right;\">  total_rec_int</th><th style=\"text-align: right;\">  total_rec_late_fee</th><th style=\"text-align: right;\">  recoveries</th><th style=\"text-align: right;\">  collection_recovery_fee</th><th>last_pymnt_d       </th><th style=\"text-align: right;\">  last_pymnt_amnt</th><th>next_pymnt_d       </th><th>last_credit_pull_d  </th><th style=\"text-align: right;\">  collections_12_mths_ex_med</th><th>mths_since_last_major_derog  </th><th style=\"text-align: right;\">  policy_code</th></tr>\n",
       "</thead>\n",
       "<tbody>\n",
       "<tr><td style=\"text-align: right;\">1.0775e+06 </td><td style=\"text-align: right;\">1.2966e+06 </td><td style=\"text-align: right;\">       5000</td><td style=\"text-align: right;\">         5000</td><td style=\"text-align: right;\">             4975</td><td>36 months</td><td>10.65%    </td><td style=\"text-align: right;\">       162.87</td><td>B      </td><td>B2         </td><td>                         </td><td>10+ years   </td><td>RENT            </td><td style=\"text-align: right;\">       24000</td><td>VERIFIED - income       </td><td>2011-12-01 00:00:00</td><td>Fully Paid   </td><td>n           </td><td>https://www.lendingclub.com/browse/loanDetail.action?loan_id=1077501</td><td>Borrower added on 12/22/11 > I need to upgrade my business technologies.<br>                                                                                                                                                                                                                                                                                                                                                                                                                                                                                                                                </td><td>credit_card       </td><td>Computer                             </td><td>860xx     </td><td>AZ          </td><td style=\"text-align: right;\">27.65</td><td style=\"text-align: right;\">            0</td><td>1985-01-01 00:00:00</td><td style=\"text-align: right;\">               1</td><td>                        </td><td>                        </td><td style=\"text-align: right;\">         3</td><td style=\"text-align: right;\">        0</td><td style=\"text-align: right;\">      13648</td><td>83.7%       </td><td style=\"text-align: right;\">          9</td><td>f                    </td><td style=\"text-align: right;\">       0   </td><td style=\"text-align: right;\">           0   </td><td style=\"text-align: right;\">      5861.07</td><td style=\"text-align: right;\">          5831.78</td><td style=\"text-align: right;\">          5000   </td><td style=\"text-align: right;\">         861.07</td><td style=\"text-align: right;\">                0   </td><td style=\"text-align: right;\">        0   </td><td style=\"text-align: right;\">                     0   </td><td>2015-01-01 00:00:00</td><td style=\"text-align: right;\">           171.62</td><td>                   </td><td>2015-01-01 00:00:00 </td><td style=\"text-align: right;\">                           0</td><td>                             </td><td style=\"text-align: right;\">            1</td></tr>\n",
       "<tr><td style=\"text-align: right;\">1.07743e+06</td><td style=\"text-align: right;\">1.31417e+06</td><td style=\"text-align: right;\">       2500</td><td style=\"text-align: right;\">         2500</td><td style=\"text-align: right;\">             2500</td><td>60 months</td><td>15.27%    </td><td style=\"text-align: right;\">        59.83</td><td>C      </td><td>C4         </td><td>Ryder                    </td><td>< 1 year    </td><td>RENT            </td><td style=\"text-align: right;\">       30000</td><td>VERIFIED - income source</td><td>2011-12-01 00:00:00</td><td>Charged Off  </td><td>n           </td><td>https://www.lendingclub.com/browse/loanDetail.action?loan_id=1077430</td><td>Borrower added on 12/22/11 > I plan to use this money to finance the motorcycle i am looking at. I plan to have it paid off as soon as possible/when i sell my old bike. I only need this money because the deal im looking at is to good to pass up.<br><br>  Borrower added on 12/22/11 > I plan to use this money to finance the motorcycle i am looking at. I plan to have it paid off as soon as possible/when i sell my old bike.I only need this money because the deal im looking at is to good to pass up. I have finished college with an associates degree in business and its takingmeplaces<br></td><td>car               </td><td>bike                                 </td><td>309xx     </td><td>GA          </td><td style=\"text-align: right;\"> 1   </td><td style=\"text-align: right;\">            0</td><td>1999-04-01 00:00:00</td><td style=\"text-align: right;\">               5</td><td>                        </td><td>                        </td><td style=\"text-align: right;\">         3</td><td style=\"text-align: right;\">        0</td><td style=\"text-align: right;\">       1687</td><td>9.4%        </td><td style=\"text-align: right;\">          4</td><td>f                    </td><td style=\"text-align: right;\">       0   </td><td style=\"text-align: right;\">           0   </td><td style=\"text-align: right;\">      1008.71</td><td style=\"text-align: right;\">          1008.71</td><td style=\"text-align: right;\">           456.46</td><td style=\"text-align: right;\">         435.17</td><td style=\"text-align: right;\">                0   </td><td style=\"text-align: right;\">      117.08</td><td style=\"text-align: right;\">                     1.11</td><td>2013-04-01 00:00:00</td><td style=\"text-align: right;\">           119.66</td><td>                   </td><td>2013-09-01 00:00:00 </td><td style=\"text-align: right;\">                           0</td><td>                             </td><td style=\"text-align: right;\">            1</td></tr>\n",
       "<tr><td style=\"text-align: right;\">1.07718e+06</td><td style=\"text-align: right;\">1.31352e+06</td><td style=\"text-align: right;\">       2400</td><td style=\"text-align: right;\">         2400</td><td style=\"text-align: right;\">             2400</td><td>36 months</td><td>15.96%    </td><td style=\"text-align: right;\">        84.33</td><td>C      </td><td>C5         </td><td>                         </td><td>10+ years   </td><td>RENT            </td><td style=\"text-align: right;\">       12252</td><td>not verified            </td><td>2011-12-01 00:00:00</td><td>Fully Paid   </td><td>n           </td><td>https://www.lendingclub.com/browse/loanDetail.action?loan_id=1077175</td><td>                                                                                                                                                                                                                                                                                                                                                                                                                                                                                                                                                                                                            </td><td>small_business    </td><td>real estate business                 </td><td>606xx     </td><td>IL          </td><td style=\"text-align: right;\"> 8.72</td><td style=\"text-align: right;\">            0</td><td>2001-11-01 00:00:00</td><td style=\"text-align: right;\">               2</td><td>                        </td><td>                        </td><td style=\"text-align: right;\">         2</td><td style=\"text-align: right;\">        0</td><td style=\"text-align: right;\">       2956</td><td>98.5%       </td><td style=\"text-align: right;\">         10</td><td>f                    </td><td style=\"text-align: right;\">       0   </td><td style=\"text-align: right;\">           0   </td><td style=\"text-align: right;\">      3003.65</td><td style=\"text-align: right;\">          3003.65</td><td style=\"text-align: right;\">          2400   </td><td style=\"text-align: right;\">         603.65</td><td style=\"text-align: right;\">                0   </td><td style=\"text-align: right;\">        0   </td><td style=\"text-align: right;\">                     0   </td><td>2014-06-01 00:00:00</td><td style=\"text-align: right;\">           649.91</td><td>                   </td><td>2015-06-01 00:00:00 </td><td style=\"text-align: right;\">                           0</td><td>                             </td><td style=\"text-align: right;\">            1</td></tr>\n",
       "<tr><td style=\"text-align: right;\">1.07686e+06</td><td style=\"text-align: right;\">1.27718e+06</td><td style=\"text-align: right;\">      10000</td><td style=\"text-align: right;\">        10000</td><td style=\"text-align: right;\">            10000</td><td>36 months</td><td>13.49%    </td><td style=\"text-align: right;\">       339.31</td><td>C      </td><td>C1         </td><td>AIR RESOURCES BOARD      </td><td>10+ years   </td><td>RENT            </td><td style=\"text-align: right;\">       49200</td><td>VERIFIED - income source</td><td>2011-12-01 00:00:00</td><td>Fully Paid   </td><td>n           </td><td>https://www.lendingclub.com/browse/loanDetail.action?loan_id=1076863</td><td>Borrower added on 12/21/11 > to pay for property tax (borrow from friend, need to pay back) & central A/C need to be replace. I'm very sorry to let my loan expired last time.<br>                                                                                                                                                                                                                                                                                                                                                                                                                          </td><td>other             </td><td>personel                             </td><td>917xx     </td><td>CA          </td><td style=\"text-align: right;\">20   </td><td style=\"text-align: right;\">            0</td><td>1996-02-01 00:00:00</td><td style=\"text-align: right;\">               1</td><td>35                      </td><td>                        </td><td style=\"text-align: right;\">        10</td><td style=\"text-align: right;\">        0</td><td style=\"text-align: right;\">       5598</td><td>21%         </td><td style=\"text-align: right;\">         37</td><td>f                    </td><td style=\"text-align: right;\">       0   </td><td style=\"text-align: right;\">           0   </td><td style=\"text-align: right;\">     12226.3 </td><td style=\"text-align: right;\">         12226.3 </td><td style=\"text-align: right;\">         10000   </td><td style=\"text-align: right;\">        2209.33</td><td style=\"text-align: right;\">               16.97</td><td style=\"text-align: right;\">        0   </td><td style=\"text-align: right;\">                     0   </td><td>2015-01-01 00:00:00</td><td style=\"text-align: right;\">           357.48</td><td>                   </td><td>2015-01-01 00:00:00 </td><td style=\"text-align: right;\">                           0</td><td>                             </td><td style=\"text-align: right;\">            1</td></tr>\n",
       "<tr><td style=\"text-align: right;\">1.07536e+06</td><td style=\"text-align: right;\">1.31175e+06</td><td style=\"text-align: right;\">       3000</td><td style=\"text-align: right;\">         3000</td><td style=\"text-align: right;\">             3000</td><td>60 months</td><td>12.69%    </td><td style=\"text-align: right;\">        67.79</td><td>B      </td><td>B5         </td><td>University Medical Group </td><td>1 year      </td><td>RENT            </td><td style=\"text-align: right;\">       80000</td><td>VERIFIED - income source</td><td>2011-12-01 00:00:00</td><td>Current      </td><td>n           </td><td>https://www.lendingclub.com/browse/loanDetail.action?loan_id=1075358</td><td>Borrower added on 12/21/11 > I plan on combining three large interest bills together and freeing up some extra each month to pay toward other bills.  I've always been a good payor but have found myself needing to make adjustments to my budget due to a medical scare. My job is very stable, I love it.<br>                                                                                                                                                                                                                                                                                            </td><td>other             </td><td>Personal                             </td><td>972xx     </td><td>OR          </td><td style=\"text-align: right;\">17.94</td><td style=\"text-align: right;\">            0</td><td>1996-01-01 00:00:00</td><td style=\"text-align: right;\">               0</td><td>38                      </td><td>                        </td><td style=\"text-align: right;\">        15</td><td style=\"text-align: right;\">        0</td><td style=\"text-align: right;\">      27783</td><td>53.9%       </td><td style=\"text-align: right;\">         38</td><td>f                    </td><td style=\"text-align: right;\">    1168.04</td><td style=\"text-align: right;\">        1168.04</td><td style=\"text-align: right;\">      2767.64</td><td style=\"text-align: right;\">          2767.64</td><td style=\"text-align: right;\">          1831.96</td><td style=\"text-align: right;\">         935.68</td><td style=\"text-align: right;\">                0   </td><td style=\"text-align: right;\">        0   </td><td style=\"text-align: right;\">                     0   </td><td>2015-06-01 00:00:00</td><td style=\"text-align: right;\">            67.79</td><td>2015-07-01 00:00:00</td><td>2015-06-01 00:00:00 </td><td style=\"text-align: right;\">                           0</td><td>                             </td><td style=\"text-align: right;\">            1</td></tr>\n",
       "<tr><td style=\"text-align: right;\">1.07527e+06</td><td style=\"text-align: right;\">1.31144e+06</td><td style=\"text-align: right;\">       5000</td><td style=\"text-align: right;\">         5000</td><td style=\"text-align: right;\">             5000</td><td>36 months</td><td>7.90%     </td><td style=\"text-align: right;\">       156.46</td><td>A      </td><td>A4         </td><td>Veolia Transportaton     </td><td>3 years     </td><td>RENT            </td><td style=\"text-align: right;\">       36000</td><td>VERIFIED - income source</td><td>2011-12-01 00:00:00</td><td>Fully Paid   </td><td>n           </td><td>https://www.lendingclub.com/browse/loanDetail.action?loan_id=1075269</td><td>                                                                                                                                                                                                                                                                                                                                                                                                                                                                                                                                                                                                            </td><td>wedding           </td><td>My wedding loan I promise to pay back</td><td>852xx     </td><td>AZ          </td><td style=\"text-align: right;\">11.2 </td><td style=\"text-align: right;\">            0</td><td>2004-11-01 00:00:00</td><td style=\"text-align: right;\">               3</td><td>                        </td><td>                        </td><td style=\"text-align: right;\">         9</td><td style=\"text-align: right;\">        0</td><td style=\"text-align: right;\">       7963</td><td>28.3%       </td><td style=\"text-align: right;\">         12</td><td>f                    </td><td style=\"text-align: right;\">       0   </td><td style=\"text-align: right;\">           0   </td><td style=\"text-align: right;\">      5631.38</td><td style=\"text-align: right;\">          5631.38</td><td style=\"text-align: right;\">          5000   </td><td style=\"text-align: right;\">         631.38</td><td style=\"text-align: right;\">                0   </td><td style=\"text-align: right;\">        0   </td><td style=\"text-align: right;\">                     0   </td><td>2015-01-01 00:00:00</td><td style=\"text-align: right;\">           161.03</td><td>                   </td><td>2015-06-01 00:00:00 </td><td style=\"text-align: right;\">                           0</td><td>                             </td><td style=\"text-align: right;\">            1</td></tr>\n",
       "<tr><td style=\"text-align: right;\">1.06964e+06</td><td style=\"text-align: right;\">1.30474e+06</td><td style=\"text-align: right;\">       7000</td><td style=\"text-align: right;\">         7000</td><td style=\"text-align: right;\">             7000</td><td>60 months</td><td>15.96%    </td><td style=\"text-align: right;\">       170.08</td><td>C      </td><td>C5         </td><td>Southern Star Photography</td><td>8 years     </td><td>RENT            </td><td style=\"text-align: right;\">       47004</td><td>not verified            </td><td>2011-12-01 00:00:00</td><td>Current      </td><td>n           </td><td>https://www.lendingclub.com/browse/loanDetail.action?loan_id=1069639</td><td>Borrower added on 12/18/11 > I am planning on using the funds to pay off two retail credit cards with 24.99% interest rates, as well as a major bank credit card with a 18.99% rate.  I pay all my bills on time, looking for a lower combined payment and lower monthly payment.<br>                                                                                                                                                                                                                                                                                                                       </td><td>debt_consolidation</td><td>Loan                                 </td><td>280xx     </td><td>NC          </td><td style=\"text-align: right;\">23.51</td><td style=\"text-align: right;\">            0</td><td>2005-07-01 00:00:00</td><td style=\"text-align: right;\">               1</td><td>                        </td><td>                        </td><td style=\"text-align: right;\">         7</td><td style=\"text-align: right;\">        0</td><td style=\"text-align: right;\">      17726</td><td>85.6%       </td><td style=\"text-align: right;\">         11</td><td>f                    </td><td style=\"text-align: right;\">    2853.21</td><td style=\"text-align: right;\">        2853.21</td><td style=\"text-align: right;\">      6946.28</td><td style=\"text-align: right;\">          6946.28</td><td style=\"text-align: right;\">          4146.8 </td><td style=\"text-align: right;\">        2799.48</td><td style=\"text-align: right;\">                0   </td><td style=\"text-align: right;\">        0   </td><td style=\"text-align: right;\">                     0   </td><td>2015-06-01 00:00:00</td><td style=\"text-align: right;\">           170.08</td><td>2015-08-01 00:00:00</td><td>2015-06-01 00:00:00 </td><td style=\"text-align: right;\">                           0</td><td>                             </td><td style=\"text-align: right;\">            1</td></tr>\n",
       "<tr><td style=\"text-align: right;\">1.07205e+06</td><td style=\"text-align: right;\">1.28869e+06</td><td style=\"text-align: right;\">       3000</td><td style=\"text-align: right;\">         3000</td><td style=\"text-align: right;\">             3000</td><td>36 months</td><td>18.64%    </td><td style=\"text-align: right;\">       109.43</td><td>E      </td><td>E1         </td><td>MKC Accounting           </td><td>9 years     </td><td>RENT            </td><td style=\"text-align: right;\">       48000</td><td>VERIFIED - income source</td><td>2011-12-01 00:00:00</td><td>Fully Paid   </td><td>n           </td><td>https://www.lendingclub.com/browse/loanDetail.action?loan_id=1072053</td><td>Borrower added on 12/16/11 > Downpayment for a car.<br>                                                                                                                                                                                                                                                                                                                                                                                                                                                                                                                                                     </td><td>car               </td><td>Car Downpayment                      </td><td>900xx     </td><td>CA          </td><td style=\"text-align: right;\"> 5.35</td><td style=\"text-align: right;\">            0</td><td>2007-01-01 00:00:00</td><td style=\"text-align: right;\">               2</td><td>                        </td><td>                        </td><td style=\"text-align: right;\">         4</td><td style=\"text-align: right;\">        0</td><td style=\"text-align: right;\">       8221</td><td>87.5%       </td><td style=\"text-align: right;\">          4</td><td>f                    </td><td style=\"text-align: right;\">       0   </td><td style=\"text-align: right;\">           0   </td><td style=\"text-align: right;\">      3938.14</td><td style=\"text-align: right;\">          3938.14</td><td style=\"text-align: right;\">          3000   </td><td style=\"text-align: right;\">         938.14</td><td style=\"text-align: right;\">                0   </td><td style=\"text-align: right;\">        0   </td><td style=\"text-align: right;\">                     0   </td><td>2015-01-01 00:00:00</td><td style=\"text-align: right;\">           111.34</td><td>                   </td><td>2014-12-01 00:00:00 </td><td style=\"text-align: right;\">                           0</td><td>                             </td><td style=\"text-align: right;\">            1</td></tr>\n",
       "<tr><td style=\"text-align: right;\">1.0718e+06 </td><td style=\"text-align: right;\">1.30696e+06</td><td style=\"text-align: right;\">       5600</td><td style=\"text-align: right;\">         5600</td><td style=\"text-align: right;\">             5600</td><td>60 months</td><td>21.28%    </td><td style=\"text-align: right;\">       152.39</td><td>F      </td><td>F2         </td><td>                         </td><td>4 years     </td><td>OWN             </td><td style=\"text-align: right;\">       40000</td><td>VERIFIED - income source</td><td>2011-12-01 00:00:00</td><td>Charged Off  </td><td>n           </td><td>https://www.lendingclub.com/browse/loanDetail.action?loan_id=1071795</td><td>Borrower added on 12/21/11 > I own a small home-based judgment collection business. I have 5 years experience collecting debts. I am now going from a home office to a small office. I also plan to buy a small debt portfolio (eg. $10K for $1M of debt) <br>My score is not A+ because I own my home and have no mortgage.<br>                                                                                                                                                                                                                                                                            </td><td>small_business    </td><td>Expand Business & Buy Debt Portfolio </td><td>958xx     </td><td>CA          </td><td style=\"text-align: right;\"> 5.55</td><td style=\"text-align: right;\">            0</td><td>2004-04-01 00:00:00</td><td style=\"text-align: right;\">               2</td><td>                        </td><td>                        </td><td style=\"text-align: right;\">        11</td><td style=\"text-align: right;\">        0</td><td style=\"text-align: right;\">       5210</td><td>32.6%       </td><td style=\"text-align: right;\">         13</td><td>f                    </td><td style=\"text-align: right;\">       0   </td><td style=\"text-align: right;\">           0   </td><td style=\"text-align: right;\">       646.02</td><td style=\"text-align: right;\">           646.02</td><td style=\"text-align: right;\">           162.02</td><td style=\"text-align: right;\">         294.94</td><td style=\"text-align: right;\">                0   </td><td style=\"text-align: right;\">      189.06</td><td style=\"text-align: right;\">                     2.09</td><td>2012-04-01 00:00:00</td><td style=\"text-align: right;\">           152.39</td><td>                   </td><td>2012-08-01 00:00:00 </td><td style=\"text-align: right;\">                           0</td><td>                             </td><td style=\"text-align: right;\">            1</td></tr>\n",
       "<tr><td style=\"text-align: right;\">1.07157e+06</td><td style=\"text-align: right;\">1.30672e+06</td><td style=\"text-align: right;\">       5375</td><td style=\"text-align: right;\">         5375</td><td style=\"text-align: right;\">             5350</td><td>60 months</td><td>12.69%    </td><td style=\"text-align: right;\">       121.45</td><td>B      </td><td>B5         </td><td>Starbucks                </td><td>< 1 year    </td><td>RENT            </td><td style=\"text-align: right;\">       15000</td><td>VERIFIED - income       </td><td>2011-12-01 00:00:00</td><td>Charged Off  </td><td>n           </td><td>https://www.lendingclub.com/browse/loanDetail.action?loan_id=1071570</td><td>Borrower added on 12/16/11 > I'm trying to build up my credit history. I live with my brother and have no car payment or credit cards. I am in community college and work full time. Im going to use the money to make some repairs around the house and get some maintenance done on my car.<br><br>  Borrower added on 12/20/11 > $1000 down only $4375 to go. Thanks to everyone that invested so far, looking forward to surprising my brother with the fixes around the house.<br>                                                                                                                     </td><td>other             </td><td>Building my credit history.          </td><td>774xx     </td><td>TX          </td><td style=\"text-align: right;\">18.08</td><td style=\"text-align: right;\">            0</td><td>2004-09-01 00:00:00</td><td style=\"text-align: right;\">               0</td><td>                        </td><td>                        </td><td style=\"text-align: right;\">         2</td><td style=\"text-align: right;\">        0</td><td style=\"text-align: right;\">       9279</td><td>36.5%       </td><td style=\"text-align: right;\">          3</td><td>f                    </td><td style=\"text-align: right;\">       0   </td><td style=\"text-align: right;\">           0   </td><td style=\"text-align: right;\">      1476.19</td><td style=\"text-align: right;\">          1469.34</td><td style=\"text-align: right;\">           673.48</td><td style=\"text-align: right;\">         533.42</td><td style=\"text-align: right;\">                0   </td><td style=\"text-align: right;\">      269.29</td><td style=\"text-align: right;\">                     2.52</td><td>2012-11-01 00:00:00</td><td style=\"text-align: right;\">           121.45</td><td>                   </td><td>2013-03-01 00:00:00 </td><td style=\"text-align: right;\">                           0</td><td>                             </td><td style=\"text-align: right;\">            1</td></tr>\n",
       "</tbody>\n",
       "</table>"
      ]
     },
     "metadata": {},
     "output_type": "display_data"
    },
    {
     "data": {
      "text/plain": []
     },
     "execution_count": 5,
     "metadata": {},
     "output_type": "execute_result"
    }
   ],
   "source": [
    "loans.head()"
   ]
  },
  {
   "cell_type": "markdown",
   "metadata": {},
   "source": [
    "### Filter Loans\n",
    "\n",
    "Now we will filter out loans that are ongoing.  These are loans with loan status like \"Current\" and \"In Grace Period\"."
   ]
  },
  {
   "cell_type": "code",
   "execution_count": 6,
   "metadata": {},
   "outputs": [
    {
     "data": {
      "text/plain": [
       "42536"
      ]
     },
     "execution_count": 6,
     "metadata": {},
     "output_type": "execute_result"
    }
   ],
   "source": [
    "num_unfiltered_loans = loans.dim[0]\n",
    "num_unfiltered_loans"
   ]
  },
  {
   "cell_type": "code",
   "execution_count": 7,
   "metadata": {},
   "outputs": [
    {
     "data": {
      "text/html": [
       "<table>\n",
       "<thead>\n",
       "<tr><th>loan_status                                             </th><th style=\"text-align: right;\">  Count</th></tr>\n",
       "</thead>\n",
       "<tbody>\n",
       "<tr><td>Charged Off                                             </td><td style=\"text-align: right;\">   5435</td></tr>\n",
       "<tr><td>Current                                                 </td><td style=\"text-align: right;\">   3351</td></tr>\n",
       "<tr><td>Default                                                 </td><td style=\"text-align: right;\">      7</td></tr>\n",
       "<tr><td>Does not meet the credit policy.  Status:Charged Off    </td><td style=\"text-align: right;\">    761</td></tr>\n",
       "<tr><td>Does not meet the credit policy.  Status:Current        </td><td style=\"text-align: right;\">     53</td></tr>\n",
       "<tr><td>Does not meet the credit policy.  Status:Fully Paid     </td><td style=\"text-align: right;\">   1933</td></tr>\n",
       "<tr><td>Does not meet the credit policy.  Status:In Grace Period</td><td style=\"text-align: right;\">      2</td></tr>\n",
       "<tr><td>Fully Paid                                              </td><td style=\"text-align: right;\">  30843</td></tr>\n",
       "<tr><td>In Grace Period                                         </td><td style=\"text-align: right;\">     60</td></tr>\n",
       "<tr><td>Late (16-30 days)                                       </td><td style=\"text-align: right;\">     16</td></tr>\n",
       "<tr><td>Late (31-120 days)                                      </td><td style=\"text-align: right;\">     74</td></tr>\n",
       "</tbody>\n",
       "</table>"
      ]
     },
     "metadata": {},
     "output_type": "display_data"
    },
    {
     "data": {
      "text/plain": []
     },
     "execution_count": 7,
     "metadata": {},
     "output_type": "execute_result"
    }
   ],
   "source": [
    "loans[\"loan_status\"].table().head(20)"
   ]
  },
  {
   "cell_type": "code",
   "execution_count": 8,
   "metadata": {},
   "outputs": [],
   "source": [
    "ongoing_status = [\"Current\",\n",
    "                  \"In Grace Period\",\n",
    "                  \"Late (16-30 days)\",\n",
    "                  \"Late (31-120 days)\"]\n",
    "loans = loans[~loans[\"loan_status\"].isin(ongoing_status)]"
   ]
  },
  {
   "cell_type": "code",
   "execution_count": 9,
   "metadata": {},
   "outputs": [
    {
     "data": {
      "text/plain": [
       "39035"
      ]
     },
     "execution_count": 9,
     "metadata": {},
     "output_type": "execute_result"
    }
   ],
   "source": [
    "num_filtered_loans = loans.dim[0]\n",
    "num_filtered_loans"
   ]
  },
  {
   "cell_type": "code",
   "execution_count": 10,
   "metadata": {},
   "outputs": [
    {
     "data": {
      "text/plain": [
       "3501"
      ]
     },
     "execution_count": 10,
     "metadata": {},
     "output_type": "execute_result"
    }
   ],
   "source": [
    "num_loans_filtered_out = num_unfiltered_loans - num_filtered_loans\n",
    "num_loans_filtered_out"
   ]
  },
  {
   "cell_type": "markdown",
   "metadata": {},
   "source": [
    "### Create Response Column\n",
    "\n",
    "Our response column will be called: `bad_loan`.  The `bad_loan` column will be positive if the loan was not completely paid off."
   ]
  },
  {
   "cell_type": "code",
   "execution_count": 11,
   "metadata": {},
   "outputs": [],
   "source": [
    "loans[\"bad_loan\"] = ~(loans[\"loan_status\"] == \"Fully Paid\")\n",
    "loans[\"bad_loan\"] = loans[\"bad_loan\"].asfactor() # convert to enum/factor"
   ]
  },
  {
   "cell_type": "code",
   "execution_count": 12,
   "metadata": {
    "scrolled": true
   },
   "outputs": [
    {
     "data": {
      "text/html": [
       "<table>\n",
       "<thead>\n",
       "<tr><th style=\"text-align: right;\">  bad_loan</th><th style=\"text-align: right;\">  Count</th><th style=\"text-align: right;\">  Percentage</th></tr>\n",
       "</thead>\n",
       "<tbody>\n",
       "<tr><td style=\"text-align: right;\">         0</td><td style=\"text-align: right;\">  30843</td><td style=\"text-align: right;\">          79</td></tr>\n",
       "<tr><td style=\"text-align: right;\">         1</td><td style=\"text-align: right;\">   8192</td><td style=\"text-align: right;\">          21</td></tr>\n",
       "</tbody>\n",
       "</table>"
      ]
     },
     "metadata": {},
     "output_type": "display_data"
    },
    {
     "data": {
      "text/plain": []
     },
     "execution_count": 12,
     "metadata": {},
     "output_type": "execute_result"
    }
   ],
   "source": [
    "bad_loan_dist = loans[\"bad_loan\"].table()\n",
    "bad_loan_dist[\"Percentage\"] = (100 * bad_loan_dist[\"Count\"] / loans.nrow).round()\n",
    "bad_loan_dist"
   ]
  },
  {
   "cell_type": "markdown",
   "metadata": {},
   "source": [
    "About one in five loans eventually become bad."
   ]
  },
  {
   "cell_type": "markdown",
   "metadata": {},
   "source": [
    "# Step 3 (of 10).  Clean data\n",
    "\n",
    "We have multiple columns that are numeric but are being treated as string because of their syntax.  In this section, we will convert these to numeric.  Our machine learning models will have a greater ability to understand numeric features than strings."
   ]
  },
  {
   "cell_type": "code",
   "execution_count": 13,
   "metadata": {},
   "outputs": [
    {
     "data": {
      "text/html": [
       "<table>\n",
       "<thead>\n",
       "<tr><th>int_rate  </th><th>revol_util  </th><th>emp_length  </th></tr>\n",
       "</thead>\n",
       "<tbody>\n",
       "<tr><td>10.65%    </td><td>83.7%       </td><td>10+ years   </td></tr>\n",
       "<tr><td>15.27%    </td><td>9.4%        </td><td>< 1 year    </td></tr>\n",
       "<tr><td>15.96%    </td><td>98.5%       </td><td>10+ years   </td></tr>\n",
       "<tr><td>13.49%    </td><td>21%         </td><td>10+ years   </td></tr>\n",
       "<tr><td>7.90%     </td><td>28.3%       </td><td>3 years     </td></tr>\n",
       "<tr><td>18.64%    </td><td>87.5%       </td><td>9 years     </td></tr>\n",
       "<tr><td>21.28%    </td><td>32.6%       </td><td>4 years     </td></tr>\n",
       "<tr><td>12.69%    </td><td>36.5%       </td><td>< 1 year    </td></tr>\n",
       "<tr><td>14.65%    </td><td>20.6%       </td><td>5 years     </td></tr>\n",
       "<tr><td>12.69%    </td><td>67.1%       </td><td>10+ years   </td></tr>\n",
       "</tbody>\n",
       "</table>"
      ]
     },
     "metadata": {},
     "output_type": "display_data"
    },
    {
     "data": {
      "text/plain": []
     },
     "execution_count": 13,
     "metadata": {},
     "output_type": "execute_result"
    }
   ],
   "source": [
    "loans[[\"int_rate\", \"revol_util\", \"emp_length\"]].head()"
   ]
  },
  {
   "cell_type": "code",
   "execution_count": 14,
   "metadata": {},
   "outputs": [],
   "source": [
    "# Convert int_rate to numeric\n",
    "loans[\"int_rate\"] = loans[\"int_rate\"].gsub(pattern = \"%\", replacement = \"\") # strip %\n",
    "loans[\"int_rate\"] = loans[\"int_rate\"].trim() # trim ws\n",
    "loans[\"int_rate\"] = loans[\"int_rate\"].asnumeric() # change to a numeric "
   ]
  },
  {
   "cell_type": "code",
   "execution_count": 15,
   "metadata": {},
   "outputs": [
    {
     "data": {
      "text/html": [
       "<table>\n",
       "<thead>\n",
       "<tr><th style=\"text-align: right;\">  int_rate</th></tr>\n",
       "</thead>\n",
       "<tbody>\n",
       "<tr><td style=\"text-align: right;\">     10.65</td></tr>\n",
       "<tr><td style=\"text-align: right;\">     15.27</td></tr>\n",
       "<tr><td style=\"text-align: right;\">     15.96</td></tr>\n",
       "<tr><td style=\"text-align: right;\">     13.49</td></tr>\n",
       "<tr><td style=\"text-align: right;\">      7.9 </td></tr>\n",
       "<tr><td style=\"text-align: right;\">     18.64</td></tr>\n",
       "<tr><td style=\"text-align: right;\">     21.28</td></tr>\n",
       "<tr><td style=\"text-align: right;\">     12.69</td></tr>\n",
       "<tr><td style=\"text-align: right;\">     14.65</td></tr>\n",
       "<tr><td style=\"text-align: right;\">     12.69</td></tr>\n",
       "</tbody>\n",
       "</table>"
      ]
     },
     "metadata": {},
     "output_type": "display_data"
    },
    {
     "data": {
      "text/plain": []
     },
     "execution_count": 15,
     "metadata": {},
     "output_type": "execute_result"
    }
   ],
   "source": [
    "loans[\"int_rate\"].head()"
   ]
  },
  {
   "cell_type": "markdown",
   "metadata": {},
   "source": [
    "Now that we have converted interest rate to numeric, we can use the `hist` function to see the distribution of interest rate for good loans and bad loans."
   ]
  },
  {
   "cell_type": "code",
   "execution_count": 16,
   "metadata": {},
   "outputs": [
    {
     "name": "stdout",
     "output_type": "stream",
     "text": [
      "Bad Loans\n"
     ]
    },
    {
     "name": "stderr",
     "output_type": "stream",
     "text": [
      "/Users/vaclav/Software/anaconda3/envs/h2o/lib/python3.6/site-packages/matplotlib/__init__.py:1867: MatplotlibDeprecationWarning: The *left* kwarg to `bar` is deprecated use *x* instead. Support for *left* will be removed in Matplotlib 3.0\n",
      "  return func(ax, *args, **kwargs)\n"
     ]
    },
    {
     "data": {
      "image/png": "[encoded data removed]",
      "text/plain": [
       "<Figure size 432x288 with 1 Axes>"
      ]
     },
     "metadata": {
      "needs_background": "light"
     },
     "output_type": "display_data"
    },
    {
     "name": "stdout",
     "output_type": "stream",
     "text": [
      "Good Loans\n"
     ]
    },
    {
     "name": "stderr",
     "output_type": "stream",
     "text": [
      "/Users/vaclav/Software/anaconda3/envs/h2o/lib/python3.6/site-packages/matplotlib/__init__.py:1867: MatplotlibDeprecationWarning: The *left* kwarg to `bar` is deprecated use *x* instead. Support for *left* will be removed in Matplotlib 3.0\n",
      "  return func(ax, *args, **kwargs)\n"
     ]
    },
    {
     "data": {
      "image/png": "[encoded data removed]",
      "text/plain": [
       "<Figure size 432x288 with 1 Axes>"
      ]
     },
     "metadata": {
      "needs_background": "light"
     },
     "output_type": "display_data"
    }
   ],
   "source": [
    "%matplotlib inline\n",
    "\n",
    "print(\"Bad Loans\")\n",
    "loans[loans[\"bad_loan\"] == \"1\", \"int_rate\"].hist()\n",
    "\n",
    "print(\"Good Loans\")\n",
    "loans[loans[\"bad_loan\"] == \"0\", \"int_rate\"].hist()"
   ]
  },
  {
   "cell_type": "markdown",
   "metadata": {},
   "source": [
    " The distribution of interest rate is very different for good loans.  This may be a helpful predictor in our model."
   ]
  },
  {
   "cell_type": "code",
   "execution_count": 17,
   "metadata": {},
   "outputs": [],
   "source": [
    "# Convert revol_util to numeric\n",
    "loans[\"revol_util\"] = loans[\"revol_util\"].gsub(pattern=\"%\", replacement=\"\") # strip %\n",
    "loans[\"revol_util\"] = loans[\"revol_util\"].trim() # trim ws\n",
    "loans[\"revol_util\"] = loans[\"revol_util\"].asnumeric() #change to a numeric "
   ]
  },
  {
   "cell_type": "code",
   "execution_count": 18,
   "metadata": {},
   "outputs": [],
   "source": [
    "# Convert emp_length to numeric\n",
    "# Use gsub to remove \" year\" and \" years\" also translate n/a to \"\" \n",
    "loans[\"emp_length\"] = loans[\"emp_length\"].gsub(pattern=\"([ ]*+[a-zA-Z].*)|(n/a)\", replacement=\"\") \n",
    "\n",
    "# Use trim to remove any trailing spaces \n",
    "loans[\"emp_length\"] = loans[\"emp_length\"].trim()\n",
    "\n",
    "# Convert emp_length to numeric \n",
    "# Use sub to convert < 1 to 0 years and do the same for 10 + to 10\n",
    "# Hint: Be mindful of spaces between characters\n",
    "loans[\"emp_length\"] = loans[\"emp_length\"].gsub(pattern=\"< 1\", replacement=\"0\")\n",
    "loans[\"emp_length\"] = loans[\"emp_length\"].gsub(pattern=\"10\\\\+\", replacement=\"10\")\n",
    "loans[\"emp_length\"] = loans[\"emp_length\"].asnumeric()"
   ]
  },
  {
   "cell_type": "code",
   "execution_count": 19,
   "metadata": {},
   "outputs": [
    {
     "data": {
      "text/html": [
       "<table>\n",
       "<thead>\n",
       "<tr><th style=\"text-align: right;\">  int_rate</th><th style=\"text-align: right;\">  revol_util</th><th style=\"text-align: right;\">  emp_length</th></tr>\n",
       "</thead>\n",
       "<tbody>\n",
       "<tr><td style=\"text-align: right;\">     10.65</td><td style=\"text-align: right;\">        83.7</td><td style=\"text-align: right;\">          10</td></tr>\n",
       "<tr><td style=\"text-align: right;\">     15.27</td><td style=\"text-align: right;\">         9.4</td><td style=\"text-align: right;\">           0</td></tr>\n",
       "<tr><td style=\"text-align: right;\">     15.96</td><td style=\"text-align: right;\">        98.5</td><td style=\"text-align: right;\">          10</td></tr>\n",
       "<tr><td style=\"text-align: right;\">     13.49</td><td style=\"text-align: right;\">        21  </td><td style=\"text-align: right;\">          10</td></tr>\n",
       "<tr><td style=\"text-align: right;\">      7.9 </td><td style=\"text-align: right;\">        28.3</td><td style=\"text-align: right;\">           3</td></tr>\n",
       "<tr><td style=\"text-align: right;\">     18.64</td><td style=\"text-align: right;\">        87.5</td><td style=\"text-align: right;\">           9</td></tr>\n",
       "<tr><td style=\"text-align: right;\">     21.28</td><td style=\"text-align: right;\">        32.6</td><td style=\"text-align: right;\">           4</td></tr>\n",
       "<tr><td style=\"text-align: right;\">     12.69</td><td style=\"text-align: right;\">        36.5</td><td style=\"text-align: right;\">           0</td></tr>\n",
       "<tr><td style=\"text-align: right;\">     14.65</td><td style=\"text-align: right;\">        20.6</td><td style=\"text-align: right;\">           5</td></tr>\n",
       "<tr><td style=\"text-align: right;\">     12.69</td><td style=\"text-align: right;\">        67.1</td><td style=\"text-align: right;\">          10</td></tr>\n",
       "</tbody>\n",
       "</table>"
      ]
     },
     "metadata": {},
     "output_type": "display_data"
    },
    {
     "data": {
      "text/plain": []
     },
     "execution_count": 19,
     "metadata": {},
     "output_type": "execute_result"
    }
   ],
   "source": [
    "loans[[\"int_rate\", \"revol_util\", \"emp_length\"]].head()"
   ]
  },
  {
   "cell_type": "markdown",
   "metadata": {},
   "source": [
    "We can also clean up the verification status column. There are multiple values that mean verified: `VERIFIED - income` and `VERIFIED - income source`.  We will replace these values with `verified`."
   ]
  },
  {
   "cell_type": "code",
   "execution_count": 20,
   "metadata": {},
   "outputs": [
    {
     "data": {
      "text/html": [
       "<table>\n",
       "<thead>\n",
       "<tr><th>verification_status     </th></tr>\n",
       "</thead>\n",
       "<tbody>\n",
       "<tr><td>VERIFIED - income       </td></tr>\n",
       "<tr><td>VERIFIED - income source</td></tr>\n",
       "<tr><td>not verified            </td></tr>\n",
       "<tr><td>VERIFIED - income source</td></tr>\n",
       "<tr><td>VERIFIED - income source</td></tr>\n",
       "<tr><td>VERIFIED - income source</td></tr>\n",
       "<tr><td>VERIFIED - income source</td></tr>\n",
       "<tr><td>VERIFIED - income       </td></tr>\n",
       "<tr><td>not verified            </td></tr>\n",
       "<tr><td>VERIFIED - income source</td></tr>\n",
       "</tbody>\n",
       "</table>"
      ]
     },
     "metadata": {},
     "output_type": "display_data"
    },
    {
     "data": {
      "text/plain": []
     },
     "execution_count": 20,
     "metadata": {},
     "output_type": "execute_result"
    }
   ],
   "source": [
    "loans[\"verification_status\"].head()"
   ]
  },
  {
   "cell_type": "code",
   "execution_count": 21,
   "metadata": {},
   "outputs": [],
   "source": [
    "loans[\"verification_status\"] = loans[\"verification_status\"].sub(pattern=\"VERIFIED - income source\", \n",
    "                                                                replacement=\"verified\")\n",
    "loans[\"verification_status\"] = loans[\"verification_status\"].sub(pattern=\"VERIFIED - income\", \n",
    "                                                                replacement=\"verified\")\n",
    "loans[\"verification_status\"] = loans[\"verification_status\"].asfactor()"
   ]
  },
  {
   "cell_type": "code",
   "execution_count": 22,
   "metadata": {
    "scrolled": true
   },
   "outputs": [
    {
     "data": {
      "text/html": [
       "<table>\n",
       "<thead>\n",
       "<tr><th>verification_status  </th><th style=\"text-align: right;\">  Count</th></tr>\n",
       "</thead>\n",
       "<tbody>\n",
       "<tr><td>not verified         </td><td style=\"text-align: right;\">  17965</td></tr>\n",
       "<tr><td>verified             </td><td style=\"text-align: right;\">  21069</td></tr>\n",
       "</tbody>\n",
       "</table>"
      ]
     },
     "metadata": {},
     "output_type": "display_data"
    },
    {
     "data": {
      "text/plain": []
     },
     "execution_count": 22,
     "metadata": {},
     "output_type": "execute_result"
    }
   ],
   "source": [
    "loans[\"verification_status\"].table()"
   ]
  },
  {
   "cell_type": "markdown",
   "metadata": {},
   "source": [
    "# Step 4 (of 10).  Feature engineering\n",
    "\n",
    "Now that we have cleaned our data, we can add some new columns to our dataset that may help improve the performance of our supervised learning models.\n",
    "\n",
    "The new columns we will create are: \n",
    "* `credit_length`: the time from their earliest credit line to when they were issued the loan\n",
    "* `issue_d_year` and `issue_d_month`: extract year and month from the issue date\n",
    "* word embeddings from the loan description\n",
    "\n",
    "### Credit Length\n",
    "\n",
    "We can extract the credit length by subtracting the year they had their earliest credit line from the year when they issued the loan."
   ]
  },
  {
   "cell_type": "code",
   "execution_count": 23,
   "metadata": {},
   "outputs": [
    {
     "data": {
      "text/html": [
       "<table>\n",
       "<thead>\n",
       "<tr><th style=\"text-align: right;\">  credit_length</th></tr>\n",
       "</thead>\n",
       "<tbody>\n",
       "<tr><td style=\"text-align: right;\">             26</td></tr>\n",
       "<tr><td style=\"text-align: right;\">             12</td></tr>\n",
       "<tr><td style=\"text-align: right;\">             10</td></tr>\n",
       "<tr><td style=\"text-align: right;\">             15</td></tr>\n",
       "<tr><td style=\"text-align: right;\">              7</td></tr>\n",
       "<tr><td style=\"text-align: right;\">              4</td></tr>\n",
       "<tr><td style=\"text-align: right;\">              7</td></tr>\n",
       "<tr><td style=\"text-align: right;\">              7</td></tr>\n",
       "<tr><td style=\"text-align: right;\">             13</td></tr>\n",
       "<tr><td style=\"text-align: right;\">             22</td></tr>\n",
       "</tbody>\n",
       "</table>"
      ]
     },
     "metadata": {},
     "output_type": "display_data"
    },
    {
     "data": {
      "text/plain": []
     },
     "execution_count": 23,
     "metadata": {},
     "output_type": "execute_result"
    }
   ],
   "source": [
    "loans[\"credit_length\"] = loans[\"issue_d\"].year() - loans[\"earliest_cr_line\"].year()\n",
    "loans[\"credit_length\"].head()"
   ]
  },
  {
   "cell_type": "markdown",
   "metadata": {},
   "source": [
    "### Issue Date Expansion\n",
    "\n",
    "We can extract the year and month from the issue date.  We may find that the month or the year when the loan was issued can impact the probability of a bad loan."
   ]
  },
  {
   "cell_type": "code",
   "execution_count": 24,
   "metadata": {},
   "outputs": [],
   "source": [
    "loans[\"issue_d_year\"] = loans[\"issue_d\"].year()\n",
    "loans[\"issue_d_month\"] = loans[\"issue_d\"].month().asfactor()  # we will treat month as a enum/factor since its cyclical"
   ]
  },
  {
   "cell_type": "code",
   "execution_count": 25,
   "metadata": {},
   "outputs": [
    {
     "data": {
      "text/html": [
       "<table>\n",
       "<thead>\n",
       "<tr><th style=\"text-align: right;\">  issue_d_year</th><th style=\"text-align: right;\">  issue_d_month</th></tr>\n",
       "</thead>\n",
       "<tbody>\n",
       "<tr><td style=\"text-align: right;\">          2011</td><td style=\"text-align: right;\">             12</td></tr>\n",
       "<tr><td style=\"text-align: right;\">          2011</td><td style=\"text-align: right;\">             12</td></tr>\n",
       "<tr><td style=\"text-align: right;\">          2011</td><td style=\"text-align: right;\">             12</td></tr>\n",
       "<tr><td style=\"text-align: right;\">          2011</td><td style=\"text-align: right;\">             12</td></tr>\n",
       "<tr><td style=\"text-align: right;\">          2011</td><td style=\"text-align: right;\">             12</td></tr>\n",
       "<tr><td style=\"text-align: right;\">          2011</td><td style=\"text-align: right;\">             12</td></tr>\n",
       "<tr><td style=\"text-align: right;\">          2011</td><td style=\"text-align: right;\">             12</td></tr>\n",
       "<tr><td style=\"text-align: right;\">          2011</td><td style=\"text-align: right;\">             12</td></tr>\n",
       "<tr><td style=\"text-align: right;\">          2011</td><td style=\"text-align: right;\">             12</td></tr>\n",
       "<tr><td style=\"text-align: right;\">          2011</td><td style=\"text-align: right;\">             12</td></tr>\n",
       "</tbody>\n",
       "</table>"
      ]
     },
     "metadata": {},
     "output_type": "display_data"
    },
    {
     "data": {
      "text/plain": []
     },
     "execution_count": 25,
     "metadata": {},
     "output_type": "execute_result"
    }
   ],
   "source": [
    "loans[[\"issue_d_year\", \"issue_d_month\"]].head()"
   ]
  },
  {
   "cell_type": "markdown",
   "metadata": {},
   "source": [
    "### Word Embeddings\n",
    "\n",
    "One of the columns in our dataset is a description of why the loan was requested. The first few descriptions in the dataset are shown below."
   ]
  },
  {
   "cell_type": "code",
   "execution_count": 26,
   "metadata": {},
   "outputs": [
    {
     "data": {
      "text/html": [
       "<table>\n",
       "<thead>\n",
       "<tr><th>desc                                                                                                                                                                                                                                                                                                                                                                                                                                                                                                                                                                                                        </th></tr>\n",
       "</thead>\n",
       "<tbody>\n",
       "<tr><td>Borrower added on 12/22/11 > I need to upgrade my business technologies.<br>                                                                                                                                                                                                                                                                                                                                                                                                                                                                                                                                </td></tr>\n",
       "<tr><td>Borrower added on 12/22/11 > I plan to use this money to finance the motorcycle i am looking at. I plan to have it paid off as soon as possible/when i sell my old bike. I only need this money because the deal im looking at is to good to pass up.<br><br>  Borrower added on 12/22/11 > I plan to use this money to finance the motorcycle i am looking at. I plan to have it paid off as soon as possible/when i sell my old bike.I only need this money because the deal im looking at is to good to pass up. I have finished college with an associates degree in business and its takingmeplaces<br></td></tr>\n",
       "<tr><td>                                                                                                                                                                                                                                                                                                                                                                                                                                                                                                                                                                                                            </td></tr>\n",
       "<tr><td>Borrower added on 12/21/11 > to pay for property tax (borrow from friend, need to pay back) & central A/C need to be replace. I'm very sorry to let my loan expired last time.<br>                                                                                                                                                                                                                                                                                                                                                                                                                          </td></tr>\n",
       "<tr><td>                                                                                                                                                                                                                                                                                                                                                                                                                                                                                                                                                                                                            </td></tr>\n",
       "<tr><td>Borrower added on 12/16/11 > Downpayment for a car.<br>                                                                                                                                                                                                                                                                                                                                                                                                                                                                                                                                                     </td></tr>\n",
       "<tr><td>Borrower added on 12/21/11 > I own a small home-based judgment collection business. I have 5 years experience collecting debts. I am now going from a home office to a small office. I also plan to buy a small debt portfolio (eg. $10K for $1M of debt) <br>My score is not A+ because I own my home and have no mortgage.<br>                                                                                                                                                                                                                                                                            </td></tr>\n",
       "<tr><td>Borrower added on 12/16/11 > I'm trying to build up my credit history. I live with my brother and have no car payment or credit cards. I am in community college and work full time. Im going to use the money to make some repairs around the house and get some maintenance done on my car.<br><br>  Borrower added on 12/20/11 > $1000 down only $4375 to go. Thanks to everyone that invested so far, looking forward to surprising my brother with the fixes around the house.<br>                                                                                                                     </td></tr>\n",
       "<tr><td>Borrower added on 12/15/11 > I had recived a loan from Citi Financial about a year ago, I was paying 29.99 intrest, so the refinance is to cut that rate since cleaning up my credit I have been paying everything on time as shown on my credit report<br>                                                                                                                                                                                                                                                                                                                                                 </td></tr>\n",
       "<tr><td>                                                                                                                                                                                                                                                                                                                                                                                                                                                                                                                                                                                                            </td></tr>\n",
       "</tbody>\n",
       "</table>"
      ]
     },
     "metadata": {},
     "output_type": "display_data"
    },
    {
     "data": {
      "text/plain": []
     },
     "execution_count": 26,
     "metadata": {},
     "output_type": "execute_result"
    }
   ],
   "source": [
    "loans[\"desc\"].head()"
   ]
  },
  {
   "cell_type": "markdown",
   "metadata": {},
   "source": [
    "This information may be important to the model but supervised learning algorithms have a hard time understanding text.  Instead we will convert these strings to a numeric vector using the Word2Vec algorithm."
   ]
  },
  {
   "cell_type": "code",
   "execution_count": 27,
   "metadata": {},
   "outputs": [],
   "source": [
    "STOP_WORDS = [\"ax\",\"i\",\"you\",\"edu\",\"s\",\"t\",\"m\",\"subject\",\"can\",\"lines\",\"re\",\"what\",\n",
    "              \"there\",\"all\",\"we\",\"one\",\"the\",\"a\",\"an\",\"of\",\"or\",\"in\",\"for\",\"by\",\"on\",\n",
    "              \"but\",\"is\",\"in\",\"a\",\"not\",\"with\",\"as\",\"was\",\"if\",\"they\",\"are\",\"this\",\"and\",\"it\",\"have\",\n",
    "              \"from\",\"at\",\"my\",\"be\",\"by\",\"not\",\"that\",\"to\",\"from\",\"com\",\"org\",\"like\",\"likes\",\"so\"]"
   ]
  },
  {
   "cell_type": "code",
   "execution_count": 28,
   "metadata": {},
   "outputs": [],
   "source": [
    "def tokenize(sentences, stop_word = STOP_WORDS):\n",
    "    tokenized = sentences.tokenize(\"\\\\W+\")\n",
    "    tokenized_lower = tokenized.tolower()\n",
    "    tokenized_filtered = tokenized_lower[(tokenized_lower.nchar() >= 2) | (tokenized_lower.isna()),:]\n",
    "    tokenized_words = tokenized_filtered[tokenized_filtered.grep(\"[0-9]\",invert=True,output_logical=True),:]\n",
    "    tokenized_words = tokenized_words[(tokenized_words.isna()) | (~ tokenized_words.isin(STOP_WORDS)),:]\n",
    "    return tokenized_words"
   ]
  },
  {
   "cell_type": "code",
   "execution_count": 29,
   "metadata": {},
   "outputs": [],
   "source": [
    "# Break loan description into sequence of words\n",
    "words = tokenize(loans[\"desc\"].ascharacter())"
   ]
  },
  {
   "cell_type": "code",
   "execution_count": 30,
   "metadata": {},
   "outputs": [
    {
     "name": "stdout",
     "output_type": "stream",
     "text": [
      "word2vec Model Build progress: |██████████████████████████████████████████| 100%\n"
     ]
    }
   ],
   "source": [
    "# Train Word2Vec Model\n",
    "from h2o.estimators.word2vec import H2OWord2vecEstimator\n",
    "\n",
    "w2v_model = H2OWord2vecEstimator(vec_size=100, model_id=\"w2v\")\n",
    "w2v_model.train(training_frame=words)"
   ]
  },
  {
   "cell_type": "code",
   "execution_count": 31,
   "metadata": {},
   "outputs": [
    {
     "data": {
      "text/plain": [
       "OrderedDict([('auto', 0.7677386999130249),\n",
       "             ('vehicle', 0.672305166721344),\n",
       "             ('camry', 0.6654372811317444),\n",
       "             ('prius', 0.66143399477005),\n",
       "             ('acura', 0.6525095701217651)])"
      ]
     },
     "execution_count": 31,
     "metadata": {},
     "output_type": "execute_result"
    }
   ],
   "source": [
    "# Sanity check - find synonyms for the word 'car'\n",
    "w2v_model.find_synonyms(\"car\", count=5)"
   ]
  },
  {
   "cell_type": "code",
   "execution_count": 32,
   "metadata": {},
   "outputs": [],
   "source": [
    "# Calculate a vector for each description\n",
    "desc_vecs = w2v_model.transform(words, aggregate_method=\"AVERAGE\")"
   ]
  },
  {
   "cell_type": "code",
   "execution_count": 33,
   "metadata": {
    "scrolled": true
   },
   "outputs": [
    {
     "data": {
      "text/html": [
       "<table>\n",
       "<thead>\n",
       "<tr><th style=\"text-align: right;\">         C1</th><th style=\"text-align: right;\">         C2</th><th style=\"text-align: right;\">         C3</th><th style=\"text-align: right;\">         C4</th><th style=\"text-align: right;\">         C5</th><th style=\"text-align: right;\">          C6</th><th style=\"text-align: right;\">         C7</th><th style=\"text-align: right;\">         C8</th><th style=\"text-align: right;\">           C9</th><th style=\"text-align: right;\">         C10</th><th style=\"text-align: right;\">        C11</th><th style=\"text-align: right;\">        C12</th><th style=\"text-align: right;\">        C13</th><th style=\"text-align: right;\">       C14</th><th style=\"text-align: right;\">        C15</th><th style=\"text-align: right;\">       C16</th><th style=\"text-align: right;\">       C17</th><th style=\"text-align: right;\">         C18</th><th style=\"text-align: right;\">        C19</th><th style=\"text-align: right;\">        C20</th><th style=\"text-align: right;\">        C21</th><th style=\"text-align: right;\">       C22</th><th style=\"text-align: right;\">         C23</th><th style=\"text-align: right;\">        C24</th><th style=\"text-align: right;\">         C25</th><th style=\"text-align: right;\">         C26</th><th style=\"text-align: right;\">          C27</th><th style=\"text-align: right;\">       C28</th><th style=\"text-align: right;\">        C29</th><th style=\"text-align: right;\">         C30</th><th style=\"text-align: right;\">         C31</th><th style=\"text-align: right;\">         C32</th><th style=\"text-align: right;\">        C33</th><th style=\"text-align: right;\">        C34</th><th style=\"text-align: right;\">        C35</th><th style=\"text-align: right;\">        C36</th><th style=\"text-align: right;\">        C37</th><th style=\"text-align: right;\">         C38</th><th style=\"text-align: right;\">        C39</th><th style=\"text-align: right;\">        C40</th><th style=\"text-align: right;\">        C41</th><th style=\"text-align: right;\">        C42</th><th style=\"text-align: right;\">       C43</th><th style=\"text-align: right;\">         C44</th><th style=\"text-align: right;\">        C45</th><th style=\"text-align: right;\">        C46</th><th style=\"text-align: right;\">        C47</th><th style=\"text-align: right;\">        C48</th><th style=\"text-align: right;\">        C49</th><th style=\"text-align: right;\">       C50</th><th style=\"text-align: right;\">         C51</th><th style=\"text-align: right;\">         C52</th><th style=\"text-align: right;\">         C53</th><th style=\"text-align: right;\">         C54</th><th style=\"text-align: right;\">       C55</th><th style=\"text-align: right;\">        C56</th><th style=\"text-align: right;\">        C57</th><th style=\"text-align: right;\">        C58</th><th style=\"text-align: right;\">         C59</th><th style=\"text-align: right;\">         C60</th><th style=\"text-align: right;\">        C61</th><th style=\"text-align: right;\">        C62</th><th style=\"text-align: right;\">         C63</th><th style=\"text-align: right;\">        C64</th><th style=\"text-align: right;\">         C65</th><th style=\"text-align: right;\">       C66</th><th style=\"text-align: right;\">         C67</th><th style=\"text-align: right;\">         C68</th><th style=\"text-align: right;\">       C69</th><th style=\"text-align: right;\">         C70</th><th style=\"text-align: right;\">        C71</th><th style=\"text-align: right;\">         C72</th><th style=\"text-align: right;\">        C73</th><th style=\"text-align: right;\">        C74</th><th style=\"text-align: right;\">         C75</th><th style=\"text-align: right;\">       C76</th><th style=\"text-align: right;\">         C77</th><th style=\"text-align: right;\">         C78</th><th style=\"text-align: right;\">         C79</th><th style=\"text-align: right;\">          C80</th><th style=\"text-align: right;\">        C81</th><th style=\"text-align: right;\">        C82</th><th style=\"text-align: right;\">        C83</th><th style=\"text-align: right;\">         C84</th><th style=\"text-align: right;\">         C85</th><th style=\"text-align: right;\">         C86</th><th style=\"text-align: right;\">         C87</th><th style=\"text-align: right;\">        C88</th><th style=\"text-align: right;\">        C89</th><th style=\"text-align: right;\">        C90</th><th style=\"text-align: right;\">        C91</th><th style=\"text-align: right;\">         C92</th><th style=\"text-align: right;\">        C93</th><th style=\"text-align: right;\">       C94</th><th style=\"text-align: right;\">       C95</th><th style=\"text-align: right;\">        C96</th><th style=\"text-align: right;\">         C97</th><th style=\"text-align: right;\">        C98</th><th style=\"text-align: right;\">        C99</th><th style=\"text-align: right;\">        C100</th></tr>\n",
       "</thead>\n",
       "<tbody>\n",
       "<tr><td style=\"text-align: right;\"> -0.0340572</td><td style=\"text-align: right;\"> -0.100451 </td><td style=\"text-align: right;\">  0.0259277</td><td style=\"text-align: right;\"> -0.0729107</td><td style=\"text-align: right;\"> -0.0827111</td><td style=\"text-align: right;\"> -0.0865716 </td><td style=\"text-align: right;\"> -0.0542157</td><td style=\"text-align: right;\"> -0.0684769</td><td style=\"text-align: right;\"> -0.0984977  </td><td style=\"text-align: right;\">  0.0303783 </td><td style=\"text-align: right;\">  0.125607 </td><td style=\"text-align: right;\">  0.0861746</td><td style=\"text-align: right;\">  0.126203 </td><td style=\"text-align: right;\">  0.144575</td><td style=\"text-align: right;\"> -0.0709368</td><td style=\"text-align: right;\">  0.231305</td><td style=\"text-align: right;\">  0.144486</td><td style=\"text-align: right;\">  0.0733657 </td><td style=\"text-align: right;\">  0.0650817</td><td style=\"text-align: right;\">  0.241812 </td><td style=\"text-align: right;\">  0.0527572</td><td style=\"text-align: right;\"> -0.062191</td><td style=\"text-align: right;\">  0.0988722 </td><td style=\"text-align: right;\">  0.100232 </td><td style=\"text-align: right;\"> -0.00668823</td><td style=\"text-align: right;\">  0.0183013 </td><td style=\"text-align: right;\">  0.063199   </td><td style=\"text-align: right;\"> -0.214656</td><td style=\"text-align: right;\"> -0.165674 </td><td style=\"text-align: right;\"> -0.128607  </td><td style=\"text-align: right;\">  0.00292686</td><td style=\"text-align: right;\">  0.0555539 </td><td style=\"text-align: right;\">  0.15295  </td><td style=\"text-align: right;\"> -0.173699 </td><td style=\"text-align: right;\"> -0.266938 </td><td style=\"text-align: right;\">  0.0862293</td><td style=\"text-align: right;\">  0.0183607</td><td style=\"text-align: right;\"> -0.214849  </td><td style=\"text-align: right;\"> -0.0835101</td><td style=\"text-align: right;\"> -0.275797 </td><td style=\"text-align: right;\">  0.0203489</td><td style=\"text-align: right;\"> -0.136216 </td><td style=\"text-align: right;\">  0.185862</td><td style=\"text-align: right;\"> -0.00770263</td><td style=\"text-align: right;\">  0.0520003</td><td style=\"text-align: right;\">  0.225421 </td><td style=\"text-align: right;\"> -0.172563 </td><td style=\"text-align: right;\"> -0.0204186</td><td style=\"text-align: right;\">  0.0975669</td><td style=\"text-align: right;\"> -0.174784</td><td style=\"text-align: right;\"> -0.0121217 </td><td style=\"text-align: right;\">  0.0176239 </td><td style=\"text-align: right;\"> -0.0825292 </td><td style=\"text-align: right;\">  0.0698529 </td><td style=\"text-align: right;\">  0.167385</td><td style=\"text-align: right;\"> -0.0791405</td><td style=\"text-align: right;\">  0.194703 </td><td style=\"text-align: right;\">  0.105169 </td><td style=\"text-align: right;\">  0.0889175 </td><td style=\"text-align: right;\"> -0.0319405 </td><td style=\"text-align: right;\"> -0.0974125</td><td style=\"text-align: right;\"> -0.114339 </td><td style=\"text-align: right;\"> -0.0806576 </td><td style=\"text-align: right;\"> -0.095871 </td><td style=\"text-align: right;\">  0.0363437 </td><td style=\"text-align: right;\"> -0.202044</td><td style=\"text-align: right;\">  0.0850452 </td><td style=\"text-align: right;\">  0.0320423 </td><td style=\"text-align: right;\">  0.171083</td><td style=\"text-align: right;\"> -0.0755917 </td><td style=\"text-align: right;\">  0.119717 </td><td style=\"text-align: right;\">  0.171953  </td><td style=\"text-align: right;\">  0.0722078</td><td style=\"text-align: right;\"> -0.11068  </td><td style=\"text-align: right;\">  0.148153  </td><td style=\"text-align: right;\"> -0.1332  </td><td style=\"text-align: right;\"> -0.058171  </td><td style=\"text-align: right;\"> -0.00802151</td><td style=\"text-align: right;\"> -0.0902567 </td><td style=\"text-align: right;\">  0.0187657  </td><td style=\"text-align: right;\">  0.0634307</td><td style=\"text-align: right;\"> -0.0225485</td><td style=\"text-align: right;\"> -0.0660238</td><td style=\"text-align: right;\">  0.0673167 </td><td style=\"text-align: right;\"> -0.230431  </td><td style=\"text-align: right;\">  0.106399  </td><td style=\"text-align: right;\">  0.0140727 </td><td style=\"text-align: right;\"> -0.0906204</td><td style=\"text-align: right;\"> -0.130298 </td><td style=\"text-align: right;\">  0.139662 </td><td style=\"text-align: right;\"> -0.0231506</td><td style=\"text-align: right;\"> -0.090955  </td><td style=\"text-align: right;\"> -0.0021693</td><td style=\"text-align: right;\"> -0.221098</td><td style=\"text-align: right;\">  0.323254</td><td style=\"text-align: right;\"> -0.030435 </td><td style=\"text-align: right;\"> -0.257497  </td><td style=\"text-align: right;\">  0.0135396</td><td style=\"text-align: right;\"> -0.0503414</td><td style=\"text-align: right;\"> -0.116963  </td></tr>\n",
       "<tr><td style=\"text-align: right;\"> -0.049109 </td><td style=\"text-align: right;\"> -0.14351  </td><td style=\"text-align: right;\"> -0.0294498</td><td style=\"text-align: right;\">  0.120196 </td><td style=\"text-align: right;\"> -0.100739 </td><td style=\"text-align: right;\">  0.0755069 </td><td style=\"text-align: right;\">  0.0637929</td><td style=\"text-align: right;\">  0.0157418</td><td style=\"text-align: right;\"> -0.0642493  </td><td style=\"text-align: right;\">  0.0446662 </td><td style=\"text-align: right;\">  0.095051 </td><td style=\"text-align: right;\">  0.0118563</td><td style=\"text-align: right;\">  0.0518837</td><td style=\"text-align: right;\">  0.163245</td><td style=\"text-align: right;\"> -0.0987095</td><td style=\"text-align: right;\">  0.147378</td><td style=\"text-align: right;\">  0.267328</td><td style=\"text-align: right;\"> -0.0212328 </td><td style=\"text-align: right;\"> -0.036781 </td><td style=\"text-align: right;\">  0.157544 </td><td style=\"text-align: right;\"> -0.0126596</td><td style=\"text-align: right;\"> -0.170269</td><td style=\"text-align: right;\"> -0.0741903 </td><td style=\"text-align: right;\">  0.0743189</td><td style=\"text-align: right;\"> -0.0599632 </td><td style=\"text-align: right;\">  0.0396462 </td><td style=\"text-align: right;\">  0.000768415</td><td style=\"text-align: right;\"> -0.349718</td><td style=\"text-align: right;\"> -0.114301 </td><td style=\"text-align: right;\"> -0.147219  </td><td style=\"text-align: right;\">  0.0343931 </td><td style=\"text-align: right;\"> -0.105817  </td><td style=\"text-align: right;\">  0.0931009</td><td style=\"text-align: right;\"> -0.0856564</td><td style=\"text-align: right;\"> -0.0878535</td><td style=\"text-align: right;\">  0.088481 </td><td style=\"text-align: right;\">  0.018673 </td><td style=\"text-align: right;\"> -0.0603976 </td><td style=\"text-align: right;\"> -0.0146447</td><td style=\"text-align: right;\"> -0.0587256</td><td style=\"text-align: right;\">  0.0107672</td><td style=\"text-align: right;\"> -0.115696 </td><td style=\"text-align: right;\">  0.12372 </td><td style=\"text-align: right;\"> -0.0420103 </td><td style=\"text-align: right;\"> -0.0126214</td><td style=\"text-align: right;\">  0.113172 </td><td style=\"text-align: right;\"> -0.213031 </td><td style=\"text-align: right;\">  0.127883 </td><td style=\"text-align: right;\">  0.0997566</td><td style=\"text-align: right;\"> -0.214944</td><td style=\"text-align: right;\">  0.0326885 </td><td style=\"text-align: right;\">  0.120221  </td><td style=\"text-align: right;\"> -0.0243362 </td><td style=\"text-align: right;\">  0.0637042 </td><td style=\"text-align: right;\">  0.261047</td><td style=\"text-align: right;\">  0.062556 </td><td style=\"text-align: right;\">  0.244519 </td><td style=\"text-align: right;\">  0.0992153</td><td style=\"text-align: right;\">  0.00904751</td><td style=\"text-align: right;\"> -0.00575629</td><td style=\"text-align: right;\"> -0.105879 </td><td style=\"text-align: right;\"> -0.182449 </td><td style=\"text-align: right;\">  0.020608  </td><td style=\"text-align: right;\"> -0.0595369</td><td style=\"text-align: right;\">  0.143282  </td><td style=\"text-align: right;\"> -0.143318</td><td style=\"text-align: right;\"> -0.00619406</td><td style=\"text-align: right;\"> -0.00851339</td><td style=\"text-align: right;\">  0.128734</td><td style=\"text-align: right;\"> -0.0387433 </td><td style=\"text-align: right;\">  0.109292 </td><td style=\"text-align: right;\">  0.0603599 </td><td style=\"text-align: right;\"> -0.0953169</td><td style=\"text-align: right;\">  0.0385623</td><td style=\"text-align: right;\">  0.0588196 </td><td style=\"text-align: right;\"> -0.214394</td><td style=\"text-align: right;\"> -0.113618  </td><td style=\"text-align: right;\"> -0.0133098 </td><td style=\"text-align: right;\">  0.0520838 </td><td style=\"text-align: right;\">  0.0622448  </td><td style=\"text-align: right;\"> -0.0321006</td><td style=\"text-align: right;\"> -0.117899 </td><td style=\"text-align: right;\"> -0.087552 </td><td style=\"text-align: right;\">  0.00885227</td><td style=\"text-align: right;\"> -0.102     </td><td style=\"text-align: right;\">  0.0418433 </td><td style=\"text-align: right;\">  0.0281358 </td><td style=\"text-align: right;\"> -0.0796353</td><td style=\"text-align: right;\"> -0.0763009</td><td style=\"text-align: right;\">  0.072038 </td><td style=\"text-align: right;\"> -0.156914 </td><td style=\"text-align: right;\"> -0.043681  </td><td style=\"text-align: right;\"> -0.0457556</td><td style=\"text-align: right;\"> -0.119829</td><td style=\"text-align: right;\">  0.192788</td><td style=\"text-align: right;\">  0.0770441</td><td style=\"text-align: right;\"> -0.137016  </td><td style=\"text-align: right;\">  0.0337918</td><td style=\"text-align: right;\"> -0.0307768</td><td style=\"text-align: right;\"> -0.0475939 </td></tr>\n",
       "<tr><td style=\"text-align: right;\">nan        </td><td style=\"text-align: right;\">nan        </td><td style=\"text-align: right;\">nan        </td><td style=\"text-align: right;\">nan        </td><td style=\"text-align: right;\">nan        </td><td style=\"text-align: right;\">nan         </td><td style=\"text-align: right;\">nan        </td><td style=\"text-align: right;\">nan        </td><td style=\"text-align: right;\">nan          </td><td style=\"text-align: right;\">nan         </td><td style=\"text-align: right;\">nan        </td><td style=\"text-align: right;\">nan        </td><td style=\"text-align: right;\">nan        </td><td style=\"text-align: right;\">nan       </td><td style=\"text-align: right;\">nan        </td><td style=\"text-align: right;\">nan       </td><td style=\"text-align: right;\">nan       </td><td style=\"text-align: right;\">nan         </td><td style=\"text-align: right;\">nan        </td><td style=\"text-align: right;\">nan        </td><td style=\"text-align: right;\">nan        </td><td style=\"text-align: right;\">nan       </td><td style=\"text-align: right;\">nan         </td><td style=\"text-align: right;\">nan        </td><td style=\"text-align: right;\">nan         </td><td style=\"text-align: right;\">nan         </td><td style=\"text-align: right;\">nan          </td><td style=\"text-align: right;\">nan       </td><td style=\"text-align: right;\">nan        </td><td style=\"text-align: right;\">nan         </td><td style=\"text-align: right;\">nan         </td><td style=\"text-align: right;\">nan         </td><td style=\"text-align: right;\">nan        </td><td style=\"text-align: right;\">nan        </td><td style=\"text-align: right;\">nan        </td><td style=\"text-align: right;\">nan        </td><td style=\"text-align: right;\">nan        </td><td style=\"text-align: right;\">nan         </td><td style=\"text-align: right;\">nan        </td><td style=\"text-align: right;\">nan        </td><td style=\"text-align: right;\">nan        </td><td style=\"text-align: right;\">nan        </td><td style=\"text-align: right;\">nan       </td><td style=\"text-align: right;\">nan         </td><td style=\"text-align: right;\">nan        </td><td style=\"text-align: right;\">nan        </td><td style=\"text-align: right;\">nan        </td><td style=\"text-align: right;\">nan        </td><td style=\"text-align: right;\">nan        </td><td style=\"text-align: right;\">nan       </td><td style=\"text-align: right;\">nan         </td><td style=\"text-align: right;\">nan         </td><td style=\"text-align: right;\">nan         </td><td style=\"text-align: right;\">nan         </td><td style=\"text-align: right;\">nan       </td><td style=\"text-align: right;\">nan        </td><td style=\"text-align: right;\">nan        </td><td style=\"text-align: right;\">nan        </td><td style=\"text-align: right;\">nan         </td><td style=\"text-align: right;\">nan         </td><td style=\"text-align: right;\">nan        </td><td style=\"text-align: right;\">nan        </td><td style=\"text-align: right;\">nan         </td><td style=\"text-align: right;\">nan        </td><td style=\"text-align: right;\">nan         </td><td style=\"text-align: right;\">nan       </td><td style=\"text-align: right;\">nan         </td><td style=\"text-align: right;\">nan         </td><td style=\"text-align: right;\">nan       </td><td style=\"text-align: right;\">nan         </td><td style=\"text-align: right;\">nan        </td><td style=\"text-align: right;\">nan         </td><td style=\"text-align: right;\">nan        </td><td style=\"text-align: right;\">nan        </td><td style=\"text-align: right;\">nan         </td><td style=\"text-align: right;\">nan       </td><td style=\"text-align: right;\">nan         </td><td style=\"text-align: right;\">nan         </td><td style=\"text-align: right;\">nan         </td><td style=\"text-align: right;\">nan          </td><td style=\"text-align: right;\">nan        </td><td style=\"text-align: right;\">nan        </td><td style=\"text-align: right;\">nan        </td><td style=\"text-align: right;\">nan         </td><td style=\"text-align: right;\">nan         </td><td style=\"text-align: right;\">nan         </td><td style=\"text-align: right;\">nan         </td><td style=\"text-align: right;\">nan        </td><td style=\"text-align: right;\">nan        </td><td style=\"text-align: right;\">nan        </td><td style=\"text-align: right;\">nan        </td><td style=\"text-align: right;\">nan         </td><td style=\"text-align: right;\">nan        </td><td style=\"text-align: right;\">nan       </td><td style=\"text-align: right;\">nan       </td><td style=\"text-align: right;\">nan        </td><td style=\"text-align: right;\">nan         </td><td style=\"text-align: right;\">nan        </td><td style=\"text-align: right;\">nan        </td><td style=\"text-align: right;\">nan         </td></tr>\n",
       "<tr><td style=\"text-align: right;\"> -0.0902907</td><td style=\"text-align: right;\"> -0.119974 </td><td style=\"text-align: right;\"> -0.0454342</td><td style=\"text-align: right;\">  0.0674933</td><td style=\"text-align: right;\"> -0.0420354</td><td style=\"text-align: right;\">  0.0232711 </td><td style=\"text-align: right;\">  0.01732  </td><td style=\"text-align: right;\">  0.122935 </td><td style=\"text-align: right;\">  0.0104113  </td><td style=\"text-align: right;\">  0.12747   </td><td style=\"text-align: right;\">  0.105239 </td><td style=\"text-align: right;\"> -0.0602173</td><td style=\"text-align: right;\">  0.103506 </td><td style=\"text-align: right;\">  0.201525</td><td style=\"text-align: right;\"> -0.121185 </td><td style=\"text-align: right;\">  0.132522</td><td style=\"text-align: right;\">  0.26971 </td><td style=\"text-align: right;\"> -0.0185404 </td><td style=\"text-align: right;\">  0.0542639</td><td style=\"text-align: right;\">  0.152495 </td><td style=\"text-align: right;\"> -0.014543 </td><td style=\"text-align: right;\"> -0.198097</td><td style=\"text-align: right;\"> -0.00556684</td><td style=\"text-align: right;\">  0.0592383</td><td style=\"text-align: right;\"> -0.0117109 </td><td style=\"text-align: right;\"> -0.0405665 </td><td style=\"text-align: right;\"> -0.0224837  </td><td style=\"text-align: right;\"> -0.383572</td><td style=\"text-align: right;\"> -0.0381474</td><td style=\"text-align: right;\"> -0.168735  </td><td style=\"text-align: right;\"> -0.0115628 </td><td style=\"text-align: right;\"> -0.00623083</td><td style=\"text-align: right;\">  0.142391 </td><td style=\"text-align: right;\"> -0.0653596</td><td style=\"text-align: right;\"> -0.0881774</td><td style=\"text-align: right;\">  0.108148 </td><td style=\"text-align: right;\">  0.0417819</td><td style=\"text-align: right;\"> -0.0671228 </td><td style=\"text-align: right;\">  0.0371709</td><td style=\"text-align: right;\"> -0.150974 </td><td style=\"text-align: right;\">  0.0417594</td><td style=\"text-align: right;\"> -0.0704222</td><td style=\"text-align: right;\">  0.159374</td><td style=\"text-align: right;\"> -0.0282787 </td><td style=\"text-align: right;\">  0.0987797</td><td style=\"text-align: right;\">  0.123236 </td><td style=\"text-align: right;\"> -0.206606 </td><td style=\"text-align: right;\">  0.0669655</td><td style=\"text-align: right;\">  0.0917368</td><td style=\"text-align: right;\"> -0.281926</td><td style=\"text-align: right;\">  0.00967521</td><td style=\"text-align: right;\"> -0.0010591 </td><td style=\"text-align: right;\"> -0.0483453 </td><td style=\"text-align: right;\">  0.09621   </td><td style=\"text-align: right;\">  0.273697</td><td style=\"text-align: right;\">  0.134254 </td><td style=\"text-align: right;\">  0.15042  </td><td style=\"text-align: right;\">  0.109576 </td><td style=\"text-align: right;\">  0.00254091</td><td style=\"text-align: right;\">  0.0545626 </td><td style=\"text-align: right;\"> -0.0661573</td><td style=\"text-align: right;\"> -0.0937982</td><td style=\"text-align: right;\"> -0.00742408</td><td style=\"text-align: right;\"> -0.106178 </td><td style=\"text-align: right;\"> -0.0235281 </td><td style=\"text-align: right;\"> -0.131897</td><td style=\"text-align: right;\">  0.0709087 </td><td style=\"text-align: right;\"> -0.0224512 </td><td style=\"text-align: right;\">  0.211796</td><td style=\"text-align: right;\"> -0.00416065</td><td style=\"text-align: right;\">  0.0611318</td><td style=\"text-align: right;\">  0.0560234 </td><td style=\"text-align: right;\">  0.0107395</td><td style=\"text-align: right;\"> -0.0751899</td><td style=\"text-align: right;\">  0.149455  </td><td style=\"text-align: right;\"> -0.187894</td><td style=\"text-align: right;\">  0.00603765</td><td style=\"text-align: right;\"> -0.0187497 </td><td style=\"text-align: right;\">  0.0910486 </td><td style=\"text-align: right;\"> -0.000251361</td><td style=\"text-align: right;\"> -0.0282486</td><td style=\"text-align: right;\"> -0.0276192</td><td style=\"text-align: right;\"> -0.106694 </td><td style=\"text-align: right;\"> -0.00949095</td><td style=\"text-align: right;\"> -0.183236  </td><td style=\"text-align: right;\">  0.193828  </td><td style=\"text-align: right;\"> -0.0757401 </td><td style=\"text-align: right;\"> -0.0442187</td><td style=\"text-align: right;\"> -0.0702384</td><td style=\"text-align: right;\">  0.166858 </td><td style=\"text-align: right;\"> -0.0951997</td><td style=\"text-align: right;\"> -0.0950914 </td><td style=\"text-align: right;\">  0.0640786</td><td style=\"text-align: right;\"> -0.122966</td><td style=\"text-align: right;\">  0.105626</td><td style=\"text-align: right;\">  0.0445519</td><td style=\"text-align: right;\"> -0.136212  </td><td style=\"text-align: right;\">  0.07494  </td><td style=\"text-align: right;\">  0.0405207</td><td style=\"text-align: right;\"> -0.0234703 </td></tr>\n",
       "<tr><td style=\"text-align: right;\">nan        </td><td style=\"text-align: right;\">nan        </td><td style=\"text-align: right;\">nan        </td><td style=\"text-align: right;\">nan        </td><td style=\"text-align: right;\">nan        </td><td style=\"text-align: right;\">nan         </td><td style=\"text-align: right;\">nan        </td><td style=\"text-align: right;\">nan        </td><td style=\"text-align: right;\">nan          </td><td style=\"text-align: right;\">nan         </td><td style=\"text-align: right;\">nan        </td><td style=\"text-align: right;\">nan        </td><td style=\"text-align: right;\">nan        </td><td style=\"text-align: right;\">nan       </td><td style=\"text-align: right;\">nan        </td><td style=\"text-align: right;\">nan       </td><td style=\"text-align: right;\">nan       </td><td style=\"text-align: right;\">nan         </td><td style=\"text-align: right;\">nan        </td><td style=\"text-align: right;\">nan        </td><td style=\"text-align: right;\">nan        </td><td style=\"text-align: right;\">nan       </td><td style=\"text-align: right;\">nan         </td><td style=\"text-align: right;\">nan        </td><td style=\"text-align: right;\">nan         </td><td style=\"text-align: right;\">nan         </td><td style=\"text-align: right;\">nan          </td><td style=\"text-align: right;\">nan       </td><td style=\"text-align: right;\">nan        </td><td style=\"text-align: right;\">nan         </td><td style=\"text-align: right;\">nan         </td><td style=\"text-align: right;\">nan         </td><td style=\"text-align: right;\">nan        </td><td style=\"text-align: right;\">nan        </td><td style=\"text-align: right;\">nan        </td><td style=\"text-align: right;\">nan        </td><td style=\"text-align: right;\">nan        </td><td style=\"text-align: right;\">nan         </td><td style=\"text-align: right;\">nan        </td><td style=\"text-align: right;\">nan        </td><td style=\"text-align: right;\">nan        </td><td style=\"text-align: right;\">nan        </td><td style=\"text-align: right;\">nan       </td><td style=\"text-align: right;\">nan         </td><td style=\"text-align: right;\">nan        </td><td style=\"text-align: right;\">nan        </td><td style=\"text-align: right;\">nan        </td><td style=\"text-align: right;\">nan        </td><td style=\"text-align: right;\">nan        </td><td style=\"text-align: right;\">nan       </td><td style=\"text-align: right;\">nan         </td><td style=\"text-align: right;\">nan         </td><td style=\"text-align: right;\">nan         </td><td style=\"text-align: right;\">nan         </td><td style=\"text-align: right;\">nan       </td><td style=\"text-align: right;\">nan        </td><td style=\"text-align: right;\">nan        </td><td style=\"text-align: right;\">nan        </td><td style=\"text-align: right;\">nan         </td><td style=\"text-align: right;\">nan         </td><td style=\"text-align: right;\">nan        </td><td style=\"text-align: right;\">nan        </td><td style=\"text-align: right;\">nan         </td><td style=\"text-align: right;\">nan        </td><td style=\"text-align: right;\">nan         </td><td style=\"text-align: right;\">nan       </td><td style=\"text-align: right;\">nan         </td><td style=\"text-align: right;\">nan         </td><td style=\"text-align: right;\">nan       </td><td style=\"text-align: right;\">nan         </td><td style=\"text-align: right;\">nan        </td><td style=\"text-align: right;\">nan         </td><td style=\"text-align: right;\">nan        </td><td style=\"text-align: right;\">nan        </td><td style=\"text-align: right;\">nan         </td><td style=\"text-align: right;\">nan       </td><td style=\"text-align: right;\">nan         </td><td style=\"text-align: right;\">nan         </td><td style=\"text-align: right;\">nan         </td><td style=\"text-align: right;\">nan          </td><td style=\"text-align: right;\">nan        </td><td style=\"text-align: right;\">nan        </td><td style=\"text-align: right;\">nan        </td><td style=\"text-align: right;\">nan         </td><td style=\"text-align: right;\">nan         </td><td style=\"text-align: right;\">nan         </td><td style=\"text-align: right;\">nan         </td><td style=\"text-align: right;\">nan        </td><td style=\"text-align: right;\">nan        </td><td style=\"text-align: right;\">nan        </td><td style=\"text-align: right;\">nan        </td><td style=\"text-align: right;\">nan         </td><td style=\"text-align: right;\">nan        </td><td style=\"text-align: right;\">nan       </td><td style=\"text-align: right;\">nan       </td><td style=\"text-align: right;\">nan        </td><td style=\"text-align: right;\">nan         </td><td style=\"text-align: right;\">nan        </td><td style=\"text-align: right;\">nan        </td><td style=\"text-align: right;\">nan         </td></tr>\n",
       "<tr><td style=\"text-align: right;\"> -0.0371184</td><td style=\"text-align: right;\">  0.0139271</td><td style=\"text-align: right;\">  0.0782989</td><td style=\"text-align: right;\">  0.203891 </td><td style=\"text-align: right;\"> -0.0738871</td><td style=\"text-align: right;\">  0.0733777 </td><td style=\"text-align: right;\"> -0.13789  </td><td style=\"text-align: right;\">  0.029426 </td><td style=\"text-align: right;\">  0.113215   </td><td style=\"text-align: right;\">  0.131918  </td><td style=\"text-align: right;\">  0.121686 </td><td style=\"text-align: right;\">  0.0490805</td><td style=\"text-align: right;\">  0.0467395</td><td style=\"text-align: right;\">  0.329473</td><td style=\"text-align: right;\"> -0.0467887</td><td style=\"text-align: right;\">  0.11042 </td><td style=\"text-align: right;\">  0.117688</td><td style=\"text-align: right;\"> -0.00443789</td><td style=\"text-align: right;\"> -0.0624324</td><td style=\"text-align: right;\">  0.261598 </td><td style=\"text-align: right;\"> -0.0942831</td><td style=\"text-align: right;\"> -0.279111</td><td style=\"text-align: right;\"> -0.0463972 </td><td style=\"text-align: right;\">  0.14033  </td><td style=\"text-align: right;\"> -0.0377433 </td><td style=\"text-align: right;\">  0.0733574 </td><td style=\"text-align: right;\">  0.0454316  </td><td style=\"text-align: right;\"> -0.413639</td><td style=\"text-align: right;\"> -0.148578 </td><td style=\"text-align: right;\"> -0.00161218</td><td style=\"text-align: right;\">  0.0326281 </td><td style=\"text-align: right;\"> -0.0990084 </td><td style=\"text-align: right;\">  0.250027 </td><td style=\"text-align: right;\"> -0.20148  </td><td style=\"text-align: right;\"> -0.252947 </td><td style=\"text-align: right;\">  0.0662631</td><td style=\"text-align: right;\">  0.120573 </td><td style=\"text-align: right;\"> -0.0154139 </td><td style=\"text-align: right;\"> -0.0477792</td><td style=\"text-align: right;\"> -0.144934 </td><td style=\"text-align: right;\"> -0.0502402</td><td style=\"text-align: right;\"> -0.135705 </td><td style=\"text-align: right;\">  0.229105</td><td style=\"text-align: right;\">  0.0216709 </td><td style=\"text-align: right;\">  0.0773162</td><td style=\"text-align: right;\">  0.18319  </td><td style=\"text-align: right;\"> -0.0803994</td><td style=\"text-align: right;\">  0.111676 </td><td style=\"text-align: right;\">  0.0891536</td><td style=\"text-align: right;\"> -0.390508</td><td style=\"text-align: right;\"> -0.11423   </td><td style=\"text-align: right;\"> -0.0617483 </td><td style=\"text-align: right;\">  0.00344365</td><td style=\"text-align: right;\">  0.167938  </td><td style=\"text-align: right;\">  0.175751</td><td style=\"text-align: right;\">  0.0297829</td><td style=\"text-align: right;\">  0.170518 </td><td style=\"text-align: right;\">  0.151818 </td><td style=\"text-align: right;\">  0.130125  </td><td style=\"text-align: right;\"> -0.0291416 </td><td style=\"text-align: right;\"> -0.12774  </td><td style=\"text-align: right;\"> -0.141892 </td><td style=\"text-align: right;\"> -0.0277129 </td><td style=\"text-align: right;\"> -0.215472 </td><td style=\"text-align: right;\">  0.0318366 </td><td style=\"text-align: right;\"> -0.145371</td><td style=\"text-align: right;\">  0.0642365 </td><td style=\"text-align: right;\"> -0.082045  </td><td style=\"text-align: right;\">  0.174221</td><td style=\"text-align: right;\"> -0.00954425</td><td style=\"text-align: right;\">  0.111455 </td><td style=\"text-align: right;\">  0.00615684</td><td style=\"text-align: right;\"> -0.0335435</td><td style=\"text-align: right;\"> -0.0944393</td><td style=\"text-align: right;\">  0.0988974 </td><td style=\"text-align: right;\"> -0.111975</td><td style=\"text-align: right;\"> -0.057603  </td><td style=\"text-align: right;\"> -0.025231  </td><td style=\"text-align: right;\"> -0.0769649 </td><td style=\"text-align: right;\">  0.105855   </td><td style=\"text-align: right;\"> -0.129419 </td><td style=\"text-align: right;\"> -0.117516 </td><td style=\"text-align: right;\"> -0.0710559</td><td style=\"text-align: right;\"> -0.0529654 </td><td style=\"text-align: right;\"> -0.16813   </td><td style=\"text-align: right;\">  0.247982  </td><td style=\"text-align: right;\">  0.00820406</td><td style=\"text-align: right;\"> -0.197801 </td><td style=\"text-align: right;\"> -0.0958347</td><td style=\"text-align: right;\">  0.229317 </td><td style=\"text-align: right;\"> -0.160383 </td><td style=\"text-align: right;\"> -0.0410334 </td><td style=\"text-align: right;\">  0.0272723</td><td style=\"text-align: right;\"> -0.278881</td><td style=\"text-align: right;\">  0.245991</td><td style=\"text-align: right;\">  0.0221272</td><td style=\"text-align: right;\"> -0.197836  </td><td style=\"text-align: right;\">  0.135657 </td><td style=\"text-align: right;\">  0.149535 </td><td style=\"text-align: right;\">  0.0691108 </td></tr>\n",
       "<tr><td style=\"text-align: right;\">  0.0964652</td><td style=\"text-align: right;\"> -0.10823  </td><td style=\"text-align: right;\">  0.027561 </td><td style=\"text-align: right;\">  0.0291323</td><td style=\"text-align: right;\"> -0.0868234</td><td style=\"text-align: right;\"> -0.00845176</td><td style=\"text-align: right;\">  0.0527105</td><td style=\"text-align: right;\"> -0.0733109</td><td style=\"text-align: right;\"> -0.0620688  </td><td style=\"text-align: right;\">  0.0192217 </td><td style=\"text-align: right;\">  0.0509842</td><td style=\"text-align: right;\"> -0.0358243</td><td style=\"text-align: right;\"> -0.0356865</td><td style=\"text-align: right;\">  0.16199 </td><td style=\"text-align: right;\"> -0.0692662</td><td style=\"text-align: right;\">  0.20999 </td><td style=\"text-align: right;\">  0.114925</td><td style=\"text-align: right;\"> -0.158997  </td><td style=\"text-align: right;\">  0.0300578</td><td style=\"text-align: right;\">  0.0774365</td><td style=\"text-align: right;\"> -0.0310635</td><td style=\"text-align: right;\"> -0.142141</td><td style=\"text-align: right;\">  0.08094   </td><td style=\"text-align: right;\">  0.0814133</td><td style=\"text-align: right;\"> -0.0145788 </td><td style=\"text-align: right;\"> -0.00344094</td><td style=\"text-align: right;\">  0.0905133  </td><td style=\"text-align: right;\"> -0.298434</td><td style=\"text-align: right;\"> -0.104205 </td><td style=\"text-align: right;\"> -0.063938  </td><td style=\"text-align: right;\">  0.0333932 </td><td style=\"text-align: right;\"> -0.0825634 </td><td style=\"text-align: right;\">  0.104532 </td><td style=\"text-align: right;\"> -0.0865102</td><td style=\"text-align: right;\"> -0.161631 </td><td style=\"text-align: right;\">  0.0904245</td><td style=\"text-align: right;\">  0.0381537</td><td style=\"text-align: right;\"> -0.172932  </td><td style=\"text-align: right;\"> -0.0862824</td><td style=\"text-align: right;\"> -0.0680324</td><td style=\"text-align: right;\">  0.0794604</td><td style=\"text-align: right;\"> -0.187912 </td><td style=\"text-align: right;\">  0.16794 </td><td style=\"text-align: right;\"> -0.0121187 </td><td style=\"text-align: right;\"> -0.0613665</td><td style=\"text-align: right;\">  0.124316 </td><td style=\"text-align: right;\"> -0.200996 </td><td style=\"text-align: right;\">  0.0793555</td><td style=\"text-align: right;\">  0.147863 </td><td style=\"text-align: right;\"> -0.218072</td><td style=\"text-align: right;\">  0.0081886 </td><td style=\"text-align: right;\">  0.0575036 </td><td style=\"text-align: right;\"> -0.145931  </td><td style=\"text-align: right;\"> -0.0316739 </td><td style=\"text-align: right;\">  0.23965 </td><td style=\"text-align: right;\">  0.0935238</td><td style=\"text-align: right;\">  0.0943937</td><td style=\"text-align: right;\">  0.108307 </td><td style=\"text-align: right;\">  0.0467643 </td><td style=\"text-align: right;\"> -0.0754282 </td><td style=\"text-align: right;\"> -0.0260248</td><td style=\"text-align: right;\"> -0.175749 </td><td style=\"text-align: right;\">  0.0334677 </td><td style=\"text-align: right;\"> -0.0281353</td><td style=\"text-align: right;\">  0.0169429 </td><td style=\"text-align: right;\"> -0.160178</td><td style=\"text-align: right;\">  0.0834497 </td><td style=\"text-align: right;\">  0.048863  </td><td style=\"text-align: right;\">  0.155679</td><td style=\"text-align: right;\"> -0.0978415 </td><td style=\"text-align: right;\">  0.0207972</td><td style=\"text-align: right;\">  0.0370267 </td><td style=\"text-align: right;\">  0.0565746</td><td style=\"text-align: right;\"> -0.0279533</td><td style=\"text-align: right;\">  0.122788  </td><td style=\"text-align: right;\"> -0.154013</td><td style=\"text-align: right;\"> -0.0214016 </td><td style=\"text-align: right;\"> -0.0817125 </td><td style=\"text-align: right;\">  0.00846402</td><td style=\"text-align: right;\"> -0.00115646 </td><td style=\"text-align: right;\">  0.136231 </td><td style=\"text-align: right;\"> -0.0432557</td><td style=\"text-align: right;\"> -0.0997537</td><td style=\"text-align: right;\">  0.00674368</td><td style=\"text-align: right;\"> -0.104413  </td><td style=\"text-align: right;\">  0.00692961</td><td style=\"text-align: right;\">  0.0427426 </td><td style=\"text-align: right;\">  0.0185932</td><td style=\"text-align: right;\"> -0.0674162</td><td style=\"text-align: right;\">  0.0423071</td><td style=\"text-align: right;\"> -0.0759602</td><td style=\"text-align: right;\"> -0.00600495</td><td style=\"text-align: right;\">  0.0133803</td><td style=\"text-align: right;\"> -0.136571</td><td style=\"text-align: right;\">  0.250557</td><td style=\"text-align: right;\"> -0.0400681</td><td style=\"text-align: right;\"> -0.118222  </td><td style=\"text-align: right;\"> -0.0151671</td><td style=\"text-align: right;\"> -0.0209199</td><td style=\"text-align: right;\"> -0.0502804 </td></tr>\n",
       "<tr><td style=\"text-align: right;\"> -0.114474 </td><td style=\"text-align: right;\"> -0.123155 </td><td style=\"text-align: right;\"> -0.0456071</td><td style=\"text-align: right;\">  0.0749417</td><td style=\"text-align: right;\"> -0.107684 </td><td style=\"text-align: right;\">  0.0536881 </td><td style=\"text-align: right;\">  0.0358793</td><td style=\"text-align: right;\"> -0.0565285</td><td style=\"text-align: right;\"> -0.000633994</td><td style=\"text-align: right;\">  0.0827737 </td><td style=\"text-align: right;\">  0.0802527</td><td style=\"text-align: right;\">  0.0895195</td><td style=\"text-align: right;\"> -0.0143764</td><td style=\"text-align: right;\">  0.200999</td><td style=\"text-align: right;\"> -0.0602914</td><td style=\"text-align: right;\">  0.187933</td><td style=\"text-align: right;\">  0.19632 </td><td style=\"text-align: right;\"> -0.0613788 </td><td style=\"text-align: right;\">  0.0237073</td><td style=\"text-align: right;\">  0.177583 </td><td style=\"text-align: right;\"> -0.0316395</td><td style=\"text-align: right;\"> -0.199878</td><td style=\"text-align: right;\"> -0.0785296 </td><td style=\"text-align: right;\">  0.0591313</td><td style=\"text-align: right;\">  0.0277744 </td><td style=\"text-align: right;\">  0.0225277 </td><td style=\"text-align: right;\">  0.00119485 </td><td style=\"text-align: right;\"> -0.331018</td><td style=\"text-align: right;\"> -0.100997 </td><td style=\"text-align: right;\"> -0.118098  </td><td style=\"text-align: right;\">  0.0377747 </td><td style=\"text-align: right;\"> -0.0586575 </td><td style=\"text-align: right;\">  0.105305 </td><td style=\"text-align: right;\"> -0.0215095</td><td style=\"text-align: right;\"> -0.0915707</td><td style=\"text-align: right;\">  0.0447623</td><td style=\"text-align: right;\">  0.0689068</td><td style=\"text-align: right;\"> -0.0670955 </td><td style=\"text-align: right;\"> -0.051789 </td><td style=\"text-align: right;\"> -0.0661558</td><td style=\"text-align: right;\"> -0.0448719</td><td style=\"text-align: right;\"> -0.207576 </td><td style=\"text-align: right;\">  0.122687</td><td style=\"text-align: right;\"> -0.00965332</td><td style=\"text-align: right;\">  0.0542595</td><td style=\"text-align: right;\">  0.147923 </td><td style=\"text-align: right;\"> -0.174959 </td><td style=\"text-align: right;\">  0.0927659</td><td style=\"text-align: right;\">  0.128903 </td><td style=\"text-align: right;\"> -0.256757</td><td style=\"text-align: right;\">  0.0512369 </td><td style=\"text-align: right;\">  0.0360248 </td><td style=\"text-align: right;\">  0.0239349 </td><td style=\"text-align: right;\">  0.00302026</td><td style=\"text-align: right;\">  0.251591</td><td style=\"text-align: right;\">  0.0862478</td><td style=\"text-align: right;\">  0.220018 </td><td style=\"text-align: right;\">  0.0907357</td><td style=\"text-align: right;\">  0.0769247 </td><td style=\"text-align: right;\">  0.00301281</td><td style=\"text-align: right;\"> -0.0133904</td><td style=\"text-align: right;\"> -0.160344 </td><td style=\"text-align: right;\"> -0.0196893 </td><td style=\"text-align: right;\"> -0.0481923</td><td style=\"text-align: right;\">  0.00554107</td><td style=\"text-align: right;\"> -0.149963</td><td style=\"text-align: right;\">  0.040596  </td><td style=\"text-align: right;\"> -0.0284717 </td><td style=\"text-align: right;\">  0.182679</td><td style=\"text-align: right;\"> -0.0611707 </td><td style=\"text-align: right;\">  0.082647 </td><td style=\"text-align: right;\"> -0.00856911</td><td style=\"text-align: right;\">  0.0102177</td><td style=\"text-align: right;\">  0.0244645</td><td style=\"text-align: right;\">  0.0329487 </td><td style=\"text-align: right;\"> -0.192205</td><td style=\"text-align: right;\"> -0.0159795 </td><td style=\"text-align: right;\"> -0.031591  </td><td style=\"text-align: right;\">  0.0291676 </td><td style=\"text-align: right;\">  0.0366462  </td><td style=\"text-align: right;\">  0.0699434</td><td style=\"text-align: right;\"> -0.113388 </td><td style=\"text-align: right;\"> -0.0356728</td><td style=\"text-align: right;\"> -0.0233987 </td><td style=\"text-align: right;\"> -0.0755069 </td><td style=\"text-align: right;\">  0.112534  </td><td style=\"text-align: right;\">  0.0558307 </td><td style=\"text-align: right;\"> -0.0465536</td><td style=\"text-align: right;\"> -0.146087 </td><td style=\"text-align: right;\">  0.128777 </td><td style=\"text-align: right;\"> -0.0956233</td><td style=\"text-align: right;\"> -0.0599469 </td><td style=\"text-align: right;\">  0.0442363</td><td style=\"text-align: right;\"> -0.144152</td><td style=\"text-align: right;\">  0.163146</td><td style=\"text-align: right;\">  0.0224772</td><td style=\"text-align: right;\"> -0.0621098 </td><td style=\"text-align: right;\">  0.0665793</td><td style=\"text-align: right;\">  0.112569 </td><td style=\"text-align: right;\"> -0.0533267 </td></tr>\n",
       "<tr><td style=\"text-align: right;\"> -0.0413426</td><td style=\"text-align: right;\"> -0.119031 </td><td style=\"text-align: right;\"> -0.0441715</td><td style=\"text-align: right;\">  0.054268 </td><td style=\"text-align: right;\"> -0.0721933</td><td style=\"text-align: right;\">  0.0260743 </td><td style=\"text-align: right;\">  0.0934903</td><td style=\"text-align: right;\">  0.0623337</td><td style=\"text-align: right;\"> -0.00359134 </td><td style=\"text-align: right;\">  0.00440443</td><td style=\"text-align: right;\">  0.0836744</td><td style=\"text-align: right;\"> -0.0550696</td><td style=\"text-align: right;\"> -0.0834214</td><td style=\"text-align: right;\">  0.108   </td><td style=\"text-align: right;\"> -0.215903 </td><td style=\"text-align: right;\">  0.136322</td><td style=\"text-align: right;\">  0.211422</td><td style=\"text-align: right;\"> -0.075307  </td><td style=\"text-align: right;\">  0.0165938</td><td style=\"text-align: right;\">  0.0889226</td><td style=\"text-align: right;\"> -0.0516406</td><td style=\"text-align: right;\"> -0.16996 </td><td style=\"text-align: right;\"> -0.0262668 </td><td style=\"text-align: right;\"> -0.0415797</td><td style=\"text-align: right;\">  0.11398   </td><td style=\"text-align: right;\"> -0.0605729 </td><td style=\"text-align: right;\">  0.010093   </td><td style=\"text-align: right;\"> -0.265407</td><td style=\"text-align: right;\"> -0.106217 </td><td style=\"text-align: right;\"> -0.191201  </td><td style=\"text-align: right;\"> -0.0712948 </td><td style=\"text-align: right;\"> -0.0409238 </td><td style=\"text-align: right;\">  0.0694391</td><td style=\"text-align: right;\"> -0.0669705</td><td style=\"text-align: right;\"> -0.0772293</td><td style=\"text-align: right;\">  0.0362471</td><td style=\"text-align: right;\">  0.130502 </td><td style=\"text-align: right;\"> -0.00721479</td><td style=\"text-align: right;\"> -0.0469346</td><td style=\"text-align: right;\"> -0.0553545</td><td style=\"text-align: right;\">  0.0728987</td><td style=\"text-align: right;\"> -0.204795 </td><td style=\"text-align: right;\">  0.138154</td><td style=\"text-align: right;\">  0.0519356 </td><td style=\"text-align: right;\">  0.0251504</td><td style=\"text-align: right;\">  0.0828274</td><td style=\"text-align: right;\"> -0.274402 </td><td style=\"text-align: right;\">  0.126423 </td><td style=\"text-align: right;\">  0.094067 </td><td style=\"text-align: right;\"> -0.208084</td><td style=\"text-align: right;\">  0.0403699 </td><td style=\"text-align: right;\">  0.00168235</td><td style=\"text-align: right;\"> -0.0489257 </td><td style=\"text-align: right;\">  0.0600789 </td><td style=\"text-align: right;\">  0.26505 </td><td style=\"text-align: right;\">  0.106428 </td><td style=\"text-align: right;\">  0.183811 </td><td style=\"text-align: right;\">  0.111298 </td><td style=\"text-align: right;\">  0.0547711 </td><td style=\"text-align: right;\"> -0.113675  </td><td style=\"text-align: right;\">  0.0242494</td><td style=\"text-align: right;\"> -0.160449 </td><td style=\"text-align: right;\"> -0.0288566 </td><td style=\"text-align: right;\"> -0.0653781</td><td style=\"text-align: right;\">  0.00495402</td><td style=\"text-align: right;\"> -0.195447</td><td style=\"text-align: right;\">  0.115666  </td><td style=\"text-align: right;\"> -0.0890973 </td><td style=\"text-align: right;\">  0.281751</td><td style=\"text-align: right;\"> -0.118482  </td><td style=\"text-align: right;\">  0.0915959</td><td style=\"text-align: right;\">  0.0263536 </td><td style=\"text-align: right;\"> -0.0574042</td><td style=\"text-align: right;\"> -0.0244528</td><td style=\"text-align: right;\"> -0.00689065</td><td style=\"text-align: right;\"> -0.220911</td><td style=\"text-align: right;\"> -0.0953876 </td><td style=\"text-align: right;\">  0.00571009</td><td style=\"text-align: right;\">  0.101652  </td><td style=\"text-align: right;\"> -0.0374884  </td><td style=\"text-align: right;\"> -0.0254963</td><td style=\"text-align: right;\"> -0.100152 </td><td style=\"text-align: right;\"> -0.119587 </td><td style=\"text-align: right;\">  0.0169516 </td><td style=\"text-align: right;\"> -0.00818928</td><td style=\"text-align: right;\">  0.231549  </td><td style=\"text-align: right;\"> -0.0164194 </td><td style=\"text-align: right;\">  0.0952633</td><td style=\"text-align: right;\">  0.0432596</td><td style=\"text-align: right;\">  0.0188707</td><td style=\"text-align: right;\"> -0.113229 </td><td style=\"text-align: right;\"> -0.0767075 </td><td style=\"text-align: right;\">  0.0304439</td><td style=\"text-align: right;\"> -0.125046</td><td style=\"text-align: right;\">  0.142413</td><td style=\"text-align: right;\"> -0.0483912</td><td style=\"text-align: right;\">  0.00862196</td><td style=\"text-align: right;\">  0.0115091</td><td style=\"text-align: right;\">  0.0855948</td><td style=\"text-align: right;\">  0.00640192</td></tr>\n",
       "<tr><td style=\"text-align: right;\">nan        </td><td style=\"text-align: right;\">nan        </td><td style=\"text-align: right;\">nan        </td><td style=\"text-align: right;\">nan        </td><td style=\"text-align: right;\">nan        </td><td style=\"text-align: right;\">nan         </td><td style=\"text-align: right;\">nan        </td><td style=\"text-align: right;\">nan        </td><td style=\"text-align: right;\">nan          </td><td style=\"text-align: right;\">nan         </td><td style=\"text-align: right;\">nan        </td><td style=\"text-align: right;\">nan        </td><td style=\"text-align: right;\">nan        </td><td style=\"text-align: right;\">nan       </td><td style=\"text-align: right;\">nan        </td><td style=\"text-align: right;\">nan       </td><td style=\"text-align: right;\">nan       </td><td style=\"text-align: right;\">nan         </td><td style=\"text-align: right;\">nan        </td><td style=\"text-align: right;\">nan        </td><td style=\"text-align: right;\">nan        </td><td style=\"text-align: right;\">nan       </td><td style=\"text-align: right;\">nan         </td><td style=\"text-align: right;\">nan        </td><td style=\"text-align: right;\">nan         </td><td style=\"text-align: right;\">nan         </td><td style=\"text-align: right;\">nan          </td><td style=\"text-align: right;\">nan       </td><td style=\"text-align: right;\">nan        </td><td style=\"text-align: right;\">nan         </td><td style=\"text-align: right;\">nan         </td><td style=\"text-align: right;\">nan         </td><td style=\"text-align: right;\">nan        </td><td style=\"text-align: right;\">nan        </td><td style=\"text-align: right;\">nan        </td><td style=\"text-align: right;\">nan        </td><td style=\"text-align: right;\">nan        </td><td style=\"text-align: right;\">nan         </td><td style=\"text-align: right;\">nan        </td><td style=\"text-align: right;\">nan        </td><td style=\"text-align: right;\">nan        </td><td style=\"text-align: right;\">nan        </td><td style=\"text-align: right;\">nan       </td><td style=\"text-align: right;\">nan         </td><td style=\"text-align: right;\">nan        </td><td style=\"text-align: right;\">nan        </td><td style=\"text-align: right;\">nan        </td><td style=\"text-align: right;\">nan        </td><td style=\"text-align: right;\">nan        </td><td style=\"text-align: right;\">nan       </td><td style=\"text-align: right;\">nan         </td><td style=\"text-align: right;\">nan         </td><td style=\"text-align: right;\">nan         </td><td style=\"text-align: right;\">nan         </td><td style=\"text-align: right;\">nan       </td><td style=\"text-align: right;\">nan        </td><td style=\"text-align: right;\">nan        </td><td style=\"text-align: right;\">nan        </td><td style=\"text-align: right;\">nan         </td><td style=\"text-align: right;\">nan         </td><td style=\"text-align: right;\">nan        </td><td style=\"text-align: right;\">nan        </td><td style=\"text-align: right;\">nan         </td><td style=\"text-align: right;\">nan        </td><td style=\"text-align: right;\">nan         </td><td style=\"text-align: right;\">nan       </td><td style=\"text-align: right;\">nan         </td><td style=\"text-align: right;\">nan         </td><td style=\"text-align: right;\">nan       </td><td style=\"text-align: right;\">nan         </td><td style=\"text-align: right;\">nan        </td><td style=\"text-align: right;\">nan         </td><td style=\"text-align: right;\">nan        </td><td style=\"text-align: right;\">nan        </td><td style=\"text-align: right;\">nan         </td><td style=\"text-align: right;\">nan       </td><td style=\"text-align: right;\">nan         </td><td style=\"text-align: right;\">nan         </td><td style=\"text-align: right;\">nan         </td><td style=\"text-align: right;\">nan          </td><td style=\"text-align: right;\">nan        </td><td style=\"text-align: right;\">nan        </td><td style=\"text-align: right;\">nan        </td><td style=\"text-align: right;\">nan         </td><td style=\"text-align: right;\">nan         </td><td style=\"text-align: right;\">nan         </td><td style=\"text-align: right;\">nan         </td><td style=\"text-align: right;\">nan        </td><td style=\"text-align: right;\">nan        </td><td style=\"text-align: right;\">nan        </td><td style=\"text-align: right;\">nan        </td><td style=\"text-align: right;\">nan         </td><td style=\"text-align: right;\">nan        </td><td style=\"text-align: right;\">nan       </td><td style=\"text-align: right;\">nan       </td><td style=\"text-align: right;\">nan        </td><td style=\"text-align: right;\">nan         </td><td style=\"text-align: right;\">nan        </td><td style=\"text-align: right;\">nan        </td><td style=\"text-align: right;\">nan         </td></tr>\n",
       "</tbody>\n",
       "</table>"
      ]
     },
     "metadata": {},
     "output_type": "display_data"
    },
    {
     "data": {
      "text/plain": []
     },
     "execution_count": 33,
     "metadata": {},
     "output_type": "execute_result"
    }
   ],
   "source": [
    "desc_vecs.head()"
   ]
  },
  {
   "cell_type": "code",
   "execution_count": 34,
   "metadata": {},
   "outputs": [],
   "source": [
    "# Add aggregated word embeddings \n",
    "loans = loans.cbind(desc_vecs)"
   ]
  },
  {
   "cell_type": "markdown",
   "metadata": {},
   "source": [
    "# Step 5 (of 10). Model training\n",
    "\n",
    "Now that we have cleaned our data and added new columns, we will train a model to predict bad loans."
   ]
  },
  {
   "cell_type": "code",
   "execution_count": 35,
   "metadata": {},
   "outputs": [],
   "source": [
    "train, test = loans.split_frame(seed=25, ratios=[0.75])"
   ]
  },
  {
   "cell_type": "code",
   "execution_count": 36,
   "metadata": {},
   "outputs": [],
   "source": [
    "from h2o.estimators import H2OGradientBoostingEstimator\n",
    "\n",
    "cols_to_remove = [\"initial_list_status\",\n",
    "                  \"out_prncp\",\n",
    "                  \"out_prncp_inv\",\n",
    "                  \"total_pymnt\",\n",
    "                  \"total_pymnt_inv\",\n",
    "                  \"total_rec_prncp\", \n",
    "                  \"total_rec_int\",\n",
    "                  \"total_rec_late_fee\",\n",
    "                  \"recoveries\",\n",
    "                  \"collection_recovery_fee\",\n",
    "                  \"last_pymnt_d\", \n",
    "                  \"last_pymnt_amnt\",\n",
    "                  \"next_pymnt_d\",\n",
    "                  \"last_credit_pull_d\",\n",
    "                  \"collections_12_mths_ex_med\" , \n",
    "                  \"mths_since_last_major_derog\",\n",
    "                  \"policy_code\",\n",
    "                  \"loan_status\",\n",
    "                  \"funded_amnt\",\n",
    "                  \"funded_amnt_inv\",\n",
    "                  \"mths_since_last_delinq\",\n",
    "                  \"mths_since_last_record\",\n",
    "                  \"id\",\n",
    "                  \"member_id\",\n",
    "                  \"desc\",\n",
    "                  \"zip_code\"]\n",
    "\n",
    "predictors = list(set(loans.col_names) - set(cols_to_remove))"
   ]
  },
  {
   "cell_type": "code",
   "execution_count": 37,
   "metadata": {},
   "outputs": [
    {
     "data": {
      "text/plain": [
       "['C34',\n",
       " 'C39',\n",
       " 'emp_length',\n",
       " 'C12',\n",
       " 'C92',\n",
       " 'purpose',\n",
       " 'C51',\n",
       " 'C48',\n",
       " 'C5',\n",
       " 'C27',\n",
       " 'C7',\n",
       " 'C11',\n",
       " 'C28',\n",
       " 'C73',\n",
       " 'pub_rec',\n",
       " 'credit_length',\n",
       " 'annual_inc',\n",
       " 'C17',\n",
       " 'C57',\n",
       " 'pymnt_plan',\n",
       " 'C93',\n",
       " 'C24',\n",
       " 'C38',\n",
       " 'C40',\n",
       " 'C74',\n",
       " 'home_ownership',\n",
       " 'C23',\n",
       " 'C70',\n",
       " 'C71',\n",
       " 'C13',\n",
       " 'C26',\n",
       " 'dti',\n",
       " 'C19',\n",
       " 'C30',\n",
       " 'C95',\n",
       " 'C62',\n",
       " 'C76',\n",
       " 'C55',\n",
       " 'C87',\n",
       " 'C45',\n",
       " 'C35',\n",
       " 'C1',\n",
       " 'C22',\n",
       " 'C52',\n",
       " 'C25',\n",
       " 'C88',\n",
       " 'C66',\n",
       " 'inq_last_6mths',\n",
       " 'earliest_cr_line',\n",
       " 'C80',\n",
       " 'revol_util',\n",
       " 'C68',\n",
       " 'sub_grade',\n",
       " 'C42',\n",
       " 'C98',\n",
       " 'verification_status',\n",
       " 'C69',\n",
       " 'C83',\n",
       " 'C84',\n",
       " 'C21',\n",
       " 'C72',\n",
       " 'C18',\n",
       " 'C4',\n",
       " 'open_acc',\n",
       " 'C78',\n",
       " 'C99',\n",
       " 'C41',\n",
       " 'C29',\n",
       " 'url',\n",
       " 'C49',\n",
       " 'C60',\n",
       " 'grade',\n",
       " 'issue_d_year',\n",
       " 'C67',\n",
       " 'C91',\n",
       " 'C15',\n",
       " 'C43',\n",
       " 'C56',\n",
       " 'C89',\n",
       " 'term',\n",
       " 'C59',\n",
       " 'C33',\n",
       " 'C79',\n",
       " 'C37',\n",
       " 'C61',\n",
       " 'C63',\n",
       " 'C14',\n",
       " 'C10',\n",
       " 'C50',\n",
       " 'C54',\n",
       " 'C65',\n",
       " 'C64',\n",
       " 'C90',\n",
       " 'C96',\n",
       " 'delinq_2yrs',\n",
       " 'C46',\n",
       " 'C53',\n",
       " 'C85',\n",
       " 'C9',\n",
       " 'C36',\n",
       " 'C47',\n",
       " 'bad_loan',\n",
       " 'C44',\n",
       " 'C97',\n",
       " 'C31',\n",
       " 'C6',\n",
       " 'issue_d',\n",
       " 'C20',\n",
       " 'C77',\n",
       " 'emp_title',\n",
       " 'C75',\n",
       " 'issue_d_month',\n",
       " 'C32',\n",
       " 'C81',\n",
       " 'int_rate',\n",
       " 'C58',\n",
       " 'loan_amnt',\n",
       " 'title',\n",
       " 'total_acc',\n",
       " 'C3',\n",
       " 'C94',\n",
       " 'revol_bal',\n",
       " 'C8',\n",
       " 'C100',\n",
       " 'addr_state',\n",
       " 'C86',\n",
       " 'C16',\n",
       " 'C82',\n",
       " 'installment',\n",
       " 'C2']"
      ]
     },
     "execution_count": 37,
     "metadata": {},
     "output_type": "execute_result"
    }
   ],
   "source": [
    "predictors"
   ]
  },
  {
   "cell_type": "code",
   "execution_count": 38,
   "metadata": {},
   "outputs": [
    {
     "name": "stdout",
     "output_type": "stream",
     "text": [
      "gbm Model Build progress: |███████████████████████████████████████████████| 100%\n"
     ]
    }
   ],
   "source": [
    "gbm_model = H2OGradientBoostingEstimator(stopping_metric=\"logloss\",\n",
    "                                         stopping_rounds= 5,  # early stopping\n",
    "                                         score_tree_interval=5,\n",
    "                                         ntrees=500,\n",
    "                                         model_id=\"gbm\",\n",
    "                                         nfolds=5,\n",
    "                                         seed=25,\n",
    "                                         fold_assignment='stratified')\n",
    "gbm_model.train(x=predictors,\n",
    "                y=\"bad_loan\",\n",
    "                training_frame=train,\n",
    "                validation_frame=test)"
   ]
  },
  {
   "cell_type": "markdown",
   "metadata": {},
   "source": [
    "# Step 7 (of 10).  Examine model accuracy\n",
    "\n",
    "The plot below shows the performance of the model as more trees are built.  This graph can help us see if our model is overfitting.  Our early stopping kicked in at 100 trees.  This is where the model was no longer improving performance on the test data."
   ]
  },
  {
   "cell_type": "code",
   "execution_count": 39,
   "metadata": {},
   "outputs": [
    {
     "data": {
      "image/png": "[encoded data removed]",
      "text/plain": [
       "<Figure size 432x288 with 1 Axes>"
      ]
     },
     "metadata": {
      "needs_background": "light"
     },
     "output_type": "display_data"
    }
   ],
   "source": [
    "%matplotlib inline\n",
    "gbm_model.plot()"
   ]
  },
  {
   "cell_type": "markdown",
   "metadata": {},
   "source": [
    "The ROC curve of the training and testing data are shown below.  The area under the ROC curve is much higher for the training data than the testing data indicating that the model may be beginning to memorize the training data."
   ]
  },
  {
   "cell_type": "code",
   "execution_count": 40,
   "metadata": {},
   "outputs": [
    {
     "name": "stdout",
     "output_type": "stream",
     "text": [
      "Training Data\n"
     ]
    },
    {
     "data": {
      "image/png": "[encoded data removed]",
      "text/plain": [
       "<Figure size 432x288 with 1 Axes>"
      ]
     },
     "metadata": {
      "needs_background": "light"
     },
     "output_type": "display_data"
    },
    {
     "name": "stdout",
     "output_type": "stream",
     "text": [
      "Testing Data\n"
     ]
    },
    {
     "data": {
      "image/png": "[encoded data removed]",
      "text/plain": [
       "<Figure size 432x288 with 1 Axes>"
      ]
     },
     "metadata": {
      "needs_background": "light"
     },
     "output_type": "display_data"
    },
    {
     "name": "stdout",
     "output_type": "stream",
     "text": [
      "X-Val\n"
     ]
    },
    {
     "data": {
      "image/png": "[encoded data removed]",
      "text/plain": [
       "<Figure size 432x288 with 1 Axes>"
      ]
     },
     "metadata": {
      "needs_background": "light"
     },
     "output_type": "display_data"
    }
   ],
   "source": [
    "print(\"Training Data\")\n",
    "gbm_model.model_performance(train = True).plot()\n",
    "print(\"Testing Data\")\n",
    "gbm_model.model_performance(valid = True).plot()\n",
    "print(\"X-Val\")\n",
    "gbm_model.model_performance(xval=True).plot()"
   ]
  },
  {
   "cell_type": "markdown",
   "metadata": {},
   "source": [
    "# Step 7 (of 10). Interpret model"
   ]
  },
  {
   "cell_type": "markdown",
   "metadata": {},
   "source": [
    "The variable importance plot shows us which variables are most important to predicting `bad_loan`.  We can use partial dependency plots to learn more about how these variables affect the prediction."
   ]
  },
  {
   "cell_type": "code",
   "execution_count": 41,
   "metadata": {},
   "outputs": [
    {
     "data": {
      "image/png": "[encoded data removed]",
      "text/plain": [
       "<Figure size 1008x720 with 1 Axes>"
      ]
     },
     "metadata": {
      "needs_background": "light"
     },
     "output_type": "display_data"
    }
   ],
   "source": [
    "gbm_model.varimp_plot(20)"
   ]
  },
  {
   "cell_type": "markdown",
   "metadata": {},
   "source": [
    "The partial dependency plot of the `inq_last_6mths` predictor shows us that, as the number of inquiries in the last 6 months increases, the likelihood of the loan defaulting also increases."
   ]
  },
  {
   "cell_type": "code",
   "execution_count": 42,
   "metadata": {
    "scrolled": false
   },
   "outputs": [
    {
     "name": "stdout",
     "output_type": "stream",
     "text": [
      "PartialDependencePlot progress: |█████████████████████████████████████████| 100%\n"
     ]
    },
    {
     "data": {
      "image/png": "[encoded data removed]",
      "text/plain": [
       "<Figure size 504x720 with 1 Axes>"
      ]
     },
     "metadata": {
      "needs_background": "light"
     },
     "output_type": "display_data"
    }
   ],
   "source": [
    "pdp = gbm_model.partial_plot(cols=[\"inq_last_6mths\"], data=train)"
   ]
  },
  {
   "cell_type": "code",
   "execution_count": 43,
   "metadata": {},
   "outputs": [
    {
     "data": {
      "text/html": [
       "<table>\n",
       "<thead>\n",
       "<tr><th style=\"text-align: right;\">  inq_last_6mths</th><th style=\"text-align: right;\">  Count</th></tr>\n",
       "</thead>\n",
       "<tbody>\n",
       "<tr><td style=\"text-align: right;\">               0</td><td style=\"text-align: right;\">  17910</td></tr>\n",
       "<tr><td style=\"text-align: right;\">               1</td><td style=\"text-align: right;\">  10288</td></tr>\n",
       "<tr><td style=\"text-align: right;\">               2</td><td style=\"text-align: right;\">   5480</td></tr>\n",
       "<tr><td style=\"text-align: right;\">               3</td><td style=\"text-align: right;\">   2942</td></tr>\n",
       "<tr><td style=\"text-align: right;\">               4</td><td style=\"text-align: right;\">   1022</td></tr>\n",
       "<tr><td style=\"text-align: right;\">               5</td><td style=\"text-align: right;\">    590</td></tr>\n",
       "<tr><td style=\"text-align: right;\">               6</td><td style=\"text-align: right;\">    335</td></tr>\n",
       "<tr><td style=\"text-align: right;\">               7</td><td style=\"text-align: right;\">    181</td></tr>\n",
       "<tr><td style=\"text-align: right;\">               8</td><td style=\"text-align: right;\">    112</td></tr>\n",
       "<tr><td style=\"text-align: right;\">               9</td><td style=\"text-align: right;\">     50</td></tr>\n",
       "<tr><td style=\"text-align: right;\">              10</td><td style=\"text-align: right;\">     24</td></tr>\n",
       "<tr><td style=\"text-align: right;\">              11</td><td style=\"text-align: right;\">     15</td></tr>\n",
       "<tr><td style=\"text-align: right;\">              12</td><td style=\"text-align: right;\">     15</td></tr>\n",
       "<tr><td style=\"text-align: right;\">              13</td><td style=\"text-align: right;\">      6</td></tr>\n",
       "<tr><td style=\"text-align: right;\">              14</td><td style=\"text-align: right;\">      6</td></tr>\n",
       "<tr><td style=\"text-align: right;\">              15</td><td style=\"text-align: right;\">      9</td></tr>\n",
       "<tr><td style=\"text-align: right;\">              16</td><td style=\"text-align: right;\">      3</td></tr>\n",
       "<tr><td style=\"text-align: right;\">              17</td><td style=\"text-align: right;\">      2</td></tr>\n",
       "<tr><td style=\"text-align: right;\">              18</td><td style=\"text-align: right;\">      4</td></tr>\n",
       "<tr><td style=\"text-align: right;\">              19</td><td style=\"text-align: right;\">      2</td></tr>\n",
       "<tr><td style=\"text-align: right;\">              20</td><td style=\"text-align: right;\">      1</td></tr>\n",
       "<tr><td style=\"text-align: right;\">              24</td><td style=\"text-align: right;\">      2</td></tr>\n",
       "<tr><td style=\"text-align: right;\">              25</td><td style=\"text-align: right;\">      1</td></tr>\n",
       "<tr><td style=\"text-align: right;\">              27</td><td style=\"text-align: right;\">      1</td></tr>\n",
       "<tr><td style=\"text-align: right;\">              28</td><td style=\"text-align: right;\">      1</td></tr>\n",
       "<tr><td style=\"text-align: right;\">              31</td><td style=\"text-align: right;\">      1</td></tr>\n",
       "<tr><td style=\"text-align: right;\">              32</td><td style=\"text-align: right;\">      1</td></tr>\n",
       "<tr><td style=\"text-align: right;\">              33</td><td style=\"text-align: right;\">      1</td></tr>\n",
       "</tbody>\n",
       "</table>"
      ]
     },
     "metadata": {},
     "output_type": "display_data"
    },
    {
     "data": {
      "text/plain": []
     },
     "execution_count": 43,
     "metadata": {},
     "output_type": "execute_result"
    }
   ],
   "source": [
    "loans[\"inq_last_6mths\"].table().head(100)"
   ]
  },
  {
   "cell_type": "markdown",
   "metadata": {},
   "source": [
    "# Step 8 (of 10). Save and reuse model"
   ]
  },
  {
   "cell_type": "markdown",
   "metadata": {},
   "source": [
    "The model can either be embedded into a self-contained Java MOJO/POJO package\n",
    "or it can be saved and later loaded directly in H2O-3 cluster. For production\n",
    "use, we recommend to use MOJO as it is optimised for speed. See the [guide](http://docs.h2o.ai/h2o/latest-stable/h2o-docs/productionizing.html) for further information."
   ]
  },
  {
   "cell_type": "markdown",
   "metadata": {},
   "source": [
    "### Downloading MOJO"
   ]
  },
  {
   "cell_type": "code",
   "execution_count": 44,
   "metadata": {},
   "outputs": [
    {
     "data": {
      "text/plain": [
       "'/Users/vaclav/Projects/h2o-tutorials/training/h2o_3_hands_on/lending_club_loan_default/gbm.zip'"
      ]
     },
     "execution_count": 44,
     "metadata": {},
     "output_type": "execute_result"
    }
   ],
   "source": [
    "gbm_model.download_mojo()"
   ]
  },
  {
   "cell_type": "markdown",
   "metadata": {},
   "source": [
    "### Save and reuse the model "
   ]
  },
  {
   "cell_type": "markdown",
   "metadata": {},
   "source": [
    "We can save the model to disk for later batch scoring in H2O cluster."
   ]
  },
  {
   "cell_type": "code",
   "execution_count": 45,
   "metadata": {},
   "outputs": [
    {
     "name": "stdout",
     "output_type": "stream",
     "text": [
      "/Users/vaclav/Projects/h2o-tutorials/training/h2o_3_hands_on/lending_club_loan_default/gbm\n"
     ]
    }
   ],
   "source": [
    "model_path = h2o.save_model(model=gbm_model, force=True)\n",
    "print(model_path)\n",
    "loaded_model = h2o.load_model(path=model_path)"
   ]
  },
  {
   "cell_type": "markdown",
   "metadata": {},
   "source": [
    "We can also score new data using the predict function:"
   ]
  },
  {
   "cell_type": "code",
   "execution_count": 46,
   "metadata": {
    "scrolled": true
   },
   "outputs": [
    {
     "name": "stdout",
     "output_type": "stream",
     "text": [
      "gbm prediction progress: |████████████████████████████████████████████████| 100%\n"
     ]
    },
    {
     "data": {
      "text/html": [
       "<table>\n",
       "<thead>\n",
       "<tr><th style=\"text-align: right;\">  predict</th><th style=\"text-align: right;\">      p0</th><th style=\"text-align: right;\">       p1</th></tr>\n",
       "</thead>\n",
       "<tbody>\n",
       "<tr><td style=\"text-align: right;\">        0</td><td style=\"text-align: right;\">0.7406  </td><td style=\"text-align: right;\">0.2594   </td></tr>\n",
       "<tr><td style=\"text-align: right;\">        0</td><td style=\"text-align: right;\">0.982948</td><td style=\"text-align: right;\">0.0170524</td></tr>\n",
       "<tr><td style=\"text-align: right;\">        0</td><td style=\"text-align: right;\">0.884485</td><td style=\"text-align: right;\">0.115515 </td></tr>\n",
       "<tr><td style=\"text-align: right;\">        0</td><td style=\"text-align: right;\">0.852167</td><td style=\"text-align: right;\">0.147833 </td></tr>\n",
       "<tr><td style=\"text-align: right;\">        0</td><td style=\"text-align: right;\">0.904289</td><td style=\"text-align: right;\">0.0957114</td></tr>\n",
       "<tr><td style=\"text-align: right;\">        0</td><td style=\"text-align: right;\">0.892322</td><td style=\"text-align: right;\">0.107678 </td></tr>\n",
       "<tr><td style=\"text-align: right;\">        0</td><td style=\"text-align: right;\">0.9598  </td><td style=\"text-align: right;\">0.0402005</td></tr>\n",
       "<tr><td style=\"text-align: right;\">        0</td><td style=\"text-align: right;\">0.920678</td><td style=\"text-align: right;\">0.0793219</td></tr>\n",
       "<tr><td style=\"text-align: right;\">        0</td><td style=\"text-align: right;\">0.973669</td><td style=\"text-align: right;\">0.0263306</td></tr>\n",
       "<tr><td style=\"text-align: right;\">        0</td><td style=\"text-align: right;\">0.801463</td><td style=\"text-align: right;\">0.198537 </td></tr>\n",
       "<tr><td style=\"text-align: right;\">        0</td><td style=\"text-align: right;\">0.938702</td><td style=\"text-align: right;\">0.0612984</td></tr>\n",
       "<tr><td style=\"text-align: right;\">        0</td><td style=\"text-align: right;\">0.864751</td><td style=\"text-align: right;\">0.135249 </td></tr>\n",
       "<tr><td style=\"text-align: right;\">        1</td><td style=\"text-align: right;\">0.617927</td><td style=\"text-align: right;\">0.382073 </td></tr>\n",
       "<tr><td style=\"text-align: right;\">        0</td><td style=\"text-align: right;\">0.858833</td><td style=\"text-align: right;\">0.141167 </td></tr>\n",
       "<tr><td style=\"text-align: right;\">        0</td><td style=\"text-align: right;\">0.931679</td><td style=\"text-align: right;\">0.068321 </td></tr>\n",
       "</tbody>\n",
       "</table>"
      ]
     },
     "metadata": {},
     "output_type": "display_data"
    },
    {
     "data": {
      "text/plain": []
     },
     "execution_count": 46,
     "metadata": {},
     "output_type": "execute_result"
    }
   ],
   "source": [
    "bad_loan_hat = loaded_model.predict(test)\n",
    "bad_loan_hat.head(15)"
   ]
  },
  {
   "cell_type": "markdown",
   "metadata": {},
   "source": [
    "# Step 9 (of 10). AutoML (optional)\n",
    "AutoML can be used for automating the machine learning workflow, which includes automatic training and tuning of many models within a user-specified time-limit. Stacked Ensembles will be automatically trained on collections of individual models to produce highly predictive ensemble models."
   ]
  },
  {
   "cell_type": "code",
   "execution_count": 47,
   "metadata": {},
   "outputs": [
    {
     "name": "stdout",
     "output_type": "stream",
     "text": [
      "AutoML progress: |████████████████████████████████████████████████████████| 100%\n"
     ]
    }
   ],
   "source": [
    "from h2o.automl import H2OAutoML\n",
    "\n",
    "aml = H2OAutoML(max_runtime_secs=300, seed=25)\n",
    "aml.train(x=predictors, y='bad_loan', training_frame=train)"
   ]
  },
  {
   "cell_type": "markdown",
   "metadata": {},
   "source": [
    "The leaderboard contains the performance metrics of the models generated by AutoML:"
   ]
  },
  {
   "cell_type": "code",
   "execution_count": 48,
   "metadata": {
    "scrolled": false
   },
   "outputs": [
    {
     "data": {
      "text/html": [
       "<table>\n",
       "<thead>\n",
       "<tr><th>model_id                                           </th><th style=\"text-align: right;\">     auc</th><th style=\"text-align: right;\">  logloss</th><th style=\"text-align: right;\">  mean_per_class_error</th><th style=\"text-align: right;\">    rmse</th><th style=\"text-align: right;\">     mse</th></tr>\n",
       "</thead>\n",
       "<tbody>\n",
       "<tr><td>XGBoost_1_AutoML_20181129_151904                   </td><td style=\"text-align: right;\">0.817297</td><td style=\"text-align: right;\"> 0.372067</td><td style=\"text-align: right;\">              0.272508</td><td style=\"text-align: right;\">0.337341</td><td style=\"text-align: right;\">0.113799</td></tr>\n",
       "<tr><td>StackedEnsemble_AllModels_AutoML_20181129_151904   </td><td style=\"text-align: right;\">0.816847</td><td style=\"text-align: right;\"> 0.374589</td><td style=\"text-align: right;\">              0.27209 </td><td style=\"text-align: right;\">0.33826 </td><td style=\"text-align: right;\">0.11442 </td></tr>\n",
       "<tr><td>StackedEnsemble_BestOfFamily_AutoML_20181129_151904</td><td style=\"text-align: right;\">0.816847</td><td style=\"text-align: right;\"> 0.374589</td><td style=\"text-align: right;\">              0.27209 </td><td style=\"text-align: right;\">0.33826 </td><td style=\"text-align: right;\">0.11442 </td></tr>\n",
       "<tr><td>DRF_1_AutoML_20181129_151904                       </td><td style=\"text-align: right;\">0.790525</td><td style=\"text-align: right;\"> 0.40051 </td><td style=\"text-align: right;\">              0.291456</td><td style=\"text-align: right;\">0.350195</td><td style=\"text-align: right;\">0.122637</td></tr>\n",
       "<tr><td>XRT_1_AutoML_20181129_151904                       </td><td style=\"text-align: right;\">0.790171</td><td style=\"text-align: right;\"> 0.407344</td><td style=\"text-align: right;\">              0.295291</td><td style=\"text-align: right;\">0.35416 </td><td style=\"text-align: right;\">0.12543 </td></tr>\n",
       "<tr><td>GLM_grid_1_AutoML_20181129_151904_model_1          </td><td style=\"text-align: right;\">0.785061</td><td style=\"text-align: right;\"> 0.411964</td><td style=\"text-align: right;\">              0.297793</td><td style=\"text-align: right;\">0.358476</td><td style=\"text-align: right;\">0.128505</td></tr>\n",
       "</tbody>\n",
       "</table>"
      ]
     },
     "metadata": {},
     "output_type": "display_data"
    },
    {
     "data": {
      "text/plain": []
     },
     "execution_count": 48,
     "metadata": {},
     "output_type": "execute_result"
    }
   ],
   "source": [
    "aml.leaderboard"
   ]
  },
  {
   "cell_type": "markdown",
   "metadata": {},
   "source": [
    "Since we provided only training frame during training, the models are sorted by their cross-validated performance metrics (AUROC by default for classification). We can evaluate the best model (`leader`) on the test data:"
   ]
  },
  {
   "cell_type": "code",
   "execution_count": 49,
   "metadata": {},
   "outputs": [
    {
     "data": {
      "image/png": "[encoded data removed]",
      "text/plain": [
       "<Figure size 432x288 with 1 Axes>"
      ]
     },
     "metadata": {
      "needs_background": "light"
     },
     "output_type": "display_data"
    },
    {
     "name": "stdout",
     "output_type": "stream",
     "text": [
      "\n",
      "ModelMetricsBinomial: xgboost\n",
      "** Reported on test data. **\n",
      "\n",
      "MSE: 0.11116258223644947\n",
      "RMSE: 0.3334105310821022\n",
      "LogLoss: 0.3672166013149907\n",
      "Mean Per-Class Error: 0.2605853312880092\n",
      "AUC: 0.8130703482501836\n",
      "pr_auc: 0.6602789221259647\n",
      "Gini: 0.6261406965003673\n",
      "Confusion Matrix (Act/Pred) for max f1 @ threshold = 0.31856180662694183: \n"
     ]
    },
    {
     "data": {
      "text/html": [
       "<div style=\"overflow:auto\"><table style=\"width:50%\"><tr><td><b></b></td>\n",
       "<td><b>0</b></td>\n",
       "<td><b>1</b></td>\n",
       "<td><b>Error</b></td>\n",
       "<td><b>Rate</b></td></tr>\n",
       "<tr><td>0</td>\n",
       "<td>7081.0</td>\n",
       "<td>609.0</td>\n",
       "<td>0.0792</td>\n",
       "<td> (609.0/7690.0)</td></tr>\n",
       "<tr><td>1</td>\n",
       "<td>956.0</td>\n",
       "<td>1048.0</td>\n",
       "<td>0.477</td>\n",
       "<td> (956.0/2004.0)</td></tr>\n",
       "<tr><td>Total</td>\n",
       "<td>8037.0</td>\n",
       "<td>1657.0</td>\n",
       "<td>0.1614</td>\n",
       "<td> (1565.0/9694.0)</td></tr></table></div>"
      ],
      "text/plain": [
       "       0     1     Error    Rate\n",
       "-----  ----  ----  -------  ---------------\n",
       "0      7081  609   0.0792   (609.0/7690.0)\n",
       "1      956   1048  0.477    (956.0/2004.0)\n",
       "Total  8037  1657  0.1614   (1565.0/9694.0)"
      ]
     },
     "metadata": {},
     "output_type": "display_data"
    },
    {
     "name": "stdout",
     "output_type": "stream",
     "text": [
      "Maximum Metrics: Maximum metrics at their respective thresholds\n",
      "\n"
     ]
    },
    {
     "data": {
      "text/html": [
       "<div style=\"overflow:auto\"><table style=\"width:50%\"><tr><td><b>metric</b></td>\n",
       "<td><b>threshold</b></td>\n",
       "<td><b>value</b></td>\n",
       "<td><b>idx</b></td></tr>\n",
       "<tr><td>max f1</td>\n",
       "<td>0.3185618</td>\n",
       "<td>0.5725212</td>\n",
       "<td>185.0</td></tr>\n",
       "<tr><td>max f2</td>\n",
       "<td>0.1416778</td>\n",
       "<td>0.6407223</td>\n",
       "<td>292.0</td></tr>\n",
       "<tr><td>max f0point5</td>\n",
       "<td>0.5113553</td>\n",
       "<td>0.6897523</td>\n",
       "<td>112.0</td></tr>\n",
       "<tr><td>max accuracy</td>\n",
       "<td>0.5113553</td>\n",
       "<td>0.8591913</td>\n",
       "<td>112.0</td></tr>\n",
       "<tr><td>max precision</td>\n",
       "<td>0.9926766</td>\n",
       "<td>1.0</td>\n",
       "<td>0.0</td></tr>\n",
       "<tr><td>max recall</td>\n",
       "<td>0.0202788</td>\n",
       "<td>1.0</td>\n",
       "<td>398.0</td></tr>\n",
       "<tr><td>max specificity</td>\n",
       "<td>0.9926766</td>\n",
       "<td>1.0</td>\n",
       "<td>0.0</td></tr>\n",
       "<tr><td>max absolute_mcc</td>\n",
       "<td>0.5113553</td>\n",
       "<td>0.5124731</td>\n",
       "<td>112.0</td></tr>\n",
       "<tr><td>max min_per_class_accuracy</td>\n",
       "<td>0.1762652</td>\n",
       "<td>0.7260479</td>\n",
       "<td>264.0</td></tr>\n",
       "<tr><td>max mean_per_class_accuracy</td>\n",
       "<td>0.2247584</td>\n",
       "<td>0.7394147</td>\n",
       "<td>234.0</td></tr></table></div>"
      ],
      "text/plain": [
       "metric                       threshold    value     idx\n",
       "---------------------------  -----------  --------  -----\n",
       "max f1                       0.318562     0.572521  185\n",
       "max f2                       0.141678     0.640722  292\n",
       "max f0point5                 0.511355     0.689752  112\n",
       "max accuracy                 0.511355     0.859191  112\n",
       "max precision                0.992677     1         0\n",
       "max recall                   0.0202788    1         398\n",
       "max specificity              0.992677     1         0\n",
       "max absolute_mcc             0.511355     0.512473  112\n",
       "max min_per_class_accuracy   0.176265     0.726048  264\n",
       "max mean_per_class_accuracy  0.224758     0.739415  234"
      ]
     },
     "metadata": {},
     "output_type": "display_data"
    },
    {
     "name": "stdout",
     "output_type": "stream",
     "text": [
      "Gains/Lift Table: Avg response rate: 20.67 %, avg score: 21.20 %\n",
      "\n"
     ]
    },
    {
     "data": {
      "text/html": [
       "<div style=\"overflow:auto\"><table style=\"width:50%\"><tr><td><b></b></td>\n",
       "<td><b>group</b></td>\n",
       "<td><b>cumulative_data_fraction</b></td>\n",
       "<td><b>lower_threshold</b></td>\n",
       "<td><b>lift</b></td>\n",
       "<td><b>cumulative_lift</b></td>\n",
       "<td><b>response_rate</b></td>\n",
       "<td><b>score</b></td>\n",
       "<td><b>cumulative_response_rate</b></td>\n",
       "<td><b>cumulative_score</b></td>\n",
       "<td><b>capture_rate</b></td>\n",
       "<td><b>cumulative_capture_rate</b></td>\n",
       "<td><b>gain</b></td>\n",
       "<td><b>cumulative_gain</b></td></tr>\n",
       "<tr><td></td>\n",
       "<td>1</td>\n",
       "<td>0.0100062</td>\n",
       "<td>0.9691593</td>\n",
       "<td>4.8373253</td>\n",
       "<td>4.8373253</td>\n",
       "<td>1.0</td>\n",
       "<td>0.9798409</td>\n",
       "<td>1.0</td>\n",
       "<td>0.9798409</td>\n",
       "<td>0.0484032</td>\n",
       "<td>0.0484032</td>\n",
       "<td>383.7325349</td>\n",
       "<td>383.7325349</td></tr>\n",
       "<tr><td></td>\n",
       "<td>2</td>\n",
       "<td>0.0200124</td>\n",
       "<td>0.9581077</td>\n",
       "<td>4.8373253</td>\n",
       "<td>4.8373253</td>\n",
       "<td>1.0</td>\n",
       "<td>0.9634410</td>\n",
       "<td>1.0</td>\n",
       "<td>0.9716410</td>\n",
       "<td>0.0484032</td>\n",
       "<td>0.0968064</td>\n",
       "<td>383.7325349</td>\n",
       "<td>383.7325349</td></tr>\n",
       "<tr><td></td>\n",
       "<td>3</td>\n",
       "<td>0.0300186</td>\n",
       "<td>0.9440986</td>\n",
       "<td>4.7375867</td>\n",
       "<td>4.8040791</td>\n",
       "<td>0.9793814</td>\n",
       "<td>0.9516446</td>\n",
       "<td>0.9931271</td>\n",
       "<td>0.9649755</td>\n",
       "<td>0.0474052</td>\n",
       "<td>0.1442116</td>\n",
       "<td>373.7586682</td>\n",
       "<td>380.4079127</td></tr>\n",
       "<tr><td></td>\n",
       "<td>4</td>\n",
       "<td>0.0400248</td>\n",
       "<td>0.9221918</td>\n",
       "<td>4.6378480</td>\n",
       "<td>4.7625213</td>\n",
       "<td>0.9587629</td>\n",
       "<td>0.9337421</td>\n",
       "<td>0.9845361</td>\n",
       "<td>0.9571672</td>\n",
       "<td>0.0464072</td>\n",
       "<td>0.1906188</td>\n",
       "<td>363.7848015</td>\n",
       "<td>376.2521349</td></tr>\n",
       "<tr><td></td>\n",
       "<td>5</td>\n",
       "<td>0.0500309</td>\n",
       "<td>0.8765992</td>\n",
       "<td>4.4882400</td>\n",
       "<td>4.7076651</td>\n",
       "<td>0.9278351</td>\n",
       "<td>0.9012768</td>\n",
       "<td>0.9731959</td>\n",
       "<td>0.9459891</td>\n",
       "<td>0.0449102</td>\n",
       "<td>0.2355289</td>\n",
       "<td>348.8240015</td>\n",
       "<td>370.7665082</td></tr>\n",
       "<tr><td></td>\n",
       "<td>6</td>\n",
       "<td>0.1000619</td>\n",
       "<td>0.4481669</td>\n",
       "<td>3.2115851</td>\n",
       "<td>3.9596251</td>\n",
       "<td>0.6639175</td>\n",
       "<td>0.6259712</td>\n",
       "<td>0.8185567</td>\n",
       "<td>0.7859802</td>\n",
       "<td>0.1606786</td>\n",
       "<td>0.3962076</td>\n",
       "<td>221.1585077</td>\n",
       "<td>295.9625080</td></tr>\n",
       "<tr><td></td>\n",
       "<td>7</td>\n",
       "<td>0.1499897</td>\n",
       "<td>0.3436300</td>\n",
       "<td>1.8589721</td>\n",
       "<td>3.2603706</td>\n",
       "<td>0.3842975</td>\n",
       "<td>0.3873166</td>\n",
       "<td>0.6740028</td>\n",
       "<td>0.6532751</td>\n",
       "<td>0.0928144</td>\n",
       "<td>0.4890220</td>\n",
       "<td>85.8972138</td>\n",
       "<td>226.0370593</td></tr>\n",
       "<tr><td></td>\n",
       "<td>8</td>\n",
       "<td>0.2000206</td>\n",
       "<td>0.2859352</td>\n",
       "<td>1.4462107</td>\n",
       "<td>2.8065967</td>\n",
       "<td>0.2989691</td>\n",
       "<td>0.3130975</td>\n",
       "<td>0.5801960</td>\n",
       "<td>0.5681868</td>\n",
       "<td>0.0723553</td>\n",
       "<td>0.5613772</td>\n",
       "<td>44.6210671</td>\n",
       "<td>180.6596709</td></tr>\n",
       "<tr><td></td>\n",
       "<td>9</td>\n",
       "<td>0.2999794</td>\n",
       "<td>0.2040816</td>\n",
       "<td>1.1282100</td>\n",
       "<td>2.2473269</td>\n",
       "<td>0.2332301</td>\n",
       "<td>0.2406973</td>\n",
       "<td>0.4645805</td>\n",
       "<td>0.4590612</td>\n",
       "<td>0.1127745</td>\n",
       "<td>0.6741517</td>\n",
       "<td>12.8210040</td>\n",
       "<td>124.7326873</td></tr>\n",
       "<tr><td></td>\n",
       "<td>10</td>\n",
       "<td>0.4000413</td>\n",
       "<td>0.1646089</td>\n",
       "<td>0.7430531</td>\n",
       "<td>1.8710645</td>\n",
       "<td>0.1536082</td>\n",
       "<td>0.1827782</td>\n",
       "<td>0.3867973</td>\n",
       "<td>0.3899548</td>\n",
       "<td>0.0743513</td>\n",
       "<td>0.7485030</td>\n",
       "<td>-25.6946931</td>\n",
       "<td>87.1064472</td></tr>\n",
       "<tr><td></td>\n",
       "<td>11</td>\n",
       "<td>0.5</td>\n",
       "<td>0.1364100</td>\n",
       "<td>0.7188595</td>\n",
       "<td>1.6407186</td>\n",
       "<td>0.1486068</td>\n",
       "<td>0.1499310</td>\n",
       "<td>0.3391789</td>\n",
       "<td>0.3419699</td>\n",
       "<td>0.0718563</td>\n",
       "<td>0.8203593</td>\n",
       "<td>-28.1140505</td>\n",
       "<td>64.0718563</td></tr>\n",
       "<tr><td></td>\n",
       "<td>12</td>\n",
       "<td>0.5999587</td>\n",
       "<td>0.1146704</td>\n",
       "<td>0.5491288</td>\n",
       "<td>1.4588495</td>\n",
       "<td>0.1135191</td>\n",
       "<td>0.1255278</td>\n",
       "<td>0.3015818</td>\n",
       "<td>0.3059086</td>\n",
       "<td>0.0548902</td>\n",
       "<td>0.8752495</td>\n",
       "<td>-45.0871219</td>\n",
       "<td>45.8849495</td></tr>\n",
       "<tr><td></td>\n",
       "<td>13</td>\n",
       "<td>0.7000206</td>\n",
       "<td>0.0938028</td>\n",
       "<td>0.4787456</td>\n",
       "<td>1.3187521</td>\n",
       "<td>0.0989691</td>\n",
       "<td>0.1042439</td>\n",
       "<td>0.2726201</td>\n",
       "<td>0.2770824</td>\n",
       "<td>0.0479042</td>\n",
       "<td>0.9231537</td>\n",
       "<td>-52.1254398</td>\n",
       "<td>31.8752121</td></tr>\n",
       "<tr><td></td>\n",
       "<td>14</td>\n",
       "<td>0.7999794</td>\n",
       "<td>0.0728241</td>\n",
       "<td>0.3893822</td>\n",
       "<td>1.2026258</td>\n",
       "<td>0.0804954</td>\n",
       "<td>0.0832527</td>\n",
       "<td>0.2486138</td>\n",
       "<td>0.2528630</td>\n",
       "<td>0.0389222</td>\n",
       "<td>0.9620758</td>\n",
       "<td>-61.0617774</td>\n",
       "<td>20.2625825</td></tr>\n",
       "<tr><td></td>\n",
       "<td>15</td>\n",
       "<td>0.8999381</td>\n",
       "<td>0.0497005</td>\n",
       "<td>0.2246436</td>\n",
       "<td>1.0939985</td>\n",
       "<td>0.0464396</td>\n",
       "<td>0.0613290</td>\n",
       "<td>0.2261577</td>\n",
       "<td>0.2315888</td>\n",
       "<td>0.0224551</td>\n",
       "<td>0.9845309</td>\n",
       "<td>-77.5356408</td>\n",
       "<td>9.3998500</td></tr>\n",
       "<tr><td></td>\n",
       "<td>16</td>\n",
       "<td>1.0</td>\n",
       "<td>0.0169165</td>\n",
       "<td>0.1545949</td>\n",
       "<td>1.0</td>\n",
       "<td>0.0319588</td>\n",
       "<td>0.0362965</td>\n",
       "<td>0.2067258</td>\n",
       "<td>0.2120475</td>\n",
       "<td>0.0154691</td>\n",
       "<td>1.0</td>\n",
       "<td>-84.5405066</td>\n",
       "<td>0.0</td></tr></table></div>"
      ],
      "text/plain": [
       "    group    cumulative_data_fraction    lower_threshold    lift      cumulative_lift    response_rate    score      cumulative_response_rate    cumulative_score    capture_rate    cumulative_capture_rate    gain      cumulative_gain\n",
       "--  -------  --------------------------  -----------------  --------  -----------------  ---------------  ---------  --------------------------  ------------------  --------------  -------------------------  --------  -----------------\n",
       "    1        0.0100062                   0.969159           4.83733   4.83733            1                0.979841   1                           0.979841            0.0484032       0.0484032                  383.733   383.733\n",
       "    2        0.0200124                   0.958108           4.83733   4.83733            1                0.963441   1                           0.971641            0.0484032       0.0968064                  383.733   383.733\n",
       "    3        0.0300186                   0.944099           4.73759   4.80408            0.979381         0.951645   0.993127                    0.964976            0.0474052       0.144212                   373.759   380.408\n",
       "    4        0.0400248                   0.922192           4.63785   4.76252            0.958763         0.933742   0.984536                    0.957167            0.0464072       0.190619                   363.785   376.252\n",
       "    5        0.0500309                   0.876599           4.48824   4.70767            0.927835         0.901277   0.973196                    0.945989            0.0449102       0.235529                   348.824   370.767\n",
       "    6        0.100062                    0.448167           3.21159   3.95963            0.663918         0.625971   0.818557                    0.78598             0.160679        0.396208                   221.159   295.963\n",
       "    7        0.14999                     0.34363            1.85897   3.26037            0.384298         0.387317   0.674003                    0.653275            0.0928144       0.489022                   85.8972   226.037\n",
       "    8        0.200021                    0.285935           1.44621   2.8066             0.298969         0.313098   0.580196                    0.568187            0.0723553       0.561377                   44.6211   180.66\n",
       "    9        0.299979                    0.204082           1.12821   2.24733            0.23323          0.240697   0.46458                     0.459061            0.112774        0.674152                   12.821    124.733\n",
       "    10       0.400041                    0.164609           0.743053  1.87106            0.153608         0.182778   0.386797                    0.389955            0.0743513       0.748503                   -25.6947  87.1064\n",
       "    11       0.5                         0.13641            0.718859  1.64072            0.148607         0.149931   0.339179                    0.34197             0.0718563       0.820359                   -28.1141  64.0719\n",
       "    12       0.599959                    0.11467            0.549129  1.45885            0.113519         0.125528   0.301582                    0.305909            0.0548902       0.87525                    -45.0871  45.8849\n",
       "    13       0.700021                    0.0938028          0.478746  1.31875            0.0989691        0.104244   0.27262                     0.277082            0.0479042       0.923154                   -52.1254  31.8752\n",
       "    14       0.799979                    0.0728241          0.389382  1.20263            0.0804954        0.0832527  0.248614                    0.252863            0.0389222       0.962076                   -61.0618  20.2626\n",
       "    15       0.899938                    0.0497005          0.224644  1.094              0.0464396        0.061329   0.226158                    0.231589            0.0224551       0.984531                   -77.5356  9.39985\n",
       "    16       1                           0.0169165          0.154595  1                  0.0319588        0.0362965  0.206726                    0.212047            0.0154691       1                          -84.5405  0"
      ]
     },
     "metadata": {},
     "output_type": "display_data"
    },
    {
     "name": "stdout",
     "output_type": "stream",
     "text": [
      "\n"
     ]
    },
    {
     "data": {
      "text/plain": []
     },
     "execution_count": 49,
     "metadata": {},
     "output_type": "execute_result"
    }
   ],
   "source": [
    "aml.leader.model_performance(test_data=test).plot()\n",
    "aml.leader.model_performance(test_data=test)"
   ]
  },
  {
   "cell_type": "markdown",
   "metadata": {},
   "source": [
    "# Step 10 (of 10). Stop H2O-3 cluster"
   ]
  },
  {
   "cell_type": "code",
   "execution_count": 50,
   "metadata": {},
   "outputs": [
    {
     "name": "stdout",
     "output_type": "stream",
     "text": [
      "H2O session _sid_bc7f closed.\n"
     ]
    }
   ],
   "source": [
    "h2o.cluster().shutdown()"
   ]
  },
  {
   "cell_type": "markdown",
   "metadata": {},
   "source": [
    "# Bonus: Github location for this tutorial\n",
    "\n",
    "* [This tutorial](https://github.com/h2oai/h2o-tutorials/tree/master/training/h2o_3_hands_on/lending_club_loan_default)\n",
    "* [Other tutorials](https://github.com/h2oai/h2o-tutorials)"
   ]
  },
  {
   "cell_type": "markdown",
   "metadata": {},
   "source": [
    "# Bonus: H2O-3 documentation\n",
    "\n",
    "* http://docs.h2o.ai"
   ]
  },
  {
   "cell_type": "markdown",
   "metadata": {},
   "source": [
    "# Bonus: Awesome H2O\n",
    "Curated list of all the awesome projects, applications, research, tutorials, courses and books that use H2O:\n",
    "* https://github.com/h2oai/awesome-h2o"
   ]
  },
  {
   "cell_type": "markdown",
   "metadata": {},
   "source": [
    "#  Bonus: Help for Python H2OFrame object"
   ]
  },
  {
   "cell_type": "code",
   "execution_count": 51,
   "metadata": {},
   "outputs": [
    {
     "name": "stdout",
     "output_type": "stream",
     "text": [
      "Help on class H2OFrame in module h2o.frame:\n",
      "\n",
      "class H2OFrame(builtins.object)\n",
      " |  Primary data store for H2O.\n",
      " |  \n",
      " |  H2OFrame is similar to pandas' ``DataFrame``, or R's ``data.frame``. One of the critical distinction is that the\n",
      " |  data is generally not held in memory, instead it is located on a (possibly remote) H2O cluster, and thus\n",
      " |  ``H2OFrame`` represents a mere handle to that data.\n",
      " |  \n",
      " |  Methods defined here:\n",
      " |  \n",
      " |  __abs__(self)\n",
      " |      # unops\n",
      " |  \n",
      " |  __add__(self, rhs)\n",
      " |      # Binary operations\n",
      " |  \n",
      " |  __and__(self, rhs)\n",
      " |  \n",
      " |  __contains__(self, lhs)\n",
      " |  \n",
      " |  __div__(self, rhs)\n",
      " |  \n",
      " |  __eq__(self, rhs)\n",
      " |      Return self==value.\n",
      " |  \n",
      " |  __float__(self)\n",
      " |  \n",
      " |  __floordiv__(self, rhs)\n",
      " |  \n",
      " |  __ge__(self, rhs)\n",
      " |      Return self>=value.\n",
      " |  \n",
      " |  __getitem__(self, item)\n",
      " |      Frame slicing, supports row and column slicing.\n",
      " |      \n",
      " |      :param item: selector of a subframe. This can be one of the following:\n",
      " |      \n",
      " |          - an int, indicating selection of a single column at the specified index (0-based)\n",
      " |          - a string, selecting a column with the given name\n",
      " |          - a list of ints or strings, selecting several columns with the given indices / names\n",
      " |          - a slice, selecting columns with the indices within this slice\n",
      " |          - a single-column boolean frame, selecting rows for which the selector is true\n",
      " |          - a 2-element tuple, where the first element is a row selector, and the second element is the\n",
      " |            column selector. Here the row selector may be one of: an int, a list of ints, a slice, or\n",
      " |            a boolean frame. The column selector is similarly one of: an int, a list of ints, a string,\n",
      " |            a list of strings, or a slice. It is also possible to use the empty slice (``:``) to select\n",
      " |            all elements within one of the dimensions.\n",
      " |      \n",
      " |      :returns: A new frame comprised of some rows / columns of the source frame.\n",
      " |      \n",
      " |      :examples:\n",
      " |      >>> fr[2]              # All rows, 3rd column\n",
      " |      >>> fr[-2]             # All rows, 2nd column from end\n",
      " |      >>> fr[:, -1]          # All rows, last column\n",
      " |      >>> fr[0:5, :]         # First 5 rows, all columns\n",
      " |      >>> fr[fr[0] > 1, :]   # Only rows where first cell is greater than 1, all columns\n",
      " |      >>> fr[[1, 5, 6]]      # Columns 2, 6, and 7\n",
      " |      >>> fr[0:50, [1,2,3]]  # First 50 rows, columns 2, 3, and 4\n",
      " |  \n",
      " |  __gt__(self, rhs)\n",
      " |      Return self>value.\n",
      " |  \n",
      " |  __init__(self, python_obj=None, destination_frame=None, header=0, separator=',', column_names=None, column_types=None, na_strings=None, skipped_columns=None)\n",
      " |      Create a new H2OFrame object, possibly from some other object.\n",
      " |      \n",
      " |      :param python_obj: object that will be converted to an ``H2OFrame``. This could have multiple types:\n",
      " |      \n",
      " |          - None: create an empty H2OFrame\n",
      " |          - A list/tuple of strings or numbers: create a single-column H2OFrame containing the contents of this list.\n",
      " |          - A dictionary of ``{name: list}`` pairs: create an H2OFrame with multiple columns, each column having the\n",
      " |              provided ``name`` and contents from ``list``. If the source dictionary is not an OrderedDict, then the\n",
      " |              columns in the H2OFrame may appear shuffled.\n",
      " |          - A list of lists of strings/numbers: construct an H2OFrame from a rectangular table of values, with inner\n",
      " |              lists treated as rows of the table. I.e. ``H2OFrame([[1, 'a'], [2, 'b'], [3, 'c']])`` will create a\n",
      " |              frame with 3 rows and 2 columns, one numeric and one string.\n",
      " |          - A Pandas dataframe, or a Numpy ndarray: create a matching H2OFrame.\n",
      " |          - A Scipy sparse matrix: create a matching sparse H2OFrame.\n",
      " |      \n",
      " |      :param int header: if ``python_obj`` is a list of lists, this parameter can be used to indicate whether the\n",
      " |          first row of the data represents headers. The value of -1 means the first row is data, +1 means the first\n",
      " |          row is the headers, 0 (default) allows H2O to guess whether the first row contains data or headers.\n",
      " |      :param List[str] column_names: explicit list of column names for the new H2OFrame. This will override any\n",
      " |          column names derived from the data. If the python_obj does not contain explicit column names, and this\n",
      " |          parameter is not given, then the columns will be named \"C1\", \"C2\", \"C3\", etc.\n",
      " |      :param column_types: explicit column types for the new H2OFrame. This could be either a list of types for\n",
      " |          each column, or a dictionary of {column name: column type} pairs. In the latter case you may override\n",
      " |          types for only few columns, and let H2O choose the types of the rest.\n",
      " |      :param na_strings: List of strings in the input data that should be interpreted as missing values. This could\n",
      " |          be given on a per-column basis, either as a list-of-lists, or as a dictionary {column name: list of nas}.\n",
      " |      :param str destination_frame: (internal) name of the target DKV key in the H2O backend.\n",
      " |      :param str separator: (deprecated)\n",
      " |  \n",
      " |  __int__(self)\n",
      " |  \n",
      " |  __invert__(self)\n",
      " |  \n",
      " |  __iter__(self)\n",
      " |  \n",
      " |  __le__(self, rhs)\n",
      " |      Return self<=value.\n",
      " |  \n",
      " |  __len__(self)\n",
      " |      Number of rows in the dataframe, same as ``self.nrows``.\n",
      " |  \n",
      " |  __lt__(self, rhs)\n",
      " |      Return self<value.\n",
      " |  \n",
      " |  __mod__(self, rhs)\n",
      " |  \n",
      " |  __mul__(self, rhs)\n",
      " |  \n",
      " |  __ne__(self, rhs)\n",
      " |      Return self!=value.\n",
      " |  \n",
      " |  __nonzero__(self)\n",
      " |  \n",
      " |  __or__(self, rhs)\n",
      " |  \n",
      " |  __pow__(self, rhs)\n",
      " |  \n",
      " |  __radd__(self, lhs)\n",
      " |  \n",
      " |  __rand__(self, lhs)\n",
      " |  \n",
      " |  __rdiv__(self, lhs)\n",
      " |  \n",
      " |  __repr__(self)\n",
      " |      Return repr(self).\n",
      " |  \n",
      " |  __rfloordiv__(self, lhs)\n",
      " |  \n",
      " |  __rmod__(self, lhs)\n",
      " |      # rops\n",
      " |  \n",
      " |  __rmul__(self, lhs)\n",
      " |  \n",
      " |  __ror__(self, lhs)\n",
      " |  \n",
      " |  __rpow__(self, lhs)\n",
      " |  \n",
      " |  __rsub__(self, lhs)\n",
      " |  \n",
      " |  __rtruediv__(self, lhs)\n",
      " |  \n",
      " |  __setitem__(self, item, value)\n",
      " |      Replace, update or add column(s) in an H2OFrame.\n",
      " |      \n",
      " |      :param item: A 0-based index of a column, or a column name, or a list of column names, or a slice.\n",
      " |          Alternatively, this may also be a two-element tuple where the first element in the tuple is a row selector,\n",
      " |          and the second element is a row selector. Finally, this can also be a boolean frame indicating which\n",
      " |          rows/columns to modify. If ``item`` is a column name that does not exist in the frame, then a new column\n",
      " |          will be appended to the current frame.\n",
      " |      :param value: The value replacing elements at positions given by ``item``. This can be either a constant, or\n",
      " |          another frame.\n",
      " |  \n",
      " |  __sub__(self, rhs)\n",
      " |  \n",
      " |  __truediv__(self, rhs)\n",
      " |  \n",
      " |  __unicode__(self)\n",
      " |  \n",
      " |  abs(self)\n",
      " |      Return new H2OFrame equal to elementwise absolute value of the current frame.\n",
      " |  \n",
      " |  acos(self)\n",
      " |      Return new H2OFrame equal to elementwise arc cosine of the current frame.\n",
      " |  \n",
      " |  acosh(self)\n",
      " |      Return new H2OFrame equal to elementwise inverse hyperbolic cosine of the current frame.\n",
      " |  \n",
      " |  all(self)\n",
      " |      Return True if every element in the frame is either True, non-zero or NA.\n",
      " |  \n",
      " |  any(self)\n",
      " |      Return True if any element in the frame is either True, non-zero or NA.\n",
      " |  \n",
      " |  any_na_rm(self)\n",
      " |      Return True if any value in the frame is non-zero (disregarding all NAs).\n",
      " |  \n",
      " |  anyfactor(self)\n",
      " |      Return True if there are any categorical columns in the frame.\n",
      " |  \n",
      " |  apply(self, fun=None, axis=0)\n",
      " |      Apply a lambda expression to an H2OFrame.\n",
      " |      \n",
      " |      :param fun: a lambda expression to be applied per row or per column.\n",
      " |      :param axis: 0 = apply to each column; 1 = apply to each row\n",
      " |      :returns: a new H2OFrame with the results of applying ``fun`` to the current frame.\n",
      " |  \n",
      " |  as_data_frame(self, use_pandas=True, header=True)\n",
      " |      Obtain the dataset as a python-local object.\n",
      " |      \n",
      " |      :param bool use_pandas: If True (default) then return the H2OFrame as a pandas DataFrame (requires that the\n",
      " |          ``pandas`` library was installed). If False, then return the contents of the H2OFrame as plain nested\n",
      " |          list, in a row-wise order.\n",
      " |      :param bool header: If True (default), then column names will be appended as the first row in list\n",
      " |      \n",
      " |      :returns: A python object (a list of lists of strings, each list is a row, if use_pandas=False, otherwise\n",
      " |          a pandas DataFrame) containing this H2OFrame instance's data.\n",
      " |  \n",
      " |  as_date(self, format)\n",
      " |      Convert the frame (containing strings / categoricals) into the ``date`` format.\n",
      " |      \n",
      " |      :param str format: the format string (e.g. \"%Y-%m-%d\")\n",
      " |      :returns: new H2OFrame with \"int\" column types\n",
      " |  \n",
      " |  ascharacter(self)\n",
      " |      Convert all columns in the frame into strings.\n",
      " |      \n",
      " |      :returns: new H2OFrame with columns of \"string\" type.\n",
      " |  \n",
      " |  asfactor(self)\n",
      " |      Convert columns in the current frame to categoricals.\n",
      " |      \n",
      " |      :returns: new H2OFrame with columns of the \"enum\" type.\n",
      " |  \n",
      " |  asin(self)\n",
      " |      Return new H2OFrame equal to elementwise arc sine of the current frame.\n",
      " |  \n",
      " |  asinh(self)\n",
      " |      Return new H2OFrame equal to elementwise inverse hyperbolic sine of the current frame.\n",
      " |  \n",
      " |  asnumeric(self)\n",
      " |      Return new frame with all columns converted to numeric.\n",
      " |  \n",
      " |  atan(self)\n",
      " |      Return new H2OFrame equal to elementwise arc tangent of the current frame.\n",
      " |  \n",
      " |  atanh(self)\n",
      " |      Return new H2OFrame equal to elementwise inverse hyperbolic tangent of the current frame.\n",
      " |  \n",
      " |  bottomN(self, column=0, nPercent=10)\n",
      " |      Given a column name or one column index, a percent N, this function will return the bottom N% of the values\n",
      " |      of the column of a frame.  The column must be a numerical column.\n",
      " |      \n",
      " |      :param column: a string for column name or an integer index\n",
      " |      :param nPercent: a bottom percentage of the column values to return\n",
      " |      :returns: a H2OFrame containing two columns.  The first column contains the original row indices where\n",
      " |          the bottom values are extracted from.  The second column contains the bottom nPercent values.\n",
      " |  \n",
      " |  categories(self)\n",
      " |      Return the list of levels for an enum (categorical) column.\n",
      " |      \n",
      " |      This function can only be applied to single-column categorical frame.\n",
      " |  \n",
      " |  cbind(self, data)\n",
      " |      Append data to this frame column-wise.\n",
      " |      \n",
      " |      :param H2OFrame data: append columns of frame ``data`` to the current frame. You can also cbind a number,\n",
      " |          in which case it will get converted into a constant column.\n",
      " |      \n",
      " |      :returns: new H2OFrame with all frames in ``data`` appended column-wise.\n",
      " |  \n",
      " |  ceil(self)\n",
      " |      Apply the ceiling function to the current frame.\n",
      " |      \n",
      " |      ``ceil(x)`` is the smallest integer greater or equal to ``x``.\n",
      " |      \n",
      " |      :returns: new H2OFrame of ceiling values of the original frame.\n",
      " |  \n",
      " |  columns_by_type(self, coltype='numeric')\n",
      " |      Extract columns of the specified type from the frame.\n",
      " |      \n",
      " |      :param str coltype: A character string indicating which column type to filter by. This must be\n",
      " |          one of the following:\n",
      " |      \n",
      " |          - ``\"numeric\"``      - Numeric, but not categorical or time\n",
      " |          - ``\"categorical\"``  - Integer, with a categorical/factor String mapping\n",
      " |          - ``\"string\"``       - String column\n",
      " |          - ``\"time\"``         - Long msec since the Unix Epoch - with a variety of display/parse options\n",
      " |          - ``\"uuid\"``         - UUID\n",
      " |          - ``\"bad\"``          - No none-NA rows (triple negative! all NAs or zero rows)\n",
      " |      \n",
      " |      :returns: list of indices of columns that have the requested type\n",
      " |  \n",
      " |  concat(self, frames, axis=1)\n",
      " |      Append multiple H2OFrames to this frame, column-wise or row-wise.\n",
      " |      \n",
      " |      :param List[H2OFrame] frames: list of frames that should be appended to the current frame.\n",
      " |      :param int axis: if 1 then append column-wise (default), if 0 then append row-wise.\n",
      " |      \n",
      " |      :returns: an H2OFrame of the combined datasets.\n",
      " |  \n",
      " |  convert_H2OFrame_2_DMatrix(self, predictors, yresp, h2oXGBoostModel)\n",
      " |      This method requires that you import the following toolboxes: xgboost, pandas, numpy and scipy.sparse.\n",
      " |      \n",
      " |      This method will convert an H2OFrame to a DMatrix that can be used by native XGBoost.  The H2OFrame contains\n",
      " |      numerical and enum columns alone.  Note that H2O one-hot-encoding introduces a missing(NA)\n",
      " |      column. There can be NAs in any columns.\n",
      " |      \n",
      " |      Follow the steps below to compare H2OXGBoost and native XGBoost:\n",
      " |      \n",
      " |      1. Train the H2OXGBoost model with H2OFrame trainFile and generate a prediction:\n",
      " |      h2oModelD = H2OXGBoostEstimator(**h2oParamsD) # parameters specified as a dict()\n",
      " |      h2oModelD.train(x=myX, y=y, training_frame=trainFile) # train with H2OFrame trainFile\n",
      " |      h2oPredict = h2oPredictD = h2oModelD.predict(trainFile)\n",
      " |      \n",
      " |      2. Derive the DMatrix from H2OFrame:\n",
      " |      nativeDMatrix = trainFile.convert_H2OFrame_2_DMatrix(myX, y, h2oModelD)\n",
      " |      \n",
      " |      3. Derive the parameters for native XGBoost:\n",
      " |      nativeParams = h2oModelD.convert_H2OXGBoostParams_2_XGBoostParams()\n",
      " |      \n",
      " |      4. Train your native XGBoost model and generate a prediction:\n",
      " |      nativeModel = xgb.train(params=nativeParams[0], dtrain=nativeDMatrix, num_boost_round=nativeParams[1])\n",
      " |      nativePredict = nativeModel.predict(data=nativeDMatrix, ntree_limit=nativeParams[1].\n",
      " |      \n",
      " |      5. Compare the predictions h2oPredict from H2OXGBoost, nativePredict from native XGBoost.\n",
      " |      \n",
      " |      :param h2oFrame: H2OFrame to be converted to DMatrix for native XGBoost\n",
      " |      :param predictors: List of predictor columns, can be column names or indices\n",
      " |      :param yresp: response column, can be column index or name\n",
      " |      :param h2oXGBoostModel: H2OXGboost model that are built with the same H2OFrame as input earlier\n",
      " |      :return: DMatrix that can be an input to a native XGBoost model\n",
      " |  \n",
      " |  cor(self, y=None, na_rm=False, use=None)\n",
      " |      Compute the correlation matrix of one or two H2OFrames.\n",
      " |      \n",
      " |      :param H2OFrame y: If this parameter is provided, then compute correlation between the columns of ``y``\n",
      " |          and the columns of the current frame. If this parameter is not given, then just compute the correlation\n",
      " |          matrix for the columns of the current frame.\n",
      " |      :param str use: A string indicating how to handle missing values. This could be one of the following:\n",
      " |      \n",
      " |          - ``\"everything\"``: outputs NaNs whenever one of its contributing observations is missing\n",
      " |          - ``\"all.obs\"``: presence of missing observations will throw an error\n",
      " |          - ``\"complete.obs\"``: discards missing values along with all observations in their rows so that only\n",
      " |            complete observations are used\n",
      " |      :param bool na_rm: an alternative to ``use``: when this is True then default value for ``use`` is\n",
      " |          ``\"everything\"``; and if False then default ``use`` is ``\"complete.obs\"``. This parameter has no effect\n",
      " |          if ``use`` is given explicitly.\n",
      " |      \n",
      " |      :returns: An H2OFrame of the correlation matrix of the columns of this frame (if ``y`` is not given),\n",
      " |          or with the columns of ``y`` (if ``y`` is given). However when this frame and ``y`` are both single rows\n",
      " |          or single columns, then the correlation is returned as a scalar.\n",
      " |  \n",
      " |  cos(self)\n",
      " |      Return new H2OFrame equal to elementwise cosine of the current frame.\n",
      " |  \n",
      " |  cosh(self)\n",
      " |      Make new H2OFrame with values equal to the hyperbolic cosines of the values in the current frame.\n",
      " |  \n",
      " |  cospi(self)\n",
      " |      Return new H2OFrame equal to elementwise cosine of the current frame multiplied by Pi.\n",
      " |  \n",
      " |  countmatches(self, pattern)\n",
      " |      For each string in the frame, count the occurrences of the provided pattern.  If countmathces is applied to\n",
      " |      a frame, all columns of the frame must be type string, otherwise, the returned frame will contain errors.\n",
      " |      \n",
      " |      The pattern here is a plain string, not a regular expression. We will search for the occurrences of the\n",
      " |      pattern as a substring in element of the frame. This function is applicable to frames containing only\n",
      " |      string or categorical columns.\n",
      " |      \n",
      " |      :param str pattern: The pattern to count matches on in each string. This can also be a list of strings,\n",
      " |          in which case all of them will be searched for.\n",
      " |      :returns: numeric H2OFrame with the same shape as the original, containing counts of matches of the\n",
      " |          pattern for each cell in the original frame.\n",
      " |  \n",
      " |  cummax(self, axis=0)\n",
      " |      Compute cumulative maximum over rows / columns of the frame.\n",
      " |      \n",
      " |      :param int axis: 0 for column-wise, 1 for row-wise\n",
      " |      :returns: new H2OFrame with running maximums of the original frame.\n",
      " |  \n",
      " |  cummin(self, axis=0)\n",
      " |      Compute cumulative minimum over rows / columns of the frame.\n",
      " |      \n",
      " |      :param int axis: 0 for column-wise, 1 for row-wise\n",
      " |      :returns: new H2OFrame with running minimums of the original frame.\n",
      " |  \n",
      " |  cumprod(self, axis=0)\n",
      " |      Compute cumulative product over rows / columns of the frame.\n",
      " |      \n",
      " |      :param int axis: 0 for column-wise, 1 for row-wise\n",
      " |      :returns: new H2OFrame with cumulative products of the original frame.\n",
      " |  \n",
      " |  cumsum(self, axis=0)\n",
      " |      Compute cumulative sum over rows / columns of the frame.\n",
      " |      \n",
      " |      :param int axis: 0 for column-wise, 1 for row-wise\n",
      " |      :returns: new H2OFrame with cumulative sums of the original frame.\n",
      " |  \n",
      " |  cut(self, breaks, labels=None, include_lowest=False, right=True, dig_lab=3)\n",
      " |      Cut a numeric vector into categorical \"buckets\".\n",
      " |      \n",
      " |      This method is only applicable to a single-column numeric frame.\n",
      " |      \n",
      " |      :param List[float] breaks: The cut points in the numeric vector.\n",
      " |      :param List[str] labels: Labels for categorical levels produced. Defaults to set notation of\n",
      " |          intervals defined by the breaks.\n",
      " |      :param bool include_lowest: By default, cuts are defined as intervals ``(lo, hi]``. If this parameter\n",
      " |          is True, then the interval becomes ``[lo, hi]``.\n",
      " |      :param bool right: Include the high value: ``(lo, hi]``. If False, get ``(lo, hi)``.\n",
      " |      :param int dig_lab: Number of digits following the decimal point to consider.\n",
      " |      \n",
      " |      :returns: Single-column H2OFrame of categorical data.\n",
      " |  \n",
      " |  day(self)\n",
      " |      Extract the \"day\" part from a date column.\n",
      " |      \n",
      " |      :returns: a single-column H2OFrame containing the \"day\" part from the source frame.\n",
      " |  \n",
      " |  dayOfWeek(self)\n",
      " |      Extract the \"day-of-week\" part from a date column.\n",
      " |      \n",
      " |      :returns: a single-column H2OFrame containing the \"day-of-week\" part from the source frame.\n",
      " |  \n",
      " |  describe(self, chunk_summary=False)\n",
      " |      Generate an in-depth description of this H2OFrame.\n",
      " |      \n",
      " |      This will print to the console the dimensions of the frame; names/types/summary statistics for each column;\n",
      " |      and finally first ten rows of the frame.\n",
      " |      \n",
      " |      :param bool chunk_summary: Retrieve the chunk summary along with the distribution summary\n",
      " |  \n",
      " |  difflag1(self)\n",
      " |      Conduct a diff-1 transform on a numeric frame column.\n",
      " |      \n",
      " |      :returns: an H2OFrame where each element is equal to the corresponding element in the source\n",
      " |          frame minus the previous-row element in the same frame.\n",
      " |  \n",
      " |  digamma(self)\n",
      " |      Return new H2OFrame equals to elementwise digamma function of the current frame.\n",
      " |  \n",
      " |  distance(self, y, measure=None)\n",
      " |      Compute a pairwise distance measure between all rows of two numeric H2OFrames.\n",
      " |      \n",
      " |      :param H2OFrame y: Frame containing queries (small)\n",
      " |      :param str use: A string indicating what distance measure to use. Must be one of:\n",
      " |      \n",
      " |          - ``\"l1\"``:        Absolute distance (L1-norm, >=0)\n",
      " |          - ``\"l2\"``:        Euclidean distance (L2-norm, >=0)\n",
      " |          - ``\"cosine\"``:    Cosine similarity (-1...1)\n",
      " |          - ``\"cosine_sq\"``: Squared Cosine similarity (0...1)\n",
      " |      \n",
      " |      :examples:\n",
      " |        >>>\n",
      " |        >>> iris_h2o = h2o.import_file(path=pyunit_utils.locate(\"smalldata/iris/iris.csv\"))\n",
      " |        >>> references = iris_h2o[10:150,0:4\n",
      " |        >>> queries    = iris_h2o[0:10,0:4]\n",
      " |        >>> A = references.distance(queries, \"l1\")\n",
      " |        >>> B = references.distance(queries, \"l2\")\n",
      " |        >>> C = references.distance(queries, \"cosine\")\n",
      " |        >>> D = references.distance(queries, \"cosine_sq\")\n",
      " |        >>> E = queries.distance(references, \"l1\")\n",
      " |        >>> (E.transpose() == A).all()\n",
      " |      \n",
      " |      :returns: An H2OFrame of the matrix containing pairwise distance / similarity between the \n",
      " |          rows of this frame (N x p) and ``y`` (M x p), with dimensions (N x M).\n",
      " |  \n",
      " |  drop(self, index, axis=1)\n",
      " |      Drop a single column or row or a set of columns or rows from a H2OFrame.\n",
      " |      \n",
      " |      Dropping a column or row is not in-place.\n",
      " |      Indices of rows and columns are zero-based.\n",
      " |      \n",
      " |      :param index: A list of column indices, column names, or row indices to drop; or\n",
      " |          a string to drop a single column by name; or an int to drop a single column by index.\n",
      " |      \n",
      " |      :param int axis: If 1 (default), then drop columns; if 0 then drop rows.\n",
      " |      \n",
      " |      :returns: a new H2OFrame with the respective dropped columns or rows. The original H2OFrame remains\n",
      " |          unchanged.\n",
      " |  \n",
      " |  entropy(self)\n",
      " |      For each string compute its Shannon entropy, if the string is empty the entropy is 0.\n",
      " |      \n",
      " |      :returns: an H2OFrame of Shannon entropies.\n",
      " |  \n",
      " |  exp(self)\n",
      " |      Return new H2OFrame equals to elementwise exponent (i.e. ``e^x``) of the current frame.\n",
      " |  \n",
      " |  expm1(self)\n",
      " |      Return new H2OFrame equals to elementwise exponent minus 1 (i.e. ``e^x - 1``) of the current frame.\n",
      " |  \n",
      " |  fillna(self, method='forward', axis=0, maxlen=1)\n",
      " |      Return a new Frame that fills NA along a given axis and along a given direction with a maximum fill length\n",
      " |      \n",
      " |      :param method: ``\"forward\"`` or ``\"backward\"``\n",
      " |      :param axis:  0 for columnar-wise or 1 for row-wise fill\n",
      " |      :param maxlen: Max number of consecutive NA's to fill\n",
      " |      \n",
      " |      :return:\n",
      " |  \n",
      " |  filter_na_cols(self, frac=0.2)\n",
      " |      Filter columns with proportion of NAs greater or equals than ``frac``.\n",
      " |      \n",
      " |      :param float frac: Maximum fraction of NAs in the column to keep.\n",
      " |      \n",
      " |      :returns: A list of indices of columns that have fewer NAs than ``frac``. If all columns are filtered,\n",
      " |          None is returned.\n",
      " |  \n",
      " |  flatten(self)\n",
      " |      Convert a 1x1 frame into a scalar.\n",
      " |      \n",
      " |      :returns: content of this 1x1 frame as a scalar (``int``, ``float``, or ``str``).\n",
      " |      :raises H2OValueError: if current frame has shape other than 1x1\n",
      " |  \n",
      " |  floor(self)\n",
      " |      Apply the floor function to the current frame.\n",
      " |      \n",
      " |      ``floor(x)`` is the largest integer smaller or equal to ``x``.\n",
      " |      \n",
      " |      :returns: new H2OFrame of floor values of the original frame.\n",
      " |  \n",
      " |  gamma(self)\n",
      " |      Return new H2OFrame equals to elementwise gamma function of the current frame.\n",
      " |  \n",
      " |  get_frame_data(self)\n",
      " |      Get frame data as a string in csv format.\n",
      " |      \n",
      " |      This will create a multiline string, where each line will contain a separate row of frame's data, with\n",
      " |      individual values separated by commas.\n",
      " |  \n",
      " |  getrow(self)\n",
      " |      Convert a 1xn frame into an n-element list.\n",
      " |      \n",
      " |      :returns: content of this 1xn frame as a Python list.\n",
      " |      :raises H2OValueError: if current frame has more than one row.\n",
      " |  \n",
      " |  grep(self, pattern, ignore_case=False, invert=False, output_logical=False)\n",
      " |      Searches for matches to argument `pattern` within each element\n",
      " |      of a string column.\n",
      " |      \n",
      " |      Default behavior is to return indices of the elements matching the pattern. Parameter\n",
      " |      `output_logical` can be used to return a logical vector indicating if the element matches\n",
      " |      the pattern (1) or not (0).\n",
      " |      \n",
      " |      :param str pattern: A character string containing a regular expression.\n",
      " |      :param bool ignore_case: If True, then case is ignored during matching.\n",
      " |      :param bool invert:  If True, then identify elements that do not match the pattern.\n",
      " |      :param bool output_logical: If True, then return logical vector of indicators instead of list of matching positions\n",
      " |      :return: H2OFrame holding the matching positions or a logical list if `output_logical` is enabled.\n",
      " |  \n",
      " |  group_by(self, by)\n",
      " |      Return a new ``GroupBy`` object using this frame and the desired grouping columns.\n",
      " |      \n",
      " |      The returned groups are sorted by the natural group-by column sort.\n",
      " |      \n",
      " |      :param by: The columns to group on (either a single column name, or a list of column names, or\n",
      " |          a list of column indices).\n",
      " |  \n",
      " |  gsub(self, pattern, replacement, ignore_case=False)\n",
      " |      Globally substitute occurrences of pattern in a string with replacement.\n",
      " |      \n",
      " |      :param str pattern: A regular expression.\n",
      " |      :param str replacement: A replacement string.\n",
      " |      :param bool ignore_case: If True then pattern will match case-insensitively.\n",
      " |      :returns: an H2OFrame with all occurrences of ``pattern`` in all values replaced with ``replacement``.\n",
      " |  \n",
      " |  head(self, rows=10, cols=200)\n",
      " |      Return the first ``rows`` and ``cols`` of the frame as a new H2OFrame.\n",
      " |      \n",
      " |      :param int rows: maximum number of rows to return\n",
      " |      :param int cols: maximum number of columns to return\n",
      " |      :returns: a new H2OFrame cut from the top left corner of the current frame, and having dimensions at\n",
      " |          most ``rows`` x ``cols``.\n",
      " |  \n",
      " |  hist(self, breaks='sturges', plot=True, **kwargs)\n",
      " |      Compute a histogram over a numeric column.\n",
      " |      \n",
      " |      :param breaks: Can be one of ``\"sturges\"``, ``\"rice\"``, ``\"sqrt\"``, ``\"doane\"``, ``\"fd\"``, ``\"scott\"``;\n",
      " |          or a single number for the number of breaks; or a list containing the split points, e.g:\n",
      " |          ``[-50, 213.2123, 9324834]``. If breaks is \"fd\", the MAD is used over the IQR in computing bin width.\n",
      " |      :param bool plot: If True (default), then a plot will be generated using ``matplotlib``.\n",
      " |      \n",
      " |      :returns: If ``plot`` is False, return H2OFrame with these columns: breaks, counts, mids_true,\n",
      " |          mids, and density; otherwise this method draws a plot and returns nothing.\n",
      " |  \n",
      " |  hour(self)\n",
      " |      Extract the \"hour-of-day\" part from a date column.\n",
      " |      \n",
      " |      :returns: a single-column H2OFrame containing the \"hour-of-day\" part from the source frame.\n",
      " |  \n",
      " |  idxmax(self, skipna=True, axis=0)\n",
      " |      Get the index of the max value in a column or row\n",
      " |      \n",
      " |      :param bool skipna: If True (default), then NAs are ignored during the search. Otherwise presence\n",
      " |          of NAs renders the entire result NA.\n",
      " |      :param int axis: Direction of finding the max index. If 0 (default), then the max index is searched columnwise, and the\n",
      " |          result is a frame with 1 row and number of columns as in the original frame. If 1, then the max index is searched\n",
      " |          rowwise and the result is a frame with 1 column, and number of rows equal to the number of rows in the original frame.\n",
      " |      :returns: either a list of max index values per-column or an H2OFrame containing max index values\n",
      " |                per-row from the original frame.\n",
      " |  \n",
      " |  idxmin(self, skipna=True, axis=0)\n",
      " |      Get the index of the min value in a column or row\n",
      " |      \n",
      " |      :param bool skipna: If True (default), then NAs are ignored during the search. Otherwise presence\n",
      " |          of NAs renders the entire result NA.\n",
      " |      :param int axis: Direction of finding the min index. If 0 (default), then the min index is searched columnwise, and the\n",
      " |          result is a frame with 1 row and number of columns as in the original frame. If 1, then the min index is searched\n",
      " |          rowwise and the result is a frame with 1 column, and number of rows equal to the number of rows in the original frame.\n",
      " |      :returns: either a list of min index values per-column or an H2OFrame containing min index values\n",
      " |                per-row from the original frame.\n",
      " |  \n",
      " |  ifelse(self, yes, no)\n",
      " |      Equivalent to ``[y if t else n for t,y,n in zip(self,yes,no)]``.\n",
      " |      \n",
      " |      Based on the booleans in the test vector, the output has the values of the\n",
      " |      yes and no vectors interleaved (or merged together).  All Frames must have\n",
      " |      the same row count.  Single column frames are broadened to match wider\n",
      " |      Frames.  Scalars are allowed, and are also broadened to match wider frames.\n",
      " |      \n",
      " |      :param yes: Frame to use if ``test`` is true; may be a scalar or single column\n",
      " |      :param no: Frame to use if ``test`` is false; may be a scalar or single column\n",
      " |      \n",
      " |      :returns: an H2OFrame of the merged yes/no frames/scalars according to the test input frame.\n",
      " |  \n",
      " |  impute(self, column=-1, method='mean', combine_method='interpolate', by=None, group_by_frame=None, values=None)\n",
      " |      Impute missing values into the frame, modifying it in-place.\n",
      " |      \n",
      " |      :param int column: Index of the column to impute, or -1 to impute the entire frame.\n",
      " |      :param str method: The method of imputation: ``\"mean\"``, ``\"median\"``, or ``\"mode\"``.\n",
      " |      :param str combine_method: When the method is ``\"median\"``, this setting dictates how to combine quantiles\n",
      " |          for even samples. One of ``\"interpolate\"``, ``\"average\"``, ``\"low\"``, ``\"high\"``.\n",
      " |      :param by: The list of columns to group on.\n",
      " |      :param H2OFrame group_by_frame: Impute the values with this pre-computed grouped frame.\n",
      " |      :param List values: The list of impute values, one per column. None indicates to skip the column.\n",
      " |      \n",
      " |      :returns: A list of values used in the imputation or the group-by result used in imputation.\n",
      " |  \n",
      " |  insert_missing_values(self, fraction=0.1, seed=None)\n",
      " |      Insert missing values into the current frame, modifying it in-place.\n",
      " |      \n",
      " |      Randomly replaces a user-specified fraction of entries in a H2O dataset with missing\n",
      " |      values.\n",
      " |      \n",
      " |      :param float fraction: A number between 0 and 1 indicating the fraction of entries to replace with missing.\n",
      " |      :param int seed: The seed for the random number generator used to determine which values to make missing.\n",
      " |      \n",
      " |      :returns: the original H2OFrame with missing values inserted.\n",
      " |  \n",
      " |  interaction(self, factors, pairwise, max_factors, min_occurrence, destination_frame=None)\n",
      " |      Categorical Interaction Feature Creation in H2O.\n",
      " |      \n",
      " |      Creates a frame in H2O with n-th order interaction features between categorical columns, as specified by\n",
      " |      the user.\n",
      " |      \n",
      " |      :param factors: list of factor columns (either indices or column names).\n",
      " |      :param bool pairwise: Whether to create pairwise interactions between factors (otherwise create one\n",
      " |          higher-order interaction). Only applicable if there are 3 or more factors.\n",
      " |      :param int max_factors: Max. number of factor levels in pair-wise interaction terms (if enforced, one extra\n",
      " |          catch-all factor will be made).\n",
      " |      :param int min_occurrence: Min. occurrence threshold for factor levels in pair-wise interaction terms.\n",
      " |      :param str destination_frame: (internal) string indicating the key for the frame created.\n",
      " |      \n",
      " |      :returns: an H2OFrame\n",
      " |  \n",
      " |  isax(self, num_words, max_cardinality, optimize_card=False, **kwargs)\n",
      " |      Compute the iSAX index for DataFrame which is assumed to be numeric time series data.\n",
      " |      \n",
      " |      References:\n",
      " |      \n",
      " |          - http://www.cs.ucr.edu/~eamonn/SAX.pdf\n",
      " |          - http://www.cs.ucr.edu/~eamonn/iSAX_2.0.pdf\n",
      " |      \n",
      " |      :param int num_words: Number of iSAX words for the timeseries, i.e. granularity along the time series\n",
      " |      :param int max_cardinality: Maximum cardinality of the iSAX word. Each word can have less than the max\n",
      " |      :param bool optimized_card: An optimization flag that will find the max cardinality regardless of what is\n",
      " |          passed in for ``max_cardinality``.\n",
      " |      \n",
      " |      :returns: An H2OFrame with the name of time series, string representation of iSAX word, followed by\n",
      " |          binary representation.\n",
      " |  \n",
      " |  ischaracter(self)\n",
      " |      [DEPRECATED] Use ``frame.isstring()``.\n",
      " |  \n",
      " |  isfactor(self)\n",
      " |      Test which columns in the current frame are categorical.\n",
      " |      \n",
      " |      :returns: a list of True/False indicating for each column in the frame whether it is categorical.\n",
      " |  \n",
      " |  isin(self, item)\n",
      " |      Test whether elements of an H2OFrame are contained in the ``item``.\n",
      " |      \n",
      " |      :param items: An item or a list of items to compare the H2OFrame against.\n",
      " |      \n",
      " |      :returns: An H2OFrame of 0s and 1s showing whether each element in the original H2OFrame is contained in item.\n",
      " |  \n",
      " |  isna(self)\n",
      " |      For each element in an H2OFrame, determine if it is NA or not.\n",
      " |      \n",
      " |      :returns: an H2OFrame of 1s and 0s, where 1s mean the values were NAs.\n",
      " |  \n",
      " |  isnumeric(self)\n",
      " |      Test which columns in the frame are numeric.\n",
      " |      \n",
      " |      :returns: a list of True/False indicating for each column in the frame whether it is numeric.\n",
      " |  \n",
      " |  isstring(self)\n",
      " |      Test which columns in the frame are string.\n",
      " |      \n",
      " |      :returns: a list of True/False indicating for each column in the frame whether it is numeric.\n",
      " |  \n",
      " |  kfold_column(self, n_folds=3, seed=-1)\n",
      " |      Build a fold assignments column for cross-validation.\n",
      " |      \n",
      " |      This method will produce a column having the same data layout as the source frame.\n",
      " |      \n",
      " |      :param int n_folds: An integer specifying the number of validation sets to split the training data into.\n",
      " |      :param int seed: Seed for random numbers as fold IDs are randomly assigned.\n",
      " |      \n",
      " |      :returns: A single column H2OFrame with the fold assignments.\n",
      " |  \n",
      " |  kurtosis(self, na_rm=False)\n",
      " |      Compute the kurtosis of each column in the frame.\n",
      " |      \n",
      " |      We calculate the common kurtosis, such that kurtosis(normal distribution) is 3.\n",
      " |      \n",
      " |      :param bool na_rm: If True, then ignore NAs during the computation.\n",
      " |      :returns: A list containing the kurtosis for each column (NaN for non-numeric columns).\n",
      " |  \n",
      " |  levels(self)\n",
      " |      Get the factor levels.\n",
      " |      \n",
      " |      :returns: A list of lists, one list per column, of levels.\n",
      " |  \n",
      " |  lgamma(self)\n",
      " |      Return new H2OFrame equals to elementwise logarithm of the gamma function of the current frame.\n",
      " |  \n",
      " |  log(self)\n",
      " |      Return new H2OFrame equals to elementwise natural logarithm of the current frame.\n",
      " |  \n",
      " |  log10(self)\n",
      " |      Return new H2OFrame equals to elementwise decimal logarithm of the current frame.\n",
      " |  \n",
      " |  log1p(self)\n",
      " |      Return new H2OFrame equals to elementwise ``ln(1 + x)`` for each ``x`` in the current frame.\n",
      " |  \n",
      " |  log2(self)\n",
      " |      Return new H2OFrame equals to elementwise binary logarithm of the current frame.\n",
      " |  \n",
      " |  logical_negation(self)\n",
      " |      Returns new H2OFrame equal to elementwise Logical NOT applied to the current frame.\n",
      " |  \n",
      " |  lstrip(self, set=' ')\n",
      " |      Return a copy of the column with leading characters removed.\n",
      " |      \n",
      " |      The set argument is a string specifying the set of characters to be removed.\n",
      " |      If omitted, the set argument defaults to removing whitespace.\n",
      " |      \n",
      " |      :param character set: The set of characters to lstrip from strings in column.\n",
      " |      :returns: a new H2OFrame with the same shape as the original frame and having all its values\n",
      " |          trimmed from the left (equivalent of Python's ``str.lstrip()``).\n",
      " |  \n",
      " |  match(self, table, nomatch=0)\n",
      " |      Make a vector of the positions of (first) matches of its first argument in its second.\n",
      " |      \n",
      " |      Only applicable to single-column categorical/string frames.\n",
      " |      \n",
      " |      :param List table: the list of items to match against\n",
      " |      :param int nomatch: value that should be returned when there is no match.\n",
      " |      :returns: a new H2OFrame containing for each cell from the source frame the index where\n",
      " |          the pattern ``table`` first occurs within that cell.\n",
      " |  \n",
      " |  max(self)\n",
      " |      The maximum value of all frame entries.\n",
      " |  \n",
      " |  mean(self, skipna=True, axis=0, **kwargs)\n",
      " |      Compute the frame's means by-column (or by-row).\n",
      " |      \n",
      " |      :param bool skipna: If True (default), then NAs are ignored during the computation. Otherwise presence\n",
      " |          of NAs renders the entire result NA.\n",
      " |      :param int axis: Direction of mean computation. If 0 (default), then mean is computed columnwise, and the\n",
      " |          result is a frame with 1 row and number of columns as in the original frame. If 1, then mean is computed\n",
      " |          rowwise and the result is a frame with 1 column (called \"mean\"), and number of rows equal to the number\n",
      " |          of rows in the original frame.\n",
      " |      :returns: either a list of mean values per-column (old semantic); or an H2OFrame containing mean values\n",
      " |          per-column/per-row from the original frame (new semantic). The new semantic is triggered by either\n",
      " |          providing the ``return_frame=True`` parameter, or having the ``general.allow_breaking_changed`` config\n",
      " |          option turned on.\n",
      " |  \n",
      " |  median(self, na_rm=False)\n",
      " |      Compute the median of each column in the frame.\n",
      " |      \n",
      " |      :param bool na_rm: If True, then ignore NAs during the computation.\n",
      " |      :returns: A list containing the median for each column (NaN for non-numeric columns).\n",
      " |  \n",
      " |  merge(self, other, all_x=False, all_y=False, by_x=None, by_y=None, method='auto')\n",
      " |      Merge two datasets based on common column names.  We do not support all_x=True and all_y=True.\n",
      " |      Only one can be True or none is True.  The default merge method is auto and it will default to the\n",
      " |      radix method.  The radix method will return the correct merge result regardless of duplicated rows\n",
      " |       in the right frame.  In addition, the radix method can perform merge even if you have string columns\n",
      " |       in your frames.  If there are duplicated rows in your rite frame, they will not be included if you use\n",
      " |      the hash method.  The hash method cannot perform merge if you have string columns in your left frame.\n",
      " |      Hence, we consider the radix method superior to the hash method and is the default method to use.\n",
      " |      \n",
      " |      :param H2OFrame other: The frame to merge to the current one. By default, must have at least one column in common with\n",
      " |          this frame, and all columns in common are used as the merge key.  If you want to use only a subset of the\n",
      " |          columns in common, rename the other columns so the columns are unique in the merged result.\n",
      " |      :param bool all_x: If True, include all rows from the left/self frame\n",
      " |      :param bool all_y: If True, include all rows from the right/other frame\n",
      " |      :param by_x: list of columns in the current frame to use as a merge key.\n",
      " |      :param by_y: list of columns in the ``other`` frame to use as a merge key. Should have the same number of\n",
      " |          columns as in the ``by_x`` list.\n",
      " |      :param method: string representing the merge method, one of auto(default), radix or hash.\n",
      " |      \n",
      " |      :returns: New H2OFrame with the result of merging the current frame with the ``other`` frame.\n",
      " |  \n",
      " |  min(self)\n",
      " |      The minimum value of all frame entries.\n",
      " |  \n",
      " |  minute(self)\n",
      " |      Extract the \"minute\" part from a date column.\n",
      " |      \n",
      " |      :returns: a single-column H2OFrame containing the \"minute\" part from the source frame.\n",
      " |  \n",
      " |  modulo_kfold_column(self, n_folds=3)\n",
      " |      Build a fold assignments column for cross-validation.\n",
      " |      \n",
      " |      Rows are assigned a fold according to the current row number modulo ``n_folds``.\n",
      " |      \n",
      " |      :param int n_folds: An integer specifying the number of validation sets to split the training data into.\n",
      " |      :returns: A single-column H2OFrame with the fold assignments.\n",
      " |  \n",
      " |  month(self)\n",
      " |      Extract the \"month\" part from a date column.\n",
      " |      \n",
      " |      :returns: a single-column H2OFrame containing the \"month\" part from the source frame.\n",
      " |  \n",
      " |  mult(self, matrix)\n",
      " |      Multiply this frame, viewed as a matrix, by another matrix.\n",
      " |      \n",
      " |      :param matrix: another frame that you want to multiply the current frame by; must be compatible with the\n",
      " |          current frame (i.e. its number of rows must be the same as number of columns in the current frame).\n",
      " |      :returns: new H2OFrame, which is the result of multiplying the current frame by ``matrix``.\n",
      " |  \n",
      " |  na_omit(self)\n",
      " |      Remove rows with NAs from the H2OFrame.\n",
      " |      \n",
      " |      :returns: new H2OFrame with all rows from the original frame containing any NAs removed.\n",
      " |  \n",
      " |  nacnt(self)\n",
      " |      Count of NAs for each column in this H2OFrame.\n",
      " |      \n",
      " |      :returns: A list of the na counts (one entry per column).\n",
      " |  \n",
      " |  nchar(self)\n",
      " |      Count the length of each string in a single-column H2OFrame of string type.\n",
      " |      \n",
      " |      :returns: A single-column H2OFrame containing the per-row character count.\n",
      " |  \n",
      " |  nlevels(self)\n",
      " |      Get the number of factor levels for each categorical column.\n",
      " |      \n",
      " |      :returns: A list of the number of levels per column.\n",
      " |  \n",
      " |  num_valid_substrings(self, path_to_words)\n",
      " |      For each string, find the count of all possible substrings with 2 characters or more that are contained in\n",
      " |      the line-separated text file whose path is given.\n",
      " |      \n",
      " |      :param str path_to_words: Path to file that contains a line-separated list of strings considered valid.\n",
      " |      :returns: An H2OFrame with the number of substrings that are contained in the given word list.\n",
      " |  \n",
      " |  pivot(self, index, column, value)\n",
      " |      Pivot the frame designated by the three columns: index, column, and value. Index and column should be\n",
      " |      of type enum, int, or time.\n",
      " |      For cases of multiple indexes for a column label, the aggregation method is to pick the first occurrence in the data frame\n",
      " |      \n",
      " |      :param index: Index is a column that will be the row label\n",
      " |      :param column: The labels for the columns in the pivoted Frame\n",
      " |      :param value: The column of values for the given index and column label\n",
      " |      :returns:\n",
      " |  \n",
      " |  pop(self, i)\n",
      " |      Pop a column from the H2OFrame at index i.\n",
      " |      \n",
      " |      :param i: The index (int) or name (str) of the column to pop.\n",
      " |      :returns: an H2OFrame containing the column dropped from the current frame; the current frame is modified\n",
      " |          in-place and loses the column.\n",
      " |  \n",
      " |  prod(self, na_rm=False)\n",
      " |      Compute the product of all values across all rows in a single column H2O frame.  If you apply\n",
      " |      this command on a multi-column H2O frame, the answer may not be correct.\n",
      " |      \n",
      " |      :param bool na_rm: If True then NAs will be ignored during the computation.\n",
      " |      :returns: product of all values in the frame (a float)\n",
      " |  \n",
      " |  quantile(self, prob=None, combine_method='interpolate', weights_column=None)\n",
      " |      Compute quantiles.\n",
      " |      \n",
      " |      :param List[float] prob: list of probabilities for which quantiles should be computed.\n",
      " |      :param str combine_method: for even samples this setting determines how to combine quantiles. This can be\n",
      " |          one of ``\"interpolate\"``, ``\"average\"``, ``\"low\"``, ``\"high\"``.\n",
      " |      :param weights_column: optional weights for each row. If not given, all rows are assumed to have equal\n",
      " |          importance. This parameter can be either the name of column containing the observation weights in\n",
      " |          this frame, or a single-column separate H2OFrame of observation weights.\n",
      " |      \n",
      " |      :returns: a new H2OFrame containing the quantiles and probabilities.\n",
      " |  \n",
      " |  rank_within_group_by(self, group_by_cols, sort_cols, ascending=[], new_col_name='New_Rank_column', sort_cols_sorted=False)\n",
      " |      This function will add a new column rank where the ranking is produced as follows:\n",
      " |       1. sorts the H2OFrame by columns sorted in by columns specified in group_by_cols and sort_cols in the directions\n",
      " |         specified by the ascending for the sort_cols.  The sort directions for the group_by_cols are ascending only.\n",
      " |       2. A new rank column is added to the frame which will contain a rank assignment performed next.  The user can\n",
      " |         choose to assign a name to this new column.  The default name is New_Rank_column.\n",
      " |       3. For each groupby groups, a rank is assigned to the row starting from 1, 2, ... to the end of that group.\n",
      " |       4. If sort_cols_sorted is TRUE, a final sort on the frame will be performed frame according to the sort_cols and\n",
      " |          the sort directions in ascending.  If sort_cols_sorted is FALSE (by default), the frame from step 3 will be\n",
      " |          returned as is with no extra sort.  This may provide a small speedup if desired.\n",
      " |      \n",
      " |      :param group_by_cols: The columns to group on (either a single column name/index, or a list of column names\n",
      " |        or column indices\n",
      " |      :param sort_cols: The columns to sort on (either a single column name/index, or a list of column names or\n",
      " |        column indices\n",
      " |      :param ascending: Optional Boolean array to denote sorting direction for each sorting column.  True for\n",
      " |        ascending, False for descending.  Default is ascending sort.  Sort direction for enums will be ignored.\n",
      " |      :param new_col_name: Optional String to denote the new column names.  Default to New_Rank_column.\n",
      " |      :param sort_cols_sorted: Optional Boolean to denote if the returned frame should be sorted according to sort_cols\n",
      " |        and sort directions specified in ascending.  Default is False.\n",
      " |      \n",
      " |      :return: a new Frame with new rank (sorted by columns in sort_cols) column within the grouping specified\n",
      " |        by the group_by_cols.\n",
      " |      \n",
      " |       The following example is generated by Nidhi Mehta.\n",
      " |       If the input frame is train:\n",
      " |      \n",
      " |       ID Group_by_column        num data Column_to_arrange_by       num_1 fdata\n",
      " |       12               1   2941.552    1                    3  -3177.9077     1\n",
      " |       12               1   2941.552    1                    5 -13311.8247     1\n",
      " |       12               2 -22722.174    1                    3  -3177.9077     1\n",
      " |       12               2 -22722.174    1                    5 -13311.8247     1\n",
      " |       13               3 -12776.884    1                    5 -18421.6171     0\n",
      " |       13               3 -12776.884    1                    4  28080.1607     0\n",
      " |       13               1  -6049.830    1                    5 -18421.6171     0\n",
      " |       13               1  -6049.830    1                    4  28080.1607     0\n",
      " |       15               3 -16995.346    1                    1  -9781.6373     0\n",
      " |       16               1 -10003.593    0                    3 -61284.6900     0\n",
      " |       16               3  26052.495    1                    3 -61284.6900     0\n",
      " |       16               3 -22905.288    0                    3 -61284.6900     0\n",
      " |       17               2 -13465.496    1                    2  12094.4851     1\n",
      " |       17               2 -13465.496    1                    3 -11772.1338     1\n",
      " |       17               2 -13465.496    1                    3   -415.1114     0\n",
      " |       17               2  -3329.619    1                    2  12094.4851     1\n",
      " |       17               2  -3329.619    1                    3 -11772.1338     1\n",
      " |       17               2  -3329.619    1                    3   -415.1114     0\n",
      " |      \n",
      " |       If the following commands are issued:\n",
      " |       rankedF1 = h2o.rank_within_group_by(train, [\"Group_by_column\"], [\"Column_to_arrange_by\"], [TRUE])\n",
      " |       rankedF1.summary()\n",
      " |      \n",
      " |       The returned frame rankedF1 will look like this:\n",
      " |       ID Group_by_column        num fdata Column_to_arrange_by       num_1 fdata.1 New_Rank_column\n",
      " |       12               1   2941.552     1                    3  -3177.9077       1               1\n",
      " |       16               1 -10003.593     0                    3 -61284.6900       0               2\n",
      " |       13               1  -6049.830     0                    4  28080.1607       0               3\n",
      " |       12               1   2941.552     1                    5 -13311.8247       1               4\n",
      " |       13               1  -6049.830     0                    5 -18421.6171       0               5\n",
      " |       17               2 -13465.496     0                    2  12094.4851       1               1\n",
      " |       17               2  -3329.619     0                    2  12094.4851       1               2\n",
      " |       12               2 -22722.174     1                    3  -3177.9077       1               3\n",
      " |       17               2 -13465.496     0                    3 -11772.1338       1               4\n",
      " |       17               2 -13465.496     0                    3   -415.1114       0               5\n",
      " |       17               2  -3329.619     0                    3 -11772.1338       1               6\n",
      " |       17               2  -3329.619     0                    3   -415.1114       0               7\n",
      " |       12               2 -22722.174     1                    5 -13311.8247       1               8\n",
      " |       15               3 -16995.346     1                    1  -9781.6373       0               1\n",
      " |       16               3  26052.495     0                    3 -61284.6900       0               2\n",
      " |       16               3 -22905.288     1                    3 -61284.6900       0               3\n",
      " |       13               3 -12776.884     1                    4  28080.1607       0               4\n",
      " |       13               3 -12776.884     1                    5 -18421.6171       0               5\n",
      " |      \n",
      " |       If the following commands are issued:\n",
      " |       rankedF1 = h2o.rank_within_group_by(train, [\"Group_by_column\"], [\"Column_to_arrange_by\"], [TRUE], sort_cols_sorted=True)\n",
      " |       h2o.summary(rankedF1)\n",
      " |      \n",
      " |       The returned frame will be sorted according to sort_cols and hence look like this instead:\n",
      " |       ID Group_by_column        num fdata Column_to_arrange_by       num_1 fdata.1 New_Rank_column\n",
      " |       15               3 -16995.346     1                    1  -9781.6373       0               1\n",
      " |       17               2 -13465.496     0                    2  12094.4851       1               1\n",
      " |       17               2  -3329.619     0                    2  12094.4851       1               2\n",
      " |       12               1   2941.552     1                    3  -3177.9077       1               1\n",
      " |       12               2 -22722.174     1                    3  -3177.9077       1               3\n",
      " |       16               1 -10003.593     0                    3 -61284.6900       0               2\n",
      " |       16               3  26052.495     0                    3 -61284.6900       0               2\n",
      " |       16               3 -22905.288     1                    3 -61284.6900       0               3\n",
      " |       17               2 -13465.496     0                    3 -11772.1338       1               4\n",
      " |       17               2 -13465.496     0                    3   -415.1114       0               5\n",
      " |       17               2  -3329.619     0                    3 -11772.1338       1               6\n",
      " |       17               2  -3329.619     0                    3   -415.1114       0               7\n",
      " |       13               3 -12776.884     1                    4  28080.1607       0               4\n",
      " |       13               1  -6049.830     0                    4  28080.1607       0               3\n",
      " |       12               1   2941.552     1                    5 -13311.8247       1               4\n",
      " |       12               2 -22722.174     1                    5 -13311.8247       1               8\n",
      " |       13               3 -12776.884     1                    5 -18421.6171       0               5\n",
      " |       13               1  -6049.830     0                    5 -18421.6171       0               5\n",
      " |  \n",
      " |  rbind(self, data)\n",
      " |      Append data to this frame row-wise.\n",
      " |      \n",
      " |      :param data: an H2OFrame or a list of H2OFrame's to be combined with current frame row-wise.\n",
      " |      :returns: this H2OFrame with all frames in data appended row-wise.\n",
      " |  \n",
      " |  refresh(self)\n",
      " |      Reload frame information from the backend H2O server.\n",
      " |  \n",
      " |  relevel(self, y)\n",
      " |      Reorder levels of an H2O factor for one single column of a H2O frame\n",
      " |      \n",
      " |      The levels of a factor are reordered such that the reference level is at level 0, all remaining levels are\n",
      " |      moved down as needed.\n",
      " |      \n",
      " |      :param str y: The reference level\n",
      " |      :returns: New reordered factor column\n",
      " |  \n",
      " |  rename(self, columns=None)\n",
      " |      Change names of columns in the frame.\n",
      " |      \n",
      " |      Dict key is an index or name of the column whose name is to be set.\n",
      " |      Dict value is the new name of the column.\n",
      " |      \n",
      " |      :param columns: dict-like transformations to apply to the column names\n",
      " |  \n",
      " |  rep_len(self, length_out)\n",
      " |      Create a new frame replicating the current frame.\n",
      " |      \n",
      " |      If the source frame has a single column, then the new frame will be replicating rows and its dimensions\n",
      " |      will be ``length_out x 1``. However if the source frame has more than 1 column, then then new frame\n",
      " |      will be replicating data in columnwise direction, and its dimensions will be ``nrows x length_out``,\n",
      " |      where ``nrows`` is the number of rows in the source frame. Also note that if ``length_out`` is smaller\n",
      " |      than the corresponding dimension of the source frame, then the new frame will actually be a truncated\n",
      " |      version of the original.\n",
      " |      \n",
      " |      :param int length_out: Number of columns (rows) of the resulting H2OFrame\n",
      " |      :returns: new H2OFrame with repeated data from the current frame.\n",
      " |  \n",
      " |  round(self, digits=0)\n",
      " |      Round doubles/floats to the given number of decimal places.\n",
      " |      \n",
      " |      :param int digits: The number of decimal places to retain. Rounding to a negative number of decimal places is\n",
      " |          not supported. For rounding we use the \"round half to even\" mode (IEC 60559 standard), so that\n",
      " |          ``round(2.5) = 2`` and ``round(3.5) = 4``.\n",
      " |      :returns: new H2OFrame with rounded values from the original frame.\n",
      " |  \n",
      " |  rstrip(self, set=' ')\n",
      " |      Return a copy of the column with trailing characters removed.\n",
      " |      \n",
      " |      The set argument is a string specifying the set of characters to be removed.\n",
      " |      If omitted, the set argument defaults to removing whitespace.\n",
      " |      \n",
      " |      :param character set: The set of characters to rstrip from strings in column\n",
      " |      :returns: a new H2OFrame with the same shape as the original frame and having all its values\n",
      " |          trimmed from the right (equivalent of Python's ``str.rstrip()``).\n",
      " |  \n",
      " |  runif(self, seed=None)\n",
      " |      Generate a column of random numbers drawn from a uniform distribution [0,1) and\n",
      " |      having the same data layout as the source frame.\n",
      " |      \n",
      " |      :param int seed: seed for the random number generator.\n",
      " |      \n",
      " |      :returns: Single-column H2OFrame filled with doubles sampled uniformly from [0,1).\n",
      " |  \n",
      " |  scale(self, center=True, scale=True)\n",
      " |      Center and/or scale the columns of the current frame.\n",
      " |      \n",
      " |      :param center: If True, then demean the data. If False, no shifting is done. If ``center`` is a list of\n",
      " |          numbers then shift each column by the corresponding amount.\n",
      " |      :param scale: If True, then scale the data by each column's standard deviation. If False, no scaling\n",
      " |          is done. If ``scale`` is a list of numbers, then scale each column by the requested amount.\n",
      " |      :returns: an H2OFrame with scaled values from the current frame.\n",
      " |  \n",
      " |  sd(self, na_rm=False)\n",
      " |      Compute the standard deviation for each column in the frame.\n",
      " |      \n",
      " |      :param bool na_rm: if True, then NAs will be removed from the computation.\n",
      " |      :returns: A list containing the standard deviation for each column (NaN for non-numeric columns).\n",
      " |  \n",
      " |  second(self)\n",
      " |      Extract the \"second\" part from a date column.\n",
      " |      \n",
      " |      :returns: a single-column H2OFrame containing the \"second\" part from the source frame.\n",
      " |  \n",
      " |  set_level(self, level)\n",
      " |      A method to set all column values to one of the levels.\n",
      " |      \n",
      " |      :param str level: The level at which the column will be set (a string)\n",
      " |      \n",
      " |      :returns: H2OFrame with entries set to the desired level.\n",
      " |  \n",
      " |  set_levels(self, levels)\n",
      " |      Replace the levels of a categorical column.\n",
      " |      \n",
      " |      New levels must be aligned with the old domain. This call has copy-on-write semantics.\n",
      " |      \n",
      " |      :param List[str] levels: A list of strings specifying the new levels. The number of new\n",
      " |          levels must match the number of old levels.\n",
      " |      :returns: A single-column H2OFrame with the desired levels.\n",
      " |  \n",
      " |  set_name(self, col=None, name=None)\n",
      " |      Set a new name for a column.\n",
      " |      \n",
      " |      :param col: index or name of the column whose name is to be set; may be skipped for 1-column frames\n",
      " |      :param name: the new name of the column\n",
      " |  \n",
      " |  set_names(self, names)\n",
      " |      Change names of all columns in the frame.\n",
      " |      \n",
      " |      :param List[str] names: The list of new names for every column in the frame.\n",
      " |  \n",
      " |  show(self, use_pandas=False, rows=10, cols=200)\n",
      " |      Used by the H2OFrame.__repr__ method to print or display a snippet of the data frame.\n",
      " |      \n",
      " |      If called from IPython, displays an html'ized result. Else prints a tabulate'd result.\n",
      " |  \n",
      " |  sign(self)\n",
      " |      Return new H2OFrame equal to signs of the values in the frame: -1 , +1, or 0.\n",
      " |  \n",
      " |  signif(self, digits=6)\n",
      " |      Round doubles/floats to the given number of significant digits.\n",
      " |      \n",
      " |      :param int digits: Number of significant digits to retain.\n",
      " |      :returns: new H2OFrame with rounded values from the original frame.\n",
      " |  \n",
      " |  sin(self)\n",
      " |      Return new H2OFrame equal to elementwise sine of the current frame.\n",
      " |  \n",
      " |  sinh(self)\n",
      " |      Return new H2OFrame equal to elementwise hyperbolic sine of the current frame.\n",
      " |  \n",
      " |  sinpi(self)\n",
      " |      Return new H2OFrame equal to elementwise sine of the current frame multiplied by Pi.\n",
      " |  \n",
      " |  skewness(self, na_rm=False)\n",
      " |      Compute the skewness of each column in the frame.\n",
      " |      \n",
      " |      :param bool na_rm: If True, then ignore NAs during the computation.\n",
      " |      :returns: A list containing the skewness for each column (NaN for non-numeric columns).\n",
      " |  \n",
      " |  sort(self, by, ascending=[])\n",
      " |      Return a new Frame that is sorted by column(s) in ascending order. A fully distributed and parallel sort.\n",
      " |      However, the original frame can contain String columns but sorting cannot be done on String columns.\n",
      " |      Default sorting direction is ascending.\n",
      " |      \n",
      " |      :param by: The column to sort by (either a single column name, or a list of column names, or\n",
      " |          a list of column indices)\n",
      " |      :param ascending: Boolean array to denote sorting direction for each sorting column.  True for ascending\n",
      " |          sort and False for descending sort.\n",
      " |      \n",
      " |      :return:  a new sorted Frame\n",
      " |  \n",
      " |  split_frame(self, ratios=None, destination_frames=None, seed=None)\n",
      " |      Split a frame into distinct subsets of size determined by the given ratios.\n",
      " |      \n",
      " |      The number of subsets is always 1 more than the number of ratios given. Note that\n",
      " |      this does not give an exact split. H2O is designed to be efficient on big data\n",
      " |      using a probabilistic splitting method rather than an exact split. For example\n",
      " |      when specifying a split of 0.75/0.25, H2O will produce a test/train split with\n",
      " |      an expected value of 0.75/0.25 rather than exactly 0.75/0.25. On small datasets,\n",
      " |      the sizes of the resulting splits will deviate from the expected value more than\n",
      " |      on big data, where they will be very close to exact.\n",
      " |      \n",
      " |      :param List[float] ratios: The fractions of rows for each split.\n",
      " |      :param List[str] destination_frames: The names of the split frames.\n",
      " |      :param int seed: seed for the random number generator\n",
      " |      \n",
      " |      :returns: A list of H2OFrames\n",
      " |  \n",
      " |  sqrt(self)\n",
      " |      Return new H2OFrame equal to elementwise square root of the current frame.\n",
      " |  \n",
      " |  stratified_kfold_column(self, n_folds=3, seed=-1)\n",
      " |      Build a fold assignment column with the constraint that each fold has the same class\n",
      " |      distribution as the fold column.\n",
      " |      \n",
      " |      :param int n_folds: The number of folds to build.\n",
      " |      :param int seed: A seed for the random number generator.\n",
      " |      \n",
      " |      :returns: A single column H2OFrame with the fold assignments.\n",
      " |  \n",
      " |  stratified_split(self, test_frac=0.2, seed=-1)\n",
      " |      Construct a column that can be used to perform a random stratified split.\n",
      " |      \n",
      " |      :param float test_frac: The fraction of rows that will belong to the \"test\".\n",
      " |      :param int seed: The seed for the random number generator.\n",
      " |      \n",
      " |      :returns: an H2OFrame having single categorical column with two levels: ``\"train\"`` and ``\"test\"``.\n",
      " |      \n",
      " |      :examples:\n",
      " |        >>> stratsplit = df[\"y\"].stratified_split(test_frac=0.3, seed=12349453)\n",
      " |        >>> train = df[stratsplit==\"train\"]\n",
      " |        >>> test = df[stratsplit==\"test\"]\n",
      " |        >>>\n",
      " |        >>> # check that the distributions among the initial frame, and the\n",
      " |        >>> # train/test frames match\n",
      " |        >>> df[\"y\"].table()[\"Count\"] / df[\"y\"].table()[\"Count\"].sum()\n",
      " |        >>> train[\"y\"].table()[\"Count\"] / train[\"y\"].table()[\"Count\"].sum()\n",
      " |        >>> test[\"y\"].table()[\"Count\"] / test[\"y\"].table()[\"Count\"].sum()\n",
      " |  \n",
      " |  strdistance(self, y, measure=None, compare_empty=True)\n",
      " |      Compute element-wise string distances between two H2OFrames. Both frames need to have the same\n",
      " |      shape and only contain string/factor columns.\n",
      " |      \n",
      " |      :param H2OFrame y: A comparison frame.\n",
      " |      :param str measure: A string identifier indicating what string distance measure to use. Must be one of:\n",
      " |      \n",
      " |          - ``\"lv\"``:        Levenshtein distance\n",
      " |          - ``\"lcs\"``:       Longest common substring distance\n",
      " |          - ``\"qgram\"``:     q-gram distance\n",
      " |          - ``\"jaccard\"``:   Jaccard distance between q-gram profiles\n",
      " |          - ``\"jw\"``:        Jaro, or Jaro-Winker distance\n",
      " |          - ``\"soundex\"``:   Distance based on soundex encoding\n",
      " |      \n",
      " |      :param compare_empty if set to FALSE, empty strings will be handled as NaNs\n",
      " |      \n",
      " |      :examples:\n",
      " |        >>>\n",
      " |        >>> x = h2o.H2OFrame.from_python(['Martha', 'Dwayne', 'Dixon'], column_types=['factor'])\n",
      " |        >>> y = h2o.H2OFrame.from_python(['Marhta', 'Duane', 'Dicksonx'], column_types=['string'])\n",
      " |        >>> x.strdistance(y, measure=\"jw\")\n",
      " |      \n",
      " |      :returns: An H2OFrame of the matrix containing element-wise distance between the\n",
      " |          strings of this frame and ``y``. The returned frame has the same shape as the input frames.\n",
      " |  \n",
      " |  strsplit(self, pattern)\n",
      " |      Split the strings in the target column on the given regular expression pattern.\n",
      " |      \n",
      " |      :param str pattern: The split pattern.\n",
      " |      :returns: H2OFrame containing columns of the split strings.\n",
      " |  \n",
      " |  structure(self)\n",
      " |      Compactly display the internal structure of an H2OFrame.\n",
      " |  \n",
      " |  sub(self, pattern, replacement, ignore_case=False)\n",
      " |      Substitute the first occurrence of pattern in a string with replacement.\n",
      " |      \n",
      " |      :param str pattern: A regular expression.\n",
      " |      :param str replacement: A replacement string.\n",
      " |      :param bool ignore_case: If True then pattern will match case-insensitively.\n",
      " |      :returns: an H2OFrame with all values matching ``pattern`` replaced with ``replacement``.\n",
      " |  \n",
      " |  substring(self, start_index, end_index=None)\n",
      " |      For each string, return a new string that is a substring of the original string.\n",
      " |      \n",
      " |      If end_index is not specified, then the substring extends to the end of the original string. If the start_index\n",
      " |      is longer than the length of the string, or is greater than or equal to the end_index, an empty string is\n",
      " |      returned. Negative start_index is coerced to 0.\n",
      " |      \n",
      " |      :param int start_index: The index of the original string at which to start the substring, inclusive.\n",
      " |      :param int end_index: The index of the original string at which to end the substring, exclusive.\n",
      " |      :returns: An H2OFrame containing the specified substrings.\n",
      " |  \n",
      " |  sum(self, skipna=True, axis=0, **kwargs)\n",
      " |      Compute the frame's sum by-column (or by-row).\n",
      " |      \n",
      " |      :param bool skipna: If True (default), then NAs are ignored during the computation. Otherwise presence\n",
      " |          of NAs renders the entire result NA.\n",
      " |      :param int axis: Direction of sum computation. If 0 (default), then sum is computed columnwise, and the result\n",
      " |          is a frame with 1 row and number of columns as in the original frame. If 1, then sum is computed rowwise\n",
      " |          and the result is a frame with 1 column (called \"sum\"), and number of rows equal to the number of rows\n",
      " |          in the original frame.\n",
      " |      :returns: either an aggregated value with sum of values per-column (old semantic); or an H2OFrame containing sum of values\n",
      " |          per-column/per-row in the original frame (new semantic). The new semantic is triggered by either\n",
      " |          providing the ``return_frame=True`` parameter, or having the ``general.allow_breaking_changed`` config\n",
      " |          option turned on.\n",
      " |  \n",
      " |  summary(self, return_data=False)\n",
      " |      Display summary information about the frame.\n",
      " |      \n",
      " |      Summary includes min/mean/max/sigma and other rollup data.\n",
      " |      \n",
      " |      :param bool return_data: Return a dictionary of the summary output\n",
      " |  \n",
      " |  table(self, data2=None, dense=True)\n",
      " |      Compute the counts of values appearing in a column, or co-occurence counts between two columns.\n",
      " |      \n",
      " |      :param H2OFrame data2: An optional single column to aggregate counts by.\n",
      " |      :param bool dense: If True (default) then use dense representation, which lists only non-zero counts,\n",
      " |          1 combination per row. Set to False to expand counts across all combinations.\n",
      " |      \n",
      " |      :returns: H2OFrame of the counts at each combination of factor levels\n",
      " |  \n",
      " |  tail(self, rows=10, cols=200)\n",
      " |      Return the last ``rows`` and ``cols`` of the frame as a new H2OFrame.\n",
      " |      \n",
      " |      :param int rows: maximum number of rows to return\n",
      " |      :param int cols: maximum number of columns to return\n",
      " |      :returns: a new H2OFrame cut from the bottom left corner of the current frame, and having dimensions at\n",
      " |          most ``rows`` x ``cols``.\n",
      " |  \n",
      " |  tan(self)\n",
      " |      Return new H2OFrame equal to elementwise tangent of the current frame.\n",
      " |  \n",
      " |  tanh(self)\n",
      " |      Return new H2OFrame equal to elementwise hyperbolic tangent of the current frame.\n",
      " |  \n",
      " |  tanpi(self)\n",
      " |      Return new H2OFrame equal to elementwise tangent of the current frame multiplied by Pi.\n",
      " |  \n",
      " |  tokenize(self, split)\n",
      " |      Tokenize String\n",
      " |      \n",
      " |      tokenize() is similar to strsplit(), the difference between them is that tokenize() will store the tokenized\n",
      " |      text into a single column making it easier for additional processing (filtering stop words, word2vec algo, ...).\n",
      " |      \n",
      " |      :param str split The regular expression to split on.\n",
      " |      @return An H2OFrame with a single column representing the tokenized Strings. Original rows of the input DF are separated by NA.\n",
      " |  \n",
      " |  tolower(self)\n",
      " |      Translate characters from upper to lower case for a particular column.\n",
      " |      \n",
      " |      :returns: new H2OFrame with all strings in the current frame converted to the lowercase.\n",
      " |  \n",
      " |  topN(self, column=0, nPercent=10)\n",
      " |      Given a column name or one column index, a percent N, this function will return the top N% of the values\n",
      " |      of the column of a frame.  The column must be a numerical column.\n",
      " |      \n",
      " |      :param column: a string for column name or an integer index\n",
      " |      :param nPercent: a top percentage of the column values to return\n",
      " |      :returns: a H2OFrame containing two columns.  The first column contains the original row indices where\n",
      " |          the top values are extracted from.  The second column contains the top nPercent values.\n",
      " |  \n",
      " |  topNBottomN(self, column=0, nPercent=10, grabTopN=-1)\n",
      " |      Given a column name or one column index, a percent N, this function will return the top or bottom N% of the\n",
      " |       values of the column of a frame.  The column must be a numerical column.\n",
      " |      \n",
      " |      :param column: a string for column name or an integer index\n",
      " |      :param nPercent: a top or bottom percentage of the column values to return\n",
      " |      :param grabTopN: -1 to grab bottom N percent and 1 to grab top N percent\n",
      " |      :returns: a H2OFrame containing two columns.  The first column contains the original row indices where\n",
      " |          the top/bottom values are extracted from.  The second column contains the values.\n",
      " |  \n",
      " |  toupper(self)\n",
      " |      Translate characters from lower to upper case for a particular column.\n",
      " |      \n",
      " |      :returns: new H2OFrame with all strings in the current frame converted to the uppercase.\n",
      " |  \n",
      " |  transpose(self)\n",
      " |      Transpose rows and columns of this frame.\n",
      " |      \n",
      " |      :returns: new H2OFrame where with rows/columns from the original frame transposed.\n",
      " |  \n",
      " |  trigamma(self)\n",
      " |      Return new H2OFrame equals to elementwise trigamma function of the current frame.\n",
      " |  \n",
      " |  trim(self)\n",
      " |      Trim white space on the left and right of strings in a single-column H2OFrame.\n",
      " |      \n",
      " |      :returns: H2OFrame with trimmed strings.\n",
      " |  \n",
      " |  trunc(self)\n",
      " |      Apply the numeric truncation function.\n",
      " |      \n",
      " |      ``trunc(x)`` is the integer obtained from ``x`` by dropping its decimal tail. This is equal to ``floor(x)``\n",
      " |      if ``x`` is positive, and ``ceil(x)`` if ``x`` is negative. Truncation is also called \"rounding towards zero\".\n",
      " |      \n",
      " |      :returns: new H2OFrame of truncated values of the original frame.\n",
      " |  \n",
      " |  type(self, col)\n",
      " |      The type for the given column.\n",
      " |      \n",
      " |      :param col: either a name, or an index of the column to look up\n",
      " |      :returns: type of the column, one of: ``str``, ``int``, ``real``, ``enum``, ``time``, ``bool``.\n",
      " |      :raises H2OValueError: if such column does not exist in the frame.\n",
      " |  \n",
      " |  unique(self)\n",
      " |      Extract the unique values in the column.\n",
      " |      \n",
      " |      :returns: H2OFrame of just the unique values in the column.\n",
      " |  \n",
      " |  var(self, y=None, na_rm=False, use=None)\n",
      " |      Compute the variance-covariance matrix of one or two H2OFrames.\n",
      " |      \n",
      " |      :param H2OFrame y: If this parameter is given, then a covariance  matrix between the columns of the target\n",
      " |          frame and the columns of ``y`` is computed. If this parameter is not provided then the covariance matrix\n",
      " |          of the target frame is returned. If target frame has just a single column, then return the scalar variance\n",
      " |          instead of the matrix. Single rows are treated as single columns.\n",
      " |      :param str use: A string indicating how to handle missing values. This could be one of the following:\n",
      " |      \n",
      " |          - ``\"everything\"``: outputs NaNs whenever one of its contributing observations is missing\n",
      " |          - ``\"all.obs\"``: presence of missing observations will throw an error\n",
      " |          - ``\"complete.obs\"``: discards missing values along with all observations in their rows so that only\n",
      " |            complete observations are used\n",
      " |      :param bool na_rm: an alternative to ``use``: when this is True then default value for ``use`` is\n",
      " |          ``\"everything\"``; and if False then default ``use`` is ``\"complete.obs\"``. This parameter has no effect\n",
      " |          if ``use`` is given explicitly.\n",
      " |      \n",
      " |      :returns: An H2OFrame of the covariance matrix of the columns of this frame (if ``y`` is not given),\n",
      " |          or with the columns of ``y`` (if ``y`` is given). However when this frame and ``y`` are both single rows\n",
      " |          or single columns, then the variance is returned as a scalar.\n",
      " |  \n",
      " |  week(self)\n",
      " |      Extract the \"week\" part from a date column.\n",
      " |      \n",
      " |      :returns: a single-column H2OFrame containing the \"week\" part from the source frame.\n",
      " |  \n",
      " |  which(self)\n",
      " |      Compose the list of row indices for which the frame contains non-zero values.\n",
      " |      \n",
      " |      Only applicable to integer single-column frames.\n",
      " |      Equivalent to comprehension ``[index for index, value in enumerate(self) if value]``.\n",
      " |      \n",
      " |      :returns: a new single-column H2OFrame containing indices of those rows in the original frame\n",
      " |          that contained non-zero values.\n",
      " |  \n",
      " |  year(self)\n",
      " |      Extract the \"year\" part from a date column.\n",
      " |      \n",
      " |      :returns: a single-column H2OFrame containing the \"year\" part from the source frame.\n",
      " |  \n",
      " |  ----------------------------------------------------------------------\n",
      " |  Static methods defined here:\n",
      " |  \n",
      " |  from_python(python_obj, destination_frame=None, header=0, separator=',', column_names=None, column_types=None, na_strings=None)\n",
      " |      [DEPRECATED] Use constructor ``H2OFrame()`` instead.\n",
      " |  \n",
      " |  get_frame(frame_id, rows=10, rows_offset=0, cols=-1, full_cols=-1, cols_offset=0, light=False)\n",
      " |      Retrieve an existing H2OFrame from the H2O cluster using the frame's id.\n",
      " |      \n",
      " |      :param str frame_id: id of the frame to retrieve\n",
      " |      :param int rows: number of rows to fetch for preview (10 by default)\n",
      " |      :param int rows_offset: offset to fetch rows from (0 by default)\n",
      " |      :param int cols: number of columns to fetch (all by default)\n",
      " |      :param full_cols: number of columns to fetch together with backed data\n",
      " |      :param int cols_offset: offset to fetch rows from (0 by default)\n",
      " |      :param bool light: wether to use light frame endpoint or not\n",
      " |      :returns: an existing H2OFrame with the id provided; or None if such frame doesn't exist.\n",
      " |  \n",
      " |  mktime(year=1970, month=0, day=0, hour=0, minute=0, second=0, msec=0)\n",
      " |      Deprecated, use :func:`moment` instead.\n",
      " |      \n",
      " |      This function was left for backward-compatibility purposes only. It is\n",
      " |      not very stable, and counterintuitively uses 0-based months and days,\n",
      " |      so \"January 4th, 2001\" should be entered as ``mktime(2001, 0, 3)``.\n",
      " |  \n",
      " |  moment(year=None, month=None, day=None, hour=None, minute=None, second=None, msec=None, date=None, time=None)\n",
      " |      Create a time column from individual components.\n",
      " |      \n",
      " |      Each parameter should be either an integer, or a single-column H2OFrame\n",
      " |      containing the corresponding time parts for each row.\n",
      " |      \n",
      " |      The \"date\" part of the timestamp can be specified using either the tuple ``(year, month, day)``, or an\n",
      " |      explicit ``date`` parameter. The \"time\" part of the timestamp is optional, but can be specified either via\n",
      " |      the ``time`` parameter, or via the ``(hour, minute, second, msec)`` tuple.\n",
      " |      \n",
      " |      :param year: the year part of the constructed date\n",
      " |      :param month: the month part of the constructed date\n",
      " |      :param day: the day-of-the-month part of the constructed date\n",
      " |      :param hour: the hours part of the constructed date\n",
      " |      :param minute: the minutes part of the constructed date\n",
      " |      :param second: the seconds part of the constructed date\n",
      " |      :param msec: the milliseconds part of the constructed date\n",
      " |      :param date date: construct the timestamp from the Python's native ``datetime.date`` (or ``datetime.datetime``)\n",
      " |          object. If the object passed is of type ``date``, then you can specify the time part using either the\n",
      " |          ``time`` argument, or ``hour`` ... ``msec`` arguments (but not both). If the object passed is of type\n",
      " |          ``datetime``, then no other arguments can be provided.\n",
      " |      :param time time: construct the timestamp from this Python's native ``datetime.time`` object. This argument\n",
      " |          cannot be used alone, it should be supplemented with either ``date`` argument, or ``year`` ... ``day``\n",
      " |          tuple.\n",
      " |      \n",
      " |      :returns: H2OFrame with one column containing the date constructed from the provided arguments.\n",
      " |  \n",
      " |  ----------------------------------------------------------------------\n",
      " |  Data descriptors defined here:\n",
      " |  \n",
      " |  __dict__\n",
      " |      dictionary for instance variables (if defined)\n",
      " |  \n",
      " |  __weakref__\n",
      " |      list of weak references to the object (if defined)\n",
      " |  \n",
      " |  col_names\n",
      " |      Same as ``self.names``.\n",
      " |  \n",
      " |  columns\n",
      " |      Same as ``self.names``.\n",
      " |  \n",
      " |  dim\n",
      " |      Same as ``list(self.shape)``.\n",
      " |  \n",
      " |  frame_id\n",
      " |      Internal id of the frame (str).\n",
      " |  \n",
      " |  names\n",
      " |      The list of column names (List[str]).\n",
      " |  \n",
      " |  ncol\n",
      " |      Same as ``self.ncols``.\n",
      " |  \n",
      " |  ncols\n",
      " |      Number of columns in the dataframe (int).\n",
      " |  \n",
      " |  nrow\n",
      " |      Same as ``self.nrows``.\n",
      " |  \n",
      " |  nrows\n",
      " |      Number of rows in the dataframe (int).\n",
      " |  \n",
      " |  shape\n",
      " |      Number of rows and columns in the dataframe as a tuple ``(nrows, ncols)``.\n",
      " |  \n",
      " |  types\n",
      " |      The dictionary of column name/type pairs.\n",
      " |  \n",
      " |  ----------------------------------------------------------------------\n",
      " |  Data and other attributes defined here:\n",
      " |  \n",
      " |  __LOCAL_EXPANSION_ON_SINGLE_IMPORT__ = True\n",
      " |  \n",
      " |  __hash__ = None\n",
      "\n"
     ]
    }
   ],
   "source": [
    "help(h2o.H2OFrame)"
   ]
  },
  {
   "cell_type": "code",
   "execution_count": null,
   "metadata": {},
   "outputs": [],
   "source": []
  }
 ],
 "metadata": {
  "kernelspec": {
   "display_name": "Python 3",
   "language": "python",
   "name": "python3"
  },
  "language_info": {
   "codemirror_mode": {
    "name": "ipython",
    "version": 3
   },
   "file_extension": ".py",
   "mimetype": "text/x-python",
   "name": "python",
   "nbconvert_exporter": "python",
   "pygments_lexer": "ipython3",
   "version": "3.7.0"
  }
 },
 "nbformat": 4,
 "nbformat_minor": 2
}
