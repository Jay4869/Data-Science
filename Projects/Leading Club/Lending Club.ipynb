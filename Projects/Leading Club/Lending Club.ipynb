{
 "cells": [
  {
   "cell_type": "markdown",
   "metadata": {},
   "source": [
    "# Lending Club Project\n",
    "\n",
    "I will go through a step-by-step workflow to determine loan deliquency. Predictions are made based on the information available at the time the loan was issued. Our data is a portion of the public Lending Club dataset.\n",
    "\n",
    "### WorkFlow\n",
    "\n",
    "1. Start H2O cluster\n",
    "2. Load data\n",
    "3. Pre-process data\n",
    "4. Feature engineering\n",
    "5. Model training\n",
    "6. Examine model accuracy\n",
    "7. Interpret model\n",
    "8. Save and reuse model\n",
    "9. AutoML (optional)\n",
    "10. Stop H2O-3 cluster"
   ]
  },
  {
   "cell_type": "markdown",
   "metadata": {},
   "source": [
    "## 1. Initialize H2O cluster"
   ]
  },
  {
   "cell_type": "code",
   "execution_count": 251,
   "metadata": {},
   "outputs": [
    {
     "name": "stdout",
     "output_type": "stream",
     "text": [
      "Checking whether there is an H2O instance running at http://localhost:54321 ..... not found.\n",
      "Attempting to start a local H2O server...\n",
      "; Java HotSpot(TM) 64-Bit Server VM (build 13.0.2+8, mixed mode, sharing)\n",
      "  Starting server from D:\\ProgramData\\Anaconda3\\lib\\site-packages\\h2o\\backend\\bin\\h2o.jar\n",
      "  Ice root: C:\\Users\\jay48\\AppData\\Local\\Temp\\tmpfhxaouyl\n",
      "  JVM stdout: C:\\Users\\jay48\\AppData\\Local\\Temp\\tmpfhxaouyl\\h2o_jay48_started_from_python.out\n",
      "  JVM stderr: C:\\Users\\jay48\\AppData\\Local\\Temp\\tmpfhxaouyl\\h2o_jay48_started_from_python.err\n",
      "  Server is running at http://127.0.0.1:54321\n",
      "Connecting to H2O server at http://127.0.0.1:54321 ... successful.\n"
     ]
    },
    {
     "data": {
      "text/html": [
       "<div style=\"overflow:auto\"><table style=\"width:50%\"><tr><td>H2O cluster uptime:</td>\n",
       "<td>02 secs</td></tr>\n",
       "<tr><td>H2O cluster timezone:</td>\n",
       "<td>America/Los_Angeles</td></tr>\n",
       "<tr><td>H2O data parsing timezone:</td>\n",
       "<td>UTC</td></tr>\n",
       "<tr><td>H2O cluster version:</td>\n",
       "<td>3.28.1.2</td></tr>\n",
       "<tr><td>H2O cluster version age:</td>\n",
       "<td>2 months and 21 days </td></tr>\n",
       "<tr><td>H2O cluster name:</td>\n",
       "<td>H2O_from_python_jay48_bauh5p</td></tr>\n",
       "<tr><td>H2O cluster total nodes:</td>\n",
       "<td>1</td></tr>\n",
       "<tr><td>H2O cluster free memory:</td>\n",
       "<td>3.951 Gb</td></tr>\n",
       "<tr><td>H2O cluster total cores:</td>\n",
       "<td>12</td></tr>\n",
       "<tr><td>H2O cluster allowed cores:</td>\n",
       "<td>12</td></tr>\n",
       "<tr><td>H2O cluster status:</td>\n",
       "<td>accepting new members, healthy</td></tr>\n",
       "<tr><td>H2O connection url:</td>\n",
       "<td>http://127.0.0.1:54321</td></tr>\n",
       "<tr><td>H2O connection proxy:</td>\n",
       "<td>{'http': None, 'https': None}</td></tr>\n",
       "<tr><td>H2O internal security:</td>\n",
       "<td>False</td></tr>\n",
       "<tr><td>H2O API Extensions:</td>\n",
       "<td>Amazon S3, Algos, AutoML, Core V3, TargetEncoder, Core V4</td></tr>\n",
       "<tr><td>Python version:</td>\n",
       "<td>3.7.3 final</td></tr></table></div>"
      ],
      "text/plain": [
       "--------------------------  ---------------------------------------------------------\n",
       "H2O cluster uptime:         02 secs\n",
       "H2O cluster timezone:       America/Los_Angeles\n",
       "H2O data parsing timezone:  UTC\n",
       "H2O cluster version:        3.28.1.2\n",
       "H2O cluster version age:    2 months and 21 days\n",
       "H2O cluster name:           H2O_from_python_jay48_bauh5p\n",
       "H2O cluster total nodes:    1\n",
       "H2O cluster free memory:    3.951 Gb\n",
       "H2O cluster total cores:    12\n",
       "H2O cluster allowed cores:  12\n",
       "H2O cluster status:         accepting new members, healthy\n",
       "H2O connection url:         http://127.0.0.1:54321\n",
       "H2O connection proxy:       {'http': None, 'https': None}\n",
       "H2O internal security:      False\n",
       "H2O API Extensions:         Amazon S3, Algos, AutoML, Core V3, TargetEncoder, Core V4\n",
       "Python version:             3.7.3 final\n",
       "--------------------------  ---------------------------------------------------------"
      ]
     },
     "metadata": {},
     "output_type": "display_data"
    }
   ],
   "source": [
    "# Import necessary packages\n",
    "import h2o\n",
    "from h2o.estimators.gbm import H2OGradientBoostingEstimator\n",
    "from h2o.estimators.glm import H2OGeneralizedLinearEstimator\n",
    "\n",
    "# Initialize instance of H2O\n",
    "h2o.init(bind_to_localhost=False)  # run and expose the cluster to the Internet"
   ]
  },
  {
   "cell_type": "markdown",
   "metadata": {},
   "source": [
    "## 2. Load Data\n",
    "\n",
    "Data: https://s3-us-west-2.amazonaws.com/h2o-tutorials/data/topics/lending/lending_club/LoanStats3a.csv\n",
    "\n",
    "Desc: https://www.kaggle.com/pragyanbo/a-hitchhiker-s-guide-to-lending-club-loan-data/notebook"
   ]
  },
  {
   "cell_type": "code",
   "execution_count": 252,
   "metadata": {},
   "outputs": [
    {
     "name": "stdout",
     "output_type": "stream",
     "text": [
      "Parse progress: |█████████████████████████████████████████████████████████| 100%\n"
     ]
    }
   ],
   "source": [
    "file_path = 'http://h2o-public-test-data.s3.amazonaws.com/bigdata/laptop/lending-club/LoanStats3a.csv'\n",
    "\n",
    "# Specify some column types to \"String\" that we want to munge later\n",
    "types = {\"int_rate\":\"string\", \"revol_util\":\"string\", \"emp_length\":\"string\", \"verification_status\":\"string\"}\n",
    "\n",
    "# Load data\n",
    "loans = h2o.import_file(path = file_path, col_types = types)"
   ]
  },
  {
   "cell_type": "code",
   "execution_count": 254,
   "metadata": {
    "scrolled": true
   },
   "outputs": [],
   "source": [
    "# Save data to local\n",
    "h2o.export_file(loans, path = '../../Data/Lending_Club.csv')"
   ]
  },
  {
   "cell_type": "code",
   "execution_count": 255,
   "metadata": {
    "scrolled": false
   },
   "outputs": [
    {
     "name": "stdout",
     "output_type": "stream",
     "text": [
      "Data Dimension: (42538, 52)\n"
     ]
    },
    {
     "data": {
      "text/html": [
       "<table>\n",
       "<thead>\n",
       "<tr><th style=\"text-align: right;\">        id</th><th style=\"text-align: right;\">  member_id</th><th style=\"text-align: right;\">  loan_amnt</th><th style=\"text-align: right;\">  funded_amnt</th><th style=\"text-align: right;\">  funded_amnt_inv</th><th>term     </th><th>int_rate  </th><th style=\"text-align: right;\">  installment</th><th>grade  </th><th>sub_grade  </th><th>emp_title  </th><th>emp_length  </th><th>home_ownership  </th><th style=\"text-align: right;\">  annual_inc</th><th>verification_status  </th><th>issue_d            </th><th>loan_status  </th><th>pymnt_plan  </th><th>url                                                                 </th><th>desc                                                                        </th><th>purpose    </th><th>title   </th><th>zip_code  </th><th>addr_state  </th><th style=\"text-align: right;\">  dti</th><th style=\"text-align: right;\">  delinq_2yrs</th><th>earliest_cr_line   </th><th style=\"text-align: right;\">  inq_last_6mths</th><th>mths_since_last_delinq  </th><th>mths_since_last_record  </th><th style=\"text-align: right;\">  open_acc</th><th style=\"text-align: right;\">  pub_rec</th><th style=\"text-align: right;\">  revol_bal</th><th>revol_util  </th><th style=\"text-align: right;\">  total_acc</th><th>initial_list_status  </th><th style=\"text-align: right;\">  out_prncp</th><th style=\"text-align: right;\">  out_prncp_inv</th><th style=\"text-align: right;\">  total_pymnt</th><th style=\"text-align: right;\">  total_pymnt_inv</th><th style=\"text-align: right;\">  total_rec_prncp</th><th style=\"text-align: right;\">  total_rec_int</th><th style=\"text-align: right;\">  total_rec_late_fee</th><th style=\"text-align: right;\">  recoveries</th><th style=\"text-align: right;\">  collection_recovery_fee</th><th>last_pymnt_d       </th><th style=\"text-align: right;\">  last_pymnt_amnt</th><th>next_pymnt_d  </th><th>last_credit_pull_d  </th><th style=\"text-align: right;\">  collections_12_mths_ex_med</th><th>mths_since_last_major_derog  </th><th style=\"text-align: right;\">  policy_code</th></tr>\n",
       "</thead>\n",
       "<tbody>\n",
       "<tr><td style=\"text-align: right;\">1.0775e+06</td><td style=\"text-align: right;\"> 1.2966e+06</td><td style=\"text-align: right;\">       5000</td><td style=\"text-align: right;\">         5000</td><td style=\"text-align: right;\">             4975</td><td>36 months</td><td>10.65%    </td><td style=\"text-align: right;\">       162.87</td><td>B      </td><td>B2         </td><td>           </td><td>10+ years   </td><td>RENT            </td><td style=\"text-align: right;\">       24000</td><td>VERIFIED - income    </td><td>2011-12-01 00:00:00</td><td>Fully Paid   </td><td>n           </td><td>https://www.lendingclub.com/browse/loanDetail.action?loan_id=1077501</td><td>Borrower added on 12/22/11 > I need to upgrade my business technologies.<br></td><td>credit_card</td><td>Computer</td><td>860xx     </td><td>AZ          </td><td style=\"text-align: right;\">27.65</td><td style=\"text-align: right;\">            0</td><td>1985-01-01 00:00:00</td><td style=\"text-align: right;\">               1</td><td>                        </td><td>                        </td><td style=\"text-align: right;\">         3</td><td style=\"text-align: right;\">        0</td><td style=\"text-align: right;\">      13648</td><td>83.7%       </td><td style=\"text-align: right;\">          9</td><td>f                    </td><td style=\"text-align: right;\">          0</td><td style=\"text-align: right;\">              0</td><td style=\"text-align: right;\">      5861.07</td><td style=\"text-align: right;\">          5831.78</td><td style=\"text-align: right;\">             5000</td><td style=\"text-align: right;\">         861.07</td><td style=\"text-align: right;\">                   0</td><td style=\"text-align: right;\">           0</td><td style=\"text-align: right;\">                        0</td><td>2015-01-01 00:00:00</td><td style=\"text-align: right;\">           171.62</td><td>              </td><td>2015-01-01 00:00:00 </td><td style=\"text-align: right;\">                           0</td><td>                             </td><td style=\"text-align: right;\">            1</td></tr>\n",
       "</tbody>\n",
       "</table>"
      ]
     },
     "metadata": {},
     "output_type": "display_data"
    },
    {
     "data": {
      "text/plain": []
     },
     "execution_count": 255,
     "metadata": {},
     "output_type": "execute_result"
    }
   ],
   "source": [
    "print('Data Dimension:', loans.shape)\n",
    "loans.head(1)"
   ]
  },
  {
   "cell_type": "markdown",
   "metadata": {},
   "source": [
    "## 3.  Pre-process Data\n",
    "\n",
    "### 3.1. Define Target Variable\n",
    "\n",
    "Drop all loans that are still in progess and therefore cannot be deemed good/bad loans. My response column will be called: bad_loan. The bad_loan column will be positive if the loan was not completely paid off."
   ]
  },
  {
   "cell_type": "code",
   "execution_count": 256,
   "metadata": {
    "scrolled": true
   },
   "outputs": [
    {
     "data": {
      "text/html": [
       "<table>\n",
       "<thead>\n",
       "<tr><th>loan_status                                             </th><th style=\"text-align: right;\">  Count</th></tr>\n",
       "</thead>\n",
       "<tbody>\n",
       "<tr><td>Charged Off                                             </td><td style=\"text-align: right;\">   5435</td></tr>\n",
       "<tr><td>Current                                                 </td><td style=\"text-align: right;\">   3351</td></tr>\n",
       "<tr><td>Default                                                 </td><td style=\"text-align: right;\">      7</td></tr>\n",
       "<tr><td>Does not meet the credit policy.  Status:Charged Off    </td><td style=\"text-align: right;\">    761</td></tr>\n",
       "<tr><td>Does not meet the credit policy.  Status:Current        </td><td style=\"text-align: right;\">     53</td></tr>\n",
       "<tr><td>Does not meet the credit policy.  Status:Fully Paid     </td><td style=\"text-align: right;\">   1933</td></tr>\n",
       "<tr><td>Does not meet the credit policy.  Status:In Grace Period</td><td style=\"text-align: right;\">      2</td></tr>\n",
       "<tr><td>Fully Paid                                              </td><td style=\"text-align: right;\">  30843</td></tr>\n",
       "<tr><td>In Grace Period                                         </td><td style=\"text-align: right;\">     60</td></tr>\n",
       "<tr><td>Late (16-30 days)                                       </td><td style=\"text-align: right;\">     16</td></tr>\n",
       "</tbody>\n",
       "</table>"
      ]
     },
     "metadata": {},
     "output_type": "display_data"
    },
    {
     "data": {
      "text/plain": []
     },
     "execution_count": 256,
     "metadata": {},
     "output_type": "execute_result"
    }
   ],
   "source": [
    "loans['loan_status'].table()"
   ]
  },
  {
   "cell_type": "code",
   "execution_count": 257,
   "metadata": {},
   "outputs": [
    {
     "name": "stdout",
     "output_type": "stream",
     "text": [
      "Data Dimension: (42538, 52)\n"
     ]
    },
    {
     "data": {
      "text/html": [
       "<table>\n",
       "<thead>\n",
       "<tr><th>loan_status                                             </th><th style=\"text-align: right;\">  Count</th></tr>\n",
       "</thead>\n",
       "<tbody>\n",
       "<tr><td>Charged Off                                             </td><td style=\"text-align: right;\">   5435</td></tr>\n",
       "<tr><td>Default                                                 </td><td style=\"text-align: right;\">      7</td></tr>\n",
       "<tr><td>Does not meet the credit policy.  Status:Charged Off    </td><td style=\"text-align: right;\">    761</td></tr>\n",
       "<tr><td>Does not meet the credit policy.  Status:Current        </td><td style=\"text-align: right;\">     53</td></tr>\n",
       "<tr><td>Does not meet the credit policy.  Status:Fully Paid     </td><td style=\"text-align: right;\">   1933</td></tr>\n",
       "<tr><td>Does not meet the credit policy.  Status:In Grace Period</td><td style=\"text-align: right;\">      2</td></tr>\n",
       "<tr><td>Fully Paid                                              </td><td style=\"text-align: right;\">  30843</td></tr>\n",
       "</tbody>\n",
       "</table>"
      ]
     },
     "metadata": {},
     "output_type": "display_data"
    },
    {
     "data": {
      "text/plain": []
     },
     "execution_count": 257,
     "metadata": {},
     "output_type": "execute_result"
    }
   ],
   "source": [
    "ongoing_status = ['Current', 'In Grace Period', 'Late (16-30 days)', 'Late (31-120 days)']\n",
    "df = loans[~loans['loan_status'].isin(ongoing_status)]\n",
    "\n",
    "print('Data Dimension:', loans.shape)\n",
    "df['loan_status'].table()"
   ]
  },
  {
   "cell_type": "code",
   "execution_count": 258,
   "metadata": {},
   "outputs": [
    {
     "data": {
      "text/html": [
       "<table>\n",
       "<thead>\n",
       "<tr><th style=\"text-align: right;\">  bad_loan</th><th style=\"text-align: right;\">  Count</th><th style=\"text-align: right;\">    perc</th></tr>\n",
       "</thead>\n",
       "<tbody>\n",
       "<tr><td style=\"text-align: right;\">         0</td><td style=\"text-align: right;\">  30843</td><td style=\"text-align: right;\">0.790097</td></tr>\n",
       "<tr><td style=\"text-align: right;\">         1</td><td style=\"text-align: right;\">   8194</td><td style=\"text-align: right;\">0.209903</td></tr>\n",
       "</tbody>\n",
       "</table>"
      ]
     },
     "metadata": {},
     "output_type": "display_data"
    },
    {
     "name": "stdout",
     "output_type": "stream",
     "text": [
      "\n"
     ]
    }
   ],
   "source": [
    "# Define target variables\n",
    "df['bad_loan'] = ~(df['loan_status'] == 'Fully Paid')\n",
    "\n",
    "# Label distribution\n",
    "bad_loan_dist = df['bad_loan'].table()\n",
    "bad_loan_dist['perc'] = bad_loan_dist['Count'] / df.nrow\n",
    "print(bad_loan_dist)\n",
    "\n",
    "# Label encoding\n",
    "df['bad_loan'] = df['bad_loan'].asfactor()"
   ]
  },
  {
   "cell_type": "markdown",
   "metadata": {},
   "source": [
    "### 3.2. Data Cleaning\n",
    "\n",
    "I notice that multiple columns are numeric, but are being treated as string because of their syntax, so I will convert these to numeric."
   ]
  },
  {
   "cell_type": "code",
   "execution_count": 259,
   "metadata": {},
   "outputs": [
    {
     "data": {
      "text/html": [
       "<table>\n",
       "<thead>\n",
       "<tr><th>int_rate  </th><th>revol_util  </th><th>emp_length  </th></tr>\n",
       "</thead>\n",
       "<tbody>\n",
       "<tr><td>10.65%    </td><td>83.7%       </td><td>10+ years   </td></tr>\n",
       "<tr><td>15.27%    </td><td>9.4%        </td><td>< 1 year    </td></tr>\n",
       "<tr><td>15.96%    </td><td>98.5%       </td><td>10+ years   </td></tr>\n",
       "<tr><td>13.49%    </td><td>21%         </td><td>10+ years   </td></tr>\n",
       "<tr><td>7.90%     </td><td>28.3%       </td><td>3 years     </td></tr>\n",
       "<tr><td>18.64%    </td><td>87.5%       </td><td>9 years     </td></tr>\n",
       "<tr><td>21.28%    </td><td>32.6%       </td><td>4 years     </td></tr>\n",
       "<tr><td>12.69%    </td><td>36.5%       </td><td>< 1 year    </td></tr>\n",
       "<tr><td>14.65%    </td><td>20.6%       </td><td>5 years     </td></tr>\n",
       "<tr><td>12.69%    </td><td>67.1%       </td><td>10+ years   </td></tr>\n",
       "</tbody>\n",
       "</table>"
      ]
     },
     "metadata": {},
     "output_type": "display_data"
    },
    {
     "data": {
      "text/plain": []
     },
     "execution_count": 259,
     "metadata": {},
     "output_type": "execute_result"
    }
   ],
   "source": [
    "df[[\"int_rate\", \"revol_util\", \"emp_length\"]].head()"
   ]
  },
  {
   "cell_type": "code",
   "execution_count": 260,
   "metadata": {},
   "outputs": [],
   "source": [
    "# Remove %\n",
    "df['int_rate'] = df['int_rate'].gsub(pattern = '%', replacement = '')\n",
    "df['revol_util'] = df['revol_util'].gsub(pattern = '%', replacement = '')\n",
    "\n",
    "# Use trim to remove any trailing spaces\n",
    "df['int_rate'] = df['int_rate'].trim()\n",
    "df['revol_util'] = df['revol_util'].trim()\n",
    "\n",
    "# Convert int_rate to numeric\n",
    "df['int_rate'] = df['int_rate'].asnumeric()\n",
    "df['revol_util'] = df['revol_util'].asnumeric()"
   ]
  },
  {
   "cell_type": "markdown",
   "metadata": {},
   "source": [
    "Use the `hist` function to see the distribution of interest rate for good loans and bad loans. I found that the distribution of interest rate is very different for good loans, so this may be a helpful predictor in my model."
   ]
  },
  {
   "cell_type": "code",
   "execution_count": 261,
   "metadata": {},
   "outputs": [
    {
     "name": "stdout",
     "output_type": "stream",
     "text": [
      "Bad Loans\n"
     ]
    },
    {
     "data": {
      "image/png": "[encoded data removed]",
      "text/plain": [
       "<Figure size 432x288 with 1 Axes>"
      ]
     },
     "metadata": {
      "needs_background": "light"
     },
     "output_type": "display_data"
    },
    {
     "name": "stdout",
     "output_type": "stream",
     "text": [
      "Good Loans\n"
     ]
    },
    {
     "data": {
      "image/png": "[encoded data removed]",
      "text/plain": [
       "<Figure size 432x288 with 1 Axes>"
      ]
     },
     "metadata": {
      "needs_background": "light"
     },
     "output_type": "display_data"
    }
   ],
   "source": [
    "print('Bad Loans')\n",
    "df[df['bad_loan'] == \"1\", 'int_rate'].hist()\n",
    "\n",
    "print('Good Loans')\n",
    "df[df['bad_loan'] == \"0\", 'int_rate'].hist()"
   ]
  },
  {
   "cell_type": "code",
   "execution_count": 262,
   "metadata": {},
   "outputs": [
    {
     "name": "stdout",
     "output_type": "stream",
     "text": [
      "Bad Loans\n"
     ]
    },
    {
     "data": {
      "image/png": "[encoded data removed]",
      "text/plain": [
       "<Figure size 432x288 with 1 Axes>"
      ]
     },
     "metadata": {
      "needs_background": "light"
     },
     "output_type": "display_data"
    },
    {
     "name": "stdout",
     "output_type": "stream",
     "text": [
      "Good Loans\n"
     ]
    },
    {
     "data": {
      "image/png": "[encoded data removed]",
      "text/plain": [
       "<Figure size 432x288 with 1 Axes>"
      ]
     },
     "metadata": {
      "needs_background": "light"
     },
     "output_type": "display_data"
    }
   ],
   "source": [
    "print('Bad Loans')\n",
    "df[df['bad_loan'] == \"1\", 'revol_util'].hist()\n",
    "\n",
    "print('Good Loans')\n",
    "df[df['bad_loan'] == \"0\", 'revol_util'].hist()"
   ]
  },
  {
   "cell_type": "code",
   "execution_count": 263,
   "metadata": {},
   "outputs": [
    {
     "data": {
      "text/html": [
       "<table>\n",
       "<thead>\n",
       "<tr><th style=\"text-align: right;\">  emp_length</th><th style=\"text-align: right;\">  Count</th></tr>\n",
       "</thead>\n",
       "<tbody>\n",
       "<tr><td style=\"text-align: right;\">           0</td><td style=\"text-align: right;\">   4767</td></tr>\n",
       "<tr><td style=\"text-align: right;\">           1</td><td style=\"text-align: right;\">   3376</td></tr>\n",
       "<tr><td style=\"text-align: right;\">           2</td><td style=\"text-align: right;\">   4441</td></tr>\n",
       "<tr><td style=\"text-align: right;\">           3</td><td style=\"text-align: right;\">   4064</td></tr>\n",
       "<tr><td style=\"text-align: right;\">           4</td><td style=\"text-align: right;\">   3366</td></tr>\n",
       "<tr><td style=\"text-align: right;\">           5</td><td style=\"text-align: right;\">   3163</td></tr>\n",
       "<tr><td style=\"text-align: right;\">           6</td><td style=\"text-align: right;\">   2152</td></tr>\n",
       "<tr><td style=\"text-align: right;\">           7</td><td style=\"text-align: right;\">   1708</td></tr>\n",
       "<tr><td style=\"text-align: right;\">           8</td><td style=\"text-align: right;\">   1456</td></tr>\n",
       "<tr><td style=\"text-align: right;\">           9</td><td style=\"text-align: right;\">   1212</td></tr>\n",
       "</tbody>\n",
       "</table>"
      ]
     },
     "metadata": {},
     "output_type": "display_data"
    },
    {
     "data": {
      "text/plain": []
     },
     "execution_count": 263,
     "metadata": {},
     "output_type": "execute_result"
    }
   ],
   "source": [
    "# Remove \" year\" and \" years\" also translate n/a to \"\" \n",
    "df['emp_length'] = df['emp_length'].gsub(pattern = '([ ]*+[a-zA-Z].*)|(n/a)', replacement = '')\n",
    "\n",
    "# Convert < 1 to 0 years and do the same for 10 + to 10\n",
    "df['emp_length'] = df['emp_length'].gsub(pattern = '< 1', replacement = '0')\n",
    "df['emp_length'] = df['emp_length'].gsub(pattern = '10\\\\+', replacement = '10')\n",
    "\n",
    "\n",
    "# Use trim to remove any trailing spaces \n",
    "df['emp_length'] = df['emp_length'].trim()\n",
    "\n",
    "# # Convert emp_length to numeric \n",
    "df['emp_length'] = df['emp_length'].asnumeric()\n",
    "\n",
    "df['emp_length'].table()"
   ]
  },
  {
   "cell_type": "markdown",
   "metadata": {},
   "source": [
    "I also clean up the verification status column. There are multiple values that mean verified: `VERIFIED - income` and `VERIFIED - income source`.  We will replace these values with `verified`."
   ]
  },
  {
   "cell_type": "code",
   "execution_count": 264,
   "metadata": {},
   "outputs": [
    {
     "data": {
      "text/html": [
       "<table>\n",
       "<thead>\n",
       "<tr><th>verification_status     </th></tr>\n",
       "</thead>\n",
       "<tbody>\n",
       "<tr><td>VERIFIED - income       </td></tr>\n",
       "<tr><td>VERIFIED - income source</td></tr>\n",
       "<tr><td>not verified            </td></tr>\n",
       "<tr><td>VERIFIED - income source</td></tr>\n",
       "<tr><td>VERIFIED - income source</td></tr>\n",
       "<tr><td>VERIFIED - income source</td></tr>\n",
       "<tr><td>VERIFIED - income source</td></tr>\n",
       "<tr><td>VERIFIED - income       </td></tr>\n",
       "<tr><td>not verified            </td></tr>\n",
       "<tr><td>VERIFIED - income source</td></tr>\n",
       "</tbody>\n",
       "</table>"
      ]
     },
     "metadata": {},
     "output_type": "display_data"
    },
    {
     "data": {
      "text/plain": []
     },
     "execution_count": 264,
     "metadata": {},
     "output_type": "execute_result"
    }
   ],
   "source": [
    "df[\"verification_status\"].head()"
   ]
  },
  {
   "cell_type": "code",
   "execution_count": 265,
   "metadata": {},
   "outputs": [
    {
     "data": {
      "text/html": [
       "<table>\n",
       "<thead>\n",
       "<tr><th>verification_status  </th></tr>\n",
       "</thead>\n",
       "<tbody>\n",
       "<tr><td>verified             </td></tr>\n",
       "<tr><td>verified             </td></tr>\n",
       "<tr><td>not verified         </td></tr>\n",
       "<tr><td>verified             </td></tr>\n",
       "<tr><td>verified             </td></tr>\n",
       "<tr><td>verified             </td></tr>\n",
       "<tr><td>verified             </td></tr>\n",
       "<tr><td>verified             </td></tr>\n",
       "<tr><td>not verified         </td></tr>\n",
       "<tr><td>verified             </td></tr>\n",
       "</tbody>\n",
       "</table>"
      ]
     },
     "metadata": {},
     "output_type": "display_data"
    },
    {
     "data": {
      "text/plain": []
     },
     "execution_count": 265,
     "metadata": {},
     "output_type": "execute_result"
    }
   ],
   "source": [
    "df['verification_status'] = df['verification_status'].sub(pattern = 'VERIFIED - income source', replacement = 'verified')\n",
    "df['verification_status'] = df['verification_status'].sub(pattern = 'VERIFIED - income', replacement = 'verified')\n",
    "df['verification_status'] = df['verification_status'].asfactor()\n",
    "df['verification_status']"
   ]
  },
  {
   "cell_type": "markdown",
   "metadata": {},
   "source": [
    "## 4.  Feature engineering\n",
    "\n",
    "After cleaning data, I can add some new features to our data that may help improve the performance of our supervised learning models.\n",
    "\n",
    "The new features we will create are: \n",
    "* `credit_length`: the time from their earliest credit line to when they were issued the loan\n",
    "* `issue_d_year` and `issue_d_month`: extract year and month from the issue date\n",
    "* word embeddings from the loan description\n",
    "\n",
    "### 4.1. Credit Length\n",
    "\n",
    "I can extract the credit length by subtracting the year they had their earliest credit line from the year when they issued the loan."
   ]
  },
  {
   "cell_type": "code",
   "execution_count": 266,
   "metadata": {
    "scrolled": true
   },
   "outputs": [
    {
     "data": {
      "text/html": [
       "<table>\n",
       "<thead>\n",
       "<tr><th style=\"text-align: right;\">  credit_length</th></tr>\n",
       "</thead>\n",
       "<tbody>\n",
       "<tr><td style=\"text-align: right;\">             26</td></tr>\n",
       "<tr><td style=\"text-align: right;\">             12</td></tr>\n",
       "<tr><td style=\"text-align: right;\">             10</td></tr>\n",
       "<tr><td style=\"text-align: right;\">             15</td></tr>\n",
       "<tr><td style=\"text-align: right;\">              7</td></tr>\n",
       "<tr><td style=\"text-align: right;\">              4</td></tr>\n",
       "<tr><td style=\"text-align: right;\">              7</td></tr>\n",
       "<tr><td style=\"text-align: right;\">              7</td></tr>\n",
       "<tr><td style=\"text-align: right;\">             13</td></tr>\n",
       "<tr><td style=\"text-align: right;\">             22</td></tr>\n",
       "</tbody>\n",
       "</table>"
      ]
     },
     "metadata": {},
     "output_type": "display_data"
    },
    {
     "data": {
      "text/plain": []
     },
     "execution_count": 266,
     "metadata": {},
     "output_type": "execute_result"
    }
   ],
   "source": [
    "df['credit_length'] = df['issue_d'].year() - df['earliest_cr_line'].year()\n",
    "df['credit_length'].head()"
   ]
  },
  {
   "cell_type": "markdown",
   "metadata": {},
   "source": [
    "### 4.2. Issue Date Expansion\n",
    "\n",
    "I extract the year and month from the issue date, and find that the month or the year when the loan was issued can impact the probability of a bad loan. I will treat `year` as numeric, while `month` as categorical."
   ]
  },
  {
   "cell_type": "code",
   "execution_count": 267,
   "metadata": {},
   "outputs": [],
   "source": [
    "df['issue_d_year'] = df['issue_d'].year()\n",
    "df['issue_d_month'] = df['issue_d'].month().asfactor()"
   ]
  },
  {
   "cell_type": "code",
   "execution_count": 268,
   "metadata": {},
   "outputs": [
    {
     "data": {
      "text/html": [
       "<table>\n",
       "<thead>\n",
       "<tr><th style=\"text-align: right;\">  issue_d_year</th><th style=\"text-align: right;\">  issue_d_month</th></tr>\n",
       "</thead>\n",
       "<tbody>\n",
       "<tr><td style=\"text-align: right;\">          2011</td><td style=\"text-align: right;\">             12</td></tr>\n",
       "<tr><td style=\"text-align: right;\">          2011</td><td style=\"text-align: right;\">             12</td></tr>\n",
       "<tr><td style=\"text-align: right;\">          2011</td><td style=\"text-align: right;\">             12</td></tr>\n",
       "<tr><td style=\"text-align: right;\">          2011</td><td style=\"text-align: right;\">             12</td></tr>\n",
       "<tr><td style=\"text-align: right;\">          2011</td><td style=\"text-align: right;\">             12</td></tr>\n",
       "<tr><td style=\"text-align: right;\">          2011</td><td style=\"text-align: right;\">             12</td></tr>\n",
       "<tr><td style=\"text-align: right;\">          2011</td><td style=\"text-align: right;\">             12</td></tr>\n",
       "<tr><td style=\"text-align: right;\">          2011</td><td style=\"text-align: right;\">             12</td></tr>\n",
       "<tr><td style=\"text-align: right;\">          2011</td><td style=\"text-align: right;\">             12</td></tr>\n",
       "<tr><td style=\"text-align: right;\">          2011</td><td style=\"text-align: right;\">             12</td></tr>\n",
       "</tbody>\n",
       "</table>"
      ]
     },
     "metadata": {},
     "output_type": "display_data"
    },
    {
     "data": {
      "text/plain": []
     },
     "execution_count": 268,
     "metadata": {},
     "output_type": "execute_result"
    }
   ],
   "source": [
    "df[['issue_d_year', 'issue_d_month']].head()"
   ]
  },
  {
   "cell_type": "markdown",
   "metadata": {},
   "source": [
    "### 4.3. Word Embeddings\n",
    "\n",
    "One of the columns in our dataset is a description of why the loan was requested. The first few descriptions in the dataset are shown below."
   ]
  },
  {
   "cell_type": "code",
   "execution_count": 269,
   "metadata": {},
   "outputs": [
    {
     "data": {
      "text/html": [
       "<table>\n",
       "<thead>\n",
       "<tr><th>desc                                                                                                                                                                                                                                                                                                                                                                                                                                                                                                                                                                                                        </th></tr>\n",
       "</thead>\n",
       "<tbody>\n",
       "<tr><td>Borrower added on 12/22/11 > I need to upgrade my business technologies.<br>                                                                                                                                                                                                                                                                                                                                                                                                                                                                                                                                </td></tr>\n",
       "<tr><td>Borrower added on 12/22/11 > I plan to use this money to finance the motorcycle i am looking at. I plan to have it paid off as soon as possible/when i sell my old bike. I only need this money because the deal im looking at is to good to pass up.<br><br>  Borrower added on 12/22/11 > I plan to use this money to finance the motorcycle i am looking at. I plan to have it paid off as soon as possible/when i sell my old bike.I only need this money because the deal im looking at is to good to pass up. I have finished college with an associates degree in business and its takingmeplaces<br></td></tr>\n",
       "<tr><td>                                                                                                                                                                                                                                                                                                                                                                                                                                                                                                                                                                                                            </td></tr>\n",
       "<tr><td>Borrower added on 12/21/11 > to pay for property tax (borrow from friend, need to pay back) & central A/C need to be replace. I'm very sorry to let my loan expired last time.<br>                                                                                                                                                                                                                                                                                                                                                                                                                          </td></tr>\n",
       "<tr><td>Borrower added on 12/21/11 > I plan on combining three large interest bills together and freeing up some extra each month to pay toward other bills.  I've always been a good payor but have found myself needing to make adjustments to my budget due to a medical scare. My job is very stable, I love it.<br>                                                                                                                                                                                                                                                                                            </td></tr>\n",
       "<tr><td>                                                                                                                                                                                                                                                                                                                                                                                                                                                                                                                                                                                                            </td></tr>\n",
       "<tr><td>Borrower added on 12/18/11 > I am planning on using the funds to pay off two retail credit cards with 24.99% interest rates, as well as a major bank credit card with a 18.99% rate.  I pay all my bills on time, looking for a lower combined payment and lower monthly payment.<br>                                                                                                                                                                                                                                                                                                                       </td></tr>\n",
       "<tr><td>Borrower added on 12/16/11 > Downpayment for a car.<br>                                                                                                                                                                                                                                                                                                                                                                                                                                                                                                                                                     </td></tr>\n",
       "<tr><td>Borrower added on 12/21/11 > I own a small home-based judgment collection business. I have 5 years experience collecting debts. I am now going from a home office to a small office. I also plan to buy a small debt portfolio (eg. $10K for $1M of debt) <br>My score is not A+ because I own my home and have no mortgage.<br>                                                                                                                                                                                                                                                                            </td></tr>\n",
       "<tr><td>Borrower added on 12/16/11 > I'm trying to build up my credit history. I live with my brother and have no car payment or credit cards. I am in community college and work full time. Im going to use the money to make some repairs around the house and get some maintenance done on my car.<br><br>  Borrower added on 12/20/11 > $1000 down only $4375 to go. Thanks to everyone that invested so far, looking forward to surprising my brother with the fixes around the house.<br>                                                                                                                     </td></tr>\n",
       "</tbody>\n",
       "</table>"
      ]
     },
     "metadata": {},
     "output_type": "display_data"
    },
    {
     "data": {
      "text/plain": []
     },
     "execution_count": 269,
     "metadata": {},
     "output_type": "execute_result"
    }
   ],
   "source": [
    "loans[\"desc\"].head()"
   ]
  },
  {
   "cell_type": "markdown",
   "metadata": {},
   "source": [
    "This information may be important to the model but supervised learning algorithms have a hard time understanding text.  Instead we will convert these strings to a numeric vector using the Word2Vec algorithm."
   ]
  },
  {
   "cell_type": "code",
   "execution_count": 270,
   "metadata": {},
   "outputs": [],
   "source": [
    "STOP_WORDS = [\"ax\",\"i\",\"you\",\"edu\",\"s\",\"t\",\"m\",\"subject\",\"can\",\"lines\",\"re\",\"what\",\n",
    "              \"there\",\"all\",\"we\",\"one\",\"the\",\"a\",\"an\",\"of\",\"or\",\"in\",\"for\",\"by\",\"on\",\n",
    "              \"but\",\"is\",\"in\",\"a\",\"not\",\"with\",\"as\",\"was\",\"if\",\"they\",\"are\",\"this\",\"and\",\"it\",\"have\",\n",
    "              \"from\",\"at\",\"my\",\"be\",\"by\",\"not\",\"that\",\"to\",\"from\",\"com\",\"org\",\"like\",\"likes\",\"so\"]"
   ]
  },
  {
   "cell_type": "code",
   "execution_count": 271,
   "metadata": {},
   "outputs": [],
   "source": [
    "def tokenize(sentences, stop_word = STOP_WORDS):\n",
    "    tokenized = sentences.tokenize(\"\\\\W+\")\n",
    "    tokenized_lower = tokenized.tolower()\n",
    "    tokenized_filtered = tokenized_lower[(tokenized_lower.nchar() >= 2) | (tokenized_lower.isna()),:]\n",
    "    tokenized_words = tokenized_filtered[tokenized_filtered.grep(\"[0-9]\",invert=True,output_logical=True),:]\n",
    "    tokenized_words = tokenized_words[(tokenized_words.isna()) | (~ tokenized_words.isin(STOP_WORDS)),:]\n",
    "    return tokenized_words"
   ]
  },
  {
   "cell_type": "code",
   "execution_count": 272,
   "metadata": {},
   "outputs": [],
   "source": [
    "# Break loan description into sequence of words\n",
    "words = tokenize(df['desc'].ascharacter())"
   ]
  },
  {
   "cell_type": "code",
   "execution_count": 273,
   "metadata": {},
   "outputs": [
    {
     "name": "stdout",
     "output_type": "stream",
     "text": [
      "word2vec Model Build progress: |██████████████████████████████████████████| 100%\n"
     ]
    }
   ],
   "source": [
    "# Train Word2Vec Model\n",
    "from h2o.estimators.word2vec import H2OWord2vecEstimator\n",
    "\n",
    "w2v_model = H2OWord2vecEstimator(vec_size=100, model_id=\"w2v\")\n",
    "w2v_model.train(training_frame=words)"
   ]
  },
  {
   "cell_type": "code",
   "execution_count": 274,
   "metadata": {},
   "outputs": [
    {
     "data": {
      "text/plain": [
       "OrderedDict([('auto', 0.7672295570373535),\n",
       "             ('vehicle', 0.7595592141151428),\n",
       "             ('camry', 0.7574484944343567),\n",
       "             ('prius', 0.7044962644577026),\n",
       "             ('acura', 0.6783682107925415)])"
      ]
     },
     "execution_count": 274,
     "metadata": {},
     "output_type": "execute_result"
    }
   ],
   "source": [
    "# Sanity check - find synonyms for the word 'car'\n",
    "w2v_model.find_synonyms('car', count = 5)"
   ]
  },
  {
   "cell_type": "code",
   "execution_count": 275,
   "metadata": {},
   "outputs": [],
   "source": [
    "# Calculate a vector for each description\n",
    "desc_vecs = w2v_model.transform(words, aggregate_method = 'AVERAGE')"
   ]
  },
  {
   "cell_type": "code",
   "execution_count": 276,
   "metadata": {
    "scrolled": true
   },
   "outputs": [
    {
     "data": {
      "text/html": [
       "<table>\n",
       "<thead>\n",
       "<tr><th style=\"text-align: right;\">         C1</th><th style=\"text-align: right;\">          C2</th><th style=\"text-align: right;\">         C3</th><th style=\"text-align: right;\">          C4</th><th style=\"text-align: right;\">           C5</th><th style=\"text-align: right;\">        C6</th><th style=\"text-align: right;\">         C7</th><th style=\"text-align: right;\">        C8</th><th style=\"text-align: right;\">        C9</th><th style=\"text-align: right;\">         C10</th><th style=\"text-align: right;\">          C11</th><th style=\"text-align: right;\">        C12</th><th style=\"text-align: right;\">        C13</th><th style=\"text-align: right;\">        C14</th><th style=\"text-align: right;\">        C15</th><th style=\"text-align: right;\">        C16</th><th style=\"text-align: right;\">        C17</th><th style=\"text-align: right;\">        C18</th><th style=\"text-align: right;\">        C19</th><th style=\"text-align: right;\">         C20</th><th style=\"text-align: right;\">         C21</th><th style=\"text-align: right;\">        C22</th><th style=\"text-align: right;\">       C23</th><th style=\"text-align: right;\">        C24</th><th style=\"text-align: right;\">        C25</th><th style=\"text-align: right;\">        C26</th><th style=\"text-align: right;\">         C27</th><th style=\"text-align: right;\">        C28</th><th style=\"text-align: right;\">        C29</th><th style=\"text-align: right;\">       C30</th><th style=\"text-align: right;\">        C31</th><th style=\"text-align: right;\">         C32</th><th style=\"text-align: right;\">         C33</th><th style=\"text-align: right;\">        C34</th><th style=\"text-align: right;\">        C35</th><th style=\"text-align: right;\">        C36</th><th style=\"text-align: right;\">        C37</th><th style=\"text-align: right;\">        C38</th><th style=\"text-align: right;\">        C39</th><th style=\"text-align: right;\">        C40</th><th style=\"text-align: right;\">        C41</th><th style=\"text-align: right;\">        C42</th><th style=\"text-align: right;\">         C43</th><th style=\"text-align: right;\">         C44</th><th style=\"text-align: right;\">        C45</th><th style=\"text-align: right;\">        C46</th><th style=\"text-align: right;\">        C47</th><th style=\"text-align: right;\">         C48</th><th style=\"text-align: right;\">        C49</th><th style=\"text-align: right;\">         C50</th><th style=\"text-align: right;\">       C51</th><th style=\"text-align: right;\">         C52</th><th style=\"text-align: right;\">        C53</th><th style=\"text-align: right;\">         C54</th><th style=\"text-align: right;\">        C55</th><th style=\"text-align: right;\">         C56</th><th style=\"text-align: right;\">         C57</th><th style=\"text-align: right;\">        C58</th><th style=\"text-align: right;\">        C59</th><th style=\"text-align: right;\">        C60</th><th style=\"text-align: right;\">       C61</th><th style=\"text-align: right;\">        C62</th><th style=\"text-align: right;\">         C63</th><th style=\"text-align: right;\">        C64</th><th style=\"text-align: right;\">        C65</th><th style=\"text-align: right;\">        C66</th><th style=\"text-align: right;\">        C67</th><th style=\"text-align: right;\">         C68</th><th style=\"text-align: right;\">        C69</th><th style=\"text-align: right;\">          C70</th><th style=\"text-align: right;\">        C71</th><th style=\"text-align: right;\">        C72</th><th style=\"text-align: right;\">         C73</th><th style=\"text-align: right;\">        C74</th><th style=\"text-align: right;\">        C75</th><th style=\"text-align: right;\">        C76</th><th style=\"text-align: right;\">        C77</th><th style=\"text-align: right;\">        C78</th><th style=\"text-align: right;\">         C79</th><th style=\"text-align: right;\">        C80</th><th style=\"text-align: right;\">        C81</th><th style=\"text-align: right;\">        C82</th><th style=\"text-align: right;\">        C83</th><th style=\"text-align: right;\">         C84</th><th style=\"text-align: right;\">         C85</th><th style=\"text-align: right;\">        C86</th><th style=\"text-align: right;\">        C87</th><th style=\"text-align: right;\">         C88</th><th style=\"text-align: right;\">         C89</th><th style=\"text-align: right;\">         C90</th><th style=\"text-align: right;\">        C91</th><th style=\"text-align: right;\">         C92</th><th style=\"text-align: right;\">         C93</th><th style=\"text-align: right;\">         C94</th><th style=\"text-align: right;\">       C95</th><th style=\"text-align: right;\">        C96</th><th style=\"text-align: right;\">         C97</th><th style=\"text-align: right;\">        C98</th><th style=\"text-align: right;\">        C99</th><th style=\"text-align: right;\">        C100</th></tr>\n",
       "</thead>\n",
       "<tbody>\n",
       "<tr><td style=\"text-align: right;\"> -0.0776993</td><td style=\"text-align: right;\"> -0.139029  </td><td style=\"text-align: right;\">  0.118961 </td><td style=\"text-align: right;\"> -0.0383549 </td><td style=\"text-align: right;\">  0.15223    </td><td style=\"text-align: right;\">  0.164481</td><td style=\"text-align: right;\"> -0.0602325</td><td style=\"text-align: right;\">  0.174013</td><td style=\"text-align: right;\"> -0.256112</td><td style=\"text-align: right;\"> -0.0851185 </td><td style=\"text-align: right;\"> -0.0843648  </td><td style=\"text-align: right;\">  0.153515 </td><td style=\"text-align: right;\"> -0.203846 </td><td style=\"text-align: right;\"> -0.0880585</td><td style=\"text-align: right;\"> -0.132882 </td><td style=\"text-align: right;\">  0.0962877</td><td style=\"text-align: right;\">  0.218473 </td><td style=\"text-align: right;\">  0.107696 </td><td style=\"text-align: right;\"> -0.026704 </td><td style=\"text-align: right;\">  0.0396209 </td><td style=\"text-align: right;\">  0.108452  </td><td style=\"text-align: right;\">  0.0462704</td><td style=\"text-align: right;\"> -0.159488</td><td style=\"text-align: right;\">  0.0722751</td><td style=\"text-align: right;\"> -0.220153 </td><td style=\"text-align: right;\"> -0.0926195</td><td style=\"text-align: right;\"> -0.0867673 </td><td style=\"text-align: right;\">  0.112381 </td><td style=\"text-align: right;\">  0.0750305</td><td style=\"text-align: right;\"> -0.364603</td><td style=\"text-align: right;\"> -0.305942 </td><td style=\"text-align: right;\">  0.018374  </td><td style=\"text-align: right;\">  0.0314561 </td><td style=\"text-align: right;\">  0.0209167</td><td style=\"text-align: right;\">  0.0428785</td><td style=\"text-align: right;\"> -0.0977699</td><td style=\"text-align: right;\">  0.0675875</td><td style=\"text-align: right;\"> -0.0465388</td><td style=\"text-align: right;\"> -0.0770288</td><td style=\"text-align: right;\">  0.0161066</td><td style=\"text-align: right;\">  0.109509 </td><td style=\"text-align: right;\"> -0.0817511</td><td style=\"text-align: right;\">  0.0373905 </td><td style=\"text-align: right;\"> -0.00305598</td><td style=\"text-align: right;\"> -0.0274596</td><td style=\"text-align: right;\">  0.0612951</td><td style=\"text-align: right;\"> -0.240027 </td><td style=\"text-align: right;\"> -0.00231828</td><td style=\"text-align: right;\">  0.0443818</td><td style=\"text-align: right;\"> -0.174974  </td><td style=\"text-align: right;\">  0.225324</td><td style=\"text-align: right;\"> -0.00606963</td><td style=\"text-align: right;\">  0.0201159</td><td style=\"text-align: right;\">  0.0463736 </td><td style=\"text-align: right;\"> -0.0488498</td><td style=\"text-align: right;\">  0.0384262 </td><td style=\"text-align: right;\"> -0.0294587 </td><td style=\"text-align: right;\"> -0.276177 </td><td style=\"text-align: right;\"> -0.184975 </td><td style=\"text-align: right;\">  0.0716571</td><td style=\"text-align: right;\"> -0.17055 </td><td style=\"text-align: right;\">  0.122089 </td><td style=\"text-align: right;\"> -0.188507  </td><td style=\"text-align: right;\"> -0.116475 </td><td style=\"text-align: right;\"> -0.0111559</td><td style=\"text-align: right;\"> -0.0555811</td><td style=\"text-align: right;\">  0.104761 </td><td style=\"text-align: right;\">  0.127593  </td><td style=\"text-align: right;\">  0.100088 </td><td style=\"text-align: right;\"> -0.0688614  </td><td style=\"text-align: right;\">  0.0577088</td><td style=\"text-align: right;\">  0.0108682</td><td style=\"text-align: right;\">  0.117227  </td><td style=\"text-align: right;\">  0.0378469</td><td style=\"text-align: right;\"> -0.0157436</td><td style=\"text-align: right;\">  0.159353 </td><td style=\"text-align: right;\"> -0.1417   </td><td style=\"text-align: right;\"> -0.158667 </td><td style=\"text-align: right;\"> -0.0974994 </td><td style=\"text-align: right;\"> -0.0435252</td><td style=\"text-align: right;\">  0.0251483</td><td style=\"text-align: right;\">  0.0237428</td><td style=\"text-align: right;\"> -0.026001 </td><td style=\"text-align: right;\">  0.0422047 </td><td style=\"text-align: right;\">  0.08016   </td><td style=\"text-align: right;\"> -0.136419 </td><td style=\"text-align: right;\"> -0.010913 </td><td style=\"text-align: right;\">  0.0880791 </td><td style=\"text-align: right;\"> -0.0542445 </td><td style=\"text-align: right;\"> -0.136867  </td><td style=\"text-align: right;\"> -0.10818  </td><td style=\"text-align: right;\">  0.0871018 </td><td style=\"text-align: right;\"> -0.125098  </td><td style=\"text-align: right;\">  0.00415255</td><td style=\"text-align: right;\">  0.210126</td><td style=\"text-align: right;\"> -0.0322812</td><td style=\"text-align: right;\"> -0.0190765 </td><td style=\"text-align: right;\">  0.240256 </td><td style=\"text-align: right;\">  0.104527 </td><td style=\"text-align: right;\">  0.0848087 </td></tr>\n",
       "<tr><td style=\"text-align: right;\"> -0.159077 </td><td style=\"text-align: right;\"> -0.110835  </td><td style=\"text-align: right;\">  0.05741  </td><td style=\"text-align: right;\"> -0.0678771 </td><td style=\"text-align: right;\"> -0.000600793</td><td style=\"text-align: right;\">  0.22642 </td><td style=\"text-align: right;\">  0.0415689</td><td style=\"text-align: right;\">  0.291838</td><td style=\"text-align: right;\"> -0.173753</td><td style=\"text-align: right;\">  0.0453615 </td><td style=\"text-align: right;\"> -0.0488291  </td><td style=\"text-align: right;\">  0.126732 </td><td style=\"text-align: right;\"> -0.0567782</td><td style=\"text-align: right;\"> -0.0637515</td><td style=\"text-align: right;\"> -0.0103402</td><td style=\"text-align: right;\">  0.113733 </td><td style=\"text-align: right;\">  0.17796  </td><td style=\"text-align: right;\"> -0.191185 </td><td style=\"text-align: right;\"> -0.0482294</td><td style=\"text-align: right;\">  0.168826  </td><td style=\"text-align: right;\">  0.110948  </td><td style=\"text-align: right;\">  0.063675 </td><td style=\"text-align: right;\"> -0.183146</td><td style=\"text-align: right;\">  0.0614727</td><td style=\"text-align: right;\"> -0.133625 </td><td style=\"text-align: right;\"> -0.066238 </td><td style=\"text-align: right;\"> -0.0326877 </td><td style=\"text-align: right;\">  0.118277 </td><td style=\"text-align: right;\"> -0.0216852</td><td style=\"text-align: right;\"> -0.292702</td><td style=\"text-align: right;\"> -0.19435  </td><td style=\"text-align: right;\"> -0.0985782 </td><td style=\"text-align: right;\"> -0.0841358 </td><td style=\"text-align: right;\">  0.0786964</td><td style=\"text-align: right;\"> -0.0800762</td><td style=\"text-align: right;\"> -0.162374 </td><td style=\"text-align: right;\">  0.0868905</td><td style=\"text-align: right;\"> -0.0747126</td><td style=\"text-align: right;\"> -0.0357995</td><td style=\"text-align: right;\">  0.0766279</td><td style=\"text-align: right;\">  0.0522231</td><td style=\"text-align: right;\"> -0.0829177</td><td style=\"text-align: right;\">  0.0178229 </td><td style=\"text-align: right;\"> -0.0499931 </td><td style=\"text-align: right;\"> -0.0905615</td><td style=\"text-align: right;\"> -0.0445783</td><td style=\"text-align: right;\"> -0.16129  </td><td style=\"text-align: right;\"> -0.0951008 </td><td style=\"text-align: right;\">  0.205344 </td><td style=\"text-align: right;\"> -0.00377113</td><td style=\"text-align: right;\">  0.140515</td><td style=\"text-align: right;\"> -0.0131464 </td><td style=\"text-align: right;\">  0.0252334</td><td style=\"text-align: right;\"> -0.0356184 </td><td style=\"text-align: right;\">  0.113841 </td><td style=\"text-align: right;\"> -0.00737701</td><td style=\"text-align: right;\">  0.0249862 </td><td style=\"text-align: right;\"> -0.0999584</td><td style=\"text-align: right;\"> -0.130393 </td><td style=\"text-align: right;\"> -0.0222024</td><td style=\"text-align: right;\"> -0.222085</td><td style=\"text-align: right;\">  0.147722 </td><td style=\"text-align: right;\"> -0.00273405</td><td style=\"text-align: right;\"> -0.0594776</td><td style=\"text-align: right;\"> -0.0639463</td><td style=\"text-align: right;\"> -0.0578745</td><td style=\"text-align: right;\">  0.0205901</td><td style=\"text-align: right;\">  0.0207452 </td><td style=\"text-align: right;\">  0.0195417</td><td style=\"text-align: right;\">  0.0356413  </td><td style=\"text-align: right;\">  0.0772375</td><td style=\"text-align: right;\"> -0.090065 </td><td style=\"text-align: right;\"> -0.039169  </td><td style=\"text-align: right;\">  0.036861 </td><td style=\"text-align: right;\"> -0.0153336</td><td style=\"text-align: right;\">  0.0669377</td><td style=\"text-align: right;\"> -0.0932103</td><td style=\"text-align: right;\"> -0.114715 </td><td style=\"text-align: right;\"> -0.0648066 </td><td style=\"text-align: right;\"> -0.0777988</td><td style=\"text-align: right;\"> -0.0255353</td><td style=\"text-align: right;\"> -0.0657572</td><td style=\"text-align: right;\"> -0.0539299</td><td style=\"text-align: right;\">  0.037725  </td><td style=\"text-align: right;\"> -0.00285868</td><td style=\"text-align: right;\"> -0.153127 </td><td style=\"text-align: right;\">  0.143695 </td><td style=\"text-align: right;\">  0.149026  </td><td style=\"text-align: right;\"> -0.0711126 </td><td style=\"text-align: right;\"> -0.0505124 </td><td style=\"text-align: right;\"> -0.189589 </td><td style=\"text-align: right;\"> -0.0263304 </td><td style=\"text-align: right;\"> -0.11612   </td><td style=\"text-align: right;\">  0.00793401</td><td style=\"text-align: right;\">  0.156429</td><td style=\"text-align: right;\"> -0.034836 </td><td style=\"text-align: right;\"> -0.0782278 </td><td style=\"text-align: right;\">  0.0796792</td><td style=\"text-align: right;\">  0.0267303</td><td style=\"text-align: right;\"> -0.0494615 </td></tr>\n",
       "<tr><td style=\"text-align: right;\">nan        </td><td style=\"text-align: right;\">nan         </td><td style=\"text-align: right;\">nan        </td><td style=\"text-align: right;\">nan         </td><td style=\"text-align: right;\">nan          </td><td style=\"text-align: right;\">nan       </td><td style=\"text-align: right;\">nan        </td><td style=\"text-align: right;\">nan       </td><td style=\"text-align: right;\">nan       </td><td style=\"text-align: right;\">nan         </td><td style=\"text-align: right;\">nan          </td><td style=\"text-align: right;\">nan        </td><td style=\"text-align: right;\">nan        </td><td style=\"text-align: right;\">nan        </td><td style=\"text-align: right;\">nan        </td><td style=\"text-align: right;\">nan        </td><td style=\"text-align: right;\">nan        </td><td style=\"text-align: right;\">nan        </td><td style=\"text-align: right;\">nan        </td><td style=\"text-align: right;\">nan         </td><td style=\"text-align: right;\">nan         </td><td style=\"text-align: right;\">nan        </td><td style=\"text-align: right;\">nan       </td><td style=\"text-align: right;\">nan        </td><td style=\"text-align: right;\">nan        </td><td style=\"text-align: right;\">nan        </td><td style=\"text-align: right;\">nan         </td><td style=\"text-align: right;\">nan        </td><td style=\"text-align: right;\">nan        </td><td style=\"text-align: right;\">nan       </td><td style=\"text-align: right;\">nan        </td><td style=\"text-align: right;\">nan         </td><td style=\"text-align: right;\">nan         </td><td style=\"text-align: right;\">nan        </td><td style=\"text-align: right;\">nan        </td><td style=\"text-align: right;\">nan        </td><td style=\"text-align: right;\">nan        </td><td style=\"text-align: right;\">nan        </td><td style=\"text-align: right;\">nan        </td><td style=\"text-align: right;\">nan        </td><td style=\"text-align: right;\">nan        </td><td style=\"text-align: right;\">nan        </td><td style=\"text-align: right;\">nan         </td><td style=\"text-align: right;\">nan         </td><td style=\"text-align: right;\">nan        </td><td style=\"text-align: right;\">nan        </td><td style=\"text-align: right;\">nan        </td><td style=\"text-align: right;\">nan         </td><td style=\"text-align: right;\">nan        </td><td style=\"text-align: right;\">nan         </td><td style=\"text-align: right;\">nan       </td><td style=\"text-align: right;\">nan         </td><td style=\"text-align: right;\">nan        </td><td style=\"text-align: right;\">nan         </td><td style=\"text-align: right;\">nan        </td><td style=\"text-align: right;\">nan         </td><td style=\"text-align: right;\">nan         </td><td style=\"text-align: right;\">nan        </td><td style=\"text-align: right;\">nan        </td><td style=\"text-align: right;\">nan        </td><td style=\"text-align: right;\">nan       </td><td style=\"text-align: right;\">nan        </td><td style=\"text-align: right;\">nan         </td><td style=\"text-align: right;\">nan        </td><td style=\"text-align: right;\">nan        </td><td style=\"text-align: right;\">nan        </td><td style=\"text-align: right;\">nan        </td><td style=\"text-align: right;\">nan         </td><td style=\"text-align: right;\">nan        </td><td style=\"text-align: right;\">nan          </td><td style=\"text-align: right;\">nan        </td><td style=\"text-align: right;\">nan        </td><td style=\"text-align: right;\">nan         </td><td style=\"text-align: right;\">nan        </td><td style=\"text-align: right;\">nan        </td><td style=\"text-align: right;\">nan        </td><td style=\"text-align: right;\">nan        </td><td style=\"text-align: right;\">nan        </td><td style=\"text-align: right;\">nan         </td><td style=\"text-align: right;\">nan        </td><td style=\"text-align: right;\">nan        </td><td style=\"text-align: right;\">nan        </td><td style=\"text-align: right;\">nan        </td><td style=\"text-align: right;\">nan         </td><td style=\"text-align: right;\">nan         </td><td style=\"text-align: right;\">nan        </td><td style=\"text-align: right;\">nan        </td><td style=\"text-align: right;\">nan         </td><td style=\"text-align: right;\">nan         </td><td style=\"text-align: right;\">nan         </td><td style=\"text-align: right;\">nan        </td><td style=\"text-align: right;\">nan         </td><td style=\"text-align: right;\">nan         </td><td style=\"text-align: right;\">nan         </td><td style=\"text-align: right;\">nan       </td><td style=\"text-align: right;\">nan        </td><td style=\"text-align: right;\">nan         </td><td style=\"text-align: right;\">nan        </td><td style=\"text-align: right;\">nan        </td><td style=\"text-align: right;\">nan         </td></tr>\n",
       "<tr><td style=\"text-align: right;\"> -0.147202 </td><td style=\"text-align: right;\"> -0.0775678 </td><td style=\"text-align: right;\">  0.0309489</td><td style=\"text-align: right;\">  0.0162149 </td><td style=\"text-align: right;\"> -0.0621894  </td><td style=\"text-align: right;\">  0.249468</td><td style=\"text-align: right;\">  0.0342216</td><td style=\"text-align: right;\">  0.256231</td><td style=\"text-align: right;\"> -0.166183</td><td style=\"text-align: right;\">  0.0722434 </td><td style=\"text-align: right;\"> -0.0795619  </td><td style=\"text-align: right;\">  0.013062 </td><td style=\"text-align: right;\"> -0.0181671</td><td style=\"text-align: right;\"> -0.0471078</td><td style=\"text-align: right;\"> -0.0645905</td><td style=\"text-align: right;\">  0.0130309</td><td style=\"text-align: right;\">  0.0901722</td><td style=\"text-align: right;\"> -0.181949 </td><td style=\"text-align: right;\"> -0.0877777</td><td style=\"text-align: right;\">  0.0472166 </td><td style=\"text-align: right;\">  0.112732  </td><td style=\"text-align: right;\">  0.0852372</td><td style=\"text-align: right;\"> -0.188873</td><td style=\"text-align: right;\">  0.0292249</td><td style=\"text-align: right;\"> -0.187743 </td><td style=\"text-align: right;\"> -0.117198 </td><td style=\"text-align: right;\">  0.00298991</td><td style=\"text-align: right;\">  0.12574  </td><td style=\"text-align: right;\"> -0.0235894</td><td style=\"text-align: right;\"> -0.288799</td><td style=\"text-align: right;\"> -0.162562 </td><td style=\"text-align: right;\"> -0.00317456</td><td style=\"text-align: right;\"> -0.0607117 </td><td style=\"text-align: right;\">  0.0939057</td><td style=\"text-align: right;\"> -0.0973316</td><td style=\"text-align: right;\"> -0.0656414</td><td style=\"text-align: right;\">  0.0586031</td><td style=\"text-align: right;\"> -0.158069 </td><td style=\"text-align: right;\"> -0.0276538</td><td style=\"text-align: right;\">  0.0726007</td><td style=\"text-align: right;\">  0.0200516</td><td style=\"text-align: right;\"> -0.0814889</td><td style=\"text-align: right;\">  0.0233115 </td><td style=\"text-align: right;\"> -0.00945385</td><td style=\"text-align: right;\"> -0.0831677</td><td style=\"text-align: right;\">  0.0357451</td><td style=\"text-align: right;\"> -0.109995 </td><td style=\"text-align: right;\"> -0.0861448 </td><td style=\"text-align: right;\">  0.170634 </td><td style=\"text-align: right;\"> -0.0445463 </td><td style=\"text-align: right;\">  0.21818 </td><td style=\"text-align: right;\"> -0.0608222 </td><td style=\"text-align: right;\"> -0.0065488</td><td style=\"text-align: right;\"> -0.00892453</td><td style=\"text-align: right;\">  0.167784 </td><td style=\"text-align: right;\">  0.0371501 </td><td style=\"text-align: right;\"> -0.00789941</td><td style=\"text-align: right;\"> -0.201636 </td><td style=\"text-align: right;\"> -0.110565 </td><td style=\"text-align: right;\">  0.0236789</td><td style=\"text-align: right;\"> -0.204743</td><td style=\"text-align: right;\">  0.154457 </td><td style=\"text-align: right;\"> -0.0170374 </td><td style=\"text-align: right;\"> -0.111626 </td><td style=\"text-align: right;\"> -0.0298884</td><td style=\"text-align: right;\"> -0.0702723</td><td style=\"text-align: right;\">  0.171143 </td><td style=\"text-align: right;\">  0.00647368</td><td style=\"text-align: right;\">  0.057974 </td><td style=\"text-align: right;\"> -0.0109773  </td><td style=\"text-align: right;\">  0.197844 </td><td style=\"text-align: right;\"> -0.0730395</td><td style=\"text-align: right;\">  0.0840138 </td><td style=\"text-align: right;\"> -0.0322204</td><td style=\"text-align: right;\"> -0.011649 </td><td style=\"text-align: right;\">  0.0765146</td><td style=\"text-align: right;\"> -0.0488931</td><td style=\"text-align: right;\"> -0.202335 </td><td style=\"text-align: right;\"> -0.119367  </td><td style=\"text-align: right;\"> -0.0587861</td><td style=\"text-align: right;\">  0.0194811</td><td style=\"text-align: right;\"> -0.0979673</td><td style=\"text-align: right;\">  0.0252138</td><td style=\"text-align: right;\">  0.0490004 </td><td style=\"text-align: right;\"> -0.0266297 </td><td style=\"text-align: right;\"> -0.0687084</td><td style=\"text-align: right;\">  0.0464444</td><td style=\"text-align: right;\">  0.113027  </td><td style=\"text-align: right;\"> -0.158289  </td><td style=\"text-align: right;\"> -0.00123888</td><td style=\"text-align: right;\"> -0.146289 </td><td style=\"text-align: right;\"> -0.0293312 </td><td style=\"text-align: right;\">  0.00859693</td><td style=\"text-align: right;\">  0.0300616 </td><td style=\"text-align: right;\">  0.206539</td><td style=\"text-align: right;\"> -0.0459738</td><td style=\"text-align: right;\">  0.0579879 </td><td style=\"text-align: right;\">  0.125382 </td><td style=\"text-align: right;\">  0.151334 </td><td style=\"text-align: right;\"> -0.0480735 </td></tr>\n",
       "<tr><td style=\"text-align: right;\">nan        </td><td style=\"text-align: right;\">nan         </td><td style=\"text-align: right;\">nan        </td><td style=\"text-align: right;\">nan         </td><td style=\"text-align: right;\">nan          </td><td style=\"text-align: right;\">nan       </td><td style=\"text-align: right;\">nan        </td><td style=\"text-align: right;\">nan       </td><td style=\"text-align: right;\">nan       </td><td style=\"text-align: right;\">nan         </td><td style=\"text-align: right;\">nan          </td><td style=\"text-align: right;\">nan        </td><td style=\"text-align: right;\">nan        </td><td style=\"text-align: right;\">nan        </td><td style=\"text-align: right;\">nan        </td><td style=\"text-align: right;\">nan        </td><td style=\"text-align: right;\">nan        </td><td style=\"text-align: right;\">nan        </td><td style=\"text-align: right;\">nan        </td><td style=\"text-align: right;\">nan         </td><td style=\"text-align: right;\">nan         </td><td style=\"text-align: right;\">nan        </td><td style=\"text-align: right;\">nan       </td><td style=\"text-align: right;\">nan        </td><td style=\"text-align: right;\">nan        </td><td style=\"text-align: right;\">nan        </td><td style=\"text-align: right;\">nan         </td><td style=\"text-align: right;\">nan        </td><td style=\"text-align: right;\">nan        </td><td style=\"text-align: right;\">nan       </td><td style=\"text-align: right;\">nan        </td><td style=\"text-align: right;\">nan         </td><td style=\"text-align: right;\">nan         </td><td style=\"text-align: right;\">nan        </td><td style=\"text-align: right;\">nan        </td><td style=\"text-align: right;\">nan        </td><td style=\"text-align: right;\">nan        </td><td style=\"text-align: right;\">nan        </td><td style=\"text-align: right;\">nan        </td><td style=\"text-align: right;\">nan        </td><td style=\"text-align: right;\">nan        </td><td style=\"text-align: right;\">nan        </td><td style=\"text-align: right;\">nan         </td><td style=\"text-align: right;\">nan         </td><td style=\"text-align: right;\">nan        </td><td style=\"text-align: right;\">nan        </td><td style=\"text-align: right;\">nan        </td><td style=\"text-align: right;\">nan         </td><td style=\"text-align: right;\">nan        </td><td style=\"text-align: right;\">nan         </td><td style=\"text-align: right;\">nan       </td><td style=\"text-align: right;\">nan         </td><td style=\"text-align: right;\">nan        </td><td style=\"text-align: right;\">nan         </td><td style=\"text-align: right;\">nan        </td><td style=\"text-align: right;\">nan         </td><td style=\"text-align: right;\">nan         </td><td style=\"text-align: right;\">nan        </td><td style=\"text-align: right;\">nan        </td><td style=\"text-align: right;\">nan        </td><td style=\"text-align: right;\">nan       </td><td style=\"text-align: right;\">nan        </td><td style=\"text-align: right;\">nan         </td><td style=\"text-align: right;\">nan        </td><td style=\"text-align: right;\">nan        </td><td style=\"text-align: right;\">nan        </td><td style=\"text-align: right;\">nan        </td><td style=\"text-align: right;\">nan         </td><td style=\"text-align: right;\">nan        </td><td style=\"text-align: right;\">nan          </td><td style=\"text-align: right;\">nan        </td><td style=\"text-align: right;\">nan        </td><td style=\"text-align: right;\">nan         </td><td style=\"text-align: right;\">nan        </td><td style=\"text-align: right;\">nan        </td><td style=\"text-align: right;\">nan        </td><td style=\"text-align: right;\">nan        </td><td style=\"text-align: right;\">nan        </td><td style=\"text-align: right;\">nan         </td><td style=\"text-align: right;\">nan        </td><td style=\"text-align: right;\">nan        </td><td style=\"text-align: right;\">nan        </td><td style=\"text-align: right;\">nan        </td><td style=\"text-align: right;\">nan         </td><td style=\"text-align: right;\">nan         </td><td style=\"text-align: right;\">nan        </td><td style=\"text-align: right;\">nan        </td><td style=\"text-align: right;\">nan         </td><td style=\"text-align: right;\">nan         </td><td style=\"text-align: right;\">nan         </td><td style=\"text-align: right;\">nan        </td><td style=\"text-align: right;\">nan         </td><td style=\"text-align: right;\">nan         </td><td style=\"text-align: right;\">nan         </td><td style=\"text-align: right;\">nan       </td><td style=\"text-align: right;\">nan        </td><td style=\"text-align: right;\">nan         </td><td style=\"text-align: right;\">nan        </td><td style=\"text-align: right;\">nan        </td><td style=\"text-align: right;\">nan         </td></tr>\n",
       "<tr><td style=\"text-align: right;\"> -0.115216 </td><td style=\"text-align: right;\">  0.00997968</td><td style=\"text-align: right;\">  0.196209 </td><td style=\"text-align: right;\">  0.0119898 </td><td style=\"text-align: right;\">  0.0593353  </td><td style=\"text-align: right;\">  0.173014</td><td style=\"text-align: right;\">  0.0234686</td><td style=\"text-align: right;\">  0.31992 </td><td style=\"text-align: right;\"> -0.181376</td><td style=\"text-align: right;\"> -0.00594021</td><td style=\"text-align: right;\"> -0.151192   </td><td style=\"text-align: right;\">  0.199769 </td><td style=\"text-align: right;\"> -0.243376 </td><td style=\"text-align: right;\"> -0.0296524</td><td style=\"text-align: right;\"> -0.162027 </td><td style=\"text-align: right;\">  0.0474872</td><td style=\"text-align: right;\">  0.186298 </td><td style=\"text-align: right;\"> -0.0435437</td><td style=\"text-align: right;\"> -0.1325   </td><td style=\"text-align: right;\">  0.216779  </td><td style=\"text-align: right;\"> -0.00954921</td><td style=\"text-align: right;\">  0.0637835</td><td style=\"text-align: right;\"> -0.221196</td><td style=\"text-align: right;\">  0.171388 </td><td style=\"text-align: right;\"> -0.143103 </td><td style=\"text-align: right;\"> -0.116807 </td><td style=\"text-align: right;\">  0.00273402</td><td style=\"text-align: right;\">  0.138662 </td><td style=\"text-align: right;\"> -0.0122444</td><td style=\"text-align: right;\"> -0.290271</td><td style=\"text-align: right;\"> -0.217361 </td><td style=\"text-align: right;\"> -0.125163  </td><td style=\"text-align: right;\">  0.0544994 </td><td style=\"text-align: right;\">  0.0968711</td><td style=\"text-align: right;\"> -0.207311 </td><td style=\"text-align: right;\"> -0.0275067</td><td style=\"text-align: right;\">  0.145988 </td><td style=\"text-align: right;\"> -0.11627  </td><td style=\"text-align: right;\"> -0.119851 </td><td style=\"text-align: right;\">  0.1253   </td><td style=\"text-align: right;\">  0.0625474</td><td style=\"text-align: right;\">  0.0251474</td><td style=\"text-align: right;\">  0.050608  </td><td style=\"text-align: right;\"> -0.0314011 </td><td style=\"text-align: right;\"> -0.244891 </td><td style=\"text-align: right;\">  0.172873 </td><td style=\"text-align: right;\">  0.0065289</td><td style=\"text-align: right;\"> -0.146514  </td><td style=\"text-align: right;\">  0.0886536</td><td style=\"text-align: right;\">  0.012483  </td><td style=\"text-align: right;\">  0.206989</td><td style=\"text-align: right;\"> -0.0525607 </td><td style=\"text-align: right;\">  0.0317021</td><td style=\"text-align: right;\"> -0.0267277 </td><td style=\"text-align: right;\">  0.186067 </td><td style=\"text-align: right;\"> -0.0139379 </td><td style=\"text-align: right;\"> -0.120435  </td><td style=\"text-align: right;\"> -0.118492 </td><td style=\"text-align: right;\"> -0.222102 </td><td style=\"text-align: right;\">  0.0399552</td><td style=\"text-align: right;\"> -0.127742</td><td style=\"text-align: right;\">  0.182186 </td><td style=\"text-align: right;\"> -0.0451601 </td><td style=\"text-align: right;\"> -0.159022 </td><td style=\"text-align: right;\"> -0.0627187</td><td style=\"text-align: right;\"> -0.049384 </td><td style=\"text-align: right;\">  0.177827 </td><td style=\"text-align: right;\">  0.144502  </td><td style=\"text-align: right;\">  0.0133889</td><td style=\"text-align: right;\"> -0.135833   </td><td style=\"text-align: right;\">  0.140476 </td><td style=\"text-align: right;\">  0.0156674</td><td style=\"text-align: right;\"> -0.0544348 </td><td style=\"text-align: right;\">  0.0313437</td><td style=\"text-align: right;\">  0.130055 </td><td style=\"text-align: right;\">  0.325155 </td><td style=\"text-align: right;\"> -0.145873 </td><td style=\"text-align: right;\"> -0.0854123</td><td style=\"text-align: right;\">  0.0235114 </td><td style=\"text-align: right;\"> -0.0610797</td><td style=\"text-align: right;\"> -0.086574 </td><td style=\"text-align: right;\"> -0.147458 </td><td style=\"text-align: right;\"> -0.0759549</td><td style=\"text-align: right;\">  0.154193  </td><td style=\"text-align: right;\">  0.0613349 </td><td style=\"text-align: right;\"> -0.057907 </td><td style=\"text-align: right;\">  0.230781 </td><td style=\"text-align: right;\">  0.00232013</td><td style=\"text-align: right;\"> -0.039452  </td><td style=\"text-align: right;\"> -0.024821  </td><td style=\"text-align: right;\"> -0.09839  </td><td style=\"text-align: right;\"> -0.00679423</td><td style=\"text-align: right;\"> -0.0675587 </td><td style=\"text-align: right;\">  0.101807  </td><td style=\"text-align: right;\">  0.362982</td><td style=\"text-align: right;\">  0.0176173</td><td style=\"text-align: right;\">  0.00671841</td><td style=\"text-align: right;\">  0.10645  </td><td style=\"text-align: right;\">  0.227426 </td><td style=\"text-align: right;\">  0.0939017 </td></tr>\n",
       "<tr><td style=\"text-align: right;\">  0.0344683</td><td style=\"text-align: right;\"> -0.108496  </td><td style=\"text-align: right;\">  0.0450432</td><td style=\"text-align: right;\"> -0.105239  </td><td style=\"text-align: right;\">  0.107156   </td><td style=\"text-align: right;\">  0.169353</td><td style=\"text-align: right;\">  0.15259  </td><td style=\"text-align: right;\">  0.211326</td><td style=\"text-align: right;\"> -0.158668</td><td style=\"text-align: right;\"> -0.00663398</td><td style=\"text-align: right;\"> -0.0947161  </td><td style=\"text-align: right;\">  0.122408 </td><td style=\"text-align: right;\"> -0.105233 </td><td style=\"text-align: right;\"> -0.113164 </td><td style=\"text-align: right;\">  0.0426631</td><td style=\"text-align: right;\">  0.170351 </td><td style=\"text-align: right;\">  0.194691 </td><td style=\"text-align: right;\"> -0.0876903</td><td style=\"text-align: right;\"> -0.0343722</td><td style=\"text-align: right;\">  0.00593691</td><td style=\"text-align: right;\">  0.120494  </td><td style=\"text-align: right;\"> -0.014836 </td><td style=\"text-align: right;\"> -0.147025</td><td style=\"text-align: right;\">  0.078312 </td><td style=\"text-align: right;\"> -0.0891266</td><td style=\"text-align: right;\"> -0.0545084</td><td style=\"text-align: right;\"> -0.0541244 </td><td style=\"text-align: right;\">  0.0257148</td><td style=\"text-align: right;\"> -0.0689269</td><td style=\"text-align: right;\"> -0.309711</td><td style=\"text-align: right;\"> -0.0699064</td><td style=\"text-align: right;\"> -0.0172512 </td><td style=\"text-align: right;\"> -0.00865212</td><td style=\"text-align: right;\">  0.152447 </td><td style=\"text-align: right;\"> -0.0158895</td><td style=\"text-align: right;\"> -0.0673899</td><td style=\"text-align: right;\">  0.12097  </td><td style=\"text-align: right;\"> -0.0652199</td><td style=\"text-align: right;\">  0.0216901</td><td style=\"text-align: right;\">  0.0927116</td><td style=\"text-align: right;\">  0.0195695</td><td style=\"text-align: right;\"> -0.0700314</td><td style=\"text-align: right;\"> -0.00786028</td><td style=\"text-align: right;\">  0.0047409 </td><td style=\"text-align: right;\"> -0.0787682</td><td style=\"text-align: right;\">  0.0566343</td><td style=\"text-align: right;\"> -0.133308 </td><td style=\"text-align: right;\"> -0.0609694 </td><td style=\"text-align: right;\">  0.160875 </td><td style=\"text-align: right;\"> -0.0188009 </td><td style=\"text-align: right;\">  0.240668</td><td style=\"text-align: right;\"> -0.00673576</td><td style=\"text-align: right;\"> -0.0434567</td><td style=\"text-align: right;\">  0.066022  </td><td style=\"text-align: right;\">  0.0525567</td><td style=\"text-align: right;\">  0.0690891 </td><td style=\"text-align: right;\">  0.0611471 </td><td style=\"text-align: right;\"> -0.141526 </td><td style=\"text-align: right;\"> -0.0577938</td><td style=\"text-align: right;\">  0.0583779</td><td style=\"text-align: right;\"> -0.200657</td><td style=\"text-align: right;\">  0.0632717</td><td style=\"text-align: right;\">  0.0452068 </td><td style=\"text-align: right;\"> -0.0204884</td><td style=\"text-align: right;\"> -0.0586824</td><td style=\"text-align: right;\"> -0.0364205</td><td style=\"text-align: right;\">  0.125647 </td><td style=\"text-align: right;\">  0.058944  </td><td style=\"text-align: right;\">  0.106714 </td><td style=\"text-align: right;\">  0.000504708</td><td style=\"text-align: right;\">  0.0561789</td><td style=\"text-align: right;\"> -0.119412 </td><td style=\"text-align: right;\">  0.0196369 </td><td style=\"text-align: right;\">  0.0564704</td><td style=\"text-align: right;\">  0.0551919</td><td style=\"text-align: right;\">  0.0969202</td><td style=\"text-align: right;\"> -0.113847 </td><td style=\"text-align: right;\"> -0.215215 </td><td style=\"text-align: right;\"> -0.00790326</td><td style=\"text-align: right;\"> -0.0250122</td><td style=\"text-align: right;\">  0.141729 </td><td style=\"text-align: right;\"> -0.0157852</td><td style=\"text-align: right;\"> -0.0521678</td><td style=\"text-align: right;\">  0.101139  </td><td style=\"text-align: right;\">  0.00942465</td><td style=\"text-align: right;\"> -0.148941 </td><td style=\"text-align: right;\">  0.109946 </td><td style=\"text-align: right;\">  0.0780149 </td><td style=\"text-align: right;\"> -0.00798183</td><td style=\"text-align: right;\"> -0.0827409 </td><td style=\"text-align: right;\"> -0.121719 </td><td style=\"text-align: right;\">  0.0380365 </td><td style=\"text-align: right;\"> -0.0604039 </td><td style=\"text-align: right;\"> -0.0615642 </td><td style=\"text-align: right;\">  0.115421</td><td style=\"text-align: right;\"> -0.0888934</td><td style=\"text-align: right;\"> -0.145895  </td><td style=\"text-align: right;\">  0.17925  </td><td style=\"text-align: right;\">  0.0474291</td><td style=\"text-align: right;\">  0.0216038 </td></tr>\n",
       "<tr><td style=\"text-align: right;\"> -0.130096 </td><td style=\"text-align: right;\"> -0.0849826 </td><td style=\"text-align: right;\">  0.114613 </td><td style=\"text-align: right;\"> -0.00593158</td><td style=\"text-align: right;\">  0.113667   </td><td style=\"text-align: right;\">  0.155801</td><td style=\"text-align: right;\">  0.0675862</td><td style=\"text-align: right;\">  0.230189</td><td style=\"text-align: right;\"> -0.119888</td><td style=\"text-align: right;\">  0.0786731 </td><td style=\"text-align: right;\"> -0.0624041  </td><td style=\"text-align: right;\">  0.183575 </td><td style=\"text-align: right;\"> -0.103644 </td><td style=\"text-align: right;\"> -0.0611393</td><td style=\"text-align: right;\">  0.0450353</td><td style=\"text-align: right;\">  0.105299 </td><td style=\"text-align: right;\">  0.177069 </td><td style=\"text-align: right;\"> -0.144704 </td><td style=\"text-align: right;\"> -0.0759449</td><td style=\"text-align: right;\">  0.0987837 </td><td style=\"text-align: right;\">  0.085913  </td><td style=\"text-align: right;\">  0.112641 </td><td style=\"text-align: right;\"> -0.242488</td><td style=\"text-align: right;\">  0.0426693</td><td style=\"text-align: right;\"> -0.0778652</td><td style=\"text-align: right;\"> -0.0869224</td><td style=\"text-align: right;\">  0.00321813</td><td style=\"text-align: right;\">  0.0876558</td><td style=\"text-align: right;\"> -0.0149822</td><td style=\"text-align: right;\"> -0.269952</td><td style=\"text-align: right;\"> -0.203957 </td><td style=\"text-align: right;\"> -0.0541402 </td><td style=\"text-align: right;\"> -0.0741238 </td><td style=\"text-align: right;\">  0.169541 </td><td style=\"text-align: right;\"> -0.0877185</td><td style=\"text-align: right;\"> -0.126786 </td><td style=\"text-align: right;\">  0.139973 </td><td style=\"text-align: right;\"> -0.117658 </td><td style=\"text-align: right;\"> -0.0635815</td><td style=\"text-align: right;\">  0.102166 </td><td style=\"text-align: right;\"> -0.0251917</td><td style=\"text-align: right;\"> -0.0642444</td><td style=\"text-align: right;\"> -0.0107757 </td><td style=\"text-align: right;\"> -0.0803164 </td><td style=\"text-align: right;\"> -0.0876582</td><td style=\"text-align: right;\"> -0.012353 </td><td style=\"text-align: right;\"> -0.10231  </td><td style=\"text-align: right;\"> -0.121609  </td><td style=\"text-align: right;\">  0.199002 </td><td style=\"text-align: right;\"> -0.039156  </td><td style=\"text-align: right;\">  0.186791</td><td style=\"text-align: right;\"> -0.0718635 </td><td style=\"text-align: right;\">  0.0754883</td><td style=\"text-align: right;\"> -0.0783348 </td><td style=\"text-align: right;\">  0.190715 </td><td style=\"text-align: right;\">  0.0249632 </td><td style=\"text-align: right;\">  0.037714  </td><td style=\"text-align: right;\"> -0.103427 </td><td style=\"text-align: right;\"> -0.0603607</td><td style=\"text-align: right;\">  0.0958465</td><td style=\"text-align: right;\"> -0.138057</td><td style=\"text-align: right;\">  0.10008  </td><td style=\"text-align: right;\">  0.0279375 </td><td style=\"text-align: right;\"> -0.0472647</td><td style=\"text-align: right;\"> -0.024736 </td><td style=\"text-align: right;\"> -0.0124912</td><td style=\"text-align: right;\">  0.0822569</td><td style=\"text-align: right;\"> -0.0250197 </td><td style=\"text-align: right;\">  0.129265 </td><td style=\"text-align: right;\"> -0.0492871  </td><td style=\"text-align: right;\">  0.132305 </td><td style=\"text-align: right;\"> -0.08596  </td><td style=\"text-align: right;\">  0.00884779</td><td style=\"text-align: right;\">  0.0876252</td><td style=\"text-align: right;\">  0.0095273</td><td style=\"text-align: right;\">  0.0737654</td><td style=\"text-align: right;\"> -0.107415 </td><td style=\"text-align: right;\"> -0.135963 </td><td style=\"text-align: right;\">  0.00769354</td><td style=\"text-align: right;\"> -0.0341761</td><td style=\"text-align: right;\">  0.0389308</td><td style=\"text-align: right;\"> -0.048103 </td><td style=\"text-align: right;\">  0.0111768</td><td style=\"text-align: right;\">  0.0410199 </td><td style=\"text-align: right;\"> -0.0311099 </td><td style=\"text-align: right;\"> -0.0690632</td><td style=\"text-align: right;\">  0.175436 </td><td style=\"text-align: right;\">  0.139276  </td><td style=\"text-align: right;\"> -0.0880312 </td><td style=\"text-align: right;\"> -0.0240247 </td><td style=\"text-align: right;\"> -0.151533 </td><td style=\"text-align: right;\">  0.00651819</td><td style=\"text-align: right;\"> -0.0170341 </td><td style=\"text-align: right;\">  0.00449175</td><td style=\"text-align: right;\">  0.156415</td><td style=\"text-align: right;\"> -0.050491 </td><td style=\"text-align: right;\"> -0.0123054 </td><td style=\"text-align: right;\">  0.117465 </td><td style=\"text-align: right;\">  0.0639992</td><td style=\"text-align: right;\"> -0.00657381</td></tr>\n",
       "<tr><td style=\"text-align: right;\"> -0.108976 </td><td style=\"text-align: right;\"> -0.0900377 </td><td style=\"text-align: right;\">  0.0710684</td><td style=\"text-align: right;\"> -0.0426662 </td><td style=\"text-align: right;\">  0.0237427  </td><td style=\"text-align: right;\">  0.164002</td><td style=\"text-align: right;\">  0.0390387</td><td style=\"text-align: right;\">  0.241988</td><td style=\"text-align: right;\"> -0.203501</td><td style=\"text-align: right;\">  0.0893153 </td><td style=\"text-align: right;\">  0.000703839</td><td style=\"text-align: right;\">  0.0528766</td><td style=\"text-align: right;\"> -0.0538856</td><td style=\"text-align: right;\"> -0.0714873</td><td style=\"text-align: right;\"> -0.0439763</td><td style=\"text-align: right;\">  0.0756973</td><td style=\"text-align: right;\">  0.144999 </td><td style=\"text-align: right;\"> -0.0635089</td><td style=\"text-align: right;\">  0.0229095</td><td style=\"text-align: right;\">  0.0596339 </td><td style=\"text-align: right;\">  0.12466   </td><td style=\"text-align: right;\">  0.141836 </td><td style=\"text-align: right;\"> -0.180192</td><td style=\"text-align: right;\"> -0.0117268</td><td style=\"text-align: right;\"> -0.0818299</td><td style=\"text-align: right;\"> -0.0795212</td><td style=\"text-align: right;\"> -0.0151555 </td><td style=\"text-align: right;\">  0.019024 </td><td style=\"text-align: right;\"> -0.0527547</td><td style=\"text-align: right;\"> -0.21411 </td><td style=\"text-align: right;\"> -0.207386 </td><td style=\"text-align: right;\"> -0.0541965 </td><td style=\"text-align: right;\"> -0.162401  </td><td style=\"text-align: right;\">  0.211587 </td><td style=\"text-align: right;\"> -0.0952311</td><td style=\"text-align: right;\"> -0.133796 </td><td style=\"text-align: right;\">  0.126963 </td><td style=\"text-align: right;\"> -0.111604 </td><td style=\"text-align: right;\"> -0.0267506</td><td style=\"text-align: right;\">  0.0865914</td><td style=\"text-align: right;\"> -0.0166781</td><td style=\"text-align: right;\"> -0.206209 </td><td style=\"text-align: right;\"> -0.0148142 </td><td style=\"text-align: right;\">  0.0241847 </td><td style=\"text-align: right;\"> -0.0484206</td><td style=\"text-align: right;\"> -0.0734986</td><td style=\"text-align: right;\"> -0.0667353</td><td style=\"text-align: right;\"> -0.0723137 </td><td style=\"text-align: right;\">  0.23119  </td><td style=\"text-align: right;\"> -0.0279394 </td><td style=\"text-align: right;\">  0.209402</td><td style=\"text-align: right;\"> -0.0200248 </td><td style=\"text-align: right;\"> -0.0301982</td><td style=\"text-align: right;\">  0.0745389 </td><td style=\"text-align: right;\">  0.212453 </td><td style=\"text-align: right;\">  0.0214229 </td><td style=\"text-align: right;\">  0.0357205 </td><td style=\"text-align: right;\"> -0.0428065</td><td style=\"text-align: right;\"> -0.110243 </td><td style=\"text-align: right;\"> -0.035315 </td><td style=\"text-align: right;\"> -0.19587 </td><td style=\"text-align: right;\">  0.149496 </td><td style=\"text-align: right;\">  0.0175874 </td><td style=\"text-align: right;\"> -0.0344434</td><td style=\"text-align: right;\">  0.0117204</td><td style=\"text-align: right;\">  0.0418889</td><td style=\"text-align: right;\">  0.0895249</td><td style=\"text-align: right;\"> -0.0585906 </td><td style=\"text-align: right;\">  0.132714 </td><td style=\"text-align: right;\">  0.0398327  </td><td style=\"text-align: right;\">  0.149256 </td><td style=\"text-align: right;\"> -0.048113 </td><td style=\"text-align: right;\">  0.0120039 </td><td style=\"text-align: right;\">  0.0647002</td><td style=\"text-align: right;\">  0.0591784</td><td style=\"text-align: right;\">  0.0836559</td><td style=\"text-align: right;\"> -0.203549 </td><td style=\"text-align: right;\"> -0.228327 </td><td style=\"text-align: right;\">  0.0967393 </td><td style=\"text-align: right;\"> -0.0901543</td><td style=\"text-align: right;\">  0.145021 </td><td style=\"text-align: right;\"> -0.105673 </td><td style=\"text-align: right;\">  0.0638453</td><td style=\"text-align: right;\">  0.00978626</td><td style=\"text-align: right;\"> -0.090566  </td><td style=\"text-align: right;\">  0.0341721</td><td style=\"text-align: right;\">  0.120026 </td><td style=\"text-align: right;\">  0.216803  </td><td style=\"text-align: right;\"> -0.0183108 </td><td style=\"text-align: right;\">  0.0553646 </td><td style=\"text-align: right;\"> -0.0527882</td><td style=\"text-align: right;\"> -0.00536309</td><td style=\"text-align: right;\"> -0.00678053</td><td style=\"text-align: right;\"> -0.0167827 </td><td style=\"text-align: right;\">  0.141696</td><td style=\"text-align: right;\"> -0.172627 </td><td style=\"text-align: right;\"> -0.0643173 </td><td style=\"text-align: right;\">  0.112239 </td><td style=\"text-align: right;\">  0.115019 </td><td style=\"text-align: right;\"> -0.158477  </td></tr>\n",
       "<tr><td style=\"text-align: right;\">nan        </td><td style=\"text-align: right;\">nan         </td><td style=\"text-align: right;\">nan        </td><td style=\"text-align: right;\">nan         </td><td style=\"text-align: right;\">nan          </td><td style=\"text-align: right;\">nan       </td><td style=\"text-align: right;\">nan        </td><td style=\"text-align: right;\">nan       </td><td style=\"text-align: right;\">nan       </td><td style=\"text-align: right;\">nan         </td><td style=\"text-align: right;\">nan          </td><td style=\"text-align: right;\">nan        </td><td style=\"text-align: right;\">nan        </td><td style=\"text-align: right;\">nan        </td><td style=\"text-align: right;\">nan        </td><td style=\"text-align: right;\">nan        </td><td style=\"text-align: right;\">nan        </td><td style=\"text-align: right;\">nan        </td><td style=\"text-align: right;\">nan        </td><td style=\"text-align: right;\">nan         </td><td style=\"text-align: right;\">nan         </td><td style=\"text-align: right;\">nan        </td><td style=\"text-align: right;\">nan       </td><td style=\"text-align: right;\">nan        </td><td style=\"text-align: right;\">nan        </td><td style=\"text-align: right;\">nan        </td><td style=\"text-align: right;\">nan         </td><td style=\"text-align: right;\">nan        </td><td style=\"text-align: right;\">nan        </td><td style=\"text-align: right;\">nan       </td><td style=\"text-align: right;\">nan        </td><td style=\"text-align: right;\">nan         </td><td style=\"text-align: right;\">nan         </td><td style=\"text-align: right;\">nan        </td><td style=\"text-align: right;\">nan        </td><td style=\"text-align: right;\">nan        </td><td style=\"text-align: right;\">nan        </td><td style=\"text-align: right;\">nan        </td><td style=\"text-align: right;\">nan        </td><td style=\"text-align: right;\">nan        </td><td style=\"text-align: right;\">nan        </td><td style=\"text-align: right;\">nan        </td><td style=\"text-align: right;\">nan         </td><td style=\"text-align: right;\">nan         </td><td style=\"text-align: right;\">nan        </td><td style=\"text-align: right;\">nan        </td><td style=\"text-align: right;\">nan        </td><td style=\"text-align: right;\">nan         </td><td style=\"text-align: right;\">nan        </td><td style=\"text-align: right;\">nan         </td><td style=\"text-align: right;\">nan       </td><td style=\"text-align: right;\">nan         </td><td style=\"text-align: right;\">nan        </td><td style=\"text-align: right;\">nan         </td><td style=\"text-align: right;\">nan        </td><td style=\"text-align: right;\">nan         </td><td style=\"text-align: right;\">nan         </td><td style=\"text-align: right;\">nan        </td><td style=\"text-align: right;\">nan        </td><td style=\"text-align: right;\">nan        </td><td style=\"text-align: right;\">nan       </td><td style=\"text-align: right;\">nan        </td><td style=\"text-align: right;\">nan         </td><td style=\"text-align: right;\">nan        </td><td style=\"text-align: right;\">nan        </td><td style=\"text-align: right;\">nan        </td><td style=\"text-align: right;\">nan        </td><td style=\"text-align: right;\">nan         </td><td style=\"text-align: right;\">nan        </td><td style=\"text-align: right;\">nan          </td><td style=\"text-align: right;\">nan        </td><td style=\"text-align: right;\">nan        </td><td style=\"text-align: right;\">nan         </td><td style=\"text-align: right;\">nan        </td><td style=\"text-align: right;\">nan        </td><td style=\"text-align: right;\">nan        </td><td style=\"text-align: right;\">nan        </td><td style=\"text-align: right;\">nan        </td><td style=\"text-align: right;\">nan         </td><td style=\"text-align: right;\">nan        </td><td style=\"text-align: right;\">nan        </td><td style=\"text-align: right;\">nan        </td><td style=\"text-align: right;\">nan        </td><td style=\"text-align: right;\">nan         </td><td style=\"text-align: right;\">nan         </td><td style=\"text-align: right;\">nan        </td><td style=\"text-align: right;\">nan        </td><td style=\"text-align: right;\">nan         </td><td style=\"text-align: right;\">nan         </td><td style=\"text-align: right;\">nan         </td><td style=\"text-align: right;\">nan        </td><td style=\"text-align: right;\">nan         </td><td style=\"text-align: right;\">nan         </td><td style=\"text-align: right;\">nan         </td><td style=\"text-align: right;\">nan       </td><td style=\"text-align: right;\">nan        </td><td style=\"text-align: right;\">nan         </td><td style=\"text-align: right;\">nan        </td><td style=\"text-align: right;\">nan        </td><td style=\"text-align: right;\">nan         </td></tr>\n",
       "</tbody>\n",
       "</table>"
      ]
     },
     "metadata": {},
     "output_type": "display_data"
    },
    {
     "data": {
      "text/plain": []
     },
     "execution_count": 276,
     "metadata": {},
     "output_type": "execute_result"
    }
   ],
   "source": [
    "desc_vecs.head()"
   ]
  },
  {
   "cell_type": "code",
   "execution_count": 277,
   "metadata": {},
   "outputs": [],
   "source": [
    "# Add aggregated word embeddings \n",
    "df = df.cbind(desc_vecs)"
   ]
  },
  {
   "cell_type": "markdown",
   "metadata": {},
   "source": [
    "### 5. Model training"
   ]
  },
  {
   "cell_type": "code",
   "execution_count": 278,
   "metadata": {},
   "outputs": [],
   "source": [
    "train, test = df.split_frame(seed=25, ratios=[0.75])"
   ]
  },
  {
   "cell_type": "code",
   "execution_count": 279,
   "metadata": {},
   "outputs": [],
   "source": [
    "from h2o.estimators import H2OGradientBoostingEstimator\n",
    "\n",
    "y = 'bad_loan'\n",
    "x = ['emp_title','issue_d_year','issue_d_month','pymnt_plan','term','title','pub_rec','revol_util','int_rate','addr_state','open_acc','total_acc','verification_status',\n",
    "     'annual_inc','revol_bal','inq_last_6mths','issue_d_year','earliest_cr_line','issue_d_month','sub_grade','purpose','grade',\n",
    "     'emp_length','dti','delinq_2yrs','url','loan_amnt','installment','home_ownership']"
   ]
  },
  {
   "cell_type": "code",
   "execution_count": 287,
   "metadata": {},
   "outputs": [
    {
     "name": "stdout",
     "output_type": "stream",
     "text": [
      "gbm Model Build progress: |███████████████████████████████████████████████| 100%\n"
     ]
    }
   ],
   "source": [
    "gbm_model = H2OGradientBoostingEstimator(stopping_metric='logloss',\n",
    "                                         stopping_rounds= 5,\n",
    "                                         score_tree_interval=5,\n",
    "#                                          max_depth=7,\n",
    "                                         ntrees=200,\n",
    "                                         learn_rate=0.05,\n",
    "                                         sample_rate=0.9,\n",
    "                                         col_sample_rate=0.9,\n",
    "                                         balance_classes=False,\n",
    "                                         model_id=\"GBM_BadLoan\",\n",
    "                                         nfolds=5,\n",
    "                                         seed=25,\n",
    "                                         fold_assignment='stratified')\n",
    "\n",
    "gbm_model.train(x=x, y=y, training_frame=train, validation_frame=test)"
   ]
  },
  {
   "cell_type": "markdown",
   "metadata": {},
   "source": [
    "# Step 7 (of 10).  Examine model accuracy\n",
    "\n",
    "The plot below shows the performance of the model as more trees are built.  This graph can help us see if our model is overfitting.  Our early stopping kicked in at 100 trees.  This is where the model was no longer improving performance on the test data."
   ]
  },
  {
   "cell_type": "code",
   "execution_count": 288,
   "metadata": {},
   "outputs": [
    {
     "data": {
      "image/png": "[encoded data removed]",
      "text/plain": [
       "<Figure size 432x288 with 1 Axes>"
      ]
     },
     "metadata": {
      "needs_background": "light"
     },
     "output_type": "display_data"
    }
   ],
   "source": [
    "%matplotlib inline\n",
    "gbm_model.plot()"
   ]
  },
  {
   "cell_type": "code",
   "execution_count": 289,
   "metadata": {},
   "outputs": [
    {
     "name": "stdout",
     "output_type": "stream",
     "text": [
      "\n",
      "Confusion Matrix (Act/Pred) for max f1 @ threshold = 0.316420534145825: \n"
     ]
    },
    {
     "data": {
      "text/html": [
       "<div>\n",
       "<style scoped>\n",
       "    .dataframe tbody tr th:only-of-type {\n",
       "        vertical-align: middle;\n",
       "    }\n",
       "\n",
       "    .dataframe tbody tr th {\n",
       "        vertical-align: top;\n",
       "    }\n",
       "\n",
       "    .dataframe thead th {\n",
       "        text-align: right;\n",
       "    }\n",
       "</style>\n",
       "<table border=\"1\" class=\"dataframe\">\n",
       "  <thead>\n",
       "    <tr style=\"text-align: right;\">\n",
       "      <th></th>\n",
       "      <th></th>\n",
       "      <th>0</th>\n",
       "      <th>1</th>\n",
       "      <th>Error</th>\n",
       "      <th>Rate</th>\n",
       "    </tr>\n",
       "  </thead>\n",
       "  <tbody>\n",
       "    <tr>\n",
       "      <th>0</th>\n",
       "      <td>0</td>\n",
       "      <td>21807.0</td>\n",
       "      <td>1346.0</td>\n",
       "      <td>0.0581</td>\n",
       "      <td>(1346.0/23153.0)</td>\n",
       "    </tr>\n",
       "    <tr>\n",
       "      <th>1</th>\n",
       "      <td>1</td>\n",
       "      <td>2242.0</td>\n",
       "      <td>3948.0</td>\n",
       "      <td>0.3622</td>\n",
       "      <td>(2242.0/6190.0)</td>\n",
       "    </tr>\n",
       "    <tr>\n",
       "      <th>2</th>\n",
       "      <td>Total</td>\n",
       "      <td>24049.0</td>\n",
       "      <td>5294.0</td>\n",
       "      <td>0.1223</td>\n",
       "      <td>(3588.0/29343.0)</td>\n",
       "    </tr>\n",
       "  </tbody>\n",
       "</table>\n",
       "</div>"
      ],
      "text/plain": [
       "                0       1   Error               Rate\n",
       "0      0  21807.0  1346.0  0.0581   (1346.0/23153.0)\n",
       "1      1   2242.0  3948.0  0.3622    (2242.0/6190.0)\n",
       "2  Total  24049.0  5294.0  0.1223   (3588.0/29343.0)"
      ]
     },
     "metadata": {},
     "output_type": "display_data"
    },
    {
     "data": {
      "text/plain": []
     },
     "execution_count": 289,
     "metadata": {},
     "output_type": "execute_result"
    }
   ],
   "source": [
    "gbm_model.confusion_matrix()"
   ]
  },
  {
   "cell_type": "markdown",
   "metadata": {},
   "source": [
    "The ROC curve of the training and testing data are shown below.  The area under the ROC curve is much higher for the training data than the testing data indicating that the model may be beginning to memorize the training data."
   ]
  },
  {
   "cell_type": "code",
   "execution_count": 290,
   "metadata": {},
   "outputs": [
    {
     "name": "stdout",
     "output_type": "stream",
     "text": [
      "Training Data\n"
     ]
    },
    {
     "data": {
      "image/png": "[encoded data removed]",
      "text/plain": [
       "<Figure size 432x288 with 1 Axes>"
      ]
     },
     "metadata": {
      "needs_background": "light"
     },
     "output_type": "display_data"
    },
    {
     "name": "stdout",
     "output_type": "stream",
     "text": [
      "Testing Data\n"
     ]
    },
    {
     "data": {
      "image/png": "[encoded data removed]",
      "text/plain": [
       "<Figure size 432x288 with 1 Axes>"
      ]
     },
     "metadata": {
      "needs_background": "light"
     },
     "output_type": "display_data"
    }
   ],
   "source": [
    "print(\"Training Data\")\n",
    "gbm_model.model_performance(train = True).plot()\n",
    "print(\"Testing Data\")\n",
    "gbm_model.model_performance(valid = True).plot()"
   ]
  },
  {
   "cell_type": "markdown",
   "metadata": {},
   "source": [
    "## 7. Interpret model"
   ]
  },
  {
   "cell_type": "markdown",
   "metadata": {},
   "source": [
    "The variable importance plot shows us which variables are most important to predicting `bad_loan`.  We can use partial dependency plots to learn more about how these variables affect the prediction."
   ]
  },
  {
   "cell_type": "code",
   "execution_count": 291,
   "metadata": {},
   "outputs": [
    {
     "data": {
      "image/png": "[encoded data removed]",
      "text/plain": [
       "<Figure size 1008x720 with 1 Axes>"
      ]
     },
     "metadata": {
      "needs_background": "light"
     },
     "output_type": "display_data"
    }
   ],
   "source": [
    "gbm_model.varimp_plot(20)"
   ]
  },
  {
   "cell_type": "markdown",
   "metadata": {},
   "source": [
    "The partial dependency plot of the `inq_last_6mths` predictor shows us that, as the number of inquiries in the last 6 months increases, the likelihood of the loan defaulting also increases."
   ]
  },
  {
   "cell_type": "code",
   "execution_count": 292,
   "metadata": {
    "scrolled": false
   },
   "outputs": [
    {
     "name": "stdout",
     "output_type": "stream",
     "text": [
      "PartialDependencePlot progress: |█████████████████████████████████████████| 100%\n"
     ]
    },
    {
     "data": {
      "image/png": "[encoded data removed]",
      "text/plain": [
       "<Figure size 504x720 with 1 Axes>"
      ]
     },
     "metadata": {
      "needs_background": "light"
     },
     "output_type": "display_data"
    }
   ],
   "source": [
    "pdp = gbm_model.partial_plot(cols=[\"inq_last_6mths\"], data=train)"
   ]
  },
  {
   "cell_type": "code",
   "execution_count": 293,
   "metadata": {},
   "outputs": [
    {
     "data": {
      "text/html": [
       "<table>\n",
       "<thead>\n",
       "<tr><th style=\"text-align: right;\">  inq_last_6mths</th><th style=\"text-align: right;\">  Count</th></tr>\n",
       "</thead>\n",
       "<tbody>\n",
       "<tr><td style=\"text-align: right;\">               0</td><td style=\"text-align: right;\">  17910</td></tr>\n",
       "<tr><td style=\"text-align: right;\">               1</td><td style=\"text-align: right;\">  10288</td></tr>\n",
       "<tr><td style=\"text-align: right;\">               2</td><td style=\"text-align: right;\">   5480</td></tr>\n",
       "<tr><td style=\"text-align: right;\">               3</td><td style=\"text-align: right;\">   2942</td></tr>\n",
       "<tr><td style=\"text-align: right;\">               4</td><td style=\"text-align: right;\">   1022</td></tr>\n",
       "<tr><td style=\"text-align: right;\">               5</td><td style=\"text-align: right;\">    590</td></tr>\n",
       "<tr><td style=\"text-align: right;\">               6</td><td style=\"text-align: right;\">    335</td></tr>\n",
       "<tr><td style=\"text-align: right;\">               7</td><td style=\"text-align: right;\">    181</td></tr>\n",
       "<tr><td style=\"text-align: right;\">               8</td><td style=\"text-align: right;\">    112</td></tr>\n",
       "<tr><td style=\"text-align: right;\">               9</td><td style=\"text-align: right;\">     50</td></tr>\n",
       "<tr><td style=\"text-align: right;\">              10</td><td style=\"text-align: right;\">     24</td></tr>\n",
       "<tr><td style=\"text-align: right;\">              11</td><td style=\"text-align: right;\">     15</td></tr>\n",
       "<tr><td style=\"text-align: right;\">              12</td><td style=\"text-align: right;\">     15</td></tr>\n",
       "<tr><td style=\"text-align: right;\">              13</td><td style=\"text-align: right;\">      6</td></tr>\n",
       "<tr><td style=\"text-align: right;\">              14</td><td style=\"text-align: right;\">      6</td></tr>\n",
       "<tr><td style=\"text-align: right;\">              15</td><td style=\"text-align: right;\">      9</td></tr>\n",
       "<tr><td style=\"text-align: right;\">              16</td><td style=\"text-align: right;\">      3</td></tr>\n",
       "<tr><td style=\"text-align: right;\">              17</td><td style=\"text-align: right;\">      2</td></tr>\n",
       "<tr><td style=\"text-align: right;\">              18</td><td style=\"text-align: right;\">      4</td></tr>\n",
       "<tr><td style=\"text-align: right;\">              19</td><td style=\"text-align: right;\">      2</td></tr>\n",
       "<tr><td style=\"text-align: right;\">              20</td><td style=\"text-align: right;\">      1</td></tr>\n",
       "<tr><td style=\"text-align: right;\">              24</td><td style=\"text-align: right;\">      2</td></tr>\n",
       "<tr><td style=\"text-align: right;\">              25</td><td style=\"text-align: right;\">      1</td></tr>\n",
       "<tr><td style=\"text-align: right;\">              27</td><td style=\"text-align: right;\">      1</td></tr>\n",
       "<tr><td style=\"text-align: right;\">              28</td><td style=\"text-align: right;\">      1</td></tr>\n",
       "<tr><td style=\"text-align: right;\">              31</td><td style=\"text-align: right;\">      1</td></tr>\n",
       "<tr><td style=\"text-align: right;\">              32</td><td style=\"text-align: right;\">      1</td></tr>\n",
       "<tr><td style=\"text-align: right;\">              33</td><td style=\"text-align: right;\">      1</td></tr>\n",
       "</tbody>\n",
       "</table>"
      ]
     },
     "metadata": {},
     "output_type": "display_data"
    },
    {
     "data": {
      "text/plain": []
     },
     "execution_count": 293,
     "metadata": {},
     "output_type": "execute_result"
    }
   ],
   "source": [
    "df[\"inq_last_6mths\"].table().head(100)"
   ]
  },
  {
   "cell_type": "markdown",
   "metadata": {},
   "source": [
    "## 8. Save and reuse model"
   ]
  },
  {
   "cell_type": "markdown",
   "metadata": {},
   "source": [
    "The model can either be embedded into a self-contained Java MOJO/POJO package\n",
    "or it can be saved and later loaded directly in H2O-3 cluster. For production\n",
    "use, we recommend to use MOJO as it is optimised for speed. See the [guide](http://docs.h2o.ai/h2o/latest-stable/h2o-docs/productionizing.html) for further information."
   ]
  },
  {
   "cell_type": "markdown",
   "metadata": {},
   "source": [
    "### Downloading MOJO"
   ]
  },
  {
   "cell_type": "code",
   "execution_count": null,
   "metadata": {},
   "outputs": [],
   "source": [
    "gbm_model.download_mojo()"
   ]
  },
  {
   "cell_type": "markdown",
   "metadata": {},
   "source": [
    "### Save and reuse the model "
   ]
  },
  {
   "cell_type": "markdown",
   "metadata": {},
   "source": [
    "We can save the model to disk for later batch scoring in H2O cluster."
   ]
  },
  {
   "cell_type": "code",
   "execution_count": null,
   "metadata": {},
   "outputs": [],
   "source": [
    "model_path = h2o.save_model(model=gbm_model, force=True)\n",
    "print(model_path)\n",
    "loaded_model = h2o.load_model(path=model_path)"
   ]
  },
  {
   "cell_type": "markdown",
   "metadata": {},
   "source": [
    "We can also score new data using the predict function:"
   ]
  },
  {
   "cell_type": "code",
   "execution_count": null,
   "metadata": {
    "scrolled": true
   },
   "outputs": [],
   "source": [
    "bad_loan_hat = loaded_model.predict(test)\n",
    "bad_loan_hat.head(15)"
   ]
  },
  {
   "cell_type": "markdown",
   "metadata": {},
   "source": [
    "## 9. AutoML (optional)\n",
    "AutoML can be used for automating the machine learning workflow, which includes automatic training and tuning of many models within a user-specified time-limit. Stacked Ensembles will be automatically trained on collections of individual models to produce highly predictive ensemble models."
   ]
  },
  {
   "cell_type": "code",
   "execution_count": null,
   "metadata": {},
   "outputs": [],
   "source": [
    "from h2o.automl import H2OAutoML\n",
    "\n",
    "aml = H2OAutoML(max_runtime_secs=300, seed=25)\n",
    "aml.train(x=predictors, y='bad_loan', training_frame=train)"
   ]
  },
  {
   "cell_type": "markdown",
   "metadata": {},
   "source": [
    "The leaderboard contains the performance metrics of the models generated by AutoML:"
   ]
  },
  {
   "cell_type": "code",
   "execution_count": null,
   "metadata": {
    "scrolled": false
   },
   "outputs": [],
   "source": [
    "aml.leaderboard"
   ]
  },
  {
   "cell_type": "markdown",
   "metadata": {},
   "source": [
    "Since we provided only training frame during training, the models are sorted by their cross-validated performance metrics (AUROC by default for classification). We can evaluate the best model (`leader`) on the test data:"
   ]
  },
  {
   "cell_type": "code",
   "execution_count": null,
   "metadata": {},
   "outputs": [],
   "source": [
    "aml.leader.model_performance(test_data=test).plot()\n",
    "aml.leader.model_performance(test_data=test)"
   ]
  },
  {
   "cell_type": "markdown",
   "metadata": {},
   "source": [
    "## 10. Stop H2O-3 cluster"
   ]
  },
  {
   "cell_type": "code",
   "execution_count": 245,
   "metadata": {},
   "outputs": [
    {
     "name": "stdout",
     "output_type": "stream",
     "text": [
      "H2O session _sid_96f6 closed.\n"
     ]
    }
   ],
   "source": [
    "h2o.cluster().shutdown()"
   ]
  }
 ],
 "metadata": {
  "kernelspec": {
   "display_name": "Python 3",
   "language": "python",
   "name": "python3"
  },
  "language_info": {
   "codemirror_mode": {
    "name": "ipython",
    "version": 3
   },
   "file_extension": ".py",
   "mimetype": "text/x-python",
   "name": "python",
   "nbconvert_exporter": "python",
   "pygments_lexer": "ipython3",
   "version": "3.7.3"
  }
 },
 "nbformat": 4,
 "nbformat_minor": 2
}
