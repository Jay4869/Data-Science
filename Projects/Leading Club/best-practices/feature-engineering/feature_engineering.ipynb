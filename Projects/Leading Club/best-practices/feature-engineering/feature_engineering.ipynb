{
 "cells": [
  {
   "cell_type": "markdown",
   "metadata": {},
   "source": [
    "# Best Practices - Feature Engineering\n",
    "\n",
    "This notebook walks through recommended feature engineering techniques that can be used to improve model performance.\n",
    "\n",
    "**Steps**\n",
    "\n",
    "1. Import and clean data\n",
    "2. Train baseline model\n",
    "3. Convert text features to word-embeddings\n",
    "4. Perform target encoding on categorical features\n",
    "5. Add anomaly score\n",
    "6. Evaluate improvement to model\n",
    "7. Analyze final model\n",
    "\n",
    "## Step 1. Import and Clean Data\n",
    "\n",
    "We will start by importing the raw lending club data into our H2O-3 cluster."
   ]
  },
  {
   "cell_type": "code",
   "execution_count": 1,
   "metadata": {
    "collapsed": false
   },
   "outputs": [
    {
     "name": "stdout",
     "output_type": "stream",
     "text": [
      "Checking whether there is an H2O instance running at http://localhost:54321..... not found.\n",
      "Attempting to start a local H2O server...\n",
      "  Java Version: java version \"1.8.0_91\"; Java(TM) SE Runtime Environment (build 1.8.0_91-b14); Java HotSpot(TM) 64-Bit Server VM (build 25.91-b14, mixed mode)\n",
      "  Starting server from /Users/megankurka/anaconda3/lib/python3.6/site-packages/h2o/backend/bin/h2o.jar\n",
      "  Ice root: /var/folders/gv/w2f3zs_d33l3dt5j67k9nhhr0000gn/T/tmpeikasb1m\n",
      "  JVM stdout: /var/folders/gv/w2f3zs_d33l3dt5j67k9nhhr0000gn/T/tmpeikasb1m/h2o_megankurka_started_from_python.out\n",
      "  JVM stderr: /var/folders/gv/w2f3zs_d33l3dt5j67k9nhhr0000gn/T/tmpeikasb1m/h2o_megankurka_started_from_python.err\n",
      "  Server is running at http://127.0.0.1:54321\n",
      "Connecting to H2O server at http://127.0.0.1:54321... successful.\n"
     ]
    },
    {
     "data": {
      "text/html": [
       "<div style=\"overflow:auto\"><table style=\"width:50%\"><tr><td>H2O cluster uptime:</td>\n",
       "<td>01 secs</td></tr>\n",
       "<tr><td>H2O cluster timezone:</td>\n",
       "<td>America/Los_Angeles</td></tr>\n",
       "<tr><td>H2O data parsing timezone:</td>\n",
       "<td>UTC</td></tr>\n",
       "<tr><td>H2O cluster version:</td>\n",
       "<td>3.22.0.1</td></tr>\n",
       "<tr><td>H2O cluster version age:</td>\n",
       "<td>12 days </td></tr>\n",
       "<tr><td>H2O cluster name:</td>\n",
       "<td>H2O_from_python_megankurka_eufsnh</td></tr>\n",
       "<tr><td>H2O cluster total nodes:</td>\n",
       "<td>1</td></tr>\n",
       "<tr><td>H2O cluster free memory:</td>\n",
       "<td>3.556 Gb</td></tr>\n",
       "<tr><td>H2O cluster total cores:</td>\n",
       "<td>8</td></tr>\n",
       "<tr><td>H2O cluster allowed cores:</td>\n",
       "<td>8</td></tr>\n",
       "<tr><td>H2O cluster status:</td>\n",
       "<td>accepting new members, healthy</td></tr>\n",
       "<tr><td>H2O connection url:</td>\n",
       "<td>http://127.0.0.1:54321</td></tr>\n",
       "<tr><td>H2O connection proxy:</td>\n",
       "<td>None</td></tr>\n",
       "<tr><td>H2O internal security:</td>\n",
       "<td>False</td></tr>\n",
       "<tr><td>H2O API Extensions:</td>\n",
       "<td>XGBoost, Algos, AutoML, Core V3, Core V4</td></tr>\n",
       "<tr><td>Python version:</td>\n",
       "<td>3.6.0 final</td></tr></table></div>"
      ],
      "text/plain": [
       "--------------------------  ----------------------------------------\n",
       "H2O cluster uptime:         01 secs\n",
       "H2O cluster timezone:       America/Los_Angeles\n",
       "H2O data parsing timezone:  UTC\n",
       "H2O cluster version:        3.22.0.1\n",
       "H2O cluster version age:    12 days\n",
       "H2O cluster name:           H2O_from_python_megankurka_eufsnh\n",
       "H2O cluster total nodes:    1\n",
       "H2O cluster free memory:    3.556 Gb\n",
       "H2O cluster total cores:    8\n",
       "H2O cluster allowed cores:  8\n",
       "H2O cluster status:         accepting new members, healthy\n",
       "H2O connection url:         http://127.0.0.1:54321\n",
       "H2O connection proxy:\n",
       "H2O internal security:      False\n",
       "H2O API Extensions:         XGBoost, Algos, AutoML, Core V3, Core V4\n",
       "Python version:             3.6.0 final\n",
       "--------------------------  ----------------------------------------"
      ]
     },
     "metadata": {},
     "output_type": "display_data"
    }
   ],
   "source": [
    "import h2o\n",
    "h2o.init()"
   ]
  },
  {
   "cell_type": "code",
   "execution_count": 2,
   "metadata": {
    "collapsed": false
   },
   "outputs": [
    {
     "name": "stdout",
     "output_type": "stream",
     "text": [
      "Parse progress: |█████████████████████████████████████████████████████████| 100%\n"
     ]
    }
   ],
   "source": [
    "data_path = \"https://s3.amazonaws.com/h2o-public-test-data/bigdata/laptop/lending-club/LoanStats3a.csv\"\n",
    "data = h2o.import_file(data_path, destination_frame = \"loan_raw\")"
   ]
  },
  {
   "cell_type": "code",
   "execution_count": 3,
   "metadata": {
    "collapsed": false
   },
   "outputs": [
    {
     "data": {
      "text/html": [
       "<table>\n",
       "<thead>\n",
       "<tr><th style=\"text-align: right;\">         id</th><th style=\"text-align: right;\">  member_id</th><th style=\"text-align: right;\">  loan_amnt</th><th style=\"text-align: right;\">  funded_amnt</th><th style=\"text-align: right;\">  funded_amnt_inv</th><th>term     </th><th>int_rate  </th><th style=\"text-align: right;\">  installment</th><th>grade  </th><th>sub_grade  </th><th>emp_title                </th><th>emp_length  </th><th>home_ownership  </th><th style=\"text-align: right;\">  annual_inc</th><th>verification_status     </th><th>issue_d            </th><th>loan_status  </th><th>pymnt_plan  </th><th>url                                                                 </th><th>desc                                                                                                                                                                                                                                                                                                                                                                                                                                                                                                                                                                                                        </th><th>purpose           </th><th>title                                </th><th>zip_code  </th><th>addr_state  </th><th style=\"text-align: right;\">  dti</th><th style=\"text-align: right;\">  delinq_2yrs</th><th>earliest_cr_line   </th><th style=\"text-align: right;\">  inq_last_6mths</th><th>mths_since_last_delinq  </th><th>mths_since_last_record  </th><th style=\"text-align: right;\">  open_acc</th><th style=\"text-align: right;\">  pub_rec</th><th style=\"text-align: right;\">  revol_bal</th><th>revol_util  </th><th style=\"text-align: right;\">  total_acc</th><th>initial_list_status  </th><th style=\"text-align: right;\">  out_prncp</th><th style=\"text-align: right;\">  out_prncp_inv</th><th style=\"text-align: right;\">  total_pymnt</th><th style=\"text-align: right;\">  total_pymnt_inv</th><th style=\"text-align: right;\">  total_rec_prncp</th><th style=\"text-align: right;\">  total_rec_int</th><th style=\"text-align: right;\">  total_rec_late_fee</th><th style=\"text-align: right;\">  recoveries</th><th style=\"text-align: right;\">  collection_recovery_fee</th><th>last_pymnt_d       </th><th style=\"text-align: right;\">  last_pymnt_amnt</th><th>next_pymnt_d       </th><th>last_credit_pull_d  </th><th style=\"text-align: right;\">  collections_12_mths_ex_med</th><th>mths_since_last_major_derog  </th><th style=\"text-align: right;\">  policy_code</th></tr>\n",
       "</thead>\n",
       "<tbody>\n",
       "<tr><td style=\"text-align: right;\">1.0775e+06 </td><td style=\"text-align: right;\">1.2966e+06 </td><td style=\"text-align: right;\">       5000</td><td style=\"text-align: right;\">         5000</td><td style=\"text-align: right;\">             4975</td><td>36 months</td><td>10.65%    </td><td style=\"text-align: right;\">       162.87</td><td>B      </td><td>B2         </td><td>                         </td><td>10+ years   </td><td>RENT            </td><td style=\"text-align: right;\">       24000</td><td>VERIFIED - income       </td><td>2011-12-01 00:00:00</td><td>Fully Paid   </td><td>n           </td><td>https://www.lendingclub.com/browse/loanDetail.action?loan_id=1077501</td><td>Borrower added on 12/22/11 > I need to upgrade my business technologies.<br>                                                                                                                                                                                                                                                                                                                                                                                                                                                                                                                                </td><td>credit_card       </td><td>Computer                             </td><td>860xx     </td><td>AZ          </td><td style=\"text-align: right;\">27.65</td><td style=\"text-align: right;\">            0</td><td>1985-01-01 00:00:00</td><td style=\"text-align: right;\">               1</td><td>                        </td><td>                        </td><td style=\"text-align: right;\">         3</td><td style=\"text-align: right;\">        0</td><td style=\"text-align: right;\">      13648</td><td>83.7%       </td><td style=\"text-align: right;\">          9</td><td>f                    </td><td style=\"text-align: right;\">       0   </td><td style=\"text-align: right;\">           0   </td><td style=\"text-align: right;\">      5861.07</td><td style=\"text-align: right;\">          5831.78</td><td style=\"text-align: right;\">          5000   </td><td style=\"text-align: right;\">         861.07</td><td style=\"text-align: right;\">                0   </td><td style=\"text-align: right;\">        0   </td><td style=\"text-align: right;\">                     0   </td><td>2015-01-01 00:00:00</td><td style=\"text-align: right;\">           171.62</td><td>                   </td><td>2015-01-01 00:00:00 </td><td style=\"text-align: right;\">                           0</td><td>                             </td><td style=\"text-align: right;\">            1</td></tr>\n",
       "<tr><td style=\"text-align: right;\">1.07743e+06</td><td style=\"text-align: right;\">1.31417e+06</td><td style=\"text-align: right;\">       2500</td><td style=\"text-align: right;\">         2500</td><td style=\"text-align: right;\">             2500</td><td>60 months</td><td>15.27%    </td><td style=\"text-align: right;\">        59.83</td><td>C      </td><td>C4         </td><td>Ryder                    </td><td>< 1 year    </td><td>RENT            </td><td style=\"text-align: right;\">       30000</td><td>VERIFIED - income source</td><td>2011-12-01 00:00:00</td><td>Charged Off  </td><td>n           </td><td>https://www.lendingclub.com/browse/loanDetail.action?loan_id=1077430</td><td>Borrower added on 12/22/11 > I plan to use this money to finance the motorcycle i am looking at. I plan to have it paid off as soon as possible/when i sell my old bike. I only need this money because the deal im looking at is to good to pass up.<br><br>  Borrower added on 12/22/11 > I plan to use this money to finance the motorcycle i am looking at. I plan to have it paid off as soon as possible/when i sell my old bike.I only need this money because the deal im looking at is to good to pass up. I have finished college with an associates degree in business and its takingmeplaces<br></td><td>car               </td><td>bike                                 </td><td>309xx     </td><td>GA          </td><td style=\"text-align: right;\"> 1   </td><td style=\"text-align: right;\">            0</td><td>1999-04-01 00:00:00</td><td style=\"text-align: right;\">               5</td><td>                        </td><td>                        </td><td style=\"text-align: right;\">         3</td><td style=\"text-align: right;\">        0</td><td style=\"text-align: right;\">       1687</td><td>9.4%        </td><td style=\"text-align: right;\">          4</td><td>f                    </td><td style=\"text-align: right;\">       0   </td><td style=\"text-align: right;\">           0   </td><td style=\"text-align: right;\">      1008.71</td><td style=\"text-align: right;\">          1008.71</td><td style=\"text-align: right;\">           456.46</td><td style=\"text-align: right;\">         435.17</td><td style=\"text-align: right;\">                0   </td><td style=\"text-align: right;\">      117.08</td><td style=\"text-align: right;\">                     1.11</td><td>2013-04-01 00:00:00</td><td style=\"text-align: right;\">           119.66</td><td>                   </td><td>2013-09-01 00:00:00 </td><td style=\"text-align: right;\">                           0</td><td>                             </td><td style=\"text-align: right;\">            1</td></tr>\n",
       "<tr><td style=\"text-align: right;\">1.07718e+06</td><td style=\"text-align: right;\">1.31352e+06</td><td style=\"text-align: right;\">       2400</td><td style=\"text-align: right;\">         2400</td><td style=\"text-align: right;\">             2400</td><td>36 months</td><td>15.96%    </td><td style=\"text-align: right;\">        84.33</td><td>C      </td><td>C5         </td><td>                         </td><td>10+ years   </td><td>RENT            </td><td style=\"text-align: right;\">       12252</td><td>not verified            </td><td>2011-12-01 00:00:00</td><td>Fully Paid   </td><td>n           </td><td>https://www.lendingclub.com/browse/loanDetail.action?loan_id=1077175</td><td>                                                                                                                                                                                                                                                                                                                                                                                                                                                                                                                                                                                                            </td><td>small_business    </td><td>real estate business                 </td><td>606xx     </td><td>IL          </td><td style=\"text-align: right;\"> 8.72</td><td style=\"text-align: right;\">            0</td><td>2001-11-01 00:00:00</td><td style=\"text-align: right;\">               2</td><td>                        </td><td>                        </td><td style=\"text-align: right;\">         2</td><td style=\"text-align: right;\">        0</td><td style=\"text-align: right;\">       2956</td><td>98.5%       </td><td style=\"text-align: right;\">         10</td><td>f                    </td><td style=\"text-align: right;\">       0   </td><td style=\"text-align: right;\">           0   </td><td style=\"text-align: right;\">      3003.65</td><td style=\"text-align: right;\">          3003.65</td><td style=\"text-align: right;\">          2400   </td><td style=\"text-align: right;\">         603.65</td><td style=\"text-align: right;\">                0   </td><td style=\"text-align: right;\">        0   </td><td style=\"text-align: right;\">                     0   </td><td>2014-06-01 00:00:00</td><td style=\"text-align: right;\">           649.91</td><td>                   </td><td>2015-06-01 00:00:00 </td><td style=\"text-align: right;\">                           0</td><td>                             </td><td style=\"text-align: right;\">            1</td></tr>\n",
       "<tr><td style=\"text-align: right;\">1.07686e+06</td><td style=\"text-align: right;\">1.27718e+06</td><td style=\"text-align: right;\">      10000</td><td style=\"text-align: right;\">        10000</td><td style=\"text-align: right;\">            10000</td><td>36 months</td><td>13.49%    </td><td style=\"text-align: right;\">       339.31</td><td>C      </td><td>C1         </td><td>AIR RESOURCES BOARD      </td><td>10+ years   </td><td>RENT            </td><td style=\"text-align: right;\">       49200</td><td>VERIFIED - income source</td><td>2011-12-01 00:00:00</td><td>Fully Paid   </td><td>n           </td><td>https://www.lendingclub.com/browse/loanDetail.action?loan_id=1076863</td><td>Borrower added on 12/21/11 > to pay for property tax (borrow from friend, need to pay back) & central A/C need to be replace. I'm very sorry to let my loan expired last time.<br>                                                                                                                                                                                                                                                                                                                                                                                                                          </td><td>other             </td><td>personel                             </td><td>917xx     </td><td>CA          </td><td style=\"text-align: right;\">20   </td><td style=\"text-align: right;\">            0</td><td>1996-02-01 00:00:00</td><td style=\"text-align: right;\">               1</td><td>35                      </td><td>                        </td><td style=\"text-align: right;\">        10</td><td style=\"text-align: right;\">        0</td><td style=\"text-align: right;\">       5598</td><td>21%         </td><td style=\"text-align: right;\">         37</td><td>f                    </td><td style=\"text-align: right;\">       0   </td><td style=\"text-align: right;\">           0   </td><td style=\"text-align: right;\">     12226.3 </td><td style=\"text-align: right;\">         12226.3 </td><td style=\"text-align: right;\">         10000   </td><td style=\"text-align: right;\">        2209.33</td><td style=\"text-align: right;\">               16.97</td><td style=\"text-align: right;\">        0   </td><td style=\"text-align: right;\">                     0   </td><td>2015-01-01 00:00:00</td><td style=\"text-align: right;\">           357.48</td><td>                   </td><td>2015-01-01 00:00:00 </td><td style=\"text-align: right;\">                           0</td><td>                             </td><td style=\"text-align: right;\">            1</td></tr>\n",
       "<tr><td style=\"text-align: right;\">1.07536e+06</td><td style=\"text-align: right;\">1.31175e+06</td><td style=\"text-align: right;\">       3000</td><td style=\"text-align: right;\">         3000</td><td style=\"text-align: right;\">             3000</td><td>60 months</td><td>12.69%    </td><td style=\"text-align: right;\">        67.79</td><td>B      </td><td>B5         </td><td>University Medical Group </td><td>1 year      </td><td>RENT            </td><td style=\"text-align: right;\">       80000</td><td>VERIFIED - income source</td><td>2011-12-01 00:00:00</td><td>Current      </td><td>n           </td><td>https://www.lendingclub.com/browse/loanDetail.action?loan_id=1075358</td><td>Borrower added on 12/21/11 > I plan on combining three large interest bills together and freeing up some extra each month to pay toward other bills.  I've always been a good payor but have found myself needing to make adjustments to my budget due to a medical scare. My job is very stable, I love it.<br>                                                                                                                                                                                                                                                                                            </td><td>other             </td><td>Personal                             </td><td>972xx     </td><td>OR          </td><td style=\"text-align: right;\">17.94</td><td style=\"text-align: right;\">            0</td><td>1996-01-01 00:00:00</td><td style=\"text-align: right;\">               0</td><td>38                      </td><td>                        </td><td style=\"text-align: right;\">        15</td><td style=\"text-align: right;\">        0</td><td style=\"text-align: right;\">      27783</td><td>53.9%       </td><td style=\"text-align: right;\">         38</td><td>f                    </td><td style=\"text-align: right;\">    1168.04</td><td style=\"text-align: right;\">        1168.04</td><td style=\"text-align: right;\">      2767.64</td><td style=\"text-align: right;\">          2767.64</td><td style=\"text-align: right;\">          1831.96</td><td style=\"text-align: right;\">         935.68</td><td style=\"text-align: right;\">                0   </td><td style=\"text-align: right;\">        0   </td><td style=\"text-align: right;\">                     0   </td><td>2015-06-01 00:00:00</td><td style=\"text-align: right;\">            67.79</td><td>2015-07-01 00:00:00</td><td>2015-06-01 00:00:00 </td><td style=\"text-align: right;\">                           0</td><td>                             </td><td style=\"text-align: right;\">            1</td></tr>\n",
       "<tr><td style=\"text-align: right;\">1.07527e+06</td><td style=\"text-align: right;\">1.31144e+06</td><td style=\"text-align: right;\">       5000</td><td style=\"text-align: right;\">         5000</td><td style=\"text-align: right;\">             5000</td><td>36 months</td><td>7.90%     </td><td style=\"text-align: right;\">       156.46</td><td>A      </td><td>A4         </td><td>Veolia Transportaton     </td><td>3 years     </td><td>RENT            </td><td style=\"text-align: right;\">       36000</td><td>VERIFIED - income source</td><td>2011-12-01 00:00:00</td><td>Fully Paid   </td><td>n           </td><td>https://www.lendingclub.com/browse/loanDetail.action?loan_id=1075269</td><td>                                                                                                                                                                                                                                                                                                                                                                                                                                                                                                                                                                                                            </td><td>wedding           </td><td>My wedding loan I promise to pay back</td><td>852xx     </td><td>AZ          </td><td style=\"text-align: right;\">11.2 </td><td style=\"text-align: right;\">            0</td><td>2004-11-01 00:00:00</td><td style=\"text-align: right;\">               3</td><td>                        </td><td>                        </td><td style=\"text-align: right;\">         9</td><td style=\"text-align: right;\">        0</td><td style=\"text-align: right;\">       7963</td><td>28.3%       </td><td style=\"text-align: right;\">         12</td><td>f                    </td><td style=\"text-align: right;\">       0   </td><td style=\"text-align: right;\">           0   </td><td style=\"text-align: right;\">      5631.38</td><td style=\"text-align: right;\">          5631.38</td><td style=\"text-align: right;\">          5000   </td><td style=\"text-align: right;\">         631.38</td><td style=\"text-align: right;\">                0   </td><td style=\"text-align: right;\">        0   </td><td style=\"text-align: right;\">                     0   </td><td>2015-01-01 00:00:00</td><td style=\"text-align: right;\">           161.03</td><td>                   </td><td>2015-06-01 00:00:00 </td><td style=\"text-align: right;\">                           0</td><td>                             </td><td style=\"text-align: right;\">            1</td></tr>\n",
       "<tr><td style=\"text-align: right;\">1.06964e+06</td><td style=\"text-align: right;\">1.30474e+06</td><td style=\"text-align: right;\">       7000</td><td style=\"text-align: right;\">         7000</td><td style=\"text-align: right;\">             7000</td><td>60 months</td><td>15.96%    </td><td style=\"text-align: right;\">       170.08</td><td>C      </td><td>C5         </td><td>Southern Star Photography</td><td>8 years     </td><td>RENT            </td><td style=\"text-align: right;\">       47004</td><td>not verified            </td><td>2011-12-01 00:00:00</td><td>Current      </td><td>n           </td><td>https://www.lendingclub.com/browse/loanDetail.action?loan_id=1069639</td><td>Borrower added on 12/18/11 > I am planning on using the funds to pay off two retail credit cards with 24.99% interest rates, as well as a major bank credit card with a 18.99% rate.  I pay all my bills on time, looking for a lower combined payment and lower monthly payment.<br>                                                                                                                                                                                                                                                                                                                       </td><td>debt_consolidation</td><td>Loan                                 </td><td>280xx     </td><td>NC          </td><td style=\"text-align: right;\">23.51</td><td style=\"text-align: right;\">            0</td><td>2005-07-01 00:00:00</td><td style=\"text-align: right;\">               1</td><td>                        </td><td>                        </td><td style=\"text-align: right;\">         7</td><td style=\"text-align: right;\">        0</td><td style=\"text-align: right;\">      17726</td><td>85.6%       </td><td style=\"text-align: right;\">         11</td><td>f                    </td><td style=\"text-align: right;\">    2853.21</td><td style=\"text-align: right;\">        2853.21</td><td style=\"text-align: right;\">      6946.28</td><td style=\"text-align: right;\">          6946.28</td><td style=\"text-align: right;\">          4146.8 </td><td style=\"text-align: right;\">        2799.48</td><td style=\"text-align: right;\">                0   </td><td style=\"text-align: right;\">        0   </td><td style=\"text-align: right;\">                     0   </td><td>2015-06-01 00:00:00</td><td style=\"text-align: right;\">           170.08</td><td>2015-08-01 00:00:00</td><td>2015-06-01 00:00:00 </td><td style=\"text-align: right;\">                           0</td><td>                             </td><td style=\"text-align: right;\">            1</td></tr>\n",
       "<tr><td style=\"text-align: right;\">1.07205e+06</td><td style=\"text-align: right;\">1.28869e+06</td><td style=\"text-align: right;\">       3000</td><td style=\"text-align: right;\">         3000</td><td style=\"text-align: right;\">             3000</td><td>36 months</td><td>18.64%    </td><td style=\"text-align: right;\">       109.43</td><td>E      </td><td>E1         </td><td>MKC Accounting           </td><td>9 years     </td><td>RENT            </td><td style=\"text-align: right;\">       48000</td><td>VERIFIED - income source</td><td>2011-12-01 00:00:00</td><td>Fully Paid   </td><td>n           </td><td>https://www.lendingclub.com/browse/loanDetail.action?loan_id=1072053</td><td>Borrower added on 12/16/11 > Downpayment for a car.<br>                                                                                                                                                                                                                                                                                                                                                                                                                                                                                                                                                     </td><td>car               </td><td>Car Downpayment                      </td><td>900xx     </td><td>CA          </td><td style=\"text-align: right;\"> 5.35</td><td style=\"text-align: right;\">            0</td><td>2007-01-01 00:00:00</td><td style=\"text-align: right;\">               2</td><td>                        </td><td>                        </td><td style=\"text-align: right;\">         4</td><td style=\"text-align: right;\">        0</td><td style=\"text-align: right;\">       8221</td><td>87.5%       </td><td style=\"text-align: right;\">          4</td><td>f                    </td><td style=\"text-align: right;\">       0   </td><td style=\"text-align: right;\">           0   </td><td style=\"text-align: right;\">      3938.14</td><td style=\"text-align: right;\">          3938.14</td><td style=\"text-align: right;\">          3000   </td><td style=\"text-align: right;\">         938.14</td><td style=\"text-align: right;\">                0   </td><td style=\"text-align: right;\">        0   </td><td style=\"text-align: right;\">                     0   </td><td>2015-01-01 00:00:00</td><td style=\"text-align: right;\">           111.34</td><td>                   </td><td>2014-12-01 00:00:00 </td><td style=\"text-align: right;\">                           0</td><td>                             </td><td style=\"text-align: right;\">            1</td></tr>\n",
       "<tr><td style=\"text-align: right;\">1.0718e+06 </td><td style=\"text-align: right;\">1.30696e+06</td><td style=\"text-align: right;\">       5600</td><td style=\"text-align: right;\">         5600</td><td style=\"text-align: right;\">             5600</td><td>60 months</td><td>21.28%    </td><td style=\"text-align: right;\">       152.39</td><td>F      </td><td>F2         </td><td>                         </td><td>4 years     </td><td>OWN             </td><td style=\"text-align: right;\">       40000</td><td>VERIFIED - income source</td><td>2011-12-01 00:00:00</td><td>Charged Off  </td><td>n           </td><td>https://www.lendingclub.com/browse/loanDetail.action?loan_id=1071795</td><td>Borrower added on 12/21/11 > I own a small home-based judgment collection business. I have 5 years experience collecting debts. I am now going from a home office to a small office. I also plan to buy a small debt portfolio (eg. $10K for $1M of debt) <br>My score is not A+ because I own my home and have no mortgage.<br>                                                                                                                                                                                                                                                                            </td><td>small_business    </td><td>Expand Business & Buy Debt Portfolio </td><td>958xx     </td><td>CA          </td><td style=\"text-align: right;\"> 5.55</td><td style=\"text-align: right;\">            0</td><td>2004-04-01 00:00:00</td><td style=\"text-align: right;\">               2</td><td>                        </td><td>                        </td><td style=\"text-align: right;\">        11</td><td style=\"text-align: right;\">        0</td><td style=\"text-align: right;\">       5210</td><td>32.6%       </td><td style=\"text-align: right;\">         13</td><td>f                    </td><td style=\"text-align: right;\">       0   </td><td style=\"text-align: right;\">           0   </td><td style=\"text-align: right;\">       646.02</td><td style=\"text-align: right;\">           646.02</td><td style=\"text-align: right;\">           162.02</td><td style=\"text-align: right;\">         294.94</td><td style=\"text-align: right;\">                0   </td><td style=\"text-align: right;\">      189.06</td><td style=\"text-align: right;\">                     2.09</td><td>2012-04-01 00:00:00</td><td style=\"text-align: right;\">           152.39</td><td>                   </td><td>2012-08-01 00:00:00 </td><td style=\"text-align: right;\">                           0</td><td>                             </td><td style=\"text-align: right;\">            1</td></tr>\n",
       "<tr><td style=\"text-align: right;\">1.07157e+06</td><td style=\"text-align: right;\">1.30672e+06</td><td style=\"text-align: right;\">       5375</td><td style=\"text-align: right;\">         5375</td><td style=\"text-align: right;\">             5350</td><td>60 months</td><td>12.69%    </td><td style=\"text-align: right;\">       121.45</td><td>B      </td><td>B5         </td><td>Starbucks                </td><td>< 1 year    </td><td>RENT            </td><td style=\"text-align: right;\">       15000</td><td>VERIFIED - income       </td><td>2011-12-01 00:00:00</td><td>Charged Off  </td><td>n           </td><td>https://www.lendingclub.com/browse/loanDetail.action?loan_id=1071570</td><td>Borrower added on 12/16/11 > I'm trying to build up my credit history. I live with my brother and have no car payment or credit cards. I am in community college and work full time. Im going to use the money to make some repairs around the house and get some maintenance done on my car.<br><br>  Borrower added on 12/20/11 > $1000 down only $4375 to go. Thanks to everyone that invested so far, looking forward to surprising my brother with the fixes around the house.<br>                                                                                                                     </td><td>other             </td><td>Building my credit history.          </td><td>774xx     </td><td>TX          </td><td style=\"text-align: right;\">18.08</td><td style=\"text-align: right;\">            0</td><td>2004-09-01 00:00:00</td><td style=\"text-align: right;\">               0</td><td>                        </td><td>                        </td><td style=\"text-align: right;\">         2</td><td style=\"text-align: right;\">        0</td><td style=\"text-align: right;\">       9279</td><td>36.5%       </td><td style=\"text-align: right;\">          3</td><td>f                    </td><td style=\"text-align: right;\">       0   </td><td style=\"text-align: right;\">           0   </td><td style=\"text-align: right;\">      1476.19</td><td style=\"text-align: right;\">          1469.34</td><td style=\"text-align: right;\">           673.48</td><td style=\"text-align: right;\">         533.42</td><td style=\"text-align: right;\">                0   </td><td style=\"text-align: right;\">      269.29</td><td style=\"text-align: right;\">                     2.52</td><td>2012-11-01 00:00:00</td><td style=\"text-align: right;\">           121.45</td><td>                   </td><td>2013-03-01 00:00:00 </td><td style=\"text-align: right;\">                           0</td><td>                             </td><td style=\"text-align: right;\">            1</td></tr>\n",
       "</tbody>\n",
       "</table>"
      ]
     },
     "metadata": {},
     "output_type": "display_data"
    },
    {
     "data": {
      "text/plain": []
     },
     "execution_count": 3,
     "metadata": {},
     "output_type": "execute_result"
    }
   ],
   "source": [
    "data.head()"
   ]
  },
  {
   "cell_type": "markdown",
   "metadata": {},
   "source": [
    "Our dataset is still in the raw form.  We will first need to create our target variable which indicates if the loan was fully paid off.  There are, however, loans that are still currently being paid off.  We will want to remove these loans from our data since we do not know if they will be fully paid off or not in the future."
   ]
  },
  {
   "cell_type": "code",
   "execution_count": 4,
   "metadata": {
    "collapsed": false,
    "scrolled": true
   },
   "outputs": [
    {
     "data": {
      "text/html": [
       "<table>\n",
       "<thead>\n",
       "<tr><th>loan_status                                             </th><th style=\"text-align: right;\">  Count</th></tr>\n",
       "</thead>\n",
       "<tbody>\n",
       "<tr><td>Charged Off                                             </td><td style=\"text-align: right;\">   5435</td></tr>\n",
       "<tr><td>Current                                                 </td><td style=\"text-align: right;\">   3351</td></tr>\n",
       "<tr><td>Default                                                 </td><td style=\"text-align: right;\">      7</td></tr>\n",
       "<tr><td>Does not meet the credit policy.  Status:Charged Off    </td><td style=\"text-align: right;\">    761</td></tr>\n",
       "<tr><td>Does not meet the credit policy.  Status:Current        </td><td style=\"text-align: right;\">     53</td></tr>\n",
       "<tr><td>Does not meet the credit policy.  Status:Fully Paid     </td><td style=\"text-align: right;\">   1933</td></tr>\n",
       "<tr><td>Does not meet the credit policy.  Status:In Grace Period</td><td style=\"text-align: right;\">      2</td></tr>\n",
       "<tr><td>Fully Paid                                              </td><td style=\"text-align: right;\">  30843</td></tr>\n",
       "<tr><td>In Grace Period                                         </td><td style=\"text-align: right;\">     60</td></tr>\n",
       "<tr><td>Late (16-30 days)                                       </td><td style=\"text-align: right;\">     16</td></tr>\n",
       "</tbody>\n",
       "</table>"
      ]
     },
     "metadata": {},
     "output_type": "display_data"
    },
    {
     "data": {
      "text/plain": []
     },
     "execution_count": 4,
     "metadata": {},
     "output_type": "execute_result"
    }
   ],
   "source": [
    "data[\"loan_status\"].table()"
   ]
  },
  {
   "cell_type": "code",
   "execution_count": 5,
   "metadata": {
    "collapsed": false
   },
   "outputs": [],
   "source": [
    "# Drop all loans that are still in progess and therefore cannot be deemed good/bad loans\n",
    "to_remove = [\"Current\", \"In Grace Period\", \"Late (16-30 days)\", \"Late (31-120 days)\"]\n",
    "data = data[data[\"loan_status\"].isin(to_remove).logical_negation(), :]"
   ]
  },
  {
   "cell_type": "code",
   "execution_count": 6,
   "metadata": {
    "collapsed": true
   },
   "outputs": [],
   "source": [
    "# Make target column\n",
    "data[\"bad_loan\"] = (data[\"loan_status\"] == \"Fully Paid\").logical_negation()\n",
    "data[\"bad_loan\"] = data[\"bad_loan\"].asfactor()"
   ]
  },
  {
   "cell_type": "markdown",
   "metadata": {},
   "source": [
    "Now we have a binary target column called `bad_loan` indicate if the loan was not fully paid off."
   ]
  },
  {
   "cell_type": "code",
   "execution_count": 7,
   "metadata": {
    "collapsed": false
   },
   "outputs": [
    {
     "data": {
      "text/html": [
       "<table>\n",
       "<thead>\n",
       "<tr><th style=\"text-align: right;\">  bad_loan</th><th style=\"text-align: right;\">  Count</th></tr>\n",
       "</thead>\n",
       "<tbody>\n",
       "<tr><td style=\"text-align: right;\">         0</td><td style=\"text-align: right;\">  30843</td></tr>\n",
       "<tr><td style=\"text-align: right;\">         1</td><td style=\"text-align: right;\">   8194</td></tr>\n",
       "</tbody>\n",
       "</table>"
      ]
     },
     "metadata": {},
     "output_type": "display_data"
    },
    {
     "data": {
      "text/plain": []
     },
     "execution_count": 7,
     "metadata": {},
     "output_type": "execute_result"
    }
   ],
   "source": [
    "data[\"bad_loan\"].table()"
   ]
  },
  {
   "cell_type": "markdown",
   "metadata": {},
   "source": [
    "We will now do some data cleaning.  The columns `revol_util` and `emp_length` are being treated as categoricals instead of numeric because the unit of measure is included.  Machine learning algorithms will treat this as a categorical and will not understand that 8 years is closer to 9 years than 1 year.  To recitify this, we will use H2O to remove the units of measure and convert the column to numeric."
   ]
  },
  {
   "cell_type": "code",
   "execution_count": 8,
   "metadata": {
    "collapsed": false
   },
   "outputs": [
    {
     "data": {
      "text/html": [
       "<table>\n",
       "<thead>\n",
       "<tr><th>revol_util  </th><th>emp_length  </th></tr>\n",
       "</thead>\n",
       "<tbody>\n",
       "<tr><td>83.7%       </td><td>10+ years   </td></tr>\n",
       "<tr><td>9.4%        </td><td>< 1 year    </td></tr>\n",
       "<tr><td>98.5%       </td><td>10+ years   </td></tr>\n",
       "<tr><td>21%         </td><td>10+ years   </td></tr>\n",
       "<tr><td>28.3%       </td><td>3 years     </td></tr>\n",
       "<tr><td>87.5%       </td><td>9 years     </td></tr>\n",
       "<tr><td>32.6%       </td><td>4 years     </td></tr>\n",
       "<tr><td>36.5%       </td><td>< 1 year    </td></tr>\n",
       "<tr><td>20.6%       </td><td>5 years     </td></tr>\n",
       "<tr><td>67.1%       </td><td>10+ years   </td></tr>\n",
       "</tbody>\n",
       "</table>"
      ]
     },
     "metadata": {},
     "output_type": "display_data"
    },
    {
     "data": {
      "text/plain": []
     },
     "execution_count": 8,
     "metadata": {},
     "output_type": "execute_result"
    }
   ],
   "source": [
    "data[[\"revol_util\", \"emp_length\"]]"
   ]
  },
  {
   "cell_type": "code",
   "execution_count": 9,
   "metadata": {
    "collapsed": false
   },
   "outputs": [
    {
     "data": {
      "text/html": [
       "<table>\n",
       "<thead>\n",
       "<tr><th style=\"text-align: right;\">  revol_util</th></tr>\n",
       "</thead>\n",
       "<tbody>\n",
       "<tr><td style=\"text-align: right;\">         943</td></tr>\n",
       "<tr><td style=\"text-align: right;\">        1012</td></tr>\n",
       "<tr><td style=\"text-align: right;\">        1105</td></tr>\n",
       "<tr><td style=\"text-align: right;\">         191</td></tr>\n",
       "<tr><td style=\"text-align: right;\">         277</td></tr>\n",
       "<tr><td style=\"text-align: right;\">         981</td></tr>\n",
       "<tr><td style=\"text-align: right;\">         336</td></tr>\n",
       "<tr><td style=\"text-align: right;\">         381</td></tr>\n",
       "<tr><td style=\"text-align: right;\">         187</td></tr>\n",
       "<tr><td style=\"text-align: right;\">         744</td></tr>\n",
       "</tbody>\n",
       "</table>"
      ]
     },
     "metadata": {},
     "output_type": "display_data"
    }
   ],
   "source": [
    "# Data cleaning of revol_util\n",
    "\n",
    "data[\"revol_util\"] = data[\"revol_util\"].gsub(pattern = \"%\", replacement = \"\")\n",
    "data[\"revol_util\"] = data[\"revol_util\"].trim() \n",
    "data[\"revol_util\"] = data[\"revol_util\"].asnumeric() \n",
    "data[\"revol_util\"].show()"
   ]
  },
  {
   "cell_type": "code",
   "execution_count": 10,
   "metadata": {
    "collapsed": false
   },
   "outputs": [
    {
     "data": {
      "text/html": [
       "<table>\n",
       "<thead>\n",
       "<tr><th style=\"text-align: right;\">  emp_length</th></tr>\n",
       "</thead>\n",
       "<tbody>\n",
       "<tr><td style=\"text-align: right;\">          10</td></tr>\n",
       "<tr><td style=\"text-align: right;\">           0</td></tr>\n",
       "<tr><td style=\"text-align: right;\">          10</td></tr>\n",
       "<tr><td style=\"text-align: right;\">          10</td></tr>\n",
       "<tr><td style=\"text-align: right;\">           3</td></tr>\n",
       "<tr><td style=\"text-align: right;\">           9</td></tr>\n",
       "<tr><td style=\"text-align: right;\">           4</td></tr>\n",
       "<tr><td style=\"text-align: right;\">           0</td></tr>\n",
       "<tr><td style=\"text-align: right;\">           5</td></tr>\n",
       "<tr><td style=\"text-align: right;\">          10</td></tr>\n",
       "</tbody>\n",
       "</table>"
      ]
     },
     "metadata": {},
     "output_type": "display_data"
    }
   ],
   "source": [
    "# Data cleaning of emp_length\n",
    "data[\"emp_length\"] = data[\"emp_length\"].ascharacter()\n",
    "data[\"emp_length\"] = data[\"emp_length\"].gsub(pattern = \"([ ]*+[a-zA-Z].*)|(n/a)\", replacement = \"\") \n",
    "data[\"emp_length\"] = data[\"emp_length\"].trim()\n",
    "data[\"emp_length\"] = data[\"emp_length\"].gsub(pattern = \"< 1\", replacement = \"0\")\n",
    "data[\"emp_length\"] = data[\"emp_length\"].gsub(pattern = \"10\\\\+\", replacement = \"10\")\n",
    "data[\"emp_length\"] = data[\"emp_length\"].asnumeric()\n",
    "data[\"emp_length\"].show()"
   ]
  },
  {
   "cell_type": "markdown",
   "metadata": {},
   "source": [
    "Our last cleaning step will be to remove all columns that are not relevant to our use case.  Some columns we will not use because they have data leakage. Data leakage means the column has information that we will not know at the time a person applies for a loan."
   ]
  },
  {
   "cell_type": "code",
   "execution_count": 11,
   "metadata": {
    "collapsed": true
   },
   "outputs": [],
   "source": [
    "# Filter to relevant columns\n",
    "cols = [\"purpose\", \"desc\", \"addr_state\", \"term\", \"emp_length\", \"home_ownership\", \"annual_inc\", \"dti\", \"delinq_2yrs\", \n",
    "        \"revol_util\", \"total_acc\", \"bad_loan\", \"issue_d\", \"earliest_cr_line\", \"verification_status\"]"
   ]
  },
  {
   "cell_type": "code",
   "execution_count": 12,
   "metadata": {
    "collapsed": false
   },
   "outputs": [
    {
     "data": {
      "text/html": [
       "<table>\n",
       "<thead>\n",
       "<tr><th>purpose           </th><th>desc                                                                                                                                                                                                                                                                                                                                                                                                                                                                                                                                                                                                        </th><th>addr_state  </th><th>term     </th><th style=\"text-align: right;\">  emp_length</th><th>home_ownership  </th><th style=\"text-align: right;\">  annual_inc</th><th style=\"text-align: right;\">  dti</th><th style=\"text-align: right;\">  delinq_2yrs</th><th style=\"text-align: right;\">  revol_util</th><th style=\"text-align: right;\">  total_acc</th><th style=\"text-align: right;\">  bad_loan</th><th>issue_d            </th><th>earliest_cr_line   </th><th>verification_status     </th></tr>\n",
       "</thead>\n",
       "<tbody>\n",
       "<tr><td>credit_card       </td><td>Borrower added on 12/22/11 > I need to upgrade my business technologies.<br>                                                                                                                                                                                                                                                                                                                                                                                                                                                                                                                                </td><td>AZ          </td><td>36 months</td><td style=\"text-align: right;\">          10</td><td>RENT            </td><td style=\"text-align: right;\">       24000</td><td style=\"text-align: right;\">27.65</td><td style=\"text-align: right;\">            0</td><td style=\"text-align: right;\">         943</td><td style=\"text-align: right;\">          9</td><td style=\"text-align: right;\">         0</td><td>2011-12-01 00:00:00</td><td>1985-01-01 00:00:00</td><td>VERIFIED - income       </td></tr>\n",
       "<tr><td>car               </td><td>Borrower added on 12/22/11 > I plan to use this money to finance the motorcycle i am looking at. I plan to have it paid off as soon as possible/when i sell my old bike. I only need this money because the deal im looking at is to good to pass up.<br><br>  Borrower added on 12/22/11 > I plan to use this money to finance the motorcycle i am looking at. I plan to have it paid off as soon as possible/when i sell my old bike.I only need this money because the deal im looking at is to good to pass up. I have finished college with an associates degree in business and its takingmeplaces<br></td><td>GA          </td><td>60 months</td><td style=\"text-align: right;\">           0</td><td>RENT            </td><td style=\"text-align: right;\">       30000</td><td style=\"text-align: right;\"> 1   </td><td style=\"text-align: right;\">            0</td><td style=\"text-align: right;\">        1012</td><td style=\"text-align: right;\">          4</td><td style=\"text-align: right;\">         1</td><td>2011-12-01 00:00:00</td><td>1999-04-01 00:00:00</td><td>VERIFIED - income source</td></tr>\n",
       "<tr><td>small_business    </td><td>                                                                                                                                                                                                                                                                                                                                                                                                                                                                                                                                                                                                            </td><td>IL          </td><td>36 months</td><td style=\"text-align: right;\">          10</td><td>RENT            </td><td style=\"text-align: right;\">       12252</td><td style=\"text-align: right;\"> 8.72</td><td style=\"text-align: right;\">            0</td><td style=\"text-align: right;\">        1105</td><td style=\"text-align: right;\">         10</td><td style=\"text-align: right;\">         0</td><td>2011-12-01 00:00:00</td><td>2001-11-01 00:00:00</td><td>not verified            </td></tr>\n",
       "<tr><td>other             </td><td>Borrower added on 12/21/11 > to pay for property tax (borrow from friend, need to pay back) & central A/C need to be replace. I'm very sorry to let my loan expired last time.<br>                                                                                                                                                                                                                                                                                                                                                                                                                          </td><td>CA          </td><td>36 months</td><td style=\"text-align: right;\">          10</td><td>RENT            </td><td style=\"text-align: right;\">       49200</td><td style=\"text-align: right;\">20   </td><td style=\"text-align: right;\">            0</td><td style=\"text-align: right;\">         191</td><td style=\"text-align: right;\">         37</td><td style=\"text-align: right;\">         0</td><td>2011-12-01 00:00:00</td><td>1996-02-01 00:00:00</td><td>VERIFIED - income source</td></tr>\n",
       "<tr><td>wedding           </td><td>                                                                                                                                                                                                                                                                                                                                                                                                                                                                                                                                                                                                            </td><td>AZ          </td><td>36 months</td><td style=\"text-align: right;\">           3</td><td>RENT            </td><td style=\"text-align: right;\">       36000</td><td style=\"text-align: right;\">11.2 </td><td style=\"text-align: right;\">            0</td><td style=\"text-align: right;\">         277</td><td style=\"text-align: right;\">         12</td><td style=\"text-align: right;\">         0</td><td>2011-12-01 00:00:00</td><td>2004-11-01 00:00:00</td><td>VERIFIED - income source</td></tr>\n",
       "<tr><td>car               </td><td>Borrower added on 12/16/11 > Downpayment for a car.<br>                                                                                                                                                                                                                                                                                                                                                                                                                                                                                                                                                     </td><td>CA          </td><td>36 months</td><td style=\"text-align: right;\">           9</td><td>RENT            </td><td style=\"text-align: right;\">       48000</td><td style=\"text-align: right;\"> 5.35</td><td style=\"text-align: right;\">            0</td><td style=\"text-align: right;\">         981</td><td style=\"text-align: right;\">          4</td><td style=\"text-align: right;\">         0</td><td>2011-12-01 00:00:00</td><td>2007-01-01 00:00:00</td><td>VERIFIED - income source</td></tr>\n",
       "<tr><td>small_business    </td><td>Borrower added on 12/21/11 > I own a small home-based judgment collection business. I have 5 years experience collecting debts. I am now going from a home office to a small office. I also plan to buy a small debt portfolio (eg. $10K for $1M of debt) <br>My score is not A+ because I own my home and have no mortgage.<br>                                                                                                                                                                                                                                                                            </td><td>CA          </td><td>60 months</td><td style=\"text-align: right;\">           4</td><td>OWN             </td><td style=\"text-align: right;\">       40000</td><td style=\"text-align: right;\"> 5.55</td><td style=\"text-align: right;\">            0</td><td style=\"text-align: right;\">         336</td><td style=\"text-align: right;\">         13</td><td style=\"text-align: right;\">         1</td><td>2011-12-01 00:00:00</td><td>2004-04-01 00:00:00</td><td>VERIFIED - income source</td></tr>\n",
       "<tr><td>other             </td><td>Borrower added on 12/16/11 > I'm trying to build up my credit history. I live with my brother and have no car payment or credit cards. I am in community college and work full time. Im going to use the money to make some repairs around the house and get some maintenance done on my car.<br><br>  Borrower added on 12/20/11 > $1000 down only $4375 to go. Thanks to everyone that invested so far, looking forward to surprising my brother with the fixes around the house.<br>                                                                                                                     </td><td>TX          </td><td>60 months</td><td style=\"text-align: right;\">           0</td><td>RENT            </td><td style=\"text-align: right;\">       15000</td><td style=\"text-align: right;\">18.08</td><td style=\"text-align: right;\">            0</td><td style=\"text-align: right;\">         381</td><td style=\"text-align: right;\">          3</td><td style=\"text-align: right;\">         1</td><td>2011-12-01 00:00:00</td><td>2004-09-01 00:00:00</td><td>VERIFIED - income       </td></tr>\n",
       "<tr><td>debt_consolidation</td><td>Borrower added on 12/15/11 > I had recived a loan from Citi Financial about a year ago, I was paying 29.99 intrest, so the refinance is to cut that rate since cleaning up my credit I have been paying everything on time as shown on my credit report<br>                                                                                                                                                                                                                                                                                                                                                 </td><td>AZ          </td><td>60 months</td><td style=\"text-align: right;\">           5</td><td>OWN             </td><td style=\"text-align: right;\">       72000</td><td style=\"text-align: right;\">16.12</td><td style=\"text-align: right;\">            0</td><td style=\"text-align: right;\">         187</td><td style=\"text-align: right;\">         23</td><td style=\"text-align: right;\">         0</td><td>2011-12-01 00:00:00</td><td>1998-01-01 00:00:00</td><td>not verified            </td></tr>\n",
       "<tr><td>debt_consolidation</td><td>                                                                                                                                                                                                                                                                                                                                                                                                                                                                                                                                                                                                            </td><td>CA          </td><td>36 months</td><td style=\"text-align: right;\">          10</td><td>OWN             </td><td style=\"text-align: right;\">       75000</td><td style=\"text-align: right;\">10.78</td><td style=\"text-align: right;\">            0</td><td style=\"text-align: right;\">         744</td><td style=\"text-align: right;\">         34</td><td style=\"text-align: right;\">         0</td><td>2011-12-01 00:00:00</td><td>1989-10-01 00:00:00</td><td>VERIFIED - income source</td></tr>\n",
       "</tbody>\n",
       "</table>"
      ]
     },
     "metadata": {},
     "output_type": "display_data"
    },
    {
     "data": {
      "text/plain": []
     },
     "execution_count": 12,
     "metadata": {},
     "output_type": "execute_result"
    }
   ],
   "source": [
    "data = data[cols]\n",
    "data.head()"
   ]
  },
  {
   "cell_type": "markdown",
   "metadata": {},
   "source": [
    "## Step 2. Train Baseline Model\n",
    "\n",
    "We will train an initial model.  The goal of our initial model is to provide a baseline AUC that we will try to beat with our feature engineering. \n",
    "\n",
    "We will start by splitting the data into training and testing by time.  Our testing data will consist of the last two months of data (2011/11 and 2011/12)."
   ]
  },
  {
   "cell_type": "code",
   "execution_count": 13,
   "metadata": {
    "collapsed": true
   },
   "outputs": [],
   "source": [
    "is_train = ~((data[\"issue_d\"].year() == 2011) and (data[\"issue_d\"].month() >= 11))\n",
    "\n",
    "train = data[is_train == 1]\n",
    "test = data[is_train == 0]"
   ]
  },
  {
   "cell_type": "code",
   "execution_count": 14,
   "metadata": {
    "collapsed": true
   },
   "outputs": [],
   "source": [
    "target = \"bad_loan\"\n",
    "predictors = list(set(train.col_names) - set([target]))"
   ]
  },
  {
   "cell_type": "code",
   "execution_count": 15,
   "metadata": {
    "collapsed": false
   },
   "outputs": [
    {
     "name": "stdout",
     "output_type": "stream",
     "text": [
      "gbm Model Build progress: |███████████████████████████████████████████████| 100%\n"
     ]
    }
   ],
   "source": [
    "# Train initial GBM model\n",
    "from h2o.estimators import H2OGradientBoostingEstimator\n",
    "\n",
    "gbm_baseline = H2OGradientBoostingEstimator(seed = 1234, model_id = \"gbm_baseline.hex\", \n",
    "                                            ntrees = 500, \n",
    "                                            stopping_rounds = 10, score_tree_interval = 5, # early stopping\n",
    "                                            stopping_metric = \"AUC\",\n",
    "                                            nfolds = 5 # 5-fold cross validation\n",
    "                                           )\n",
    "gbm_baseline.train(x = predictors, y = target, training_frame = train)"
   ]
  },
  {
   "cell_type": "code",
   "execution_count": 16,
   "metadata": {
    "collapsed": false
   },
   "outputs": [
    {
     "name": "stdout",
     "output_type": "stream",
     "text": [
      "AUC on CV: 0.719\n"
     ]
    }
   ],
   "source": [
    "print(\"AUC on CV: \" + str(round(gbm_baseline.auc(xval = True), 3)))"
   ]
  },
  {
   "cell_type": "code",
   "execution_count": 17,
   "metadata": {
    "collapsed": false
   },
   "outputs": [
    {
     "data": {
      "image/png": "[encoded data removed]",
      "text/plain": [
       "<matplotlib.figure.Figure at 0x11694a0f0>"
      ]
     },
     "metadata": {},
     "output_type": "display_data"
    }
   ],
   "source": [
    "gbm_baseline.varimp_plot()"
   ]
  },
  {
   "cell_type": "markdown",
   "metadata": {},
   "source": [
    "## Step 3. Convert Text to Word Embeddings\n",
    "\n",
    "Our dataset has a text column called `desc`.  We will convert this string to word embeddings so that it can be more useful to our supervised learning model."
   ]
  },
  {
   "cell_type": "code",
   "execution_count": 18,
   "metadata": {
    "collapsed": false,
    "scrolled": true
   },
   "outputs": [
    {
     "data": {
      "text/html": [
       "<table>\n",
       "<thead>\n",
       "<tr><th>desc                                                                                                                                                                                                                                                                                                                                                                                                                                                                                                                                                                                                        </th></tr>\n",
       "</thead>\n",
       "<tbody>\n",
       "<tr><td>Borrower added on 12/22/11 > I need to upgrade my business technologies.<br>                                                                                                                                                                                                                                                                                                                                                                                                                                                                                                                                </td></tr>\n",
       "<tr><td>Borrower added on 12/22/11 > I plan to use this money to finance the motorcycle i am looking at. I plan to have it paid off as soon as possible/when i sell my old bike. I only need this money because the deal im looking at is to good to pass up.<br><br>  Borrower added on 12/22/11 > I plan to use this money to finance the motorcycle i am looking at. I plan to have it paid off as soon as possible/when i sell my old bike.I only need this money because the deal im looking at is to good to pass up. I have finished college with an associates degree in business and its takingmeplaces<br></td></tr>\n",
       "<tr><td>                                                                                                                                                                                                                                                                                                                                                                                                                                                                                                                                                                                                            </td></tr>\n",
       "<tr><td>Borrower added on 12/21/11 > to pay for property tax (borrow from friend, need to pay back) & central A/C need to be replace. I'm very sorry to let my loan expired last time.<br>                                                                                                                                                                                                                                                                                                                                                                                                                          </td></tr>\n",
       "<tr><td>                                                                                                                                                                                                                                                                                                                                                                                                                                                                                                                                                                                                            </td></tr>\n",
       "<tr><td>Borrower added on 12/16/11 > Downpayment for a car.<br>                                                                                                                                                                                                                                                                                                                                                                                                                                                                                                                                                     </td></tr>\n",
       "<tr><td>Borrower added on 12/21/11 > I own a small home-based judgment collection business. I have 5 years experience collecting debts. I am now going from a home office to a small office. I also plan to buy a small debt portfolio (eg. $10K for $1M of debt) <br>My score is not A+ because I own my home and have no mortgage.<br>                                                                                                                                                                                                                                                                            </td></tr>\n",
       "<tr><td>Borrower added on 12/16/11 > I'm trying to build up my credit history. I live with my brother and have no car payment or credit cards. I am in community college and work full time. Im going to use the money to make some repairs around the house and get some maintenance done on my car.<br><br>  Borrower added on 12/20/11 > $1000 down only $4375 to go. Thanks to everyone that invested so far, looking forward to surprising my brother with the fixes around the house.<br>                                                                                                                     </td></tr>\n",
       "<tr><td>Borrower added on 12/15/11 > I had recived a loan from Citi Financial about a year ago, I was paying 29.99 intrest, so the refinance is to cut that rate since cleaning up my credit I have been paying everything on time as shown on my credit report<br>                                                                                                                                                                                                                                                                                                                                                 </td></tr>\n",
       "<tr><td>                                                                                                                                                                                                                                                                                                                                                                                                                                                                                                                                                                                                            </td></tr>\n",
       "</tbody>\n",
       "</table>"
      ]
     },
     "metadata": {},
     "output_type": "display_data"
    },
    {
     "data": {
      "text/plain": []
     },
     "execution_count": 18,
     "metadata": {},
     "output_type": "execute_result"
    }
   ],
   "source": [
    "data[\"desc\"]"
   ]
  },
  {
   "cell_type": "markdown",
   "metadata": {},
   "source": [
    "We will first examine the performance of our model if we remove the `desc` variable from the model.  "
   ]
  },
  {
   "cell_type": "code",
   "execution_count": 19,
   "metadata": {
    "collapsed": false
   },
   "outputs": [
    {
     "name": "stdout",
     "output_type": "stream",
     "text": [
      "gbm Model Build progress: |███████████████████████████████████████████████| 100%\n"
     ]
    }
   ],
   "source": [
    "# Train initial GBM model\n",
    "gbm_no_desc = H2OGradientBoostingEstimator(seed = 1234, model_id = \"gbm_baseline.hex\", \n",
    "                                           ntrees = 500, \n",
    "                                           stopping_rounds = 10, score_tree_interval = 5, # early stopping\n",
    "                                           stopping_metric = \"AUC\",\n",
    "                                           nfolds = 5 # 5-fold cross validation\n",
    "                                          )\n",
    "gbm_no_desc.train(x = list(set(predictors) - set([\"desc\"])), y = target, training_frame = train)"
   ]
  },
  {
   "cell_type": "code",
   "execution_count": 20,
   "metadata": {
    "collapsed": false
   },
   "outputs": [
    {
     "name": "stdout",
     "output_type": "stream",
     "text": [
      "AUC on CV - Baseline: 0.719\n",
      "AUC on CV - without Desc: 0.721\n"
     ]
    }
   ],
   "source": [
    "print(\"AUC on CV - Baseline: \" + str(round(gbm_baseline.auc(xval = True), 3)))\n",
    "print(\"AUC on CV - without Desc: \" + str(round(gbm_no_desc.auc(xval = True), 3)))"
   ]
  },
  {
   "cell_type": "markdown",
   "metadata": {},
   "source": [
    "The performance of our model is much better if we do not use `desc` as a predictor.  This could be because the algorithm has a hard time understanding the text. We will instead convert it to numeric vectors by using the Word2Vec algorithm.\n",
    "\n",
    "Our first step will be to tokenize the `desc` column.  This splits the descriptions by word.  Our function will also:\n",
    "\n",
    "* convert all words to lowercase\n",
    "* remove words with numbers\n",
    "* remove words with only 1 letter\n",
    "* remove stop words (stop words are defined by the nltk package)"
   ]
  },
  {
   "cell_type": "code",
   "execution_count": 21,
   "metadata": {
    "collapsed": false
   },
   "outputs": [
    {
     "data": {
      "text/plain": [
       "['i', 'me', 'my', 'myself', 'we']"
      ]
     },
     "execution_count": 21,
     "metadata": {},
     "output_type": "execute_result"
    }
   ],
   "source": [
    "from nltk.corpus import stopwords\n",
    "STOP_WORDS = stopwords.words('english')\n",
    "STOP_WORDS[0:5]"
   ]
  },
  {
   "cell_type": "code",
   "execution_count": 22,
   "metadata": {
    "collapsed": true
   },
   "outputs": [],
   "source": [
    "def tokenize(sentences, stop_word = STOP_WORDS):\n",
    "    tokenized = sentences.tokenize(\"\\\\W+\")\n",
    "    tokenized_lower = tokenized.tolower()\n",
    "    tokenized_filtered = tokenized_lower[(tokenized_lower.nchar() >= 2) | (tokenized_lower.isna()),:]\n",
    "    tokenized_words = tokenized_filtered[tokenized_filtered.grep(\"[0-9]\",invert=True,output_logical=True),:]\n",
    "    tokenized_words = tokenized_words[(tokenized_words.isna()) | (~ tokenized_words.isin(STOP_WORDS)),:]\n",
    "    return tokenized_words"
   ]
  },
  {
   "cell_type": "code",
   "execution_count": 23,
   "metadata": {
    "collapsed": false
   },
   "outputs": [],
   "source": [
    "# Break desc into sequence of words\n",
    "desc = tokenize(train[\"desc\"].ascharacter())"
   ]
  },
  {
   "cell_type": "markdown",
   "metadata": {},
   "source": [
    "Now we have our the tokenized `desc`, we can train our Word2Vec model.  This will learn the word embeddings that will represent each word."
   ]
  },
  {
   "cell_type": "code",
   "execution_count": 24,
   "metadata": {
    "collapsed": false
   },
   "outputs": [
    {
     "name": "stdout",
     "output_type": "stream",
     "text": [
      "word2vec Model Build progress: |██████████████████████████████████████████| 100%\n"
     ]
    }
   ],
   "source": [
    "from h2o.estimators.word2vec import H2OWord2vecEstimator\n",
    "\n",
    "# This takes time to run - left commented out\n",
    "w2v_model = H2OWord2vecEstimator(vec_size = 100, model_id = \"w2v.hex\")\n",
    "w2v_model.train(training_frame=desc)"
   ]
  },
  {
   "cell_type": "markdown",
   "metadata": {},
   "source": [
    "We can use the Word2Vec model to find synonyms.  Synonyms are defined as words with small cosine distance between their word embeddings.  Words that have similar word embeddings should have similar meanings.  \n",
    "\n",
    "We can test the understanding of our Word2Vec model by finding synonyms for the words `wedding` and `car`."
   ]
  },
  {
   "cell_type": "code",
   "execution_count": 25,
   "metadata": {
    "collapsed": false
   },
   "outputs": [
    {
     "data": {
      "text/plain": [
       "OrderedDict([('honeymoon', 0.8067679405212402),\n",
       "             ('ceremony', 0.7539779543876648),\n",
       "             ('guests', 0.6756937503814697),\n",
       "             ('invitations', 0.6737778186798096),\n",
       "             ('reception', 0.6730184555053711)])"
      ]
     },
     "execution_count": 25,
     "metadata": {},
     "output_type": "execute_result"
    }
   ],
   "source": [
    "# Sanity check - find synonyms for the word 'wedding'\n",
    "w2v_model.find_synonyms(\"wedding\", count = 5)"
   ]
  },
  {
   "cell_type": "code",
   "execution_count": 26,
   "metadata": {
    "collapsed": false
   },
   "outputs": [
    {
     "data": {
      "text/plain": [
       "OrderedDict([('auto', 0.7344753742218018),\n",
       "             ('vehicle', 0.7109878659248352),\n",
       "             ('convertible', 0.6764197945594788),\n",
       "             ('lexus', 0.6660585999488831),\n",
       "             ('mercedes', 0.6648411154747009)])"
      ]
     },
     "execution_count": 26,
     "metadata": {},
     "output_type": "execute_result"
    }
   ],
   "source": [
    "# Sanity check - find synonyms for the word 'car'\n",
    "w2v_model.find_synonyms(\"car\", count = 5)"
   ]
  },
  {
   "cell_type": "markdown",
   "metadata": {},
   "source": [
    "Now we can add the word embeddings as new features in our data.  There are multiple words for each description so we will need to aggregate our word embeddings so that there is a single vector of word embeddings per loan.  We will do this by averaging the word embeddings using the `aggregate_method = \"AVERAGE\"`."
   ]
  },
  {
   "cell_type": "code",
   "execution_count": 27,
   "metadata": {
    "collapsed": true
   },
   "outputs": [],
   "source": [
    "# Calculate a vector for each desc\n",
    "train_desc_vecs = w2v_model.transform(desc, aggregate_method = \"AVERAGE\")"
   ]
  },
  {
   "cell_type": "code",
   "execution_count": 28,
   "metadata": {
    "collapsed": false
   },
   "outputs": [
    {
     "data": {
      "text/html": [
       "<table>\n",
       "<thead>\n",
       "<tr><th style=\"text-align: right;\">         C1</th><th style=\"text-align: right;\">         C2</th><th style=\"text-align: right;\">          C3</th><th style=\"text-align: right;\">          C4</th><th style=\"text-align: right;\">          C5</th><th style=\"text-align: right;\">          C6</th><th style=\"text-align: right;\">        C7</th><th style=\"text-align: right;\">         C8</th><th style=\"text-align: right;\">          C9</th><th style=\"text-align: right;\">         C10</th><th style=\"text-align: right;\">        C11</th><th style=\"text-align: right;\">        C12</th><th style=\"text-align: right;\">        C13</th><th style=\"text-align: right;\">        C14</th><th style=\"text-align: right;\">          C15</th><th style=\"text-align: right;\">        C16</th><th style=\"text-align: right;\">         C17</th><th style=\"text-align: right;\">         C18</th><th style=\"text-align: right;\">        C19</th><th style=\"text-align: right;\">        C20</th><th style=\"text-align: right;\">       C21</th><th style=\"text-align: right;\">        C22</th><th style=\"text-align: right;\">        C23</th><th style=\"text-align: right;\">         C24</th><th style=\"text-align: right;\">        C25</th><th style=\"text-align: right;\">          C26</th><th style=\"text-align: right;\">         C27</th><th style=\"text-align: right;\">         C28</th><th style=\"text-align: right;\">        C29</th><th style=\"text-align: right;\">       C30</th><th style=\"text-align: right;\">         C31</th><th style=\"text-align: right;\">         C32</th><th style=\"text-align: right;\">        C33</th><th style=\"text-align: right;\">        C34</th><th style=\"text-align: right;\">         C35</th><th style=\"text-align: right;\">        C36</th><th style=\"text-align: right;\">        C37</th><th style=\"text-align: right;\">        C38</th><th style=\"text-align: right;\">        C39</th><th style=\"text-align: right;\">        C40</th><th style=\"text-align: right;\">        C41</th><th style=\"text-align: right;\">        C42</th><th style=\"text-align: right;\">       C43</th><th style=\"text-align: right;\">          C44</th><th style=\"text-align: right;\">        C45</th><th style=\"text-align: right;\">        C46</th><th style=\"text-align: right;\">       C47</th><th style=\"text-align: right;\">        C48</th><th style=\"text-align: right;\">         C49</th><th style=\"text-align: right;\">       C50</th><th style=\"text-align: right;\">       C51</th><th style=\"text-align: right;\">         C52</th><th style=\"text-align: right;\">        C53</th><th style=\"text-align: right;\">        C54</th><th style=\"text-align: right;\">       C55</th><th style=\"text-align: right;\">       C56</th><th style=\"text-align: right;\">        C57</th><th style=\"text-align: right;\">          C58</th><th style=\"text-align: right;\">         C59</th><th style=\"text-align: right;\">        C60</th><th style=\"text-align: right;\">       C61</th><th style=\"text-align: right;\">        C62</th><th style=\"text-align: right;\">        C63</th><th style=\"text-align: right;\">       C64</th><th style=\"text-align: right;\">        C65</th><th style=\"text-align: right;\">       C66</th><th style=\"text-align: right;\">        C67</th><th style=\"text-align: right;\">        C68</th><th style=\"text-align: right;\">        C69</th><th style=\"text-align: right;\">         C70</th><th style=\"text-align: right;\">        C71</th><th style=\"text-align: right;\">        C72</th><th style=\"text-align: right;\">          C73</th><th style=\"text-align: right;\">        C74</th><th style=\"text-align: right;\">        C75</th><th style=\"text-align: right;\">        C76</th><th style=\"text-align: right;\">        C77</th><th style=\"text-align: right;\">       C78</th><th style=\"text-align: right;\">         C79</th><th style=\"text-align: right;\">        C80</th><th style=\"text-align: right;\">         C81</th><th style=\"text-align: right;\">       C82</th><th style=\"text-align: right;\">         C83</th><th style=\"text-align: right;\">         C84</th><th style=\"text-align: right;\">        C85</th><th style=\"text-align: right;\">         C86</th><th style=\"text-align: right;\">       C87</th><th style=\"text-align: right;\">        C88</th><th style=\"text-align: right;\">        C89</th><th style=\"text-align: right;\">         C90</th><th style=\"text-align: right;\">          C91</th><th style=\"text-align: right;\">         C92</th><th style=\"text-align: right;\">        C93</th><th style=\"text-align: right;\">        C94</th><th style=\"text-align: right;\">         C95</th><th style=\"text-align: right;\">         C96</th><th style=\"text-align: right;\">         C97</th><th style=\"text-align: right;\">          C98</th><th style=\"text-align: right;\">        C99</th><th style=\"text-align: right;\">        C100</th></tr>\n",
       "</thead>\n",
       "<tbody>\n",
       "<tr><td style=\"text-align: right;\"> -0.0113489</td><td style=\"text-align: right;\"> -0.165544 </td><td style=\"text-align: right;\">  0.192567  </td><td style=\"text-align: right;\">  0.00952524</td><td style=\"text-align: right;\"> -0.0363902 </td><td style=\"text-align: right;\"> -0.00946942</td><td style=\"text-align: right;\"> -0.141947</td><td style=\"text-align: right;\">  0.27071  </td><td style=\"text-align: right;\">  0.00273591</td><td style=\"text-align: right;\"> -0.0055383 </td><td style=\"text-align: right;\">  0.0382951</td><td style=\"text-align: right;\"> -0.101176 </td><td style=\"text-align: right;\"> -0.0509894</td><td style=\"text-align: right;\">  0.0368103</td><td style=\"text-align: right;\"> -0.0803125  </td><td style=\"text-align: right;\"> -0.124853 </td><td style=\"text-align: right;\"> -0.156763  </td><td style=\"text-align: right;\"> -0.0865538 </td><td style=\"text-align: right;\"> -0.0527207</td><td style=\"text-align: right;\"> -0.192072 </td><td style=\"text-align: right;\">  0.201117</td><td style=\"text-align: right;\"> -0.0104728</td><td style=\"text-align: right;\">  0.120298 </td><td style=\"text-align: right;\">  0.0402803 </td><td style=\"text-align: right;\">  0.185125 </td><td style=\"text-align: right;\">  0.0140905  </td><td style=\"text-align: right;\">  0.0776275 </td><td style=\"text-align: right;\">  0.0214181 </td><td style=\"text-align: right;\">  0.135681 </td><td style=\"text-align: right;\">  0.201137</td><td style=\"text-align: right;\">  0.0294702 </td><td style=\"text-align: right;\">  0.0360406 </td><td style=\"text-align: right;\"> -0.0255211</td><td style=\"text-align: right;\">  0.0591759</td><td style=\"text-align: right;\"> -0.011905  </td><td style=\"text-align: right;\">  0.0260656</td><td style=\"text-align: right;\">  0.0855466</td><td style=\"text-align: right;\"> -0.0539493</td><td style=\"text-align: right;\"> -0.247695 </td><td style=\"text-align: right;\">  0.15562  </td><td style=\"text-align: right;\"> -0.226543 </td><td style=\"text-align: right;\"> -0.135879 </td><td style=\"text-align: right;\"> -0.26716 </td><td style=\"text-align: right;\">  0.047003   </td><td style=\"text-align: right;\"> -0.127963 </td><td style=\"text-align: right;\">  0.100601 </td><td style=\"text-align: right;\"> -0.17288 </td><td style=\"text-align: right;\"> -0.1064   </td><td style=\"text-align: right;\"> -0.0518995 </td><td style=\"text-align: right;\"> -0.209752</td><td style=\"text-align: right;\">  0.237233</td><td style=\"text-align: right;\"> -0.0326637 </td><td style=\"text-align: right;\">  0.160465 </td><td style=\"text-align: right;\">  0.0598639</td><td style=\"text-align: right;\"> -0.17013 </td><td style=\"text-align: right;\">  0.201529</td><td style=\"text-align: right;\">  0.0392627</td><td style=\"text-align: right;\"> -0.112598   </td><td style=\"text-align: right;\"> -0.107654  </td><td style=\"text-align: right;\"> -0.22583  </td><td style=\"text-align: right;\"> -0.17319 </td><td style=\"text-align: right;\"> -0.0394094</td><td style=\"text-align: right;\">  0.204992 </td><td style=\"text-align: right;\">  0.331102</td><td style=\"text-align: right;\"> -0.10112  </td><td style=\"text-align: right;\">  0.177852</td><td style=\"text-align: right;\"> -0.0699644</td><td style=\"text-align: right;\"> -0.165633 </td><td style=\"text-align: right;\"> -0.127031 </td><td style=\"text-align: right;\">  0.0108492 </td><td style=\"text-align: right;\"> -0.0730526</td><td style=\"text-align: right;\">  0.146502 </td><td style=\"text-align: right;\">  0.0158396  </td><td style=\"text-align: right;\">  0.0125977</td><td style=\"text-align: right;\"> -0.0721209</td><td style=\"text-align: right;\">  0.280606 </td><td style=\"text-align: right;\"> -0.146997 </td><td style=\"text-align: right;\">  0.268353</td><td style=\"text-align: right;\">  0.0154769 </td><td style=\"text-align: right;\"> -0.127565 </td><td style=\"text-align: right;\">  0.00248352</td><td style=\"text-align: right;\"> -0.147604</td><td style=\"text-align: right;\"> -0.0936263 </td><td style=\"text-align: right;\">  0.00164844</td><td style=\"text-align: right;\"> -0.0709274</td><td style=\"text-align: right;\"> -0.0170988 </td><td style=\"text-align: right;\"> -0.170003</td><td style=\"text-align: right;\"> -0.0668037</td><td style=\"text-align: right;\"> -0.262802 </td><td style=\"text-align: right;\">  0.0286525 </td><td style=\"text-align: right;\"> -0.0373488  </td><td style=\"text-align: right;\"> -0.042586  </td><td style=\"text-align: right;\"> -0.0630694</td><td style=\"text-align: right;\">  0.115427 </td><td style=\"text-align: right;\">  0.00537603</td><td style=\"text-align: right;\">  0.173609  </td><td style=\"text-align: right;\">  0.0308038 </td><td style=\"text-align: right;\"> -0.000362503</td><td style=\"text-align: right;\">  0.0642299</td><td style=\"text-align: right;\">  0.0600495 </td></tr>\n",
       "<tr><td style=\"text-align: right;\"> -0.0680932</td><td style=\"text-align: right;\"> -0.0759872</td><td style=\"text-align: right;\"> -0.0114821 </td><td style=\"text-align: right;\"> -0.0580209 </td><td style=\"text-align: right;\"> -0.00158668</td><td style=\"text-align: right;\"> -0.0991261 </td><td style=\"text-align: right;\"> -0.259689</td><td style=\"text-align: right;\">  0.120048 </td><td style=\"text-align: right;\">  0.015632  </td><td style=\"text-align: right;\"> -0.00282528</td><td style=\"text-align: right;\">  0.0378028</td><td style=\"text-align: right;\"> -0.0922352</td><td style=\"text-align: right;\">  0.0531951</td><td style=\"text-align: right;\"> -0.15258  </td><td style=\"text-align: right;\">  0.0698072  </td><td style=\"text-align: right;\"> -0.040879 </td><td style=\"text-align: right;\"> -0.0584266 </td><td style=\"text-align: right;\">  0.0751576 </td><td style=\"text-align: right;\">  0.0590438</td><td style=\"text-align: right;\"> -0.122286 </td><td style=\"text-align: right;\">  0.19953 </td><td style=\"text-align: right;\"> -0.0898973</td><td style=\"text-align: right;\"> -0.0235978</td><td style=\"text-align: right;\">  0.128029  </td><td style=\"text-align: right;\">  0.150445 </td><td style=\"text-align: right;\"> -0.0181241  </td><td style=\"text-align: right;\">  0.0599836 </td><td style=\"text-align: right;\">  0.0186632 </td><td style=\"text-align: right;\">  0.0318125</td><td style=\"text-align: right;\">  0.173153</td><td style=\"text-align: right;\">  0.00404759</td><td style=\"text-align: right;\">  0.190132  </td><td style=\"text-align: right;\">  0.0388098</td><td style=\"text-align: right;\">  0.131996 </td><td style=\"text-align: right;\"> -0.103475  </td><td style=\"text-align: right;\"> -0.143872 </td><td style=\"text-align: right;\">  0.0358567</td><td style=\"text-align: right;\">  0.0990984</td><td style=\"text-align: right;\"> -0.0816364</td><td style=\"text-align: right;\">  0.207441 </td><td style=\"text-align: right;\"> -0.0842987</td><td style=\"text-align: right;\">  0.0138828</td><td style=\"text-align: right;\"> -0.187162</td><td style=\"text-align: right;\"> -0.0723731  </td><td style=\"text-align: right;\"> -0.027074 </td><td style=\"text-align: right;\">  0.0384083</td><td style=\"text-align: right;\"> -0.259057</td><td style=\"text-align: right;\"> -0.0997713</td><td style=\"text-align: right;\">  0.0166725 </td><td style=\"text-align: right;\"> -0.165892</td><td style=\"text-align: right;\">  0.191343</td><td style=\"text-align: right;\">  0.0283441 </td><td style=\"text-align: right;\">  0.0752334</td><td style=\"text-align: right;\">  0.151495 </td><td style=\"text-align: right;\"> -0.233814</td><td style=\"text-align: right;\">  0.25716 </td><td style=\"text-align: right;\"> -0.0465797</td><td style=\"text-align: right;\"> -0.000499423</td><td style=\"text-align: right;\"> -0.105473  </td><td style=\"text-align: right;\"> -0.0420092</td><td style=\"text-align: right;\"> -0.170572</td><td style=\"text-align: right;\"> -0.0299186</td><td style=\"text-align: right;\">  0.0291544</td><td style=\"text-align: right;\">  0.162087</td><td style=\"text-align: right;\"> -0.145899 </td><td style=\"text-align: right;\">  0.210332</td><td style=\"text-align: right;\"> -0.168268 </td><td style=\"text-align: right;\"> -0.0756826</td><td style=\"text-align: right;\"> -0.0307639</td><td style=\"text-align: right;\"> -0.15868   </td><td style=\"text-align: right;\"> -0.0869254</td><td style=\"text-align: right;\">  0.0417174</td><td style=\"text-align: right;\">  0.000920731</td><td style=\"text-align: right;\"> -0.106492 </td><td style=\"text-align: right;\"> -0.127832 </td><td style=\"text-align: right;\">  0.179862 </td><td style=\"text-align: right;\"> -0.106164 </td><td style=\"text-align: right;\">  0.233166</td><td style=\"text-align: right;\">  0.0264159 </td><td style=\"text-align: right;\"> -0.0317022</td><td style=\"text-align: right;\"> -0.0917652 </td><td style=\"text-align: right;\"> -0.109464</td><td style=\"text-align: right;\"> -0.00237293</td><td style=\"text-align: right;\"> -0.0487583 </td><td style=\"text-align: right;\"> -0.151673 </td><td style=\"text-align: right;\"> -0.0403641 </td><td style=\"text-align: right;\"> -0.133419</td><td style=\"text-align: right;\"> -0.0461863</td><td style=\"text-align: right;\"> -0.0519414</td><td style=\"text-align: right;\"> -0.171982  </td><td style=\"text-align: right;\">  0.190857   </td><td style=\"text-align: right;\">  0.233163  </td><td style=\"text-align: right;\">  0.0216695</td><td style=\"text-align: right;\">  0.204684 </td><td style=\"text-align: right;\">  0.0840305 </td><td style=\"text-align: right;\">  0.0605782 </td><td style=\"text-align: right;\">  0.0472977 </td><td style=\"text-align: right;\">  0.204139   </td><td style=\"text-align: right;\">  0.104189 </td><td style=\"text-align: right;\">  0.0978648 </td></tr>\n",
       "<tr><td style=\"text-align: right;\">  0.0961154</td><td style=\"text-align: right;\"> -0.102961 </td><td style=\"text-align: right;\">  0.168668  </td><td style=\"text-align: right;\"> -0.0252266 </td><td style=\"text-align: right;\"> -0.013532  </td><td style=\"text-align: right;\"> -0.00339303</td><td style=\"text-align: right;\"> -0.037358</td><td style=\"text-align: right;\">  0.191561 </td><td style=\"text-align: right;\">  0.0440751 </td><td style=\"text-align: right;\">  0.0577892 </td><td style=\"text-align: right;\">  0.105894 </td><td style=\"text-align: right;\"> -0.0825778</td><td style=\"text-align: right;\"> -0.0363949</td><td style=\"text-align: right;\">  0.0142553</td><td style=\"text-align: right;\">  0.000500772</td><td style=\"text-align: right;\"> -0.115063 </td><td style=\"text-align: right;\"> -0.0390304 </td><td style=\"text-align: right;\"> -0.0605942 </td><td style=\"text-align: right;\"> -0.0701188</td><td style=\"text-align: right;\"> -0.151891 </td><td style=\"text-align: right;\">  0.095954</td><td style=\"text-align: right;\">  0.0353282</td><td style=\"text-align: right;\">  0.112966 </td><td style=\"text-align: right;\">  0.0464437 </td><td style=\"text-align: right;\">  0.136957 </td><td style=\"text-align: right;\">  0.0765932  </td><td style=\"text-align: right;\">  0.0927007 </td><td style=\"text-align: right;\"> -0.0421562 </td><td style=\"text-align: right;\">  0.0755096</td><td style=\"text-align: right;\">  0.265262</td><td style=\"text-align: right;\"> -0.0296224 </td><td style=\"text-align: right;\">  0.0795711 </td><td style=\"text-align: right;\"> -0.100199 </td><td style=\"text-align: right;\">  0.10125  </td><td style=\"text-align: right;\"> -0.0377494 </td><td style=\"text-align: right;\"> -0.0408401</td><td style=\"text-align: right;\">  0.084573 </td><td style=\"text-align: right;\">  0.0659957</td><td style=\"text-align: right;\"> -0.172045 </td><td style=\"text-align: right;\">  0.107924 </td><td style=\"text-align: right;\"> -0.101568 </td><td style=\"text-align: right;\"> -0.0502814</td><td style=\"text-align: right;\"> -0.300108</td><td style=\"text-align: right;\">  0.000433778</td><td style=\"text-align: right;\"> -0.0479112</td><td style=\"text-align: right;\">  0.0998032</td><td style=\"text-align: right;\"> -0.231693</td><td style=\"text-align: right;\"> -0.0691336</td><td style=\"text-align: right;\"> -0.00788841</td><td style=\"text-align: right;\"> -0.133637</td><td style=\"text-align: right;\">  0.14616 </td><td style=\"text-align: right;\"> -0.0936803 </td><td style=\"text-align: right;\">  0.12455  </td><td style=\"text-align: right;\">  0.0268465</td><td style=\"text-align: right;\"> -0.217111</td><td style=\"text-align: right;\">  0.151429</td><td style=\"text-align: right;\">  0.0657126</td><td style=\"text-align: right;\"> -0.141238   </td><td style=\"text-align: right;\"> -0.108773  </td><td style=\"text-align: right;\"> -0.293511 </td><td style=\"text-align: right;\"> -0.164663</td><td style=\"text-align: right;\">  0.0791512</td><td style=\"text-align: right;\">  0.249266 </td><td style=\"text-align: right;\">  0.234641</td><td style=\"text-align: right;\"> -0.0994324</td><td style=\"text-align: right;\">  0.137099</td><td style=\"text-align: right;\"> -0.0443866</td><td style=\"text-align: right;\"> -0.139066 </td><td style=\"text-align: right;\"> -0.0836159</td><td style=\"text-align: right;\"> -0.00190028</td><td style=\"text-align: right;\"> -0.0968992</td><td style=\"text-align: right;\">  0.173375 </td><td style=\"text-align: right;\">  0.0520609  </td><td style=\"text-align: right;\">  0.0245959</td><td style=\"text-align: right;\"> -0.0581554</td><td style=\"text-align: right;\">  0.225023 </td><td style=\"text-align: right;\"> -0.0708798</td><td style=\"text-align: right;\">  0.243419</td><td style=\"text-align: right;\"> -0.0521153 </td><td style=\"text-align: right;\"> -0.145181 </td><td style=\"text-align: right;\">  0.0191964 </td><td style=\"text-align: right;\"> -0.15413 </td><td style=\"text-align: right;\"> -0.142543  </td><td style=\"text-align: right;\"> -0.0148866 </td><td style=\"text-align: right;\"> -0.0418936</td><td style=\"text-align: right;\">  0.00338959</td><td style=\"text-align: right;\"> -0.164119</td><td style=\"text-align: right;\">  0.0136206</td><td style=\"text-align: right;\"> -0.152459 </td><td style=\"text-align: right;\"> -0.0173796 </td><td style=\"text-align: right;\">  0.000136223</td><td style=\"text-align: right;\">  0.0135341 </td><td style=\"text-align: right;\"> -0.040621 </td><td style=\"text-align: right;\">  0.16177  </td><td style=\"text-align: right;\">  0.101332  </td><td style=\"text-align: right;\">  0.152892  </td><td style=\"text-align: right;\">  0.0656017 </td><td style=\"text-align: right;\">  0.053976   </td><td style=\"text-align: right;\">  0.0247348</td><td style=\"text-align: right;\">  0.00359038</td></tr>\n",
       "<tr><td style=\"text-align: right;\">nan        </td><td style=\"text-align: right;\">nan        </td><td style=\"text-align: right;\">nan         </td><td style=\"text-align: right;\">nan         </td><td style=\"text-align: right;\">nan         </td><td style=\"text-align: right;\">nan         </td><td style=\"text-align: right;\">nan       </td><td style=\"text-align: right;\">nan        </td><td style=\"text-align: right;\">nan         </td><td style=\"text-align: right;\">nan         </td><td style=\"text-align: right;\">nan        </td><td style=\"text-align: right;\">nan        </td><td style=\"text-align: right;\">nan        </td><td style=\"text-align: right;\">nan        </td><td style=\"text-align: right;\">nan          </td><td style=\"text-align: right;\">nan        </td><td style=\"text-align: right;\">nan         </td><td style=\"text-align: right;\">nan         </td><td style=\"text-align: right;\">nan        </td><td style=\"text-align: right;\">nan        </td><td style=\"text-align: right;\">nan       </td><td style=\"text-align: right;\">nan        </td><td style=\"text-align: right;\">nan        </td><td style=\"text-align: right;\">nan         </td><td style=\"text-align: right;\">nan        </td><td style=\"text-align: right;\">nan          </td><td style=\"text-align: right;\">nan         </td><td style=\"text-align: right;\">nan         </td><td style=\"text-align: right;\">nan        </td><td style=\"text-align: right;\">nan       </td><td style=\"text-align: right;\">nan         </td><td style=\"text-align: right;\">nan         </td><td style=\"text-align: right;\">nan        </td><td style=\"text-align: right;\">nan        </td><td style=\"text-align: right;\">nan         </td><td style=\"text-align: right;\">nan        </td><td style=\"text-align: right;\">nan        </td><td style=\"text-align: right;\">nan        </td><td style=\"text-align: right;\">nan        </td><td style=\"text-align: right;\">nan        </td><td style=\"text-align: right;\">nan        </td><td style=\"text-align: right;\">nan        </td><td style=\"text-align: right;\">nan       </td><td style=\"text-align: right;\">nan          </td><td style=\"text-align: right;\">nan        </td><td style=\"text-align: right;\">nan        </td><td style=\"text-align: right;\">nan       </td><td style=\"text-align: right;\">nan        </td><td style=\"text-align: right;\">nan         </td><td style=\"text-align: right;\">nan       </td><td style=\"text-align: right;\">nan       </td><td style=\"text-align: right;\">nan         </td><td style=\"text-align: right;\">nan        </td><td style=\"text-align: right;\">nan        </td><td style=\"text-align: right;\">nan       </td><td style=\"text-align: right;\">nan       </td><td style=\"text-align: right;\">nan        </td><td style=\"text-align: right;\">nan          </td><td style=\"text-align: right;\">nan         </td><td style=\"text-align: right;\">nan        </td><td style=\"text-align: right;\">nan       </td><td style=\"text-align: right;\">nan        </td><td style=\"text-align: right;\">nan        </td><td style=\"text-align: right;\">nan       </td><td style=\"text-align: right;\">nan        </td><td style=\"text-align: right;\">nan       </td><td style=\"text-align: right;\">nan        </td><td style=\"text-align: right;\">nan        </td><td style=\"text-align: right;\">nan        </td><td style=\"text-align: right;\">nan         </td><td style=\"text-align: right;\">nan        </td><td style=\"text-align: right;\">nan        </td><td style=\"text-align: right;\">nan          </td><td style=\"text-align: right;\">nan        </td><td style=\"text-align: right;\">nan        </td><td style=\"text-align: right;\">nan        </td><td style=\"text-align: right;\">nan        </td><td style=\"text-align: right;\">nan       </td><td style=\"text-align: right;\">nan         </td><td style=\"text-align: right;\">nan        </td><td style=\"text-align: right;\">nan         </td><td style=\"text-align: right;\">nan       </td><td style=\"text-align: right;\">nan         </td><td style=\"text-align: right;\">nan         </td><td style=\"text-align: right;\">nan        </td><td style=\"text-align: right;\">nan         </td><td style=\"text-align: right;\">nan       </td><td style=\"text-align: right;\">nan        </td><td style=\"text-align: right;\">nan        </td><td style=\"text-align: right;\">nan         </td><td style=\"text-align: right;\">nan          </td><td style=\"text-align: right;\">nan         </td><td style=\"text-align: right;\">nan        </td><td style=\"text-align: right;\">nan        </td><td style=\"text-align: right;\">nan         </td><td style=\"text-align: right;\">nan         </td><td style=\"text-align: right;\">nan         </td><td style=\"text-align: right;\">nan          </td><td style=\"text-align: right;\">nan        </td><td style=\"text-align: right;\">nan         </td></tr>\n",
       "<tr><td style=\"text-align: right;\"> -0.0313728</td><td style=\"text-align: right;\"> -0.106615 </td><td style=\"text-align: right;\">  0.052357  </td><td style=\"text-align: right;\">  0.096665  </td><td style=\"text-align: right;\"> -0.0857551 </td><td style=\"text-align: right;\"> -0.0557677 </td><td style=\"text-align: right;\"> -0.146217</td><td style=\"text-align: right;\">  0.110614 </td><td style=\"text-align: right;\"> -0.0271008 </td><td style=\"text-align: right;\"> -0.0183925 </td><td style=\"text-align: right;\">  0.0777338</td><td style=\"text-align: right;\"> -0.0526362</td><td style=\"text-align: right;\"> -0.0024787</td><td style=\"text-align: right;\"> -0.0152527</td><td style=\"text-align: right;\"> -0.101276   </td><td style=\"text-align: right;\"> -0.175977 </td><td style=\"text-align: right;\"> -0.0383083 </td><td style=\"text-align: right;\"> -0.0541195 </td><td style=\"text-align: right;\"> -0.0040879</td><td style=\"text-align: right;\"> -0.124336 </td><td style=\"text-align: right;\">  0.139461</td><td style=\"text-align: right;\">  0.020566 </td><td style=\"text-align: right;\">  0.197502 </td><td style=\"text-align: right;\"> -0.00599461</td><td style=\"text-align: right;\">  0.132703 </td><td style=\"text-align: right;\">  0.173817   </td><td style=\"text-align: right;\">  0.104673  </td><td style=\"text-align: right;\"> -0.0694552 </td><td style=\"text-align: right;\">  0.0198981</td><td style=\"text-align: right;\">  0.173298</td><td style=\"text-align: right;\">  0.0639467 </td><td style=\"text-align: right;\"> -0.00030885</td><td style=\"text-align: right;\"> -0.0347486</td><td style=\"text-align: right;\">  0.132726 </td><td style=\"text-align: right;\">  0.00167256</td><td style=\"text-align: right;\"> -0.0262193</td><td style=\"text-align: right;\">  0.107838 </td><td style=\"text-align: right;\">  0.0867076</td><td style=\"text-align: right;\"> -0.162181 </td><td style=\"text-align: right;\"> -0.0330601</td><td style=\"text-align: right;\"> -0.0748626</td><td style=\"text-align: right;\"> -0.068292 </td><td style=\"text-align: right;\"> -0.125952</td><td style=\"text-align: right;\">  0.0265798  </td><td style=\"text-align: right;\"> -0.107208 </td><td style=\"text-align: right;\"> -0.0589757</td><td style=\"text-align: right;\"> -0.183891</td><td style=\"text-align: right;\"> -0.0290731</td><td style=\"text-align: right;\">  0.0298937 </td><td style=\"text-align: right;\"> -0.172724</td><td style=\"text-align: right;\">  0.216033</td><td style=\"text-align: right;\">  0.00705794</td><td style=\"text-align: right;\">  0.210061 </td><td style=\"text-align: right;\">  0.151792 </td><td style=\"text-align: right;\"> -0.207563</td><td style=\"text-align: right;\">  0.145187</td><td style=\"text-align: right;\">  0.0381566</td><td style=\"text-align: right;\"> -0.0723549  </td><td style=\"text-align: right;\"> -0.152836  </td><td style=\"text-align: right;\"> -0.217406 </td><td style=\"text-align: right;\"> -0.127132</td><td style=\"text-align: right;\">  0.0554385</td><td style=\"text-align: right;\">  0.142666 </td><td style=\"text-align: right;\">  0.224817</td><td style=\"text-align: right;\"> -0.076511 </td><td style=\"text-align: right;\">  0.191099</td><td style=\"text-align: right;\"> -0.120547 </td><td style=\"text-align: right;\"> -0.047218 </td><td style=\"text-align: right;\"> -0.0231386</td><td style=\"text-align: right;\"> -0.0241571 </td><td style=\"text-align: right;\"> -0.0739734</td><td style=\"text-align: right;\">  0.0259118</td><td style=\"text-align: right;\">  0.0239804  </td><td style=\"text-align: right;\">  0.0131198</td><td style=\"text-align: right;\"> -0.0888075</td><td style=\"text-align: right;\">  0.230126 </td><td style=\"text-align: right;\"> -0.118062 </td><td style=\"text-align: right;\">  0.271298</td><td style=\"text-align: right;\"> -0.012716  </td><td style=\"text-align: right;\"> -0.103982 </td><td style=\"text-align: right;\"> -0.0813083 </td><td style=\"text-align: right;\"> -0.128282</td><td style=\"text-align: right;\"> -0.108122  </td><td style=\"text-align: right;\"> -0.0775247 </td><td style=\"text-align: right;\"> -0.164759 </td><td style=\"text-align: right;\">  0.0308948 </td><td style=\"text-align: right;\"> -0.142819</td><td style=\"text-align: right;\"> -0.0529479</td><td style=\"text-align: right;\"> -0.109634 </td><td style=\"text-align: right;\">  0.00985533</td><td style=\"text-align: right;\">  0.110615   </td><td style=\"text-align: right;\">  0.00188479</td><td style=\"text-align: right;\"> -0.0144661</td><td style=\"text-align: right;\">  0.144588 </td><td style=\"text-align: right;\">  0.0140727 </td><td style=\"text-align: right;\">  0.183001  </td><td style=\"text-align: right;\">  0.102967  </td><td style=\"text-align: right;\">  0.0359119  </td><td style=\"text-align: right;\">  0.0288003</td><td style=\"text-align: right;\">  0.0220569 </td></tr>\n",
       "<tr><td style=\"text-align: right;\">nan        </td><td style=\"text-align: right;\">nan        </td><td style=\"text-align: right;\">nan         </td><td style=\"text-align: right;\">nan         </td><td style=\"text-align: right;\">nan         </td><td style=\"text-align: right;\">nan         </td><td style=\"text-align: right;\">nan       </td><td style=\"text-align: right;\">nan        </td><td style=\"text-align: right;\">nan         </td><td style=\"text-align: right;\">nan         </td><td style=\"text-align: right;\">nan        </td><td style=\"text-align: right;\">nan        </td><td style=\"text-align: right;\">nan        </td><td style=\"text-align: right;\">nan        </td><td style=\"text-align: right;\">nan          </td><td style=\"text-align: right;\">nan        </td><td style=\"text-align: right;\">nan         </td><td style=\"text-align: right;\">nan         </td><td style=\"text-align: right;\">nan        </td><td style=\"text-align: right;\">nan        </td><td style=\"text-align: right;\">nan       </td><td style=\"text-align: right;\">nan        </td><td style=\"text-align: right;\">nan        </td><td style=\"text-align: right;\">nan         </td><td style=\"text-align: right;\">nan        </td><td style=\"text-align: right;\">nan          </td><td style=\"text-align: right;\">nan         </td><td style=\"text-align: right;\">nan         </td><td style=\"text-align: right;\">nan        </td><td style=\"text-align: right;\">nan       </td><td style=\"text-align: right;\">nan         </td><td style=\"text-align: right;\">nan         </td><td style=\"text-align: right;\">nan        </td><td style=\"text-align: right;\">nan        </td><td style=\"text-align: right;\">nan         </td><td style=\"text-align: right;\">nan        </td><td style=\"text-align: right;\">nan        </td><td style=\"text-align: right;\">nan        </td><td style=\"text-align: right;\">nan        </td><td style=\"text-align: right;\">nan        </td><td style=\"text-align: right;\">nan        </td><td style=\"text-align: right;\">nan        </td><td style=\"text-align: right;\">nan       </td><td style=\"text-align: right;\">nan          </td><td style=\"text-align: right;\">nan        </td><td style=\"text-align: right;\">nan        </td><td style=\"text-align: right;\">nan       </td><td style=\"text-align: right;\">nan        </td><td style=\"text-align: right;\">nan         </td><td style=\"text-align: right;\">nan       </td><td style=\"text-align: right;\">nan       </td><td style=\"text-align: right;\">nan         </td><td style=\"text-align: right;\">nan        </td><td style=\"text-align: right;\">nan        </td><td style=\"text-align: right;\">nan       </td><td style=\"text-align: right;\">nan       </td><td style=\"text-align: right;\">nan        </td><td style=\"text-align: right;\">nan          </td><td style=\"text-align: right;\">nan         </td><td style=\"text-align: right;\">nan        </td><td style=\"text-align: right;\">nan       </td><td style=\"text-align: right;\">nan        </td><td style=\"text-align: right;\">nan        </td><td style=\"text-align: right;\">nan       </td><td style=\"text-align: right;\">nan        </td><td style=\"text-align: right;\">nan       </td><td style=\"text-align: right;\">nan        </td><td style=\"text-align: right;\">nan        </td><td style=\"text-align: right;\">nan        </td><td style=\"text-align: right;\">nan         </td><td style=\"text-align: right;\">nan        </td><td style=\"text-align: right;\">nan        </td><td style=\"text-align: right;\">nan          </td><td style=\"text-align: right;\">nan        </td><td style=\"text-align: right;\">nan        </td><td style=\"text-align: right;\">nan        </td><td style=\"text-align: right;\">nan        </td><td style=\"text-align: right;\">nan       </td><td style=\"text-align: right;\">nan         </td><td style=\"text-align: right;\">nan        </td><td style=\"text-align: right;\">nan         </td><td style=\"text-align: right;\">nan       </td><td style=\"text-align: right;\">nan         </td><td style=\"text-align: right;\">nan         </td><td style=\"text-align: right;\">nan        </td><td style=\"text-align: right;\">nan         </td><td style=\"text-align: right;\">nan       </td><td style=\"text-align: right;\">nan        </td><td style=\"text-align: right;\">nan        </td><td style=\"text-align: right;\">nan         </td><td style=\"text-align: right;\">nan          </td><td style=\"text-align: right;\">nan         </td><td style=\"text-align: right;\">nan        </td><td style=\"text-align: right;\">nan        </td><td style=\"text-align: right;\">nan         </td><td style=\"text-align: right;\">nan         </td><td style=\"text-align: right;\">nan         </td><td style=\"text-align: right;\">nan          </td><td style=\"text-align: right;\">nan        </td><td style=\"text-align: right;\">nan         </td></tr>\n",
       "<tr><td style=\"text-align: right;\"> -0.0397735</td><td style=\"text-align: right;\"> -0.183837 </td><td style=\"text-align: right;\">  0.00498708</td><td style=\"text-align: right;\"> -0.0225942 </td><td style=\"text-align: right;\">  0.105435  </td><td style=\"text-align: right;\">  0.0680924 </td><td style=\"text-align: right;\"> -0.153242</td><td style=\"text-align: right;\"> -0.0228845</td><td style=\"text-align: right;\"> -0.0288095 </td><td style=\"text-align: right;\"> -0.0585174 </td><td style=\"text-align: right;\">  0.0302902</td><td style=\"text-align: right;\"> -0.0662779</td><td style=\"text-align: right;\">  0.169481 </td><td style=\"text-align: right;\"> -0.0524676</td><td style=\"text-align: right;\">  0.0253732  </td><td style=\"text-align: right;\"> -0.0469438</td><td style=\"text-align: right;\"> -0.00186827</td><td style=\"text-align: right;\">  0.0691416 </td><td style=\"text-align: right;\">  0.0480555</td><td style=\"text-align: right;\">  0.0288044</td><td style=\"text-align: right;\">  0.21301 </td><td style=\"text-align: right;\"> -0.081737 </td><td style=\"text-align: right;\">  0.164588 </td><td style=\"text-align: right;\"> -0.100222  </td><td style=\"text-align: right;\">  0.0571208</td><td style=\"text-align: right;\"> -0.000977767</td><td style=\"text-align: right;\">  0.100034  </td><td style=\"text-align: right;\"> -0.102374  </td><td style=\"text-align: right;\">  0.0488952</td><td style=\"text-align: right;\">  0.282687</td><td style=\"text-align: right;\">  0.139644  </td><td style=\"text-align: right;\">  0.117263  </td><td style=\"text-align: right;\"> -0.137761 </td><td style=\"text-align: right;\">  0.116318 </td><td style=\"text-align: right;\"> -0.180992  </td><td style=\"text-align: right;\"> -0.0616165</td><td style=\"text-align: right;\">  0.108342 </td><td style=\"text-align: right;\">  0.13396  </td><td style=\"text-align: right;\">  0.0435324</td><td style=\"text-align: right;\">  0.0331406</td><td style=\"text-align: right;\"> -0.0483853</td><td style=\"text-align: right;\"> -0.0855508</td><td style=\"text-align: right;\"> -0.104852</td><td style=\"text-align: right;\"> -0.164283   </td><td style=\"text-align: right;\"> -0.0300262</td><td style=\"text-align: right;\"> -0.057    </td><td style=\"text-align: right;\"> -0.357296</td><td style=\"text-align: right;\"> -0.179854 </td><td style=\"text-align: right;\"> -0.00603578</td><td style=\"text-align: right;\"> -0.290705</td><td style=\"text-align: right;\">  0.133248</td><td style=\"text-align: right;\"> -0.03336   </td><td style=\"text-align: right;\">  0.0663261</td><td style=\"text-align: right;\">  0.122618 </td><td style=\"text-align: right;\"> -0.147496</td><td style=\"text-align: right;\">  0.247903</td><td style=\"text-align: right;\"> -0.0381681</td><td style=\"text-align: right;\"> -0.00225705 </td><td style=\"text-align: right;\"> -0.00829265</td><td style=\"text-align: right;\"> -0.123877 </td><td style=\"text-align: right;\"> -0.215466</td><td style=\"text-align: right;\"> -0.045041 </td><td style=\"text-align: right;\">  0.150038 </td><td style=\"text-align: right;\">  0.147179</td><td style=\"text-align: right;\"> -0.0142328</td><td style=\"text-align: right;\">  0.176262</td><td style=\"text-align: right;\"> -0.0559384</td><td style=\"text-align: right;\"> -0.0919878</td><td style=\"text-align: right;\"> -0.0760059</td><td style=\"text-align: right;\"> -0.0914566 </td><td style=\"text-align: right;\"> -0.0169465</td><td style=\"text-align: right;\">  0.0561966</td><td style=\"text-align: right;\"> -0.0407839  </td><td style=\"text-align: right;\"> -0.0691648</td><td style=\"text-align: right;\"> -0.137967 </td><td style=\"text-align: right;\">  0.0940351</td><td style=\"text-align: right;\">  0.0334881</td><td style=\"text-align: right;\">  0.142244</td><td style=\"text-align: right;\"> -0.00487407</td><td style=\"text-align: right;\">  0.0583538</td><td style=\"text-align: right;\">  0.0121206 </td><td style=\"text-align: right;\"> -0.13006 </td><td style=\"text-align: right;\"> -0.0109958 </td><td style=\"text-align: right;\"> -0.129883  </td><td style=\"text-align: right;\"> -0.0736615</td><td style=\"text-align: right;\">  0.0883417 </td><td style=\"text-align: right;\"> -0.186718</td><td style=\"text-align: right;\">  0.07145  </td><td style=\"text-align: right;\"> -0.0648334</td><td style=\"text-align: right;\"> -0.0971438 </td><td style=\"text-align: right;\">  0.157076   </td><td style=\"text-align: right;\">  0.144708  </td><td style=\"text-align: right;\"> -0.0985316</td><td style=\"text-align: right;\">  0.110975 </td><td style=\"text-align: right;\">  0.0510709 </td><td style=\"text-align: right;\"> -0.00653997</td><td style=\"text-align: right;\">  0.00867736</td><td style=\"text-align: right;\">  0.182193   </td><td style=\"text-align: right;\"> -0.0496458</td><td style=\"text-align: right;\">  0.0551999 </td></tr>\n",
       "<tr><td style=\"text-align: right;\"> -0.0459897</td><td style=\"text-align: right;\"> -0.0839729</td><td style=\"text-align: right;\">  0.0758659 </td><td style=\"text-align: right;\">  0.102955  </td><td style=\"text-align: right;\">  0.0498879 </td><td style=\"text-align: right;\">  0.0535371 </td><td style=\"text-align: right;\"> -0.162047</td><td style=\"text-align: right;\">  0.175324 </td><td style=\"text-align: right;\">  0.0578942 </td><td style=\"text-align: right;\"> -0.044408  </td><td style=\"text-align: right;\">  0.0748782</td><td style=\"text-align: right;\"> -0.0976649</td><td style=\"text-align: right;\"> -0.0544583</td><td style=\"text-align: right;\"> -0.0179788</td><td style=\"text-align: right;\"> -0.0238187  </td><td style=\"text-align: right;\"> -0.0638613</td><td style=\"text-align: right;\"> -0.0729243 </td><td style=\"text-align: right;\"> -0.00926253</td><td style=\"text-align: right;\"> -0.0180535</td><td style=\"text-align: right;\"> -0.167198 </td><td style=\"text-align: right;\">  0.168944</td><td style=\"text-align: right;\"> -0.0170811</td><td style=\"text-align: right;\">  0.097202 </td><td style=\"text-align: right;\">  0.00151923</td><td style=\"text-align: right;\">  0.0945489</td><td style=\"text-align: right;\">  0.0692719  </td><td style=\"text-align: right;\">  0.00169883</td><td style=\"text-align: right;\"> -0.00260909</td><td style=\"text-align: right;\">  0.0760248</td><td style=\"text-align: right;\">  0.180164</td><td style=\"text-align: right;\"> -0.023396  </td><td style=\"text-align: right;\">  0.0804647 </td><td style=\"text-align: right;\"> -0.0272891</td><td style=\"text-align: right;\">  0.150093 </td><td style=\"text-align: right;\"> -0.109454  </td><td style=\"text-align: right;\"> -0.0206549</td><td style=\"text-align: right;\">  0.0252643</td><td style=\"text-align: right;\">  0.0480099</td><td style=\"text-align: right;\"> -0.137857 </td><td style=\"text-align: right;\">  0.0149671</td><td style=\"text-align: right;\"> -0.0784054</td><td style=\"text-align: right;\"> -0.0985906</td><td style=\"text-align: right;\"> -0.203892</td><td style=\"text-align: right;\"> -0.078245   </td><td style=\"text-align: right;\"> -0.0265119</td><td style=\"text-align: right;\"> -0.0736557</td><td style=\"text-align: right;\"> -0.228983</td><td style=\"text-align: right;\"> -0.0898714</td><td style=\"text-align: right;\"> -0.0895335 </td><td style=\"text-align: right;\"> -0.141232</td><td style=\"text-align: right;\">  0.127505</td><td style=\"text-align: right;\"> -0.00641323</td><td style=\"text-align: right;\">  0.180669 </td><td style=\"text-align: right;\">  0.140742 </td><td style=\"text-align: right;\"> -0.11534 </td><td style=\"text-align: right;\">  0.186993</td><td style=\"text-align: right;\">  0.0231593</td><td style=\"text-align: right;\"> -0.0349532  </td><td style=\"text-align: right;\"> -0.163701  </td><td style=\"text-align: right;\"> -0.165272 </td><td style=\"text-align: right;\"> -0.187954</td><td style=\"text-align: right;\">  0.030701 </td><td style=\"text-align: right;\">  0.105644 </td><td style=\"text-align: right;\">  0.228515</td><td style=\"text-align: right;\"> -0.0596746</td><td style=\"text-align: right;\">  0.180261</td><td style=\"text-align: right;\"> -0.127441 </td><td style=\"text-align: right;\"> -0.0445718</td><td style=\"text-align: right;\"> -0.0447451</td><td style=\"text-align: right;\"> -0.062384  </td><td style=\"text-align: right;\"> -0.0512178</td><td style=\"text-align: right;\">  0.11672  </td><td style=\"text-align: right;\">  0.0709778  </td><td style=\"text-align: right;\"> -0.0712091</td><td style=\"text-align: right;\"> -0.146387 </td><td style=\"text-align: right;\">  0.178098 </td><td style=\"text-align: right;\"> -0.0929125</td><td style=\"text-align: right;\">  0.204458</td><td style=\"text-align: right;\">  0.0749398 </td><td style=\"text-align: right;\"> -0.0447788</td><td style=\"text-align: right;\">  0.0147287 </td><td style=\"text-align: right;\"> -0.118635</td><td style=\"text-align: right;\"> -0.019632  </td><td style=\"text-align: right;\"> -0.0886888 </td><td style=\"text-align: right;\"> -0.123245 </td><td style=\"text-align: right;\"> -0.00471   </td><td style=\"text-align: right;\"> -0.211728</td><td style=\"text-align: right;\"> -0.0701255</td><td style=\"text-align: right;\"> -0.115573 </td><td style=\"text-align: right;\"> -0.0752895 </td><td style=\"text-align: right;\">  0.0366755  </td><td style=\"text-align: right;\">  0.0583063 </td><td style=\"text-align: right;\"> -0.0758366</td><td style=\"text-align: right;\">  0.0786248</td><td style=\"text-align: right;\"> -0.0479902 </td><td style=\"text-align: right;\">  0.11444   </td><td style=\"text-align: right;\">  0.0757244 </td><td style=\"text-align: right;\">  0.0195613  </td><td style=\"text-align: right;\">  0.0169133</td><td style=\"text-align: right;\">  0.0651879 </td></tr>\n",
       "<tr><td style=\"text-align: right;\">nan        </td><td style=\"text-align: right;\">nan        </td><td style=\"text-align: right;\">nan         </td><td style=\"text-align: right;\">nan         </td><td style=\"text-align: right;\">nan         </td><td style=\"text-align: right;\">nan         </td><td style=\"text-align: right;\">nan       </td><td style=\"text-align: right;\">nan        </td><td style=\"text-align: right;\">nan         </td><td style=\"text-align: right;\">nan         </td><td style=\"text-align: right;\">nan        </td><td style=\"text-align: right;\">nan        </td><td style=\"text-align: right;\">nan        </td><td style=\"text-align: right;\">nan        </td><td style=\"text-align: right;\">nan          </td><td style=\"text-align: right;\">nan        </td><td style=\"text-align: right;\">nan         </td><td style=\"text-align: right;\">nan         </td><td style=\"text-align: right;\">nan        </td><td style=\"text-align: right;\">nan        </td><td style=\"text-align: right;\">nan       </td><td style=\"text-align: right;\">nan        </td><td style=\"text-align: right;\">nan        </td><td style=\"text-align: right;\">nan         </td><td style=\"text-align: right;\">nan        </td><td style=\"text-align: right;\">nan          </td><td style=\"text-align: right;\">nan         </td><td style=\"text-align: right;\">nan         </td><td style=\"text-align: right;\">nan        </td><td style=\"text-align: right;\">nan       </td><td style=\"text-align: right;\">nan         </td><td style=\"text-align: right;\">nan         </td><td style=\"text-align: right;\">nan        </td><td style=\"text-align: right;\">nan        </td><td style=\"text-align: right;\">nan         </td><td style=\"text-align: right;\">nan        </td><td style=\"text-align: right;\">nan        </td><td style=\"text-align: right;\">nan        </td><td style=\"text-align: right;\">nan        </td><td style=\"text-align: right;\">nan        </td><td style=\"text-align: right;\">nan        </td><td style=\"text-align: right;\">nan        </td><td style=\"text-align: right;\">nan       </td><td style=\"text-align: right;\">nan          </td><td style=\"text-align: right;\">nan        </td><td style=\"text-align: right;\">nan        </td><td style=\"text-align: right;\">nan       </td><td style=\"text-align: right;\">nan        </td><td style=\"text-align: right;\">nan         </td><td style=\"text-align: right;\">nan       </td><td style=\"text-align: right;\">nan       </td><td style=\"text-align: right;\">nan         </td><td style=\"text-align: right;\">nan        </td><td style=\"text-align: right;\">nan        </td><td style=\"text-align: right;\">nan       </td><td style=\"text-align: right;\">nan       </td><td style=\"text-align: right;\">nan        </td><td style=\"text-align: right;\">nan          </td><td style=\"text-align: right;\">nan         </td><td style=\"text-align: right;\">nan        </td><td style=\"text-align: right;\">nan       </td><td style=\"text-align: right;\">nan        </td><td style=\"text-align: right;\">nan        </td><td style=\"text-align: right;\">nan       </td><td style=\"text-align: right;\">nan        </td><td style=\"text-align: right;\">nan       </td><td style=\"text-align: right;\">nan        </td><td style=\"text-align: right;\">nan        </td><td style=\"text-align: right;\">nan        </td><td style=\"text-align: right;\">nan         </td><td style=\"text-align: right;\">nan        </td><td style=\"text-align: right;\">nan        </td><td style=\"text-align: right;\">nan          </td><td style=\"text-align: right;\">nan        </td><td style=\"text-align: right;\">nan        </td><td style=\"text-align: right;\">nan        </td><td style=\"text-align: right;\">nan        </td><td style=\"text-align: right;\">nan       </td><td style=\"text-align: right;\">nan         </td><td style=\"text-align: right;\">nan        </td><td style=\"text-align: right;\">nan         </td><td style=\"text-align: right;\">nan       </td><td style=\"text-align: right;\">nan         </td><td style=\"text-align: right;\">nan         </td><td style=\"text-align: right;\">nan        </td><td style=\"text-align: right;\">nan         </td><td style=\"text-align: right;\">nan       </td><td style=\"text-align: right;\">nan        </td><td style=\"text-align: right;\">nan        </td><td style=\"text-align: right;\">nan         </td><td style=\"text-align: right;\">nan          </td><td style=\"text-align: right;\">nan         </td><td style=\"text-align: right;\">nan        </td><td style=\"text-align: right;\">nan        </td><td style=\"text-align: right;\">nan         </td><td style=\"text-align: right;\">nan         </td><td style=\"text-align: right;\">nan         </td><td style=\"text-align: right;\">nan          </td><td style=\"text-align: right;\">nan        </td><td style=\"text-align: right;\">nan         </td></tr>\n",
       "<tr><td style=\"text-align: right;\">nan        </td><td style=\"text-align: right;\">nan        </td><td style=\"text-align: right;\">nan         </td><td style=\"text-align: right;\">nan         </td><td style=\"text-align: right;\">nan         </td><td style=\"text-align: right;\">nan         </td><td style=\"text-align: right;\">nan       </td><td style=\"text-align: right;\">nan        </td><td style=\"text-align: right;\">nan         </td><td style=\"text-align: right;\">nan         </td><td style=\"text-align: right;\">nan        </td><td style=\"text-align: right;\">nan        </td><td style=\"text-align: right;\">nan        </td><td style=\"text-align: right;\">nan        </td><td style=\"text-align: right;\">nan          </td><td style=\"text-align: right;\">nan        </td><td style=\"text-align: right;\">nan         </td><td style=\"text-align: right;\">nan         </td><td style=\"text-align: right;\">nan        </td><td style=\"text-align: right;\">nan        </td><td style=\"text-align: right;\">nan       </td><td style=\"text-align: right;\">nan        </td><td style=\"text-align: right;\">nan        </td><td style=\"text-align: right;\">nan         </td><td style=\"text-align: right;\">nan        </td><td style=\"text-align: right;\">nan          </td><td style=\"text-align: right;\">nan         </td><td style=\"text-align: right;\">nan         </td><td style=\"text-align: right;\">nan        </td><td style=\"text-align: right;\">nan       </td><td style=\"text-align: right;\">nan         </td><td style=\"text-align: right;\">nan         </td><td style=\"text-align: right;\">nan        </td><td style=\"text-align: right;\">nan        </td><td style=\"text-align: right;\">nan         </td><td style=\"text-align: right;\">nan        </td><td style=\"text-align: right;\">nan        </td><td style=\"text-align: right;\">nan        </td><td style=\"text-align: right;\">nan        </td><td style=\"text-align: right;\">nan        </td><td style=\"text-align: right;\">nan        </td><td style=\"text-align: right;\">nan        </td><td style=\"text-align: right;\">nan       </td><td style=\"text-align: right;\">nan          </td><td style=\"text-align: right;\">nan        </td><td style=\"text-align: right;\">nan        </td><td style=\"text-align: right;\">nan       </td><td style=\"text-align: right;\">nan        </td><td style=\"text-align: right;\">nan         </td><td style=\"text-align: right;\">nan       </td><td style=\"text-align: right;\">nan       </td><td style=\"text-align: right;\">nan         </td><td style=\"text-align: right;\">nan        </td><td style=\"text-align: right;\">nan        </td><td style=\"text-align: right;\">nan       </td><td style=\"text-align: right;\">nan       </td><td style=\"text-align: right;\">nan        </td><td style=\"text-align: right;\">nan          </td><td style=\"text-align: right;\">nan         </td><td style=\"text-align: right;\">nan        </td><td style=\"text-align: right;\">nan       </td><td style=\"text-align: right;\">nan        </td><td style=\"text-align: right;\">nan        </td><td style=\"text-align: right;\">nan       </td><td style=\"text-align: right;\">nan        </td><td style=\"text-align: right;\">nan       </td><td style=\"text-align: right;\">nan        </td><td style=\"text-align: right;\">nan        </td><td style=\"text-align: right;\">nan        </td><td style=\"text-align: right;\">nan         </td><td style=\"text-align: right;\">nan        </td><td style=\"text-align: right;\">nan        </td><td style=\"text-align: right;\">nan          </td><td style=\"text-align: right;\">nan        </td><td style=\"text-align: right;\">nan        </td><td style=\"text-align: right;\">nan        </td><td style=\"text-align: right;\">nan        </td><td style=\"text-align: right;\">nan       </td><td style=\"text-align: right;\">nan         </td><td style=\"text-align: right;\">nan        </td><td style=\"text-align: right;\">nan         </td><td style=\"text-align: right;\">nan       </td><td style=\"text-align: right;\">nan         </td><td style=\"text-align: right;\">nan         </td><td style=\"text-align: right;\">nan        </td><td style=\"text-align: right;\">nan         </td><td style=\"text-align: right;\">nan       </td><td style=\"text-align: right;\">nan        </td><td style=\"text-align: right;\">nan        </td><td style=\"text-align: right;\">nan         </td><td style=\"text-align: right;\">nan          </td><td style=\"text-align: right;\">nan         </td><td style=\"text-align: right;\">nan        </td><td style=\"text-align: right;\">nan        </td><td style=\"text-align: right;\">nan         </td><td style=\"text-align: right;\">nan         </td><td style=\"text-align: right;\">nan         </td><td style=\"text-align: right;\">nan          </td><td style=\"text-align: right;\">nan        </td><td style=\"text-align: right;\">nan         </td></tr>\n",
       "</tbody>\n",
       "</table>"
      ]
     },
     "metadata": {},
     "output_type": "display_data"
    },
    {
     "data": {
      "text/plain": []
     },
     "execution_count": 28,
     "metadata": {},
     "output_type": "execute_result"
    }
   ],
   "source": [
    "train_desc_vecs"
   ]
  },
  {
   "cell_type": "code",
   "execution_count": 29,
   "metadata": {
    "collapsed": false
   },
   "outputs": [],
   "source": [
    "# Add aggregated word embeddings \n",
    "ext_train = train.cbind(train_desc_vecs)"
   ]
  },
  {
   "cell_type": "markdown",
   "metadata": {},
   "source": [
    "The word embeddings have added 100 columns to our data."
   ]
  },
  {
   "cell_type": "code",
   "execution_count": 30,
   "metadata": {
    "collapsed": false
   },
   "outputs": [
    {
     "name": "stdout",
     "output_type": "stream",
     "text": [
      "Number of columns in original data: 15\n",
      "Number of columns with word embeddings: 115\n"
     ]
    }
   ],
   "source": [
    "print(\"Number of columns in original data: \" + str(train.ncol))\n",
    "print(\"Number of columns with word embeddings: \" + str(ext_train.ncol))"
   ]
  },
  {
   "cell_type": "markdown",
   "metadata": {},
   "source": [
    "We will also add the word embeddings to our test data.  We have trained our Word2Vec model on the train data only.  This is not necessary since we are training an unsupervised learning model on the `desc` column only so there should be limited data leakage.  By building a Word2Vec model on the train data and applying this model to the test data, however, we are most closely mimicking how this process will be done in production."
   ]
  },
  {
   "cell_type": "code",
   "execution_count": 31,
   "metadata": {
    "collapsed": false
   },
   "outputs": [],
   "source": [
    "test_desc = tokenize(test[\"desc\"].ascharacter())\n",
    "test_desc_vecs = w2v_model.transform(test_desc, aggregate_method=\"AVERAGE\")\n",
    "ext_test = test.cbind(test_desc_vecs)"
   ]
  },
  {
   "cell_type": "markdown",
   "metadata": {},
   "source": [
    "We will now train our model with word embeddings as new features in replace of `desc`."
   ]
  },
  {
   "cell_type": "code",
   "execution_count": 32,
   "metadata": {
    "collapsed": false
   },
   "outputs": [
    {
     "name": "stdout",
     "output_type": "stream",
     "text": [
      "gbm Model Build progress: |███████████████████████████████████████████████| 100%\n"
     ]
    }
   ],
   "source": [
    "# Train GBM model with word embeddings\n",
    "\n",
    "predictors = list(set(ext_train.col_names) - set([target, \"desc\"]))\n",
    "\n",
    "gbm_word_embeddings = H2OGradientBoostingEstimator(seed = 1234, model_id = \"gbm_word-embeddings.hex\", \n",
    "                                                   ntrees = 500, \n",
    "                                                   stopping_rounds = 10, score_tree_interval = 5, # early stopping\n",
    "                                                   stopping_metric = \"AUC\", \n",
    "                                                   nfolds = 5 # 5-fold cross validation\n",
    "                                                  )\n",
    "gbm_word_embeddings.train(x = predictors, y = target, training_frame = ext_train)"
   ]
  },
  {
   "cell_type": "code",
   "execution_count": 60,
   "metadata": {
    "collapsed": false
   },
   "outputs": [
    {
     "name": "stdout",
     "output_type": "stream",
     "text": [
      "AUC on CV - Baseline: 0.719\n",
      "AUC on CV - No Desc: 0.72077\n",
      "AUC on CV - Word Embeddings: 0.72084\n"
     ]
    }
   ],
   "source": [
    "print(\"AUC on CV - Baseline: \" + str(round(gbm_baseline.auc(xval = True), 4)))\n",
    "print(\"AUC on CV - No Desc: \" + str(round(gbm_no_desc.auc(xval = True), 5)))\n",
    "print(\"AUC on CV - Word Embeddings: \" + str(round(gbm_word_embeddings.auc(xval = True), 5)))"
   ]
  },
  {
   "cell_type": "markdown",
   "metadata": {},
   "source": [
    "By adding the word embeddings of `desc`, we have slightly better performance than removing `desc` all together.  The improvement is small, however, which could indicate that the description of the loan is not very informative in predicting whether or not a loan will be fully paid off.\n",
    "\n",
    "The variable importance plot shows us that the word embeddings do have some importance to the model."
   ]
  },
  {
   "cell_type": "code",
   "execution_count": 34,
   "metadata": {
    "collapsed": false
   },
   "outputs": [
    {
     "data": {
      "image/png": "[encoded data removed]",
      "text/plain": [
       "<matplotlib.figure.Figure at 0x1201f5cf8>"
      ]
     },
     "metadata": {},
     "output_type": "display_data"
    }
   ],
   "source": [
    "gbm_word_embeddings.varimp_plot(num_of_features=20)"
   ]
  },
  {
   "cell_type": "markdown",
   "metadata": {},
   "source": [
    "## Step 4. Perform Target Encoding on Categorical Features\n",
    "\n",
    "From our original baseline model, we can see that the variable `addr_state` has very high importance. It is surprising that `addr_state` has such high variable importance. The high variable importance could be because our model is memorizing the training data through this high cardinality categorical column. See: [Best Practices - Categorical Predictors](https://github.com/h2oai/h2o-tutorials/tree/master/best-practices/categorical-predictors) for more information on why this occurs."
   ]
  },
  {
   "cell_type": "code",
   "execution_count": 35,
   "metadata": {
    "collapsed": false
   },
   "outputs": [
    {
     "data": {
      "image/png": "[encoded data removed]",
      "text/plain": [
       "<matplotlib.figure.Figure at 0x1203b5b70>"
      ]
     },
     "metadata": {},
     "output_type": "display_data"
    }
   ],
   "source": [
    "gbm_baseline.varimp_plot()"
   ]
  },
  {
   "cell_type": "markdown",
   "metadata": {},
   "source": [
    "If we train our same GBM model without `addr_state` we actually see an improvement in model performance on the holdout data. This indicates that we are indeed overfitting on the high cardinality column.  "
   ]
  },
  {
   "cell_type": "code",
   "execution_count": 36,
   "metadata": {
    "collapsed": false
   },
   "outputs": [
    {
     "name": "stdout",
     "output_type": "stream",
     "text": [
      "gbm Model Build progress: |███████████████████████████████████████████████| 100%\n"
     ]
    }
   ],
   "source": [
    "# Train GBM model without state\n",
    "\n",
    "gbm_no_state = H2OGradientBoostingEstimator(seed = 1234, model_id = \"gbm_no-state.hex\", \n",
    "                                            ntrees = 500, \n",
    "                                            stopping_rounds = 10, score_tree_interval = 5, # early stopping\n",
    "                                            stopping_metric = \"AUC\", \n",
    "                                            nfolds = 5 # 5-fold cross validation\n",
    "                                           )\n",
    "gbm_no_state.train(x = list(set(predictors) - set([\"addr_state\"])), y = target, training_frame = ext_train)"
   ]
  },
  {
   "cell_type": "code",
   "execution_count": 37,
   "metadata": {
    "collapsed": false
   },
   "outputs": [
    {
     "name": "stdout",
     "output_type": "stream",
     "text": [
      "AUC on CV - Word Embeddings: 0.721\n",
      "AUC on CV - No State: 0.726\n"
     ]
    }
   ],
   "source": [
    "print(\"AUC on CV - Word Embeddings: \" + str(round(gbm_word_embeddings.auc(xval = True), 3)))\n",
    "print(\"AUC on CV - No State: \" + str(round(gbm_no_state.auc(xval = True), 3)))"
   ]
  },
  {
   "cell_type": "markdown",
   "metadata": {},
   "source": [
    "To prevent this overfitting, we can perform target encoding on the `addr_state` column and use that in place of the original categorical column.  Target encoding is a powerful method of converting a categorical column to numeric.  Target Encoding is the practice of replacing a categorical value with the mean of the response.  For example, we can replace NY in our dataset with the probability of default for the loans originating in NY.  \n",
    "\n",
    "Note: Our `TargetEncoder` function includes many options to prevent overfitting.  We will use cross validation Target Encoding for this example.  For more information on Target Encoding, see our documentation: http://docs.h2o.ai/h2o/latest-stable/h2o-docs/data-munging/target-encoding.html"
   ]
  },
  {
   "cell_type": "code",
   "execution_count": 38,
   "metadata": {
    "collapsed": true
   },
   "outputs": [],
   "source": [
    "# Add Fold Column for Target Encoding\n",
    "ext_train[\"cv_fold_te\"] = ext_train.kfold_column(n_folds = 5, seed = 54321)"
   ]
  },
  {
   "cell_type": "code",
   "execution_count": 39,
   "metadata": {
    "collapsed": false
   },
   "outputs": [
    {
     "data": {
      "text/plain": [
       "<h2o.expr.H2OCache at 0x12048f048>"
      ]
     },
     "execution_count": 39,
     "metadata": {},
     "output_type": "execute_result"
    }
   ],
   "source": [
    "from h2o.targetencoder import TargetEncoder\n",
    "\n",
    "# Fit target encoding on training data\n",
    "targetEncoder = TargetEncoder(x= [\"addr_state\", \"purpose\"], y = \"bad_loan\", fold_column = \"cv_fold_te\")\n",
    "targetEncoder.fit(ext_train)"
   ]
  },
  {
   "cell_type": "code",
   "execution_count": 42,
   "metadata": {
    "collapsed": false
   },
   "outputs": [],
   "source": [
    "# Apply to train and test data\n",
    "ext_train = targetEncoder.transform(frame=ext_train, \n",
    "                                    holdout_type=\"kfold\", \n",
    "                                    seed=54321, \n",
    "                                    is_train_or_valid=True,\n",
    "                                    noise = 0\n",
    "                                   )\n",
    "\n",
    "ext_test = targetEncoder.transform(frame=ext_test, \n",
    "                                   holdout_type=\"none\", # no need to do holdout because \n",
    "                                                        #target encoder was calculated on train\n",
    "                                   seed=54321, \n",
    "                                   is_train_or_valid=False,\n",
    "                                   noise = 0\n",
    "                                  )"
   ]
  },
  {
   "cell_type": "markdown",
   "metadata": {},
   "source": [
    "Now for each Fold ID and `addr_state` we have a numeric value.  We will use the target encoding representation of `addr_state` instead of the original column in our next model.  We have done the same step for `purpose` which is another categorical feature with a high number of categories."
   ]
  },
  {
   "cell_type": "code",
   "execution_count": 43,
   "metadata": {
    "collapsed": false
   },
   "outputs": [
    {
     "data": {
      "text/html": [
       "<table>\n",
       "<thead>\n",
       "<tr><th style=\"text-align: right;\">  cv_fold_te</th><th>addr_state  </th><th style=\"text-align: right;\">  addr_state_te</th><th>purpose  </th><th style=\"text-align: right;\">  purpose_te</th></tr>\n",
       "</thead>\n",
       "<tbody>\n",
       "<tr><td style=\"text-align: right;\">           0</td><td>AK          </td><td style=\"text-align: right;\">       0.276596</td><td>car      </td><td style=\"text-align: right;\">    0.145078</td></tr>\n",
       "<tr><td style=\"text-align: right;\">           0</td><td>AL          </td><td style=\"text-align: right;\">       0.195572</td><td>car      </td><td style=\"text-align: right;\">    0.145078</td></tr>\n",
       "<tr><td style=\"text-align: right;\">           0</td><td>AR          </td><td style=\"text-align: right;\">       0.144828</td><td>car      </td><td style=\"text-align: right;\">    0.145078</td></tr>\n",
       "<tr><td style=\"text-align: right;\">           0</td><td>AZ          </td><td style=\"text-align: right;\">       0.197441</td><td>car      </td><td style=\"text-align: right;\">    0.145078</td></tr>\n",
       "<tr><td style=\"text-align: right;\">           0</td><td>AZ          </td><td style=\"text-align: right;\">       0.197441</td><td>car      </td><td style=\"text-align: right;\">    0.145078</td></tr>\n",
       "<tr><td style=\"text-align: right;\">           0</td><td>AZ          </td><td style=\"text-align: right;\">       0.197441</td><td>car      </td><td style=\"text-align: right;\">    0.145078</td></tr>\n",
       "<tr><td style=\"text-align: right;\">           0</td><td>AZ          </td><td style=\"text-align: right;\">       0.197441</td><td>car      </td><td style=\"text-align: right;\">    0.145078</td></tr>\n",
       "<tr><td style=\"text-align: right;\">           0</td><td>AZ          </td><td style=\"text-align: right;\">       0.197441</td><td>car      </td><td style=\"text-align: right;\">    0.145078</td></tr>\n",
       "<tr><td style=\"text-align: right;\">           0</td><td>CA          </td><td style=\"text-align: right;\">       0.20982 </td><td>car      </td><td style=\"text-align: right;\">    0.145078</td></tr>\n",
       "<tr><td style=\"text-align: right;\">           0</td><td>CA          </td><td style=\"text-align: right;\">       0.20982 </td><td>car      </td><td style=\"text-align: right;\">    0.145078</td></tr>\n",
       "</tbody>\n",
       "</table>"
      ]
     },
     "metadata": {},
     "output_type": "display_data"
    },
    {
     "data": {
      "text/plain": []
     },
     "execution_count": 43,
     "metadata": {},
     "output_type": "execute_result"
    }
   ],
   "source": [
    "ext_train[[\"cv_fold_te\", \"addr_state\", \"addr_state_te\", \"purpose\", \"purpose_te\"]]"
   ]
  },
  {
   "cell_type": "code",
   "execution_count": 44,
   "metadata": {
    "collapsed": false
   },
   "outputs": [
    {
     "name": "stdout",
     "output_type": "stream",
     "text": [
      "gbm Model Build progress: |███████████████████████████████████████████████| 100%\n"
     ]
    }
   ],
   "source": [
    "# Train GBM model using target encoding instead of state and purpose\n",
    "\n",
    "predictors = list(set(ext_train.col_names) - set([\"cv_fold_te\", target, \"desc\", \"addr_state\", \"purpose\"]))\n",
    "\n",
    "gbm_te = H2OGradientBoostingEstimator(seed = 1234, model_id = \"gbm_target-encoding.hex\", \n",
    "                                      ntrees = 500, \n",
    "                                      stopping_rounds = 10, score_tree_interval = 5, # early stopping\n",
    "                                      stopping_metric = \"AUC\",\n",
    "                                      nfolds = 5 # 5-fold cross validation\n",
    "                                     )\n",
    "gbm_te.train(x = predictors, y = target, training_frame = ext_train)"
   ]
  },
  {
   "cell_type": "markdown",
   "metadata": {},
   "source": [
    "By adding the target encoding of `addr_state` and `purpose` and removing the original high cardinality features from the predictors, we have very similar performance to the model where we removed `addr_state` completely.  This could indicate that the state and purpose of the loan is not very informative in predicting whether or not a loan will be fully paid off."
   ]
  },
  {
   "cell_type": "code",
   "execution_count": 58,
   "metadata": {
    "collapsed": false
   },
   "outputs": [
    {
     "name": "stdout",
     "output_type": "stream",
     "text": [
      "AUC on CV - Word Embeddings: 0.721\n",
      "AUC on CV - No State: 0.726\n",
      "AUC on CV - Target Encoding: 0.726\n"
     ]
    }
   ],
   "source": [
    "print(\"AUC on CV - Word Embeddings: \" + str(round(gbm_word_embeddings.auc(xval = True), 3)))\n",
    "print(\"AUC on CV - No State: \" + str(round(gbm_no_state.auc(xval = True), 3)))\n",
    "print(\"AUC on CV - Target Encoding: \" + str(round(gbm_te.auc(xval = True), 3)))"
   ]
  },
  {
   "cell_type": "markdown",
   "metadata": {},
   "source": [
    "The variable `addr_state_te` has much smaller variable importance than the original `addr_state`.  This indicates that the model is no longer overfitting on `addr_state` information."
   ]
  },
  {
   "cell_type": "code",
   "execution_count": 46,
   "metadata": {
    "collapsed": false
   },
   "outputs": [
    {
     "data": {
      "image/png": "[encoded data removed]",
      "text/plain": [
       "<matplotlib.figure.Figure at 0x120ef1898>"
      ]
     },
     "metadata": {},
     "output_type": "display_data"
    }
   ],
   "source": [
    "gbm_te.varimp_plot()"
   ]
  },
  {
   "cell_type": "markdown",
   "metadata": {},
   "source": [
    "## Step 5. Add Anomaly Score\n",
    "\n",
    "We can also use unsupervised learning models to add interesting information about the data.  For example: \n",
    "\n",
    "* what are the natural segments found in the data\n",
    "* which records are strange\n",
    "\n",
    "In this step, we will use the Isolation Forest algorithm to add an anomaly score to each record.  We will see if this information improves the model performance."
   ]
  },
  {
   "cell_type": "code",
   "execution_count": 47,
   "metadata": {
    "collapsed": false
   },
   "outputs": [
    {
     "name": "stdout",
     "output_type": "stream",
     "text": [
      "isolationforest Model Build progress: |███████████████████████████████████| 100%\n"
     ]
    }
   ],
   "source": [
    "# Train Isolation Forest\n",
    "\n",
    "from h2o.estimators import H2OIsolationForestEstimator\n",
    "\n",
    "isolation_forest = H2OIsolationForestEstimator(seed = 1234,\n",
    "                                               model_id = \"isolation_forest.hex\"\n",
    "                                              )\n",
    "isolation_forest.train(training_frame = ext_train, x = predictors)"
   ]
  },
  {
   "cell_type": "markdown",
   "metadata": {},
   "source": [
    "When you predict with isolation forest, the output is `predict` and `mean_length`.  The `mean_length` value is the average number of splits it takes to segment the record in a randomized tree.  The more splits it takes, the less likely the record is an anomaly.\n",
    "\n",
    "The `predict` value is the `mean_length` normalized between 0 and 1.  Note: there may be some values less than 0 or greater than 1.  This because the current implementation calculates the min and max for normalization on a sample of the records."
   ]
  },
  {
   "cell_type": "code",
   "execution_count": 48,
   "metadata": {
    "collapsed": false
   },
   "outputs": [
    {
     "name": "stdout",
     "output_type": "stream",
     "text": [
      "isolationforest prediction progress: |████████████████████████████████████| 100%\n"
     ]
    },
    {
     "data": {
      "text/html": [
       "<table>\n",
       "<thead>\n",
       "<tr><th style=\"text-align: right;\">    predict</th><th style=\"text-align: right;\">  mean_length</th></tr>\n",
       "</thead>\n",
       "<tbody>\n",
       "<tr><td style=\"text-align: right;\"> 0.0294118 </td><td style=\"text-align: right;\">         6.78</td></tr>\n",
       "<tr><td style=\"text-align: right;\"> 0.0441176 </td><td style=\"text-align: right;\">         6.74</td></tr>\n",
       "<tr><td style=\"text-align: right;\">-0.0367647 </td><td style=\"text-align: right;\">         6.96</td></tr>\n",
       "<tr><td style=\"text-align: right;\">-0.00735294</td><td style=\"text-align: right;\">         6.88</td></tr>\n",
       "<tr><td style=\"text-align: right;\"> 0.227941  </td><td style=\"text-align: right;\">         6.24</td></tr>\n",
       "<tr><td style=\"text-align: right;\">-0.0367647 </td><td style=\"text-align: right;\">         6.96</td></tr>\n",
       "<tr><td style=\"text-align: right;\"> 0.0735294 </td><td style=\"text-align: right;\">         6.66</td></tr>\n",
       "<tr><td style=\"text-align: right;\"> 0.102941  </td><td style=\"text-align: right;\">         6.58</td></tr>\n",
       "<tr><td style=\"text-align: right;\">-0.0147059 </td><td style=\"text-align: right;\">         6.9 </td></tr>\n",
       "<tr><td style=\"text-align: right;\">-0.0220588 </td><td style=\"text-align: right;\">         6.92</td></tr>\n",
       "</tbody>\n",
       "</table>"
      ]
     },
     "metadata": {},
     "output_type": "display_data"
    },
    {
     "data": {
      "text/plain": []
     },
     "execution_count": 48,
     "metadata": {},
     "output_type": "execute_result"
    }
   ],
   "source": [
    "isolation_forest.predict(ext_train)"
   ]
  },
  {
   "cell_type": "markdown",
   "metadata": {},
   "source": [
    "We will add the normalized Isolation Forest prediction to our training and testing data."
   ]
  },
  {
   "cell_type": "code",
   "execution_count": 49,
   "metadata": {
    "collapsed": false
   },
   "outputs": [
    {
     "name": "stdout",
     "output_type": "stream",
     "text": [
      "isolationforest prediction progress: |████████████████████████████████████| 100%\n"
     ]
    }
   ],
   "source": [
    "# Add Isolation Forest scores to train \n",
    "anomaly_scores_train = isolation_forest.predict(ext_train)[\"predict\"]\n",
    "anomaly_scores_train.col_names = [\"AnomalyScore\"]\n",
    "ext_train = ext_train.cbind(anomaly_scores_train)"
   ]
  },
  {
   "cell_type": "code",
   "execution_count": 50,
   "metadata": {
    "collapsed": false
   },
   "outputs": [
    {
     "name": "stdout",
     "output_type": "stream",
     "text": [
      "isolationforest prediction progress: |████████████████████████████████████| 100%\n"
     ]
    }
   ],
   "source": [
    "# Add Isolation Forest scores to test \n",
    "anomaly_scores_test = isolation_forest.predict(ext_test)[\"predict\"]\n",
    "anomaly_scores_test.col_names = [\"AnomalyScore\"]\n",
    "ext_test = ext_test.cbind(anomaly_scores_test)"
   ]
  },
  {
   "cell_type": "code",
   "execution_count": 51,
   "metadata": {
    "collapsed": false
   },
   "outputs": [
    {
     "name": "stdout",
     "output_type": "stream",
     "text": [
      "gbm Model Build progress: |███████████████████████████████████████████████| 100%\n"
     ]
    }
   ],
   "source": [
    "# Train GBM model with anomaly score as new feature\n",
    "\n",
    "predictors = list(set(ext_train.col_names) - set([\"cv_fold_te\", target, \"desc\", \"addr_state\", \"purpose\", \n",
    "                                                 \"addr_state_te\", \"purpose_te\"]))\n",
    "\n",
    "gbm_anomaly_score = H2OGradientBoostingEstimator(seed = 1234, model_id = \"gbm_anomaly-scores.hex\", \n",
    "                                                 ntrees = 500, \n",
    "                                                 stopping_rounds = 10, score_tree_interval = 5, # early stopping\n",
    "                                                 stopping_metric = \"AUC\",\n",
    "                                                 nfolds = 5 # 5-fold cross validation\n",
    "                                                )\n",
    "gbm_anomaly_score.train(x = predictors, y = target, training_frame = ext_train)"
   ]
  },
  {
   "cell_type": "code",
   "execution_count": 52,
   "metadata": {
    "collapsed": false
   },
   "outputs": [
    {
     "name": "stdout",
     "output_type": "stream",
     "text": [
      "AUC on CV - Baseline: 0.719\n",
      "AUC on CV - Target Encoding: 0.726\n",
      "AUC on CV - Anomaly Score: 0.722\n"
     ]
    }
   ],
   "source": [
    "print(\"AUC on CV - Baseline: \" + str(round(gbm_baseline.auc(xval = True), 3)))\n",
    "print(\"AUC on CV - Target Encoding: \" + str(round(gbm_te.auc(xval = True), 3)))\n",
    "print(\"AUC on CV - Anomaly Score: \" + str(round(gbm_anomaly_score.auc(xval = True), 3)))"
   ]
  },
  {
   "cell_type": "markdown",
   "metadata": {},
   "source": [
    "## Step 6. Evaluate Improvement to Model\n",
    "\n",
    "Now that we have completed our feature engineering, we will evaluate how the model performs on our test data."
   ]
  },
  {
   "cell_type": "code",
   "execution_count": 53,
   "metadata": {
    "collapsed": false
   },
   "outputs": [
    {
     "name": "stdout",
     "output_type": "stream",
     "text": [
      "AUC on CV - Baseline: 0.719\n",
      "AUC on CV - with Anomaly Score: 0.722\n"
     ]
    }
   ],
   "source": [
    "print(\"AUC on CV - Baseline: \" + str(round(gbm_baseline.auc(xval = True), 4)))\n",
    "print(\"AUC on CV - with Anomaly Score: \" + str(round(gbm_anomaly_score.auc(xval = True), 4)))"
   ]
  },
  {
   "cell_type": "code",
   "execution_count": 61,
   "metadata": {
    "collapsed": false
   },
   "outputs": [
    {
     "name": "stdout",
     "output_type": "stream",
     "text": [
      "AUC on Test - Baseline: 0.724\n",
      "AUC on Test - Baseline: 0.7325\n",
      "AUC on Test - with Anomaly Score: 0.7324\n"
     ]
    }
   ],
   "source": [
    "print(\"AUC on Test - Baseline: \" + str(round(gbm_baseline.model_performance(ext_test).auc(), 4)))\n",
    "print(\"AUC on Test - with Anomaly Score: \" + str(round(gbm_anomaly_score.model_performance(ext_test).auc(), 4)))"
   ]
  },
  {
   "cell_type": "markdown",
   "metadata": {},
   "source": [
    "Our final model does significantly better on the test data."
   ]
  },
  {
   "cell_type": "markdown",
   "metadata": {},
   "source": [
    "## Step 7. Analyze Final Model\n",
    "\n",
    "Our last step is to analyze our final model.\n",
    "\n",
    "The `issue_d` has the greatest importance.  We can use the partial dependency plot to understand the relationship between `issue_d` and the probability of default."
   ]
  },
  {
   "cell_type": "code",
   "execution_count": 55,
   "metadata": {
    "collapsed": false
   },
   "outputs": [
    {
     "data": {
      "image/png": "[encoded data removed]",
      "text/plain": [
       "<matplotlib.figure.Figure at 0x12182ce48>"
      ]
     },
     "metadata": {},
     "output_type": "display_data"
    }
   ],
   "source": [
    "gbm_anomaly_score.varimp_plot()"
   ]
  },
  {
   "cell_type": "code",
   "execution_count": 56,
   "metadata": {
    "collapsed": false
   },
   "outputs": [
    {
     "name": "stdout",
     "output_type": "stream",
     "text": [
      "PartialDependencePlot progress: |█████████████████████████████████████████| 100%\n"
     ]
    },
    {
     "data": {
      "image/png": "[encoded data removed]",
      "text/plain": [
       "<matplotlib.figure.Figure at 0x1201c3748>"
      ]
     },
     "metadata": {},
     "output_type": "display_data"
    }
   ],
   "source": [
    "%matplotlib inline\n",
    "pdp = gbm_anomaly_score.partial_plot(data=ext_train, cols = [\"issue_d\"])"
   ]
  },
  {
   "cell_type": "markdown",
   "metadata": {},
   "source": [
    "The partial dependency plot for `issue_d` shows that there is a significant decrease in probability of loan default over time.  \n",
    "\n",
    "This variable is the most important feature.  The GBM model may extrapolate into the future so removing this variable should be considered."
   ]
  },
  {
   "cell_type": "code",
   "execution_count": 62,
   "metadata": {
    "collapsed": false
   },
   "outputs": [
    {
     "name": "stdout",
     "output_type": "stream",
     "text": [
      "H2O session _sid_b2a5 closed.\n"
     ]
    }
   ],
   "source": [
    "h2o.cluster().shutdown()"
   ]
  },
  {
   "cell_type": "code",
   "execution_count": null,
   "metadata": {
    "collapsed": true
   },
   "outputs": [],
   "source": []
  }
 ],
 "metadata": {
  "kernelspec": {
   "display_name": "Python 3",
   "language": "python",
   "name": "python3"
  },
  "language_info": {
   "codemirror_mode": {
    "name": "ipython",
    "version": 3
   },
   "file_extension": ".py",
   "mimetype": "text/x-python",
   "name": "python",
   "nbconvert_exporter": "python",
   "pygments_lexer": "ipython3",
   "version": "3.6.0"
  }
 },
 "nbformat": 4,
 "nbformat_minor": 2
}
