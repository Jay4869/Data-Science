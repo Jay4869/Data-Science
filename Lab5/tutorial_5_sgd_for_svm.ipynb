{
 "cells": [
  {
   "cell_type": "markdown",
   "metadata": {},
   "source": [
    "# Stochastic Gradient Descent (SGD)"
   ]
  },
  {
   "cell_type": "markdown",
   "metadata": {},
   "source": [
    "Stochastic gradient descent (SGD) is a method to solve optimization problems with certain forms.\n",
    "\n",
    "Consider an optimization problem with the following form:\n",
    "$$\\min_x \\frac{1}{n}\\sum_{i=1}^n h_i(x) + g(x) := f(x)$$\n",
    "where we assume $h_i, i=1, \\ldots, n$ and $g$ are all convex."
   ]
  },
  {
   "cell_type": "markdown",
   "metadata": {},
   "source": [
    "Some examples of such optimization:\n",
    "1. Penalized linear regression:\n",
    "   $$f(x) = \\frac{1}{n}\\sum_{i=1}^n (y_i - a_i^Tx)^2 + \\lambda\\|x\\|_1$$\n",
    "   Here $h_i(x) = (y_i - a_i^Tx)^2$, $n$ is the sample size;\n",
    "2. SVM (linear-kernel, primal form):\n",
    "   $$f(x) = \\frac{1}{2n}\\|x\\|_2^2 + \\frac{C}{n} \\sum_{i=1}^n \\max\\{0, 1 - y_i(a_i^Tx + x_0)\\} $$\n",
    "   Here $h_i(x) = \\max\\{0, 1 - y_i(a_i^Tx + x_0)\\}$, $n$ is the sample size;\n",
    "3. Neurual network(1-layer, $K$ class):\n",
    "   $$f(\\alpha, \\beta) = -\\frac{1}{n}\\sum_{k=1}^K\\sum_{i=1}^n y_{ik}\\log g_k(\\beta^T \\sigma(\\alpha^T x_i))$$\n",
    "   where $h(\\alpha, \\beta) = -\\sum_{k=1}^K y_{ik}\\log g_k(\\beta^T \\sigma(\\alpha^T x_i))$, $n$ again is the sample size;"
   ]
  },
  {
   "cell_type": "markdown",
   "metadata": {},
   "source": [
    "## Recap: gradient descent (GD)\n",
    "In gradient descent method, we consider the following approach to solve the optimization problem:\n",
    "$$x_{t+1} = x_t - \\eta\\nabla g(x_t) - \\eta\\frac{1}{n}\\sum_{i=1}^n \\nabla h_i(x_t)$$\n",
    "where $x_t$ is the update at step $t$, $\\eta$ the step size.\n",
    "\n",
    "* Advantage:  \n",
    "  Typical optimization algorithm; Guaranteed convergence speed (deterministic) under proper chosen stepsize $\\eta$;\n",
    "* Drawback:  \n",
    "  When $n$ is large, it takes a long time to calculate $\\nabla h_i(x)$ for all $i=1, \\ldots, n$."
   ]
  },
  {
   "cell_type": "markdown",
   "metadata": {},
   "source": [
    "## Stochastic gradient descent\n",
    "In order to overcome the above drawback of GD, stochastic gradient descent (SGD) algorithm iterates as follows:\n",
    "$$x_{t+1} = x_t - \\eta_t\\nabla g(x_t) - \\eta_t H(x_t)$$\n",
    "where $H(x_t)$ is an unbiased estimator of $\\frac{1}{n}\\sum_{i=1}^n \\nabla h_i(x_t)$. Here since we are talking about unbiasedness, we are implicitly assuming $H$ is a random function. \n",
    "\n",
    "Typically, we have the following two choices for $H(x)$:\n",
    "* Vanilla SGD: $$H(x) = \\nabla h_i(x)$$ where $i$ is randomly selected from $\\{1, \\ldots, n\\}$;\n",
    "* mini-batch SGD: $$H(x) = \\frac{1}{|\\mathcal{A}|}\\sum_{i\\in\\mathcal{A}} \\nabla h_i(x)$$\n",
    "where $\\mathcal{A}$ is a random subset of $\\{1, \\ldots, n\\}$.\n",
    "\n",
    "Not hard to verify that, due to the above random selection of index $i$ or indices $\\mathcal{A}$, the resulting $H$ is a random function with $\\mathbb{E}H(x) = \\frac{1}{n}\\sum_{i=1}^n \\nabla h_i(x)$, which means it is unbiased.\n",
    "\n",
    "### Two important points of SGD\n",
    "#### Always random select the indices (shuffle $i$)\n",
    "As you can see, the randomness and unbiasedness come from the randomly selected indices $i$ or $\\mathcal{A}$. So it is important to always randomly select your indices before calculation;\n",
    "\n",
    "#### Special step size $\\eta_t$\n",
    "Since now $H$ is a random function, the convergence issues becomes different from GD. It can be proved that, in order to have SGD present certain types of convergence, the step-size $\\eta_t$ needs to satisfy specific property:\n",
    "$$\\sum_{t=1}^\\infty \\eta_t = \\infty, \\;\\;\\; \\sum_{t=1}^\\infty \\eta_t^2 < \\infty$$\n",
    "\n",
    "A usual choice for $\\eta_t$ is\n",
    "$$\\eta_t = \\frac{c}{t ^ \\alpha}, \\;\\;\\; \\frac{1}{2} < \\alpha \\leq 1$$\n",
    "\n",
    "In the example below, we will pick $\\alpha = 1$ and use $\\eta_t = \\frac{c}{t}$."
   ]
  },
  {
   "cell_type": "code",
   "execution_count": 5,
   "metadata": {
    "collapsed": true
   },
   "outputs": [],
   "source": [
    "from __future__ import print_function\n",
    "import sys\n",
    "import time\n",
    "\n",
    "import numpy as np\n",
    "import numpy.random as npr\n",
    "import matplotlib.pyplot as plt\n",
    "\n",
    "import svm\n",
    "\n",
    "%matplotlib inline"
   ]
  },
  {
   "cell_type": "code",
   "execution_count": 6,
   "metadata": {
    "collapsed": true
   },
   "outputs": [],
   "source": [
    "y = np.loadtxt(\"data/target.txt\")\n",
    "X = np.loadtxt(\"data/features.txt\", delimiter=',')\n",
    "C = 100"
   ]
  },
  {
   "cell_type": "code",
   "execution_count": 7,
   "metadata": {
    "collapsed": false
   },
   "outputs": [
    {
     "data": {
      "text/plain": [
       "(6414, 122)"
      ]
     },
     "execution_count": 7,
     "metadata": {},
     "output_type": "execute_result"
    }
   ],
   "source": [
    "X.shape"
   ]
  },
  {
   "cell_type": "markdown",
   "metadata": {},
   "source": [
    "## Example: GD, SGD and mini-batch SGD comparison\n",
    "#### Please refer to `Problem 3` of the file `SGD.pdf`\n",
    "\n",
    "In this part we compare the performance of\n",
    "* gradient descent (GD)\n",
    "* stochastic gradient descent (SGD)\n",
    "* mini-batch stochastic gradient descent\n",
    "\n",
    "#### Some comments\n",
    "Before proceding, there is one thing needed to be pointed out on SGD.\n",
    "The procedure presented in the homework instruction is not the standard SGD.\n",
    "Since you did not learn SGD in class, the point of homework is for you to know the general idea, so it skips several technical points, which however are important to guarantee the performance of SGD (as you will see below).\n",
    "\n",
    "The missing technical points are\n",
    "1. The stepsize $\\eta$ need to decrease with a certain rate.  \n",
    "   This is required, even just theoretically, to guarantee the convergence (rate).  \n",
    "   Usually we set\n",
    "   $$\\eta_t = \\frac{C_0}{t}$$\n",
    "   in the $t$th iteration, for some constant $C_0$;\n",
    "   \n",
    "2. The gradient needs to be an unbiased estimator of the true gradient.  \n",
    "   This requires we use\n",
    "   $$w_{t+1} = w_t - \\eta_t\\cdot \\nabla_w f(w_t, b_t; x_i, y_i)$$\n",
    "   $$b_{t+1} = b_t - \\eta_t\\cdot \\nabla_b f(w_t, b_t; x_i, y_i)$$\n",
    "   in SGD, and\n",
    "   $$w_{t+1} = w_t - \\eta_t\\cdot \\frac{1}{\\text{batch_size}} \\sum_{i\\in\\text{batch}_\\ell}\\nabla_wf(w_t, b_t; x_i, y_i)$$\n",
    "   $$b_{t+1} = b_t - \\eta_t\\cdot \\frac{1}{\\text{batch_size}} \\sum_{i\\in\\text{batch}_\\ell}\\nabla_bf(w_t, b_t; x_i, y_i)$$\n",
    "   in mini-batch SGD. Again, the $\\eta$ should be updated as in 1.\n",
    "   \n",
    "#### About code\n",
    "Here I code a small module in `python` call `svm`. It contains all the main functions we are going to need."
   ]
  },
  {
   "cell_type": "code",
   "execution_count": 39,
   "metadata": {
    "collapsed": true
   },
   "outputs": [],
   "source": [
    "npr.seed(124)\n",
    "svm_obj = svm.svm_gd(y, X, C, eta=36e-4, eps=0.001, fig=True)[2]\n",
    "sgdsvm_obj = svm.svm_sgd(y, X, C, fig=True)[2]\n",
    "mnbatsvm_obj = svm.svm_mnBat(y, X, C, eps=0.005, fig=True)[2]"
   ]
  },
  {
   "cell_type": "code",
   "execution_count": 55,
   "metadata": {
    "collapsed": false
   },
   "outputs": [
    {
     "data": {
      "text/plain": [
       "<matplotlib.legend.Legend at 0x7f9bb9932b90>"
      ]
     },
     "execution_count": 55,
     "metadata": {},
     "output_type": "execute_result"
    },
    {
     "data": {
      "image/png": "[encoded data removed]",
      "text/plain": [
       "<matplotlib.figure.Figure at 0x7f9bb9b609d0>"
      ]
     },
     "metadata": {},
     "output_type": "display_data"
    }
   ],
   "source": [
    "fg = plt.figure(figsize=(8, 5))\n",
    "ax = fg.add_subplot(1, 1, 1)\n",
    "l_gd = ax.plot(svm_obj, 'g-', label='GD')\n",
    "l_sgd = ax.plot(sgdsvm_obj, 'r--', label='SGD')\n",
    "l_miniBat = ax.plot(mnbatsvm_obj, 'b-.', label='20-SGD')\n",
    "ax.set_xlim(0, 300)\n",
    "ax.set_xlabel('iteration')\n",
    "ax.set_ylabel('cost')\n",
    "ax.legend(loc='best')"
   ]
  },
  {
   "cell_type": "markdown",
   "metadata": {},
   "source": [
    "First thing we can observe is that, much smaller iteration is needed by SGD methods, especially for mini-batch SGD. The following histogram on time consumed can tell more."
   ]
  },
  {
   "cell_type": "code",
   "execution_count": 42,
   "metadata": {
    "collapsed": true
   },
   "outputs": [],
   "source": [
    "repeat = 30\n",
    "svm_time = []\n",
    "sgdsvm_time = []\n",
    "mnbatsvm_time = []\n",
    "\n",
    "for i in xrange(repeat):\n",
    "    start = time.time()\n",
    "    svm.svm_gd(y, X, C, eta=36e-4, eps=0.001)\n",
    "    end = time.time()\n",
    "    svm_time.append(end - start)\n",
    "\n",
    "    start = time.time()\n",
    "    svm.svm_sgd(y, X, C)\n",
    "    end = time.time()\n",
    "    sgdsvm_time.append(end - start)\n",
    "\n",
    "    start = time.time()\n",
    "    svm.svm_mnBat(y, X, C, eps=0.005)\n",
    "    end = time.time()\n",
    "    mnbatsvm_time.append(end - start)"
   ]
  },
  {
   "cell_type": "code",
   "execution_count": 53,
   "metadata": {
    "collapsed": false
   },
   "outputs": [
    {
     "data": {
      "text/plain": [
       "<matplotlib.legend.Legend at 0x7f9bb9bd3d50>"
      ]
     },
     "execution_count": 53,
     "metadata": {},
     "output_type": "execute_result"
    },
    {
     "data": {
      "image/png": "[encoded data removed]",
      "text/plain": [
       "<matplotlib.figure.Figure at 0x7f9bba0e0590>"
      ]
     },
     "metadata": {},
     "output_type": "display_data"
    }
   ],
   "source": [
    "fg = plt.figure(figsize=(8, 5))\n",
    "ax = fg.add_subplot(1, 1, 1)\n",
    "h_gd = ax.hist(svm_time, color='g', alpha=0.5, label='GD', bins=12)\n",
    "h_sgd = ax.hist(sgdsvm_time, color='r', alpha=0.5, label='SGD', bins=12)\n",
    "h_mbBat = ax.hist(mnbatsvm_time, color='b', alpha=0.5, label='20-SGD', bins=12)\n",
    "ax.set_xlabel('time')\n",
    "ax.set_ylabel('frequency')\n",
    "ax.legend(loc='best')"
   ]
  },
  {
   "cell_type": "markdown",
   "metadata": {
    "collapsed": true
   },
   "source": [
    "**Conclusion:**\n",
    "1. The two SGD methods takes much less time than GD;\n",
    "2. min-batch SGD takes similar rounds of iterations as GD to converge, but is much faster; Naive SGD converges slower than mini-batch SGD;"
   ]
  },
  {
   "cell_type": "code",
   "execution_count": null,
   "metadata": {
    "collapsed": true
   },
   "outputs": [],
   "source": []
  }
 ],
 "metadata": {
  "anaconda-cloud": {},
  "kernelspec": {
   "display_name": "Python [default]",
   "language": "python",
   "name": "python2"
  },
  "language_info": {
   "codemirror_mode": {
    "name": "ipython",
    "version": 2
   },
   "file_extension": ".py",
   "mimetype": "text/x-python",
   "name": "python",
   "nbconvert_exporter": "python",
   "pygments_lexer": "ipython2",
   "version": "2.7.12"
  }
 },
 "nbformat": 4,
 "nbformat_minor": 1
}
