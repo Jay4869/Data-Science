{
 "metadata": {
  "language_info": {
   "codemirror_mode": {
    "name": "ipython",
    "version": 3
   },
   "file_extension": ".py",
   "mimetype": "text/x-python",
   "name": "python",
   "nbconvert_exporter": "python",
   "pygments_lexer": "ipython3",
   "version": "3.7.9-final"
  },
  "orig_nbformat": 2,
  "kernelspec": {
   "name": "python3",
   "display_name": "Python 3.7.9 64-bit",
   "metadata": {
    "interpreter": {
     "hash": "2e72dc599d6c789128f56e61f8bf42fe2e359ad0d2c67675affbeff45d5f46ed"
    }
   }
  }
 },
 "nbformat": 4,
 "nbformat_minor": 2,
 "cells": [
  {
   "cell_type": "code",
   "execution_count": null,
   "metadata": {},
   "outputs": [],
   "source": [
    "from selenium import webdriver\n",
    "from selenium.webdriver.common.by import By\n",
    "from time import sleep\n",
    "from lxml import html\n",
    "import lxml\n",
    "import numpy as np\n",
    "import pandas as pd\n",
    " \n",
    "#file path access local html\n",
    "filename1 = r'/Users/zhongming/Downloads/AAPL\\ 131.96\\ -5.13\\ -3.74%\\ _\\ Apple\\ Inc.\\ -\\ Yahoo\\ Finance.html' \n",
    " \n",
    "#opening file in firefox browser\n",
    "driver = webdriver.Firefox()\n",
    "driver.get(\"file:\\\\\" + filename1)\n",
    "sleep(5)\n",
    " \n",
    "#clicking \"Expand All\"\n",
    "btnclick = driver.find_elements(By.XPATH, \"//*[@id='Col1-1-Financials-Proxy']/section/div[2]/button\")\n",
    "btnclick[0].click()\n",
    " \n",
    "#parsing into lxml\n",
    "tree = html.fromstring(driver.page_source)\n",
    " \n",
    "#searching table financial data\n",
    "table_rows = tree.xpath(\"//div[contains(@class, 'D(tbr)')]\")\n",
    " \n",
    "# Ensure that some table rows are found\n",
    "assert len(table_rows) > 0\n",
    " \n",
    "parsed_rows = []\n",
    " \n",
    "for table_row in table_rows:\n",
    "    parsed_row = []\n",
    "    el = table_row.xpath(\"./div\")\n",
    "     \n",
    "    none_count = 0\n",
    "     \n",
    "    for rs in el:\n",
    "        try:\n",
    "            (text,) = rs.xpath('.//span/text()[1]')\n",
    "            parsed_row.append(text)\n",
    "        except ValueError:\n",
    "            parsed_row.append(np.NaN)\n",
    "            none_count += 1\n",
    " \n",
    "    if (none_count < 4):\n",
    "        parsed_rows.append(parsed_row)\n",
    " \n",
    "df = pd.DataFrame(parsed_rows)\n",
    "print(df)"
   ]
  }
 ]
}