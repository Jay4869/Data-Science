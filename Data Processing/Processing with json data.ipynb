{
 "cells": [
  {
   "cell_type": "markdown",
   "metadata": {},
   "source": [
    "## Processing with json data\n"
   ]
  },
  {
   "cell_type": "code",
   "execution_count": 9,
   "metadata": {},
   "outputs": [],
   "source": [
    "import json\n",
    "import pandas as pd\n",
    "from datetime import datetime\n",
    "from datetime import date"
   ]
  },
  {
   "cell_type": "code",
   "execution_count": 10,
   "metadata": {},
   "outputs": [],
   "source": [
    "with open('../Data/restaurant.json') as f:\n",
    "    data = [json.loads(line) for line in f]\n",
    "photo = pd.DataFrame(data) "
   ]
  },
  {
   "cell_type": "code",
   "execution_count": 11,
   "metadata": {},
   "outputs": [
    {
     "data": {
      "text/html": [
       "<div>\n",
       "<style scoped>\n",
       "    .dataframe tbody tr th:only-of-type {\n",
       "        vertical-align: middle;\n",
       "    }\n",
       "\n",
       "    .dataframe tbody tr th {\n",
       "        vertical-align: top;\n",
       "    }\n",
       "\n",
       "    .dataframe thead th {\n",
       "        text-align: right;\n",
       "    }\n",
       "</style>\n",
       "<table border=\"1\" class=\"dataframe\">\n",
       "  <thead>\n",
       "    <tr style=\"text-align: right;\">\n",
       "      <th></th>\n",
       "      <th>place_id</th>\n",
       "      <th>postal_code</th>\n",
       "      <th>timestamp</th>\n",
       "      <th>user_id</th>\n",
       "      <th>date</th>\n",
       "    </tr>\n",
       "  </thead>\n",
       "  <tbody>\n",
       "    <tr>\n",
       "      <th>0</th>\n",
       "      <td>cc4e591f-55d5-458e-a792-bbd78abd7791</td>\n",
       "      <td>W11</td>\n",
       "      <td>2018-05-19 21:53:14</td>\n",
       "      <td>7533a324-baf6-4ac8-88da-5e6946f78901</td>\n",
       "      <td>2018-05-19</td>\n",
       "    </tr>\n",
       "    <tr>\n",
       "      <th>1</th>\n",
       "      <td>0f1aa959-dcae-4e5d-bebe-6e8c32d12b50</td>\n",
       "      <td>W11</td>\n",
       "      <td>2018-03-28 06:35:52</td>\n",
       "      <td>a0221733-4c57-40f9-bffe-afc917ebf1e8</td>\n",
       "      <td>2018-03-28</td>\n",
       "    </tr>\n",
       "    <tr>\n",
       "      <th>2</th>\n",
       "      <td>0f1aa959-dcae-4e5d-bebe-6e8c32d12b50</td>\n",
       "      <td>W11</td>\n",
       "      <td>2018-03-28 08:26:41</td>\n",
       "      <td>a0221733-4c57-40f9-bffe-afc917ebf1e8</td>\n",
       "      <td>2018-03-28</td>\n",
       "    </tr>\n",
       "    <tr>\n",
       "      <th>3</th>\n",
       "      <td>259afbe4-5b34-4d5d-8997-7df0a7b4e4a6</td>\n",
       "      <td>SW14</td>\n",
       "      <td>2018-03-21 23:28:11</td>\n",
       "      <td>8776aae1-205d-492d-8357-60b06cbce7c9</td>\n",
       "      <td>2018-03-21</td>\n",
       "    </tr>\n",
       "    <tr>\n",
       "      <th>4</th>\n",
       "      <td>259afbe4-5b34-4d5d-8997-7df0a7b4e4a6</td>\n",
       "      <td>SW14</td>\n",
       "      <td>2018-03-21 22:45:17</td>\n",
       "      <td>8776aae1-205d-492d-8357-60b06cbce7c9</td>\n",
       "      <td>2018-03-21</td>\n",
       "    </tr>\n",
       "  </tbody>\n",
       "</table>\n",
       "</div>"
      ],
      "text/plain": [
       "                               place_id postal_code           timestamp  \\\n",
       "0  cc4e591f-55d5-458e-a792-bbd78abd7791         W11 2018-05-19 21:53:14   \n",
       "1  0f1aa959-dcae-4e5d-bebe-6e8c32d12b50         W11 2018-03-28 06:35:52   \n",
       "2  0f1aa959-dcae-4e5d-bebe-6e8c32d12b50         W11 2018-03-28 08:26:41   \n",
       "3  259afbe4-5b34-4d5d-8997-7df0a7b4e4a6        SW14 2018-03-21 23:28:11   \n",
       "4  259afbe4-5b34-4d5d-8997-7df0a7b4e4a6        SW14 2018-03-21 22:45:17   \n",
       "\n",
       "                                user_id        date  \n",
       "0  7533a324-baf6-4ac8-88da-5e6946f78901  2018-05-19  \n",
       "1  a0221733-4c57-40f9-bffe-afc917ebf1e8  2018-03-28  \n",
       "2  a0221733-4c57-40f9-bffe-afc917ebf1e8  2018-03-28  \n",
       "3  8776aae1-205d-492d-8357-60b06cbce7c9  2018-03-21  \n",
       "4  8776aae1-205d-492d-8357-60b06cbce7c9  2018-03-21  "
      ]
     },
     "execution_count": 11,
     "metadata": {},
     "output_type": "execute_result"
    }
   ],
   "source": [
    "photo['date'] = photo['timestamp'].apply(lambda time: date.fromtimestamp(time)) \n",
    "photo['timestamp'] = photo['timestamp'].apply(lambda time: datetime.fromtimestamp(time))\n",
    "photo.head()"
   ]
  },
  {
   "cell_type": "code",
   "execution_count": null,
   "metadata": {},
   "outputs": [],
   "source": []
  }
 ],
 "metadata": {
  "kernelspec": {
   "display_name": "Python 3",
   "language": "python",
   "name": "python3"
  },
  "language_info": {
   "codemirror_mode": {
    "name": "ipython",
    "version": 3
   },
   "file_extension": ".py",
   "mimetype": "text/x-python",
   "name": "python",
   "nbconvert_exporter": "python",
   "pygments_lexer": "ipython3",
   "version": "3.7.3"
  }
 },
 "nbformat": 4,
 "nbformat_minor": 2
}
