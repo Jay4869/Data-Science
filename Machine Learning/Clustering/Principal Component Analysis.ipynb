{
 "cells": [
  {
   "cell_type": "markdown",
   "metadata": {},
   "source": [
    "# Principal Component Analysis\n",
    "\n",
    "In this section, I explore what is perhaps one of the most broadly used of unsupervised algorithms, principal component analysis (PCA). PCA is fundamentally a dimensionality reduction algorithm, but it can also be useful as a tool for visualization, for noise filtering, for feature extraction and engineering, and much more."
   ]
  },
  {
   "cell_type": "code",
   "execution_count": 37,
   "metadata": {},
   "outputs": [],
   "source": [
    "import numpy as np\n",
    "import pandas as pd\n",
    "import matplotlib.pyplot as plt\n",
    "import seaborn as sns\n",
    "\n",
    "%matplotlib inline"
   ]
  },
  {
   "cell_type": "markdown",
   "metadata": {},
   "source": [
    "## 1. Introducing Principal Component Analysis\n",
    "\n",
    "Principal component analysis is a orthogonal linear transformation that finds the \"principal components\", and transfers the data to a new coordinate system such that the greatest variance by any projection of data. It can be used to reduce dimensions of data without much loss of information."
   ]
  },
  {
   "cell_type": "code",
   "execution_count": 5,
   "metadata": {},
   "outputs": [
    {
     "data": {
      "image/png": "[encoded data removed]",
      "text/plain": [
       "<Figure size 432x288 with 1 Axes>"
      ]
     },
     "metadata": {
      "needs_background": "light"
     },
     "output_type": "display_data"
    }
   ],
   "source": [
    "rng = np.random.RandomState(1)\n",
    "X = np.dot(rng.rand(2, 2), rng.randn(2, 200)).T\n",
    "plt.scatter(X[:, 0], X[:, 1])\n",
    "plt.axis('equal');"
   ]
  },
  {
   "cell_type": "markdown",
   "metadata": {},
   "source": [
    "In principal component analysis, this relationship is quantified by finding a list of the principal components in the data, and using those axes to describe the dataset by `PCA` estimator"
   ]
  },
  {
   "cell_type": "code",
   "execution_count": 6,
   "metadata": {},
   "outputs": [
    {
     "data": {
      "text/plain": [
       "PCA(copy=True, iterated_power='auto', n_components=2, random_state=None,\n",
       "  svd_solver='auto', tol=0.0, whiten=False)"
      ]
     },
     "execution_count": 6,
     "metadata": {},
     "output_type": "execute_result"
    }
   ],
   "source": [
    "from sklearn.decomposition import PCA\n",
    "pca = PCA(n_components=2)\n",
    "pca.fit(X)"
   ]
  },
  {
   "cell_type": "markdown",
   "metadata": {},
   "source": [
    "The fit learns some quantities from the data, most importantly the \"components\" and \"explained variance\""
   ]
  },
  {
   "cell_type": "code",
   "execution_count": 9,
   "metadata": {},
   "outputs": [
    {
     "name": "stdout",
     "output_type": "stream",
     "text": [
      "Componenets \n",
      " [[-0.94446029 -0.32862557]\n",
      " [-0.32862557  0.94446029]]\n",
      "Explanined Variance \n",
      " [0.7625315 0.0184779]\n"
     ]
    }
   ],
   "source": [
    "print(\"Componenets \\n\", pca.components_)\n",
    "\n",
    "print(\"Explanined Variance \\n\", pca.explained_variance_)"
   ]
  },
  {
   "cell_type": "markdown",
   "metadata": {},
   "source": [
    "Let's visualize them as vectors over the input data, using the \"components\" to define the direction of the vector, and the \"explained variance\" to define the squared-length of the vector:"
   ]
  },
  {
   "cell_type": "code",
   "execution_count": 10,
   "metadata": {},
   "outputs": [
    {
     "data": {
      "image/png": "[encoded data removed]",
      "text/plain": [
       "<Figure size 432x288 with 1 Axes>"
      ]
     },
     "metadata": {
      "needs_background": "light"
     },
     "output_type": "display_data"
    }
   ],
   "source": [
    "def draw_vector(v0, v1, ax=None):\n",
    "    ax = ax or plt.gca()\n",
    "    arrowprops=dict(arrowstyle='->',\n",
    "                    linewidth=2,\n",
    "                    shrinkA=0, shrinkB=0)\n",
    "    ax.annotate('', v1, v0, arrowprops=arrowprops)\n",
    "\n",
    "# plot data\n",
    "plt.scatter(X[:, 0], X[:, 1], alpha=0.2)\n",
    "for length, vector in zip(pca.explained_variance_, pca.components_):\n",
    "    v = vector * 3 * np.sqrt(length)\n",
    "    draw_vector(pca.mean_, pca.mean_ + v)\n",
    "plt.axis('equal');"
   ]
  },
  {
   "cell_type": "markdown",
   "metadata": {},
   "source": [
    "## 2. Mathematics Behind PCA"
   ]
  },
  {
   "cell_type": "code",
   "execution_count": 11,
   "metadata": {},
   "outputs": [
    {
     "data": {
      "text/html": [
       "<div>\n",
       "<style scoped>\n",
       "    .dataframe tbody tr th:only-of-type {\n",
       "        vertical-align: middle;\n",
       "    }\n",
       "\n",
       "    .dataframe tbody tr th {\n",
       "        vertical-align: top;\n",
       "    }\n",
       "\n",
       "    .dataframe thead th {\n",
       "        text-align: right;\n",
       "    }\n",
       "</style>\n",
       "<table border=\"1\" class=\"dataframe\">\n",
       "  <thead>\n",
       "    <tr style=\"text-align: right;\">\n",
       "      <th></th>\n",
       "      <th>ACT</th>\n",
       "      <th>FinalExam</th>\n",
       "      <th>QuizAvg</th>\n",
       "      <th>TestAvg</th>\n",
       "    </tr>\n",
       "  </thead>\n",
       "  <tbody>\n",
       "    <tr>\n",
       "      <th>0</th>\n",
       "      <td>33</td>\n",
       "      <td>181</td>\n",
       "      <td>95</td>\n",
       "      <td>89</td>\n",
       "    </tr>\n",
       "    <tr>\n",
       "      <th>1</th>\n",
       "      <td>31</td>\n",
       "      <td>169</td>\n",
       "      <td>81</td>\n",
       "      <td>89</td>\n",
       "    </tr>\n",
       "    <tr>\n",
       "      <th>2</th>\n",
       "      <td>21</td>\n",
       "      <td>176</td>\n",
       "      <td>65</td>\n",
       "      <td>68</td>\n",
       "    </tr>\n",
       "    <tr>\n",
       "      <th>3</th>\n",
       "      <td>25</td>\n",
       "      <td>181</td>\n",
       "      <td>66</td>\n",
       "      <td>90</td>\n",
       "    </tr>\n",
       "    <tr>\n",
       "      <th>4</th>\n",
       "      <td>29</td>\n",
       "      <td>169</td>\n",
       "      <td>89</td>\n",
       "      <td>81</td>\n",
       "    </tr>\n",
       "    <tr>\n",
       "      <th>5</th>\n",
       "      <td>24</td>\n",
       "      <td>103</td>\n",
       "      <td>61</td>\n",
       "      <td>57</td>\n",
       "    </tr>\n",
       "    <tr>\n",
       "      <th>6</th>\n",
       "      <td>25</td>\n",
       "      <td>150</td>\n",
       "      <td>81</td>\n",
       "      <td>76</td>\n",
       "    </tr>\n",
       "    <tr>\n",
       "      <th>7</th>\n",
       "      <td>29</td>\n",
       "      <td>147</td>\n",
       "      <td>86</td>\n",
       "      <td>76</td>\n",
       "    </tr>\n",
       "    <tr>\n",
       "      <th>8</th>\n",
       "      <td>36</td>\n",
       "      <td>181</td>\n",
       "      <td>98</td>\n",
       "      <td>102</td>\n",
       "    </tr>\n",
       "    <tr>\n",
       "      <th>9</th>\n",
       "      <td>26</td>\n",
       "      <td>163</td>\n",
       "      <td>72</td>\n",
       "      <td>70</td>\n",
       "    </tr>\n",
       "    <tr>\n",
       "      <th>10</th>\n",
       "      <td>31</td>\n",
       "      <td>163</td>\n",
       "      <td>95</td>\n",
       "      <td>81</td>\n",
       "    </tr>\n",
       "    <tr>\n",
       "      <th>11</th>\n",
       "      <td>29</td>\n",
       "      <td>147</td>\n",
       "      <td>65</td>\n",
       "      <td>67</td>\n",
       "    </tr>\n",
       "    <tr>\n",
       "      <th>12</th>\n",
       "      <td>23</td>\n",
       "      <td>160</td>\n",
       "      <td>62</td>\n",
       "      <td>68</td>\n",
       "    </tr>\n",
       "    <tr>\n",
       "      <th>13</th>\n",
       "      <td>26</td>\n",
       "      <td>100</td>\n",
       "      <td>63</td>\n",
       "      <td>56</td>\n",
       "    </tr>\n",
       "  </tbody>\n",
       "</table>\n",
       "</div>"
      ],
      "text/plain": [
       "    ACT  FinalExam  QuizAvg  TestAvg\n",
       "0    33        181       95       89\n",
       "1    31        169       81       89\n",
       "2    21        176       65       68\n",
       "3    25        181       66       90\n",
       "4    29        169       89       81\n",
       "5    24        103       61       57\n",
       "6    25        150       81       76\n",
       "7    29        147       86       76\n",
       "8    36        181       98      102\n",
       "9    26        163       72       70\n",
       "10   31        163       95       81\n",
       "11   29        147       65       67\n",
       "12   23        160       62       68\n",
       "13   26        100       63       56"
      ]
     },
     "execution_count": 11,
     "metadata": {},
     "output_type": "execute_result"
    }
   ],
   "source": [
    "data = pd.read_csv('../../Data/Test_Scores.csv')\n",
    "data"
   ]
  },
  {
   "cell_type": "markdown",
   "metadata": {},
   "source": [
    "### 2.1 Standardize Data"
   ]
  },
  {
   "cell_type": "code",
   "execution_count": 21,
   "metadata": {},
   "outputs": [
    {
     "name": "stdout",
     "output_type": "stream",
     "text": [
      "Standardized Data: \n",
      "\n"
     ]
    },
    {
     "data": {
      "text/html": [
       "<div>\n",
       "<style scoped>\n",
       "    .dataframe tbody tr th:only-of-type {\n",
       "        vertical-align: middle;\n",
       "    }\n",
       "\n",
       "    .dataframe tbody tr th {\n",
       "        vertical-align: top;\n",
       "    }\n",
       "\n",
       "    .dataframe thead th {\n",
       "        text-align: right;\n",
       "    }\n",
       "</style>\n",
       "<table border=\"1\" class=\"dataframe\">\n",
       "  <thead>\n",
       "    <tr style=\"text-align: right;\">\n",
       "      <th></th>\n",
       "      <th>ACT</th>\n",
       "      <th>FinalExam</th>\n",
       "      <th>QuizAvg</th>\n",
       "      <th>TestAvg</th>\n",
       "    </tr>\n",
       "  </thead>\n",
       "  <tbody>\n",
       "    <tr>\n",
       "      <th>0</th>\n",
       "      <td>1.270931</td>\n",
       "      <td>0.940813</td>\n",
       "      <td>1.304131</td>\n",
       "      <td>0.952737</td>\n",
       "    </tr>\n",
       "    <tr>\n",
       "      <th>1</th>\n",
       "      <td>0.790038</td>\n",
       "      <td>0.481346</td>\n",
       "      <td>0.285766</td>\n",
       "      <td>0.952737</td>\n",
       "    </tr>\n",
       "    <tr>\n",
       "      <th>2</th>\n",
       "      <td>-1.614426</td>\n",
       "      <td>0.749368</td>\n",
       "      <td>-0.878080</td>\n",
       "      <td>-0.638767</td>\n",
       "    </tr>\n",
       "    <tr>\n",
       "      <th>3</th>\n",
       "      <td>-0.652640</td>\n",
       "      <td>0.940813</td>\n",
       "      <td>-0.805340</td>\n",
       "      <td>1.028523</td>\n",
       "    </tr>\n",
       "    <tr>\n",
       "      <th>4</th>\n",
       "      <td>0.309145</td>\n",
       "      <td>0.481346</td>\n",
       "      <td>0.867689</td>\n",
       "      <td>0.346450</td>\n",
       "    </tr>\n",
       "    <tr>\n",
       "      <th>5</th>\n",
       "      <td>-0.893087</td>\n",
       "      <td>-2.045721</td>\n",
       "      <td>-1.169041</td>\n",
       "      <td>-1.472411</td>\n",
       "    </tr>\n",
       "    <tr>\n",
       "      <th>6</th>\n",
       "      <td>-0.652640</td>\n",
       "      <td>-0.246143</td>\n",
       "      <td>0.285766</td>\n",
       "      <td>-0.032480</td>\n",
       "    </tr>\n",
       "    <tr>\n",
       "      <th>7</th>\n",
       "      <td>0.309145</td>\n",
       "      <td>-0.361010</td>\n",
       "      <td>0.649467</td>\n",
       "      <td>-0.032480</td>\n",
       "    </tr>\n",
       "    <tr>\n",
       "      <th>8</th>\n",
       "      <td>1.992270</td>\n",
       "      <td>0.940813</td>\n",
       "      <td>1.522352</td>\n",
       "      <td>1.937953</td>\n",
       "    </tr>\n",
       "    <tr>\n",
       "      <th>9</th>\n",
       "      <td>-0.412194</td>\n",
       "      <td>0.251613</td>\n",
       "      <td>-0.368898</td>\n",
       "      <td>-0.487195</td>\n",
       "    </tr>\n",
       "    <tr>\n",
       "      <th>10</th>\n",
       "      <td>0.790038</td>\n",
       "      <td>0.251613</td>\n",
       "      <td>1.304131</td>\n",
       "      <td>0.346450</td>\n",
       "    </tr>\n",
       "    <tr>\n",
       "      <th>11</th>\n",
       "      <td>0.309145</td>\n",
       "      <td>-0.361010</td>\n",
       "      <td>-0.878080</td>\n",
       "      <td>-0.714553</td>\n",
       "    </tr>\n",
       "    <tr>\n",
       "      <th>12</th>\n",
       "      <td>-1.133533</td>\n",
       "      <td>0.136746</td>\n",
       "      <td>-1.096301</td>\n",
       "      <td>-0.638767</td>\n",
       "    </tr>\n",
       "    <tr>\n",
       "      <th>13</th>\n",
       "      <td>-0.412194</td>\n",
       "      <td>-2.160588</td>\n",
       "      <td>-1.023561</td>\n",
       "      <td>-1.548197</td>\n",
       "    </tr>\n",
       "  </tbody>\n",
       "</table>\n",
       "</div>"
      ],
      "text/plain": [
       "         ACT  FinalExam   QuizAvg   TestAvg\n",
       "0   1.270931   0.940813  1.304131  0.952737\n",
       "1   0.790038   0.481346  0.285766  0.952737\n",
       "2  -1.614426   0.749368 -0.878080 -0.638767\n",
       "3  -0.652640   0.940813 -0.805340  1.028523\n",
       "4   0.309145   0.481346  0.867689  0.346450\n",
       "5  -0.893087  -2.045721 -1.169041 -1.472411\n",
       "6  -0.652640  -0.246143  0.285766 -0.032480\n",
       "7   0.309145  -0.361010  0.649467 -0.032480\n",
       "8   1.992270   0.940813  1.522352  1.937953\n",
       "9  -0.412194   0.251613 -0.368898 -0.487195\n",
       "10  0.790038   0.251613  1.304131  0.346450\n",
       "11  0.309145  -0.361010 -0.878080 -0.714553\n",
       "12 -1.133533   0.136746 -1.096301 -0.638767\n",
       "13 -0.412194  -2.160588 -1.023561 -1.548197"
      ]
     },
     "execution_count": 21,
     "metadata": {},
     "output_type": "execute_result"
    }
   ],
   "source": [
    "data_std = (data - data.mean()) / data.std()\n",
    "print('Standardized Data: \\n')\n",
    "data_std"
   ]
  },
  {
   "cell_type": "markdown",
   "metadata": {},
   "source": [
    "### 2.2 Compute the covariance matrix of the whole dataset"
   ]
  },
  {
   "cell_type": "code",
   "execution_count": 23,
   "metadata": {},
   "outputs": [
    {
     "data": {
      "text/plain": [
       "matrix([[  784.14285714,  4369.21428571,  2179.92857143,  2154.35714286],\n",
       "        [ 4369.21428571, 25103.28571429, 12222.85714286, 12210.28571429],\n",
       "        [ 2179.92857143, 12222.85714286,  6115.5       ,  6016.57142857],\n",
       "        [ 2154.35714286, 12210.28571429,  6016.57142857,  6003.        ]])"
      ]
     },
     "execution_count": 23,
     "metadata": {},
     "output_type": "execute_result"
    }
   ],
   "source": [
    "X = np.matrix(data)\n",
    "cov = (X.T * X) / X.shape[0]\n",
    "cov"
   ]
  },
  {
   "cell_type": "markdown",
   "metadata": {},
   "source": [
    "## 2.3 Compute Eigenvectors and corresponding Eigenvalues"
   ]
  },
  {
   "cell_type": "code",
   "execution_count": 26,
   "metadata": {},
   "outputs": [
    {
     "name": "stdout",
     "output_type": "stream",
     "text": [
      "          0         1         2         3\n",
      "0 -0.142617  0.256181  0.083112 -0.952431\n",
      "1 -0.813946 -0.539614 -0.211119 -0.041686\n",
      "2 -0.398992  0.762910 -0.456162  0.225144\n",
      "3 -0.397439  0.247298  0.860487  0.201119\n",
      "              0\n",
      "0  37822.544854\n",
      "1    152.434219\n",
      "2     25.806567\n",
      "3      5.142932\n",
      "          0         1         2         3\n",
      "0 -0.142617 -0.813946 -0.398992 -0.397439\n",
      "1  0.256181 -0.539614  0.762910  0.247298\n",
      "2  0.083112 -0.211119 -0.456162  0.860487\n",
      "3 -0.952431 -0.041686  0.225144  0.201119\n"
     ]
    }
   ],
   "source": [
    "U, S, V = np.linalg.svd(cov)\n",
    "print(pd.DataFrame(U))\n",
    "      \n",
    "print(pd.DataFrame(S))\n",
    "      \n",
    "print(pd.DataFrame(V))"
   ]
  },
  {
   "cell_type": "markdown",
   "metadata": {},
   "source": [
    "## 2.4 Transform the Data onto the new subspace"
   ]
  },
  {
   "cell_type": "markdown",
   "metadata": {},
   "source": [
    "Now, I have the principal components (matrix U), we can use these to project the original data into a lower-dimensional space. Implementing a function that computes the projection and selects only the top K components, effectively reducing the number of dimensions."
   ]
  },
  {
   "cell_type": "code",
   "execution_count": 30,
   "metadata": {},
   "outputs": [],
   "source": [
    "def project_data(X, U, k):\n",
    "    U_reduced = U[:,:k]\n",
    "    return pd.DataFrame(np.dot(X, U_reduced))"
   ]
  },
  {
   "cell_type": "code",
   "execution_count": 32,
   "metadata": {},
   "outputs": [
    {
     "data": {
      "text/html": [
       "<div>\n",
       "<style scoped>\n",
       "    .dataframe tbody tr th:only-of-type {\n",
       "        vertical-align: middle;\n",
       "    }\n",
       "\n",
       "    .dataframe tbody tr th {\n",
       "        vertical-align: top;\n",
       "    }\n",
       "\n",
       "    .dataframe thead th {\n",
       "        text-align: right;\n",
       "    }\n",
       "</style>\n",
       "<table border=\"1\" class=\"dataframe\">\n",
       "  <thead>\n",
       "    <tr style=\"text-align: right;\">\n",
       "      <th></th>\n",
       "      <th>0</th>\n",
       "      <th>1</th>\n",
       "    </tr>\n",
       "  </thead>\n",
       "  <tbody>\n",
       "    <tr>\n",
       "      <th>0</th>\n",
       "      <td>-1.846020</td>\n",
       "      <td>1.048457</td>\n",
       "    </tr>\n",
       "    <tr>\n",
       "      <th>1</th>\n",
       "      <td>-0.997135</td>\n",
       "      <td>0.396275</td>\n",
       "    </tr>\n",
       "    <tr>\n",
       "      <th>2</th>\n",
       "      <td>0.224517</td>\n",
       "      <td>-1.645817</td>\n",
       "    </tr>\n",
       "    <tr>\n",
       "      <th>3</th>\n",
       "      <td>-0.760144</td>\n",
       "      <td>-1.034921</td>\n",
       "    </tr>\n",
       "    <tr>\n",
       "      <th>4</th>\n",
       "      <td>-0.919773</td>\n",
       "      <td>0.567101</td>\n",
       "    </tr>\n",
       "    <tr>\n",
       "      <th>5</th>\n",
       "      <td>2.844107</td>\n",
       "      <td>-0.380890</td>\n",
       "    </tr>\n",
       "    <tr>\n",
       "      <th>6</th>\n",
       "      <td>0.192315</td>\n",
       "      <td>0.175609</td>\n",
       "    </tr>\n",
       "    <tr>\n",
       "      <th>7</th>\n",
       "      <td>0.003529</td>\n",
       "      <td>0.761456</td>\n",
       "    </tr>\n",
       "    <tr>\n",
       "      <th>8</th>\n",
       "      <td>-2.427527</td>\n",
       "      <td>1.643376</td>\n",
       "    </tr>\n",
       "    <tr>\n",
       "      <th>9</th>\n",
       "      <td>0.194804</td>\n",
       "      <td>-0.643288</td>\n",
       "    </tr>\n",
       "    <tr>\n",
       "      <th>10</th>\n",
       "      <td>-0.975502</td>\n",
       "      <td>1.147230</td>\n",
       "    </tr>\n",
       "    <tr>\n",
       "      <th>11</th>\n",
       "      <td>0.884091</td>\n",
       "      <td>-0.572600</td>\n",
       "    </tr>\n",
       "    <tr>\n",
       "      <th>12</th>\n",
       "      <td>0.741643</td>\n",
       "      <td>-1.358525</td>\n",
       "    </tr>\n",
       "    <tr>\n",
       "      <th>13</th>\n",
       "      <td>2.841094</td>\n",
       "      <td>-0.103463</td>\n",
       "    </tr>\n",
       "  </tbody>\n",
       "</table>\n",
       "</div>"
      ],
      "text/plain": [
       "           0         1\n",
       "0  -1.846020  1.048457\n",
       "1  -0.997135  0.396275\n",
       "2   0.224517 -1.645817\n",
       "3  -0.760144 -1.034921\n",
       "4  -0.919773  0.567101\n",
       "5   2.844107 -0.380890\n",
       "6   0.192315  0.175609\n",
       "7   0.003529  0.761456\n",
       "8  -2.427527  1.643376\n",
       "9   0.194804 -0.643288\n",
       "10 -0.975502  1.147230\n",
       "11  0.884091 -0.572600\n",
       "12  0.741643 -1.358525\n",
       "13  2.841094 -0.103463"
      ]
     },
     "execution_count": 32,
     "metadata": {},
     "output_type": "execute_result"
    }
   ],
   "source": [
    "z = project_data(data_std, U, 2)\n",
    "z"
   ]
  },
  {
   "cell_type": "code",
   "execution_count": 39,
   "metadata": {},
   "outputs": [
    {
     "data": {
      "image/png": "[encoded data removed]",
      "text/plain": [
       "<Figure size 432x288 with 1 Axes>"
      ]
     },
     "metadata": {
      "needs_background": "light"
     },
     "output_type": "display_data"
    }
   ],
   "source": [
    "sns.scatterplot(z.iloc[:, 0], z.iloc[:, 1])\n",
    "plt.show()"
   ]
  },
  {
   "cell_type": "markdown",
   "metadata": {},
   "source": [
    "## 2.5 Transform back onto the old subspace"
   ]
  },
  {
   "cell_type": "code",
   "execution_count": 42,
   "metadata": {},
   "outputs": [],
   "source": [
    "def recover_data(Z, U, k):\n",
    "    U_reduced = U[:,:k]\n",
    "    return pd.DataFrame(np.dot(Z, U_reduced.T))"
   ]
  },
  {
   "cell_type": "code",
   "execution_count": 43,
   "metadata": {},
   "outputs": [
    {
     "data": {
      "text/html": [
       "<div>\n",
       "<style scoped>\n",
       "    .dataframe tbody tr th:only-of-type {\n",
       "        vertical-align: middle;\n",
       "    }\n",
       "\n",
       "    .dataframe tbody tr th {\n",
       "        vertical-align: top;\n",
       "    }\n",
       "\n",
       "    .dataframe thead th {\n",
       "        text-align: right;\n",
       "    }\n",
       "</style>\n",
       "<table border=\"1\" class=\"dataframe\">\n",
       "  <thead>\n",
       "    <tr style=\"text-align: right;\">\n",
       "      <th></th>\n",
       "      <th>0</th>\n",
       "      <th>1</th>\n",
       "      <th>2</th>\n",
       "      <th>3</th>\n",
       "    </tr>\n",
       "  </thead>\n",
       "  <tbody>\n",
       "    <tr>\n",
       "      <th>0</th>\n",
       "      <td>0.531869</td>\n",
       "      <td>0.936798</td>\n",
       "      <td>1.536426</td>\n",
       "      <td>0.992961</td>\n",
       "    </tr>\n",
       "    <tr>\n",
       "      <th>1</th>\n",
       "      <td>0.243727</td>\n",
       "      <td>0.597779</td>\n",
       "      <td>0.700171</td>\n",
       "      <td>0.494298</td>\n",
       "    </tr>\n",
       "    <tr>\n",
       "      <th>2</th>\n",
       "      <td>-0.453648</td>\n",
       "      <td>0.705361</td>\n",
       "      <td>-1.345191</td>\n",
       "      <td>-0.496238</td>\n",
       "    </tr>\n",
       "    <tr>\n",
       "      <th>3</th>\n",
       "      <td>-0.156718</td>\n",
       "      <td>1.177174</td>\n",
       "      <td>-0.486260</td>\n",
       "      <td>0.046177</td>\n",
       "    </tr>\n",
       "    <tr>\n",
       "      <th>4</th>\n",
       "      <td>0.276456</td>\n",
       "      <td>0.442630</td>\n",
       "      <td>0.799629</td>\n",
       "      <td>0.505796</td>\n",
       "    </tr>\n",
       "    <tr>\n",
       "      <th>5</th>\n",
       "      <td>-0.503195</td>\n",
       "      <td>-2.109416</td>\n",
       "      <td>-1.425361</td>\n",
       "      <td>-1.224552</td>\n",
       "    </tr>\n",
       "    <tr>\n",
       "      <th>6</th>\n",
       "      <td>0.017560</td>\n",
       "      <td>-0.251295</td>\n",
       "      <td>0.057242</td>\n",
       "      <td>-0.033006</td>\n",
       "    </tr>\n",
       "    <tr>\n",
       "      <th>7</th>\n",
       "      <td>0.194568</td>\n",
       "      <td>-0.413765</td>\n",
       "      <td>0.579515</td>\n",
       "      <td>0.186904</td>\n",
       "    </tr>\n",
       "    <tr>\n",
       "      <th>8</th>\n",
       "      <td>0.767209</td>\n",
       "      <td>1.089087</td>\n",
       "      <td>2.222312</td>\n",
       "      <td>1.371196</td>\n",
       "    </tr>\n",
       "    <tr>\n",
       "      <th>9</th>\n",
       "      <td>-0.192581</td>\n",
       "      <td>0.188567</td>\n",
       "      <td>-0.568496</td>\n",
       "      <td>-0.236506</td>\n",
       "    </tr>\n",
       "    <tr>\n",
       "      <th>10</th>\n",
       "      <td>0.433022</td>\n",
       "      <td>0.174945</td>\n",
       "      <td>1.264451</td>\n",
       "      <td>0.671410</td>\n",
       "    </tr>\n",
       "    <tr>\n",
       "      <th>11</th>\n",
       "      <td>-0.272776</td>\n",
       "      <td>-0.410619</td>\n",
       "      <td>-0.789588</td>\n",
       "      <td>-0.492975</td>\n",
       "    </tr>\n",
       "    <tr>\n",
       "      <th>12</th>\n",
       "      <td>-0.453800</td>\n",
       "      <td>0.129421</td>\n",
       "      <td>-1.332342</td>\n",
       "      <td>-0.630718</td>\n",
       "    </tr>\n",
       "    <tr>\n",
       "      <th>13</th>\n",
       "      <td>-0.431694</td>\n",
       "      <td>-2.256667</td>\n",
       "      <td>-1.212507</td>\n",
       "      <td>-1.154747</td>\n",
       "    </tr>\n",
       "  </tbody>\n",
       "</table>\n",
       "</div>"
      ],
      "text/plain": [
       "           0         1         2         3\n",
       "0   0.531869  0.936798  1.536426  0.992961\n",
       "1   0.243727  0.597779  0.700171  0.494298\n",
       "2  -0.453648  0.705361 -1.345191 -0.496238\n",
       "3  -0.156718  1.177174 -0.486260  0.046177\n",
       "4   0.276456  0.442630  0.799629  0.505796\n",
       "5  -0.503195 -2.109416 -1.425361 -1.224552\n",
       "6   0.017560 -0.251295  0.057242 -0.033006\n",
       "7   0.194568 -0.413765  0.579515  0.186904\n",
       "8   0.767209  1.089087  2.222312  1.371196\n",
       "9  -0.192581  0.188567 -0.568496 -0.236506\n",
       "10  0.433022  0.174945  1.264451  0.671410\n",
       "11 -0.272776 -0.410619 -0.789588 -0.492975\n",
       "12 -0.453800  0.129421 -1.332342 -0.630718\n",
       "13 -0.431694 -2.256667 -1.212507 -1.154747"
      ]
     },
     "execution_count": 43,
     "metadata": {},
     "output_type": "execute_result"
    }
   ],
   "source": [
    "data_recovered = recover_data(z, U, 2)\n",
    "data_recovered"
   ]
  },
  {
   "cell_type": "markdown",
   "metadata": {},
   "source": []
  }
 ],
 "metadata": {
  "kernelspec": {
   "display_name": "Python 3",
   "language": "python",
   "name": "python3"
  },
  "language_info": {
   "codemirror_mode": {
    "name": "ipython",
    "version": 3
   },
   "file_extension": ".py",
   "mimetype": "text/x-python",
   "name": "python",
   "nbconvert_exporter": "python",
   "pygments_lexer": "ipython3",
   "version": "3.7.2"
  }
 },
 "nbformat": 4,
 "nbformat_minor": 2
}
