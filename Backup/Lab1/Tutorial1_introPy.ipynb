{
 "cells": [
  {
   "cell_type": "code",
   "execution_count": 7,
   "metadata": {
    "collapsed": true
   },
   "outputs": [],
   "source": [
    "from __future__ import print_function\n",
    "\n",
    "import numpy as np\n",
    "import numpy.random as npr\n",
    "import scipy as sp\n",
    "import pandas as pd\n",
    "import matplotlib.pyplot as plt\n",
    "import seaborn as sb\n",
    "\n",
    "%matplotlib inline"
   ]
  },
  {
   "cell_type": "markdown",
   "metadata": {},
   "source": [
    "# This is an IPython Notebook\n",
    "You can\n",
    "* Coding Python and show results (including graphs) inside this file\n",
    "* Add comments and paragraphs like what we are doing in this block\n",
    "\n",
    "How to learn `Python`?\n",
    "* The most useful source is `Google` and `StackOverflow`;\n",
    "* Often, `Google` will redirect you to [Python official documentation](https://docs.python.org/2/).\n",
    "* A good and quick [starting tutorial](https://developers.google.com/edu/python/) to know `Python` basics; this tutorial is better to learn through command line.\n",
    "* Work with `NumPy` if you are doing computation. It is much faster and has better support on numerical computation.\n",
    "* Writting code in good style will show its importance as you go further. Read some [recommended styles](https://www.python.org/dev/peps/pep-0008/)\n",
    "* `Python` has a long learning curve. If you are interested, keep learning.\n",
    "* Notice that, `Python` has 2 versions, `Python 2.7` and `Python 3` (`3.5`, `3.6`). Both are widely used in academia and industry. At the beginning learning stage, they are mostly same. `Python 2.7` has a slightly better support from various packages, so you can start with it. But at some stage in the future, you may want to know their differences;\n",
    "* `Python` supports writing easy C extension through `Cython` if you want to accelerate your code. You don't need to learn this now. This may be something you are looking for in case you are interested.\n",
    "* A good book to read is \"_Python for Data Analysis_\"\n",
    "\n",
    "Some other things you may want to learn (not required for our class)\n",
    "* `Markdown`. A quick [tutorial](https://www.markdowntutorial.com/) (enough for daily use).\n",
    "* `Git`. A good [tutorial](https://git-scm.com/book/en/v2). First 3 chapters are enough for most cases.\n",
    "* `SQL`. W3C school has some tutorials.\n",
    "* `Hive`.\n",
    "* `Spark`."
   ]
  },
  {
   "cell_type": "code",
   "execution_count": 5,
   "metadata": {
    "collapsed": false
   },
   "outputs": [
    {
     "data": {
      "text/plain": [
       "3.0"
      ]
     },
     "execution_count": 5,
     "metadata": {},
     "output_type": "execute_result"
    }
   ],
   "source": [
    "1 + 2\n",
    "3 * 5\n",
    "np.pi\n",
    "8 / 3  # different between Python and R\n",
    "3.5 ** 3  # different between Python and R\n",
    "np.sqrt(9)"
   ]
  },
  {
   "cell_type": "code",
   "execution_count": 11,
   "metadata": {
    "collapsed": false
   },
   "outputs": [
    {
     "name": "stdout",
     "output_type": "stream",
     "text": [
      "3\n",
      "15\n",
      "3.14159265359\n",
      "2\n",
      "2.33333333333\n",
      "1\n",
      "42.875\n",
      "3.0\n"
     ]
    }
   ],
   "source": [
    "print(1 + 2)\n",
    "print(3 * 5)\n",
    "print(np.pi)\n",
    "print(7 / 3)  # different between Python and R\n",
    "print(7 / 3.0)  # different between Python and R\n",
    "print(7 % 3)  # different between Python and R\n",
    "print(3.5 ** 3)  # different between Python and R\n",
    "print(np.sqrt(9))"
   ]
  },
  {
   "cell_type": "markdown",
   "metadata": {},
   "source": [
    "### Python Pacakges\n",
    "\n",
    "**Built-in packages:**\n",
    "1. sys\n",
    "2. os\n",
    "3. re. regular expression\n",
    "4. json. JSON\n",
    "5. csv. handle csv files\n",
    "6. argparse. tools to create command line interface\n",
    "\n",
    "**Computation, statistics, machine learning (more important for now)**\n",
    "1. `NumPy`: the arguably most common used Python package for numerical calculation.\n",
    "2. `SciPy`: a complement to NumPy, more on scientific computation.\n",
    "3. `sklearn`: machine learning package built upon NumPy and Scipy.\n",
    "4. `statsmodel`: a complement to sklearn (I personally think sklearn is better and stabler)\n",
    "5. `Pandas`: more on data processing and data manipulation. Fast, scalable.\n",
    "6. `Matplotlib`: for common plotting task. `Seaborn` is another package for visualization.\n"
   ]
  },
  {
   "cell_type": "markdown",
   "metadata": {},
   "source": [
    "### Basic Python container type\n",
    "Built-in: (elements of the container can be different types)\n",
    "* `list`: constructed using `[]`\n",
    "* `tuple`: constructed using `()`\n",
    "* `set`: constructed using `set()`\n",
    "* `dictionary`: constructed using `{}`\n",
    "\n",
    "NumPy: (elements of the container must be in same type)\n",
    "* `numpy array`: constructed using `np.array([])`;\n",
    "* `numpy matrix`: nconstructed using `np.matrix([])`; not recommended personally"
   ]
  },
  {
   "cell_type": "markdown",
   "metadata": {},
   "source": [
    "Some examples"
   ]
  },
  {
   "cell_type": "code",
   "execution_count": 18,
   "metadata": {
    "collapsed": false
   },
   "outputs": [
    {
     "name": "stdout",
     "output_type": "stream",
     "text": [
      "weight: [120 140 165 190 130]\n",
      "height: [64 67 68 70 65]\n",
      "dat1: \n",
      "[[120  64]\n",
      " [140  67]\n",
      " [165  68]\n",
      " [190  70]\n",
      " [130  65]]\n",
      "dat2: \n",
      "[[120  64]\n",
      " [140  67]\n",
      " [165  68]\n",
      " [190  70]\n",
      " [130  65]]\n"
     ]
    }
   ],
   "source": [
    "height = np.array([64, 67, 68, 70, 65])\n",
    "weight = np.array([120, 140, 165, 190, 130])\n",
    "# summary(height): no similar function in NumPy, unfortunately\n",
    "print(\"weight: {0}\".format(weight))\n",
    "print(\"height: {0}\".format(height))\n",
    "dat1=np.concatenate((weight[:, np.newaxis], height[:, np.newaxis]), axis=1)\n",
    "print(\"dat1: \\n{0}\".format(dat1))\n",
    "dat2=np.vstack((weight, height)).T\n",
    "print(\"dat2: \\n{0}\".format(dat2))"
   ]
  },
  {
   "cell_type": "markdown",
   "metadata": {},
   "source": [
    "Plot: A simple way"
   ]
  },
  {
   "cell_type": "code",
   "execution_count": 86,
   "metadata": {
    "collapsed": false
   },
   "outputs": [
    {
     "data": {
      "text/plain": [
       "[<matplotlib.lines.Line2D at 0x7f5eed5a4a50>]"
      ]
     },
     "execution_count": 86,
     "metadata": {},
     "output_type": "execute_result"
    },
    {
     "data": {
      "image/png": "[encoded data removed]",
      "text/plain": [
       "<matplotlib.figure.Figure at 0x7f5eed604990>"
      ]
     },
     "metadata": {},
     "output_type": "display_data"
    }
   ],
   "source": [
    "plt.plot(height, weight, ls='None', marker='d')"
   ]
  },
  {
   "cell_type": "markdown",
   "metadata": {},
   "source": [
    "Plot: A complicated way"
   ]
  },
  {
   "cell_type": "code",
   "execution_count": 83,
   "metadata": {
    "collapsed": false
   },
   "outputs": [
    {
     "data": {
      "text/plain": [
       "<matplotlib.legend.Legend at 0x7f5eed8f9390>"
      ]
     },
     "execution_count": 83,
     "metadata": {},
     "output_type": "execute_result"
    },
    {
     "data": {
      "image/png": "[encoded data removed]",
      "text/plain": [
       "<matplotlib.figure.Figure at 0x7f5eed8a8c10>"
      ]
     },
     "metadata": {},
     "output_type": "display_data"
    }
   ],
   "source": [
    "fg = plt.figure(figsize=(5, 5))\n",
    "ax = fg.add_subplot(1, 1, 1)\n",
    "ax.set_xlabel(\"height\")\n",
    "ax.set_ylabel(\"weight\")\n",
    "ax.set_title(\"A figure\")\n",
    "\n",
    "ax.plot(height, weight, label='height~weight', ls='None', marker='D')\n",
    "ax.legend(loc=\"best\")"
   ]
  },
  {
   "cell_type": "markdown",
   "metadata": {},
   "source": [
    "Equally spaced values"
   ]
  },
  {
   "cell_type": "code",
   "execution_count": 35,
   "metadata": {
    "collapsed": false
   },
   "outputs": [
    {
     "name": "stdout",
     "output_type": "stream",
     "text": [
      "[ 1  2  3  4  5  6  7  8  9 10 11 12 13 14 15 16 17 18 19 20]\n",
      "[-4 -3 -2 -1  0  1  2  3  4  5]\n",
      "[5 4 3 2 1]\n",
      "[ 0.          0.05263158  0.10526316  0.15789474  0.21052632  0.26315789\n",
      "  0.31578947  0.36842105  0.42105263  0.47368421  0.52631579  0.57894737\n",
      "  0.63157895  0.68421053  0.73684211  0.78947368  0.84210526  0.89473684\n",
      "  0.94736842  1.        ]\n"
     ]
    }
   ],
   "source": [
    "print(np.arange(1, 21))  # Integers from 1 to 20\n",
    "print(np.arange(-4, 6))  # Integers from -4 to 5\n",
    "print(np.arange(5, 0, -1))  # Integers from 5 to 1\n",
    "print(np.linspace(0, 1, 20))  # 20 numbers equally spaced between 0 and 1"
   ]
  },
  {
   "cell_type": "markdown",
   "metadata": {},
   "source": [
    "Repeated values"
   ]
  },
  {
   "cell_type": "code",
   "execution_count": 37,
   "metadata": {
    "collapsed": false
   },
   "outputs": [
    {
     "name": "stdout",
     "output_type": "stream",
     "text": [
      "[1 1 1 2 2 2 3 3 3]\n",
      "[2 4 6 2 4 6 2 4 6 2 4 6]\n"
     ]
    }
   ],
   "source": [
    "print(np.repeat([1, 2, 3], 3))\n",
    "print(np.tile([2, 4, 6], 4))"
   ]
  },
  {
   "cell_type": "markdown",
   "metadata": {},
   "source": [
    "Construct a numpy array"
   ]
  },
  {
   "cell_type": "code",
   "execution_count": 43,
   "metadata": {
    "collapsed": false,
    "scrolled": true
   },
   "outputs": [
    {
     "name": "stdout",
     "output_type": "stream",
     "text": [
      "[ 1 23  2  3 12 18  6  9]\n",
      "9.25\n",
      "7.5\n",
      "55.4375\n"
     ]
    }
   ],
   "source": [
    "x = np.array([1, 23, 2, 3, 12, 18, 6, 9])\n",
    "print(x)\n",
    "print(x.mean())\n",
    "print(np.median(x))\n",
    "print(x.var())"
   ]
  },
  {
   "cell_type": "code",
   "execution_count": 45,
   "metadata": {
    "collapsed": false
   },
   "outputs": [
    {
     "data": {
      "text/plain": [
       "{'boxes': [<matplotlib.lines.Line2D at 0x7f5eedd6d310>],\n",
       " 'caps': [<matplotlib.lines.Line2D at 0x7f5eedb077d0>,\n",
       "  <matplotlib.lines.Line2D at 0x7f5eedb07e10>],\n",
       " 'fliers': [<matplotlib.lines.Line2D at 0x7f5eedb13ad0>],\n",
       " 'means': [],\n",
       " 'medians': [<matplotlib.lines.Line2D at 0x7f5eedb13490>],\n",
       " 'whiskers': [<matplotlib.lines.Line2D at 0x7f5eedb78a50>,\n",
       "  <matplotlib.lines.Line2D at 0x7f5eedb07190>]}"
      ]
     },
     "execution_count": 45,
     "metadata": {},
     "output_type": "execute_result"
    },
    {
     "data": {
      "image/png": "[encoded data removed]",
      "text/plain": [
       "<matplotlib.figure.Figure at 0x7f5eedbff590>"
      ]
     },
     "metadata": {},
     "output_type": "display_data"
    }
   ],
   "source": [
    "plt.boxplot(x)"
   ]
  },
  {
   "cell_type": "code",
   "execution_count": 44,
   "metadata": {
    "collapsed": false
   },
   "outputs": [
    {
     "data": {
      "text/plain": [
       "(array([ 3.,  0.,  1.,  1.,  0.,  1.,  0.,  1.,  0.,  1.]),\n",
       " array([  1. ,   3.2,   5.4,   7.6,   9.8,  12. ,  14.2,  16.4,  18.6,\n",
       "         20.8,  23. ]),\n",
       " <a list of 10 Patch objects>)"
      ]
     },
     "execution_count": 44,
     "metadata": {},
     "output_type": "execute_result"
    },
    {
     "data": {
      "image/png": "[encoded data removed]",
      "text/plain": [
       "<matplotlib.figure.Figure at 0x7f5eedd6d510>"
      ]
     },
     "metadata": {},
     "output_type": "display_data"
    }
   ],
   "source": [
    "plt.hist(x)"
   ]
  },
  {
   "cell_type": "markdown",
   "metadata": {},
   "source": [
    "### Indexing data ###\n",
    "\n",
    "2-dim array"
   ]
  },
  {
   "cell_type": "code",
   "execution_count": 47,
   "metadata": {
    "collapsed": false
   },
   "outputs": [
    {
     "name": "stdout",
     "output_type": "stream",
     "text": [
      "[[ 1  2  3  4]\n",
      " [ 5  6  7  8]\n",
      " [ 9 10 11 12]\n",
      " [13 14 15 16]]\n"
     ]
    }
   ],
   "source": [
    "A = np.arange(1, 17).reshape((4, 4))\n",
    "print(A)"
   ]
  },
  {
   "cell_type": "code",
   "execution_count": 56,
   "metadata": {
    "collapsed": false
   },
   "outputs": [
    {
     "name": "stdout",
     "output_type": "stream",
     "text": [
      "15\n",
      "10\n"
     ]
    }
   ],
   "source": [
    "print(A.T[2, 3])\n",
    "print(A.T[1, 2])"
   ]
  },
  {
   "cell_type": "markdown",
   "metadata": {},
   "source": [
    "Selecting multiple rows and columns"
   ]
  },
  {
   "cell_type": "code",
   "execution_count": 59,
   "metadata": {
    "collapsed": false
   },
   "outputs": [
    {
     "data": {
      "text/plain": [
       "array([[ 5, 13],\n",
       "       [ 7, 15]])"
      ]
     },
     "execution_count": 59,
     "metadata": {},
     "output_type": "execute_result"
    }
   ],
   "source": [
    "A.T[0:3:2, 1:4:2]  # one way"
   ]
  },
  {
   "cell_type": "code",
   "execution_count": 61,
   "metadata": {
    "collapsed": false
   },
   "outputs": [
    {
     "data": {
      "text/plain": [
       "array([[ 5,  9, 13],\n",
       "       [ 6, 10, 14],\n",
       "       [ 7, 11, 15]])"
      ]
     },
     "execution_count": 61,
     "metadata": {},
     "output_type": "execute_result"
    }
   ],
   "source": [
    "A.T[0:3, 1:4]"
   ]
  },
  {
   "cell_type": "code",
   "execution_count": 65,
   "metadata": {
    "collapsed": false
   },
   "outputs": [
    {
     "data": {
      "text/plain": [
       "array([[ 1,  5,  9, 13],\n",
       "       [ 2,  6, 10, 14]])"
      ]
     },
     "execution_count": 65,
     "metadata": {},
     "output_type": "execute_result"
    }
   ],
   "source": [
    "A.T[0:2, :]"
   ]
  },
  {
   "cell_type": "code",
   "execution_count": 66,
   "metadata": {
    "collapsed": false
   },
   "outputs": [
    {
     "data": {
      "text/plain": [
       "array([[ 9, 13],\n",
       "       [10, 14],\n",
       "       [11, 15],\n",
       "       [12, 16]])"
      ]
     },
     "execution_count": 66,
     "metadata": {},
     "output_type": "execute_result"
    }
   ],
   "source": [
    "A.T[:, 2:4]"
   ]
  },
  {
   "cell_type": "code",
   "execution_count": 69,
   "metadata": {
    "collapsed": false
   },
   "outputs": [
    {
     "data": {
      "text/plain": [
       "array([ 1,  5,  9, 13])"
      ]
     },
     "execution_count": 69,
     "metadata": {},
     "output_type": "execute_result"
    }
   ],
   "source": [
    "A.T[0, :]"
   ]
  },
  {
   "cell_type": "markdown",
   "metadata": {},
   "source": [
    "Regarding selection by excluding some indices, there no ways as direct as R. One way you can do this is, exclude those index from some index array first, they use the left to select.\n",
    "\n",
    "It is not recommended either since really exclude elements involving rebuild the entire array, which is a huge cost of memory and time.\n"
   ]
  },
  {
   "cell_type": "code",
   "execution_count": 74,
   "metadata": {
    "collapsed": false
   },
   "outputs": [
    {
     "data": {
      "text/plain": [
       "array([[ 2,  6, 10, 14],\n",
       "       [ 4,  8, 12, 16]])"
      ]
     },
     "execution_count": 74,
     "metadata": {},
     "output_type": "execute_result"
    }
   ],
   "source": [
    "A.T[(1,3),:]  # python can"
   ]
  },
  {
   "cell_type": "code",
   "execution_count": 75,
   "metadata": {
    "collapsed": false
   },
   "outputs": [
    {
     "data": {
      "text/plain": [
       "2"
      ]
     },
     "execution_count": 75,
     "metadata": {},
     "output_type": "execute_result"
    }
   ],
   "source": [
    "A.ndim"
   ]
  },
  {
   "cell_type": "markdown",
   "metadata": {},
   "source": [
    "### Some visualizations"
   ]
  },
  {
   "cell_type": "markdown",
   "metadata": {},
   "source": [
    "Plotting symbols and colors"
   ]
  },
  {
   "cell_type": "code",
   "execution_count": 9,
   "metadata": {
    "collapsed": false
   },
   "outputs": [
    {
     "data": {
      "image/png": "[encoded data removed]",
      "text/plain": [
       "<matplotlib.figure.Figure at 0x7f771279d5d0>"
      ]
     },
     "metadata": {},
     "output_type": "display_data"
    }
   ],
   "source": [
    "# seems no good ways to use array of pch directly\n",
    "# but colors can cycling\n",
    "mk = np.array(['.', 'o', 'v', '8', 's'])\n",
    "x = np.arange(20)\n",
    "y = np.arange(20)\n",
    "\n",
    "for i in xrange(20):\n",
    "    plt.scatter(x[i], y[i], marker=mk[i % 5])"
   ]
  },
  {
   "cell_type": "markdown",
   "metadata": {},
   "source": [
    "The recycling rule in `R` does not work here."
   ]
  },
  {
   "cell_type": "markdown",
   "metadata": {},
   "source": [
    "Colors can be called by names too. RGB number can also be used (passed as string)\n",
    "\n",
    "Color array is only supported for `plt.scatter` and `c=`"
   ]
  },
  {
   "cell_type": "code",
   "execution_count": 107,
   "metadata": {
    "collapsed": false,
    "scrolled": false
   },
   "outputs": [
    {
     "data": {
      "text/plain": [
       "<matplotlib.collections.PathCollection at 0x7f5eecf9fc50>"
      ]
     },
     "execution_count": 107,
     "metadata": {},
     "output_type": "execute_result"
    },
    {
     "data": {
      "image/png": "[encoded data removed]",
      "text/plain": [
       "<matplotlib.figure.Figure at 0x7f5eeda64e50>"
      ]
     },
     "metadata": {},
     "output_type": "display_data"
    }
   ],
   "source": [
    "plt.scatter(npr.normal(0, 1, 30), npr.normal(0, 1, 30), lw=2, c=np.tile([\"blue\", 'red'], 15), marker='x')"
   ]
  },
  {
   "cell_type": "markdown",
   "metadata": {},
   "source": [
    "### Numpy functions ###\n",
    "\n",
    "Numpy provides many vectorized function, which can operate componenetwisely when you apply it on a numpy array."
   ]
  },
  {
   "cell_type": "code",
   "execution_count": 4,
   "metadata": {
    "collapsed": false
   },
   "outputs": [
    {
     "data": {
      "text/plain": [
       "array([ 0.        ,  0.40406102,  0.57142857,  0.69985421,  0.80812204,\n",
       "        0.9035079 ,  0.98974332,  1.06904497,  1.14285714,  1.21218305,\n",
       "        1.27775313,  1.34011879,  1.39970842,  1.45686272,  1.51185789,\n",
       "        1.56492159,  1.61624407,  1.66598626,  1.71428571,  1.76126114,\n",
       "        1.80701581,  1.8516402 ,  1.89521417,  1.93780857,  1.97948664,\n",
       "        2.02030509,  2.06031501,  2.09956264,  2.13808994,  2.17593517,\n",
       "        2.21313334,  2.24971654,  2.28571429,  2.32115383,  2.35606036,\n",
       "        2.39045722,  2.42436611,  2.45780722,  2.4907994 ,  2.52336025,\n",
       "        2.55550626,  2.5872529 ,  2.61861468,  2.64960528,  2.68023758,\n",
       "        2.71052371,  2.74047516,  2.77010278,  2.79941685,  2.82842712])"
      ]
     },
     "execution_count": 4,
     "metadata": {},
     "output_type": "execute_result"
    }
   ],
   "source": [
    "x = np.linspace(0, 8, 50)\n",
    "np.sqrt(x)"
   ]
  },
  {
   "cell_type": "markdown",
   "metadata": {},
   "source": [
    "## Now, your challenge\n",
    "\n",
    "* Step 1: Add a new chunk.\n",
    "* Step 2: Make an array x that consists of 30 equally spaced values between -1 and 1.\n",
    "* Step 3: Make an array y=np.sin(x)\n",
    "* Step 4: Make a scatter plot of y and x.\n",
    "* Step 5: Change the plotting character to a diamond.\n",
    "* Step 6: Change the color of your dots.\n",
    "* Step 7: Read help(plt) about different types of plot specified by type =."
   ]
  },
  {
   "cell_type": "code",
   "execution_count": null,
   "metadata": {
    "collapsed": true
   },
   "outputs": [],
   "source": []
  }
 ],
 "metadata": {
  "anaconda-cloud": {},
  "kernelspec": {
   "display_name": "Python [default]",
   "language": "python",
   "name": "python2"
  },
  "language_info": {
   "codemirror_mode": {
    "name": "ipython",
    "version": 2
   },
   "file_extension": ".py",
   "mimetype": "text/x-python",
   "name": "python",
   "nbconvert_exporter": "python",
   "pygments_lexer": "ipython2",
   "version": "2.7.12"
  }
 },
 "nbformat": 4,
 "nbformat_minor": 2
}
