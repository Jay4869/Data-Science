{
 "cells": [
  {
   "cell_type": "markdown",
   "metadata": {},
   "source": [
    "# Tensorflow Tutorial"
   ]
  },
  {
   "cell_type": "markdown",
   "metadata": {},
   "source": [
    "## What is a Tensor?\n",
    "\n",
    "Conceptually, a Tensor is a multi-dimensional data container for modern machine learning. Similar to NumPy ndarray objects, tf.Tensor objects have a data type and a shape. The main difference is that tf.Tensors, additionally, can reside in accelerator memory (like a GPU). TensorFlow offers a rich library of operations (tf.add, tf.matmul, tf.linalg.inv etc.) that consume and produce tf.Tensors.\n",
    "\n",
    "Reference: https://hackernoon.com/learning-ai-if-you-suck-at-math-p4-tensors-illustrated-with-cats-27f0002c9b32"
   ]
  },
  {
   "cell_type": "code",
   "execution_count": 1,
   "metadata": {},
   "outputs": [],
   "source": [
    "import numpy as np\n",
    "import tensorflow as tf"
   ]
  },
  {
   "cell_type": "code",
   "execution_count": 2,
   "metadata": {},
   "outputs": [
    {
     "name": "stdout",
     "output_type": "stream",
     "text": [
      "3\n",
      "[1.0, 2.0, 3.0]\n",
      "[[1.0, 2.0, 3.0], [4.0, 5.0, 6.0]]\n",
      "[[[1.0, 2.0, 3.0]], [[7.0, 8.0, 9.0]]]\n"
     ]
    }
   ],
   "source": [
    "# a rank 0 tensor; a scalar with shape []\n",
    "print(3)\n",
    "\n",
    "# a rank 1 tensor; a vector with shape [3]\n",
    "print([1., 2., 3.])\n",
    "\n",
    "# a rank 2 tensor; a matrix with shape [2, 3]\n",
    "print([[1., 2., 3.], [4., 5., 6.]])\n",
    "\n",
    "# a rank 3 tensor with shape [2, 1, 3]\n",
    "print([[[1., 2., 3.]], [[7., 8., 9.]]])"
   ]
  },
  {
   "cell_type": "markdown",
   "metadata": {},
   "source": [
    "## Graph\n",
    "\n",
    "A **computational graph** is a series of TensorFlow operations arranged into a graph. The graph is composed of two types of objects.\n",
    "\n",
    "- Operations: The nodes of the graph. Operations describe calculations that consume and produce tensors.\n",
    "- Tensors: The edges in the graph. These represent the values that will flow through the graph. Most TensorFlow functions return `tf.Tensors`."
   ]
  },
  {
   "cell_type": "code",
   "execution_count": 3,
   "metadata": {},
   "outputs": [
    {
     "name": "stdout",
     "output_type": "stream",
     "text": [
      "tf.Tensor(3.0, shape=(), dtype=float32)\n",
      "tf.Tensor([4 5], shape=(2,), dtype=int32)\n",
      "tf.Tensor([5 6], shape=(2,), dtype=int32)\n"
     ]
    }
   ],
   "source": [
    "a = tf.constant(3.0, dtype=tf.float32)\n",
    "b = tf.constant([4,5]) # also tf.float32 implicitly\n",
    "total = tf.add(b, 1)\n",
    "print(a)\n",
    "print(b)\n",
    "print(total)"
   ]
  },
  {
   "cell_type": "markdown",
   "metadata": {},
   "source": [
    "**tf.Tensors work congruently with Numpy arrays (in eager execution)**. NumPy operations accept tf.Tensor arguments. TensorFlow math operations convert Python objects and NumPy arrays to tf.Tensor objects. The tf.Tensor.numpy method returns the object's value as a NumPy ndarray."
   ]
  },
  {
   "cell_type": "code",
   "execution_count": 23,
   "metadata": {},
   "outputs": [
    {
     "name": "stdout",
     "output_type": "stream",
     "text": [
      "Tensor: tf.Tensor(\n",
      "[[1 2]\n",
      " [3 4]], shape=(2, 2), dtype=int32)\n",
      "Tensor shape: (2, 2)\n",
      "Tensor type: <dtype: 'int32'>\n"
     ]
    }
   ],
   "source": [
    "a = tf.constant([[1, 2], [3, 4]])\n",
    "print('Tensor:', a)\n",
    "print('Tensor shape:', a.shape)\n",
    "print('Tensor type:', a.dtype)"
   ]
  },
  {
   "cell_type": "code",
   "execution_count": 25,
   "metadata": {},
   "outputs": [
    {
     "name": "stdout",
     "output_type": "stream",
     "text": [
      "tf.Tensor(3, shape=(), dtype=int32)\n",
      "tf.Tensor([4 6], shape=(2,), dtype=int32)\n",
      "tf.Tensor(25, shape=(), dtype=int32)\n",
      "tf.Tensor(6, shape=(), dtype=int32)\n",
      "tf.Tensor(13, shape=(), dtype=int32)\n"
     ]
    }
   ],
   "source": [
    "# Broadcasting support\n",
    "print(tf.add(1, 2))\n",
    "print(tf.add([1, 2], [3, 4]))\n",
    "print(tf.square(5))\n",
    "print(tf.reduce_sum([1, 2, 3]))\n",
    "\n",
    "# Operator overloading is also supported\n",
    "print(tf.square(2) + tf.square(3))"
   ]
  },
  {
   "cell_type": "markdown",
   "metadata": {},
   "source": [
    "As seen from previous examples, tensors and Numpy arrays work congruently with each other. **We will show that we can also initialize a tensor using Numpy.** The function to be used is `tf.convert_to_tensor`"
   ]
  },
  {
   "cell_type": "code",
   "execution_count": 10,
   "metadata": {},
   "outputs": [
    {
     "name": "stdout",
     "output_type": "stream",
     "text": [
      "tf.Tensor([ 1.3  1.   4.  23.5], shape=(4,), dtype=float64)\n",
      "0: tf.Tensor(1.3, shape=(), dtype=float64)\n",
      "2: tf.Tensor(4.0, shape=(), dtype=float64)\n"
     ]
    }
   ],
   "source": [
    "# create a Python array:\n",
    "array_1d = np.array([1.3, 1, 4.0, 23.5])\n",
    "tf_tensor = tf.convert_to_tensor(value=array_1d, dtype=tf.float64)\n",
    "\n",
    "print(tf_tensor)\n",
    "print('0:',tf_tensor[0])\n",
    "print('2:',tf_tensor[2])"
   ]
  },
  {
   "cell_type": "markdown",
   "metadata": {},
   "source": [
    "## Tensorboard\n",
    "\n",
    "TensorFlow provides a utility called TensorBoard. One of TensorBoard's many capabilities is visualizing a computation graph. You can easily do this with a few simple commands.\n",
    "\n",
    "more detailed instructions and tutorial on: https://www.tensorflow.org/guide/summaries_and_tensorboard"
   ]
  },
  {
   "cell_type": "markdown",
   "metadata": {},
   "source": [
    "## Constant/Variable\n",
    "\n",
    "Variables is a primitive class in Tensorflow. It has the following properties:\n",
    "\n",
    "* initial value is required\n",
    "* updated during training\n",
    "* in-memory buffer (saved/restored from disk)\n",
    "* can be shared in a distributed environment\n",
    "* they hold learned parameters of a model"
   ]
  },
  {
   "cell_type": "code",
   "execution_count": 28,
   "metadata": {},
   "outputs": [
    {
     "name": "stdout",
     "output_type": "stream",
     "text": [
      "Tensorflow variable:\n",
      "<tf.Variable 'Variable:0' shape=(2, 2) dtype=int32, numpy=\n",
      "array([[1, 2],\n",
      "       [3, 4]])>\n",
      "Numpy variable:\n",
      "[[1 2]\n",
      " [3 4]]\n",
      "Tensorflow multiplication:\n",
      "tf.Tensor(\n",
      "[[ 2  4]\n",
      " [ 9 12]], shape=(2, 2), dtype=int32)\n",
      "Numpy muliplication:\n",
      "tf.Tensor(\n",
      "[[ 2  4]\n",
      " [ 9 12]], shape=(2, 2), dtype=int32)\n",
      "tf.Tensor(\n",
      "[[ 2  4]\n",
      " [ 9 12]], shape=(2, 2), dtype=int32)\n"
     ]
    }
   ],
   "source": [
    "# Let's try to compare with tf.Variable\n",
    "a = tf.Variable([[1, 2], [3, 4]])\n",
    "b = tf.Variable([[2, 2], [3, 3]])\n",
    "\n",
    "print('Tensorflow variable:')\n",
    "print(a)\n",
    "print('Numpy variable:')\n",
    "print(a.numpy())\n",
    "\n",
    "# tf.multiply of two tf.Variable's \n",
    "print('Tensorflow multiplication:')\n",
    "c_tf = tf.multiply(a, b)\n",
    "print(c_tf)\n",
    "\n",
    "print('Numpy muliplication:')\n",
    "c_np = np.multiply(a, b)\n",
    "print(c_np)"
   ]
  },
  {
   "cell_type": "code",
   "execution_count": 31,
   "metadata": {},
   "outputs": [
    {
     "name": "stdout",
     "output_type": "stream",
     "text": [
      "[[<tf.Tensor: id=243, shape=(2, 2), dtype=int32, numpy=\n",
      "array([[2, 4],\n",
      "       [6, 8]])>\n",
      "  <tf.Tensor: id=246, shape=(2, 2), dtype=int32, numpy=\n",
      "array([[ 3,  6],\n",
      "       [ 9, 12]])>]\n",
      " [<tf.Tensor: id=249, shape=(2, 2), dtype=int32, numpy=\n",
      "array([[ 4,  8],\n",
      "       [12, 16]])>\n",
      "  <tf.Tensor: id=252, shape=(2, 2), dtype=int32, numpy=\n",
      "array([[ 5, 10],\n",
      "       [15, 20]])>]]\n"
     ]
    }
   ],
   "source": [
    "# Don't do this! yields weird answers\n",
    "d = tf.add(a,1)\n",
    "d_np = np.multiply(a, d)\n",
    "print(d_np)"
   ]
  },
  {
   "cell_type": "code",
   "execution_count": null,
   "metadata": {},
   "outputs": [],
   "source": []
  }
 ],
 "metadata": {
  "kernelspec": {
   "display_name": "Python 3",
   "language": "python",
   "name": "python3"
  },
  "language_info": {
   "codemirror_mode": {
    "name": "ipython",
    "version": 3
   },
   "file_extension": ".py",
   "mimetype": "text/x-python",
   "name": "python",
   "nbconvert_exporter": "python",
   "pygments_lexer": "ipython3",
   "version": "3.7.4"
  }
 },
 "nbformat": 4,
 "nbformat_minor": 2
}
