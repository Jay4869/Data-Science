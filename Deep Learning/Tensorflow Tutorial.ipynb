{
 "cells": [
  {
   "cell_type": "markdown",
   "metadata": {},
   "source": [
    "# Tensorflow Tutorial"
   ]
  },
  {
   "cell_type": "markdown",
   "metadata": {},
   "source": [
    "## What is a Tensor?\n",
    "\n",
    "Conceptually, a Tensor is a multi-dimensional data container for modern machine learning. Similar to NumPy ndarray objects, tf.Tensor objects have a data type and a shape. The main difference is that tf.Tensors, additionally, can reside in accelerator memory (like a GPU). TensorFlow offers a rich library of operations (tf.add, tf.matmul, tf.linalg.inv etc.) that consume and produce tf.Tensors.\n",
    "\n",
    "Reference: https://hackernoon.com/learning-ai-if-you-suck-at-math-p4-tensors-illustrated-with-cats-27f0002c9b32"
   ]
  },
  {
   "cell_type": "code",
   "execution_count": 1,
   "metadata": {},
   "outputs": [],
   "source": [
    "import numpy as np\n",
    "import tensorflow as tf"
   ]
  },
  {
   "cell_type": "code",
   "execution_count": 2,
   "metadata": {},
   "outputs": [
    {
     "name": "stdout",
     "output_type": "stream",
     "text": [
      "3\n",
      "[1.0, 2.0, 3.0]\n",
      "[[1.0, 2.0, 3.0], [4.0, 5.0, 6.0]]\n",
      "[[[1.0, 2.0, 3.0]], [[7.0, 8.0, 9.0]]]\n"
     ]
    }
   ],
   "source": [
    "# a rank 0 tensor; a scalar with shape []\n",
    "print(3)\n",
    "\n",
    "# a rank 1 tensor; a vector with shape [3]\n",
    "print([1., 2., 3.])\n",
    "\n",
    "# a rank 2 tensor; a matrix with shape [2, 3]\n",
    "print([[1., 2., 3.], [4., 5., 6.]])\n",
    "\n",
    "# a rank 3 tensor with shape [2, 1, 3]\n",
    "print([[[1., 2., 3.]], [[7., 8., 9.]]])"
   ]
  },
  {
   "cell_type": "markdown",
   "metadata": {},
   "source": [
    "## Graph\n",
    "\n",
    "A **computational graph** is a series of TensorFlow operations arranged into a graph. The graph is composed of two types of objects.\n",
    "\n",
    "- Operations: The nodes of the graph. Operations describe calculations that consume and produce tensors.\n",
    "- Tensors: The edges in the graph. These represent the values that will flow through the graph. Most TensorFlow functions return `tf.Tensors`.\n",
    "\n",
    "## Eager Execution\n",
    "\n",
    "The eager execution is the default operating mode of Tensorflow 2.0. So far we have actually been doing everything in eager execution. TensorFlow's eager execution is an imperative programming environment that evaluates operations immediately, without building graphs: operations return concrete values instead of constructing a computational graph to run later. This makes it easy to get started with TensorFlow and debug models, and it reduces boilerplate as well. That being said, in contrary to the eager execution, there is another mode of operation called the graph mode.\n",
    "\n",
    "While the eager execution mode is easier to code (like plain Python syntax), the graph mode still holds benefits in being portable and highly-performanced.\n",
    "\n",
    "We will not dive deeper into the graph mode in this turorial. If you are interested and wanted to know how to convert to graphical execution in Tensorflow 2.0 via functions, you may refer to [this](https://github.com/tensorflow/community/blob/master/rfcs/20180918-functions-not-sessions-20.md)"
   ]
  },
  {
   "cell_type": "code",
   "execution_count": 3,
   "metadata": {},
   "outputs": [
    {
     "data": {
      "text/plain": [
       "True"
      ]
     },
     "execution_count": 3,
     "metadata": {},
     "output_type": "execute_result"
    }
   ],
   "source": [
    "tf.executing_eagerly()"
   ]
  },
  {
   "cell_type": "code",
   "execution_count": 3,
   "metadata": {},
   "outputs": [
    {
     "name": "stdout",
     "output_type": "stream",
     "text": [
      "tf.Tensor(3.0, shape=(), dtype=float32)\n",
      "tf.Tensor([4 5], shape=(2,), dtype=int32)\n",
      "tf.Tensor([5 6], shape=(2,), dtype=int32)\n"
     ]
    }
   ],
   "source": [
    "a = tf.constant(3.0, dtype=tf.float32)\n",
    "b = tf.constant([4,5]) # also tf.float32 implicitly\n",
    "total = tf.add(b, 1)\n",
    "print(a)\n",
    "print(b)\n",
    "print(total)"
   ]
  },
  {
   "cell_type": "markdown",
   "metadata": {},
   "source": [
    "**tf.Tensors work congruently with Numpy arrays (in eager execution)**. NumPy operations accept tf.Tensor arguments. TensorFlow math operations convert Python objects and NumPy arrays to tf.Tensor objects. The tf.Tensor.numpy method returns the object's value as a NumPy ndarray."
   ]
  },
  {
   "cell_type": "code",
   "execution_count": 23,
   "metadata": {},
   "outputs": [
    {
     "name": "stdout",
     "output_type": "stream",
     "text": [
      "Tensor: tf.Tensor(\n",
      "[[1 2]\n",
      " [3 4]], shape=(2, 2), dtype=int32)\n",
      "Tensor shape: (2, 2)\n",
      "Tensor type: <dtype: 'int32'>\n"
     ]
    }
   ],
   "source": [
    "a = tf.constant([[1, 2], [3, 4]])\n",
    "print('Tensor:', a)\n",
    "print('Tensor shape:', a.shape)\n",
    "print('Tensor type:', a.dtype)"
   ]
  },
  {
   "cell_type": "code",
   "execution_count": 25,
   "metadata": {},
   "outputs": [
    {
     "name": "stdout",
     "output_type": "stream",
     "text": [
      "tf.Tensor(3, shape=(), dtype=int32)\n",
      "tf.Tensor([4 6], shape=(2,), dtype=int32)\n",
      "tf.Tensor(25, shape=(), dtype=int32)\n",
      "tf.Tensor(6, shape=(), dtype=int32)\n",
      "tf.Tensor(13, shape=(), dtype=int32)\n"
     ]
    }
   ],
   "source": [
    "# Broadcasting support\n",
    "print(tf.add(1, 2))\n",
    "print(tf.add([1, 2], [3, 4]))\n",
    "print(tf.square(5))\n",
    "print(tf.reduce_sum([1, 2, 3]))\n",
    "\n",
    "# Operator overloading is also supported\n",
    "print(tf.square(2) + tf.square(3))"
   ]
  },
  {
   "cell_type": "markdown",
   "metadata": {},
   "source": [
    "As seen from previous examples, tensors and Numpy arrays work congruently with each other. **We will show that we can also initialize a tensor using Numpy.** The function to be used is `tf.convert_to_tensor`"
   ]
  },
  {
   "cell_type": "code",
   "execution_count": 10,
   "metadata": {},
   "outputs": [
    {
     "name": "stdout",
     "output_type": "stream",
     "text": [
      "tf.Tensor([ 1.3  1.   4.  23.5], shape=(4,), dtype=float64)\n",
      "0: tf.Tensor(1.3, shape=(), dtype=float64)\n",
      "2: tf.Tensor(4.0, shape=(), dtype=float64)\n"
     ]
    }
   ],
   "source": [
    "# create a Python array:\n",
    "array_1d = np.array([1.3, 1, 4.0, 23.5])\n",
    "tf_tensor = tf.convert_to_tensor(value=array_1d, dtype=tf.float64)\n",
    "\n",
    "print(tf_tensor)\n",
    "print('0:',tf_tensor[0])\n",
    "print('2:',tf_tensor[2])"
   ]
  },
  {
   "cell_type": "markdown",
   "metadata": {},
   "source": [
    "## Constant/Variable\n",
    "\n",
    "Variables is a primitive class in Tensorflow. It has the following properties:\n",
    "\n",
    "* initial value is required\n",
    "* updated during training\n",
    "* in-memory buffer (saved/restored from disk)\n",
    "* can be shared in a distributed environment\n",
    "* they hold learned parameters of a model"
   ]
  },
  {
   "cell_type": "code",
   "execution_count": 28,
   "metadata": {},
   "outputs": [
    {
     "name": "stdout",
     "output_type": "stream",
     "text": [
      "Tensorflow variable:\n",
      "<tf.Variable 'Variable:0' shape=(2, 2) dtype=int32, numpy=\n",
      "array([[1, 2],\n",
      "       [3, 4]])>\n",
      "Numpy variable:\n",
      "[[1 2]\n",
      " [3 4]]\n",
      "Tensorflow multiplication:\n",
      "tf.Tensor(\n",
      "[[ 2  4]\n",
      " [ 9 12]], shape=(2, 2), dtype=int32)\n",
      "Numpy muliplication:\n",
      "tf.Tensor(\n",
      "[[ 2  4]\n",
      " [ 9 12]], shape=(2, 2), dtype=int32)\n",
      "tf.Tensor(\n",
      "[[ 2  4]\n",
      " [ 9 12]], shape=(2, 2), dtype=int32)\n"
     ]
    }
   ],
   "source": [
    "# Let's try to compare with tf.Variable\n",
    "a = tf.Variable([[1, 2], [3, 4]])\n",
    "b = tf.Variable([[2, 2], [3, 3]])\n",
    "\n",
    "print('Tensorflow variable:')\n",
    "print(a)\n",
    "print('Numpy variable:')\n",
    "print(a.numpy())\n",
    "\n",
    "# tf.multiply of two tf.Variable's \n",
    "print('Tensorflow multiplication:')\n",
    "c_tf = tf.multiply(a, b)\n",
    "print(c_tf)\n",
    "\n",
    "print('Numpy muliplication:')\n",
    "c_np = np.multiply(a, b)\n",
    "print(c_np)"
   ]
  },
  {
   "cell_type": "code",
   "execution_count": 31,
   "metadata": {},
   "outputs": [
    {
     "name": "stdout",
     "output_type": "stream",
     "text": [
      "[[<tf.Tensor: id=243, shape=(2, 2), dtype=int32, numpy=\n",
      "array([[2, 4],\n",
      "       [6, 8]])>\n",
      "  <tf.Tensor: id=246, shape=(2, 2), dtype=int32, numpy=\n",
      "array([[ 3,  6],\n",
      "       [ 9, 12]])>]\n",
      " [<tf.Tensor: id=249, shape=(2, 2), dtype=int32, numpy=\n",
      "array([[ 4,  8],\n",
      "       [12, 16]])>\n",
      "  <tf.Tensor: id=252, shape=(2, 2), dtype=int32, numpy=\n",
      "array([[ 5, 10],\n",
      "       [15, 20]])>]]\n"
     ]
    }
   ],
   "source": [
    "# Don't do this! yields weird answers\n",
    "d = tf.add(a,1)\n",
    "d_np = np.multiply(a, d)\n",
    "print(d_np)"
   ]
  },
  {
   "cell_type": "markdown",
   "metadata": {},
   "source": [
    "## Keras and Tensorboard¶\n",
    "One big change in Tensorflow 2.0 is the integration of Keras as a higher level API. The integration makes it easier and faster for new users to get started with TensorFlow. Below we will quickly go through a classification example provided in this post using tf.keras. Then we will implement another model using lower-level Tensorflow without Keras, just to give you a taste.\n",
    "\n",
    "**Quick guide for Tensorboard**\n",
    "\n",
    "Tensorboard is a powerful tool provided by TensorFlow. It allows developers to check their graph and trend of parameters. This guide will give you a basic under standing on how to set up Tensorboard graph in your code, start tensorboard on your local machine/GCP instance and how to access the interface.\n",
    "\n",
    "For complete instructions, check the official guide on Tensorflow web site [here](https://www.tensorflow.org/get_started/summaries_and_tensorboard).\n",
    "\n",
    "**How to start tensorboard**\n",
    "\n",
    "**Local**\n",
    "\n",
    "To start your Tensorboard on your local machine, you need to specify a log directory for the service to fetch the graph. For example, in your command line, type:\n",
    "\n",
    "```shell\n",
    "$ tensorboard --logdir=\"~/log\"\n",
    "```\n",
    "\n",
    "Then, Tensorboard will start running. By default, it will be running on port 6006:\n",
    "\n",
    "``` shell\n",
    "TensorBoard 1.8.0 at http://localhost:6006 (Press CTRL+C to quit)\n",
    "```\n",
    "\n",
    "Make sure Tensorboard is running, you can visit http://localhost:6006 In your browser and you should be able to see the main page of Tensorboard. If the page is shown as below, it means Tensorboard is running correctly. The report is due to lack of event file, but we can just leave it there for now.\n",
    "\n",
    "![Tensorboard](../Data/notebook_images/tensorboard.png)\n",
    "\n",
    "**GCP**\n",
    "\n",
    "To set up the Tensorboard on GCP is the same as above. However, we're not able to check the Tensorboard UI directly through our browser. In order to visit the page through our local browser, we should link the port of our local machine to the port on GCP. It is similar to what we did previously for Jupyter Notebook.\n",
    "\n",
    "In the command line on your local machine, type:\n",
    "\n",
    "```shell\n",
    "$ gcloud compute ssh --ssh-flag=\"-L 9999:localhost:9999 -L 9998:localhost:6006\" \"ecbm4040@YOUR_INSTANCE\"\n",
    "```\n",
    "\n",
    " This will bind your port of your local machine to the port on GCP instance. In this case, your local port 9999 is binded with 9999 on GCP, while local port 9998 is binded with 6006 on GCP. You can change whatever port you like as long as it does not confilct with your local services.\n",
    "\n",
    "After connecting to GCP using the command, you will be able to see the result page.\n",
    "\n",
    "\n",
    "**Export Tensorboard events into log directory**\n",
    "\n",
    "To generate data files for Tensorboard, we should use class `tf.summary.FileWriter`. This class will save your network graph sturcuture and all the variable summary. The file writer will save the graph and the summary into a directory based on the current timestamp. Here is the code snippet:\n",
    "\n",
    "```python\n",
    "cur_model_name = 'lenet_{}'.format(int(time.time()))\n",
    "# ...\n",
    "\n",
    "# set up summary writer for tensorboard\n",
    "merge = tf.summary.merge_all()\t# merge all the summary for variables for execution\n",
    "writer = tf.summary.FileWriter(\"log/{}\".format(cur_model_name), sess.graph)\n",
    "```\n",
    "\n",
    "The following code will save all the parameter summary and marked with iteration_total. These data will be displayed in the Tensorboard later on.\n",
    "\n",
    "```python\n",
    "# ... previous code ...\n",
    "# ...\n",
    "\t\t\t\tif iter_total % 100 == 0:\n",
    "                    # do validation\n",
    "                    valid_eve, merge_result = sess.run([eve, merge], feed_dict={xs: X_val, ys: y_val})\n",
    "                    valid_acc = 100 - valid_eve * 100 / y_val.shape[0]\n",
    "                    if verbose:\n",
    "                        print('{}/{} loss: {} validation accuracy : {}%'.format(\n",
    "                            batch_size * (itr + 1),\n",
    "                            X_train.shape[0],\n",
    "                            cur_loss,\n",
    "                            valid_acc))\n",
    "\n",
    "                    # save the merge result summary\n",
    "                    writer.add_summary(merge_result, iter_total)\n",
    "```"
   ]
  }
 ],
 "metadata": {
  "kernelspec": {
   "display_name": "Python 3",
   "language": "python",
   "name": "python3"
  },
  "language_info": {
   "codemirror_mode": {
    "name": "ipython",
    "version": 3
   },
   "file_extension": ".py",
   "mimetype": "text/x-python",
   "name": "python",
   "nbconvert_exporter": "python",
   "pygments_lexer": "ipython3",
   "version": "3.7.4"
  }
 },
 "nbformat": 4,
 "nbformat_minor": 2
}
