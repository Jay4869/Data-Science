{
 "cells": [
  {
   "cell_type": "markdown",
   "metadata": {},
   "source": [
    "## Columbia University\n",
    "### ECBM E4040 Neural Networks and Deep Learning. Fall 2019."
   ]
  },
  {
   "cell_type": "markdown",
   "metadata": {},
   "source": [
    "# ECBM E4040 - Assignment 0 \n",
    "## This jupyter notebook has TensorFlow 2.0 examples (as opposed to TF1.13)\n",
    "## This version of assignment will be distributed later in semester"
   ]
  },
  {
   "cell_type": "markdown",
   "metadata": {},
   "source": [
    "<p style='color:red'>To run this notebook install Tensorflow 2.0 in a new virtual environment (suggested name envTF20. Use `pip install tensorflow==2.0.0-rc1` or `pip install tensorflow-gpu==2.0.0-rc1` accordingly</p>"
   ]
  },
  {
   "cell_type": "markdown",
   "metadata": {},
   "source": [
    "Welcome to ECBM E4040 Neural Networks & Deep Learning. \n",
    "\n",
    "Deep learning is very popular nowadays both in academia and in industry. In this course, we'll teach you the concepts of neural networks, and how to program your own neural network. \n",
    "\n",
    "The __assignment 0__ is meant to help you get accustomed to the programming environment we use for this course. It consists of 4 parts:\n",
    "* Programming environment setup - Google Compute Engine/local machine, Python, TensorFlow.\n",
    "* How to use Jupyter Notebook\n",
    "* TensorFlow basics\n",
    "* A demo of TensorFlow program\n",
    "\n",
    "<p style='color:red'>The things marked with <strong>'TODO'</strong> requires you to finish.</p>\n",
    "\n",
    "If you have trouble, feel free to contact TAs or post your problem on Piazza.\n",
    "\n",
    "Good luck!"
   ]
  },
  {
   "cell_type": "markdown",
   "metadata": {},
   "source": [
    "## Part 1 - Environment setup\n",
    "\n",
    "For the course, we use __Python__ as our programming language, and [__TensorFlow__](https://www.tensorflow.org) as the deep learning framework. Before we start having fun with deep learning, we need to equip ourselves with some knowledge.\n",
    "\n",
    "Our [course website](https://ecbm4040.bitbucket.io) provides a number of tutorials including:\n",
    "1. Python tutorial\n",
    "2. Google Compute Engine setup\n",
    "3. Local environment setup\n",
    "4. Linux tutorial\n",
    "5. Git commands\n",
    "6. TensorFlow tutorial\n",
    "\n",
    "<p style='color:red'><strong>TODO:</strong></p>\n",
    "1. Follow the 2nd tutorial to set up your Google Compute Engine VM instance.\n",
    "2. Follow the 3rd tutorial to set up your local deep learning environemnt. Since using Google Cloud cost you money, we recommend that you debug your code locally and run it remotely.\n",
    "3. Depending on your understanding of Python, Linux, Git and TensorFlow, the rest tutorials are optional.\n",
    "\n",
    "You may encounter various problems in this part. Don't hesitate to ask for help.\n",
    "\n",
    "After you set up your environment, clone the assignment repo to your VM instance and start working."
   ]
  },
  {
   "cell_type": "markdown",
   "metadata": {},
   "source": [
    "## Part 2 - How to use Jupyter Notebook\n",
    "\n",
    "Jupyter Notebook is an interactive Python programming interface. Jupyter Notebook files have a postfix _.ipynb_, and each file is made up of several blocks of code, which we call __cells__. Each cell can be configured as __coding cell__ or __Markdown text cell__. \n",
    "\n",
    "A few basic instructions:\n",
    "\n",
    "* The menu bars are located on the top of a notebook.\n",
    "* To execute a cell, select it, and press `ctrl+Enter`. (You may also try `shift+Enter` and `alt+Enter` to see the difference).\n",
    "* To switch between code and Markdown, select a cell, and select the mode you want in the dropdown menu in the menu bar.\n",
    "\n",
    "A full guide to Jupyter Notebook can be accessed in the _Help_ menu in the menu bar.\n"
   ]
  },
  {
   "cell_type": "code",
   "execution_count": 1,
   "metadata": {},
   "outputs": [
    {
     "name": "stdout",
     "output_type": "stream",
     "text": [
      "Hello Jupyter!\n"
     ]
    }
   ],
   "source": [
    "# To test that you've understood how to use it, make this cell output a string 'Hello Jpuyter!'. \n",
    "# We've written the code, all you need to do is to execute it.\n",
    "print('Hello Jupyter!')"
   ]
  },
  {
   "cell_type": "markdown",
   "metadata": {},
   "source": [
    "## Part 3 - TensorFlow Basics\n",
    "\n",
    "TensorFlow is one of the most popular deep learning frameworks now in the world. Originally created by Google, it has received a lot of community support. In this part, we're going to look at some basic TensorFlow concepts and operations, so that you can start playing with it.\n",
    "\n",
    "TensorFlow 2.0 focuses on simplicity and ease of use, with updates like eager execution, intuitive higher-level APIs, and flexible model building on any platform"
   ]
  },
  {
   "cell_type": "code",
   "execution_count": 2,
   "metadata": {},
   "outputs": [],
   "source": [
    "import warnings\n",
    "warnings.simplefilter(action='ignore', category=FutureWarning)\n",
    "\n",
    "\n",
    "# Import the TensorFlow module\n",
    "import tensorflow as tf\n",
    "# The following modules will be used in Part 3 and 4\n",
    "# Make sure you install the latest version of numpy and matploblib.\n",
    "# If not, try \"conda install numpy\" and \"conda install matploblib\" in the console (the one you used to control your VM)\n",
    "# And restart the notebook. \n",
    "import numpy as np\n",
    "%matplotlib inline\n",
    "from matplotlib import pyplot as plt\n",
    "import time"
   ]
  },
  {
   "cell_type": "markdown",
   "metadata": {},
   "source": [
    "#### 1. Use of session"
   ]
  },
  {
   "cell_type": "markdown",
   "metadata": {},
   "source": [
    "In tensorflow 2.0 the concept of sessions has ben deprecated. Now variable are accessible instantly as compared to after sess.run making it more pythonic. This mode of using TensorFlow is called Eager Evaluation."
   ]
  },
  {
   "cell_type": "code",
   "execution_count": 4,
   "metadata": {},
   "outputs": [
    {
     "name": "stdout",
     "output_type": "stream",
     "text": [
      "Tensor(\"Const_1:0\", shape=(), dtype=string)\n"
     ]
    }
   ],
   "source": [
    "# By TensorFlow official website, \"A Session instance encapsulates the environment in which Operations\n",
    "# in a Graph are executed to compute Tensors.\" In short, this is where the computation happens.\n",
    "\n",
    "# Define a string constant\n",
    "string = tf.constant('Hello TensorFlow!')\n",
    "print(string.numpy())\n",
    "\n",
    "#############################################################################\n",
    "#                                                                           #\n",
    "#                            TENSORFLOW 1.x                                 #\n",
    "#                                                                           #\n",
    "#############################################################################\n",
    "# # There are 2 ways of using a session. \n",
    "# # First one:\n",
    "# sess = tf.Session()\n",
    "# print(sess.run(string))\n",
    "# sess.close()\n",
    "\n",
    "# # Second one:\n",
    "# with tf.Session() as sess:\n",
    "#     print(sess.run(string))\n",
    "    \n",
    "# The session doesn't close automatically, so you need to do it manually, otherwise you'll have resource error sometimes.\n",
    "# We recommend the second way because we sometimes forget to put sess.close() at the end of our program."
   ]
  },
  {
   "cell_type": "markdown",
   "metadata": {},
   "source": [
    "<p style='color:red'><strong>TODO:</strong></p>"
   ]
  },
  {
   "cell_type": "code",
   "execution_count": 5,
   "metadata": {},
   "outputs": [
    {
     "name": "stdout",
     "output_type": "stream",
     "text": [
      "Tensor(\"Const_2:0\", shape=(), dtype=string)\n"
     ]
    }
   ],
   "source": [
    "# Follow the example above, use TensorFlow to output the string 'YOUR_NAME:YOUR_UNI'. \n",
    "# YOUR CODE HERE\n",
    "string = tf.constant(\"Deepak: dr2998\")\n",
    "print(string.numpy())"
   ]
  },
  {
   "cell_type": "markdown",
   "metadata": {},
   "source": [
    "#### 2. Two phases of tensorflow \n",
    "\n"
   ]
  },
  {
   "cell_type": "code",
   "execution_count": 5,
   "metadata": {},
   "outputs": [
    {
     "name": "stdout",
     "output_type": "stream",
     "text": [
      "Value of z :\n",
      "tf.Tensor(\n",
      "[[ 2.2086558   0.9775742   0.6091891   2.5402653   2.2629886 ]\n",
      " [-3.1174679  -1.854012   -0.19275923 -2.722007   -3.716808  ]\n",
      " [ 2.007538   -0.2849345  -0.48070514  0.6085319  -2.0005276 ]\n",
      " [-4.229974   -0.5399788  -0.561396   -1.7189919  -3.595109  ]\n",
      " [ 1.7079922  -0.04789529 -0.95289195  1.202655   -5.289135  ]], shape=(5, 5), dtype=float32)\n",
      "\n",
      "\n"
     ]
    }
   ],
   "source": [
    "# Due to Eager Evaluation mode, tensors can be accesed immediately after creation, thus you do not need to create a computation\n",
    "# graph and then run it.\n",
    "\n",
    "x = tf.random.normal([5,5]) # create a 5*5 matrix filled with random values from standard normal distribution\n",
    "y = tf.random.normal([5,5])\n",
    "z = tf.matmul(x,y) # do matrix multiplication\n",
    "\n",
    "\n",
    "print(\"Value of z :\")\n",
    "print(z) \n",
    "\n",
    "print(\"\\n\")\n",
    "\n",
    "\n",
    "#############################################################################\n",
    "#                                                                           #\n",
    "#                            TENSORFLOW 1.x                                 #\n",
    "#                                                                           #\n",
    "#############################################################################\n",
    "#the second Phase mentioned below is not required in tf2.0\n",
    "# # Second phase, use session to execute the operations defined in the graph:\n",
    "# # After this, we can get the actual numeric value of z.\n",
    "# with tf.Session() as sess:\n",
    "#     z_val = sess.run(z)\n",
    "# print(\"Value of z after calling session.run():\")\n",
    "# print(z_val)"
   ]
  },
  {
   "cell_type": "markdown",
   "metadata": {},
   "source": [
    "#### 3. Basic math"
   ]
  },
  {
   "cell_type": "code",
   "execution_count": 6,
   "metadata": {},
   "outputs": [
    {
     "name": "stdout",
     "output_type": "stream",
     "text": [
      "[<tf.Tensor: id=18, shape=(), dtype=float32, numpy=7.0>, <tf.Tensor: id=19, shape=(), dtype=float32, numpy=10.0>, <tf.Tensor: id=20, shape=(), dtype=float32, numpy=17.0>, <tf.Tensor: id=21, shape=(), dtype=float32, numpy=-3.0>]\n"
     ]
    }
   ],
   "source": [
    "# Since TensorBoard can used to visualize your models, naming your nodes is good programming practise.\n",
    "# Define 2 constant nodes. All operations are encapsulated within tf.Tensor\n",
    "\n",
    "a = tf.constant(7, dtype=tf.float32, name='a')\n",
    "b = tf.constant(10, dtype=tf.float32, name='b')\n",
    "\n",
    "# Addition and subtraction\n",
    "add = tf.add(a, b, name='add') # same as a+b\n",
    "sub = tf.subtract(a, b, name='sub') # same as a-b\n",
    "\n",
    "# No need for the session to run these operations\n",
    "print(a) \n",
    "print(b) \n",
    "print(add)\n",
    "print(sub) "
   ]
  },
  {
   "cell_type": "markdown",
   "metadata": {},
   "source": [
    "<p style='color:red'><strong>TODO:</strong></p>"
   ]
  },
  {
   "cell_type": "code",
   "execution_count": 8,
   "metadata": {},
   "outputs": [
    {
     "name": "stdout",
     "output_type": "stream",
     "text": [
      "[<tf.Tensor: id=29, shape=(), dtype=float32, numpy=70.0>, <tf.Tensor: id=30, shape=(), dtype=float32, numpy=0.7>, <tf.Tensor: id=31, shape=(), dtype=float32, numpy=282475260.0>, <tf.Tensor: id=32, shape=(), dtype=float32, numpy=1.9459101>]\n"
     ]
    }
   ],
   "source": [
    "# Visit https://www.tensorflow.org/api_guides/python/math_ops, \n",
    "# find proper operations to calcualte a*b (multiplication), a/b (division), a^b (power) and log(a) (natural logarithm),\n",
    "# and demonstrate their uses by outputing their results in a session. (Note: 'a' and 'b' are defined in the previous cell, you\n",
    "# should use them directly.)\n",
    "\n",
    "# YOUR CODE HERE\n",
    "\n",
    "mul = tf.multiply(a, b, name='multiplication')\n",
    "div = tf.divide(a, b, name='div')\n",
    "power = tf.pow(a, b, name='power')\n",
    "log = tf.math.log(a, name='log')\n",
    "\n",
    "print(mul)\n",
    "print(div)\n",
    "print(power)\n",
    "print(log)"
   ]
  },
  {
   "cell_type": "markdown",
   "metadata": {},
   "source": [
    "#### 4. Constant tensor, sequences and random numbers"
   ]
  },
  {
   "cell_type": "code",
   "execution_count": 10,
   "metadata": {},
   "outputs": [
    {
     "name": "stdout",
     "output_type": "stream",
     "text": [
      "0 array: tf.Tensor(\n",
      "[[0. 0. 0.]\n",
      " [0. 0. 0.]], shape=(2, 3), dtype=float32)\n",
      "1 array: tf.Tensor(\n",
      "[[1. 1. 1.]\n",
      " [1. 1. 1.]], shape=(2, 3), dtype=float32)\n",
      "0 inferred: tf.Tensor(\n",
      "[[0. 0. 0.]\n",
      " [0. 0. 0.]], shape=(2, 3), dtype=float32)\n",
      "1 inferred: tf.Tensor(\n",
      "[[1. 1. 1.]\n",
      " [1. 1. 1.]], shape=(2, 3), dtype=float32)\n",
      "linear sequence: tf.Tensor([0.   1.25 2.5  3.75 5.  ], shape=(5,), dtype=float32)\n",
      "range:  tf.Tensor([0 1 2 3 4 5 6], shape=(7,), dtype=int32)\n",
      "Random normal: tf.Tensor([3.9591546 4.698679  1.4101083 6.180681  4.6036777], shape=(5,), dtype=float32)\n"
     ]
    }
   ],
   "source": [
    "# In TensorFlow, a tensor is an n-dimensional array. \n",
    "# Thus, a 0-d tensor is a scalar. 1-d tensor is a vector, and so on.\n",
    "\n",
    "# We can use TF functions to create all-zero and all-one tensors.\n",
    "zero_array = tf.zeros(shape=[2,3], dtype=tf.float32, name='zero_array')\n",
    "one_array = tf.ones(shape=[2,3], dtype=tf.float32, name='one_array')\n",
    "\n",
    "# Or use a template to infer the shape.\n",
    "template = tf.constant([[1,2,3],[4,5,6]], dtype=tf.float32, name='template') # Has [2,3] shape\n",
    "zero_like = tf.zeros_like(template, name='zero_like')\n",
    "one_like = tf.ones_like(template, name='one_like')\n",
    "\n",
    "# Some sequence generating functions\n",
    "lin_seq = tf.linspace(start=0.0, stop=5.0, num=5, name='lin_seq')\n",
    "lin_range = tf.range(start=0, limit=7, delta=1, name='lin_range')\n",
    "\n",
    "# A random number function\n",
    "norm = tf.random.normal(shape=[5], mean=3, stddev=2.0)\n",
    "\n",
    "\n",
    "print('0 array:\\n', zero_array)\n",
    "print('1 array:\\n', one_array)\n",
    "print('0 inferred:\\n', zero_like)\n",
    "print('1 inferred:\\n', one_like)\n",
    "print('linear sequence:\\n', lin_seq)\n",
    "print('range:\\n', lin_range)\n",
    "print('Random normal:\\n', norm)"
   ]
  },
  {
   "cell_type": "markdown",
   "metadata": {},
   "source": [
    "<p style='color:red'><strong>TODO:</strong></p>"
   ]
  },
  {
   "cell_type": "code",
   "execution_count": 11,
   "metadata": {},
   "outputs": [
    {
     "name": "stdout",
     "output_type": "stream",
     "text": [
      "nine array:\n",
      " tf.Tensor(\n",
      "[[9. 9. 9.]\n",
      " [9. 9. 9.]\n",
      " [9. 9. 9.]], shape=(3, 3), dtype=float32)\n",
      "sequence:\n",
      " tf.Tensor([-5. -4. -3. -2. -1.  0.  1.  2.  3.  4.  5.], shape=(11,), dtype=float32)\n",
      "distribution:\n",
      " tf.Tensor(\n",
      "[[-0.91352344  0.5955544   0.3669424 ]\n",
      " [-0.18652268  0.6424556  -0.6187372 ]\n",
      " [-1.3065095   1.0197403   0.64522904]], shape=(3, 3), dtype=float32)\n"
     ]
    }
   ],
   "source": [
    "# 1: Generate a 3*3 matrix filled with 9s. \n",
    "# 2: Generate a sequence start from -5.0 to 5.0(inclusive), with step size of 1.0.\n",
    "# 3: Generate another 3*3 matrix with normal distribution. Choose any mean and stddev you like.\n",
    "# Hint: Visit https://www.tensorflow.org/api_guides/python/constant_op\n",
    "\n",
    "# YOUR CODE HERE\n",
    "nine_array = tf.ones(shape=[3, 3], dtype=tf.float32, name='one_array') * 9\n",
    "seq = tf.range(-5.0, 6.0, delta=1.0, name='lin_range')\n",
    "dist = tf.random.normal(shape=[3, 3], mean=0.0, stddev=1.0, dtype=tf.float32, name='normal_distribution')\n",
    "\n",
    "\n",
    "print('nine array:\\n',nine_array)\n",
    "print('sequence:\\n', seq)\n",
    "print('distribution:\\n',dist)\n"
   ]
  },
  {
   "cell_type": "markdown",
   "metadata": {},
   "source": [
    "#### 5. Variables"
   ]
  },
  {
   "cell_type": "code",
   "execution_count": 12,
   "metadata": {},
   "outputs": [
    {
     "name": "stdout",
     "output_type": "stream",
     "text": [
      "<tf.Variable 'UnreadVariable' shape=(2,) dtype=float32, numpy=array([4., 5.], dtype=float32)>\n",
      "<tf.Variable 'UnreadVariable' shape=(2,) dtype=float32, numpy=array([5., 6.], dtype=float32)>\n"
     ]
    }
   ],
   "source": [
    "# So far, what we've defined are constants, i.e. their values can't be changed. With TensorFlow variables, you can update \n",
    "# values now during training of a network.\n",
    "\n",
    "x = tf.Variable([2,3], dtype=tf.float32) # You need to give an initial value to the variable.\n",
    "\n",
    "# Several ops we can use to change the value of the variable. Note that they all become nodes in the graph.\n",
    "assign = x.assign([4,5])\n",
    "print(assign)\n",
    "add = x.assign_add([1,1])\n",
    "print(add)"
   ]
  },
  {
   "cell_type": "markdown",
   "metadata": {},
   "source": [
    "<p style='color:red'><strong>TODO:</strong></p>"
   ]
  },
  {
   "cell_type": "code",
   "execution_count": 13,
   "metadata": {},
   "outputs": [
    {
     "name": "stdout",
     "output_type": "stream",
     "text": [
      "<tf.Variable 'Variable:0' shape=(3, 3) dtype=float32, numpy=\n",
      "array([[1., 1., 1.],\n",
      "       [1., 1., 1.],\n",
      "       [1., 1., 1.]], dtype=float32)>\n",
      "<tf.Variable 'UnreadVariable' shape=(3, 3) dtype=float32, numpy=\n",
      "array([[1., 2., 3.],\n",
      "       [4., 5., 6.],\n",
      "       [7., 8., 9.]], dtype=float32)>\n"
     ]
    }
   ],
   "source": [
    "# Create a 3*3 tensor variable (the initial values don't matter), then assign values from 1 to 9 to it.\n",
    "# We need to see the initial values and the new values after the assign op to give you full points.\n",
    "# YOUR CODE HERE\n",
    "\n",
    "x = tf.Variable(tf.ones(shape=[3,3], dtype=tf.float32),dtype=tf.float32)\n",
    "print(x)\n",
    "\n",
    "assign = x.assign([[1,2,3],[4,5,6],[7,8,9]])\n",
    "print(assign)"
   ]
  },
  {
   "cell_type": "markdown",
   "metadata": {},
   "source": [
    "#### 6. Placeholders (DEPRECATED FOR EAGER EXECUTION)"
   ]
  },
  {
   "cell_type": "code",
   "execution_count": 14,
   "metadata": {},
   "outputs": [],
   "source": [
    "## IMPORTANT : PLACEHOLDERSS ARE NO LONGER NEEDED IN TF2.0 as there is no need for feed dicts anymore\n",
    "\n",
    "#############################################################################\n",
    "#                                                                           #\n",
    "#                            TENSORFLOW 1.x                                 #\n",
    "#                                                                           #\n",
    "#############################################################################\n",
    "\n",
    "# # When you want to feed your data into the network, an intuitive way is to put your data in tf.constant. But that's not clever.\n",
    "# # We have placeholders to hold your data. The use is very easy.\n",
    "\n",
    "# # Define a placeholder\n",
    "# y = tf.placeholder(shape=[5,], dtype=tf.float32) # [5,] or [5] means this is an 1-d array of size 5.\n",
    "# z = tf.placeholder(shape=[None, 5], dtype=tf.float32) # Use None in a dimension means any size is acceptable.\n",
    "# y_plus = y + 1\n",
    "# z_minus = z - 1\n",
    "\n",
    "# # Then generate some real arrays to feed into the placeholders\n",
    "# feed_y = np.array([1,1,1,1,1], dtype=np.float32) \n",
    "# feed_z = np.random.uniform(size=[2,5])\n",
    "\n",
    "# # Now use a dictionary to feed the true values into the placeholders.\n",
    "# # TensorFlow will detect that the ops we run is linked to some placeholders which need to be fed.\n",
    "# with tf.Session() as sess:\n",
    "#     print(sess.run([y_plus,z_minus], feed_dict={y: feed_y, z:feed_z}))"
   ]
  },
  {
   "cell_type": "markdown",
   "metadata": {},
   "source": [
    "#### 7. Scope and variable reuse (Deprecated)"
   ]
  },
  {
   "cell_type": "code",
   "execution_count": 16,
   "metadata": {},
   "outputs": [],
   "source": [
    "# IMPORTANT: Variable scopes have been deprecated in tf 2.0.\n",
    "#instead of using tf.get_variable any variable not kept track of will be garbage collected like regular python variable\n",
    "\n",
    "#############################################################################\n",
    "#                                                                           #\n",
    "#                            TENSORFLOW 1.x                                 #\n",
    "#                                                                           #\n",
    "#############################################################################\n",
    "\n",
    "\n",
    "# # Define a variable scope\n",
    "# with tf.variable_scope('v_scope'):\n",
    "#     # use tf.get_variable() to create a variable 'x' under scope 'v_scope'\n",
    "#     init = tf.constant_initializer([1.0,2.0,3.0,4.0,5.0,6.0]) # define the initial method\n",
    "#     x = tf.get_variable(name='x',shape=[2,3],dtype=tf.float32,initializer=init,use_resource=False)\n",
    "#     print(x)\n",
    "#     print(x.name)"
   ]
  },
  {
   "cell_type": "markdown",
   "metadata": {},
   "source": [
    "#### 9. Data type impact"
   ]
  },
  {
   "cell_type": "code",
   "execution_count": 28,
   "metadata": {},
   "outputs": [
    {
     "name": "stdout",
     "output_type": "stream",
     "text": [
      "float32 result: \n",
      " [[ 1.21       4.4099994  9.61     ]\n",
      " [16.81      26.009998  37.21     ]]\n",
      "float64 result: \n",
      " [[ 1.21  4.41  9.61]\n",
      " [16.81 26.01 37.21]]\n"
     ]
    }
   ],
   "source": [
    "# In tensorflow, float type of data includes float32 and float64. Remember that in your later implementation, \n",
    "# you should always consider float32 as your first choice for sake of efficiency, even though it will lose precision.\n",
    "# Here we are going to compare the precision difference between these two types.\n",
    "\n",
    "A32 = tf.Variable([[1,2,3], [4,5,6]], dtype=tf.float32)\n",
    "B32 = (A32 + 0.1)**2\n",
    "A64 = tf.Variable([[1,2,3], [4,5,6]], dtype=tf.float64)\n",
    "B64 = (A64 + 0.1)**2\n",
    "\n",
    "\n",
    "print('float32 result: \\n {}'.format(B32))\n",
    "print('float64 result: \\n {}'.format(B64))"
   ]
  },
  {
   "cell_type": "markdown",
   "metadata": {},
   "source": [
    "We've introduced basic TensorFlow operations and concepts. Now, we recommend you to visit the TensorFlow tutorial link provided. It will help you a lot, as the operations we introduced is not sufficient for building a neural network yet."
   ]
  }
 ],
 "metadata": {
  "kernelspec": {
   "display_name": "Python 3",
   "language": "python",
   "name": "python3"
  },
  "language_info": {
   "codemirror_mode": {
    "name": "ipython",
    "version": 3
   },
   "file_extension": ".py",
   "mimetype": "text/x-python",
   "name": "python",
   "nbconvert_exporter": "python",
   "pygments_lexer": "ipython3",
   "version": "3.6.9"
  }
 },
 "nbformat": 4,
 "nbformat_minor": 4
}
