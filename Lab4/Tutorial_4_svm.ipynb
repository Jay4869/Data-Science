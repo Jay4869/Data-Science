{
 "cells": [
  {
   "cell_type": "code",
   "execution_count": 2,
   "metadata": {
    "collapsed": true
   },
   "outputs": [],
   "source": [
    "import re\n",
    "from collections import Counter\n",
    "\n",
    "import numpy as np\n",
    "import numpy.random as npr\n",
    "import scipy as sp\n",
    "import scipy.sparse as sps\n",
    "import sklearn.svm as sksvm\n",
    "import sklearn.linear_model as sklin\n",
    "from sklearn.discriminant_analysis import LinearDiscriminantAnalysis as LDA\n",
    "import matplotlib.pyplot as plt\n",
    "\n",
    "import pandas as pd\n",
    "\n",
    "%matplotlib inline"
   ]
  },
  {
   "cell_type": "markdown",
   "metadata": {},
   "source": [
    "# Linear SVM"
   ]
  },
  {
   "cell_type": "markdown",
   "metadata": {},
   "source": [
    "### Intuition\n",
    "For a group of data with two classes, consider a hyperplane, which separate the two classes \"as much as possible\";\n",
    "\n",
    "\"as much as possible\":\n",
    "* Separable case: maximize the margin between the two classes\n",
    "* nonseparable case: control (minimize) the amount and magnitude of cross-border points\n",
    "\n",
    "### Mathematical form:\n",
    "hyperplane -- $\\beta_0 + u^\\top\\beta = 0$; distance from a point $x$ to this hyperplane: $\\frac{|\\beta_0 + x^\\top\\beta|}{\\|\\beta\\|_2}$\n",
    "* Separable case:  \n",
    "    $$ \\text{maximize}\\;\\;\\; M,\\;\\;\\; \\text{such that}\\;\\;\\; \\frac{|\\beta_0 + x_i^\\top\\beta|}{\\|\\beta\\|_2} \\geq M,\\;\\;\\; i = 1, \\ldots, n $$\n",
    "    if $y_i = \\pm 1$, then we can enforce\n",
    "    $$ \\text{maximize}\\;\\;\\; M,\\;\\;\\; \\text{such that}\\;\\;\\; y_i(\\beta_0 + x_i^\\top\\beta) \\geq M \\|\\beta\\|_2,\\;\\;\\; i = 1, \\ldots, n $$\n",
    "    $\\|\\beta\\|_2$ is the \"unit-length\" of your ruler, so you can always rescale the unit-length of your ruler, such that the \"projected distance\" $y_i(x_i^\\top\\beta + \\beta_0) \\geq 1$, but then the smaller your unit is, the longer the true distance is. As a result, we have\n",
    "    $$ \\text{minimize}\\;\\;\\; \\|\\beta\\|_2^2,\\;\\;\\; \\text{such that}\\;\\;\\; y_i(\\beta_0 + x_i^\\top\\beta) \\geq 1,\\;\\;\\; i = 1, \\ldots, n $$\n",
    "    * Primal form\n",
    "        $$ \\text{minimize}\\;\\;\\; \\frac{1}{2}\\|\\beta\\|_2^2,\\;\\;\\; \\text{such that}\\;\\;\\; y_i(\\beta_0 + x_i^\\top\\beta) \\geq 1,\\;\\;\\; i = 1, \\ldots, n$$\n",
    "    * Dual form\n",
    "        $$ \\text{minimize}\\;\\;\\; \\frac{1}{2}\\sum_{i, j} \\alpha_i\\alpha_j y_iy_j\\langle x_i, x_j \\rangle - \\sum_i \\alpha_i ,\\;\\;\\; \\text{such that}\\;\\;\\; \\alpha_i \\geq 0,\\;\\;\\; i = 1, \\ldots, n, \\sum_i \\alpha_i y_i = 0 $$\n",
    "    where $\\langle x_i, x_j \\rangle = x_i^\\top x_j$\n",
    "    * KKT condition: necessary condition for optimality. 1 stationary condition, 2 feasibility condition, 1 complementary slackness\n",
    "        * stationary: $\\beta = \\sum_i \\alpha_i y_i x_i$, $0=\\sum_i \\alpha_i y_i$, $i=1, \\ldots, n$;\n",
    "        * primal feasibility: $y_i(\\beta_0 + x_i^\\top\\beta) \\geq 1)$;\n",
    "        * dual feasibility: $\\alpha_i \\geq 0$;\n",
    "        * complementary slackness: $\\alpha_i(1 - y_i(\\beta_0 + x_i^\\top\\beta)) = 0$;\n",
    "    * $i$ such that $\\alpha_i > 0$ are support vectors;\n",
    "\n",
    "* Non-separable case: allow cross boundary points, but control the extent they cross boundary\n",
    "    *  First form\n",
    "        $$ \\text{minimize}\\;\\;\\; \\frac{1}{2}\\|\\beta\\|_2^2,\\;\\;\\; \\text{such that}\\;\\;\\; y_i(\\beta_0 + x_i^\\top\\beta) \\geq 1 - \\xi_i,\\;\\; \\xi_i \\geq 0,\\;\\; i = 1, \\ldots, n,\\;\\;\\; \\sum_i \\xi_i \\leq A $$\n",
    "    * Primal form\n",
    "        $$ \\text{minimize}\\;\\;\\; \\frac{1}{2}\\|\\beta\\|_2^2 + C\\sum_i \\xi_i,\\;\\;\\; \\text{such that}\\;\\;\\; y_i(\\beta_0 + x_i^\\top\\beta) \\geq 1 - \\xi_i,\\;\\; \\xi_i \\geq 0,\\;\\; i = 1, \\ldots, n $$\n",
    "    * Dual form\n",
    "        $$ \\text{minimize}\\;\\;\\; \\frac{1}{2}\\sum_{i, j} \\alpha_i\\alpha_j y_iy_j\\langle x_i, x_j \\rangle - \\sum_i \\alpha_i ,\\;\\;\\; \\text{such that}\\;\\;\\; 0 \\leq \\alpha_i \\leq C,\\;\\;\\; i = 1, \\ldots, n, \\sum_i \\alpha_i y_i = 0 $$\n",
    "    where $\\langle x_i, x_j \\rangle = x_i^\\top x_j$\n",
    "    * KKT condition: necessary condition for optimality. 1 stationary condition, 2 feasibility condition, 1 complementary slackness\n",
    "        * stationary: $\\beta = \\sum_i \\alpha_i y_i x_i$, $0=\\sum_i \\alpha_i y_i$, $C = \\alpha_i + \\mu_i$, $i=1, \\ldots, n$;\n",
    "        * primal feasibility: $y_i(\\beta_0 + x_i^\\top\\beta) \\geq 1 - \\xi_i)$, $\\xi_i \\geq 0$;\n",
    "        * dual feasibility: $C \\geq \\alpha_i \\geq 0$, $\\mu_i \\geq 0$;\n",
    "        * complementary slackness: $\\alpha_i(1 - \\xi_i - y_i(\\beta_0 + x_i^\\top\\beta)) = 0$, $\\sum_i \\mu_i\\xi_i = 0$\n",
    "    * $i$ such that $\\alpha_i > 0$ are support vectors; $0 < \\alpha_i < C$ stay on the boundary; $\\alpha_i = C$ cross boundary;\n"
   ]
  },
  {
   "cell_type": "markdown",
   "metadata": {},
   "source": [
    "# Real Data Example of Linear SVM"
   ]
  },
  {
   "cell_type": "markdown",
   "metadata": {},
   "source": [
    "## Kaggle --- Toxic Comment Classification Challenge"
   ]
  },
  {
   "cell_type": "markdown",
   "metadata": {},
   "source": [
    "Feel free to go over the preprocessing step\n",
    "\n",
    "One of the step where each sentence is transformed to a 0-1 vector marking whether a word is contained in the sentence takes a long time (around 30 mins), so I write the data to a file called `X_data.npz`.\n",
    "\n",
    "Please directly load the `X_data.npz` during the tutorial session."
   ]
  },
  {
   "cell_type": "markdown",
   "metadata": {},
   "source": [
    "### About the data\n",
    "The data is a collection of comments from Wikipedia. 6 categories can be potentially labelled to them: toxic, severe-toxic, insult, obscene, threat, identity_hate; Each sentence can have multiple labels, or none of them;\n",
    "\n",
    "Original task: label the data\n",
    "\n",
    "Our simplified task: as long as a sentence contains one of the labels, it is a \"bad\" sentence; otherwise it is a good one;"
   ]
  },
  {
   "cell_type": "code",
   "execution_count": 3,
   "metadata": {
    "collapsed": true
   },
   "outputs": [],
   "source": [
    "# please change datapath to your own data path\n",
    "datapath = \"/home/wangsw09/work/TA/GR5241_statistical_machine_learning/Week_4_SVM/\"\n",
    "dataname = \"train.csv\""
   ]
  },
  {
   "cell_type": "markdown",
   "metadata": {},
   "source": [
    "Load in the data"
   ]
  },
  {
   "cell_type": "code",
   "execution_count": 4,
   "metadata": {
    "collapsed": true
   },
   "outputs": [],
   "source": [
    "data = pd.read_csv(datapath + dataname)"
   ]
  },
  {
   "cell_type": "code",
   "execution_count": 10,
   "metadata": {
    "collapsed": true
   },
   "outputs": [],
   "source": [
    "n = data.shape[0]"
   ]
  },
  {
   "cell_type": "markdown",
   "metadata": {},
   "source": [
    "Construct the vector of responses y and covariate matrix X"
   ]
  },
  {
   "cell_type": "code",
   "execution_count": 12,
   "metadata": {
    "collapsed": true
   },
   "outputs": [],
   "source": [
    "X_raw = data[\"comment_text\"]\n",
    "y_raw = data.loc[:,\"toxic\" : \"identity_hate\"]"
   ]
  },
  {
   "cell_type": "markdown",
   "metadata": {},
   "source": [
    "Mark a row as 1 if any of the labels are assigned to this row"
   ]
  },
  {
   "cell_type": "code",
   "execution_count": 13,
   "metadata": {
    "collapsed": true
   },
   "outputs": [],
   "source": [
    "y = y_raw.any(axis=1) * 2 - 1\n",
    "y = y.values"
   ]
  },
  {
   "cell_type": "markdown",
   "metadata": {},
   "source": [
    "Extract X, a 0-1 vector of words"
   ]
  },
  {
   "cell_type": "code",
   "execution_count": 14,
   "metadata": {
    "collapsed": true
   },
   "outputs": [],
   "source": [
    "split_s = re.compile(r\"[a-z]+\", re.IGNORECASE)"
   ]
  },
  {
   "cell_type": "code",
   "execution_count": 15,
   "metadata": {
    "collapsed": true
   },
   "outputs": [],
   "source": [
    "X_raw1 = X_raw.apply(lambda s: split_s.findall(s.lower()))"
   ]
  },
  {
   "cell_type": "markdown",
   "metadata": {},
   "source": [
    "Construct a Counter object to store words and their counts; remove the words with counts smaller than or equal to 10"
   ]
  },
  {
   "cell_type": "code",
   "execution_count": 16,
   "metadata": {},
   "outputs": [
    {
     "name": "stdout",
     "output_type": "stream",
     "text": [
      "168816\n",
      "24735\n"
     ]
    }
   ],
   "source": [
    "word_dict = Counter()\n",
    "for i in xrange(n):\n",
    "    word_dict.update(X_raw1[i])\n",
    "\n",
    "print len(word_dict)\n",
    "\n",
    "for k in word_dict.keys():\n",
    "    if word_dict[k] <= 10:\n",
    "        del word_dict[k]\n",
    "\n",
    "print len(word_dict)"
   ]
  },
  {
   "cell_type": "markdown",
   "metadata": {},
   "source": [
    "Construct a stop_list for the those noninformative words, such as \"you\", \"I\"; We manully select these words from the most frequent 150 words"
   ]
  },
  {
   "cell_type": "code",
   "execution_count": 17,
   "metadata": {
    "collapsed": true
   },
   "outputs": [],
   "source": [
    "stop_list = [tup[0] for tup in word_dict.most_common(150)]"
   ]
  },
  {
   "cell_type": "code",
   "execution_count": 18,
   "metadata": {},
   "outputs": [
    {
     "name": "stdout",
     "output_type": "stream",
     "text": [
      "['the', 'to', 'i', 'of', 'and', 'you', 'a', 'is', 'that', 'it', 'in', 'for', 'this', 'not', 'on', 'be', 'as', 's', 'have', 'are', 'your', 't', 'with', 'if', 'article', 'was', 'or', 'but', 'wikipedia', 'page', 'my', 'an', 'from', 'by', 'do', 'at', 'can', 'talk', 'me', 'about', 'so', 'what', 'there', 'all', 'has', 'will', 'please', 'no', 'they', 'would', 'he', 'one', 'like', 'just', 'we', 'which', 'any', 'been', 'should', 'don', 'more', 'some', 'other', 'here', 'who', 'see', 'also', 'his', 'm', 'think', 'because', 'know', 'how', 'people', 'am', 'edit', 'why', 'up', 'only', 'out', 'articles', 'use', 'when', 'then', 'time', 'may', 'were', 'did', 'them', 'now', 'user', 'being', 'their', 're', 'than', 'thanks', 'even', 'get', 'make', 'good', 'had', 'well', 'very', 've', 'information', 'does', 'could', 'want', 'deletion', 'its', 'such', 'sources', 'way', 'name', 'image', 'these', 'first', 'wp', 'help', 'pages', 'new', 'source', 'editing', 'go', 'section', 'need', 'say', 'fuck', 'again', 'edits', 'where', 'thank', 'made', 'many', 'much', 'used', 'really', 'discussion', 'most', 'deleted', 'same', 'find', 'into', 'work', 'd', 'those', 'since', 'right', 'point', 'before']\n"
     ]
    }
   ],
   "source": [
    "print stop_list"
   ]
  },
  {
   "cell_type": "code",
   "execution_count": 19,
   "metadata": {
    "collapsed": true
   },
   "outputs": [],
   "source": [
    "# manunally select from the top 150 frequent words\n",
    "stop_list = ['the', 'to', 'i', 'of', 'and', 'you', 'a', 'is', 'that', 'it', 'in', 'for', 'this', 'not', 'on', 'be', 'as', 's', 'have', 'are', 'your', 't', 'with', 'if', 'article', 'articles', 'was', 'or', 'but', 'wikipedia', 'page', 'my', 'an', 'from', 'by', 'do', 'at', 'can', 'me', 'about', 'so', 'what', 'there', 'all', 'has', 'will', 'no', 'they', 'he', 'one', 'we', 'which', 'any', 'been', 'more', 'some', 'other', 'here', 'who', 'also', 'his', 'm', 'because', 'know', 'how', 'am', 'why', 'up', 'out', 'when', 'then', 'time', 'were', 'did', 'them', 'now', 'being', 'their', 're', 'than', 've', 'does', 'its', 'such', 'sources', 'way', 'name', 'image', 'these', 'first', 'wp', 'pages', 'again', 'where', 'many', 'much', 'used', 'most', 'into', 'd', 'those', 'before']"
   ]
  },
  {
   "cell_type": "markdown",
   "metadata": {},
   "source": [
    "Remove words in the stop_lists"
   ]
  },
  {
   "cell_type": "code",
   "execution_count": 20,
   "metadata": {
    "collapsed": true
   },
   "outputs": [],
   "source": [
    "filtered_words = [tup[0] for tup in word_dict.most_common()]\n",
    "for word in stop_list:\n",
    "    filtered_words.remove(word)\n",
    "filtered_words = np.asarray(filtered_words)"
   ]
  },
  {
   "cell_type": "markdown",
   "metadata": {},
   "source": [
    "Now construct the data matrix X. Each row is a vector with length filtered_words; if a word is contained in the $i$th sentence, then that location is marked as 1. Otherwise 0.\n",
    "\n",
    "Since the dimension is high: sample size ~ 150,000; feature size ~ 23,000; This amount cannot fit in our memory;\n",
    "\n",
    "So instead I use the `sparse matrix` structure in `scipy.sparse`;\n",
    "\n",
    "There are several different forms to store a sparse matrix; here we use the `lil` form.\n",
    "\n",
    "This step takes around 30 mins."
   ]
  },
  {
   "cell_type": "code",
   "execution_count": 215,
   "metadata": {
    "scrolled": true
   },
   "outputs": [
    {
     "name": "stdout",
     "output_type": "stream",
     "text": [
      "0\n",
      "10000\n",
      "20000\n",
      "30000\n",
      "40000\n",
      "50000\n",
      "60000\n",
      "70000\n",
      "80000\n",
      "90000\n",
      "100000\n",
      "110000\n",
      "120000\n",
      "130000\n",
      "140000\n",
      "150000\n"
     ]
    }
   ],
   "source": [
    "X = sps.lil_matrix((n, filtered_words.shape[0]), dtype=np.float64)\n",
    "for i in xrange(n):\n",
    "    X[i, np.in1d(filtered_words, X_raw1[i])] = 1\n",
    "    if i % 10000 == 0:\n",
    "        print i"
   ]
  },
  {
   "cell_type": "markdown",
   "metadata": {},
   "source": [
    "Save the X data for later use; (we do not want to construct it everytime)"
   ]
  },
  {
   "cell_type": "code",
   "execution_count": 21,
   "metadata": {
    "collapsed": true
   },
   "outputs": [],
   "source": [
    "# sps.save_npz(\"X_data.npz\", sps.coo_matrix(X))"
   ]
  },
  {
   "cell_type": "markdown",
   "metadata": {},
   "source": [
    "Load in X data"
   ]
  },
  {
   "cell_type": "code",
   "execution_count": 22,
   "metadata": {
    "collapsed": true
   },
   "outputs": [],
   "source": [
    "X = sps.lil_matrix(sps.load_npz(datapath + \"X_data.npz\"))"
   ]
  },
  {
   "cell_type": "code",
   "execution_count": 26,
   "metadata": {},
   "outputs": [
    {
     "name": "stdout",
     "output_type": "stream",
     "text": [
      "(159571, 24633)\n"
     ]
    }
   ],
   "source": [
    "print X.shape"
   ]
  },
  {
   "cell_type": "markdown",
   "metadata": {},
   "source": [
    "Construct train and test data;\n",
    "\n",
    "Since $y=\\pm 1$ is not balanced (around 16,000 +1), we pick out a balanced training sample;\n",
    "\n",
    "That is half of +1 and the same amount of -1 (random sampled) as our training, and all rest as testing"
   ]
  },
  {
   "cell_type": "code",
   "execution_count": 23,
   "metadata": {
    "collapsed": true
   },
   "outputs": [],
   "source": [
    "# Create balanced training data\n",
    "npr.seed(124)\n",
    "train = np.zeros(n, dtype=np.bool)\n",
    "n_p1 = np.sum(y == 1)\n",
    "train[npr.choice(np.nonzero(y == 1)[0], n_p1 / 2, replace=False)] = True\n",
    "train[npr.choice(np.nonzero(y != 1)[0], n_p1 / 2, replace=False)] = True\n",
    "test = np.logical_not(train)"
   ]
  },
  {
   "cell_type": "markdown",
   "metadata": {},
   "source": [
    "Prepare for the k-fold CV used later"
   ]
  },
  {
   "cell_type": "code",
   "execution_count": 24,
   "metadata": {
    "collapsed": true
   },
   "outputs": [],
   "source": [
    "n_train = np.sum(train)\n",
    "n_test = np.sum(test)\n",
    "n_train_p = np.sum(y[train] == 1)\n",
    "n_train_n = np.sum(y[train] == -1)\n",
    "n_test_p = np.sum(y[test] == 1)\n",
    "n_test_n = np.sum(y[test] == -1)\n",
    "\n",
    "k = 5\n",
    "train_idx = np.nonzero(train)[0]\n",
    "npr.shuffle(train_idx)\n",
    "cv_grid = np.linspace(0, n_train, k + 1).astype(np.int32)"
   ]
  },
  {
   "cell_type": "markdown",
   "metadata": {},
   "source": [
    "## Fitting linear SVM"
   ]
  },
  {
   "cell_type": "markdown",
   "metadata": {},
   "source": [
    "### 5-fold Cross Validation; L2 penalty"
   ]
  },
  {
   "cell_type": "code",
   "execution_count": 25,
   "metadata": {
    "scrolled": true
   },
   "outputs": [
    {
     "name": "stdout",
     "output_type": "stream",
     "text": [
      "tuning parameter:  0\n",
      "tuning parameter:  1\n",
      "tuning parameter:  2\n",
      "tuning parameter:  3\n",
      "tuning parameter:  4\n",
      "tuning parameter:  5\n",
      "tuning parameter:  6\n",
      "tuning parameter:  7\n",
      "tuning parameter:  8\n",
      "tuning parameter:  9\n",
      "tuning parameter:  10\n",
      "tuning parameter:  11\n",
      "tuning parameter:  12\n",
      "tuning parameter:  13\n",
      "tuning parameter:  14\n",
      "tuning parameter:  15\n",
      "tuning parameter:  16\n",
      "tuning parameter:  17\n",
      "tuning parameter:  18\n",
      "tuning parameter:  19\n"
     ]
    }
   ],
   "source": [
    "# I tried a few rounds to decide a rough region for C_arr\n",
    "# You can do something similar\n",
    "C_arr_len = 20\n",
    "C_arr = np.exp(np.linspace(-5, 1, C_arr_len))\n",
    "cv_err_linsvm = np.empty(C_arr_len)\n",
    "train_cv = np.copy(train)\n",
    "for i in xrange(C_arr_len):\n",
    "    print \"tuning parameter: \", i\n",
    "    svm_linear = sksvm.LinearSVC(penalty=\"l2\", dual=True, tol=1e-5, C=C_arr[i], max_iter=1000)\n",
    "    tmp_err = 0.0\n",
    "    for j in xrange(k):\n",
    "        train_cv[train_idx[cv_grid[j] : cv_grid[j + 1]]] = False\n",
    "        svm_linear.fit(X[train_cv, :], y[train_cv])\n",
    "        y_pred_k = svm_linear.predict(X[train_idx[cv_grid[j] : cv_grid[j + 1]]])\n",
    "        tmp_err += np.sum(y_pred_k != y[train_idx[cv_grid[j] : cv_grid[j + 1]]])\n",
    "        train_cv[train_idx[cv_grid[j] : cv_grid[j + 1]]] = True\n",
    "    cv_err_linsvm[i] = tmp_err / k"
   ]
  },
  {
   "cell_type": "code",
   "execution_count": 27,
   "metadata": {},
   "outputs": [
    {
     "data": {
      "text/plain": [
       "<matplotlib.legend.Legend at 0x7f0e492c1910>"
      ]
     },
     "execution_count": 27,
     "metadata": {},
     "output_type": "execute_result"
    },
    {
     "data": {
      "image/png": "[encoded data removed]",
      "text/plain": [
       "<matplotlib.figure.Figure at 0x7f0e492c19d0>"
      ]
     },
     "metadata": {},
     "output_type": "display_data"
    }
   ],
   "source": [
    "fg = plt.figure(figsize=(5, 5))\n",
    "ax = fg.add_subplot(1, 1, 1)\n",
    "\n",
    "ax.set_xlabel(\"$\\lambda$\", size=\"large\")\n",
    "ax.set_ylabel(\"err\", size=25)\n",
    "ax.set_xscale(\"log\")\n",
    "\n",
    "line_cv = ax.plot(C_arr, cv_err_linsvm, label=\"cv_err\")\n",
    "ax.grid()\n",
    "\n",
    "ax.legend(loc=\"best\", fontsize=\"xx-large\")\n"
   ]
  },
  {
   "cell_type": "code",
   "execution_count": 28,
   "metadata": {},
   "outputs": [
    {
     "name": "stdout",
     "output_type": "stream",
     "text": [
      "0.0448127241853\n"
     ]
    }
   ],
   "source": [
    "C_opt_linsvm = C_arr[np.argmin(cv_err_linsvm)]\n",
    "print C_opt_linsvm"
   ]
  },
  {
   "cell_type": "markdown",
   "metadata": {},
   "source": [
    "### Re-train our model based on the $C_{opt}$"
   ]
  },
  {
   "cell_type": "code",
   "execution_count": 29,
   "metadata": {
    "collapsed": true
   },
   "outputs": [],
   "source": [
    "svm_linear = sksvm.LinearSVC(penalty=\"l2\", dual=True, tol=1e-5, C=C_opt_linsvm, max_iter=10000)\n",
    "svm_linear.fit(X[train, :], y[train])\n",
    "y_test_pred_linsvm = svm_linear.predict(X[test, :])"
   ]
  },
  {
   "cell_type": "code",
   "execution_count": 30,
   "metadata": {
    "scrolled": true
   },
   "outputs": [
    {
     "name": "stdout",
     "output_type": "stream",
     "text": [
      "False rate 0.0815015312493\n",
      "False positive 0.0785009686913\n",
      "False negative 0.131517317885\n"
     ]
    }
   ],
   "source": [
    "print \"False rate\", np.sum(y[test] != y_test_pred_linsvm) / float(n_test)\n",
    "print \"False positive\", np.sum(np.logical_and(y[test] == -1, y_test_pred_linsvm == 1)) / float(n_test_n)\n",
    "print \"False negative\", np.sum(np.logical_and(y[test] == 1, y_test_pred_linsvm == -1)) / float(n_test_p)"
   ]
  },
  {
   "cell_type": "markdown",
   "metadata": {},
   "source": [
    "### 5-fold Cross Validation; L1 penalty"
   ]
  },
  {
   "cell_type": "markdown",
   "metadata": {},
   "source": [
    "By using $L_1$ penalty, we want to solve the following optimization problem\n",
    "\n",
    "$$ \\text{minimize}\\;\\;\\; \\frac{1}{2}\\|\\beta\\|_1 + C\\sum_i \\xi_i,\\;\\;\\; \\text{such that}\\;\\;\\; y_i(\\beta_0 + x_i^\\top\\beta) \\geq 1 - \\xi_i,\\;\\; \\xi_i \\geq 0,\\;\\; i = 1, \\ldots, n .$$\n"
   ]
  },
  {
   "cell_type": "code",
   "execution_count": 31,
   "metadata": {
    "scrolled": false
   },
   "outputs": [
    {
     "name": "stdout",
     "output_type": "stream",
     "text": [
      "tuning parameter:  0\n",
      "tuning parameter:  1\n",
      "tuning parameter:  2\n",
      "tuning parameter:  3\n",
      "tuning parameter:  4\n",
      "tuning parameter:  5\n",
      "tuning parameter:  6\n",
      "tuning parameter:  7\n",
      "tuning parameter:  8\n",
      "tuning parameter:  9\n",
      "tuning parameter:  10\n",
      "tuning parameter:  11\n",
      "tuning parameter:  12\n",
      "tuning parameter:  13\n",
      "tuning parameter:  14\n",
      "tuning parameter:  15\n",
      "tuning parameter:  16\n",
      "tuning parameter:  17\n",
      "tuning parameter:  18\n",
      "tuning parameter:  19\n"
     ]
    }
   ],
   "source": [
    "# I tried a few rounds to decide a rough region for C_arr\n",
    "# You can do something similar\n",
    "C_arr_len = 20\n",
    "C_arr = np.exp(np.linspace(-5, 1, C_arr_len))\n",
    "cv_err_linsvm1 = np.empty(C_arr_len)\n",
    "train_cv = np.copy(train)\n",
    "for i in xrange(C_arr_len):\n",
    "    print \"tuning parameter: \", i\n",
    "    svm_linear = sksvm.LinearSVC(penalty=\"l1\", dual=False, tol=1e-5, C=C_arr[i], max_iter=1000)\n",
    "    tmp_err = 0.0\n",
    "    for j in xrange(k):\n",
    "        train_cv[train_idx[cv_grid[j] : cv_grid[j + 1]]] = False\n",
    "        svm_linear.fit(X[train_cv, :], y[train_cv])\n",
    "        y_pred_k = svm_linear.predict(X[train_idx[cv_grid[j] : cv_grid[j + 1]]])\n",
    "        tmp_err += np.sum(y_pred_k != y[train_idx[cv_grid[j] : cv_grid[j + 1]]])\n",
    "        train_cv[train_idx[cv_grid[j] : cv_grid[j + 1]]] = True\n",
    "    cv_err_linsvm1[i] = tmp_err / k"
   ]
  },
  {
   "cell_type": "code",
   "execution_count": 32,
   "metadata": {},
   "outputs": [
    {
     "data": {
      "text/plain": [
       "<matplotlib.legend.Legend at 0x7f0e49294910>"
      ]
     },
     "execution_count": 32,
     "metadata": {},
     "output_type": "execute_result"
    },
    {
     "data": {
      "image/png": "[encoded data removed]",
      "text/plain": [
       "<matplotlib.figure.Figure at 0x7f0e49227690>"
      ]
     },
     "metadata": {},
     "output_type": "display_data"
    }
   ],
   "source": [
    "fg = plt.figure(figsize=(5, 5))\n",
    "ax = fg.add_subplot(1, 1, 1)\n",
    "\n",
    "ax.set_xlabel(\"$\\lambda$\", size=\"large\")\n",
    "ax.set_ylabel(\"err\", size=25)\n",
    "ax.set_xscale(\"log\")\n",
    "\n",
    "line_cv = ax.plot(C_arr, cv_err_linsvm1, label=\"cv_err\")\n",
    "ax.grid()\n",
    "\n",
    "ax.legend(loc=\"best\", fontsize=\"xx-large\")\n"
   ]
  },
  {
   "cell_type": "code",
   "execution_count": 33,
   "metadata": {},
   "outputs": [
    {
     "name": "stdout",
     "output_type": "stream",
     "text": [
      "0.408715141106\n"
     ]
    }
   ],
   "source": [
    "C_opt_linsvm1 = C_arr[np.argmin(cv_err_linsvm1)]\n",
    "print C_opt_linsvm1"
   ]
  },
  {
   "cell_type": "markdown",
   "metadata": {},
   "source": [
    "### Re-train our model based on the $C_{opt}$"
   ]
  },
  {
   "cell_type": "code",
   "execution_count": 34,
   "metadata": {
    "collapsed": true
   },
   "outputs": [],
   "source": [
    "svm_linear = sksvm.LinearSVC(penalty=\"l1\", dual=False, tol=1e-5, C=C_opt_linsvm1, max_iter=10000)\n",
    "svm_linear.fit(X[train, :], y[train])\n",
    "y_test_pred_linsvm1 = svm_linear.predict(X[test, :])"
   ]
  },
  {
   "cell_type": "code",
   "execution_count": 35,
   "metadata": {},
   "outputs": [
    {
     "name": "stdout",
     "output_type": "stream",
     "text": [
      "False rate 0.0816061724347\n",
      "False positive 0.0786932280344\n",
      "False negative 0.130161469247\n"
     ]
    }
   ],
   "source": [
    "print \"False rate\", np.sum(y[test] != y_test_pred_linsvm1) / float(n_test)\n",
    "print \"False positive\", np.sum(np.logical_and(y[test] == -1, y_test_pred_linsvm1 == 1)) / float(n_test_n)\n",
    "print \"False negative\", np.sum(np.logical_and(y[test] == 1, y_test_pred_linsvm1 == -1)) / float(n_test_p)"
   ]
  },
  {
   "cell_type": "markdown",
   "metadata": {},
   "source": [
    "## Logistic Regression"
   ]
  },
  {
   "cell_type": "markdown",
   "metadata": {},
   "source": [
    "In this part, we want to compare the performance of SVM and logistic regression. For SVM we use the Hinge loss, while for logistic regression we use the binomial deviance. The binomial deviance can be viewed as a smooth approximation to the Hinge loss."
   ]
  },
  {
   "cell_type": "markdown",
   "metadata": {},
   "source": [
    "### 5-fold Cross Validation, L2 penalty"
   ]
  },
  {
   "cell_type": "code",
   "execution_count": 36,
   "metadata": {
    "scrolled": true
   },
   "outputs": [
    {
     "name": "stdout",
     "output_type": "stream",
     "text": [
      "0\n",
      "1\n",
      "2\n",
      "3\n",
      "4\n",
      "5\n",
      "6\n",
      "7\n",
      "8\n",
      "9\n",
      "10\n",
      "11\n",
      "12\n",
      "13\n",
      "14\n",
      "15\n",
      "16\n",
      "17\n",
      "18\n",
      "19\n"
     ]
    }
   ],
   "source": [
    "# I tried a few rounds to decide a rough region for C_arr\n",
    "# You can do something similar\n",
    "C_arr_len = 20\n",
    "C_arr = np.exp(np.linspace(-4, 2, C_arr_len))\n",
    "cv_err_logi = np.empty(C_arr_len)\n",
    "train_cv = np.copy(train)\n",
    "for i in xrange(C_arr_len):\n",
    "    print i\n",
    "    logi = sklin.LogisticRegression(penalty=\"l2\", tol=1e-5, C=C_arr[i], max_iter=1000)\n",
    "    tmp_err = 0.0\n",
    "    for j in xrange(k):\n",
    "        train_cv[train_idx[cv_grid[j] : cv_grid[j + 1]]] = False\n",
    "        logi.fit(X[train_cv, :], y[train_cv])\n",
    "        y_pred_k = logi.predict(X[train_idx[cv_grid[j] : cv_grid[j + 1]]])\n",
    "        tmp_err += np.sum(y_pred_k != y[train_idx[cv_grid[j] : cv_grid[j + 1]]])\n",
    "        train_cv[train_idx[cv_grid[j] : cv_grid[j + 1]]] = True\n",
    "    cv_err_logi[i] = tmp_err / k"
   ]
  },
  {
   "cell_type": "code",
   "execution_count": 37,
   "metadata": {},
   "outputs": [
    {
     "data": {
      "text/plain": [
       "<matplotlib.legend.Legend at 0x7f0e4186bad0>"
      ]
     },
     "execution_count": 37,
     "metadata": {},
     "output_type": "execute_result"
    },
    {
     "data": {
      "image/png": "[encoded data removed]",
      "text/plain": [
       "<matplotlib.figure.Figure at 0x7f0e4186b790>"
      ]
     },
     "metadata": {},
     "output_type": "display_data"
    }
   ],
   "source": [
    "fg = plt.figure(figsize=(5, 5))\n",
    "ax = fg.add_subplot(1, 1, 1)\n",
    "\n",
    "ax.set_xlabel(\"$\\lambda$\", size=\"large\")\n",
    "ax.set_ylabel(\"err\", size=25)\n",
    "ax.set_xscale(\"log\")\n",
    "\n",
    "line_cv = ax.plot(C_arr, cv_err_logi, label=\"cv_err\")\n",
    "ax.grid()\n",
    "\n",
    "ax.legend(loc=\"best\", fontsize=\"xx-large\")\n"
   ]
  },
  {
   "cell_type": "code",
   "execution_count": 38,
   "metadata": {},
   "outputs": [
    {
     "name": "stdout",
     "output_type": "stream",
     "text": [
      "0.590777513901\n"
     ]
    }
   ],
   "source": [
    "C_opt_logi = C_arr[np.argmin(cv_err_logi)]\n",
    "print C_opt_logi"
   ]
  },
  {
   "cell_type": "markdown",
   "metadata": {},
   "source": [
    "### Re-train our model based on the $C_{opt}$"
   ]
  },
  {
   "cell_type": "code",
   "execution_count": 39,
   "metadata": {
    "collapsed": true
   },
   "outputs": [],
   "source": [
    "logi = sklin.LogisticRegression(penalty=\"l2\", tol=1e-5, C=C_opt_logi, max_iter=2000)\n",
    "logi.fit(X[train, :], y[train])\n",
    "y_test_pred_logi = logi.predict(X[test, :])"
   ]
  },
  {
   "cell_type": "markdown",
   "metadata": {},
   "source": [
    "Below is the error I trained using the $C_{opt}$"
   ]
  },
  {
   "cell_type": "code",
   "execution_count": 40,
   "metadata": {},
   "outputs": [
    {
     "name": "stdout",
     "output_type": "stream",
     "text": [
      "False rate 0.0844175322818\n",
      "False positive 0.0817915612938\n",
      "False negative 0.128189325773\n"
     ]
    }
   ],
   "source": [
    "print \"False rate\", np.sum(y[test] != y_test_pred_logi) / float(n_test)\n",
    "print \"False positive\", np.sum(np.logical_and(y[test] == -1, y_test_pred_logi == 1)) / float(n_test_n)\n",
    "print \"False negative\", np.sum(np.logical_and(y[test] == 1, y_test_pred_logi == -1)) / float(n_test_p)"
   ]
  },
  {
   "cell_type": "markdown",
   "metadata": {},
   "source": [
    "### 5-fold Cross Validation, penalty L1"
   ]
  },
  {
   "cell_type": "code",
   "execution_count": 41,
   "metadata": {
    "scrolled": true
   },
   "outputs": [
    {
     "name": "stdout",
     "output_type": "stream",
     "text": [
      "0\n",
      "1\n",
      "2\n",
      "3\n",
      "4\n",
      "5\n",
      "6\n",
      "7\n",
      "8\n",
      "9\n",
      "10\n",
      "11\n",
      "12\n",
      "13\n",
      "14\n",
      "15\n",
      "16\n",
      "17\n",
      "18\n",
      "19\n"
     ]
    }
   ],
   "source": [
    "# I tried a few rounds to decide a rough region for C_arr\n",
    "# You can do something similar\n",
    "C_arr_len = 20\n",
    "C_arr = np.exp(np.linspace(-4, 2, C_arr_len))\n",
    "cv_err_logi1 = np.empty(C_arr_len)\n",
    "train_cv = np.copy(train)\n",
    "for i in xrange(C_arr_len):\n",
    "    print i\n",
    "    logi = sklin.LogisticRegression(penalty=\"l1\", tol=1e-5, C=C_arr[i], max_iter=1000)\n",
    "    tmp_err = 0.0\n",
    "    for j in xrange(k):\n",
    "        train_cv[train_idx[cv_grid[j] : cv_grid[j + 1]]] = False\n",
    "        logi.fit(X[train_cv, :], y[train_cv])\n",
    "        y_pred_k = logi.predict(X[train_idx[cv_grid[j] : cv_grid[j + 1]]])\n",
    "        tmp_err += np.sum(y_pred_k != y[train_idx[cv_grid[j] : cv_grid[j + 1]]])\n",
    "        train_cv[train_idx[cv_grid[j] : cv_grid[j + 1]]] = True\n",
    "    cv_err_logi1[i] = tmp_err / k"
   ]
  },
  {
   "cell_type": "code",
   "execution_count": 42,
   "metadata": {},
   "outputs": [
    {
     "data": {
      "text/plain": [
       "<matplotlib.legend.Legend at 0x7f0e417e7a50>"
      ]
     },
     "execution_count": 42,
     "metadata": {},
     "output_type": "execute_result"
    },
    {
     "data": {
      "image/png": "[encoded data removed]",
      "text/plain": [
       "<matplotlib.figure.Figure at 0x7f0e4192f850>"
      ]
     },
     "metadata": {},
     "output_type": "display_data"
    }
   ],
   "source": [
    "fg = plt.figure(figsize=(5, 5))\n",
    "ax = fg.add_subplot(1, 1, 1)\n",
    "\n",
    "ax.set_xlabel(\"$\\lambda$\", size=\"large\")\n",
    "ax.set_ylabel(\"err\", size=25)\n",
    "ax.set_xscale(\"log\")\n",
    "\n",
    "line_cv = ax.plot(C_arr, cv_err_logi1, label=\"cv_err\")\n",
    "ax.grid()\n",
    "\n",
    "ax.legend(loc=\"best\", fontsize=\"xx-large\")\n"
   ]
  },
  {
   "cell_type": "code",
   "execution_count": 43,
   "metadata": {},
   "outputs": [
    {
     "name": "stdout",
     "output_type": "stream",
     "text": [
      "0.810157734932\n"
     ]
    }
   ],
   "source": [
    "C_opt_logi1 = C_arr[np.argmin(cv_err_logi1)]\n",
    "print C_opt_logi1"
   ]
  },
  {
   "cell_type": "markdown",
   "metadata": {},
   "source": [
    "### Re-train our model based on the $C_{opt}$"
   ]
  },
  {
   "cell_type": "code",
   "execution_count": 44,
   "metadata": {
    "collapsed": true
   },
   "outputs": [],
   "source": [
    "logi1 = sklin.LogisticRegression(penalty=\"l1\", tol=1e-5, C=C_opt_logi1, max_iter=2000)\n",
    "logi1.fit(X[train, :], y[train])\n",
    "y_test_pred_logi1 = logi1.predict(X[test, :])"
   ]
  },
  {
   "cell_type": "markdown",
   "metadata": {},
   "source": [
    "Below is the error I trained using the $C_{opt}$"
   ]
  },
  {
   "cell_type": "code",
   "execution_count": 45,
   "metadata": {},
   "outputs": [
    {
     "name": "stdout",
     "output_type": "stream",
     "text": [
      "False rate 0.074448715355\n",
      "False positive 0.0706257302158\n",
      "False negative 0.138173302108\n"
     ]
    }
   ],
   "source": [
    "print \"False rate\", np.sum(y[test] != y_test_pred_logi1) / float(n_test)\n",
    "print \"False positive\", np.sum(np.logical_and(y[test] == -1, y_test_pred_logi1 == 1)) / float(n_test_n)\n",
    "print \"False negative\", np.sum(np.logical_and(y[test] == 1, y_test_pred_logi1 == -1)) / float(n_test_p)"
   ]
  },
  {
   "cell_type": "code",
   "execution_count": 60,
   "metadata": {
    "collapsed": true
   },
   "outputs": [],
   "source": [
    "support_words = filtered_words[np.nonzero(logi.coef_[0] != 0)[0]]"
   ]
  },
  {
   "cell_type": "code",
   "execution_count": 64,
   "metadata": {},
   "outputs": [
    {
     "name": "stdout",
     "output_type": "stream",
     "text": [
      "['talk' 'please' 'would' 'like' 'just' 'should' 'don' 'see' 'think'\n",
      " 'people' 'edit' 'only' 'use' 'may' 'user' 'thanks' 'even' 'get' 'make'\n",
      " 'good' 'had' 'well' 'very' 'could' 'deletion' 'help' 'new' 'source' 'go'\n",
      " 'section' 'need' 'say' 'fuck' 'thank' 'made' 'discussion' 'deleted' 'same'\n",
      " 'find' 'work' 'since' 'right' 'point' 'after' 'add' 'read' 'look' 'over'\n",
      " 'someone' 'wiki' 'him' 'll' 'two' 'still' 'back' 'hi' 'too' 'list' 'link'\n",
      " 'own' 'going' 'blocked' 'stop' 'content' 'without' 'block' 'history'\n",
      " 'under' 'http' 'our' 'added' 'utc' 'editors' 'removed' 'her' 'might'\n",
      " 'note' 'however' 'free' 'place' 'doesn' 'sure' 'case' 'done' 'us'\n",
      " 'vandalism' 'she' 'reason' 'put' 'comment' 'let' 'personal' 'person'\n",
      " 'better' 'yourself' 'using' 'seems' 'ask' 'actually' 'off']\n",
      "['dis' 'rapist' 'snide' 'despicable' 'scumbag' 'hahahaha' 'tit' 'idiocy'\n",
      " 'filth' 'homophobia' 'donate' 'jungle' 'worm' 'guests' 'weed' 'thug'\n",
      " 'mama' 'bongwarrior' 'clowns' 'provocation' 'pedophiles' 'antics'\n",
      " 'condensed' 'jerks' 'cops' 'cowards' 'lunatic' 'stinks' 'rats' 'tyrant'\n",
      " 'stink' 'bitching' 'senseless' 'fuckers' 'swallow' 'pitiful' 'closet'\n",
      " 'fuk' 'stfu' 'fuc' 'distortions' 'pervert' 'conrad' 'rediculous' 'penises'\n",
      " 'nisarkand' 'slit' 'themself' 'goats' 'shite' 'imbecile' 'goon'\n",
      " 'sickening' 'overweight' 'arsehole' 'todays' 'fuckhead' 'epidemic'\n",
      " 'wandering' 'maggot' 'masturbating' 'amen' 'wank' 'chauvinist' 'dumbest'\n",
      " 'butthurt' 'fucktard' 'condoms' 'bugger' 'drunken' 'puke' 'crybaby'\n",
      " 'masturbate' 'homophobe' 'imbeciles' 'wikinazi' 'poisoned' 'garfield'\n",
      " 'rectum' 'antisemite' 'freaky' 'maniac' 'shits' 'obesity' 'fellatio'\n",
      " 'smoked' 'nig' 'grenade' 'tyrants' 'fock' 'sluts' 'asshat' 'fukkin' 'cmon'\n",
      " 'dumbfuck' 'fcuk' 'krakatoakatie' 'aaa' 'cockroach' 'lier']\n"
     ]
    }
   ],
   "source": [
    "print(support_words[:100])\n",
    "print(support_words[-100:])"
   ]
  },
  {
   "cell_type": "markdown",
   "metadata": {
    "collapsed": true
   },
   "source": [
    "Linear methods performs more or less similar on the constructed datasets"
   ]
  },
  {
   "cell_type": "markdown",
   "metadata": {},
   "source": [
    "## Kernel SVM\n",
    "$$ \\text{minimize}\\;\\;\\; \\frac{1}{2}\\sum_{i, j} \\alpha_i\\alpha_j y_iy_j K(x_i, x_j) - \\sum_i \\alpha_i ,\\;\\;\\; \\text{such that}\\;\\;\\; 0 \\leq \\alpha_i \\leq C,\\;\\;\\; i = 1, \\ldots, n, \\sum_i \\alpha_i y_i = 0 $$;\n",
    "\n",
    "$i$ such that $\\alpha_i > 0$ are support vectors; $0 < \\alpha_i < C$ stay on the boundary; $\\alpha_i = C$ cross boundary;\n",
    "\n",
    "Types of Kernel:\n",
    "* linear: $K(x, x') = x^\\top x'$\n",
    "* RBF: $K(x, x') = \\exp(-\\gamma \\|x - x'\\|_2^2)$\n",
    "* Polynomial: $K(x, x') = (\\gamma x^\\top x' + r)^d$\n",
    "* Sigmoid: $K(x, x') = \\tanh( \\gamma x^\\top x' + r)$\n"
   ]
  },
  {
   "cell_type": "markdown",
   "metadata": {},
   "source": [
    "## Fitting kernel-SVM (RBF)"
   ]
  },
  {
   "cell_type": "markdown",
   "metadata": {},
   "source": [
    "### 5-fold Cross Validation (slow, takes around 30 mins, please do not run during tutorial session)"
   ]
  },
  {
   "cell_type": "code",
   "execution_count": null,
   "metadata": {
    "scrolled": false
   },
   "outputs": [
    {
     "name": "stdout",
     "output_type": "stream",
     "text": [
      "0\n",
      "1\n"
     ]
    }
   ],
   "source": [
    "# I tried a few rounds to decide a rough region for C_arr\n",
    "# You can do something similar\n",
    "C_arr_len = 5\n",
    "C_arr = np.exp(np.linspace(-4, 2, C_arr_len))\n",
    "cv_err_svm_kern = np.empty(C_arr_len)\n",
    "train_cv = np.copy(train)\n",
    "for i in xrange(C_arr_len):\n",
    "    print i\n",
    "    svm_kern = sksvm.SVC(C=C_arr[i], kernel=\"rbf\", gamma=\"auto\", tol=1e-4, max_iter=-1)\n",
    "    tmp_err = 0.0\n",
    "    for j in xrange(k):\n",
    "        train_cv[train_idx[cv_grid[j] : cv_grid[j + 1]]] = False\n",
    "        svm_kern.fit(X[train_cv, :], y[train_cv])\n",
    "        y_pred_k = svm_kern.predict(X[train_idx[cv_grid[j] : cv_grid[j + 1]]])\n",
    "        tmp_err += np.sum(y_pred_k != y[train_idx[cv_grid[j] : cv_grid[j + 1]]])\n",
    "        train_cv[train_idx[cv_grid[j] : cv_grid[j + 1]]] = True\n",
    "    cv_err_svm_kern[i] = tmp_err / k"
   ]
  },
  {
   "cell_type": "code",
   "execution_count": 321,
   "metadata": {},
   "outputs": [
    {
     "data": {
      "text/plain": [
       "<matplotlib.legend.Legend at 0x7fd538191550>"
      ]
     },
     "execution_count": 321,
     "metadata": {},
     "output_type": "execute_result"
    },
    {
     "data": {
      "image/png": "[encoded data removed]",
      "text/plain": [
       "<matplotlib.figure.Figure at 0x7fd5392ba350>"
      ]
     },
     "metadata": {},
     "output_type": "display_data"
    }
   ],
   "source": [
    "fg = plt.figure(figsize=(5, 5))\n",
    "ax = fg.add_subplot(1, 1, 1)\n",
    "\n",
    "ax.set_xlabel(\"$\\lambda$\", size=\"large\")\n",
    "ax.set_ylabel(\"err\", size=25)\n",
    "ax.set_xscale(\"log\")\n",
    "\n",
    "line_cv = ax.plot(C_arr, cv_err_svm_kern, label=\"cv_err\")\n",
    "ax.grid()\n",
    "\n",
    "ax.legend(loc=\"best\", fontsize=\"xx-large\")\n"
   ]
  },
  {
   "cell_type": "code",
   "execution_count": 271,
   "metadata": {},
   "outputs": [
    {
     "name": "stdout",
     "output_type": "stream",
     "text": [
      "0.121813613837\n"
     ]
    }
   ],
   "source": [
    "C_opt_kern = C_arr[np.argmin(cv_err_kern)]\n",
    "print C_opt_kern"
   ]
  },
  {
   "cell_type": "markdown",
   "metadata": {},
   "source": [
    "### Re-train our model based on the $C_{opt}$"
   ]
  },
  {
   "cell_type": "code",
   "execution_count": 272,
   "metadata": {
    "collapsed": true
   },
   "outputs": [],
   "source": [
    "svm_kern = sksvm.SVC(C=C_arr[i], kernel=\"poly\", gamma=\"auto\", degree=3, tol=1e-4, max_iter=-1)\n",
    "svm_kern.fit(X[train, :], y[train])\n",
    "y_test_pred = svm_kern.predict(X[test, :])"
   ]
  },
  {
   "cell_type": "markdown",
   "metadata": {},
   "source": [
    "Below is the error I trained using the $C_{opt}$"
   ]
  },
  {
   "cell_type": "code",
   "execution_count": 273,
   "metadata": {},
   "outputs": [
    {
     "name": "stdout",
     "output_type": "stream",
     "text": [
      "False positive 0.0136232167559\n",
      "True positive 0.697943288305\n",
      "False negative 0.302056711695\n",
      "True negative 0.986376783244\n"
     ]
    }
   ],
   "source": [
    "print \"False positive\", np.sum(np.logical_and(y[test] == -1, y_test_pred == 1)) / float(n_test_n)\n",
    "print \"True positive\", np.sum(np.logical_and(y[test] == 1, y_test_pred == 1)) / float(n_test_p)\n",
    "print \"False negative\", np.sum(np.logical_and(y[test] == 1, y_test_pred == -1)) / float(n_test_p)\n",
    "print \"True negative\", np.sum(np.logical_and(y[test] == -1, y_test_pred == -1)) / float(n_test_n)"
   ]
  }
 ],
 "metadata": {
  "anaconda-cloud": {},
  "kernelspec": {
   "display_name": "Python 3",
   "language": "python",
   "name": "python3"
  },
  "language_info": {
   "codemirror_mode": {
    "name": "ipython",
    "version": 3
   },
   "file_extension": ".py",
   "mimetype": "text/x-python",
   "name": "python",
   "nbconvert_exporter": "python",
   "pygments_lexer": "ipython3",
   "version": "3.7.0"
  }
 },
 "nbformat": 4,
 "nbformat_minor": 2
}
