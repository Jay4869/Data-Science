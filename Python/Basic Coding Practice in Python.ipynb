{
 "cells": [
  {
   "cell_type": "markdown",
   "metadata": {},
   "source": [
    "# Basic Algorithms in Python"
   ]
  },
  {
   "cell_type": "markdown",
   "metadata": {},
   "source": [
    "### Question: OddNums\n",
    "\n",
    "Build a function `OddNums` which takes two integers (i and j) as inputs and returns a list of ODD numbers between i and j inclusively.\n",
    "\n",
    "Examples\n",
    "```\n",
    "OddNums(1, 5) returns [1, 3, 5]\n",
    "OddNums(2, 6) returns [3, 5]\n",
    "OddNums(1, 2) returns [1]\n",
    "```"
   ]
  },
  {
   "cell_type": "code",
   "execution_count": 7,
   "metadata": {},
   "outputs": [
    {
     "name": "stdout",
     "output_type": "stream",
     "text": [
      "OddNums(1, 5) returns [1, 3, 5]\n",
      "OddNums(2, 6) returns [3, 5]\n",
      "OddNums(1, 2) returns [1]\n"
     ]
    }
   ],
   "source": [
    "def OddNums(i, j):\n",
    "    return [x for x in range(i, j+1) if x % 2 != 0]\n",
    "\n",
    "print('OddNums(1, 5) returns', OddNums(1,5))\n",
    "print('OddNums(2, 6) returns', OddNums(2,6))\n",
    "print('OddNums(1, 2) returns', OddNums(1,2))"
   ]
  },
  {
   "cell_type": "markdown",
   "metadata": {},
   "source": [
    "### Question: Separate Numbers\n",
    "\n",
    "Build a function `SepNum` which extracts the odd numbers from a given list ands append the odd numbers at the end of the list.\n",
    "\n",
    "Examples\n",
    "```\n",
    "SepNum([1, 2, 3, 4, 5, 6]) returns [2, 4, 6, 1, 3, 5]\n",
    "SepNum([1, 3, 5]) returns [1, 3, 5]\n",
    "SepNum([2, 4, 6]) returns [2, 4, 6]\n",
    "```"
   ]
  },
  {
   "cell_type": "code",
   "execution_count": null,
   "metadata": {},
   "outputs": [],
   "source": [
    "def SepNum(x):    \n",
    "    return [i for i in x if i % 2 == 0] + [i for i in x if i % 2 != 0]\n",
    "    \n",
    "print('SepNum([1, 2, 3, 4, 5, 6]) returns', SepNum([1, 2, 3, 4, 5, 6]))\n",
    "print('SepNum([1, 3, 5]) returns', SepNum([1, 3, 5]))\n",
    "print('SepNum([2, 4, 6]) returns', SepNum([2, 4, 6]))"
   ]
  },
  {
   "cell_type": "markdown",
   "metadata": {},
   "source": [
    "### Question: FizzBuzz\n",
    "\n",
    "Build a function `FizzBuzz` which takes a positive integer as input. If the number is divisible by 3, the function returns 'Fizz'. If the number is divisible by 5, the function returns 'Buzz'. If the number is divisible by both 3 and 5, the function returns 'FizzBuzz'. Otherwise, the function returns the number itself.\n",
    "\n",
    "Examples\n",
    "\n",
    "```\n",
    "FizzBuzz(45) returns 'FizzBuzz'\n",
    "FizzBuzz(9) returns 'Fizz'\n",
    "FizzBuzz(25) returns 'Buzz'\n",
    "FizzBuzz(17) returns 17\n",
    "```"
   ]
  },
  {
   "cell_type": "code",
   "execution_count": 13,
   "metadata": {},
   "outputs": [
    {
     "name": "stdout",
     "output_type": "stream",
     "text": [
      "45 returns FizzBuzz\n",
      "9 returns Fizz\n",
      "25 returns Buzz\n",
      "17 returns 17\n"
     ]
    }
   ],
   "source": [
    "def FizzBuzz(x):\n",
    "    \n",
    "    if x % 15 == 0:\n",
    "        return 'FizzBuzz'\n",
    "    elif x % 3 == 0:\n",
    "        return 'Fizz'\n",
    "    elif x % 5 == 0:\n",
    "        return 'Buzz'\n",
    "    else:\n",
    "        return x\n",
    "\n",
    "print('{} returns {}'.format(45, FizzBuzz(45)))\n",
    "print('{} returns {}'.format(9, FizzBuzz(9)))\n",
    "print('{} returns {}'.format(25, FizzBuzz(25)))\n",
    "print('{} returns {}'.format(17, FizzBuzz(17)))"
   ]
  },
  {
   "cell_type": "markdown",
   "metadata": {},
   "source": [
    "### Question: Reverse List/String/Sentence\n",
    "\n",
    "Build a function `Reverse` which reverses a list and a String.\n",
    "\n",
    "Examples\n",
    "```\n",
    "Reverse([3, 1, 9, 8, 4]) returns [4, 8, 9, 1, 3]\n",
    "Reverse(\"abcd\") returns bcda)\n",
    "Reverse(\"we are all friends\") returns \"friends all are we\"\n",
    "```"
   ]
  },
  {
   "cell_type": "code",
   "execution_count": 78,
   "metadata": {},
   "outputs": [
    {
     "name": "stdout",
     "output_type": "stream",
     "text": [
      "Reverse([3, 1, 9, 8, 4]) returns [4, 8, 9, 1, 3]\n",
      "Reverse(\"abcd\") returns dcba\n",
      "Reverse(\"we are all friends\") friends all are we\n"
     ]
    }
   ],
   "source": [
    "def Reverse(x):\n",
    "    \n",
    "    # build-in function\n",
    "    # x.reverse() for list\n",
    "    # ''.join(reversed(x)) for String\n",
    "    # x[::-1]\n",
    "    \n",
    "    output = []\n",
    "    \n",
    "    if type(x) is not list:\n",
    "        \n",
    "        # check sentence\n",
    "        if ' ' in x:\n",
    "            x = x.split(' ')\n",
    "            for i in range(len(x)):\n",
    "                output.append(x.pop())\n",
    "\n",
    "            # convert list to string\n",
    "            output = ' '.join(map(str, output))            \n",
    "            \n",
    "        else:\n",
    "            x = list(x)\n",
    "            for i in range(len(x)):\n",
    "                output.append(x.pop())\n",
    "\n",
    "            # convert list to string\n",
    "            output = ''.join(map(str, output))\n",
    "        \n",
    "    else:\n",
    "        for i in range(len(x)):\n",
    "            output.append(x.pop())\n",
    "        \n",
    "    return output\n",
    "\n",
    "print('Reverse([3, 1, 9, 8, 4]) returns', Reverse([3, 1, 9, 8, 4]))\n",
    "print('Reverse(\"abcd\") returns', Reverse('abcd'))\n",
    "print('Reverse(\"we are all friends\")', Reverse(\"we are all friends\"))"
   ]
  },
  {
   "cell_type": "markdown",
   "metadata": {},
   "source": [
    "### Question: Capitalize First Letters\n",
    "\n",
    "Build a function `CapLett` to capitalize the first letter of each word in a sentence.\n",
    "\n",
    "Examples\n",
    "```\n",
    "CapLett(\"we are all friends\") returns \"We Are All Friends\"\n",
    "```"
   ]
  },
  {
   "cell_type": "code",
   "execution_count": 80,
   "metadata": {},
   "outputs": [
    {
     "name": "stdout",
     "output_type": "stream",
     "text": [
      "CapLett(\"we are all friends\") return We Are All Friends\n"
     ]
    }
   ],
   "source": [
    "def CapLett(x):\n",
    "    \n",
    "    temp = [i.capitalize() for i in x.split(' ')]\n",
    "    return ' '.join(temp)\n",
    "\n",
    "print('CapLett(\"we are all friends\") return', CapLett(\"we are all friends\"))"
   ]
  },
  {
   "cell_type": "markdown",
   "metadata": {},
   "source": [
    "### Question: Key Value Switch\n",
    "\n",
    "Build a function `kvSwitch` to switch the keys and values of a dictionary.\n",
    "\n",
    "Examples\n",
    "```\n",
    "kvSwitch({\"a\": \"1\", \"b\": \"2\", \"c\": \"3\"}) returns {\"1\": \"a\", \"2\": \"b\", \"3\": \"c\"}\n",
    "```"
   ]
  },
  {
   "cell_type": "code",
   "execution_count": 100,
   "metadata": {},
   "outputs": [
    {
     "name": "stdout",
     "output_type": "stream",
     "text": [
      "kvSwitch({\"a\": \"1\", \"b\": \"2\", \"c\": \"3\"}) returns {'1': 'a', '2': 'b', '3': 'c'}\n"
     ]
    }
   ],
   "source": [
    "def kvSwitch(x):\n",
    "    \n",
    "    return {j: i for i, j in x.items()}\n",
    "\n",
    "print('kvSwitch({\"a\": \"1\", \"b\": \"2\", \"c\": \"3\"}) returns', kvSwitch({\"a\": \"1\", \"b\": \"2\", \"c\": \"3\"}))"
   ]
  },
  {
   "cell_type": "markdown",
   "metadata": {},
   "source": [
    "### Question: List to Dictionary\n",
    "\n",
    "Build a function `LstDict` to convert the given list to dictionary such that all the odd elements have the key, and even number elements have the value.\n",
    "\n",
    "Examples\n",
    "```\n",
    "LstDict(['a', 1, 'b', 2, 'c', 3]) returns {'a': 1, 'b': 2, 'c': 3}\n",
    "LstDict(['Delhi', 71, 'Mumbai', 42]) returns {'Delhi': 71, 'Mumbai': 42}\n",
    "```"
   ]
  },
  {
   "cell_type": "code",
   "execution_count": 8,
   "metadata": {},
   "outputs": [
    {
     "name": "stdout",
     "output_type": "stream",
     "text": [
      "LstDict(['a', 1, 'b', 2, 'c', 3]) returns {'a': 1, 'b': 2, 'c': 3}\n",
      "LstDict(['Delhi', 71, 'Mumbai', 42]) returns {'Delhi': 71, 'Mumbai': 42}\n"
     ]
    }
   ],
   "source": [
    "def LstDict(x):\n",
    "    \n",
    "    # create an iterator to load items\n",
    "    # it = iter(x)\n",
    "    # dict(zip(it, it))\n",
    "    \n",
    "    # zip method to conduct keys and items\n",
    "    return dict(zip(x[::2], x[1::2]))\n",
    "    \n",
    "\n",
    "print(\"LstDict(['a', 1, 'b', 2, 'c', 3]) returns\", LstDict(['a', 1, 'b', 2, 'c', 3]))\n",
    "print(\"LstDict(['Delhi', 71, 'Mumbai', 42]) returns\", LstDict(['Delhi', 71, 'Mumbai', 42]))"
   ]
  },
  {
   "cell_type": "markdown",
   "metadata": {},
   "source": [
    "### Question: Lookup Elements\n",
    "\n",
    "Build a function `Lookup` to tell whether any target elements exist in a list\n",
    "\n",
    "Examples\n",
    "```\n",
    "Lookup([1, 2, 3, 4, 5], [1, 2, 3]) returns True\n",
    "Lookup([1, 2, 3, 4, 5], [3, 6]) returns True\n",
    "Lookup([1, 2, 3, 4, 5], [0, 6]) returns False\n",
    "```"
   ]
  },
  {
   "cell_type": "code",
   "execution_count": 9,
   "metadata": {},
   "outputs": [
    {
     "name": "stdout",
     "output_type": "stream",
     "text": [
      "Lookup([1, 2, 3, 4, 5], [1, 2, 3]) returns True\n",
      "Lookup([1, 2, 3, 4, 5], [3, 6]) returns True\n",
      "Lookup([1, 2, 3, 4, 5], [0, 6]) returns False\n"
     ]
    }
   ],
   "source": [
    "def Lookup(x, y):\n",
    "    return any(i in x for i in y)\n",
    "\n",
    "print('Lookup([1, 2, 3, 4, 5], [1, 2, 3]) returns', Lookup([1,2,3,4,5], [1, 2, 3]))\n",
    "print('Lookup([1, 2, 3, 4, 5], [3, 6]) returns', Lookup([1,2,3,4,5], [3, 6]))\n",
    "print('Lookup([1, 2, 3, 4, 5], [0, 6]) returns', Lookup([1,2,3,4,5], [0, 6]))"
   ]
  },
  {
   "cell_type": "markdown",
   "metadata": {},
   "source": [
    "### Question: All Red\n",
    "\n",
    "Build a function `AllRed` that takes a list of strings as input, returns a boolean indicating whether all the strings containing word \"red\".\n",
    "\n",
    "Examples\n",
    "```\n",
    "AllRed([\"red hat\", \"a pair of red shoes\", \"three red apples\"]) returns True\n",
    "AllRed([\"red hat\", \"white shirt\", \"black eyes\"]) returns False\n",
    "AllRed([]) returns False\n",
    "```"
   ]
  },
  {
   "cell_type": "code",
   "execution_count": 58,
   "metadata": {},
   "outputs": [
    {
     "name": "stdout",
     "output_type": "stream",
     "text": [
      "AllRed([\"red hat\", \"a pair of red shoes\", \"three red apples\"]) returns True\n",
      "AllRed([\"red hat\", \"white shirt\", \"black eyes\"]) returns True\n",
      "AllRed([]) returns False\n"
     ]
    }
   ],
   "source": [
    "def AllRed(x):\n",
    "    \n",
    "    results = []\n",
    "    if len(x) == 0:\n",
    "        return False\n",
    "    else:\n",
    "#         return any('red' in i for i in x)\n",
    "        return [True if 'red' in i else False for i in x]\n",
    "\n",
    "    \n",
    "print('AllRed([\"red hat\", \"a pair of red shoes\", \"three red apples\"]) returns', AllRed([\"red hat\", \"a pair of red shoes\", \"three red apples\"]))\n",
    "print('AllRed([\"red hat\", \"white shirt\", \"black eyes\"]) returns', AllRed([\"red hat\", \"white shirt\", \"black eyes\"]))\n",
    "print('AllRed([]) returns', AllRed([]))"
   ]
  },
  {
   "cell_type": "markdown",
   "metadata": {},
   "source": [
    "### Question: Remove Elements\n",
    "\n",
    "Build a function `RmEl` to remove a target element of list from a list. If the target element appears in the list for multiple times, only remove the first one.\n",
    "\n",
    "Examples\n",
    "```\n",
    "RmEl([1, 2, 3, 4, 5], [2]) returns [1, 3, 4, 5]\n",
    "RmEl([1, 2, 3, 3, 4, 5], [1, 3]) returns [2, 3, 4, 5]\n",
    "RmEl([1, 2, 3, 3, 4, 5], [3, 5, 6]) returns [1, 2, 3, 4]\n",
    "```"
   ]
  },
  {
   "cell_type": "code",
   "execution_count": 11,
   "metadata": {},
   "outputs": [
    {
     "name": "stdout",
     "output_type": "stream",
     "text": [
      "RmEl([1, 2, 3, 4, 5], [2]) returns [1, 3, 4, 5]\n",
      "RmEl([1, 2, 3, 3, 4, 5], [1, 3]) returns [2, 3, 4, 5]\n",
      "RmEl([1, 2, 3, 3, 4, 5], [3, 5, 6]) returns [1, 2, 3, 4]\n"
     ]
    }
   ],
   "source": [
    "def RmEl(x, y):\n",
    "    \n",
    "    for i in y:\n",
    "        if i in x:\n",
    "            x.remove(i) # [i for i in arr if i not in x] removing all\n",
    "    return x\n",
    "\n",
    "print('RmEl([1, 2, 3, 4, 5], [2]) returns', RmEl([1, 2, 3, 4, 5], [2]))\n",
    "print('RmEl([1, 2, 3, 3, 4, 5], [1, 3]) returns', RmEl([1, 2, 3, 3, 4, 5], [1, 3]))\n",
    "print('RmEl([1, 2, 3, 3, 4, 5], [3, 5, 6]) returns', RmEl([1, 2, 3, 3, 4, 5], [3, 5, 6]))"
   ]
  },
  {
   "cell_type": "markdown",
   "metadata": {},
   "source": [
    "### Question: Remove Duplicates from a List\n",
    "\n",
    "Build a function `RmDuplicate` which remove all the duplicates from a list.\n",
    "\n",
    "Examples\n",
    "```\n",
    "RmDuplicate([3, 1, 2, 3, 4, 5, 6]) returns [1, 2, 3, 4, 5, 6]\n",
    "RmDuplicate([1, 3, 5]) returns [1, 3, 5]\n",
    "```"
   ]
  },
  {
   "cell_type": "code",
   "execution_count": 17,
   "metadata": {
    "scrolled": false
   },
   "outputs": [
    {
     "name": "stdout",
     "output_type": "stream",
     "text": [
      "RmDuplicate([3, 1, 2, 3, 4, 5, 6]) returns [1, 2, 3, 4, 5, 6]\n",
      "RmDuplicate([1, 3, 5]) returns [1, 3, 5]\n"
     ]
    }
   ],
   "source": [
    "def RmDuplicate(x):\n",
    "    \n",
    "    # built-in functions\n",
    "    # list(set(x))\n",
    "    \n",
    "    # use `dictionary`\n",
    "    # list(dict.fromkeys(x))\n",
    "    \n",
    "    unique = []\n",
    "    [unique.append(i) for i in x if i not in unique]\n",
    "    \n",
    "    return sorted(unique)\n",
    "\n",
    "print('RmDuplicate([3, 1, 2, 3, 4, 5, 6]) returns', RmDuplicate([3, 1, 2, 3, 4, 5, 6]))\n",
    "print('RmDuplicate([1, 3, 5]) returns', RmDuplicate([1, 3, 5]))"
   ]
  },
  {
   "cell_type": "markdown",
   "metadata": {},
   "source": [
    "#######################################################"
   ]
  },
  {
   "cell_type": "markdown",
   "metadata": {},
   "source": [
    "### Question: Two Sum\n",
    "\n",
    "Build a function `TwoSum` to return the indices of two integers if the sum is reaching to a given inputs. Here we will take one assumption, that is always there will be one unique solution in the array, so no two set of indices for same target will be there.\n",
    "\n",
    "Example:\n",
    "```\n",
    "TwoSum([2, 8, 12, 15], 20) return [1, 2]\n",
    "TwoSum([1, 3, 5, 7], 12) return [2, 3]\n",
    "TwoSum([1, 5, 10, 15], 20) return [1, 3]\n",
    "```"
   ]
  },
  {
   "cell_type": "code",
   "execution_count": 51,
   "metadata": {},
   "outputs": [
    {
     "name": "stdout",
     "output_type": "stream",
     "text": [
      "TwoSum([2, 8, 12, 15], 20) return [1, 2]\n",
      "TwoSum([1, 3, 5, 7], 12) return [2, 3]\n",
      "TwoSum([1, 5, 10, 15], 20) return [1, 3]\n"
     ]
    }
   ],
   "source": [
    "def TwoSum(x, n):\n",
    "    \n",
    "    for i, j in enumerate(x):\n",
    "        rest = n - j\n",
    "        if rest in x and i != x.index(rest):\n",
    "            return [i, x.index(rest)]\n",
    "        \n",
    "#         output = {}\n",
    "#         for i, j in enumerate(x):\n",
    "#             rest = n - j\n",
    "#             if rest not in output:\n",
    "#                 output[j] = i\n",
    "#             else:\n",
    "#                 return [i, output[rest]]\n",
    "\n",
    "print('TwoSum([2, 8, 12, 15], 20) return', TwoSum([2, 8, 12, 15], 20))\n",
    "print('TwoSum([1, 3, 5, 7], 12) return', TwoSum([1, 3, 5, 7], 12))\n",
    "print('TwoSum([1, 5, 10, 15], 20) return', TwoSum([1, 5, 10, 15], 20))"
   ]
  },
  {
   "cell_type": "markdown",
   "metadata": {},
   "source": [
    "### Question: Maximum Stock Gain\n",
    "\n",
    "Build a function `MaxGain` to find the maximum you can gain by buying and selling stocks. The strock prices represented as a list of numbers. You need to buy stocks before you sell them.\n",
    "\n",
    "Examples\n",
    "```\n",
    "MaxGain([3, 4, 1, 5, 7, 2]) returns 6\n",
    "--Explanation: Buy stocks when the price is 1 and sell them when the price is 7.\n",
    "\n",
    "MaxGain([5, 4, 3, 2, 1]) returns 0\n",
    "```"
   ]
  },
  {
   "cell_type": "code",
   "execution_count": 25,
   "metadata": {},
   "outputs": [
    {
     "name": "stdout",
     "output_type": "stream",
     "text": [
      "MaxGain([3, 4, 2, 5, 7, 1]) returns 5\n",
      "MaxGain([5, 4, 3, 2, 1]) returns 0\n",
      "MaxGain([6, 9, 3, 1, 4, 8, 2, 5, 1, 10]) returns 9\n"
     ]
    }
   ],
   "source": [
    "def MaxGain(x):\n",
    "    \n",
    "    if len(x) < 2:\n",
    "        return 0\n",
    "    \n",
    "    else:\n",
    "    \n",
    "        gain = 0\n",
    "        buy = x[0]\n",
    "    \n",
    "        for i in x[1:]:\n",
    "\n",
    "            if i > buy:\n",
    "                gain = i - buy if (i - buy) > gain else gain\n",
    "\n",
    "            else:\n",
    "                buy = i\n",
    "\n",
    "        return gain\n",
    "\n",
    "print('MaxGain([3, 4, 2, 5, 7, 1]) returns', MaxGain([3, 4, 2, 5, 7, 1]))\n",
    "print('MaxGain([5, 4, 3, 2, 1]) returns', MaxGain([5, 4, 3, 2, 1]))\n",
    "print('MaxGain([6, 9, 3, 1, 4, 8, 2, 5, 1, 10]) returns', MaxGain([6, 9, 3, 1, 4, 8, 2, 5, 1, 10]))"
   ]
  },
  {
   "cell_type": "markdown",
   "metadata": {},
   "source": [
    "### Merge Two Sorted Lists\n",
    "\n",
    "Build a function `MergeSorted` which merges two sorted lists as one sorted list.\n",
    "\n",
    "Examples\n",
    "```\n",
    "MergeSorted([1, 3, 5], [2, 4, 6]) returns [1, 2, 3, 4, 5, 6]\n",
    "MergeSorted([1, 2, 3], [4, 5, 6]) returns [1, 2, 3, 4, 5, 6]\n",
    "MergeSorted([4, 5, 6], [1, 2, 3]) returns [1, 2, 3, 4, 5, 6]\n",
    "MergeSorted([0, 4, 9], [1, 2, 3, 5, 8]) returns [0, 1, 2, 3, 4, 5, 8, 9]\n",
    "```"
   ]
  },
  {
   "cell_type": "code",
   "execution_count": 14,
   "metadata": {},
   "outputs": [
    {
     "name": "stdout",
     "output_type": "stream",
     "text": [
      "MergeSorted([1, 3, 5], [2, 4, 6]) returns [1, 2, 3, 4, 5, 6]\n",
      "MergeSorted([1, 2, 3], [4, 5, 6]) returns [1, 2, 3, 4, 5, 6]\n",
      "MergeSorted([4, 5, 6], [1, 2, 3]) returns [1, 2, 3, 4, 5, 6]\n",
      "MergeSorted([0, 4, 9], [1, 2, 3, 5, 8]) returns [0, 1, 2, 3, 4, 5, 8, 9]\n"
     ]
    }
   ],
   "source": [
    "def MergeSorted(x, y):\n",
    "    \n",
    "    output = []\n",
    "    i = 0\n",
    "    j = 0\n",
    "    \n",
    "    while i < len(x) and j < len(y):\n",
    "        if x[i] < y[j]:\n",
    "            output.append(x[i])\n",
    "            i += 1\n",
    "        elif x[i] > y[j]:\n",
    "            output.append(y[j])\n",
    "            j += 1\n",
    "        else:\n",
    "            output.append([x[i], y[j]])\n",
    "            i += 1\n",
    "            j += 1\n",
    "    \n",
    "    return output + x[i:] + y[j:]\n",
    "\n",
    "print('MergeSorted([1, 3, 5], [2, 4, 6]) returns', MergeSorted([1, 3, 5], [2, 4, 6]))\n",
    "print('MergeSorted([1, 2, 3], [4, 5, 6]) returns', MergeSorted([1, 2, 3], [4, 5, 6]))\n",
    "print('MergeSorted([4, 5, 6], [1, 2, 3]) returns', MergeSorted([4, 5, 6], [1, 2, 3]))\n",
    "print('MergeSorted([0, 4, 9], [1, 2, 3, 5, 8]) returns', MergeSorted([0, 4, 9], [1, 2, 3, 5, 8]))"
   ]
  },
  {
   "cell_type": "markdown",
   "metadata": {},
   "source": [
    "### Qustion: Sort a List\n",
    "\n",
    "Build a function SortLst which sorts a list. At this time you can just use the built-in function in Python. If the length of list is less than 1, then directly return input.\n",
    "\n",
    "Examples\n",
    "```\n",
    "SortLst([4, 2, 1, 3, 4, 5]) returns [1, 2, 3, 4, 4, 5]\n",
    "SortLst([1, 3, 5]) returns [1, 3, 5]\n",
    "SortLst([0]) returns [0]\n",
    "```"
   ]
  },
  {
   "cell_type": "code",
   "execution_count": 15,
   "metadata": {},
   "outputs": [
    {
     "name": "stdout",
     "output_type": "stream",
     "text": [
      "SortLst([4, 2, 1, 3, 4, 5]) returns [1, 2, 3, 4, 4, 5]\n",
      "SortLst([1, 3, 5]) returns [1, 3, 5]\n",
      "SortLst([0]) returns [0]\n"
     ]
    }
   ],
   "source": [
    "def SortLst(x):\n",
    "    \n",
    "    # build-in python\n",
    "    # sorted(x)\n",
    "    \n",
    "    # quick sort\n",
    "    if len(x) <= 1:\n",
    "        return x\n",
    "    else:\n",
    "        pivot = x[len(x) // 2]\n",
    "        left = [i for i in x if i < pivot]\n",
    "        middle = [i for i in x if i == pivot]\n",
    "        right = [i for i in x if i > pivot]\n",
    "        \n",
    "        return SortLst(left) + middle + SortLst(right)\n",
    "    \n",
    "print('SortLst([4, 2, 1, 3, 4, 5]) returns', SortLst([4, 2, 1, 3, 4, 5]))\n",
    "print('SortLst([1, 3, 5]) returns', SortLst([1, 3, 5]))\n",
    "print('SortLst([0]) returns', SortLst([0]))"
   ]
  },
  {
   "cell_type": "markdown",
   "metadata": {},
   "source": [
    "### Question: Insert & Sort\n",
    "\n",
    "Build a function `NumInsert` which inserts a number in a sorted list\n",
    "\n",
    "Example:\n",
    "```\n",
    "NumInsert([1,2,3,4,5,6],3) return [1,2,3,3,4,5,6]\n",
    "\n",
    "NumInsert([1,2,3,4,5,6],7) return [1,2,3,4,5,6,7]\n",
    "\n",
    "NumInsert([1,2,3,4,5,6],-1) return [-1,1,2,3,4,5,6]\n",
    "```"
   ]
  },
  {
   "cell_type": "code",
   "execution_count": 16,
   "metadata": {},
   "outputs": [
    {
     "name": "stdout",
     "output_type": "stream",
     "text": [
      "NumInsert([1,2,3,4,5,6],3) return [1, 2, 3, 3, 4, 5, 6]\n",
      "NumInsert([1,2,3,4,5,6],7) return [1, 2, 3, 4, 5, 6, 7]\n",
      "NumInsert([1,2,3,4,5,6],-1) return [-1, 1, 2, 3, 4, 5, 6]\n",
      "NumInsert([],0) return [0]\n"
     ]
    }
   ],
   "source": [
    "# non-functional\n",
    "def NumInsert(arr, x):\n",
    "    \n",
    "    # build-in function\n",
    "    # nums.append(x)\n",
    "    # nums.sort()\n",
    "    \n",
    "    # check empty inputs\n",
    "    if len(arr) < 1:\n",
    "        arr.append(x)\n",
    "        return arr       \n",
    "    else:\n",
    "        \n",
    "        # initial boundary params\n",
    "        left = 0\n",
    "        right = len(arr) - 1\n",
    "\n",
    "        # check insert number is the smallest\n",
    "        if x < arr[left]:\n",
    "            return [x] + arr\n",
    "        \n",
    "        # check insert number is the largest\n",
    "        elif x > arr[right]:\n",
    "            return arr + [x]\n",
    "        \n",
    "        # Binary Insertion Sort\n",
    "        else:\n",
    "            while left <= right:\n",
    "\n",
    "                # find middle postion\n",
    "                mid = (right + left) // 2\n",
    "               \n",
    "                # check element is smaller than mid, then mid-1 replace right\n",
    "                if x < arr[mid]:\n",
    "                    right = mid - 1\n",
    "                \n",
    "                # check element is larger than mid, then mid-1 replace left\n",
    "                elif x > arr[mid]:\n",
    "                    left = mid + 1\n",
    "\n",
    "                # insert element at middle position\n",
    "                else:\n",
    "                    arr.insert(mid, x)\n",
    "                    return arr\n",
    "\n",
    "print('NumInsert([1,2,3,4,5,6],3) return', NumInsert([1,2,3,4,5,6],3))\n",
    "print('NumInsert([1,2,3,4,5,6],7) return', NumInsert([1,2,3,4,5,6],7))\n",
    "print('NumInsert([1,2,3,4,5,6],-1) return', NumInsert([1,2,3,4,5,6],-1))\n",
    "print('NumInsert([],0) return', NumInsert([],0))"
   ]
  },
  {
   "cell_type": "markdown",
   "metadata": {},
   "source": [
    "### Question: Fibonacci List\n",
    "\n",
    "The Fibonacci List is the list of numbers: 0, 1, 1, 2, 3, 5, 8, 13, 21, 34, … The next number is generated by adding up the two numbers before it. Build a function `FibLst` which takes an integer n as input and returns an n-element Fibonacci List. If n is less than 1, returns -1.\n",
    "\n",
    "Examples\n",
    "```\n",
    "FibLst(1) returns [0]\n",
    "FibLst(3) returns [0, 1, 1]\n",
    "FibLst(6) returns [0, 1, 1, 2, 3, 5]\n",
    "FibLst(-3) returns -1\n",
    "```"
   ]
  },
  {
   "cell_type": "code",
   "execution_count": 11,
   "metadata": {},
   "outputs": [
    {
     "name": "stdout",
     "output_type": "stream",
     "text": [
      "FibLst(1) returns [0]\n",
      "FibLst(3) returns [0, 1, 1]\n",
      "FibLst(6) returns [0, 1, 1, 2, 3, 5]\n",
      "FibLst(-3) returns -1\n"
     ]
    }
   ],
   "source": [
    "def FibLst(n):\n",
    "\n",
    "    if x <= 0: return -1\n",
    "    elif x == 1: return [0]\n",
    "    elif x == 2: return [0, 1]\n",
    "    else:\n",
    "        output = [0, 1]\n",
    "        i = 2\n",
    "        \n",
    "        while i < x:\n",
    "            i += 1\n",
    "            output.append(output[-1]+output[-2])\n",
    "        \n",
    "        return output\n",
    "\n",
    "print('FibLst(1) returns', FibLst(1))\n",
    "print('FibLst(3) returns', FibLst(3))\n",
    "print('FibLst(6) returns', FibLst(6))\n",
    "print('FibLst(-3) returns', FibLst(-3))"
   ]
  },
  {
   "cell_type": "markdown",
   "metadata": {},
   "source": [
    "### Question: Fibonacci /Number\n",
    "\n",
    "Similiar question, `fibonacci` function returns n-th fibonacci number for space optimisataion.\n",
    "\n",
    "Examples\n",
    "```\n",
    "fibonacci(1) returns 0\n",
    "fibonacci(3) returns 1\n",
    "fibonacci(6) returns 5\n",
    "fibonacci(-3) returns -1\n",
    "```"
   ]
  },
  {
   "cell_type": "code",
   "execution_count": 7,
   "metadata": {},
   "outputs": [
    {
     "name": "stdout",
     "output_type": "stream",
     "text": [
      "fibonacci(1) returns 0\n",
      "fibonacci(3) returns 1\n",
      "fibonacci(6) returns 5\n",
      "fibonacci(-3) returns -1\n"
     ]
    }
   ],
   "source": [
    "def fibonacci(n): \n",
    "    a = 0\n",
    "    b = 1\n",
    "    if n < 1:\n",
    "        return -1\n",
    "    elif n == 1: \n",
    "        return a\n",
    "    elif n == 2: \n",
    "        return b\n",
    "    else:\n",
    "        for i in range(2,n): \n",
    "            c = a + b \n",
    "            a = b \n",
    "            b = c \n",
    "        return b\n",
    "\n",
    "print('fibonacci(1) returns', fibonacci(1))\n",
    "print('fibonacci(3) returns', fibonacci(3))\n",
    "print('fibonacci(6) returns', fibonacci(6))\n",
    "print('fibonacci(-3) returns', fibonacci(-3))"
   ]
  },
  {
   "cell_type": "markdown",
   "metadata": {},
   "source": [
    "### Question: Sort List of Lists\n",
    "\n",
    "Build a function `SortLL` which sorts a list of lists by their last elements.\n",
    "\n",
    "Examples\n",
    "```\n",
    "SortLL([[1, 3, 5], [2, 4], [9, 7], [3]]) returns [[3], [2, 4], [1, 3, 5], [9, 7]]\n",
    "```"
   ]
  },
  {
   "cell_type": "code",
   "execution_count": 50,
   "metadata": {},
   "outputs": [
    {
     "name": "stdout",
     "output_type": "stream",
     "text": [
      "SortLL([[1, 3, 5], [2, 4], [9, 7], [3]]) returns [[3], [2, 4], [1, 3, 5], [9, 7]]\n"
     ]
    }
   ],
   "source": [
    "def SortLL(x):\n",
    "    \n",
    "    return sorted(x, key = lambda x: x[-1])\n",
    "\n",
    "print('SortLL([[1, 3, 5], [2, 4], [9, 7], [3]]) returns', SortLL([[1, 3, 5], [2, 4], [9, 7], [3]]))"
   ]
  },
  {
   "cell_type": "markdown",
   "metadata": {},
   "source": [
    "### Question: Pascal's Triangle\n",
    "\n",
    "Build a function `PascalT` which takes an integer n as an input and generate a n layer Pascal's Triangle.\n",
    "\n",
    "Examples\n",
    "```\n",
    "PascalT(3) returns [[1], [1, 1], [1, 2, 1]]\n",
    "PascalT(5) returns [[1], [1, 1], [1, 2, 1], [1, 3, 3, 1], [1, 4, 6, 4, 1]]\n",
    "```"
   ]
  },
  {
   "cell_type": "code",
   "execution_count": 44,
   "metadata": {},
   "outputs": [
    {
     "data": {
      "text/plain": [
       "[[1],\n",
       " [1, 1],\n",
       " [1, 2, 1],\n",
       " [1, 3, 3, 1],\n",
       " [1, 4, 6, 4, 1],\n",
       " [1, 5, 10, 10, 5, 1],\n",
       " [1, 6, 15, 20, 15, 6, 1]]"
      ]
     },
     "execution_count": 44,
     "metadata": {},
     "output_type": "execute_result"
    }
   ],
   "source": [
    "# A simple O(n^3)\n",
    " \n",
    "# Binomial Coefficient n!/k!(n-k)!\n",
    "def binomialCoeff(n, k):\n",
    "    res = 1\n",
    "    \n",
    "    if k > n - k:\n",
    "        k = n - k\n",
    "        \n",
    "    for i in range(0, k):\n",
    "        \n",
    "        # n!/(n-k)!\n",
    "        res = res * (n - i)\n",
    "        \n",
    "        # rest / k!\n",
    "        res = res // (i + 1)\n",
    "     \n",
    "    return res\n",
    "    \n",
    "    \n",
    "def pascal(n):\n",
    "     \n",
    "    output = []\n",
    "    \n",
    "    # Iterate through every line\n",
    "    for line in range(0, n):\n",
    "        \n",
    "        unit = []\n",
    "        \n",
    "        # Iterate through every entry\n",
    "        for i in range(0, line + 1):\n",
    "            \n",
    "            unit.append(binomialCoeff(line, i))\n",
    "        output.append(unit)\n",
    "    \n",
    "    return output\n",
    "\n",
    "\n",
    "pascal(7)"
   ]
  },
  {
   "cell_type": "code",
   "execution_count": 46,
   "metadata": {},
   "outputs": [
    {
     "name": "stdout",
     "output_type": "stream",
     "text": [
      "PascalT(3) returns [[1], [1, 1], [1, 2, 1]]\n",
      "PascalT(5) returns [[1], [1, 1], [1, 2, 1], [1, 3, 3, 1], [1, 4, 6, 4, 1]]\n"
     ]
    }
   ],
   "source": [
    "# O(n^2) time and O(1) extra space \n",
    "\n",
    "def pascal(n):\n",
    "    \n",
    "    # C(line, i)   = line! / ( (line-i)! * i! ) \n",
    "    # C(line, i-1) = line! / ( (line - i + 1)! * (i-1)! )\n",
    "    \n",
    "    # We can derive following expression from above two expressions.\n",
    "    # c(line, i) = c(line, i-1) * (line - i + 1)! * (i-1)! / (line - i)! * i!\n",
    "    # C(line, i) = C(line, i-1) * (line - i + 1) / i\n",
    "    \n",
    "    output = []\n",
    "    \n",
    "    for line in range(1, n + 1):\n",
    "        \n",
    "        unit = []\n",
    "        c = 1\n",
    "        \n",
    "        for i in range(1, line + 1):\n",
    "            \n",
    "            unit.append(c)\n",
    "            c = int(c * (line - i) / i) # i start from 1\n",
    "            \n",
    "        output.append(unit)\n",
    "        \n",
    "    return output\n",
    "\n",
    "print('PascalT(3) returns', PascalT(3))\n",
    "print('PascalT(5) returns', PascalT(5))"
   ]
  },
  {
   "cell_type": "code",
   "execution_count": 7,
   "metadata": {},
   "outputs": [
    {
     "data": {
      "text/plain": [
       "[[1], [1, 1], [1, 2, 1], [1, 3, 3, 1], [1, 4, 6, 4, 1]]"
      ]
     },
     "execution_count": 7,
     "metadata": {},
     "output_type": "execute_result"
    }
   ],
   "source": [
    "# O(n^2) time and O(n^2) extra space\n",
    "\n",
    "def pascal(n):\n",
    "    \n",
    "    if n == 0: return []\n",
    "    elif n == 1: return [1,1]\n",
    "    else:\n",
    "        output = [[1]]\n",
    "        \n",
    "        for line in range(1,n):\n",
    "            \n",
    "            row = [1]\n",
    "            \n",
    "            for j in range(1,line):\n",
    "                \n",
    "                row.append(output[line-1][j-1] + output[line-1][j])\n",
    "            \n",
    "            row.append(1)\n",
    "            output.append(row)\n",
    "        \n",
    "        return output\n",
    "    \n",
    "pascal(5)"
   ]
  },
  {
   "cell_type": "markdown",
   "metadata": {},
   "source": [
    "### Question: Remove Punctuations\n",
    "\n",
    "Build a function `RmPunct` to remove punctuations from a string.\n",
    "\n",
    "Examples\n",
    "```\n",
    "RmPunct(\"He said, 'that is great!!'\") returns \"He said that is great\"\n",
    "```"
   ]
  },
  {
   "cell_type": "code",
   "execution_count": 82,
   "metadata": {},
   "outputs": [
    {
     "name": "stdout",
     "output_type": "stream",
     "text": [
      "RmPunct(\"He said, 'that is great!!'\") returns He said that is great\n"
     ]
    }
   ],
   "source": [
    "def RmPunct(x):\n",
    "    \n",
    "    # initializing punctuations string  \n",
    "    punc = '''!()-[]{};:'\"\\,<>./?@#$%^&*_~'''\n",
    "\n",
    "    # Removing punctuations in string\n",
    "    # use regex (re pkg)\n",
    "    # re.sub('[^\\w\\s]', '', x)\n",
    "    \n",
    "    for i in x:\n",
    "        if i in punc:\n",
    "            x = x.replace(i, '')\n",
    "            \n",
    "    return x\n",
    "\n",
    "string = \"He said, 'that is great!!'\"\n",
    "print('RmPunct(\"{}\") returns'.format(string), RmPunct(\"He said, 'that is great!!'\"))"
   ]
  },
  {
   "cell_type": "markdown",
   "metadata": {},
   "source": [
    "### Question: N Grams\n",
    "\n",
    "Build a function `NGram` which takes a string `s` and an integer `n` as inputs, returns a list of N-grams of string `s`.\n",
    "\n",
    "Examples\n",
    "```\n",
    "NGram(\"techlent\", 2) returns [\"te\", \"ec\", \"ch\", \"hl\", \"le\", \"en\", \"nt\"]\n",
    "NGram(\"abc\", 3) returns [\"abc\"]\n",
    "NGram(\"abc\", 4) returns []\n",
    "NGram(\"abc\", 1) returns [\"a\", \"b\", \"c\"]\n",
    "```"
   ]
  },
  {
   "cell_type": "code",
   "execution_count": 110,
   "metadata": {},
   "outputs": [
    {
     "name": "stdout",
     "output_type": "stream",
     "text": [
      "NGram(\"techlent\", 2) returns ['te', 'ec', 'ch', 'hl', 'le', 'en', 'nt']\n",
      "NGram(\"abc\", 3) returns ['abc']\n",
      "NGram(\"abc\", 4) returns []\n",
      "NGram(\"abc\", 1) returns ['a', 'b', 'c']\n"
     ]
    }
   ],
   "source": [
    "def NGram(x, n):\n",
    "    \n",
    "    output = []\n",
    "    for i in range(len(x)-n+1):\n",
    "        output.append(x[i:i+n])\n",
    "        \n",
    "    return output\n",
    "\n",
    "print('NGram(\"techlent\", 2) returns', NGram('techlent', 2))\n",
    "print('NGram(\"abc\", 3) returns', NGram('abc', 3))\n",
    "print('NGram(\"abc\", 4) returns', NGram('abc', 4))\n",
    "print('NGram(\"abc\", 1) returns', NGram('abc', 1))"
   ]
  },
  {
   "cell_type": "markdown",
   "metadata": {},
   "source": [
    "### Question: Letter Palindrome\n",
    "\n",
    "Build a function `LettPalind` to determine a string is a palindrome or not. We only consider letters this time.\n",
    "\n",
    "Examples\n",
    "```\n",
    "LettPalind(\"909@,.\") returns True\n",
    "LettPalind(\"He is Sieh!\") returns True\n",
    "LettPalind(\"His name is Sieh.\") returns False\n",
    "LettPalind(\"abcba\") returns return True\n",
    "LettPalind(\"abcd\") returns return False\n",
    "```"
   ]
  },
  {
   "cell_type": "code",
   "execution_count": 94,
   "metadata": {},
   "outputs": [
    {
     "name": "stdout",
     "output_type": "stream",
     "text": [
      "LettPalind(\"909@,.\") returns True\n",
      "LettPalind(\"He is Sieh!\") returns True\n",
      "LettPalind(\"His name is Sieh.\") returns False\n",
      "LettPalind(\"abcba\") returns True\n",
      "LettPalind(\"abcd\") returns False\n"
     ]
    }
   ],
   "source": [
    "def LettPalind(x):\n",
    "    \n",
    "    punc = '''!()-[]{};:'\"\\, <>./?@#$%^&*_~'''\n",
    "    x = x.lower()\n",
    "    for i in x:\n",
    "        if i in punc:\n",
    "            x = x.replace(i, '')\n",
    "\n",
    "    for i in range(len(x)//2):          \n",
    "        if x[i] != x[-i-1]:\n",
    "            return False\n",
    "\n",
    "    return True\n",
    "\n",
    "    \n",
    "print('LettPalind(\"909@,.\") returns', LettPalind(\"909@,.\"))\n",
    "print('LettPalind(\"He is Sieh!\") returns', LettPalind(\"He is Sieh!\"))\n",
    "print('LettPalind(\"His name is Sieh.\") returns', LettPalind(\"His name is Sieh.\"))\n",
    "print('LettPalind(\"abcba\") returns', LettPalind('abcba'))\n",
    "print('LettPalind(\"abcd\") returns', isPalindrome('abcd'))"
   ]
  },
  {
   "cell_type": "markdown",
   "metadata": {},
   "source": [
    "### Question: Valid Parenthesis\n",
    "\n",
    "Build a function `ValidParenthesis` to determine the parenthesis in a string are valid.\n",
    "\n",
    "Examples\n",
    "```\n",
    "ValidParenthesis('((()))()') returns True\n",
    "ValidParenthesis('()()()') returns True\n",
    "ValidParenthesis(')()()()') returns False\n",
    "ValidParenthesis('((())))') returns False\n",
    "```"
   ]
  },
  {
   "cell_type": "code",
   "execution_count": 99,
   "metadata": {},
   "outputs": [
    {
     "name": "stdout",
     "output_type": "stream",
     "text": [
      "ValidParenthesis(\"((()))()\") returns True\n",
      "ValidParenthesis(\"()()()\") returns True\n",
      "ValidParenthesis(\")()()()\") returns False\n",
      "ValidParenthesis(\"((())))\") returns False\n"
     ]
    }
   ],
   "source": [
    "def ValidParenthesis(x):\n",
    "    \n",
    "    n = 0\n",
    "    for i in x:\n",
    "        if '(' in i:\n",
    "            n += 1\n",
    "        elif ')' in i:\n",
    "            n -= 1\n",
    "        else:\n",
    "            pass\n",
    "    \n",
    "    return True if n % 2 == 0 else False\n",
    "\n",
    "print('ValidParenthesis(\"((()))()\") returns', ValidParenthesis('((()))()'))\n",
    "print('ValidParenthesis(\"()()()\") returns', ValidParenthesis('()()()'))\n",
    "print('ValidParenthesis(\")()()()\") returns', ValidParenthesis(')()()()'))\n",
    "print('ValidParenthesis(\"((())))\") returns', ValidParenthesis('((())))'))"
   ]
  },
  {
   "cell_type": "markdown",
   "metadata": {},
   "source": [
    "### Question: Rank Keys by Values\n",
    "\n",
    "Build a function `RankK` which takes a dictionary as input returns a list of keys which sorted by their values.\n",
    "\n",
    "Examples\n",
    "```\n",
    "RankK({\"a\": 7, \"b\": 5, \"c\": 9}) returns [\"b\", \"a\", \"c\"]\n",
    "```"
   ]
  },
  {
   "cell_type": "code",
   "execution_count": 28,
   "metadata": {},
   "outputs": [
    {
     "name": "stdout",
     "output_type": "stream",
     "text": [
      "RankK({\"a\": 7, \"b\": 5, \"c\": 9}) returns ['b', 'a', 'c']\n"
     ]
    }
   ],
   "source": [
    "def RankK(x):\n",
    "\n",
    "    # return a sorted dictionary\n",
    "    # {k:v for k, v in sorted(x.items(), key=lambda i: i[1])}\n",
    "    \n",
    "    return [k for k, _ in sorted(x.items(), key=lambda i: i[1])]\n",
    "\n",
    "print('RankK({\"a\": 7, \"b\": 5, \"c\": 9}) returns', RankK({\"a\": 7, \"b\": 5, \"c\": 9}))"
   ]
  },
  {
   "cell_type": "markdown",
   "metadata": {},
   "source": [
    "### Question: Character Frequency\n",
    "\n",
    "Build a function `ChaFreq` to calculate the frequencies of characters in a string. Store the results in a dictionary.\n",
    "\n",
    "Examples\n",
    "```\n",
    "ChaFreq(\"techlent\") returns {'c': 1, 'e': 2, 'h': 1, 'l': 1, 'n': 1, 't': 2}\n",
    "```"
   ]
  },
  {
   "cell_type": "code",
   "execution_count": 48,
   "metadata": {},
   "outputs": [
    {
     "data": {
      "text/plain": [
       "{'t': 2, 'e': 2, 'c': 1, 'h': 1, 'l': 1, 'n': 1}"
      ]
     },
     "execution_count": 48,
     "metadata": {},
     "output_type": "execute_result"
    }
   ],
   "source": [
    "def ChaFreq(x):\n",
    "    \n",
    "    return {i: x.count(i) for i in x}\n",
    "\n",
    "ChaFreq(\"techlent\")"
   ]
  },
  {
   "cell_type": "markdown",
   "metadata": {},
   "source": [
    "### Question: Unique Only\n",
    "\n",
    "Build a function `UniqueOnly` to detect whether a string only contains unique characters.\n",
    "\n",
    "Examples\n",
    "```\n",
    "UniqueOnly(\"techlent\") returns False\n",
    "UniqueOnly(\"abcde\") returns True\n",
    "```"
   ]
  },
  {
   "cell_type": "code",
   "execution_count": 56,
   "metadata": {},
   "outputs": [
    {
     "name": "stdout",
     "output_type": "stream",
     "text": [
      "UniqueOnly(\"techlent\") returns False\n",
      "UniqueOnly(\"abcde\") returns True\n"
     ]
    }
   ],
   "source": [
    "def UniqueOnly(x):\n",
    "    \n",
    "    return all([x.count(i) < 2 for i in x])\n",
    "\n",
    "print('UniqueOnly(\"techlent\") returns', UniqueOnly('techlent'))\n",
    "print('UniqueOnly(\"abcde\") returns', UniqueOnly('abcde'))"
   ]
  },
  {
   "cell_type": "markdown",
   "metadata": {},
   "source": [
    "### Question: Same Pattern\n",
    "\n",
    "Build a function `SamePattern` takes two strings as inputs and determines whether they are in the same pattern.\n",
    "\n",
    "Examples\n",
    "```\n",
    "SamePattern('egg', 'zoo') returns True\n",
    "SamePattern('abb', 'ab') returns False\n",
    "SamePattern('hello', 'agree') returns False\n",
    "SamePattern('aaa', 'abc') returns False\n",
    "SamePattern('abc', 'aaa') returns False\n",
    "```"
   ]
  },
  {
   "cell_type": "code",
   "execution_count": 61,
   "metadata": {},
   "outputs": [
    {
     "name": "stdout",
     "output_type": "stream",
     "text": [
      "SamePattern('egg', 'zoo') returns True\n",
      "SamePattern('abb', 'ab') returns False\n",
      "SamePattern('hello', 'agree') returns False\n",
      "SamePattern('aaa', 'abc') returns False\n",
      "SamePattern('abc', 'aaa') returns False\n"
     ]
    }
   ],
   "source": [
    "def SamePattern(x, y):\n",
    "    \n",
    "    pattern1 = [x.count(i) for i in x]\n",
    "    pattern2 = [y.count(i) for i in y]\n",
    "    \n",
    "    return pattern1 == pattern2\n",
    "\n",
    "print(\"SamePattern('egg', 'zoo') returns\", SamePattern('egg', 'zoo'))\n",
    "print(\"SamePattern('abb', 'ab') returns\", SamePattern('abb', 'ab'))\n",
    "print(\"SamePattern('hello', 'agree') returns\", SamePattern('hello', 'agree'))\n",
    "print(\"SamePattern('aaa', 'abc') returns\", SamePattern('aaa', 'abc'))\n",
    "print(\"SamePattern('abc', 'aaa') returns\", SamePattern('abc', 'aaa'))"
   ]
  },
  {
   "cell_type": "markdown",
   "metadata": {},
   "source": [
    "### Question: Anagrams\n",
    "\n",
    "Build a function `anagrams` to determine whether two given strings are anagrams.\n",
    "\n",
    "Examples\n",
    "```\n",
    "anagrams('abc', 'cba') returns True\n",
    "anagrams('ab', 'abc') returns False\n",
    "anagrams('abccba', 'aabbbc') returns False\n",
    "```"
   ]
  },
  {
   "cell_type": "code",
   "execution_count": 64,
   "metadata": {},
   "outputs": [
    {
     "name": "stdout",
     "output_type": "stream",
     "text": [
      "anagrams('abc', 'cba') returns True\n",
      "anagrams('ab', 'abc') returns False\n",
      "anagrams('abccba', 'aabbbc') returns False\n"
     ]
    }
   ],
   "source": [
    "def anagrams(x, y):\n",
    "    \n",
    "    return sorted(x) == sorted(y)\n",
    "\n",
    "print(\"anagrams('abc', 'cba') returns\", anagrams('abc', 'cba'))\n",
    "print(\"anagrams('ab', 'abc') returns\", anagrams('ab', 'abc'))\n",
    "print(\"anagrams('abccba', 'aabbbc') returns\", anagrams('abccba', 'aabbbc'))"
   ]
  }
 ],
 "metadata": {
  "kernelspec": {
   "display_name": "Python 3",
   "language": "python",
   "name": "python3"
  },
  "language_info": {
   "codemirror_mode": {
    "name": "ipython",
    "version": 3
   },
   "file_extension": ".py",
   "mimetype": "text/x-python",
   "name": "python",
   "nbconvert_exporter": "python",
   "pygments_lexer": "ipython3",
   "version": "3.7.3"
  }
 },
 "nbformat": 4,
 "nbformat_minor": 2
}
