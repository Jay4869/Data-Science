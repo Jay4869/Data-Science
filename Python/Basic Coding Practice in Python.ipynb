{
 "cells": [
  {
   "cell_type": "markdown",
   "metadata": {},
   "source": [
    "# Basic Algorithms in Python"
   ]
  },
  {
   "cell_type": "markdown",
   "metadata": {},
   "source": [
    "### Question: Odd Number\n",
    "\n",
    "Build a function `Odd` which takes an integer as input and returns a boolin to tell whether the integer is odd or not.\n",
    "\n",
    "Example:\n",
    "\n",
    "```\n",
    "Odd(3) returns True\n",
    "Odd(4) returns False\n",
    "```"
   ]
  },
  {
   "cell_type": "code",
   "execution_count": 11,
   "metadata": {},
   "outputs": [
    {
     "name": "stdout",
     "output_type": "stream",
     "text": [
      "3 is an odd number: True\n",
      "4 is an odd number: False\n"
     ]
    }
   ],
   "source": [
    "def odd(x):\n",
    "    \n",
    "    return False if x % 2 == 0 else True\n",
    "\n",
    "print('3 is an odd number:', odd(3))\n",
    "print('4 is an odd number:', odd(4))"
   ]
  },
  {
   "cell_type": "markdown",
   "metadata": {},
   "source": [
    "### Question: FizzBuzz\n",
    "\n",
    "Build a function `FizzBuzz` which takes a positive integer as input. If the number is divisible by 3, the function returns 'Fizz'. If the number is divisible by 5, the function returns 'Buzz'. If the number is divisible by both 3 and 5, the function returns 'FizzBuzz'. Otherwise, the function returns the number itself.\n",
    "\n",
    "Examples\n",
    "\n",
    "```\n",
    "FizzBuzz(45) returns 'FizzBuzz'\n",
    "FizzBuzz(9) returns 'Fizz'\n",
    "FizzBuzz(25) returns 'Buzz'\n",
    "FizzBuzz(17) returns 17\n",
    "```"
   ]
  },
  {
   "cell_type": "code",
   "execution_count": 13,
   "metadata": {},
   "outputs": [
    {
     "name": "stdout",
     "output_type": "stream",
     "text": [
      "45 returns FizzBuzz\n",
      "9 returns Fizz\n",
      "25 returns Buzz\n",
      "17 returns 17\n"
     ]
    }
   ],
   "source": [
    "def FizzBuzz(x):\n",
    "    \n",
    "    if x % 15 == 0:\n",
    "        return 'FizzBuzz'\n",
    "    elif x % 3 == 0:\n",
    "        return 'Fizz'\n",
    "    elif x % 5 == 0:\n",
    "        return 'Buzz'\n",
    "    else:\n",
    "        return x\n",
    "\n",
    "print('{} returns {}'.format(45, FizzBuzz(45)))\n",
    "print('{} returns {}'.format(9, FizzBuzz(9)))\n",
    "print('{} returns {}'.format(25, FizzBuzz(25)))\n",
    "print('{} returns {}'.format(17, FizzBuzz(17)))"
   ]
  },
  {
   "cell_type": "markdown",
   "metadata": {},
   "source": [
    "### Question: Square Root\n",
    "\n",
    "Build a function `sqrt` to calculate the square root of a positive integer number. If the result is not a integer, the function returns the nearest integer to the left of the result number.\n",
    "\n",
    "Examples\n",
    "\n",
    "```\n",
    "sqrt(16) returns 4\n",
    "sqrt(17) returns 4\n",
    "sqrt(77) returns 8\n",
    "sqrt(1) returns 1\n",
    "```"
   ]
  },
  {
   "cell_type": "code",
   "execution_count": 6,
   "metadata": {},
   "outputs": [
    {
     "name": "stdout",
     "output_type": "stream",
     "text": [
      "sqrt(16) returns: 4\n",
      "sqrt(17) returns: 4\n",
      "sqrt(77) returns: 8\n",
      "sqrt(1) returns: 1\n"
     ]
    }
   ],
   "source": [
    "def sqrt(x):\n",
    "    \n",
    "    return int(x**(1/2))\n",
    "\n",
    "print('sqrt(16) returns:', sqrt(16))\n",
    "print('sqrt(17) returns:', sqrt(17))\n",
    "print('sqrt(77) returns:', sqrt(77))\n",
    "print('sqrt(1) returns:', sqrt(1))"
   ]
  },
  {
   "cell_type": "markdown",
   "metadata": {},
   "source": [
    "### Question: List Comprehension\n",
    "\n",
    "Build a function `LstComp` which takes two integers (i and j) as inputs and returns a list of numbers from i to j.\n",
    "\n",
    "Examples\n",
    "```\n",
    "LstComp(1, 5) returns [1, 2, 3, 4, 5]\n",
    "```"
   ]
  },
  {
   "cell_type": "code",
   "execution_count": 2,
   "metadata": {},
   "outputs": [
    {
     "data": {
      "text/plain": [
       "[1, 2, 3, 4, 5]"
      ]
     },
     "execution_count": 2,
     "metadata": {},
     "output_type": "execute_result"
    }
   ],
   "source": [
    "def LstComp(i, j):\n",
    "    return list(range(i, j+1))\n",
    "\n",
    "LstComp(1, 5)"
   ]
  },
  {
   "cell_type": "markdown",
   "metadata": {},
   "source": [
    "### Question: List to Dictionary\n",
    "\n",
    "Build a function `LstDict` to convert the given list to dictionary such that all the odd elements have the key, and even number elements have the value.\n",
    "\n",
    "Examples\n",
    "```\n",
    "LstDict(['a', 1, 'b', 2, 'c', 3]) returns {'a': 1, 'b': 2, 'c': 3}\n",
    "LstDict(['Delhi', 71, 'Mumbai', 42]) returns {'Delhi': 71, 'Mumbai': 42}\n",
    "```"
   ]
  },
  {
   "cell_type": "code",
   "execution_count": 24,
   "metadata": {},
   "outputs": [
    {
     "name": "stdout",
     "output_type": "stream",
     "text": [
      "LstDict(['a', 1, 'b', 2, 'c', 3]) returns {'a': 1, 'b': 2, 'c': 3}\n",
      "LstDict(['Delhi', 71, 'Mumbai', 42]) returns {'Delhi': 71, 'Mumbai': 42}\n"
     ]
    }
   ],
   "source": [
    "def LstDict(x):\n",
    "    \n",
    "    # create an iterator to load items\n",
    "    it = iter(x)\n",
    "    \n",
    "    # zip method to conduct keys and items\n",
    "    output = dict(zip(it, it))\n",
    "    \n",
    "    return output\n",
    "\n",
    "print(\"LstDict(['a', 1, 'b', 2, 'c', 3]) returns\", LstDict(['a', 1, 'b', 2, 'c', 3]))\n",
    "print(\"LstDict(['Delhi', 71, 'Mumbai', 42]) returns\", LstDict(['Delhi', 71, 'Mumbai', 42]))"
   ]
  },
  {
   "cell_type": "markdown",
   "metadata": {},
   "source": [
    "### Question: OddNums\n",
    "\n",
    "Build a function `OddNums` which takes two integers (i and j) as inputs and returns a list of ODD numbers between i and j inclusively.\n",
    "\n",
    "Examples\n",
    "```\n",
    "OddNums(1, 5) returns [1, 3, 5]\n",
    "OddNums(2, 6) returns [3, 5]\n",
    "OddNums(1, 2) returns [1]\n",
    "```"
   ]
  },
  {
   "cell_type": "code",
   "execution_count": 7,
   "metadata": {},
   "outputs": [
    {
     "name": "stdout",
     "output_type": "stream",
     "text": [
      "OddNums(1, 5) returns [1, 3, 5]\n",
      "OddNums(2, 6) returns [3, 5]\n",
      "OddNums(1, 2) returns [1]\n"
     ]
    }
   ],
   "source": [
    "def OddNums(i, j):\n",
    "    return [x for x in range(i, j+1) if x % 2 != 0]\n",
    "\n",
    "print('OddNums(1, 5) returns', OddNums(1,5))\n",
    "print('OddNums(2, 6) returns', OddNums(2,6))\n",
    "print('OddNums(1, 2) returns', OddNums(1,2))"
   ]
  },
  {
   "cell_type": "markdown",
   "metadata": {},
   "source": [
    "### Question: C2F\n",
    "\n",
    "Build a function `C2F` which converts a list of temperatures in degrees from Celsius to Fahrenheit. \n",
    "$$F=C*1.8+32$$\n",
    "\n",
    "Examples\n",
    "```\n",
    "C2F([0, 38]) returns [32.0, 100.4]\n",
    "```"
   ]
  },
  {
   "cell_type": "code",
   "execution_count": 11,
   "metadata": {},
   "outputs": [
    {
     "name": "stdout",
     "output_type": "stream",
     "text": [
      "C2F([0, 38]) returns [32.0, 100.4]\n"
     ]
    }
   ],
   "source": [
    "def C2F(x):\n",
    "    if isinstance(x, list):\n",
    "        return [i * 1.8 + 32 for i in x]\n",
    "    else:\n",
    "        return 'the input only takes a list'\n",
    "    \n",
    "print('C2F([0, 38]) returns', C2F([0, 38]))"
   ]
  },
  {
   "cell_type": "markdown",
   "metadata": {},
   "source": [
    "### Question: Fibonacci List/Number\n",
    "\n",
    "The Fibonacci List is the list of numbers: 0, 1, 1, 2, 3, 5, 8, 13, 21, 34, … The next number is generated by adding up the two numbers before it. Build a function `FibLst` which takes an integer n as input and returns an n-element Fibonacci List. If n is less than 1, returns -1.\n",
    "\n",
    "Similiar question, `fibonacci` function returns n-th fibonacci number for space optimisataion.\n",
    "\n",
    "Examples\n",
    "```\n",
    "FibLst(1) returns [0]\n",
    "FibLst(3) returns [0, 1, 1]\n",
    "FibLst(6) returns [0, 1, 1, 2, 3, 5]\n",
    "FibLst(-3) returns -1\n",
    "```"
   ]
  },
  {
   "cell_type": "code",
   "execution_count": 11,
   "metadata": {},
   "outputs": [
    {
     "name": "stdout",
     "output_type": "stream",
     "text": [
      "FibLst(1) returns [0]\n",
      "FibLst(3) returns [0, 1, 1]\n",
      "FibLst(6) returns [0, 1, 1, 2, 3, 5]\n",
      "FibLst(-3) returns -1\n"
     ]
    }
   ],
   "source": [
    "def FibLst(n):\n",
    "    table = []\n",
    "    \n",
    "    if n == 1:\n",
    "        table = [0]\n",
    "    elif n == 2:\n",
    "        table = [0, 1]\n",
    "    elif n > 2:\n",
    "        table.append(0)\n",
    "        table.append(1)\n",
    "        for i in range(2, n):\n",
    "            table.append(table[i-1] + table[i-2])\n",
    "    else:\n",
    "        table = -1\n",
    "    return(table)\n",
    "\n",
    "print('FibLst(1) returns', FibLst(1))\n",
    "print('FibLst(3) returns', FibLst(3))\n",
    "print('FibLst(6) returns', FibLst(6))\n",
    "print('FibLst(-3) returns', FibLst(-3))"
   ]
  },
  {
   "cell_type": "code",
   "execution_count": 12,
   "metadata": {},
   "outputs": [
    {
     "name": "stdout",
     "output_type": "stream",
     "text": [
      "fibonacci(1) returns 0\n",
      "fibonacci(3) returns 1\n",
      "fibonacci(6) returns 5\n",
      "fibonacci(-3) returns -1\n"
     ]
    }
   ],
   "source": [
    "# Function for nth fibonacci number - Space Optimisataion \n",
    "# Taking 1st two fibonacci numbers as 0 and 1 \n",
    "  \n",
    "def fibonacci(n): \n",
    "    a = 0\n",
    "    b = 1\n",
    "    if n < 1:\n",
    "        return -1\n",
    "    elif n == 1: \n",
    "        return a\n",
    "    elif n == 2: \n",
    "        return b\n",
    "    else:\n",
    "        for i in range(2,n): \n",
    "            c = a + b \n",
    "            a = b \n",
    "            b = c \n",
    "        return b\n",
    "\n",
    "print('fibonacci(1) returns', fibonacci(1))\n",
    "print('fibonacci(3) returns', fibonacci(3))\n",
    "print('fibonacci(6) returns', fibonacci(6))\n",
    "print('fibonacci(-3) returns', fibonacci(-3))"
   ]
  },
  {
   "cell_type": "markdown",
   "metadata": {},
   "source": [
    "### Question: Reverse List\n",
    "\n",
    "Build a function `RevLst` which reverses a list.\n",
    "\n",
    "Examples\n",
    "```\n",
    "RevLst([3, 1, 9, 8, 4]) returns [4, 8, 9, 1, 3]\n",
    "```"
   ]
  },
  {
   "cell_type": "code",
   "execution_count": 42,
   "metadata": {},
   "outputs": [
    {
     "name": "stdout",
     "output_type": "stream",
     "text": [
      "RevLst([3, 1, 9, 8, 4]) returns [4, 8, 9, 1, 3]\n"
     ]
    }
   ],
   "source": [
    "def RevLst(x):\n",
    "    \n",
    "    # x.reverse()\n",
    "    # [x[i] for i in range(len(x)-1, -1, -1)]\n",
    "    return x[::-1]\n",
    "\n",
    "print('RevLst([3, 1, 9, 8, 4]) returns', RevLst([3, 1, 9, 8, 4]))"
   ]
  },
  {
   "cell_type": "markdown",
   "metadata": {},
   "source": [
    "### Question: Lookup Elements\n",
    "\n",
    "Build a function `Lookup` to tell whether any target elements exist in a list\n",
    "\n",
    "Examples\n",
    "```\n",
    "Lookup([1, 2, 3, 4, 5], [1, 2, 3]) returns True\n",
    "Lookup([1, 2, 3, 4, 5], [3, 6]) returns True\n",
    "Lookup([1, 2, 3, 4, 5], [0, 6]) returns False\n",
    "```"
   ]
  },
  {
   "cell_type": "code",
   "execution_count": 64,
   "metadata": {},
   "outputs": [
    {
     "name": "stdout",
     "output_type": "stream",
     "text": [
      "Lookup([1, 2, 3, 4, 5], [1, 2, 3]) returns True\n",
      "Lookup([1, 2, 3, 4, 5], [3, 6]) returns True\n",
      "Lookup([1, 2, 3, 4, 5], [0, 6]) returns False\n"
     ]
    }
   ],
   "source": [
    "def Lookup(x, y):\n",
    "    return any(i in y for i in x)\n",
    "\n",
    "print('Lookup([1, 2, 3, 4, 5], [1, 2, 3]) returns', Lookup([1,2,3,4,5], [1, 2, 3]))\n",
    "print('Lookup([1, 2, 3, 4, 5], [3, 6]) returns', Lookup([1,2,3,4,5], [3, 6]))\n",
    "print('Lookup([1, 2, 3, 4, 5], [0, 6]) returns', Lookup([1,2,3,4,5], [0, 6]))"
   ]
  },
  {
   "cell_type": "markdown",
   "metadata": {},
   "source": [
    "### Question: Remove Elements\n",
    "\n",
    "Build a function `RmEl` to remove a target element of list from a list. If the target element appears in the list for multiple times, only remove the first one.\n",
    "\n",
    "Examples\n",
    "```\n",
    "RmEl([1, 2, 3, 4, 5], [2]) returns [1, 3, 4, 5]\n",
    "RmEl([1, 2, 3, 3, 4, 5], [1, 3]) returns [2, 3, 4, 5]\n",
    "RmEl([1, 2, 3, 3, 4, 5], [3, 5, 6]) returns [1, 2, 3, 4]\n",
    "```"
   ]
  },
  {
   "cell_type": "code",
   "execution_count": 95,
   "metadata": {},
   "outputs": [
    {
     "name": "stdout",
     "output_type": "stream",
     "text": [
      "RmEl([1, 2, 3, 4, 5], [2]) returns [1, 3, 4, 5]\n",
      "RmEl([1, 2, 3, 3, 4, 5], [1, 3]) returns [2, 3, 4, 5]\n",
      "RmEl([1, 2, 3, 3, 4, 5], [3, 5, 6]) returns [1, 2, 3, 4]\n"
     ]
    }
   ],
   "source": [
    "def RmEl(x, y):\n",
    "    \n",
    "    for i in y:\n",
    "        if i in x:\n",
    "            x.remove(i)\n",
    "    return x\n",
    "\n",
    "print('RmEl([1, 2, 3, 4, 5], [2]) returns', RmEl([1, 2, 3, 4, 5], [2]))\n",
    "print('RmEl([1, 2, 3, 3, 4, 5], [1, 3]) returns', RmEl([1, 2, 3, 3, 4, 5], [1, 3]))\n",
    "print('RmEl([1, 2, 3, 3, 4, 5], [3, 5, 6]) returns', RmEl([1, 2, 3, 3, 4, 5], [3, 5, 6]))"
   ]
  },
  {
   "cell_type": "markdown",
   "metadata": {},
   "source": [
    "### Question: Separate Numbers\n",
    "\n",
    "Build a function `SepNum` which extracts the odd numbers from a given list ands append the odd numbers at the end of the list.\n",
    "\n",
    "Examples\n",
    "```\n",
    "SepNum([1, 2, 3, 4, 5, 6]) returns [2, 4, 6, 1, 3, 5]\n",
    "SepNum([1, 3, 5]) returns [1, 3, 5]\n",
    "SepNum([2, 4, 6]) returns [2, 4, 6]\n",
    "```"
   ]
  },
  {
   "cell_type": "code",
   "execution_count": 86,
   "metadata": {},
   "outputs": [
    {
     "name": "stdout",
     "output_type": "stream",
     "text": [
      "SepNum([1, 2, 3, 4, 5, 6]) returns [2, 4, 6, 1, 3, 5]\n",
      "SepNum([1, 3, 5]) returns [1, 3, 5]\n",
      "SepNum([2, 4, 6]) returns [2, 4, 6]\n"
     ]
    }
   ],
   "source": [
    "def SepNum(x):    \n",
    "    return [i for i in x if i % 2 == 0] + [i for i in x if i % 2 != 0]\n",
    "    \n",
    "print('SepNum([1, 2, 3, 4, 5, 6]) returns', SepNum([1, 2, 3, 4, 5, 6]))\n",
    "print('SepNum([1, 3, 5]) returns', SepNum([1, 3, 5]))\n",
    "print('SepNum([2, 4, 6]) returns', SepNum([2, 4, 6]))"
   ]
  },
  {
   "cell_type": "markdown",
   "metadata": {},
   "source": [
    "### Question: Remove Duplicates from a List\n",
    "\n",
    "Build a function `RmDuplicate` which remove all the duplicates from a list.\n",
    "\n",
    "Examples\n",
    "```\n",
    "RmDuplicate([3, 1, 2, 3, 4, 5, 6]) returns [1, 2, 3, 4, 5, 6]\n",
    "RmDuplicate([1, 3, 5]) returns [1, 3, 5]\n",
    "```"
   ]
  },
  {
   "cell_type": "code",
   "execution_count": 51,
   "metadata": {
    "scrolled": true
   },
   "outputs": [
    {
     "name": "stdout",
     "output_type": "stream",
     "text": [
      "RmDuplicate([3, 1, 2, 3, 4, 5, 6]) returns [1, 2, 3, 4, 5, 6]\n",
      "RmDuplicate([1, 3, 5]) returns [1, 3, 5]\n"
     ]
    }
   ],
   "source": [
    "def RmDuplicate(x):\n",
    "    \n",
    "    # built-in functions\n",
    "    # list(set(x))\n",
    "    \n",
    "    unique = []\n",
    "    [unique.append(i) for i in x if i not in unique]\n",
    "    \n",
    "    return sorted(unique)\n",
    "\n",
    "print('RmDuplicate([3, 1, 2, 3, 4, 5, 6]) returns', RmDuplicate([3, 1, 2, 3, 4, 5, 6]))\n",
    "print('RmDuplicate([1, 3, 5]) returns', RmDuplicate([1, 3, 5]))"
   ]
  },
  {
   "cell_type": "markdown",
   "metadata": {},
   "source": [
    "### Sort a List\n",
    "\n",
    "Build a function SortLst which sorts a list. At this time you can just use the built-in function in Python. If the length of list is less than 1, then directly return input.\n",
    "\n",
    "Examples\n",
    "```\n",
    "SortLst([4, 2, 1, 3, 4, 5]) returns [1, 2, 3, 4, 4, 5]\n",
    "SortLst([1, 3, 5]) returns [1, 3, 5]\n",
    "SortLst([0]) returns [0]\n",
    "```"
   ]
  },
  {
   "cell_type": "code",
   "execution_count": 15,
   "metadata": {},
   "outputs": [
    {
     "name": "stdout",
     "output_type": "stream",
     "text": [
      "SortLst([4, 2, 1, 3, 4, 5]) returns [1, 2, 3, 4, 4, 5]\n",
      "SortLst([1, 3, 5]) returns [1, 3, 5]\n",
      "SortLst([0]) returns [0]\n"
     ]
    }
   ],
   "source": [
    "def SortLst(x):\n",
    "    \n",
    "    # build-in python\n",
    "    # x.sort() \n",
    "    \n",
    "    # quick sort\n",
    "    if len(x) <= 1:\n",
    "        return x\n",
    "    else:\n",
    "        pivot = x[len(x) // 2]\n",
    "        left = [i for i in x if i < pivot]\n",
    "        middle = [i for i in x if i == pivot]\n",
    "        right = [i for i in x if i > pivot]\n",
    "        \n",
    "        return SortLst(left) + middle + SortLst(right)\n",
    "    \n",
    "print('SortLst([4, 2, 1, 3, 4, 5]) returns', SortLst([4, 2, 1, 3, 4, 5]))\n",
    "print('SortLst([1, 3, 5]) returns', SortLst([1, 3, 5]))\n",
    "print('SortLst([0]) returns', SortLst([0]))"
   ]
  },
  {
   "cell_type": "markdown",
   "metadata": {},
   "source": [
    "### Question: Insert & Sort\n",
    "\n",
    "Build a function `NumInsert` which inserts a number in a sorted list\n",
    "\n",
    "Example:\n",
    "```\n",
    "NumInsert([1,2,3,4,5,6],3) return [1,2,3,3,4,5,6]\n",
    "\n",
    "NumInsert([1,2,3,4,5,6],7) return [1,2,3,4,5,6,7]\n",
    "\n",
    "NumInsert([1,2,3,4,5,6],-1) return [-1,1,2,3,4,5,6]\n",
    "```"
   ]
  },
  {
   "cell_type": "code",
   "execution_count": 1,
   "metadata": {},
   "outputs": [],
   "source": [
    "# functional\n",
    "def NumInsert(nums, x):\n",
    "    nums.append(x)\n",
    "    nums.sort()\n",
    "    \n",
    "    return nums"
   ]
  },
  {
   "cell_type": "code",
   "execution_count": 2,
   "metadata": {},
   "outputs": [],
   "source": [
    "# non-functional\n",
    "def NumInsert(nums, x):\n",
    "    # empty inputs\n",
    "    if not nums:\n",
    "        nums.append(x)\n",
    "        return nums\n",
    "    \n",
    "    # binary sort & insert\n",
    "    left = 0\n",
    "    right = len(nums) - 1\n",
    "    while left < right - 1:\n",
    "        mid = left + (right - left) // 2\n",
    "        if nums[mid] == x:\n",
    "            nums.insert(mid, x)\n",
    "            return nums\n",
    "        elif nums[mid] < x:\n",
    "            left = mid\n",
    "        else:\n",
    "            right = mid\n",
    "    \n",
    "    # board cases\n",
    "    if nums[right] < x:\n",
    "        nums.insert(right + 1, x)\n",
    "    elif nums[left] > x:\n",
    "        nums.insert(left, x)\n",
    "    else:\n",
    "        nums.insert(right, x)\n",
    "        \n",
    "    return nums"
   ]
  },
  {
   "cell_type": "code",
   "execution_count": 3,
   "metadata": {},
   "outputs": [
    {
     "name": "stdout",
     "output_type": "stream",
     "text": [
      "NumInsert([1,2,3,4,5,6],3) return [1, 2, 3, 3, 4, 5, 6]\n",
      "NumInsert([1,2,3,4,5,6],7) return [1, 2, 3, 4, 5, 6, 7]\n",
      "NumInsert([1,2,3,4,5,6],-1) return [-1, 1, 2, 3, 4, 5, 6]\n"
     ]
    }
   ],
   "source": [
    "print('NumInsert([1,2,3,4,5,6],3) return', NumInsert([1,2,3,4,5,6],3))\n",
    "print('NumInsert([1,2,3,4,5,6],7) return', NumInsert([1,2,3,4,5,6],7))\n",
    "print('NumInsert([1,2,3,4,5,6],-1) return', NumInsert([1,2,3,4,5,6],-1))"
   ]
  },
  {
   "cell_type": "markdown",
   "metadata": {},
   "source": [
    "### Remove duplicates from a sorted list\n",
    "\n",
    "Build a function SortRm which removes duplicate numbers in a sorted list.\n",
    "\n",
    "Examples\n",
    "```\n",
    "SortRm([1, 2, 2, 3, 4, 4, 5, 6]) returns [1, 2, 3, 4, 5, 6]\n",
    "SortRm([1, 2, 3, 4, 5, 6]) returns [1, 2, 3, 4, 5, 6]\n",
    "```"
   ]
  },
  {
   "cell_type": "code",
   "execution_count": 32,
   "metadata": {},
   "outputs": [
    {
     "name": "stdout",
     "output_type": "stream",
     "text": [
      "SortRm([1, 2, 2, 3, 4, 4, 5, 6]) returns [1, 2, 3, 4, 5, 6]\n",
      "SortRm([1, 2, 3, 4, 5, 6]) returns [1, 2, 3, 4, 5, 6]\n"
     ]
    }
   ],
   "source": [
    "def SortRm(x):\n",
    "\n",
    "    # use `set` data structure \n",
    "    # list(set(x))\n",
    "    \n",
    "    # use `dictionary`\n",
    "    return list(dict.fromkeys(x))\n",
    "\n",
    "print('SortRm([1, 2, 2, 3, 4, 4, 5, 6]) returns', SortRm([1, 2, 2, 3, 4, 4, 5, 6]))\n",
    "print('SortRm([1, 2, 3, 4, 5, 6]) returns', SortRm([1, 2, 3, 4, 5, 6]))"
   ]
  },
  {
   "cell_type": "markdown",
   "metadata": {},
   "source": [
    "### Merge Two Sorted Lists\n",
    "\n",
    "Build a function `MergeSorted` which merges two sorted lists as one sorted list.\n",
    "\n",
    "Examples\n",
    "```\n",
    "MergeSorted([1, 3, 5], [2, 4, 6]) returns [1, 2, 3, 4, 5, 6]\n",
    "MergeSorted([1, 2, 3], [4, 5, 6]) returns [1, 2, 3, 4, 5, 6]\n",
    "MergeSorted([4, 5, 6], [1, 2, 3]) returns [1, 2, 3, 4, 5, 6]\n",
    "MergeSorted([0, 4, 9], [1, 2, 3, 5, 8]) returns [0, 1, 2, 3, 4, 5, 8, 9]\n",
    "```"
   ]
  },
  {
   "cell_type": "code",
   "execution_count": 14,
   "metadata": {},
   "outputs": [
    {
     "name": "stdout",
     "output_type": "stream",
     "text": [
      "MergeSorted([1, 3, 5], [2, 4, 6]) returns [1, 2, 3, 4, 5, 6]\n",
      "MergeSorted([1, 2, 3], [4, 5, 6]) returns [1, 2, 3, 4, 5, 6]\n",
      "MergeSorted([4, 5, 6], [1, 2, 3]) returns [1, 2, 3, 4, 5, 6]\n",
      "MergeSorted([0, 4, 9], [1, 2, 3, 5, 8]) returns [0, 1, 2, 3, 4, 5, 8, 9]\n"
     ]
    }
   ],
   "source": [
    "def MergeSorted(x, y):\n",
    "    \n",
    "    # list y > list x\n",
    "    if x[-1] <= y[0]:\n",
    "        return list(set(x+y))\n",
    "    # list x > list y\n",
    "    elif x[0] >= y[-1]:\n",
    "        return list(set(y+x))\n",
    "    else:\n",
    "        output = []\n",
    "        i = 0\n",
    "        j = 0\n",
    "        while i < len(x) and j < len(y):\n",
    "            if x[i] < y[j]:\n",
    "                output.append(x[i])\n",
    "                i += 1\n",
    "            else:\n",
    "                output.append(y[j])\n",
    "                j += 1\n",
    "    return output + x[i:] + y[j:] \n",
    "\n",
    "print('MergeSorted([1, 3, 5], [2, 4, 6]) returns', MergeSorted([1, 3, 5], [2, 4, 6]))\n",
    "print('MergeSorted([1, 2, 3], [4, 5, 6]) returns', MergeSorted([1, 2, 3], [4, 5, 6]))\n",
    "print('MergeSorted([4, 5, 6], [1, 2, 3]) returns', MergeSorted([4, 5, 6], [1, 2, 3]))\n",
    "print('MergeSorted([0, 4, 9], [1, 2, 3, 5, 8]) returns', MergeSorted([0, 4, 9], [1, 2, 3, 5, 8]))"
   ]
  },
  {
   "cell_type": "markdown",
   "metadata": {},
   "source": [
    "### Question: Two Sum\n",
    "\n",
    "Build a function `TwoSum` to return the indices of two integers if the sum is reaching to a given inputs. Here we will take one assumption, that is always there will be one unique solution in the array, so no two set of indices for same target will be there.\n",
    "\n",
    "Example:\n",
    "```\n",
    "TwoSum([2, 8, 12, 15], 20) return [1, 2]\n",
    "TwoSum([1, 3, 5, 7], 12) return [2, 3]\n",
    "TwoSum([1, 5, 10, 15], 20) return [1, 3]\n",
    "```"
   ]
  },
  {
   "cell_type": "code",
   "execution_count": 102,
   "metadata": {},
   "outputs": [
    {
     "name": "stdout",
     "output_type": "stream",
     "text": [
      "TwoSum([2, 8, 12, 15], 20) return [1, 2]\n",
      "TwoSum([1, 3, 5, 7], 12) return [2, 3]\n",
      "TwoSum([1, 5, 10, 15], 20) return [1, 3]\n"
     ]
    }
   ],
   "source": [
    "def TwoSum(x, n):\n",
    "    \n",
    "    for i, j in enumerate(x):\n",
    "        rest = n - j\n",
    "        if rest in x and i != x.index(rest):\n",
    "            return [i, x.index(rest)]\n",
    "\n",
    "print('TwoSum([2, 8, 12, 15], 20) return', TwoSum([2, 8, 12, 15], 20))\n",
    "print('TwoSum([1, 3, 5, 7], 12) return', TwoSum([1, 3, 5, 7], 12))\n",
    "print('TwoSum([1, 5, 10, 15], 20) return', TwoSum([1, 5, 10, 15], 20))"
   ]
  },
  {
   "cell_type": "markdown",
   "metadata": {},
   "source": [
    "### Question: List to Number\n",
    "\n",
    "Build a function `Lst2Num` which convert a number list into one number.\n",
    "\n",
    "Examples\n",
    "```\n",
    "Lst2Num([1, 3, 5]) returns 135\n",
    "Lst2Num([0, 1, 2, 0, 3]) returns 1203\n",
    "```"
   ]
  },
  {
   "cell_type": "code",
   "execution_count": 30,
   "metadata": {},
   "outputs": [
    {
     "name": "stdout",
     "output_type": "stream",
     "text": [
      "Lst2Num([1, 3, 5]) returns 135\n",
      "Lst2Num([0, 1, 2, 0, 3]) returns 1203\n"
     ]
    }
   ],
   "source": [
    "def Lst2Num(x):\n",
    "    \n",
    "    return int(''.join(map(str, x)))\n",
    "\n",
    "print('Lst2Num([1, 3, 5]) returns', Lst2Num([1, 3, 5]))\n",
    "print('Lst2Num([0, 1, 2, 0, 3]) returns', Lst2Num([0, 1, 2, 0, 3]))"
   ]
  },
  {
   "cell_type": "markdown",
   "metadata": {},
   "source": [
    "### Question: Maximum Stock Gain\n",
    "\n",
    "Build a function `MaxGain` to find the maximum you can gain by buying and selling stocks. The strock prices represented as a list of numbers. You need to buy stocks before you sell them.\n",
    "\n",
    "Examples\n",
    "```\n",
    "MaxGain([3, 4, 1, 5, 7, 2]) returns 6\n",
    "--Explanation: Buy stocks when the price is 1 and sell them when the price is 7.\n",
    "\n",
    "MaxGain([5, 4, 3, 2, 1]) returns 0\n",
    "```"
   ]
  },
  {
   "cell_type": "code",
   "execution_count": 36,
   "metadata": {},
   "outputs": [
    {
     "name": "stdout",
     "output_type": "stream",
     "text": [
      "MaxGain([3, 4, 1, 5, 7, 2]) returns 6\n",
      "MaxGain([5, 4, 3, 2, 1]) returns 0\n"
     ]
    }
   ],
   "source": [
    "def MaxGain(x):\n",
    "    \n",
    "    MIN = min(x)\n",
    "    MAX = max(x)\n",
    "    \n",
    "    if x.index(MIN) < x.index(MAX):\n",
    "        return MAX - MIN\n",
    "    else:\n",
    "        return 0\n",
    "    \n",
    "print('MaxGain([3, 4, 1, 5, 7, 2]) returns', MaxGain([3, 4, 1, 5, 7, 2]))\n",
    "print('MaxGain([5, 4, 3, 2, 1]) returns', MaxGain([5, 4, 3, 2, 1]))"
   ]
  },
  {
   "cell_type": "markdown",
   "metadata": {},
   "source": [
    "### Question: Sort List of Lists\n",
    "\n",
    "Build a function `SortLL` which sorts a list of lists by their last elements.\n",
    "\n",
    "Examples\n",
    "```\n",
    "SortLL([[1, 3, 5], [2, 4], [9, 7], [3]]) returns [[3], [2, 4], [1, 3, 5], [9, 7]]\n",
    "```"
   ]
  },
  {
   "cell_type": "code",
   "execution_count": 50,
   "metadata": {},
   "outputs": [
    {
     "name": "stdout",
     "output_type": "stream",
     "text": [
      "SortLL([[1, 3, 5], [2, 4], [9, 7], [3]]) returns [[3], [2, 4], [1, 3, 5], [9, 7]]\n"
     ]
    }
   ],
   "source": [
    "def SortLL(x):\n",
    "    \n",
    "    return sorted(x, key = lambda x: x[-1])\n",
    "\n",
    "print('SortLL([[1, 3, 5], [2, 4], [9, 7], [3]]) returns', SortLL([[1, 3, 5], [2, 4], [9, 7], [3]]))"
   ]
  },
  {
   "cell_type": "markdown",
   "metadata": {},
   "source": [
    "### Question: Pascal's Triangle\n",
    "\n",
    "Build a function `PascalT` which takes an integer n as an input and generate a n layer Pascal's Triangle.\n",
    "\n",
    "Examples\n",
    "```\n",
    "PascalT(3) returns [[1], [1, 1], [1, 2, 1]]\n",
    "PascalT(5) returns [[1], [1, 1], [1, 2, 1], [1, 3, 3, 1], [1, 4, 6, 4, 1]]\n",
    "```"
   ]
  },
  {
   "cell_type": "code",
   "execution_count": 1,
   "metadata": {},
   "outputs": [
    {
     "name": "stdout",
     "output_type": "stream",
     "text": [
      "PascalT(3) returns [[1], [1, 1], [1, 2, 1]]\n",
      "PascalT(5) returns [[1], [1, 1], [1, 2, 1], [1, 3, 3, 1], [1, 4, 6, 4, 1]]\n"
     ]
    }
   ],
   "source": [
    "def PascalT(x):\n",
    "    \n",
    "    # C(line, i)   = line! / ( (line-i)! * i! ) \n",
    "    # C(line, i-1) = line! / ( (line - i + 1)! * (i-1)! )\n",
    "    # We can derive following expression from above two expressions.\n",
    "    # C(line, i) = C(line, i-1) * (line - i) / i\n",
    "    \n",
    "    output = []\n",
    "    \n",
    "    for line in range(1, x + 1):\n",
    "        unit = []\n",
    "        C = 1\n",
    "        for i in range(1, line + 1):\n",
    "            unit.append(C)\n",
    "            C = int(C * (line - i) / i)\n",
    "        output.append(unit)\n",
    "    return output\n",
    "\n",
    "print('PascalT(3) returns', PascalT(3))\n",
    "print('PascalT(5) returns', PascalT(5))"
   ]
  },
  {
   "cell_type": "markdown",
   "metadata": {},
   "source": [
    "### Question: All Red\n",
    "\n",
    "Build a function `AllRed` that takes a list of strings as input, returns a boolean indicating whether all the strings containing word \"red\".\n",
    "\n",
    "Examples\n",
    "```\n",
    "AllRed([\"red hat\", \"a pair of red shoes\", \"three red apples\"]) returns True\n",
    "AllRed([\"red hat\", \"white shirt\", \"black eyes\"]) returns False\n",
    "AllRed([]) returns False\n",
    "```"
   ]
  },
  {
   "cell_type": "code",
   "execution_count": 19,
   "metadata": {},
   "outputs": [
    {
     "name": "stdout",
     "output_type": "stream",
     "text": [
      "AllRed([\"red hat\", \"a pair of red shoes\", \"three red apples\"]) returns True\n",
      "AllRed([\"red hat\", \"white shirt\", \"black eyes\"]) returns False\n",
      "AllRed([]) returns False\n"
     ]
    }
   ],
   "source": [
    "def AllRed(x):\n",
    "    \n",
    "    results = []\n",
    "    if len(x) == 0:\n",
    "        return False\n",
    "    else:\n",
    "        for i in x:\n",
    "            results.append('red' in i)\n",
    "        return all(results)\n",
    "    \n",
    "print('AllRed([\"red hat\", \"a pair of red shoes\", \"three red apples\"]) returns', AllRed([\"red hat\", \"a pair of red shoes\", \"three red apples\"]))\n",
    "print('AllRed([\"red hat\", \"white shirt\", \"black eyes\"]) returns', AllRed([\"red hat\", \"white shirt\", \"black eyes\"]))\n",
    "print('AllRed([]) returns', AllRed([]))"
   ]
  },
  {
   "cell_type": "markdown",
   "metadata": {},
   "source": [
    "### Question: Reverse String\n",
    "\n",
    "Build a function `RevStr` to reverse a string.\n",
    "\n",
    "Examples\n",
    "```\n",
    "RevStr(\"abcd\") returns \"dcba\"\n",
    "```"
   ]
  },
  {
   "cell_type": "code",
   "execution_count": 38,
   "metadata": {},
   "outputs": [
    {
     "name": "stdout",
     "output_type": "stream",
     "text": [
      "RevStr(\"abcd\") returns dcba\n"
     ]
    }
   ],
   "source": [
    "def RevStr(x):\n",
    "    \n",
    "    # Python build-in method\n",
    "    # ''.join(reversed(x))\n",
    "    \n",
    "    # use extended slice syntax\n",
    "    # x[::-1]\n",
    "    \n",
    "    # use pop method\n",
    "    output = ''\n",
    "    x = list(x)\n",
    "    \n",
    "    for i in range(len(x)):\n",
    "        output += x.pop()\n",
    "    \n",
    "    return output\n",
    "\n",
    "print('RevStr(\"abcd\") returns', RevStr('abcd'))"
   ]
  },
  {
   "cell_type": "markdown",
   "metadata": {},
   "source": [
    "### Question: Reverse Sentence\n",
    "\n",
    "Build a function `RevSen` to reverse a sentence.\n",
    "\n",
    "Examples\n",
    "```\n",
    "RevSen(\"we are all friends\") returns \"friends all are we\"\n",
    "```"
   ]
  },
  {
   "cell_type": "code",
   "execution_count": 79,
   "metadata": {},
   "outputs": [
    {
     "name": "stdout",
     "output_type": "stream",
     "text": [
      "RevSen(\"we are all friends\") returns friends all are we \n"
     ]
    }
   ],
   "source": [
    "def RevSen(x):\n",
    "    \n",
    "    # Python build-in method\n",
    "    # ' '.join(reversed(x))\n",
    "    \n",
    "    x = x.split(' ')\n",
    "    output = ''\n",
    "    \n",
    "    for i in range(len(x)):\n",
    "        output += x.pop() + ' '\n",
    "\n",
    "    return output\n",
    "\n",
    "print('RevSen(\"we are all friends\") returns', RevSen(\"we are all friends\"))"
   ]
  },
  {
   "cell_type": "markdown",
   "metadata": {},
   "source": [
    "### Question: Reverse Words\n",
    "\n",
    "Build a function `RevWords` to reverse each word of a sentence.\n",
    "\n",
    "Examples\n",
    "```\n",
    "RevWords(\"we are all friends\") returns \"ew era lla sdneirf\"\n",
    "```"
   ]
  },
  {
   "cell_type": "code",
   "execution_count": 71,
   "metadata": {},
   "outputs": [
    {
     "name": "stdout",
     "output_type": "stream",
     "text": [
      "RevWords(\"we are all friends\") returns ew era lla sdneirf\n"
     ]
    }
   ],
   "source": [
    "def RevWords(x):\n",
    "        \n",
    "    temp = [i[::-1] for i in x.split(' ')]\n",
    "    return ' '.join(temp)\n",
    "\n",
    "print('RevWords(\"we are all friends\") returns', RevWords(\"we are all friends\"))"
   ]
  },
  {
   "cell_type": "markdown",
   "metadata": {},
   "source": [
    "### Question: Capitalize First Letters\n",
    "\n",
    "Build a function `CapLett` to capitalize the first letter of each word in a sentence.\n",
    "\n",
    "Examples\n",
    "```\n",
    "CapLett(\"we are all friends\") returns \"We Are All Friends\"\n",
    "```"
   ]
  },
  {
   "cell_type": "code",
   "execution_count": 69,
   "metadata": {},
   "outputs": [
    {
     "name": "stdout",
     "output_type": "stream",
     "text": [
      "CapLett(\"we are all friends\") return We Are All Friends\n"
     ]
    }
   ],
   "source": [
    "def CapLett(x):\n",
    "    \n",
    "    temp = [i.capitalize() for i in x.split(' ')]\n",
    "    return ' '.join(temp)\n",
    "\n",
    "print('CapLett(\"we are all friends\") return', CapLett(\"we are all friends\"))"
   ]
  },
  {
   "cell_type": "markdown",
   "metadata": {},
   "source": [
    "### Question: Remove Punctuations\n",
    "\n",
    "Build a function `RmPunct` to remove punctuations from a string.\n",
    "\n",
    "Examples\n",
    "```\n",
    "RmPunct(\"He said, 'that is great!!'\") returns \"He said that is great\"\n",
    "```"
   ]
  },
  {
   "cell_type": "code",
   "execution_count": 96,
   "metadata": {},
   "outputs": [
    {
     "name": "stdout",
     "output_type": "stream",
     "text": [
      "RmPunct(\"He said, 'that is great!!'\") returns He said that is great\n"
     ]
    }
   ],
   "source": [
    "def RmPunct(x):\n",
    "    \n",
    "    # initializing punctuations string  \n",
    "    punc = '''!()-[]{};:'\"\\,<>./?@#$%^&*_~'''\n",
    "\n",
    "    # Removing punctuations in string\n",
    "    # use regex (re pkg)\n",
    "    # re.sub('[^\\w\\s]', '', x)\n",
    "    \n",
    "    for i in x:\n",
    "        if i in punc:\n",
    "            x = x.replace(i, '')\n",
    "            \n",
    "    return x\n",
    "\n",
    "string = \"He said, 'that is great!!'\"\n",
    "print('RmPunct(\"{}\") returns'.format(string), RmPunct(\"He said, 'that is great!!'\"))"
   ]
  },
  {
   "cell_type": "markdown",
   "metadata": {},
   "source": [
    "### Question: N Grams\n",
    "\n",
    "Build a function `NGram` which takes a string `s` and an integer `n` as inputs, returns a list of N-grams of string `s`.\n",
    "\n",
    "Examples\n",
    "```\n",
    "NGram(\"techlent\", 2) returns [\"te\", \"ec\", \"ch\", \"hl\", \"le\", \"en\", \"nt\"]\n",
    "NGram(\"abc\", 3) returns [\"abc\"]\n",
    "NGram(\"abc\", 4) returns []\n",
    "NGram(\"abc\", 1) returns [\"a\", \"b\", \"c\"]\n",
    "```"
   ]
  },
  {
   "cell_type": "code",
   "execution_count": 110,
   "metadata": {},
   "outputs": [
    {
     "name": "stdout",
     "output_type": "stream",
     "text": [
      "NGram(\"techlent\", 2) returns ['te', 'ec', 'ch', 'hl', 'le', 'en', 'nt']\n",
      "NGram(\"abc\", 3) returns ['abc']\n",
      "NGram(\"abc\", 4) returns []\n",
      "NGram(\"abc\", 1) returns ['a', 'b', 'c']\n"
     ]
    }
   ],
   "source": [
    "def NGram(x, n):\n",
    "    \n",
    "    output = []\n",
    "    for i in range(len(x)-n+1):\n",
    "        output.append(x[i:i+n])\n",
    "        \n",
    "    return output\n",
    "\n",
    "print('NGram(\"techlent\", 2) returns', NGram('techlent', 2))\n",
    "print('NGram(\"abc\", 3) returns', NGram('abc', 3))\n",
    "print('NGram(\"abc\", 4) returns', NGram('abc', 4))\n",
    "print('NGram(\"abc\", 1) returns', NGram('abc', 1))"
   ]
  },
  {
   "cell_type": "markdown",
   "metadata": {},
   "source": [
    "### Question: Palindrome\n",
    "\n",
    "Build a function `isPalindrome` which takes a string as an input and returns boolin value telling whether the string is a palindrome.\n",
    "\n",
    "Examples\n",
    "```\n",
    "isPalindrome(\"abcba\") returns True\n",
    "isPalindrome(\"abba\") returns True\n",
    "isPalindrome(\"a\") returns True\n",
    "isPalindrome(\"\") returns True\n",
    "isPalindrome(\"abcd\") returns False\n",
    "```"
   ]
  },
  {
   "cell_type": "code",
   "execution_count": 120,
   "metadata": {},
   "outputs": [
    {
     "name": "stdout",
     "output_type": "stream",
     "text": [
      "isPalindrome(\"abcba\") returns True\n",
      "isPalindrome(\"abba\") returns True\n",
      "isPalindrome(\"a\") returns True\n",
      "isPalindrome(\"\") returns True\n",
      "isPalindrome(\"abcd\") returns False\n"
     ]
    }
   ],
   "source": [
    "def isPalindrome(x):\n",
    "    \n",
    "    # compare reversed string with original\n",
    "    # x = x[::-1]\n",
    "    \n",
    "    # iterative method: compare head and tail charaters\n",
    "    for i in range(int(len(x)/2)):  \n",
    "        if x[i] != x[len(x)-1-i]: \n",
    "            return False\n",
    "    return True\n",
    "\n",
    "print('isPalindrome(\"abcba\") returns', isPalindrome('abcba'))\n",
    "print('isPalindrome(\"abba\") returns', isPalindrome('abba'))\n",
    "print('isPalindrome(\"a\") returns', isPalindrome('a'))\n",
    "print('isPalindrome(\"\") returns', isPalindrome(''))\n",
    "print('isPalindrome(\"abcd\") returns', isPalindrome('abcd'))"
   ]
  }
 ],
 "metadata": {
  "kernelspec": {
   "display_name": "Python 3",
   "language": "python",
   "name": "python3"
  },
  "language_info": {
   "codemirror_mode": {
    "name": "ipython",
    "version": 3
   },
   "file_extension": ".py",
   "mimetype": "text/x-python",
   "name": "python",
   "nbconvert_exporter": "python",
   "pygments_lexer": "ipython3",
   "version": "3.7.3"
  }
 },
 "nbformat": 4,
 "nbformat_minor": 2
}
