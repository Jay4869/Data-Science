{
 "cells": [
  {
   "cell_type": "markdown",
   "metadata": {},
   "source": [
    "# Basic Algorithms in Python"
   ]
  },
  {
   "cell_type": "markdown",
   "metadata": {},
   "source": [
    "### Question: Insert & Sort\n",
    "\n",
    "Build a function NumInsert which inserts a number in a sorted list\n",
    "\n",
    "Example:\n",
    "\n",
    "NumInsert([1,2,3,4,5,6],3) return [1,2,3,3,4,5,6]\n",
    "\n",
    "NumInsert([1,2,3,4,5,6],7) return [1,2,3,4,5,6,7]\n",
    "\n",
    "NumInsert([1,2,3,4,5,6],-1) return [-1,1,2,3,4,5,6]"
   ]
  },
  {
   "cell_type": "code",
   "execution_count": null,
   "metadata": {},
   "outputs": [],
   "source": [
    "# functional\n",
    "def NumInsert(nums, x):\n",
    "    nums.append(x)\n",
    "    nums.sort()\n",
    "    \n",
    "    return nums"
   ]
  },
  {
   "cell_type": "code",
   "execution_count": 5,
   "metadata": {},
   "outputs": [],
   "source": [
    "# non-functional\n",
    "def NumInsert(nums, x):\n",
    "    # empty inputs\n",
    "    if not nums:\n",
    "        nums.append(x)\n",
    "        return nums\n",
    "    \n",
    "    # binary sort & insert\n",
    "    left = 0\n",
    "    right = len(nums) - 1\n",
    "    while left < right - 1:\n",
    "        mid = left + (right - left) // 2\n",
    "        if nums[mid] == x:\n",
    "            nums.insert(mid, x)\n",
    "            return nums\n",
    "        elif nums[mid] < x:\n",
    "            left = mid\n",
    "        else:\n",
    "            right = mid\n",
    "    \n",
    "    # board cases\n",
    "    if nums[right] < x:\n",
    "        nums.insert(right + 1, x)\n",
    "    elif nums[left] > x:\n",
    "        nums.insert(left, x)\n",
    "    else:\n",
    "        nums.insert(right, x)\n",
    "        \n",
    "    return nums"
   ]
  },
  {
   "cell_type": "code",
   "execution_count": null,
   "metadata": {},
   "outputs": [],
   "source": [
    "def quicksort(x):\n",
    "    \n",
    "    if len(x) <= 1:\n",
    "        return x\n",
    "    else:\n",
    "        pivot = x[len(x) // 2]\n",
    "        left = [i for i in x if i < pivot]\n",
    "        middle = [i for i in x if i == pivot]\n",
    "        right = [i for i in x if i > pivot]\n",
    "        \n",
    "        return quicksort(left) + middle + quicksort(right)\n",
    "\n",
    "x = [3,6,8,10,1,2,1]\n",
    "quicksort(x)"
   ]
  },
  {
   "cell_type": "markdown",
   "metadata": {},
   "source": [
    "## Lambda functions\n",
    "\n",
    "A Lambda Function is a small, anonymous function — anonymous in the sense that it doesn’t actually have a name. We do this because the purpose of a lambda function is to perform some kind of simple expression or operation without the need for fully defining a function. A lambda function can take any number of arguments, but must always have only one expression"
   ]
  },
  {
   "cell_type": "code",
   "execution_count": 1,
   "metadata": {},
   "outputs": [
    {
     "data": {
      "text/plain": [
       "30"
      ]
     },
     "execution_count": 1,
     "metadata": {},
     "output_type": "execute_result"
    }
   ],
   "source": [
    "x = lambda a, b : a * b\n",
    "\n",
    "x(5, 6)"
   ]
  },
  {
   "cell_type": "markdown",
   "metadata": {},
   "source": [
    "## Maps\n",
    "\n",
    "Map function is a built-in Python function used to apply a function to each element of the sequence like a list, tuple or dictionary, returning a map object (iterator)."
   ]
  },
  {
   "cell_type": "code",
   "execution_count": 9,
   "metadata": {},
   "outputs": [
    {
     "name": "stdout",
     "output_type": "stream",
     "text": [
      "<map object at 0x0000021298D30160>\n"
     ]
    },
    {
     "data": {
      "text/plain": [
       "[1, 16, 49]"
      ]
     },
     "execution_count": 9,
     "metadata": {},
     "output_type": "execute_result"
    }
   ],
   "source": [
    "def square_it_func(a):\n",
    "    return a * a\n",
    "\n",
    "x = map(square_it_func, [1, 4, 7])\n",
    "print(x)\n",
    "list(x)"
   ]
  },
  {
   "cell_type": "code",
   "execution_count": 10,
   "metadata": {},
   "outputs": [
    {
     "data": {
      "text/plain": [
       "[2, 20, 56]"
      ]
     },
     "execution_count": 10,
     "metadata": {},
     "output_type": "execute_result"
    }
   ],
   "source": [
    "def multiplier_func(a, b):\n",
    "    return a * b\n",
    "\n",
    "x = map(multiplier_func, [1, 4, 7], [2, 5, 8])\n",
    "list(x)"
   ]
  },
  {
   "cell_type": "markdown",
   "metadata": {},
   "source": [
    "## Filtering\n",
    "\n",
    "The Filter built-in function is quite similar to the Map function in that it applies a function to a sequence (list, tuple, dictionary). The key difference is that filter() will only return the elements which the applied function returned as True."
   ]
  },
  {
   "cell_type": "code",
   "execution_count": 13,
   "metadata": {},
   "outputs": [
    {
     "name": "stdout",
     "output_type": "stream",
     "text": [
      "Map: [False, True, False, True, False, True, False, True, False, True, False, True, False, True, False]\n",
      "Filter: [2, 4, 6, 8, 10, 12, 14]\n"
     ]
    }
   ],
   "source": [
    "numbers = [1, 2, 3, 4, 5, 6, 7, 8, 9, 10, 11, 12, 13, 14, 15]\n",
    "\n",
    "# Function that filters out all numbers which are odd\n",
    "def filter_odd_numbers(num):\n",
    "\n",
    "    if num % 2 == 0:\n",
    "        return True\n",
    "    else:\n",
    "        return False\n",
    "\n",
    "mapped_numbers = map(filter_odd_numbers, numbers)\n",
    "print('Map:', list(mapped_numbers))\n",
    "    \n",
    "filtered_numbers = filter(filter_odd_numbers, numbers)\n",
    "print('Filter:', list(filtered_numbers))"
   ]
  },
  {
   "cell_type": "markdown",
   "metadata": {},
   "source": [
    "## Itertools\n",
    "\n",
    "The Python Itertools module is a collection of tools for handling iterators. An iterator is a data type that can be used in a for loop including lists, tuples, and dictionaries. Using the functions in the Itertools module will allow you to perform many iterator operations that would normally require multi-line functions and complicated list comprehension. "
   ]
  },
  {
   "cell_type": "code",
   "execution_count": 18,
   "metadata": {},
   "outputs": [
    {
     "name": "stdout",
     "output_type": "stream",
     "text": [
      "(1, 3, 'a')\n",
      "(2, 2, 'b')\n",
      "(3, 1, 'c')\n"
     ]
    }
   ],
   "source": [
    "from itertools import *\n",
    "\n",
    "# Easy joining of two lists into a list of tuples\n",
    "# count() function produces consecutive integers\n",
    "for i in zip(count(1), [3, 2, 1], ['a', 'b', 'c']):\n",
    "    print(i)"
   ]
  },
  {
   "cell_type": "code",
   "execution_count": 32,
   "metadata": {},
   "outputs": [
    {
     "name": "stdout",
     "output_type": "stream",
     "text": [
      "Checking:  2\n",
      "Checking:  4\n",
      "Checking:  6\n",
      "Return:  6\n",
      "Checking:  8\n",
      "Return:  8\n",
      "Checking:  10\n",
      "Return:  10\n",
      "Checking:  12\n",
      "Return:  12\n"
     ]
    }
   ],
   "source": [
    "def check_for_drop(x):\n",
    "    print('Checking: ', x)\n",
    "    return x>5\n",
    "\n",
    "for i in filter(check_for_drop, [2, 4, 6, 8, 10, 12]):\n",
    "    print('Return: ', i)"
   ]
  },
  {
   "cell_type": "code",
   "execution_count": 39,
   "metadata": {},
   "outputs": [
    {
     "name": "stdout",
     "output_type": "stream",
     "text": [
      "(1, [1, 1, 1])\n",
      "(2, [2, 2, 2])\n",
      "(3, [3, 3])\n",
      "(4, [4])\n",
      "(5, [5])\n"
     ]
    }
   ],
   "source": [
    "# groupby function is retrieving bunches of iterator elements which are the same or have similar properties\n",
    "a = sorted([1, 2, 1, 3, 2, 1, 2, 3, 4, 5])\n",
    "\n",
    "for key, value in groupby(a):\n",
    "    print((key, list(value)))"
   ]
  },
  {
   "cell_type": "markdown",
   "metadata": {},
   "source": [
    "## Generators\n",
    "\n",
    "Generator functions allow you to declare a function that behaves like an iterator, i.e. it can be used in a for loop. This greatly simplifies your code and is much more memory efficient than a simple for loop.\n",
    "\n",
    "With a for loop, that massive memory chewing list is created in memory, whereas, a generator will create elements and store them in memory only as it needs them one at a time."
   ]
  },
  {
   "cell_type": "code",
   "execution_count": 41,
   "metadata": {},
   "outputs": [
    {
     "data": {
      "text/plain": [
       "499500"
      ]
     },
     "execution_count": 41,
     "metadata": {},
     "output_type": "execute_result"
    }
   ],
   "source": [
    "def generate_numbers(n):\n",
    "    num = 0\n",
    "    \n",
    "    while num < n:\n",
    "        yield num\n",
    "        num += 1\n",
    "        \n",
    "sum(generate_numbers(1000))"
   ]
  }
 ],
 "metadata": {
  "kernelspec": {
   "display_name": "Python 3",
   "language": "python",
   "name": "python3"
  },
  "language_info": {
   "codemirror_mode": {
    "name": "ipython",
    "version": 3
   },
   "file_extension": ".py",
   "mimetype": "text/x-python",
   "name": "python",
   "nbconvert_exporter": "python",
   "pygments_lexer": "ipython3",
   "version": "3.7.3"
  }
 },
 "nbformat": 4,
 "nbformat_minor": 2
}
