{
 "cells": [
  {
   "cell_type": "code",
   "execution_count": 1,
   "metadata": {},
   "outputs": [],
   "source": [
    "import findspark\n",
    "findspark.init()\n",
    "import pyspark\n",
    "from pyspark.sql import SparkSession"
   ]
  },
  {
   "cell_type": "code",
   "execution_count": 2,
   "metadata": {},
   "outputs": [],
   "source": [
    "spark = SparkSession.builder.appName('Tutorial').getOrCreate()"
   ]
  },
  {
   "cell_type": "code",
   "execution_count": 3,
   "metadata": {},
   "outputs": [
    {
     "data": {
      "text/html": [
       "\n",
       "            <div>\n",
       "                <p><b>SparkSession - in-memory</b></p>\n",
       "                \n",
       "        <div>\n",
       "            <p><b>SparkContext</b></p>\n",
       "\n",
       "            <p><a href=\"http://Jay-G7:4040\">Spark UI</a></p>\n",
       "\n",
       "            <dl>\n",
       "              <dt>Version</dt>\n",
       "                <dd><code>v3.0.3</code></dd>\n",
       "              <dt>Master</dt>\n",
       "                <dd><code>local[*]</code></dd>\n",
       "              <dt>AppName</dt>\n",
       "                <dd><code>Tutorial</code></dd>\n",
       "            </dl>\n",
       "        </div>\n",
       "        \n",
       "            </div>\n",
       "        "
      ],
      "text/plain": [
       "<pyspark.sql.session.SparkSession at 0x1ec01c8bc40>"
      ]
     },
     "execution_count": 3,
     "metadata": {},
     "output_type": "execute_result"
    }
   ],
   "source": [
    "spark"
   ]
  },
  {
   "cell_type": "code",
   "execution_count": 5,
   "metadata": {},
   "outputs": [
    {
     "name": "stdout",
     "output_type": "stream",
     "text": [
      "+---+---------+-------+-------+\n",
      "|ACT|FinalExam|QuizAvg|TestAvg|\n",
      "+---+---------+-------+-------+\n",
      "| 33|      181|     95|     89|\n",
      "| 31|      169|     81|     89|\n",
      "| 21|      176|     65|     68|\n",
      "| 25|      181|     66|     90|\n",
      "| 29|      169|     89|     81|\n",
      "| 24|      103|     61|     57|\n",
      "| 25|      150|     81|     76|\n",
      "| 29|      147|     86|     76|\n",
      "| 36|      181|     98|    102|\n",
      "| 26|      163|     72|     70|\n",
      "| 31|      163|     95|     81|\n",
      "| 29|      147|     65|     67|\n",
      "| 23|      160|     62|     68|\n",
      "| 26|      100|     63|     56|\n",
      "+---+---------+-------+-------+\n",
      "\n"
     ]
    }
   ],
   "source": [
    "df = spark.read.csv('../../Data/Test_Scores.csv', header=True, inferSchema=True)\n",
    "df.show()"
   ]
  },
  {
   "cell_type": "code",
   "execution_count": 6,
   "metadata": {},
   "outputs": [
    {
     "data": {
      "text/plain": [
       "pyspark.sql.dataframe.DataFrame"
      ]
     },
     "execution_count": 6,
     "metadata": {},
     "output_type": "execute_result"
    }
   ],
   "source": [
    "type(df)"
   ]
  },
  {
   "cell_type": "code",
   "execution_count": 8,
   "metadata": {},
   "outputs": [
    {
     "name": "stdout",
     "output_type": "stream",
     "text": [
      "+---+---------+-------+-------+\n",
      "|ACT|FinalExam|QuizAvg|TestAvg|\n",
      "+---+---------+-------+-------+\n",
      "| 33|      181|     95|     89|\n",
      "| 31|      169|     81|     89|\n",
      "| 21|      176|     65|     68|\n",
      "| 25|      181|     66|     90|\n",
      "| 29|      169|     89|     81|\n",
      "+---+---------+-------+-------+\n",
      "only showing top 5 rows\n",
      "\n"
     ]
    }
   ],
   "source": [
    "df.show(5)"
   ]
  },
  {
   "cell_type": "code",
   "execution_count": 9,
   "metadata": {},
   "outputs": [
    {
     "name": "stdout",
     "output_type": "stream",
     "text": [
      "root\n",
      " |-- ACT: integer (nullable = true)\n",
      " |-- FinalExam: integer (nullable = true)\n",
      " |-- QuizAvg: integer (nullable = true)\n",
      " |-- TestAvg: integer (nullable = true)\n",
      "\n"
     ]
    }
   ],
   "source": [
    "df.printSchema()"
   ]
  },
  {
   "cell_type": "code",
   "execution_count": 12,
   "metadata": {},
   "outputs": [
    {
     "name": "stdout",
     "output_type": "stream",
     "text": [
      "+---+\n",
      "|ACT|\n",
      "+---+\n",
      "| 33|\n",
      "| 31|\n",
      "| 21|\n",
      "| 25|\n",
      "| 29|\n",
      "+---+\n",
      "only showing top 5 rows\n",
      "\n"
     ]
    }
   ],
   "source": [
    "df.select(['ACT']).show(5)"
   ]
  },
  {
   "cell_type": "code",
   "execution_count": 18,
   "metadata": {},
   "outputs": [
    {
     "data": {
      "text/plain": [
       "[('ACT', 'int'), ('FinalExam', 'int'), ('QuizAvg', 'int'), ('TestAvg', 'int')]"
      ]
     },
     "execution_count": 18,
     "metadata": {},
     "output_type": "execute_result"
    }
   ],
   "source": [
    "df.dtypes"
   ]
  },
  {
   "cell_type": "code",
   "execution_count": 19,
   "metadata": {},
   "outputs": [
    {
     "name": "stdout",
     "output_type": "stream",
     "text": [
      "+-------+------------------+------------------+------------------+------------------+\n",
      "|summary|               ACT|         FinalExam|           QuizAvg|           TestAvg|\n",
      "+-------+------------------+------------------+------------------+------------------+\n",
      "|  count|                14|                14|                14|                14|\n",
      "|   mean|27.714285714285715|156.42857142857142| 77.07142857142857| 76.42857142857143|\n",
      "| stddev| 4.158930547232461| 26.11723358454892|13.747527250182324|13.195070674683409|\n",
      "|    min|                21|               100|                61|                56|\n",
      "|    max|                36|               181|                98|               102|\n",
      "+-------+------------------+------------------+------------------+------------------+\n",
      "\n"
     ]
    }
   ],
   "source": [
    "df.describe().show()"
   ]
  },
  {
   "cell_type": "code",
   "execution_count": 30,
   "metadata": {},
   "outputs": [
    {
     "name": "stdout",
     "output_type": "stream",
     "text": [
      "+---+---------+-------+-------+------------------+\n",
      "|ACT|FinalExam|QuizAvg|TestAvg|               KPI|\n",
      "+---+---------+-------+-------+------------------+\n",
      "| 33|      181|     95|     89|144.79999999999998|\n",
      "| 31|      169|     81|     89|             136.2|\n",
      "| 21|      176|     65|     68|             132.5|\n",
      "| 25|      181|     66|     90|             142.2|\n",
      "| 29|      169|     89|     81|             134.6|\n",
      "| 24|      103|     61|     57| 84.99999999999999|\n",
      "| 25|      150|     81|     76|120.89999999999999|\n",
      "| 29|      147|     86|     76|             119.6|\n",
      "| 36|      181|     98|    102|             149.0|\n",
      "| 26|      163|     72|     70|             126.0|\n",
      "| 31|      163|     95|     81|             131.6|\n",
      "| 29|      147|     65|     67|             114.8|\n",
      "| 23|      160|     62|     68|122.60000000000001|\n",
      "| 26|      100|     63|     56|              83.1|\n",
      "+---+---------+-------+-------+------------------+\n",
      "\n"
     ]
    }
   ],
   "source": [
    "df1 = df.withColumn('KPI', df['FinalExam']*0.6+df['TestAvg']*0.3+df['QuizAvg']*0.1)\n",
    "df1.show()"
   ]
  },
  {
   "cell_type": "code",
   "execution_count": 31,
   "metadata": {},
   "outputs": [
    {
     "data": {
      "text/plain": [
       "DataFrame[ACT: int, FinalExam: int, QuizAvg: int, TestAvg: int]"
      ]
     },
     "execution_count": 31,
     "metadata": {},
     "output_type": "execute_result"
    }
   ],
   "source": [
    "df1.drop('KPI')"
   ]
  },
  {
   "cell_type": "code",
   "execution_count": 32,
   "metadata": {},
   "outputs": [
    {
     "name": "stdout",
     "output_type": "stream",
     "text": [
      "+---+---------+-------+-------+------------------+\n",
      "|ACT|FinalExam|QuizAvg|TestAvg|             Grade|\n",
      "+---+---------+-------+-------+------------------+\n",
      "| 33|      181|     95|     89|144.79999999999998|\n",
      "| 31|      169|     81|     89|             136.2|\n",
      "| 21|      176|     65|     68|             132.5|\n",
      "| 25|      181|     66|     90|             142.2|\n",
      "| 29|      169|     89|     81|             134.6|\n",
      "| 24|      103|     61|     57| 84.99999999999999|\n",
      "| 25|      150|     81|     76|120.89999999999999|\n",
      "| 29|      147|     86|     76|             119.6|\n",
      "| 36|      181|     98|    102|             149.0|\n",
      "| 26|      163|     72|     70|             126.0|\n",
      "| 31|      163|     95|     81|             131.6|\n",
      "| 29|      147|     65|     67|             114.8|\n",
      "| 23|      160|     62|     68|122.60000000000001|\n",
      "| 26|      100|     63|     56|              83.1|\n",
      "+---+---------+-------+-------+------------------+\n",
      "\n"
     ]
    }
   ],
   "source": [
    "df1.withColumnRenamed('KPI', 'Grade').show()"
   ]
  },
  {
   "cell_type": "code",
   "execution_count": 33,
   "metadata": {},
   "outputs": [
    {
     "name": "stdout",
     "output_type": "stream",
     "text": [
      "+---+---------+-------+-------+\n",
      "|ACT|FinalExam|QuizAvg|TestAvg|\n",
      "+---+---------+-------+-------+\n",
      "| 33|      181|     95|     89|\n",
      "| 31|      169|     81|     89|\n",
      "| 21|      176|     65|     68|\n",
      "| 25|      181|     66|     90|\n",
      "| 29|      169|     89|     81|\n",
      "| 24|      103|     61|     57|\n",
      "| 25|      150|     81|     76|\n",
      "| 29|      147|     86|     76|\n",
      "| 36|      181|     98|    102|\n",
      "| 26|      163|     72|     70|\n",
      "| 31|      163|     95|     81|\n",
      "| 29|      147|     65|     67|\n",
      "| 23|      160|     62|     68|\n",
      "| 26|      100|     63|     56|\n",
      "+---+---------+-------+-------+\n",
      "\n"
     ]
    }
   ],
   "source": [
    "# drop any rows less than 2 non-null values\n",
    "\n",
    "df.na.drop(how='any', thresh=2).show()"
   ]
  },
  {
   "cell_type": "code",
   "execution_count": 34,
   "metadata": {},
   "outputs": [
    {
     "name": "stdout",
     "output_type": "stream",
     "text": [
      "+---+---------+-------+-------+\n",
      "|ACT|FinalExam|QuizAvg|TestAvg|\n",
      "+---+---------+-------+-------+\n",
      "| 33|      181|     95|     89|\n",
      "| 31|      169|     81|     89|\n",
      "| 21|      176|     65|     68|\n",
      "| 25|      181|     66|     90|\n",
      "| 29|      169|     89|     81|\n",
      "| 24|      103|     61|     57|\n",
      "| 25|      150|     81|     76|\n",
      "| 29|      147|     86|     76|\n",
      "| 36|      181|     98|    102|\n",
      "| 26|      163|     72|     70|\n",
      "| 31|      163|     95|     81|\n",
      "| 29|      147|     65|     67|\n",
      "| 23|      160|     62|     68|\n",
      "| 26|      100|     63|     56|\n",
      "+---+---------+-------+-------+\n",
      "\n"
     ]
    }
   ],
   "source": [
    "# drop any rows if ACT contains null values\n",
    "\n",
    "df.na.drop(how='any', subset=['ACT']).show()"
   ]
  },
  {
   "cell_type": "code",
   "execution_count": 35,
   "metadata": {},
   "outputs": [
    {
     "data": {
      "text/plain": [
       "DataFrame[ACT: int, FinalExam: int, QuizAvg: int, TestAvg: int]"
      ]
     },
     "execution_count": 35,
     "metadata": {},
     "output_type": "execute_result"
    }
   ],
   "source": [
    "df.fillna()"
   ]
  },
  {
   "cell_type": "code",
   "execution_count": 44,
   "metadata": {},
   "outputs": [
    {
     "name": "stdout",
     "output_type": "stream",
     "text": [
      "+---+---------+-------+-------+\n",
      "|ACT|FinalExam|QuizAvg|TestAvg|\n",
      "+---+---------+-------+-------+\n",
      "| 33|      181|     95|     89|\n",
      "| 31|      169|     81|     89|\n",
      "| 31|      163|     95|     81|\n",
      "+---+---------+-------+-------+\n",
      "\n"
     ]
    }
   ],
   "source": [
    " df.filter('ACT >= 30 and ACT <= 35').show()"
   ]
  },
  {
   "cell_type": "code",
   "execution_count": 64,
   "metadata": {},
   "outputs": [
    {
     "name": "stdout",
     "output_type": "stream",
     "text": [
      "+---+--------+------------------+------------+-----------------+\n",
      "|ACT|avg(ACT)|    avg(FinalExam)|avg(QuizAvg)|     avg(TestAvg)|\n",
      "+---+--------+------------------+------------+-----------------+\n",
      "| 31|    31.0|             166.0|        88.0|             85.0|\n",
      "| 26|    26.0|             131.5|        67.5|             63.0|\n",
      "| 23|    23.0|             160.0|        62.0|             68.0|\n",
      "| 25|    25.0|             165.5|        73.5|             83.0|\n",
      "| 24|    24.0|             103.0|        61.0|             57.0|\n",
      "| 29|    29.0|154.33333333333334|        80.0|74.66666666666667|\n",
      "| 21|    21.0|             176.0|        65.0|             68.0|\n",
      "| 33|    33.0|             181.0|        95.0|             89.0|\n",
      "| 36|    36.0|             181.0|        98.0|            102.0|\n",
      "+---+--------+------------------+------------+-----------------+\n",
      "\n"
     ]
    }
   ],
   "source": [
    "df.groupby('ACT').mean().show()"
   ]
  },
  {
   "cell_type": "code",
   "execution_count": 56,
   "metadata": {},
   "outputs": [
    {
     "name": "stdout",
     "output_type": "stream",
     "text": [
      "+--------------+\n",
      "|sum(FinalExam)|\n",
      "+--------------+\n",
      "|          2190|\n",
      "+--------------+\n",
      "\n"
     ]
    }
   ],
   "source": [
    "df.agg({'FinalExam': 'sum'}).show()"
   ]
  }
 ],
 "metadata": {
  "kernelspec": {
   "display_name": "Python 3 (ipykernel)",
   "language": "python",
   "name": "python3"
  },
  "language_info": {
   "codemirror_mode": {
    "name": "ipython",
    "version": 3
   },
   "file_extension": ".py",
   "mimetype": "text/x-python",
   "name": "python",
   "nbconvert_exporter": "python",
   "pygments_lexer": "ipython3",
   "version": "3.9.5"
  }
 },
 "nbformat": 4,
 "nbformat_minor": 2
}
