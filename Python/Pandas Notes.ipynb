{
 "cells": [
  {
   "cell_type": "markdown",
   "metadata": {},
   "source": [
    "# Pandas Notes\n",
    "\n",
    "`Pandas` is a package built on top of `NumPy`, which is consist of Series and DataFrame objects, and provides an efficient implementation of a DataFrame. DataFrames are essentially multidimensional arrays with attached row and column labels, and often with heterogeneous types and/or missing data. As well as offering a convenient storage interface for labeled data, Pandas implements a number of powerful data operations familiar to users of both database frameworks and spreadsheet programs.\n",
    "\n",
    "Pandas has more flexibility (e.g., attaching labels to data, working with missing data, etc.) and when attempting operations that do not map well to element-wise broadcasting (e.g., groupings, pivots, etc.), each of which is an important piece of analyzing the less structured data available in many forms in the world around us.\n",
    "\n",
    "* Pandas series\n",
    "* DataFrame - creation, read from files\n",
    "* Quick checking DataFrame\n",
    "* Descriptive stats on DataFrame\n",
    "* Indexing, slicing, conditional subsetting\n",
    "* Operations on specific rows/columns"
   ]
  },
  {
   "cell_type": "code",
   "execution_count": 1,
   "metadata": {},
   "outputs": [],
   "source": [
    "import numpy as np\n",
    "import pandas as pd"
   ]
  },
  {
   "cell_type": "markdown",
   "metadata": {},
   "source": [
    "## 1.1. Series Object\n",
    "\n",
    "The Series object is basically interchangeable with a one-dimensional NumPy array. The essential difference is the presence of the index: while the Numpy Array has an implicitly defined integer index used to access the values, the Pandas Series has an explicitly defined index associated with the values."
   ]
  },
  {
   "cell_type": "code",
   "execution_count": 2,
   "metadata": {
    "scrolled": false
   },
   "outputs": [
    {
     "data": {
      "text/plain": [
       "alice      0.25\n",
       "bob        0.50\n",
       "charles    0.75\n",
       "darwin     1.00\n",
       "dtype: float64"
      ]
     },
     "execution_count": 2,
     "metadata": {},
     "output_type": "execute_result"
    }
   ],
   "source": [
    "s = pd.Series([0.25, 0.5, 0.75, 1.0], index=[\"alice\", \"bob\", \"charles\", \"darwin\"])\n",
    "s"
   ]
  },
  {
   "cell_type": "markdown",
   "metadata": {},
   "source": [
    "We can access with the `values` and `index` attributes, return a NumPy array and Index"
   ]
  },
  {
   "cell_type": "code",
   "execution_count": 3,
   "metadata": {},
   "outputs": [
    {
     "data": {
      "text/plain": [
       "array([0.25, 0.5 , 0.75, 1.  ])"
      ]
     },
     "execution_count": 3,
     "metadata": {},
     "output_type": "execute_result"
    }
   ],
   "source": [
    "s.values"
   ]
  },
  {
   "cell_type": "code",
   "execution_count": 4,
   "metadata": {},
   "outputs": [
    {
     "data": {
      "text/plain": [
       "Index(['alice', 'bob', 'charles', 'darwin'], dtype='object')"
      ]
     },
     "execution_count": 4,
     "metadata": {},
     "output_type": "execute_result"
    }
   ],
   "source": [
    "s.index"
   ]
  },
  {
   "cell_type": "markdown",
   "metadata": {},
   "source": [
    "The Pandas Series is also like a specialization of a Python dictionary. A dictionary is a structure that maps arbitrary keys to a set of arbitrary values, and a Series is a structure which maps typed keys to a set of typed values. This typing is important: just as the type-specific compiled code behind a NumPy array makes it more efficient than a Python list for certain operations, the type information of a Pandas Series makes it much more efficient than Python dictionaries for certain operations."
   ]
  },
  {
   "cell_type": "code",
   "execution_count": 5,
   "metadata": {},
   "outputs": [
    {
     "data": {
      "text/plain": [
       "color                                              [black]\n",
       "size                                                   [S]\n",
       "data     DatetimeIndex(['2019-01-06'], dtype='datetime6...\n",
       "a                                                        0\n",
       "b                                                        1\n",
       "dtype: object"
      ]
     },
     "execution_count": 5,
     "metadata": {},
     "output_type": "execute_result"
    }
   ],
   "source": [
    "s = {'color': ['black'],\n",
    "     'size': ['S'],\n",
    "     'data': pd.date_range('1/1/2019', periods=1, freq='W'),\n",
    "     'a': 0,\n",
    "     'b': 1}\n",
    "pd.Series(s)"
   ]
  },
  {
   "cell_type": "markdown",
   "metadata": {},
   "source": [
    "By default, a Series will be created where the index is drawn from the sorted keys."
   ]
  },
  {
   "cell_type": "code",
   "execution_count": 6,
   "metadata": {},
   "outputs": [
    {
     "data": {
      "text/plain": [
       "['S']"
      ]
     },
     "execution_count": 6,
     "metadata": {},
     "output_type": "execute_result"
    }
   ],
   "source": [
    "s['size']"
   ]
  },
  {
   "cell_type": "markdown",
   "metadata": {},
   "source": [
    "## 1.2. DataFrame Object\n",
    "\n",
    "The DataFrame can be thought of either as a generalization of a NumPy array, or as a specialization of a Python dictionary. A DataFrame is an analog of a two-dimensional array with both flexible row indices and flexible column names."
   ]
  },
  {
   "cell_type": "code",
   "execution_count": 7,
   "metadata": {},
   "outputs": [
    {
     "data": {
      "text/html": [
       "<div>\n",
       "<style scoped>\n",
       "    .dataframe tbody tr th:only-of-type {\n",
       "        vertical-align: middle;\n",
       "    }\n",
       "\n",
       "    .dataframe tbody tr th {\n",
       "        vertical-align: top;\n",
       "    }\n",
       "\n",
       "    .dataframe thead th {\n",
       "        text-align: right;\n",
       "    }\n",
       "</style>\n",
       "<table border=\"1\" class=\"dataframe\">\n",
       "  <thead>\n",
       "    <tr style=\"text-align: right;\">\n",
       "      <th></th>\n",
       "      <th>color</th>\n",
       "      <th>size</th>\n",
       "      <th>data</th>\n",
       "      <th>a</th>\n",
       "      <th>b</th>\n",
       "    </tr>\n",
       "  </thead>\n",
       "  <tbody>\n",
       "    <tr>\n",
       "      <th>0</th>\n",
       "      <td>black</td>\n",
       "      <td>S</td>\n",
       "      <td>2019-01-06</td>\n",
       "      <td>-2.004040</td>\n",
       "      <td>2.258491</td>\n",
       "    </tr>\n",
       "    <tr>\n",
       "      <th>1</th>\n",
       "      <td>white</td>\n",
       "      <td>M</td>\n",
       "      <td>2019-01-13</td>\n",
       "      <td>0.110237</td>\n",
       "      <td>-1.277053</td>\n",
       "    </tr>\n",
       "    <tr>\n",
       "      <th>2</th>\n",
       "      <td>black</td>\n",
       "      <td>L</td>\n",
       "      <td>2019-01-20</td>\n",
       "      <td>-0.607797</td>\n",
       "      <td>5.881012</td>\n",
       "    </tr>\n",
       "    <tr>\n",
       "      <th>3</th>\n",
       "      <td>white</td>\n",
       "      <td>M</td>\n",
       "      <td>2019-01-27</td>\n",
       "      <td>-0.368079</td>\n",
       "      <td>1.041533</td>\n",
       "    </tr>\n",
       "    <tr>\n",
       "      <th>4</th>\n",
       "      <td>black</td>\n",
       "      <td>L</td>\n",
       "      <td>2019-02-03</td>\n",
       "      <td>0.346664</td>\n",
       "      <td>-0.054605</td>\n",
       "    </tr>\n",
       "    <tr>\n",
       "      <th>5</th>\n",
       "      <td>white</td>\n",
       "      <td>S</td>\n",
       "      <td>2019-02-10</td>\n",
       "      <td>0.877276</td>\n",
       "      <td>1.243388</td>\n",
       "    </tr>\n",
       "    <tr>\n",
       "      <th>6</th>\n",
       "      <td>black</td>\n",
       "      <td>S</td>\n",
       "      <td>2019-02-17</td>\n",
       "      <td>-0.480872</td>\n",
       "      <td>4.105147</td>\n",
       "    </tr>\n",
       "    <tr>\n",
       "      <th>7</th>\n",
       "      <td>white</td>\n",
       "      <td>XL</td>\n",
       "      <td>2019-02-24</td>\n",
       "      <td>1.415476</td>\n",
       "      <td>3.304951</td>\n",
       "    </tr>\n",
       "    <tr>\n",
       "      <th>8</th>\n",
       "      <td>black</td>\n",
       "      <td>XL</td>\n",
       "      <td>2019-03-03</td>\n",
       "      <td>2.405514</td>\n",
       "      <td>1.850534</td>\n",
       "    </tr>\n",
       "    <tr>\n",
       "      <th>9</th>\n",
       "      <td>white</td>\n",
       "      <td>M</td>\n",
       "      <td>2019-03-10</td>\n",
       "      <td>-0.427718</td>\n",
       "      <td>2.235355</td>\n",
       "    </tr>\n",
       "  </tbody>\n",
       "</table>\n",
       "</div>"
      ],
      "text/plain": [
       "   color size       data         a         b\n",
       "0  black    S 2019-01-06 -2.004040  2.258491\n",
       "1  white    M 2019-01-13  0.110237 -1.277053\n",
       "2  black    L 2019-01-20 -0.607797  5.881012\n",
       "3  white    M 2019-01-27 -0.368079  1.041533\n",
       "4  black    L 2019-02-03  0.346664 -0.054605\n",
       "5  white    S 2019-02-10  0.877276  1.243388\n",
       "6  black    S 2019-02-17 -0.480872  4.105147\n",
       "7  white   XL 2019-02-24  1.415476  3.304951\n",
       "8  black   XL 2019-03-03  2.405514  1.850534\n",
       "9  white    M 2019-03-10 -0.427718  2.235355"
      ]
     },
     "execution_count": 7,
     "metadata": {},
     "output_type": "execute_result"
    }
   ],
   "source": [
    "data = {'color': ['black', 'white', 'black', 'white', 'black', 'white', 'black', 'white', 'black', 'white'],\n",
    "        'size': ['S', 'M', 'L', 'M', 'L', 'S', 'S', 'XL', 'XL', 'M'],\n",
    "        'data': pd.date_range('1/1/2019', periods=10, freq='W'),\n",
    "        'a': np.random.randn(10),\n",
    "        'b': np.random.normal(0.5, 2, 10)}\n",
    "\n",
    "df = pd.DataFrame(data)\n",
    "df"
   ]
  },
  {
   "cell_type": "code",
   "execution_count": 8,
   "metadata": {},
   "outputs": [
    {
     "data": {
      "text/plain": [
       "array([['black', 'S', Timestamp('2019-01-06 00:00:00'),\n",
       "        -2.0040401838698876, 2.2584906041664516],\n",
       "       ['white', 'M', Timestamp('2019-01-13 00:00:00'),\n",
       "        0.11023707024584892, -1.2770529298433477],\n",
       "       ['black', 'L', Timestamp('2019-01-20 00:00:00'),\n",
       "        -0.6077972180329199, 5.881012054507084],\n",
       "       ['white', 'M', Timestamp('2019-01-27 00:00:00'),\n",
       "        -0.36807858928647536, 1.0415333618574834],\n",
       "       ['black', 'L', Timestamp('2019-02-03 00:00:00'),\n",
       "        0.34666430707517915, -0.05460454981876628],\n",
       "       ['white', 'S', Timestamp('2019-02-10 00:00:00'),\n",
       "        0.8772756465446854, 1.2433875340571219],\n",
       "       ['black', 'S', Timestamp('2019-02-17 00:00:00'),\n",
       "        -0.4808721365590081, 4.105147205273319],\n",
       "       ['white', 'XL', Timestamp('2019-02-24 00:00:00'),\n",
       "        1.415475632323723, 3.304951299456659],\n",
       "       ['black', 'XL', Timestamp('2019-03-03 00:00:00'),\n",
       "        2.4055144698881317, 1.850533821634467],\n",
       "       ['white', 'M', Timestamp('2019-03-10 00:00:00'),\n",
       "        -0.42771753061732537, 2.2353550016385335]], dtype=object)"
      ]
     },
     "execution_count": 8,
     "metadata": {},
     "output_type": "execute_result"
    }
   ],
   "source": [
    "df.values"
   ]
  },
  {
   "cell_type": "markdown",
   "metadata": {},
   "source": [
    "Like the Series object, the DataFrame has an index attribute that gives access to the index labels:"
   ]
  },
  {
   "cell_type": "code",
   "execution_count": 9,
   "metadata": {},
   "outputs": [
    {
     "data": {
      "text/plain": [
       "RangeIndex(start=0, stop=10, step=1)"
      ]
     },
     "execution_count": 9,
     "metadata": {},
     "output_type": "execute_result"
    }
   ],
   "source": [
    "df.index"
   ]
  },
  {
   "cell_type": "markdown",
   "metadata": {},
   "source": [
    "Additionally, the DataFrame has a columns attribute, which is an Index object holding the column labels:"
   ]
  },
  {
   "cell_type": "code",
   "execution_count": 10,
   "metadata": {},
   "outputs": [
    {
     "data": {
      "text/plain": [
       "Index(['color', 'size', 'data', 'a', 'b'], dtype='object')"
      ]
     },
     "execution_count": 10,
     "metadata": {},
     "output_type": "execute_result"
    }
   ],
   "source": [
    "df.columns"
   ]
  },
  {
   "cell_type": "markdown",
   "metadata": {},
   "source": [
    "## 1.3. Index Object"
   ]
  },
  {
   "cell_type": "markdown",
   "metadata": {},
   "source": [
    "This Index object is an interesting structure in itself, and it can be thought of either as an immutable array or as an ordered set (technically a multi-set, as Index objects may contain repeated values). Index objects also have many of the attributes familiar from NumPy arrays:"
   ]
  },
  {
   "cell_type": "code",
   "execution_count": 11,
   "metadata": {},
   "outputs": [
    {
     "data": {
      "text/plain": [
       "Index([['A', 'B', 'B', 'B', 'C', 'A', 'B', 'A', 'C', 'C'], ['JP', 'CN', 'US', 'US', 'US', 'CN', 'CN', 'CA', 'JP', 'CA']], dtype='object')"
      ]
     },
     "execution_count": 11,
     "metadata": {},
     "output_type": "execute_result"
    }
   ],
   "source": [
    "index = [['A', 'B', 'B', 'B', 'C', 'A', 'B', 'A', 'C', 'C'], ['JP', 'CN', 'US', 'US', 'US', 'CN', 'CN', 'CA', 'JP', 'CA']]\n",
    "\n",
    "ind = pd.Index(index)\n",
    "ind"
   ]
  },
  {
   "cell_type": "code",
   "execution_count": 12,
   "metadata": {},
   "outputs": [
    {
     "name": "stdout",
     "output_type": "stream",
     "text": [
      "['A', 'B', 'B', 'B', 'C', 'A', 'B', 'A', 'C', 'C']\n",
      "A\n"
     ]
    }
   ],
   "source": [
    "print(ind[0])\n",
    "\n",
    "print(ind[0][0])"
   ]
  },
  {
   "cell_type": "code",
   "execution_count": 13,
   "metadata": {},
   "outputs": [
    {
     "name": "stdout",
     "output_type": "stream",
     "text": [
      "size: 2\n",
      "shape: (2,)\n",
      "dim: 1\n",
      "type: object\n"
     ]
    }
   ],
   "source": [
    "print('size:', ind.size)\n",
    "print('shape:', ind.shape)\n",
    "print('dim:', ind.ndim)\n",
    "print('type:', ind.dtype)"
   ]
  },
  {
   "cell_type": "markdown",
   "metadata": {},
   "source": [
    "One difference between Index objects are immutable–that is, they cannot be modified, but NumPy arrays does:"
   ]
  },
  {
   "cell_type": "code",
   "execution_count": 14,
   "metadata": {
    "scrolled": true
   },
   "outputs": [
    {
     "ename": "TypeError",
     "evalue": "Index does not support mutable operations",
     "output_type": "error",
     "traceback": [
      "\u001b[1;31m---------------------------------------------------------------------------\u001b[0m",
      "\u001b[1;31mTypeError\u001b[0m                                 Traceback (most recent call last)",
      "\u001b[1;32m<ipython-input-14-5d87789215b7>\u001b[0m in \u001b[0;36m<module>\u001b[1;34m\u001b[0m\n\u001b[1;32m----> 1\u001b[1;33m \u001b[0mind\u001b[0m\u001b[1;33m[\u001b[0m\u001b[1;36m0\u001b[0m\u001b[1;33m]\u001b[0m \u001b[1;33m=\u001b[0m \u001b[1;36m1\u001b[0m\u001b[1;33m\u001b[0m\u001b[1;33m\u001b[0m\u001b[0m\n\u001b[0m",
      "\u001b[1;32mD:\\ProgramData\\Anaconda3\\lib\\site-packages\\pandas\\core\\indexes\\base.py\u001b[0m in \u001b[0;36m__setitem__\u001b[1;34m(self, key, value)\u001b[0m\n\u001b[0;32m   3936\u001b[0m \u001b[1;33m\u001b[0m\u001b[0m\n\u001b[0;32m   3937\u001b[0m     \u001b[1;32mdef\u001b[0m \u001b[0m__setitem__\u001b[0m\u001b[1;33m(\u001b[0m\u001b[0mself\u001b[0m\u001b[1;33m,\u001b[0m \u001b[0mkey\u001b[0m\u001b[1;33m,\u001b[0m \u001b[0mvalue\u001b[0m\u001b[1;33m)\u001b[0m\u001b[1;33m:\u001b[0m\u001b[1;33m\u001b[0m\u001b[1;33m\u001b[0m\u001b[0m\n\u001b[1;32m-> 3938\u001b[1;33m         \u001b[1;32mraise\u001b[0m \u001b[0mTypeError\u001b[0m\u001b[1;33m(\u001b[0m\u001b[1;34m\"Index does not support mutable operations\"\u001b[0m\u001b[1;33m)\u001b[0m\u001b[1;33m\u001b[0m\u001b[1;33m\u001b[0m\u001b[0m\n\u001b[0m\u001b[0;32m   3939\u001b[0m \u001b[1;33m\u001b[0m\u001b[0m\n\u001b[0;32m   3940\u001b[0m     \u001b[1;32mdef\u001b[0m \u001b[0m__getitem__\u001b[0m\u001b[1;33m(\u001b[0m\u001b[0mself\u001b[0m\u001b[1;33m,\u001b[0m \u001b[0mkey\u001b[0m\u001b[1;33m)\u001b[0m\u001b[1;33m:\u001b[0m\u001b[1;33m\u001b[0m\u001b[1;33m\u001b[0m\u001b[0m\n",
      "\u001b[1;31mTypeError\u001b[0m: Index does not support mutable operations"
     ]
    }
   ],
   "source": [
    "ind[0] = 1"
   ]
  },
  {
   "cell_type": "markdown",
   "metadata": {},
   "source": [
    "The Index object follows many of the conventions used by Python's built-in `set` data structure, so that unions, intersections, differences, and other combinations can be computed in a familiar way:"
   ]
  },
  {
   "cell_type": "code",
   "execution_count": 15,
   "metadata": {
    "scrolled": true
   },
   "outputs": [
    {
     "name": "stdout",
     "output_type": "stream",
     "text": [
      "Int64Index([3, 5, 7], dtype='int64')\n",
      "Int64Index([1, 2, 3, 5, 7, 9, 11], dtype='int64')\n",
      "Int64Index([1, 2, 9, 11], dtype='int64')\n"
     ]
    }
   ],
   "source": [
    "indA = pd.Index([1, 3, 5, 7, 9])\n",
    "indB = pd.Index([2, 3, 5, 7, 11])\n",
    "\n",
    "# intersection\n",
    "print(indA & indB)\n",
    "\n",
    "# union\n",
    "print(indA | indB)\n",
    "\n",
    "# symmetric difference\n",
    "print(indA ^ indB)"
   ]
  },
  {
   "cell_type": "markdown",
   "metadata": {},
   "source": [
    "Adding multi-indexing to dataframe"
   ]
  },
  {
   "cell_type": "code",
   "execution_count": 16,
   "metadata": {
    "scrolled": true
   },
   "outputs": [
    {
     "data": {
      "text/html": [
       "<div>\n",
       "<style scoped>\n",
       "    .dataframe tbody tr th:only-of-type {\n",
       "        vertical-align: middle;\n",
       "    }\n",
       "\n",
       "    .dataframe tbody tr th {\n",
       "        vertical-align: top;\n",
       "    }\n",
       "\n",
       "    .dataframe thead th {\n",
       "        text-align: right;\n",
       "    }\n",
       "</style>\n",
       "<table border=\"1\" class=\"dataframe\">\n",
       "  <thead>\n",
       "    <tr style=\"text-align: right;\">\n",
       "      <th></th>\n",
       "      <th></th>\n",
       "      <th>color</th>\n",
       "      <th>size</th>\n",
       "      <th>data</th>\n",
       "      <th>a</th>\n",
       "      <th>b</th>\n",
       "    </tr>\n",
       "    <tr>\n",
       "      <th>class</th>\n",
       "      <th>country</th>\n",
       "      <th></th>\n",
       "      <th></th>\n",
       "      <th></th>\n",
       "      <th></th>\n",
       "      <th></th>\n",
       "    </tr>\n",
       "  </thead>\n",
       "  <tbody>\n",
       "    <tr>\n",
       "      <th>A</th>\n",
       "      <th>JP</th>\n",
       "      <td>black</td>\n",
       "      <td>S</td>\n",
       "      <td>2019-01-06</td>\n",
       "      <td>-2.004040</td>\n",
       "      <td>2.258491</td>\n",
       "    </tr>\n",
       "    <tr>\n",
       "      <th rowspan=\"3\" valign=\"top\">B</th>\n",
       "      <th>CN</th>\n",
       "      <td>white</td>\n",
       "      <td>M</td>\n",
       "      <td>2019-01-13</td>\n",
       "      <td>0.110237</td>\n",
       "      <td>-1.277053</td>\n",
       "    </tr>\n",
       "    <tr>\n",
       "      <th>US</th>\n",
       "      <td>black</td>\n",
       "      <td>L</td>\n",
       "      <td>2019-01-20</td>\n",
       "      <td>-0.607797</td>\n",
       "      <td>5.881012</td>\n",
       "    </tr>\n",
       "    <tr>\n",
       "      <th>US</th>\n",
       "      <td>white</td>\n",
       "      <td>M</td>\n",
       "      <td>2019-01-27</td>\n",
       "      <td>-0.368079</td>\n",
       "      <td>1.041533</td>\n",
       "    </tr>\n",
       "    <tr>\n",
       "      <th>C</th>\n",
       "      <th>US</th>\n",
       "      <td>black</td>\n",
       "      <td>L</td>\n",
       "      <td>2019-02-03</td>\n",
       "      <td>0.346664</td>\n",
       "      <td>-0.054605</td>\n",
       "    </tr>\n",
       "    <tr>\n",
       "      <th>A</th>\n",
       "      <th>CN</th>\n",
       "      <td>white</td>\n",
       "      <td>S</td>\n",
       "      <td>2019-02-10</td>\n",
       "      <td>0.877276</td>\n",
       "      <td>1.243388</td>\n",
       "    </tr>\n",
       "    <tr>\n",
       "      <th>B</th>\n",
       "      <th>CN</th>\n",
       "      <td>black</td>\n",
       "      <td>S</td>\n",
       "      <td>2019-02-17</td>\n",
       "      <td>-0.480872</td>\n",
       "      <td>4.105147</td>\n",
       "    </tr>\n",
       "    <tr>\n",
       "      <th>A</th>\n",
       "      <th>CA</th>\n",
       "      <td>white</td>\n",
       "      <td>XL</td>\n",
       "      <td>2019-02-24</td>\n",
       "      <td>1.415476</td>\n",
       "      <td>3.304951</td>\n",
       "    </tr>\n",
       "    <tr>\n",
       "      <th rowspan=\"2\" valign=\"top\">C</th>\n",
       "      <th>JP</th>\n",
       "      <td>black</td>\n",
       "      <td>XL</td>\n",
       "      <td>2019-03-03</td>\n",
       "      <td>2.405514</td>\n",
       "      <td>1.850534</td>\n",
       "    </tr>\n",
       "    <tr>\n",
       "      <th>CA</th>\n",
       "      <td>white</td>\n",
       "      <td>M</td>\n",
       "      <td>2019-03-10</td>\n",
       "      <td>-0.427718</td>\n",
       "      <td>2.235355</td>\n",
       "    </tr>\n",
       "  </tbody>\n",
       "</table>\n",
       "</div>"
      ],
      "text/plain": [
       "               color size       data         a         b\n",
       "class country                                           \n",
       "A     JP       black    S 2019-01-06 -2.004040  2.258491\n",
       "B     CN       white    M 2019-01-13  0.110237 -1.277053\n",
       "      US       black    L 2019-01-20 -0.607797  5.881012\n",
       "      US       white    M 2019-01-27 -0.368079  1.041533\n",
       "C     US       black    L 2019-02-03  0.346664 -0.054605\n",
       "A     CN       white    S 2019-02-10  0.877276  1.243388\n",
       "B     CN       black    S 2019-02-17 -0.480872  4.105147\n",
       "A     CA       white   XL 2019-02-24  1.415476  3.304951\n",
       "C     JP       black   XL 2019-03-03  2.405514  1.850534\n",
       "      CA       white    M 2019-03-10 -0.427718  2.235355"
      ]
     },
     "execution_count": 16,
     "metadata": {},
     "output_type": "execute_result"
    }
   ],
   "source": [
    "index = pd.MultiIndex.from_arrays(index, names=['class', 'country'])\n",
    "\n",
    "df = pd.DataFrame(data, index=index)\n",
    "df"
   ]
  },
  {
   "cell_type": "markdown",
   "metadata": {},
   "source": [
    "## 2.1. Query Row Data"
   ]
  },
  {
   "cell_type": "code",
   "execution_count": 29,
   "metadata": {},
   "outputs": [
    {
     "data": {
      "text/plain": [
       "color                  black\n",
       "size                       S\n",
       "data     2019-01-06 00:00:00\n",
       "a                   -2.00404\n",
       "b                    2.25849\n",
       "Name: (A, JP), dtype: object"
      ]
     },
     "execution_count": 29,
     "metadata": {},
     "output_type": "execute_result"
    }
   ],
   "source": [
    "# select row by index, return Series\n",
    "df.iloc[0]"
   ]
  },
  {
   "cell_type": "code",
   "execution_count": 27,
   "metadata": {},
   "outputs": [
    {
     "data": {
      "text/html": [
       "<div>\n",
       "<style scoped>\n",
       "    .dataframe tbody tr th:only-of-type {\n",
       "        vertical-align: middle;\n",
       "    }\n",
       "\n",
       "    .dataframe tbody tr th {\n",
       "        vertical-align: top;\n",
       "    }\n",
       "\n",
       "    .dataframe thead th {\n",
       "        text-align: right;\n",
       "    }\n",
       "</style>\n",
       "<table border=\"1\" class=\"dataframe\">\n",
       "  <thead>\n",
       "    <tr style=\"text-align: right;\">\n",
       "      <th></th>\n",
       "      <th></th>\n",
       "      <th>color</th>\n",
       "      <th>size</th>\n",
       "      <th>data</th>\n",
       "      <th>a</th>\n",
       "      <th>b</th>\n",
       "    </tr>\n",
       "    <tr>\n",
       "      <th>class</th>\n",
       "      <th>country</th>\n",
       "      <th></th>\n",
       "      <th></th>\n",
       "      <th></th>\n",
       "      <th></th>\n",
       "      <th></th>\n",
       "    </tr>\n",
       "  </thead>\n",
       "  <tbody>\n",
       "    <tr>\n",
       "      <th>A</th>\n",
       "      <th>JP</th>\n",
       "      <td>black</td>\n",
       "      <td>S</td>\n",
       "      <td>2019-01-06</td>\n",
       "      <td>-2.00404</td>\n",
       "      <td>2.258491</td>\n",
       "    </tr>\n",
       "  </tbody>\n",
       "</table>\n",
       "</div>"
      ],
      "text/plain": [
       "               color size       data        a         b\n",
       "class country                                          \n",
       "A     JP       black    S 2019-01-06 -2.00404  2.258491"
      ]
     },
     "execution_count": 27,
     "metadata": {},
     "output_type": "execute_result"
    }
   ],
   "source": [
    "# select row by index, return dataframe\n",
    "df.iloc[[0]]"
   ]
  },
  {
   "cell_type": "code",
   "execution_count": 43,
   "metadata": {},
   "outputs": [
    {
     "data": {
      "text/html": [
       "<div>\n",
       "<style scoped>\n",
       "    .dataframe tbody tr th:only-of-type {\n",
       "        vertical-align: middle;\n",
       "    }\n",
       "\n",
       "    .dataframe tbody tr th {\n",
       "        vertical-align: top;\n",
       "    }\n",
       "\n",
       "    .dataframe thead th {\n",
       "        text-align: right;\n",
       "    }\n",
       "</style>\n",
       "<table border=\"1\" class=\"dataframe\">\n",
       "  <thead>\n",
       "    <tr style=\"text-align: right;\">\n",
       "      <th></th>\n",
       "      <th>color</th>\n",
       "      <th>size</th>\n",
       "      <th>data</th>\n",
       "      <th>a</th>\n",
       "      <th>b</th>\n",
       "    </tr>\n",
       "    <tr>\n",
       "      <th>country</th>\n",
       "      <th></th>\n",
       "      <th></th>\n",
       "      <th></th>\n",
       "      <th></th>\n",
       "      <th></th>\n",
       "    </tr>\n",
       "  </thead>\n",
       "  <tbody>\n",
       "    <tr>\n",
       "      <th>CN</th>\n",
       "      <td>white</td>\n",
       "      <td>M</td>\n",
       "      <td>2019-01-13</td>\n",
       "      <td>0.110237</td>\n",
       "      <td>-1.277053</td>\n",
       "    </tr>\n",
       "    <tr>\n",
       "      <th>US</th>\n",
       "      <td>black</td>\n",
       "      <td>L</td>\n",
       "      <td>2019-01-20</td>\n",
       "      <td>-0.607797</td>\n",
       "      <td>5.881012</td>\n",
       "    </tr>\n",
       "    <tr>\n",
       "      <th>US</th>\n",
       "      <td>white</td>\n",
       "      <td>M</td>\n",
       "      <td>2019-01-27</td>\n",
       "      <td>-0.368079</td>\n",
       "      <td>1.041533</td>\n",
       "    </tr>\n",
       "    <tr>\n",
       "      <th>CN</th>\n",
       "      <td>black</td>\n",
       "      <td>S</td>\n",
       "      <td>2019-02-17</td>\n",
       "      <td>-0.480872</td>\n",
       "      <td>4.105147</td>\n",
       "    </tr>\n",
       "  </tbody>\n",
       "</table>\n",
       "</div>"
      ],
      "text/plain": [
       "         color size       data         a         b\n",
       "country                                           \n",
       "CN       white    M 2019-01-13  0.110237 -1.277053\n",
       "US       black    L 2019-01-20 -0.607797  5.881012\n",
       "US       white    M 2019-01-27 -0.368079  1.041533\n",
       "CN       black    S 2019-02-17 -0.480872  4.105147"
      ]
     },
     "execution_count": 43,
     "metadata": {},
     "output_type": "execute_result"
    }
   ],
   "source": [
    "# select row by name, return dataframe\n",
    "df.loc['B']"
   ]
  },
  {
   "cell_type": "markdown",
   "metadata": {},
   "source": [
    "## 2.2. Query Column Data"
   ]
  },
  {
   "cell_type": "code",
   "execution_count": 32,
   "metadata": {},
   "outputs": [
    {
     "name": "stdout",
     "output_type": "stream",
     "text": [
      "class  country\n",
      "A      JP         black\n",
      "B      CN         white\n",
      "       US         black\n",
      "       US         white\n",
      "C      US         black\n",
      "A      CN         white\n",
      "B      CN         black\n",
      "A      CA         white\n",
      "C      JP         black\n",
      "       CA         white\n",
      "Name: color, dtype: object\n"
     ]
    }
   ],
   "source": [
    "# select column by index, return Series\n",
    "print(df.iloc[:, 0])"
   ]
  },
  {
   "cell_type": "code",
   "execution_count": 33,
   "metadata": {},
   "outputs": [
    {
     "data": {
      "text/plain": [
       "class  country\n",
       "A      JP         black\n",
       "B      CN         white\n",
       "       US         black\n",
       "       US         white\n",
       "C      US         black\n",
       "A      CN         white\n",
       "B      CN         black\n",
       "A      CA         white\n",
       "C      JP         black\n",
       "       CA         white\n",
       "Name: color, dtype: object"
      ]
     },
     "execution_count": 33,
     "metadata": {},
     "output_type": "execute_result"
    }
   ],
   "source": [
    "# select column by name, return Series\n",
    "df.loc[:, 'color']"
   ]
  },
  {
   "cell_type": "code",
   "execution_count": 18,
   "metadata": {},
   "outputs": [
    {
     "data": {
      "text/html": [
       "<div>\n",
       "<style scoped>\n",
       "    .dataframe tbody tr th:only-of-type {\n",
       "        vertical-align: middle;\n",
       "    }\n",
       "\n",
       "    .dataframe tbody tr th {\n",
       "        vertical-align: top;\n",
       "    }\n",
       "\n",
       "    .dataframe thead th {\n",
       "        text-align: right;\n",
       "    }\n",
       "</style>\n",
       "<table border=\"1\" class=\"dataframe\">\n",
       "  <thead>\n",
       "    <tr style=\"text-align: right;\">\n",
       "      <th></th>\n",
       "      <th></th>\n",
       "      <th>color</th>\n",
       "    </tr>\n",
       "    <tr>\n",
       "      <th>class</th>\n",
       "      <th>country</th>\n",
       "      <th></th>\n",
       "    </tr>\n",
       "  </thead>\n",
       "  <tbody>\n",
       "    <tr>\n",
       "      <th>A</th>\n",
       "      <th>JP</th>\n",
       "      <td>black</td>\n",
       "    </tr>\n",
       "    <tr>\n",
       "      <th rowspan=\"3\" valign=\"top\">B</th>\n",
       "      <th>CN</th>\n",
       "      <td>white</td>\n",
       "    </tr>\n",
       "    <tr>\n",
       "      <th>US</th>\n",
       "      <td>black</td>\n",
       "    </tr>\n",
       "    <tr>\n",
       "      <th>US</th>\n",
       "      <td>white</td>\n",
       "    </tr>\n",
       "    <tr>\n",
       "      <th>C</th>\n",
       "      <th>US</th>\n",
       "      <td>black</td>\n",
       "    </tr>\n",
       "  </tbody>\n",
       "</table>\n",
       "</div>"
      ],
      "text/plain": [
       "               color\n",
       "class country       \n",
       "A     JP       black\n",
       "B     CN       white\n",
       "      US       black\n",
       "      US       white\n",
       "C     US       black"
      ]
     },
     "execution_count": 18,
     "metadata": {},
     "output_type": "execute_result"
    }
   ],
   "source": [
    "# select column by index, return dataframe\n",
    "df.iloc[:, [0]].head()"
   ]
  },
  {
   "cell_type": "code",
   "execution_count": 19,
   "metadata": {},
   "outputs": [
    {
     "data": {
      "text/html": [
       "<div>\n",
       "<style scoped>\n",
       "    .dataframe tbody tr th:only-of-type {\n",
       "        vertical-align: middle;\n",
       "    }\n",
       "\n",
       "    .dataframe tbody tr th {\n",
       "        vertical-align: top;\n",
       "    }\n",
       "\n",
       "    .dataframe thead th {\n",
       "        text-align: right;\n",
       "    }\n",
       "</style>\n",
       "<table border=\"1\" class=\"dataframe\">\n",
       "  <thead>\n",
       "    <tr style=\"text-align: right;\">\n",
       "      <th></th>\n",
       "      <th></th>\n",
       "      <th>color</th>\n",
       "    </tr>\n",
       "    <tr>\n",
       "      <th>class</th>\n",
       "      <th>country</th>\n",
       "      <th></th>\n",
       "    </tr>\n",
       "  </thead>\n",
       "  <tbody>\n",
       "    <tr>\n",
       "      <th>A</th>\n",
       "      <th>JP</th>\n",
       "      <td>black</td>\n",
       "    </tr>\n",
       "    <tr>\n",
       "      <th rowspan=\"3\" valign=\"top\">B</th>\n",
       "      <th>CN</th>\n",
       "      <td>white</td>\n",
       "    </tr>\n",
       "    <tr>\n",
       "      <th>US</th>\n",
       "      <td>black</td>\n",
       "    </tr>\n",
       "    <tr>\n",
       "      <th>US</th>\n",
       "      <td>white</td>\n",
       "    </tr>\n",
       "    <tr>\n",
       "      <th>C</th>\n",
       "      <th>US</th>\n",
       "      <td>black</td>\n",
       "    </tr>\n",
       "  </tbody>\n",
       "</table>\n",
       "</div>"
      ],
      "text/plain": [
       "               color\n",
       "class country       \n",
       "A     JP       black\n",
       "B     CN       white\n",
       "      US       black\n",
       "      US       white\n",
       "C     US       black"
      ]
     },
     "execution_count": 19,
     "metadata": {},
     "output_type": "execute_result"
    }
   ],
   "source": [
    "# select column by name, return dataframe\n",
    "df[['color']].head()"
   ]
  },
  {
   "cell_type": "markdown",
   "metadata": {},
   "source": [
    "## 2.3. Query with Condition"
   ]
  },
  {
   "cell_type": "code",
   "execution_count": 65,
   "metadata": {},
   "outputs": [
    {
     "data": {
      "text/html": [
       "<div>\n",
       "<style scoped>\n",
       "    .dataframe tbody tr th:only-of-type {\n",
       "        vertical-align: middle;\n",
       "    }\n",
       "\n",
       "    .dataframe tbody tr th {\n",
       "        vertical-align: top;\n",
       "    }\n",
       "\n",
       "    .dataframe thead th {\n",
       "        text-align: right;\n",
       "    }\n",
       "</style>\n",
       "<table border=\"1\" class=\"dataframe\">\n",
       "  <thead>\n",
       "    <tr style=\"text-align: right;\">\n",
       "      <th></th>\n",
       "      <th></th>\n",
       "      <th>color</th>\n",
       "      <th>size</th>\n",
       "      <th>data</th>\n",
       "      <th>a</th>\n",
       "      <th>b</th>\n",
       "    </tr>\n",
       "    <tr>\n",
       "      <th>class</th>\n",
       "      <th>country</th>\n",
       "      <th></th>\n",
       "      <th></th>\n",
       "      <th></th>\n",
       "      <th></th>\n",
       "      <th></th>\n",
       "    </tr>\n",
       "  </thead>\n",
       "  <tbody>\n",
       "    <tr>\n",
       "      <th>B</th>\n",
       "      <th>CN</th>\n",
       "      <td>white</td>\n",
       "      <td>M</td>\n",
       "      <td>2019-01-13</td>\n",
       "      <td>0.110237</td>\n",
       "      <td>-1.277053</td>\n",
       "    </tr>\n",
       "    <tr>\n",
       "      <th>C</th>\n",
       "      <th>US</th>\n",
       "      <td>black</td>\n",
       "      <td>L</td>\n",
       "      <td>2019-02-03</td>\n",
       "      <td>0.346664</td>\n",
       "      <td>-0.054605</td>\n",
       "    </tr>\n",
       "    <tr>\n",
       "      <th rowspan=\"2\" valign=\"top\">A</th>\n",
       "      <th>CN</th>\n",
       "      <td>white</td>\n",
       "      <td>S</td>\n",
       "      <td>2019-02-10</td>\n",
       "      <td>0.877276</td>\n",
       "      <td>1.243388</td>\n",
       "    </tr>\n",
       "    <tr>\n",
       "      <th>CA</th>\n",
       "      <td>white</td>\n",
       "      <td>XL</td>\n",
       "      <td>2019-02-24</td>\n",
       "      <td>1.415476</td>\n",
       "      <td>3.304951</td>\n",
       "    </tr>\n",
       "    <tr>\n",
       "      <th>C</th>\n",
       "      <th>JP</th>\n",
       "      <td>black</td>\n",
       "      <td>XL</td>\n",
       "      <td>2019-03-03</td>\n",
       "      <td>2.405514</td>\n",
       "      <td>1.850534</td>\n",
       "    </tr>\n",
       "  </tbody>\n",
       "</table>\n",
       "</div>"
      ],
      "text/plain": [
       "               color size       data         a         b\n",
       "class country                                           \n",
       "B     CN       white    M 2019-01-13  0.110237 -1.277053\n",
       "C     US       black    L 2019-02-03  0.346664 -0.054605\n",
       "A     CN       white    S 2019-02-10  0.877276  1.243388\n",
       "      CA       white   XL 2019-02-24  1.415476  3.304951\n",
       "C     JP       black   XL 2019-03-03  2.405514  1.850534"
      ]
     },
     "execution_count": 65,
     "metadata": {},
     "output_type": "execute_result"
    }
   ],
   "source": [
    "df[df.a > 0]"
   ]
  },
  {
   "cell_type": "code",
   "execution_count": 62,
   "metadata": {},
   "outputs": [
    {
     "data": {
      "text/html": [
       "<div>\n",
       "<style scoped>\n",
       "    .dataframe tbody tr th:only-of-type {\n",
       "        vertical-align: middle;\n",
       "    }\n",
       "\n",
       "    .dataframe tbody tr th {\n",
       "        vertical-align: top;\n",
       "    }\n",
       "\n",
       "    .dataframe thead th {\n",
       "        text-align: right;\n",
       "    }\n",
       "</style>\n",
       "<table border=\"1\" class=\"dataframe\">\n",
       "  <thead>\n",
       "    <tr style=\"text-align: right;\">\n",
       "      <th></th>\n",
       "      <th></th>\n",
       "      <th>a</th>\n",
       "      <th>b</th>\n",
       "    </tr>\n",
       "    <tr>\n",
       "      <th>class</th>\n",
       "      <th>country</th>\n",
       "      <th></th>\n",
       "      <th></th>\n",
       "    </tr>\n",
       "  </thead>\n",
       "  <tbody>\n",
       "    <tr>\n",
       "      <th rowspan=\"2\" valign=\"top\">B</th>\n",
       "      <th>CN</th>\n",
       "      <td>0.110237</td>\n",
       "      <td>-1.277053</td>\n",
       "    </tr>\n",
       "    <tr>\n",
       "      <th>US</th>\n",
       "      <td>-0.368079</td>\n",
       "      <td>1.041533</td>\n",
       "    </tr>\n",
       "    <tr>\n",
       "      <th>C</th>\n",
       "      <th>CA</th>\n",
       "      <td>-0.427718</td>\n",
       "      <td>2.235355</td>\n",
       "    </tr>\n",
       "  </tbody>\n",
       "</table>\n",
       "</div>"
      ],
      "text/plain": [
       "                      a         b\n",
       "class country                    \n",
       "B     CN       0.110237 -1.277053\n",
       "      US      -0.368079  1.041533\n",
       "C     CA      -0.427718  2.235355"
      ]
     },
     "execution_count": 62,
     "metadata": {},
     "output_type": "execute_result"
    }
   ],
   "source": [
    "df.loc[(df.color == 'white') & (df['size'] == 'M'), ['a', 'b']]"
   ]
  },
  {
   "cell_type": "markdown",
   "metadata": {},
   "source": [
    "## 2.4. Appending\n",
    "\n",
    "There are two ways to append data records: `append` a dictionary and `concat` a dataframe"
   ]
  },
  {
   "cell_type": "code",
   "execution_count": 20,
   "metadata": {
    "scrolled": true
   },
   "outputs": [
    {
     "data": {
      "text/html": [
       "<div>\n",
       "<style scoped>\n",
       "    .dataframe tbody tr th:only-of-type {\n",
       "        vertical-align: middle;\n",
       "    }\n",
       "\n",
       "    .dataframe tbody tr th {\n",
       "        vertical-align: top;\n",
       "    }\n",
       "\n",
       "    .dataframe thead th {\n",
       "        text-align: right;\n",
       "    }\n",
       "</style>\n",
       "<table border=\"1\" class=\"dataframe\">\n",
       "  <thead>\n",
       "    <tr style=\"text-align: right;\">\n",
       "      <th></th>\n",
       "      <th>color</th>\n",
       "      <th>size</th>\n",
       "      <th>data</th>\n",
       "      <th>a</th>\n",
       "      <th>b</th>\n",
       "    </tr>\n",
       "  </thead>\n",
       "  <tbody>\n",
       "    <tr>\n",
       "      <th>0</th>\n",
       "      <td>black</td>\n",
       "      <td>S</td>\n",
       "      <td>2019-01-06 00:00:00</td>\n",
       "      <td>-2.004040</td>\n",
       "      <td>2.258491</td>\n",
       "    </tr>\n",
       "    <tr>\n",
       "      <th>1</th>\n",
       "      <td>white</td>\n",
       "      <td>M</td>\n",
       "      <td>2019-01-13 00:00:00</td>\n",
       "      <td>0.110237</td>\n",
       "      <td>-1.277053</td>\n",
       "    </tr>\n",
       "    <tr>\n",
       "      <th>2</th>\n",
       "      <td>black</td>\n",
       "      <td>L</td>\n",
       "      <td>2019-01-20 00:00:00</td>\n",
       "      <td>-0.607797</td>\n",
       "      <td>5.881012</td>\n",
       "    </tr>\n",
       "    <tr>\n",
       "      <th>3</th>\n",
       "      <td>white</td>\n",
       "      <td>M</td>\n",
       "      <td>2019-01-27 00:00:00</td>\n",
       "      <td>-0.368079</td>\n",
       "      <td>1.041533</td>\n",
       "    </tr>\n",
       "    <tr>\n",
       "      <th>4</th>\n",
       "      <td>black</td>\n",
       "      <td>L</td>\n",
       "      <td>2019-02-03 00:00:00</td>\n",
       "      <td>0.346664</td>\n",
       "      <td>-0.054605</td>\n",
       "    </tr>\n",
       "    <tr>\n",
       "      <th>5</th>\n",
       "      <td>white</td>\n",
       "      <td>S</td>\n",
       "      <td>2019-02-10 00:00:00</td>\n",
       "      <td>0.877276</td>\n",
       "      <td>1.243388</td>\n",
       "    </tr>\n",
       "    <tr>\n",
       "      <th>6</th>\n",
       "      <td>black</td>\n",
       "      <td>S</td>\n",
       "      <td>2019-02-17 00:00:00</td>\n",
       "      <td>-0.480872</td>\n",
       "      <td>4.105147</td>\n",
       "    </tr>\n",
       "    <tr>\n",
       "      <th>7</th>\n",
       "      <td>white</td>\n",
       "      <td>XL</td>\n",
       "      <td>2019-02-24 00:00:00</td>\n",
       "      <td>1.415476</td>\n",
       "      <td>3.304951</td>\n",
       "    </tr>\n",
       "    <tr>\n",
       "      <th>8</th>\n",
       "      <td>black</td>\n",
       "      <td>XL</td>\n",
       "      <td>2019-03-03 00:00:00</td>\n",
       "      <td>2.405514</td>\n",
       "      <td>1.850534</td>\n",
       "    </tr>\n",
       "    <tr>\n",
       "      <th>9</th>\n",
       "      <td>white</td>\n",
       "      <td>M</td>\n",
       "      <td>2019-03-10 00:00:00</td>\n",
       "      <td>-0.427718</td>\n",
       "      <td>2.235355</td>\n",
       "    </tr>\n",
       "    <tr>\n",
       "      <th>10</th>\n",
       "      <td>green</td>\n",
       "      <td>XS</td>\n",
       "      <td>2019-02-01 00:00:00</td>\n",
       "      <td>1.000000</td>\n",
       "      <td>-3.000000</td>\n",
       "    </tr>\n",
       "  </tbody>\n",
       "</table>\n",
       "</div>"
      ],
      "text/plain": [
       "    color size                 data         a         b\n",
       "0   black    S  2019-01-06 00:00:00 -2.004040  2.258491\n",
       "1   white    M  2019-01-13 00:00:00  0.110237 -1.277053\n",
       "2   black    L  2019-01-20 00:00:00 -0.607797  5.881012\n",
       "3   white    M  2019-01-27 00:00:00 -0.368079  1.041533\n",
       "4   black    L  2019-02-03 00:00:00  0.346664 -0.054605\n",
       "5   white    S  2019-02-10 00:00:00  0.877276  1.243388\n",
       "6   black    S  2019-02-17 00:00:00 -0.480872  4.105147\n",
       "7   white   XL  2019-02-24 00:00:00  1.415476  3.304951\n",
       "8   black   XL  2019-03-03 00:00:00  2.405514  1.850534\n",
       "9   white    M  2019-03-10 00:00:00 -0.427718  2.235355\n",
       "10  green   XS  2019-02-01 00:00:00  1.000000 -3.000000"
      ]
     },
     "execution_count": 20,
     "metadata": {},
     "output_type": "execute_result"
    }
   ],
   "source": [
    "df2 = pd.DataFrame(data)\n",
    "df2.append({'color': 'green', 'size': 'XS', 'data': '2019-02-01 00:00:00', 'a': 1, 'b': -3}, ignore_index=True)"
   ]
  },
  {
   "cell_type": "markdown",
   "metadata": {},
   "source": [
    "Using `concat` is more efficent way to append two dataframe"
   ]
  },
  {
   "cell_type": "code",
   "execution_count": 21,
   "metadata": {
    "scrolled": false
   },
   "outputs": [
    {
     "data": {
      "text/html": [
       "<div>\n",
       "<style scoped>\n",
       "    .dataframe tbody tr th:only-of-type {\n",
       "        vertical-align: middle;\n",
       "    }\n",
       "\n",
       "    .dataframe tbody tr th {\n",
       "        vertical-align: top;\n",
       "    }\n",
       "\n",
       "    .dataframe thead th {\n",
       "        text-align: right;\n",
       "    }\n",
       "</style>\n",
       "<table border=\"1\" class=\"dataframe\">\n",
       "  <thead>\n",
       "    <tr style=\"text-align: right;\">\n",
       "      <th></th>\n",
       "      <th>color</th>\n",
       "      <th>size</th>\n",
       "      <th>data</th>\n",
       "      <th>a</th>\n",
       "      <th>b</th>\n",
       "      <th>0</th>\n",
       "    </tr>\n",
       "  </thead>\n",
       "  <tbody>\n",
       "    <tr>\n",
       "      <th>0</th>\n",
       "      <td>black</td>\n",
       "      <td>S</td>\n",
       "      <td>2019-01-06</td>\n",
       "      <td>-2.004040</td>\n",
       "      <td>2.258491</td>\n",
       "      <td>4.000000</td>\n",
       "    </tr>\n",
       "    <tr>\n",
       "      <th>1</th>\n",
       "      <td>white</td>\n",
       "      <td>M</td>\n",
       "      <td>2019-01-13</td>\n",
       "      <td>0.110237</td>\n",
       "      <td>-1.277053</td>\n",
       "      <td>5.777778</td>\n",
       "    </tr>\n",
       "    <tr>\n",
       "      <th>2</th>\n",
       "      <td>black</td>\n",
       "      <td>L</td>\n",
       "      <td>2019-01-20</td>\n",
       "      <td>-0.607797</td>\n",
       "      <td>5.881012</td>\n",
       "      <td>7.555556</td>\n",
       "    </tr>\n",
       "    <tr>\n",
       "      <th>3</th>\n",
       "      <td>white</td>\n",
       "      <td>M</td>\n",
       "      <td>2019-01-27</td>\n",
       "      <td>-0.368079</td>\n",
       "      <td>1.041533</td>\n",
       "      <td>9.333333</td>\n",
       "    </tr>\n",
       "    <tr>\n",
       "      <th>4</th>\n",
       "      <td>black</td>\n",
       "      <td>L</td>\n",
       "      <td>2019-02-03</td>\n",
       "      <td>0.346664</td>\n",
       "      <td>-0.054605</td>\n",
       "      <td>11.111111</td>\n",
       "    </tr>\n",
       "    <tr>\n",
       "      <th>5</th>\n",
       "      <td>white</td>\n",
       "      <td>S</td>\n",
       "      <td>2019-02-10</td>\n",
       "      <td>0.877276</td>\n",
       "      <td>1.243388</td>\n",
       "      <td>12.888889</td>\n",
       "    </tr>\n",
       "    <tr>\n",
       "      <th>6</th>\n",
       "      <td>black</td>\n",
       "      <td>S</td>\n",
       "      <td>2019-02-17</td>\n",
       "      <td>-0.480872</td>\n",
       "      <td>4.105147</td>\n",
       "      <td>14.666667</td>\n",
       "    </tr>\n",
       "    <tr>\n",
       "      <th>7</th>\n",
       "      <td>white</td>\n",
       "      <td>XL</td>\n",
       "      <td>2019-02-24</td>\n",
       "      <td>1.415476</td>\n",
       "      <td>3.304951</td>\n",
       "      <td>16.444444</td>\n",
       "    </tr>\n",
       "    <tr>\n",
       "      <th>8</th>\n",
       "      <td>black</td>\n",
       "      <td>XL</td>\n",
       "      <td>2019-03-03</td>\n",
       "      <td>2.405514</td>\n",
       "      <td>1.850534</td>\n",
       "      <td>18.222222</td>\n",
       "    </tr>\n",
       "    <tr>\n",
       "      <th>9</th>\n",
       "      <td>white</td>\n",
       "      <td>M</td>\n",
       "      <td>2019-03-10</td>\n",
       "      <td>-0.427718</td>\n",
       "      <td>2.235355</td>\n",
       "      <td>20.000000</td>\n",
       "    </tr>\n",
       "  </tbody>\n",
       "</table>\n",
       "</div>"
      ],
      "text/plain": [
       "   color size       data         a         b          0\n",
       "0  black    S 2019-01-06 -2.004040  2.258491   4.000000\n",
       "1  white    M 2019-01-13  0.110237 -1.277053   5.777778\n",
       "2  black    L 2019-01-20 -0.607797  5.881012   7.555556\n",
       "3  white    M 2019-01-27 -0.368079  1.041533   9.333333\n",
       "4  black    L 2019-02-03  0.346664 -0.054605  11.111111\n",
       "5  white    S 2019-02-10  0.877276  1.243388  12.888889\n",
       "6  black    S 2019-02-17 -0.480872  4.105147  14.666667\n",
       "7  white   XL 2019-02-24  1.415476  3.304951  16.444444\n",
       "8  black   XL 2019-03-03  2.405514  1.850534  18.222222\n",
       "9  white    M 2019-03-10 -0.427718  2.235355  20.000000"
      ]
     },
     "execution_count": 21,
     "metadata": {},
     "output_type": "execute_result"
    }
   ],
   "source": [
    "temp = dict({'color': ['green'], 'size': ['XS'], 'data': ['2019-02-01 00:00:00'], 'a': [1], 'b': [-3]})\n",
    "\n",
    "# append row wise\n",
    "pd.concat([df2, pd.DataFrame(temp)], axis=0, ignore_index=True)\n",
    "\n",
    "# append column wise\n",
    "temp = pd.Series(np.linspace(4,20,10))\n",
    "pd.concat([df2, temp], axis=1)"
   ]
  },
  {
   "cell_type": "markdown",
   "metadata": {},
   "source": [
    "## 2.5. Evaluating an expression\n",
    "\n",
    "A great feature supported by pandas is expression evaluation. This relies on the `numexpr` library which must be installed."
   ]
  },
  {
   "cell_type": "code",
   "execution_count": 69,
   "metadata": {
    "scrolled": false
   },
   "outputs": [
    {
     "name": "stdout",
     "output_type": "stream",
     "text": [
      "class  country\n",
      "A      JP         0.254450\n",
      "B      CN        -1.166816\n",
      "       US         5.273215\n",
      "       US         0.673455\n",
      "C      US         0.292060\n",
      "A      CN         2.120663\n",
      "B      CN         3.624275\n",
      "A      CA         4.720427\n",
      "C      JP         4.256048\n",
      "       CA         1.807637\n",
      "dtype: float64\n"
     ]
    },
    {
     "data": {
      "text/html": [
       "<div>\n",
       "<style scoped>\n",
       "    .dataframe tbody tr th:only-of-type {\n",
       "        vertical-align: middle;\n",
       "    }\n",
       "\n",
       "    .dataframe tbody tr th {\n",
       "        vertical-align: top;\n",
       "    }\n",
       "\n",
       "    .dataframe thead th {\n",
       "        text-align: right;\n",
       "    }\n",
       "</style>\n",
       "<table border=\"1\" class=\"dataframe\">\n",
       "  <thead>\n",
       "    <tr style=\"text-align: right;\">\n",
       "      <th></th>\n",
       "      <th></th>\n",
       "      <th>color</th>\n",
       "      <th>size</th>\n",
       "      <th>data</th>\n",
       "      <th>a</th>\n",
       "      <th>b</th>\n",
       "      <th>Bool</th>\n",
       "    </tr>\n",
       "    <tr>\n",
       "      <th>class</th>\n",
       "      <th>country</th>\n",
       "      <th></th>\n",
       "      <th></th>\n",
       "      <th></th>\n",
       "      <th></th>\n",
       "      <th></th>\n",
       "      <th></th>\n",
       "    </tr>\n",
       "  </thead>\n",
       "  <tbody>\n",
       "    <tr>\n",
       "      <th>A</th>\n",
       "      <th>JP</th>\n",
       "      <td>black</td>\n",
       "      <td>S</td>\n",
       "      <td>2019-01-06</td>\n",
       "      <td>-2.004040</td>\n",
       "      <td>2.258491</td>\n",
       "      <td>True</td>\n",
       "    </tr>\n",
       "    <tr>\n",
       "      <th rowspan=\"3\" valign=\"top\">B</th>\n",
       "      <th>CN</th>\n",
       "      <td>white</td>\n",
       "      <td>M</td>\n",
       "      <td>2019-01-13</td>\n",
       "      <td>0.110237</td>\n",
       "      <td>-1.277053</td>\n",
       "      <td>False</td>\n",
       "    </tr>\n",
       "    <tr>\n",
       "      <th>US</th>\n",
       "      <td>black</td>\n",
       "      <td>L</td>\n",
       "      <td>2019-01-20</td>\n",
       "      <td>-0.607797</td>\n",
       "      <td>5.881012</td>\n",
       "      <td>True</td>\n",
       "    </tr>\n",
       "    <tr>\n",
       "      <th>US</th>\n",
       "      <td>white</td>\n",
       "      <td>M</td>\n",
       "      <td>2019-01-27</td>\n",
       "      <td>-0.368079</td>\n",
       "      <td>1.041533</td>\n",
       "      <td>True</td>\n",
       "    </tr>\n",
       "    <tr>\n",
       "      <th>C</th>\n",
       "      <th>US</th>\n",
       "      <td>black</td>\n",
       "      <td>L</td>\n",
       "      <td>2019-02-03</td>\n",
       "      <td>0.346664</td>\n",
       "      <td>-0.054605</td>\n",
       "      <td>True</td>\n",
       "    </tr>\n",
       "    <tr>\n",
       "      <th>A</th>\n",
       "      <th>CN</th>\n",
       "      <td>white</td>\n",
       "      <td>S</td>\n",
       "      <td>2019-02-10</td>\n",
       "      <td>0.877276</td>\n",
       "      <td>1.243388</td>\n",
       "      <td>True</td>\n",
       "    </tr>\n",
       "    <tr>\n",
       "      <th>B</th>\n",
       "      <th>CN</th>\n",
       "      <td>black</td>\n",
       "      <td>S</td>\n",
       "      <td>2019-02-17</td>\n",
       "      <td>-0.480872</td>\n",
       "      <td>4.105147</td>\n",
       "      <td>True</td>\n",
       "    </tr>\n",
       "    <tr>\n",
       "      <th>A</th>\n",
       "      <th>CA</th>\n",
       "      <td>white</td>\n",
       "      <td>XL</td>\n",
       "      <td>2019-02-24</td>\n",
       "      <td>1.415476</td>\n",
       "      <td>3.304951</td>\n",
       "      <td>True</td>\n",
       "    </tr>\n",
       "    <tr>\n",
       "      <th rowspan=\"2\" valign=\"top\">C</th>\n",
       "      <th>JP</th>\n",
       "      <td>black</td>\n",
       "      <td>XL</td>\n",
       "      <td>2019-03-03</td>\n",
       "      <td>2.405514</td>\n",
       "      <td>1.850534</td>\n",
       "      <td>True</td>\n",
       "    </tr>\n",
       "    <tr>\n",
       "      <th>CA</th>\n",
       "      <td>white</td>\n",
       "      <td>M</td>\n",
       "      <td>2019-03-10</td>\n",
       "      <td>-0.427718</td>\n",
       "      <td>2.235355</td>\n",
       "      <td>True</td>\n",
       "    </tr>\n",
       "  </tbody>\n",
       "</table>\n",
       "</div>"
      ],
      "text/plain": [
       "               color size       data         a         b   Bool\n",
       "class country                                                  \n",
       "A     JP       black    S 2019-01-06 -2.004040  2.258491   True\n",
       "B     CN       white    M 2019-01-13  0.110237 -1.277053  False\n",
       "      US       black    L 2019-01-20 -0.607797  5.881012   True\n",
       "      US       white    M 2019-01-27 -0.368079  1.041533   True\n",
       "C     US       black    L 2019-02-03  0.346664 -0.054605   True\n",
       "A     CN       white    S 2019-02-10  0.877276  1.243388   True\n",
       "B     CN       black    S 2019-02-17 -0.480872  4.105147   True\n",
       "A     CA       white   XL 2019-02-24  1.415476  3.304951   True\n",
       "C     JP       black   XL 2019-03-03  2.405514  1.850534   True\n",
       "      CA       white    M 2019-03-10 -0.427718  2.235355   True"
      ]
     },
     "execution_count": 69,
     "metadata": {},
     "output_type": "execute_result"
    }
   ],
   "source": [
    "# quick evaluate\n",
    "print(df.eval('a + b'))\n",
    "\n",
    "# directly modify the DataFrame\n",
    "df.eval('Bool = a + b > 0')"
   ]
  },
  {
   "cell_type": "code",
   "execution_count": null,
   "metadata": {},
   "outputs": [],
   "source": []
  },
  {
   "cell_type": "markdown",
   "metadata": {},
   "source": [
    "## 3.1. Group by"
   ]
  },
  {
   "cell_type": "code",
   "execution_count": 63,
   "metadata": {},
   "outputs": [
    {
     "name": "stdout",
     "output_type": "stream",
     "text": [
      "('L',                color size       data         a         b\n",
      "class country                                           \n",
      "B     US       black    L 2019-01-20  0.386777 -0.366475\n",
      "C     US       black    L 2019-02-03  0.304819  1.441471)\n",
      "('M',                color size       data         a         b\n",
      "class country                                           \n",
      "B     CN       white    M 2019-01-13 -1.820500  1.562026\n",
      "      US       white    M 2019-01-27 -1.604988  3.103769\n",
      "C     CA       white    M 2019-03-10 -0.621649 -0.967063)\n",
      "('S',                color size       data         a         b\n",
      "class country                                           \n",
      "A     JP       black    S 2019-01-06  0.652694  2.277243\n",
      "      CN       white    S 2019-02-10 -0.356302  0.380898\n",
      "B     CN       black    S 2019-02-17 -0.440898 -3.134000)\n",
      "('XL',                color size       data         a        b\n",
      "class country                                          \n",
      "A     CA       white   XL 2019-02-24 -1.118385  1.21721\n",
      "C     JP       black   XL 2019-03-03  0.130208  1.06472)\n"
     ]
    }
   ],
   "source": [
    "size_lvl = df.groupby('size')\n",
    "\n",
    "for i in size_lvl:\n",
    "    print(i)"
   ]
  },
  {
   "cell_type": "markdown",
   "metadata": {},
   "source": [
    "## 3.2. Select specific group"
   ]
  },
  {
   "cell_type": "code",
   "execution_count": 65,
   "metadata": {},
   "outputs": [
    {
     "data": {
      "text/html": [
       "<div>\n",
       "<style scoped>\n",
       "    .dataframe tbody tr th:only-of-type {\n",
       "        vertical-align: middle;\n",
       "    }\n",
       "\n",
       "    .dataframe tbody tr th {\n",
       "        vertical-align: top;\n",
       "    }\n",
       "\n",
       "    .dataframe thead th {\n",
       "        text-align: right;\n",
       "    }\n",
       "</style>\n",
       "<table border=\"1\" class=\"dataframe\">\n",
       "  <thead>\n",
       "    <tr style=\"text-align: right;\">\n",
       "      <th></th>\n",
       "      <th></th>\n",
       "      <th>color</th>\n",
       "      <th>size</th>\n",
       "      <th>data</th>\n",
       "      <th>a</th>\n",
       "      <th>b</th>\n",
       "    </tr>\n",
       "    <tr>\n",
       "      <th>class</th>\n",
       "      <th>country</th>\n",
       "      <th></th>\n",
       "      <th></th>\n",
       "      <th></th>\n",
       "      <th></th>\n",
       "      <th></th>\n",
       "    </tr>\n",
       "  </thead>\n",
       "  <tbody>\n",
       "    <tr>\n",
       "      <th rowspan=\"2\" valign=\"top\">B</th>\n",
       "      <th>CN</th>\n",
       "      <td>white</td>\n",
       "      <td>M</td>\n",
       "      <td>2019-01-13</td>\n",
       "      <td>-1.820500</td>\n",
       "      <td>1.562026</td>\n",
       "    </tr>\n",
       "    <tr>\n",
       "      <th>US</th>\n",
       "      <td>white</td>\n",
       "      <td>M</td>\n",
       "      <td>2019-01-27</td>\n",
       "      <td>-1.604988</td>\n",
       "      <td>3.103769</td>\n",
       "    </tr>\n",
       "    <tr>\n",
       "      <th>C</th>\n",
       "      <th>CA</th>\n",
       "      <td>white</td>\n",
       "      <td>M</td>\n",
       "      <td>2019-03-10</td>\n",
       "      <td>-0.621649</td>\n",
       "      <td>-0.967063</td>\n",
       "    </tr>\n",
       "  </tbody>\n",
       "</table>\n",
       "</div>"
      ],
      "text/plain": [
       "               color size       data         a         b\n",
       "class country                                           \n",
       "B     CN       white    M 2019-01-13 -1.820500  1.562026\n",
       "      US       white    M 2019-01-27 -1.604988  3.103769\n",
       "C     CA       white    M 2019-03-10 -0.621649 -0.967063"
      ]
     },
     "execution_count": 65,
     "metadata": {},
     "output_type": "execute_result"
    }
   ],
   "source": [
    "size_lvl.get_group('M')"
   ]
  },
  {
   "cell_type": "markdown",
   "metadata": {},
   "source": [
    "## 4.1. Aggregation"
   ]
  },
  {
   "cell_type": "code",
   "execution_count": 66,
   "metadata": {},
   "outputs": [
    {
     "data": {
      "text/html": [
       "<div>\n",
       "<style scoped>\n",
       "    .dataframe tbody tr th:only-of-type {\n",
       "        vertical-align: middle;\n",
       "    }\n",
       "\n",
       "    .dataframe tbody tr th {\n",
       "        vertical-align: top;\n",
       "    }\n",
       "\n",
       "    .dataframe thead th {\n",
       "        text-align: right;\n",
       "    }\n",
       "</style>\n",
       "<table border=\"1\" class=\"dataframe\">\n",
       "  <thead>\n",
       "    <tr style=\"text-align: right;\">\n",
       "      <th></th>\n",
       "      <th>sum_a</th>\n",
       "      <th>sum_b</th>\n",
       "    </tr>\n",
       "    <tr>\n",
       "      <th>size</th>\n",
       "      <th></th>\n",
       "      <th></th>\n",
       "    </tr>\n",
       "  </thead>\n",
       "  <tbody>\n",
       "    <tr>\n",
       "      <th>L</th>\n",
       "      <td>0.691596</td>\n",
       "      <td>1.074996</td>\n",
       "    </tr>\n",
       "    <tr>\n",
       "      <th>M</th>\n",
       "      <td>-4.047138</td>\n",
       "      <td>3.698732</td>\n",
       "    </tr>\n",
       "    <tr>\n",
       "      <th>S</th>\n",
       "      <td>-0.144507</td>\n",
       "      <td>-0.475860</td>\n",
       "    </tr>\n",
       "    <tr>\n",
       "      <th>XL</th>\n",
       "      <td>-0.988178</td>\n",
       "      <td>2.281930</td>\n",
       "    </tr>\n",
       "  </tbody>\n",
       "</table>\n",
       "</div>"
      ],
      "text/plain": [
       "         sum_a     sum_b\n",
       "size                    \n",
       "L     0.691596  1.074996\n",
       "M    -4.047138  3.698732\n",
       "S    -0.144507 -0.475860\n",
       "XL   -0.988178  2.281930"
      ]
     },
     "execution_count": 66,
     "metadata": {},
     "output_type": "execute_result"
    }
   ],
   "source": [
    "size_lvl.sum().add_prefix('sum_')"
   ]
  },
  {
   "cell_type": "code",
   "execution_count": 67,
   "metadata": {},
   "outputs": [
    {
     "data": {
      "text/html": [
       "<div>\n",
       "<style scoped>\n",
       "    .dataframe tbody tr th:only-of-type {\n",
       "        vertical-align: middle;\n",
       "    }\n",
       "\n",
       "    .dataframe tbody tr th {\n",
       "        vertical-align: top;\n",
       "    }\n",
       "\n",
       "    .dataframe thead th {\n",
       "        text-align: right;\n",
       "    }\n",
       "</style>\n",
       "<table border=\"1\" class=\"dataframe\">\n",
       "  <thead>\n",
       "    <tr style=\"text-align: right;\">\n",
       "      <th></th>\n",
       "      <th></th>\n",
       "      <th>a</th>\n",
       "      <th>b</th>\n",
       "    </tr>\n",
       "    <tr>\n",
       "      <th>size</th>\n",
       "      <th>color</th>\n",
       "      <th></th>\n",
       "      <th></th>\n",
       "    </tr>\n",
       "  </thead>\n",
       "  <tbody>\n",
       "    <tr>\n",
       "      <th>L</th>\n",
       "      <th>black</th>\n",
       "      <td>0.304819</td>\n",
       "      <td>0.537498</td>\n",
       "    </tr>\n",
       "    <tr>\n",
       "      <th>M</th>\n",
       "      <th>white</th>\n",
       "      <td>-1.820500</td>\n",
       "      <td>1.232911</td>\n",
       "    </tr>\n",
       "    <tr>\n",
       "      <th rowspan=\"2\" valign=\"top\">S</th>\n",
       "      <th>black</th>\n",
       "      <td>-0.440898</td>\n",
       "      <td>-0.428379</td>\n",
       "    </tr>\n",
       "    <tr>\n",
       "      <th>white</th>\n",
       "      <td>-0.356302</td>\n",
       "      <td>0.380898</td>\n",
       "    </tr>\n",
       "    <tr>\n",
       "      <th rowspan=\"2\" valign=\"top\">XL</th>\n",
       "      <th>black</th>\n",
       "      <td>0.130208</td>\n",
       "      <td>1.064720</td>\n",
       "    </tr>\n",
       "    <tr>\n",
       "      <th>white</th>\n",
       "      <td>-1.118385</td>\n",
       "      <td>1.217210</td>\n",
       "    </tr>\n",
       "  </tbody>\n",
       "</table>\n",
       "</div>"
      ],
      "text/plain": [
       "                   a         b\n",
       "size color                    \n",
       "L    black  0.304819  0.537498\n",
       "M    white -1.820500  1.232911\n",
       "S    black -0.440898 -0.428379\n",
       "     white -0.356302  0.380898\n",
       "XL   black  0.130208  1.064720\n",
       "     white -1.118385  1.217210"
      ]
     },
     "execution_count": 67,
     "metadata": {},
     "output_type": "execute_result"
    }
   ],
   "source": [
    "df.groupby(['size', 'color']).agg({'a': np.min, 'b': np.mean})"
   ]
  },
  {
   "cell_type": "markdown",
   "metadata": {},
   "source": [
    "## 5.1. Apply customize function"
   ]
  },
  {
   "cell_type": "code",
   "execution_count": 96,
   "metadata": {
    "scrolled": true
   },
   "outputs": [
    {
     "data": {
      "text/html": [
       "<div>\n",
       "<style scoped>\n",
       "    .dataframe tbody tr th:only-of-type {\n",
       "        vertical-align: middle;\n",
       "    }\n",
       "\n",
       "    .dataframe tbody tr th {\n",
       "        vertical-align: top;\n",
       "    }\n",
       "\n",
       "    .dataframe thead th {\n",
       "        text-align: right;\n",
       "    }\n",
       "</style>\n",
       "<table border=\"1\" class=\"dataframe\">\n",
       "  <thead>\n",
       "    <tr style=\"text-align: right;\">\n",
       "      <th></th>\n",
       "      <th></th>\n",
       "      <th>data</th>\n",
       "      <th>a</th>\n",
       "      <th>b</th>\n",
       "    </tr>\n",
       "    <tr>\n",
       "      <th>class</th>\n",
       "      <th>country</th>\n",
       "      <th></th>\n",
       "      <th></th>\n",
       "      <th></th>\n",
       "    </tr>\n",
       "  </thead>\n",
       "  <tbody>\n",
       "    <tr>\n",
       "      <th>A</th>\n",
       "      <th>JP</th>\n",
       "      <td>42 days</td>\n",
       "      <td>1.093592</td>\n",
       "      <td>5.411243</td>\n",
       "    </tr>\n",
       "    <tr>\n",
       "      <th rowspan=\"3\" valign=\"top\">B</th>\n",
       "      <th>CN</th>\n",
       "      <td>56 days</td>\n",
       "      <td>1.198851</td>\n",
       "      <td>4.070832</td>\n",
       "    </tr>\n",
       "    <tr>\n",
       "      <th>US</th>\n",
       "      <td>14 days</td>\n",
       "      <td>0.081958</td>\n",
       "      <td>1.807946</td>\n",
       "    </tr>\n",
       "    <tr>\n",
       "      <th>US</th>\n",
       "      <td>56 days</td>\n",
       "      <td>1.198851</td>\n",
       "      <td>4.070832</td>\n",
       "    </tr>\n",
       "    <tr>\n",
       "      <th>C</th>\n",
       "      <th>US</th>\n",
       "      <td>14 days</td>\n",
       "      <td>0.081958</td>\n",
       "      <td>1.807946</td>\n",
       "    </tr>\n",
       "    <tr>\n",
       "      <th>A</th>\n",
       "      <th>CN</th>\n",
       "      <td>42 days</td>\n",
       "      <td>1.093592</td>\n",
       "      <td>5.411243</td>\n",
       "    </tr>\n",
       "    <tr>\n",
       "      <th>B</th>\n",
       "      <th>CN</th>\n",
       "      <td>42 days</td>\n",
       "      <td>1.093592</td>\n",
       "      <td>5.411243</td>\n",
       "    </tr>\n",
       "    <tr>\n",
       "      <th>A</th>\n",
       "      <th>CA</th>\n",
       "      <td>7 days</td>\n",
       "      <td>1.248593</td>\n",
       "      <td>0.152489</td>\n",
       "    </tr>\n",
       "    <tr>\n",
       "      <th rowspan=\"2\" valign=\"top\">C</th>\n",
       "      <th>JP</th>\n",
       "      <td>7 days</td>\n",
       "      <td>1.248593</td>\n",
       "      <td>0.152489</td>\n",
       "    </tr>\n",
       "    <tr>\n",
       "      <th>CA</th>\n",
       "      <td>56 days</td>\n",
       "      <td>1.198851</td>\n",
       "      <td>4.070832</td>\n",
       "    </tr>\n",
       "  </tbody>\n",
       "</table>\n",
       "</div>"
      ],
      "text/plain": [
       "                 data         a         b\n",
       "class country                            \n",
       "A     JP      42 days  1.093592  5.411243\n",
       "B     CN      56 days  1.198851  4.070832\n",
       "      US      14 days  0.081958  1.807946\n",
       "      US      56 days  1.198851  4.070832\n",
       "C     US      14 days  0.081958  1.807946\n",
       "A     CN      42 days  1.093592  5.411243\n",
       "B     CN      42 days  1.093592  5.411243\n",
       "A     CA       7 days  1.248593  0.152489\n",
       "C     JP       7 days  1.248593  0.152489\n",
       "      CA      56 days  1.198851  4.070832"
      ]
     },
     "execution_count": 96,
     "metadata": {},
     "output_type": "execute_result"
    }
   ],
   "source": [
    "# Transform\n",
    "data_range = lambda x: x.max() - x.min()\n",
    "df.groupby('size').transform(data_range)"
   ]
  },
  {
   "cell_type": "code",
   "execution_count": 98,
   "metadata": {},
   "outputs": [
    {
     "data": {
      "text/plain": [
       "size\n",
       "L     0.081958\n",
       "M     1.198851\n",
       "S     1.093592\n",
       "XL    1.248593\n",
       "Name: a, dtype: float64"
      ]
     },
     "execution_count": 98,
     "metadata": {},
     "output_type": "execute_result"
    }
   ],
   "source": [
    "# Apply\n",
    "df.groupby('size')['a'].apply(lambda x: x.max() - x.min())"
   ]
  },
  {
   "cell_type": "markdown",
   "metadata": {},
   "source": [
    "## 6.1. Rolling\n",
    "\n",
    "Creating a n-row window to aggregate data group by columns. If not enough data, then return `NaN`"
   ]
  },
  {
   "cell_type": "code",
   "execution_count": 90,
   "metadata": {},
   "outputs": [
    {
     "data": {
      "text/plain": [
       "color  class  country\n",
       "black  A      JP              NaN\n",
       "       B      US         1.039471\n",
       "       C      US         0.691596\n",
       "       B      CN        -0.136079\n",
       "       C      JP        -0.310691\n",
       "white  B      CN              NaN\n",
       "              US        -3.425488\n",
       "       A      CN        -1.961290\n",
       "              CA        -1.474688\n",
       "       C      CA        -1.740035\n",
       "Name: a, dtype: float64"
      ]
     },
     "execution_count": 90,
     "metadata": {},
     "output_type": "execute_result"
    }
   ],
   "source": [
    "df.groupby('color').rolling(2).a.sum()"
   ]
  },
  {
   "cell_type": "markdown",
   "metadata": {},
   "source": [
    "## 7.1. Expanding\n",
    "\n",
    "Creating a window to aggregate data group by columns, but the window is increasing every step"
   ]
  },
  {
   "cell_type": "code",
   "execution_count": 84,
   "metadata": {},
   "outputs": [
    {
     "data": {
      "text/plain": [
       "color  class  country\n",
       "black  A      JP         0.652694\n",
       "       B      US         1.039471\n",
       "       C      US         1.344290\n",
       "       B      CN         0.903392\n",
       "       C      JP         1.033599\n",
       "white  B      CN        -1.820500\n",
       "              US        -3.425488\n",
       "       A      CN        -3.781790\n",
       "              CA        -4.900176\n",
       "       C      CA        -5.521825\n",
       "Name: a, dtype: float64"
      ]
     },
     "execution_count": 84,
     "metadata": {},
     "output_type": "execute_result"
    }
   ],
   "source": [
    "# Cumulative sum\n",
    "df.groupby('color').expanding(1).a.sum()"
   ]
  },
  {
   "cell_type": "markdown",
   "metadata": {},
   "source": [
    "## 8.1. Filter"
   ]
  },
  {
   "cell_type": "code",
   "execution_count": 91,
   "metadata": {},
   "outputs": [
    {
     "data": {
      "text/html": [
       "<div>\n",
       "<style scoped>\n",
       "    .dataframe tbody tr th:only-of-type {\n",
       "        vertical-align: middle;\n",
       "    }\n",
       "\n",
       "    .dataframe tbody tr th {\n",
       "        vertical-align: top;\n",
       "    }\n",
       "\n",
       "    .dataframe thead th {\n",
       "        text-align: right;\n",
       "    }\n",
       "</style>\n",
       "<table border=\"1\" class=\"dataframe\">\n",
       "  <thead>\n",
       "    <tr style=\"text-align: right;\">\n",
       "      <th></th>\n",
       "      <th></th>\n",
       "      <th>color</th>\n",
       "      <th>size</th>\n",
       "      <th>data</th>\n",
       "      <th>a</th>\n",
       "      <th>b</th>\n",
       "    </tr>\n",
       "    <tr>\n",
       "      <th>class</th>\n",
       "      <th>country</th>\n",
       "      <th></th>\n",
       "      <th></th>\n",
       "      <th></th>\n",
       "      <th></th>\n",
       "      <th></th>\n",
       "    </tr>\n",
       "  </thead>\n",
       "  <tbody>\n",
       "    <tr>\n",
       "      <th rowspan=\"4\" valign=\"top\">B</th>\n",
       "      <th>CN</th>\n",
       "      <td>white</td>\n",
       "      <td>M</td>\n",
       "      <td>2019-01-13</td>\n",
       "      <td>-1.820500</td>\n",
       "      <td>1.562026</td>\n",
       "    </tr>\n",
       "    <tr>\n",
       "      <th>US</th>\n",
       "      <td>black</td>\n",
       "      <td>L</td>\n",
       "      <td>2019-01-20</td>\n",
       "      <td>0.386777</td>\n",
       "      <td>-0.366475</td>\n",
       "    </tr>\n",
       "    <tr>\n",
       "      <th>US</th>\n",
       "      <td>white</td>\n",
       "      <td>M</td>\n",
       "      <td>2019-01-27</td>\n",
       "      <td>-1.604988</td>\n",
       "      <td>3.103769</td>\n",
       "    </tr>\n",
       "    <tr>\n",
       "      <th>CN</th>\n",
       "      <td>black</td>\n",
       "      <td>S</td>\n",
       "      <td>2019-02-17</td>\n",
       "      <td>-0.440898</td>\n",
       "      <td>-3.134000</td>\n",
       "    </tr>\n",
       "  </tbody>\n",
       "</table>\n",
       "</div>"
      ],
      "text/plain": [
       "               color size       data         a         b\n",
       "class country                                           \n",
       "B     CN       white    M 2019-01-13 -1.820500  1.562026\n",
       "      US       black    L 2019-01-20  0.386777 -0.366475\n",
       "      US       white    M 2019-01-27 -1.604988  3.103769\n",
       "      CN       black    S 2019-02-17 -0.440898 -3.134000"
      ]
     },
     "execution_count": 91,
     "metadata": {},
     "output_type": "execute_result"
    }
   ],
   "source": [
    "df.groupby('class').filter(lambda x: len(x) > 3)"
   ]
  },
  {
   "cell_type": "markdown",
   "metadata": {},
   "source": [
    "## 9.1 Evaluating an expression"
   ]
  },
  {
   "cell_type": "code",
   "execution_count": null,
   "metadata": {},
   "outputs": [],
   "source": []
  }
 ],
 "metadata": {
  "kernelspec": {
   "display_name": "Python 3",
   "language": "python",
   "name": "python3"
  },
  "language_info": {
   "codemirror_mode": {
    "name": "ipython",
    "version": 3
   },
   "file_extension": ".py",
   "mimetype": "text/x-python",
   "name": "python",
   "nbconvert_exporter": "python",
   "pygments_lexer": "ipython3",
   "version": "3.7.3"
  }
 },
 "nbformat": 4,
 "nbformat_minor": 2
}
