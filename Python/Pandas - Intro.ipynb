{
 "cells": [
  {
   "cell_type": "markdown",
   "metadata": {},
   "source": [
    "# Pandas - Introduction\n",
    "\n",
    "`Pandas` is a package built on top of `NumPy`, which is consist of Series and DataFrame objects, and provides an efficient implementation of a DataFrame. DataFrames are essentially multidimensional arrays with attached row and column labels, and often with heterogeneous types and/or missing data. As well as offering a convenient storage interface for labeled data, Pandas implements a number of powerful data operations familiar to users of both database frameworks and spreadsheet programs.\n",
    "\n",
    "Pandas has more flexibility (e.g., attaching labels to data, working with missing data, etc.) and when attempting operations that do not map well to element-wise broadcasting (e.g., groupings, pivots, etc.), each of which is an important piece of analyzing the less structured data available in many forms in the world around us.\n",
    "\n",
    "* Pandas series, DataFrame\n",
    "* Quick checking DataFrame\n",
    "* Descriptive stats on DataFrame\n",
    "* Indexing, slicing, conditional subsetting\n",
    "* Basic operations"
   ]
  },
  {
   "cell_type": "code",
   "execution_count": 1,
   "metadata": {},
   "outputs": [],
   "source": [
    "import numpy as np\n",
    "import pandas as pd"
   ]
  },
  {
   "cell_type": "markdown",
   "metadata": {},
   "source": [
    "## 1.1. Series Object\n",
    "\n",
    "The Series object is basically interchangeable with a one-dimensional NumPy array. The essential difference is the presence of the index: while the Numpy Array has an implicitly defined integer index used to access the values, the Pandas Series has an explicitly defined index associated with the values, which can access with the `values` and `index` attributes."
   ]
  },
  {
   "cell_type": "code",
   "execution_count": 2,
   "metadata": {
    "scrolled": false
   },
   "outputs": [
    {
     "data": {
      "text/plain": [
       "alice      0.25\n",
       "bob        0.50\n",
       "charles    0.75\n",
       "darwin     1.00\n",
       "dtype: float64"
      ]
     },
     "execution_count": 2,
     "metadata": {},
     "output_type": "execute_result"
    }
   ],
   "source": [
    "s = pd.Series([0.25, 0.5, 0.75, 1.0], index=[\"alice\", \"bob\", \"charles\", \"darwin\"])\n",
    "s"
   ]
  },
  {
   "cell_type": "code",
   "execution_count": 3,
   "metadata": {},
   "outputs": [
    {
     "data": {
      "text/plain": [
       "array([0.25, 0.5 , 0.75, 1.  ])"
      ]
     },
     "execution_count": 3,
     "metadata": {},
     "output_type": "execute_result"
    }
   ],
   "source": [
    "# series items\n",
    "s.values"
   ]
  },
  {
   "cell_type": "code",
   "execution_count": 4,
   "metadata": {},
   "outputs": [
    {
     "data": {
      "text/plain": [
       "Index(['alice', 'bob', 'charles', 'darwin'], dtype='object')"
      ]
     },
     "execution_count": 4,
     "metadata": {},
     "output_type": "execute_result"
    }
   ],
   "source": [
    "# series keys\n",
    "s.index"
   ]
  },
  {
   "cell_type": "markdown",
   "metadata": {},
   "source": [
    "The Pandas Series is also like a specialization of a Python dictionary. A dictionary is a structure that maps arbitrary keys to a set of arbitrary values, and a Series is a structure which maps typed keys to a set of typed values. **This typing is important: just as the type-specific compiled code behind a NumPy array makes it more efficient than a Python list for certain operations, the type information of a Pandas Series makes it much more efficient than Python dictionaries for certain operations.**"
   ]
  },
  {
   "cell_type": "code",
   "execution_count": 5,
   "metadata": {},
   "outputs": [
    {
     "data": {
      "text/plain": [
       "color    black\n",
       "size         S\n",
       "a            0\n",
       "b            1\n",
       "dtype: object"
      ]
     },
     "execution_count": 5,
     "metadata": {},
     "output_type": "execute_result"
    }
   ],
   "source": [
    "# Using a pre-defined Dictionary object\n",
    "s = {'color': 'black',\n",
    "     'size': 'S',\n",
    "     'a': 0,\n",
    "     'b': 1}\n",
    "\n",
    "pd.Series(s)"
   ]
  },
  {
   "cell_type": "markdown",
   "metadata": {},
   "source": [
    "## 1.2. DataFrame Object\n",
    "\n",
    "The DataFrame can be thought of either as a generalization of a NumPy array, or as a specialization of a Python dictionary. A DataFrame is an analog of a two-dimensional array with both flexible row indices and flexible column names. We can create a DataFrame by `Series` and `Dictionary` with specific index, and it will conduct together even different length of series."
   ]
  },
  {
   "cell_type": "code",
   "execution_count": 6,
   "metadata": {},
   "outputs": [
    {
     "data": {
      "text/html": [
       "<div>\n",
       "<style scoped>\n",
       "    .dataframe tbody tr th:only-of-type {\n",
       "        vertical-align: middle;\n",
       "    }\n",
       "\n",
       "    .dataframe tbody tr th {\n",
       "        vertical-align: top;\n",
       "    }\n",
       "\n",
       "    .dataframe thead th {\n",
       "        text-align: right;\n",
       "    }\n",
       "</style>\n",
       "<table border=\"1\" class=\"dataframe\">\n",
       "  <thead>\n",
       "    <tr style=\"text-align: right;\">\n",
       "      <th></th>\n",
       "      <th>one</th>\n",
       "      <th>two</th>\n",
       "    </tr>\n",
       "  </thead>\n",
       "  <tbody>\n",
       "    <tr>\n",
       "      <th>a</th>\n",
       "      <td>0.0</td>\n",
       "      <td>1</td>\n",
       "    </tr>\n",
       "    <tr>\n",
       "      <th>b</th>\n",
       "      <td>1.0</td>\n",
       "      <td>2</td>\n",
       "    </tr>\n",
       "    <tr>\n",
       "      <th>c</th>\n",
       "      <td>2.0</td>\n",
       "      <td>3</td>\n",
       "    </tr>\n",
       "    <tr>\n",
       "      <th>d</th>\n",
       "      <td>3.0</td>\n",
       "      <td>4</td>\n",
       "    </tr>\n",
       "    <tr>\n",
       "      <th>e</th>\n",
       "      <td>4.0</td>\n",
       "      <td>5</td>\n",
       "    </tr>\n",
       "    <tr>\n",
       "      <th>f</th>\n",
       "      <td>NaN</td>\n",
       "      <td>6</td>\n",
       "    </tr>\n",
       "  </tbody>\n",
       "</table>\n",
       "</div>"
      ],
      "text/plain": [
       "   one  two\n",
       "a  0.0    1\n",
       "b  1.0    2\n",
       "c  2.0    3\n",
       "d  3.0    4\n",
       "e  4.0    5\n",
       "f  NaN    6"
      ]
     },
     "execution_count": 6,
     "metadata": {},
     "output_type": "execute_result"
    }
   ],
   "source": [
    "# create DataFrame by series with index\n",
    "data = {'one': pd.Series(list(range(0,5)), index=['a','b','c','d','e']),\n",
    "       'two': pd.Series(list(range(1,7)), index=['a','b','c','d','e','f'])}\n",
    "\n",
    "pd.DataFrame(data)"
   ]
  },
  {
   "cell_type": "code",
   "execution_count": 7,
   "metadata": {},
   "outputs": [
    {
     "data": {
      "text/html": [
       "<div>\n",
       "<style scoped>\n",
       "    .dataframe tbody tr th:only-of-type {\n",
       "        vertical-align: middle;\n",
       "    }\n",
       "\n",
       "    .dataframe tbody tr th {\n",
       "        vertical-align: top;\n",
       "    }\n",
       "\n",
       "    .dataframe thead th {\n",
       "        text-align: right;\n",
       "    }\n",
       "</style>\n",
       "<table border=\"1\" class=\"dataframe\">\n",
       "  <thead>\n",
       "    <tr style=\"text-align: right;\">\n",
       "      <th></th>\n",
       "      <th>color</th>\n",
       "      <th>size</th>\n",
       "      <th>date</th>\n",
       "      <th>a</th>\n",
       "      <th>b</th>\n",
       "    </tr>\n",
       "  </thead>\n",
       "  <tbody>\n",
       "    <tr>\n",
       "      <th>1</th>\n",
       "      <td>black</td>\n",
       "      <td>S</td>\n",
       "      <td>2019-01-06</td>\n",
       "      <td>0.053487</td>\n",
       "      <td>0.451937</td>\n",
       "    </tr>\n",
       "    <tr>\n",
       "      <th>2</th>\n",
       "      <td>white</td>\n",
       "      <td>M</td>\n",
       "      <td>2019-01-13</td>\n",
       "      <td>0.838650</td>\n",
       "      <td>0.813639</td>\n",
       "    </tr>\n",
       "    <tr>\n",
       "      <th>3</th>\n",
       "      <td>red</td>\n",
       "      <td>L</td>\n",
       "      <td>2019-01-20</td>\n",
       "      <td>0.456919</td>\n",
       "      <td>2.493170</td>\n",
       "    </tr>\n",
       "    <tr>\n",
       "      <th>4</th>\n",
       "      <td>white</td>\n",
       "      <td>M</td>\n",
       "      <td>2019-01-27</td>\n",
       "      <td>-1.224732</td>\n",
       "      <td>-1.017963</td>\n",
       "    </tr>\n",
       "    <tr>\n",
       "      <th>5</th>\n",
       "      <td>green</td>\n",
       "      <td>XL</td>\n",
       "      <td>2019-02-03</td>\n",
       "      <td>1.564027</td>\n",
       "      <td>0.780043</td>\n",
       "    </tr>\n",
       "  </tbody>\n",
       "</table>\n",
       "</div>"
      ],
      "text/plain": [
       "   color size       date         a         b\n",
       "1  black    S 2019-01-06  0.053487  0.451937\n",
       "2  white    M 2019-01-13  0.838650  0.813639\n",
       "3    red    L 2019-01-20  0.456919  2.493170\n",
       "4  white    M 2019-01-27 -1.224732 -1.017963\n",
       "5  green   XL 2019-02-03  1.564027  0.780043"
      ]
     },
     "execution_count": 7,
     "metadata": {},
     "output_type": "execute_result"
    }
   ],
   "source": [
    "# create DataFrame by dictionary\n",
    "data = {'color': ['black', 'white', 'red', 'white', 'green'],\n",
    "        'size': ['S', 'M', 'L', 'M', 'XL'],\n",
    "        'date': pd.date_range('1/1/2019', periods=5, freq='W'),\n",
    "        'a': np.random.randn(5),\n",
    "        'b': np.random.normal(0.5, 2, 5)}\n",
    "\n",
    "df = pd.DataFrame(data, index=range(1,6))\n",
    "df"
   ]
  },
  {
   "cell_type": "code",
   "execution_count": 8,
   "metadata": {},
   "outputs": [
    {
     "data": {
      "text/plain": [
       "RangeIndex(start=1, stop=6, step=1)"
      ]
     },
     "execution_count": 8,
     "metadata": {},
     "output_type": "execute_result"
    }
   ],
   "source": [
    "# access to the index labels\n",
    "df.index"
   ]
  },
  {
   "cell_type": "code",
   "execution_count": 9,
   "metadata": {},
   "outputs": [
    {
     "data": {
      "text/plain": [
       "Index(['color', 'size', 'date', 'a', 'b'], dtype='object')"
      ]
     },
     "execution_count": 9,
     "metadata": {},
     "output_type": "execute_result"
    }
   ],
   "source": [
    "# access to the column lables\n",
    "df.columns"
   ]
  },
  {
   "cell_type": "markdown",
   "metadata": {},
   "source": [
    "DataFrame can be created reading directly from a CSV or an Excel file using `pd.read_csv` and `pd.read_excel`"
   ]
  },
  {
   "cell_type": "code",
   "execution_count": 10,
   "metadata": {},
   "outputs": [
    {
     "data": {
      "text/html": [
       "<div>\n",
       "<style scoped>\n",
       "    .dataframe tbody tr th:only-of-type {\n",
       "        vertical-align: middle;\n",
       "    }\n",
       "\n",
       "    .dataframe tbody tr th {\n",
       "        vertical-align: top;\n",
       "    }\n",
       "\n",
       "    .dataframe thead th {\n",
       "        text-align: right;\n",
       "    }\n",
       "</style>\n",
       "<table border=\"1\" class=\"dataframe\">\n",
       "  <thead>\n",
       "    <tr style=\"text-align: right;\">\n",
       "      <th></th>\n",
       "      <th>ACT</th>\n",
       "      <th>FinalExam</th>\n",
       "      <th>QuizAvg</th>\n",
       "      <th>TestAvg</th>\n",
       "    </tr>\n",
       "  </thead>\n",
       "  <tbody>\n",
       "    <tr>\n",
       "      <th>0</th>\n",
       "      <td>33</td>\n",
       "      <td>181</td>\n",
       "      <td>95</td>\n",
       "      <td>89</td>\n",
       "    </tr>\n",
       "    <tr>\n",
       "      <th>1</th>\n",
       "      <td>31</td>\n",
       "      <td>169</td>\n",
       "      <td>81</td>\n",
       "      <td>89</td>\n",
       "    </tr>\n",
       "    <tr>\n",
       "      <th>2</th>\n",
       "      <td>21</td>\n",
       "      <td>176</td>\n",
       "      <td>65</td>\n",
       "      <td>68</td>\n",
       "    </tr>\n",
       "    <tr>\n",
       "      <th>3</th>\n",
       "      <td>25</td>\n",
       "      <td>181</td>\n",
       "      <td>66</td>\n",
       "      <td>90</td>\n",
       "    </tr>\n",
       "    <tr>\n",
       "      <th>4</th>\n",
       "      <td>29</td>\n",
       "      <td>169</td>\n",
       "      <td>89</td>\n",
       "      <td>81</td>\n",
       "    </tr>\n",
       "  </tbody>\n",
       "</table>\n",
       "</div>"
      ],
      "text/plain": [
       "   ACT  FinalExam  QuizAvg  TestAvg\n",
       "0   33        181       95       89\n",
       "1   31        169       81       89\n",
       "2   21        176       65       68\n",
       "3   25        181       66       90\n",
       "4   29        169       89       81"
      ]
     },
     "execution_count": 10,
     "metadata": {},
     "output_type": "execute_result"
    }
   ],
   "source": [
    "pd.read_csv('../Data/Test_Scores.csv').head()"
   ]
  },
  {
   "cell_type": "markdown",
   "metadata": {},
   "source": [
    "## 1.3. Index Object"
   ]
  },
  {
   "cell_type": "markdown",
   "metadata": {},
   "source": [
    "This Index object is an interesting structure in itself, and it can be thought of either as an immutable array or as an ordered set (technically a multi-set, as Index objects may contain repeated values). Index objects also have many of the attributes familiar from NumPy arrays, but they are immutable - that is, they cannot be modified."
   ]
  },
  {
   "cell_type": "code",
   "execution_count": 11,
   "metadata": {},
   "outputs": [
    {
     "data": {
      "text/plain": [
       "Index([['A', 'B', 'B', 'B', 'C'], ['JP', 'CN', 'US', 'US', 'US']], dtype='object')"
      ]
     },
     "execution_count": 11,
     "metadata": {},
     "output_type": "execute_result"
    }
   ],
   "source": [
    "index = [['A', 'B', 'B', 'B', 'C'], ['JP', 'CN', 'US', 'US', 'US']]\n",
    "\n",
    "ind = pd.Index(index)\n",
    "ind"
   ]
  },
  {
   "cell_type": "markdown",
   "metadata": {},
   "source": [
    "The Index object follows many of the conventions used by Python's built-in `set` data structure, so that unions, intersections, differences, and other combinations can be computed in a familiar way:"
   ]
  },
  {
   "cell_type": "code",
   "execution_count": 12,
   "metadata": {
    "scrolled": false
   },
   "outputs": [
    {
     "name": "stdout",
     "output_type": "stream",
     "text": [
      "Int64Index([3, 5, 7], dtype='int64')\n",
      "Int64Index([1, 2, 3, 5, 7, 9, 11], dtype='int64')\n",
      "Int64Index([1, 2, 9, 11], dtype='int64')\n"
     ]
    }
   ],
   "source": [
    "indA = pd.Index([1, 3, 5, 7, 9])\n",
    "indB = pd.Index([2, 3, 5, 7, 11])\n",
    "\n",
    "# intersection\n",
    "print(indA & indB)\n",
    "\n",
    "# union\n",
    "print(indA | indB)\n",
    "\n",
    "# symmetric difference\n",
    "print(indA ^ indB)"
   ]
  },
  {
   "cell_type": "code",
   "execution_count": 13,
   "metadata": {},
   "outputs": [
    {
     "data": {
      "text/html": [
       "<div>\n",
       "<style scoped>\n",
       "    .dataframe tbody tr th:only-of-type {\n",
       "        vertical-align: middle;\n",
       "    }\n",
       "\n",
       "    .dataframe tbody tr th {\n",
       "        vertical-align: top;\n",
       "    }\n",
       "\n",
       "    .dataframe thead th {\n",
       "        text-align: right;\n",
       "    }\n",
       "</style>\n",
       "<table border=\"1\" class=\"dataframe\">\n",
       "  <thead>\n",
       "    <tr style=\"text-align: right;\">\n",
       "      <th></th>\n",
       "      <th>color</th>\n",
       "      <th>size</th>\n",
       "      <th>date</th>\n",
       "      <th>a</th>\n",
       "      <th>b</th>\n",
       "    </tr>\n",
       "  </thead>\n",
       "  <tbody>\n",
       "    <tr>\n",
       "      <th>A</th>\n",
       "      <td>black</td>\n",
       "      <td>S</td>\n",
       "      <td>2019-01-06</td>\n",
       "      <td>0.053487</td>\n",
       "      <td>0.451937</td>\n",
       "    </tr>\n",
       "    <tr>\n",
       "      <th>B</th>\n",
       "      <td>white</td>\n",
       "      <td>M</td>\n",
       "      <td>2019-01-13</td>\n",
       "      <td>0.838650</td>\n",
       "      <td>0.813639</td>\n",
       "    </tr>\n",
       "    <tr>\n",
       "      <th>C</th>\n",
       "      <td>red</td>\n",
       "      <td>L</td>\n",
       "      <td>2019-01-20</td>\n",
       "      <td>0.456919</td>\n",
       "      <td>2.493170</td>\n",
       "    </tr>\n",
       "    <tr>\n",
       "      <th>D</th>\n",
       "      <td>white</td>\n",
       "      <td>M</td>\n",
       "      <td>2019-01-27</td>\n",
       "      <td>-1.224732</td>\n",
       "      <td>-1.017963</td>\n",
       "    </tr>\n",
       "    <tr>\n",
       "      <th>E</th>\n",
       "      <td>green</td>\n",
       "      <td>XL</td>\n",
       "      <td>2019-02-03</td>\n",
       "      <td>1.564027</td>\n",
       "      <td>0.780043</td>\n",
       "    </tr>\n",
       "  </tbody>\n",
       "</table>\n",
       "</div>"
      ],
      "text/plain": [
       "   color size       date         a         b\n",
       "A  black    S 2019-01-06  0.053487  0.451937\n",
       "B  white    M 2019-01-13  0.838650  0.813639\n",
       "C    red    L 2019-01-20  0.456919  2.493170\n",
       "D  white    M 2019-01-27 -1.224732 -1.017963\n",
       "E  green   XL 2019-02-03  1.564027  0.780043"
      ]
     },
     "execution_count": 13,
     "metadata": {},
     "output_type": "execute_result"
    }
   ],
   "source": [
    "# Adding single-indexing to dataframe\n",
    "df.set_index(pd.Index(['A', 'B', 'C', 'D', 'E']), inplace=True)\n",
    "df"
   ]
  },
  {
   "cell_type": "code",
   "execution_count": 14,
   "metadata": {},
   "outputs": [
    {
     "data": {
      "text/html": [
       "<div>\n",
       "<style scoped>\n",
       "    .dataframe tbody tr th:only-of-type {\n",
       "        vertical-align: middle;\n",
       "    }\n",
       "\n",
       "    .dataframe tbody tr th {\n",
       "        vertical-align: top;\n",
       "    }\n",
       "\n",
       "    .dataframe thead th {\n",
       "        text-align: right;\n",
       "    }\n",
       "</style>\n",
       "<table border=\"1\" class=\"dataframe\">\n",
       "  <thead>\n",
       "    <tr style=\"text-align: right;\">\n",
       "      <th></th>\n",
       "      <th>index</th>\n",
       "      <th>color</th>\n",
       "      <th>size</th>\n",
       "      <th>date</th>\n",
       "      <th>a</th>\n",
       "      <th>b</th>\n",
       "    </tr>\n",
       "  </thead>\n",
       "  <tbody>\n",
       "    <tr>\n",
       "      <th>0</th>\n",
       "      <td>A</td>\n",
       "      <td>black</td>\n",
       "      <td>S</td>\n",
       "      <td>2019-01-06</td>\n",
       "      <td>0.053487</td>\n",
       "      <td>0.451937</td>\n",
       "    </tr>\n",
       "    <tr>\n",
       "      <th>1</th>\n",
       "      <td>B</td>\n",
       "      <td>white</td>\n",
       "      <td>M</td>\n",
       "      <td>2019-01-13</td>\n",
       "      <td>0.838650</td>\n",
       "      <td>0.813639</td>\n",
       "    </tr>\n",
       "    <tr>\n",
       "      <th>2</th>\n",
       "      <td>C</td>\n",
       "      <td>red</td>\n",
       "      <td>L</td>\n",
       "      <td>2019-01-20</td>\n",
       "      <td>0.456919</td>\n",
       "      <td>2.493170</td>\n",
       "    </tr>\n",
       "    <tr>\n",
       "      <th>3</th>\n",
       "      <td>D</td>\n",
       "      <td>white</td>\n",
       "      <td>M</td>\n",
       "      <td>2019-01-27</td>\n",
       "      <td>-1.224732</td>\n",
       "      <td>-1.017963</td>\n",
       "    </tr>\n",
       "    <tr>\n",
       "      <th>4</th>\n",
       "      <td>E</td>\n",
       "      <td>green</td>\n",
       "      <td>XL</td>\n",
       "      <td>2019-02-03</td>\n",
       "      <td>1.564027</td>\n",
       "      <td>0.780043</td>\n",
       "    </tr>\n",
       "  </tbody>\n",
       "</table>\n",
       "</div>"
      ],
      "text/plain": [
       "  index  color size       date         a         b\n",
       "0     A  black    S 2019-01-06  0.053487  0.451937\n",
       "1     B  white    M 2019-01-13  0.838650  0.813639\n",
       "2     C    red    L 2019-01-20  0.456919  2.493170\n",
       "3     D  white    M 2019-01-27 -1.224732 -1.017963\n",
       "4     E  green   XL 2019-02-03  1.564027  0.780043"
      ]
     },
     "execution_count": 14,
     "metadata": {},
     "output_type": "execute_result"
    }
   ],
   "source": [
    "# reset index from 0\n",
    "df.reset_index()"
   ]
  },
  {
   "cell_type": "markdown",
   "metadata": {},
   "source": [
    "## 2. Quick Checking DataFrames"
   ]
  },
  {
   "cell_type": "code",
   "execution_count": 15,
   "metadata": {},
   "outputs": [
    {
     "data": {
      "text/html": [
       "<div>\n",
       "<style scoped>\n",
       "    .dataframe tbody tr th:only-of-type {\n",
       "        vertical-align: middle;\n",
       "    }\n",
       "\n",
       "    .dataframe tbody tr th {\n",
       "        vertical-align: top;\n",
       "    }\n",
       "\n",
       "    .dataframe thead th {\n",
       "        text-align: right;\n",
       "    }\n",
       "</style>\n",
       "<table border=\"1\" class=\"dataframe\">\n",
       "  <thead>\n",
       "    <tr style=\"text-align: right;\">\n",
       "      <th></th>\n",
       "      <th>color</th>\n",
       "      <th>size</th>\n",
       "      <th>date</th>\n",
       "      <th>a</th>\n",
       "      <th>b</th>\n",
       "    </tr>\n",
       "  </thead>\n",
       "  <tbody>\n",
       "    <tr>\n",
       "      <th>A</th>\n",
       "      <td>black</td>\n",
       "      <td>S</td>\n",
       "      <td>2019-01-06</td>\n",
       "      <td>0.053487</td>\n",
       "      <td>0.451937</td>\n",
       "    </tr>\n",
       "    <tr>\n",
       "      <th>B</th>\n",
       "      <td>white</td>\n",
       "      <td>M</td>\n",
       "      <td>2019-01-13</td>\n",
       "      <td>0.838650</td>\n",
       "      <td>0.813639</td>\n",
       "    </tr>\n",
       "    <tr>\n",
       "      <th>D</th>\n",
       "      <td>white</td>\n",
       "      <td>M</td>\n",
       "      <td>2019-01-27</td>\n",
       "      <td>-1.224732</td>\n",
       "      <td>-1.017963</td>\n",
       "    </tr>\n",
       "  </tbody>\n",
       "</table>\n",
       "</div>"
      ],
      "text/plain": [
       "   color size       date         a         b\n",
       "A  black    S 2019-01-06  0.053487  0.451937\n",
       "B  white    M 2019-01-13  0.838650  0.813639\n",
       "D  white    M 2019-01-27 -1.224732 -1.017963"
      ]
     },
     "execution_count": 15,
     "metadata": {},
     "output_type": "execute_result"
    }
   ],
   "source": [
    "# select top 3\n",
    "df.head(3)\n",
    "\n",
    "# select last 3\n",
    "df.tail(3)\n",
    "\n",
    "# sample data\n",
    "df.sample(3)"
   ]
  },
  {
   "cell_type": "code",
   "execution_count": 16,
   "metadata": {},
   "outputs": [
    {
     "data": {
      "text/plain": [
       "color            object\n",
       "size             object\n",
       "date     datetime64[ns]\n",
       "a               float64\n",
       "b               float64\n",
       "dtype: object"
      ]
     },
     "execution_count": 16,
     "metadata": {},
     "output_type": "execute_result"
    }
   ],
   "source": [
    "# check data type\n",
    "df.dtypes"
   ]
  },
  {
   "cell_type": "code",
   "execution_count": 17,
   "metadata": {},
   "outputs": [
    {
     "data": {
      "text/plain": [
       "A    0\n",
       "B    0\n",
       "C    0\n",
       "D   -1\n",
       "E    1\n",
       "Name: a, dtype: int32"
      ]
     },
     "execution_count": 17,
     "metadata": {},
     "output_type": "execute_result"
    }
   ],
   "source": [
    "# change data type\n",
    "df.a.astype(int)"
   ]
  },
  {
   "cell_type": "code",
   "execution_count": 18,
   "metadata": {},
   "outputs": [
    {
     "name": "stdout",
     "output_type": "stream",
     "text": [
      "<class 'pandas.core.frame.DataFrame'>\n",
      "Index: 5 entries, A to E\n",
      "Data columns (total 5 columns):\n",
      " #   Column  Non-Null Count  Dtype         \n",
      "---  ------  --------------  -----         \n",
      " 0   color   5 non-null      object        \n",
      " 1   size    5 non-null      object        \n",
      " 2   date    5 non-null      datetime64[ns]\n",
      " 3   a       5 non-null      float64       \n",
      " 4   b       5 non-null      float64       \n",
      "dtypes: datetime64[ns](1), float64(2), object(2)\n",
      "memory usage: 400.0+ bytes\n"
     ]
    }
   ],
   "source": [
    "# check data information\n",
    "df.info()"
   ]
  },
  {
   "cell_type": "markdown",
   "metadata": {},
   "source": [
    "## 3. Basic Descriptive Statistics"
   ]
  },
  {
   "cell_type": "code",
   "execution_count": 19,
   "metadata": {
    "scrolled": true
   },
   "outputs": [
    {
     "data": {
      "text/html": [
       "<div>\n",
       "<style scoped>\n",
       "    .dataframe tbody tr th:only-of-type {\n",
       "        vertical-align: middle;\n",
       "    }\n",
       "\n",
       "    .dataframe tbody tr th {\n",
       "        vertical-align: top;\n",
       "    }\n",
       "\n",
       "    .dataframe thead th {\n",
       "        text-align: right;\n",
       "    }\n",
       "</style>\n",
       "<table border=\"1\" class=\"dataframe\">\n",
       "  <thead>\n",
       "    <tr style=\"text-align: right;\">\n",
       "      <th></th>\n",
       "      <th>a</th>\n",
       "      <th>b</th>\n",
       "    </tr>\n",
       "  </thead>\n",
       "  <tbody>\n",
       "    <tr>\n",
       "      <th>count</th>\n",
       "      <td>5.000000</td>\n",
       "      <td>5.000000</td>\n",
       "    </tr>\n",
       "    <tr>\n",
       "      <th>mean</th>\n",
       "      <td>0.337670</td>\n",
       "      <td>0.704165</td>\n",
       "    </tr>\n",
       "    <tr>\n",
       "      <th>std</th>\n",
       "      <td>1.035738</td>\n",
       "      <td>1.249762</td>\n",
       "    </tr>\n",
       "    <tr>\n",
       "      <th>min</th>\n",
       "      <td>-1.224732</td>\n",
       "      <td>-1.017963</td>\n",
       "    </tr>\n",
       "    <tr>\n",
       "      <th>25%</th>\n",
       "      <td>0.053487</td>\n",
       "      <td>0.451937</td>\n",
       "    </tr>\n",
       "    <tr>\n",
       "      <th>50%</th>\n",
       "      <td>0.456919</td>\n",
       "      <td>0.780043</td>\n",
       "    </tr>\n",
       "    <tr>\n",
       "      <th>75%</th>\n",
       "      <td>0.838650</td>\n",
       "      <td>0.813639</td>\n",
       "    </tr>\n",
       "    <tr>\n",
       "      <th>max</th>\n",
       "      <td>1.564027</td>\n",
       "      <td>2.493170</td>\n",
       "    </tr>\n",
       "  </tbody>\n",
       "</table>\n",
       "</div>"
      ],
      "text/plain": [
       "              a         b\n",
       "count  5.000000  5.000000\n",
       "mean   0.337670  0.704165\n",
       "std    1.035738  1.249762\n",
       "min   -1.224732 -1.017963\n",
       "25%    0.053487  0.451937\n",
       "50%    0.456919  0.780043\n",
       "75%    0.838650  0.813639\n",
       "max    1.564027  2.493170"
      ]
     },
     "execution_count": 19,
     "metadata": {},
     "output_type": "execute_result"
    }
   ],
   "source": [
    "# basic statistical analysis\n",
    "df.describe()"
   ]
  },
  {
   "cell_type": "code",
   "execution_count": 20,
   "metadata": {},
   "outputs": [
    {
     "name": "stderr",
     "output_type": "stream",
     "text": [
      "D:\\ProgramData\\Anaconda3\\lib\\site-packages\\ipykernel_launcher.py:2: FutureWarning: DataFrame.mean and DataFrame.median with numeric_only=None will include datetime64 and datetime64tz columns in a future version.\n",
      "  \n",
      "D:\\ProgramData\\Anaconda3\\lib\\site-packages\\ipykernel_launcher.py:5: FutureWarning: DataFrame.mean and DataFrame.median with numeric_only=None will include datetime64 and datetime64tz columns in a future version.\n",
      "  \"\"\"\n"
     ]
    },
    {
     "data": {
      "text/plain": [
       "a    1.418951\n",
       "b    2.157263\n",
       "Name: 0.95, dtype: float64"
      ]
     },
     "execution_count": 20,
     "metadata": {},
     "output_type": "execute_result"
    }
   ],
   "source": [
    "# average by columns\n",
    "df.mean()\n",
    "\n",
    "# median by columns\n",
    "df.median()\n",
    "\n",
    "# variance by columns\n",
    "df.var()\n",
    "\n",
    "# standard deviation by columns\n",
    "df.std()\n",
    "\n",
    "# min by columns\n",
    "df.min()\n",
    "\n",
    "# max by columsn\n",
    "df.max()\n",
    "\n",
    "# top 5% quantile\n",
    "df.quantile(0.95)"
   ]
  },
  {
   "cell_type": "markdown",
   "metadata": {},
   "source": [
    "## 4. Indexing & Slicing\n",
    "\n",
    "### 4.1. select rows"
   ]
  },
  {
   "cell_type": "code",
   "execution_count": 21,
   "metadata": {
    "scrolled": true
   },
   "outputs": [
    {
     "data": {
      "text/html": [
       "<div>\n",
       "<style scoped>\n",
       "    .dataframe tbody tr th:only-of-type {\n",
       "        vertical-align: middle;\n",
       "    }\n",
       "\n",
       "    .dataframe tbody tr th {\n",
       "        vertical-align: top;\n",
       "    }\n",
       "\n",
       "    .dataframe thead th {\n",
       "        text-align: right;\n",
       "    }\n",
       "</style>\n",
       "<table border=\"1\" class=\"dataframe\">\n",
       "  <thead>\n",
       "    <tr style=\"text-align: right;\">\n",
       "      <th></th>\n",
       "      <th>color</th>\n",
       "      <th>size</th>\n",
       "      <th>date</th>\n",
       "      <th>a</th>\n",
       "      <th>b</th>\n",
       "    </tr>\n",
       "  </thead>\n",
       "  <tbody>\n",
       "    <tr>\n",
       "      <th>A</th>\n",
       "      <td>black</td>\n",
       "      <td>S</td>\n",
       "      <td>2019-01-06</td>\n",
       "      <td>0.053487</td>\n",
       "      <td>0.451937</td>\n",
       "    </tr>\n",
       "  </tbody>\n",
       "</table>\n",
       "</div>"
      ],
      "text/plain": [
       "   color size       date         a         b\n",
       "A  black    S 2019-01-06  0.053487  0.451937"
      ]
     },
     "execution_count": 21,
     "metadata": {},
     "output_type": "execute_result"
    }
   ],
   "source": [
    "# select row by index, return Series\n",
    "df.iloc[0]\n",
    "\n",
    "# select row by index, return dataframe\n",
    "df.iloc[[0]]"
   ]
  },
  {
   "cell_type": "code",
   "execution_count": 22,
   "metadata": {},
   "outputs": [
    {
     "data": {
      "text/html": [
       "<div>\n",
       "<style scoped>\n",
       "    .dataframe tbody tr th:only-of-type {\n",
       "        vertical-align: middle;\n",
       "    }\n",
       "\n",
       "    .dataframe tbody tr th {\n",
       "        vertical-align: top;\n",
       "    }\n",
       "\n",
       "    .dataframe thead th {\n",
       "        text-align: right;\n",
       "    }\n",
       "</style>\n",
       "<table border=\"1\" class=\"dataframe\">\n",
       "  <thead>\n",
       "    <tr style=\"text-align: right;\">\n",
       "      <th></th>\n",
       "      <th>color</th>\n",
       "      <th>size</th>\n",
       "      <th>date</th>\n",
       "      <th>a</th>\n",
       "      <th>b</th>\n",
       "    </tr>\n",
       "  </thead>\n",
       "  <tbody>\n",
       "    <tr>\n",
       "      <th>A</th>\n",
       "      <td>black</td>\n",
       "      <td>S</td>\n",
       "      <td>2019-01-06</td>\n",
       "      <td>0.053487</td>\n",
       "      <td>0.451937</td>\n",
       "    </tr>\n",
       "  </tbody>\n",
       "</table>\n",
       "</div>"
      ],
      "text/plain": [
       "   color size       date         a         b\n",
       "A  black    S 2019-01-06  0.053487  0.451937"
      ]
     },
     "execution_count": 22,
     "metadata": {},
     "output_type": "execute_result"
    }
   ],
   "source": [
    "# select row by name, return Series\n",
    "df.loc['A']\n",
    "\n",
    "# select row by name, return dataframe\n",
    "df.loc[['A']]"
   ]
  },
  {
   "cell_type": "markdown",
   "metadata": {},
   "source": [
    "### 4.2. select columns"
   ]
  },
  {
   "cell_type": "code",
   "execution_count": 23,
   "metadata": {},
   "outputs": [
    {
     "data": {
      "text/html": [
       "<div>\n",
       "<style scoped>\n",
       "    .dataframe tbody tr th:only-of-type {\n",
       "        vertical-align: middle;\n",
       "    }\n",
       "\n",
       "    .dataframe tbody tr th {\n",
       "        vertical-align: top;\n",
       "    }\n",
       "\n",
       "    .dataframe thead th {\n",
       "        text-align: right;\n",
       "    }\n",
       "</style>\n",
       "<table border=\"1\" class=\"dataframe\">\n",
       "  <thead>\n",
       "    <tr style=\"text-align: right;\">\n",
       "      <th></th>\n",
       "      <th>color</th>\n",
       "    </tr>\n",
       "  </thead>\n",
       "  <tbody>\n",
       "    <tr>\n",
       "      <th>A</th>\n",
       "      <td>black</td>\n",
       "    </tr>\n",
       "    <tr>\n",
       "      <th>B</th>\n",
       "      <td>white</td>\n",
       "    </tr>\n",
       "    <tr>\n",
       "      <th>C</th>\n",
       "      <td>red</td>\n",
       "    </tr>\n",
       "    <tr>\n",
       "      <th>D</th>\n",
       "      <td>white</td>\n",
       "    </tr>\n",
       "    <tr>\n",
       "      <th>E</th>\n",
       "      <td>green</td>\n",
       "    </tr>\n",
       "  </tbody>\n",
       "</table>\n",
       "</div>"
      ],
      "text/plain": [
       "   color\n",
       "A  black\n",
       "B  white\n",
       "C    red\n",
       "D  white\n",
       "E  green"
      ]
     },
     "execution_count": 23,
     "metadata": {},
     "output_type": "execute_result"
    }
   ],
   "source": [
    "# select column by index, return Series\n",
    "df.iloc[:, 0]\n",
    "\n",
    "# select column by index, return dataframe\n",
    "df.iloc[:, [0]]"
   ]
  },
  {
   "cell_type": "code",
   "execution_count": 24,
   "metadata": {},
   "outputs": [
    {
     "data": {
      "text/html": [
       "<div>\n",
       "<style scoped>\n",
       "    .dataframe tbody tr th:only-of-type {\n",
       "        vertical-align: middle;\n",
       "    }\n",
       "\n",
       "    .dataframe tbody tr th {\n",
       "        vertical-align: top;\n",
       "    }\n",
       "\n",
       "    .dataframe thead th {\n",
       "        text-align: right;\n",
       "    }\n",
       "</style>\n",
       "<table border=\"1\" class=\"dataframe\">\n",
       "  <thead>\n",
       "    <tr style=\"text-align: right;\">\n",
       "      <th></th>\n",
       "      <th>color</th>\n",
       "    </tr>\n",
       "  </thead>\n",
       "  <tbody>\n",
       "    <tr>\n",
       "      <th>A</th>\n",
       "      <td>black</td>\n",
       "    </tr>\n",
       "    <tr>\n",
       "      <th>B</th>\n",
       "      <td>white</td>\n",
       "    </tr>\n",
       "    <tr>\n",
       "      <th>C</th>\n",
       "      <td>red</td>\n",
       "    </tr>\n",
       "    <tr>\n",
       "      <th>D</th>\n",
       "      <td>white</td>\n",
       "    </tr>\n",
       "    <tr>\n",
       "      <th>E</th>\n",
       "      <td>green</td>\n",
       "    </tr>\n",
       "  </tbody>\n",
       "</table>\n",
       "</div>"
      ],
      "text/plain": [
       "   color\n",
       "A  black\n",
       "B  white\n",
       "C    red\n",
       "D  white\n",
       "E  green"
      ]
     },
     "execution_count": 24,
     "metadata": {},
     "output_type": "execute_result"
    }
   ],
   "source": [
    "# select column by name, return Series\n",
    "df.loc[:, 'color']\n",
    "\n",
    "# select column by name, return dataframe\n",
    "df[['color']]"
   ]
  },
  {
   "cell_type": "markdown",
   "metadata": {},
   "source": [
    "### 4.3. conditional subsetting"
   ]
  },
  {
   "cell_type": "code",
   "execution_count": 25,
   "metadata": {},
   "outputs": [
    {
     "data": {
      "text/html": [
       "<div>\n",
       "<style scoped>\n",
       "    .dataframe tbody tr th:only-of-type {\n",
       "        vertical-align: middle;\n",
       "    }\n",
       "\n",
       "    .dataframe tbody tr th {\n",
       "        vertical-align: top;\n",
       "    }\n",
       "\n",
       "    .dataframe thead th {\n",
       "        text-align: right;\n",
       "    }\n",
       "</style>\n",
       "<table border=\"1\" class=\"dataframe\">\n",
       "  <thead>\n",
       "    <tr style=\"text-align: right;\">\n",
       "      <th></th>\n",
       "      <th>color</th>\n",
       "      <th>size</th>\n",
       "      <th>date</th>\n",
       "      <th>a</th>\n",
       "      <th>b</th>\n",
       "    </tr>\n",
       "  </thead>\n",
       "  <tbody>\n",
       "    <tr>\n",
       "      <th>D</th>\n",
       "      <td>white</td>\n",
       "      <td>M</td>\n",
       "      <td>2019-01-27</td>\n",
       "      <td>-1.224732</td>\n",
       "      <td>-1.017963</td>\n",
       "    </tr>\n",
       "  </tbody>\n",
       "</table>\n",
       "</div>"
      ],
      "text/plain": [
       "   color size       date         a         b\n",
       "D  white    M 2019-01-27 -1.224732 -1.017963"
      ]
     },
     "execution_count": 25,
     "metadata": {},
     "output_type": "execute_result"
    }
   ],
   "source": [
    "# numeric condition\n",
    "df[df.a < - 0.1]"
   ]
  },
  {
   "cell_type": "code",
   "execution_count": 26,
   "metadata": {},
   "outputs": [
    {
     "data": {
      "text/html": [
       "<div>\n",
       "<style scoped>\n",
       "    .dataframe tbody tr th:only-of-type {\n",
       "        vertical-align: middle;\n",
       "    }\n",
       "\n",
       "    .dataframe tbody tr th {\n",
       "        vertical-align: top;\n",
       "    }\n",
       "\n",
       "    .dataframe thead th {\n",
       "        text-align: right;\n",
       "    }\n",
       "</style>\n",
       "<table border=\"1\" class=\"dataframe\">\n",
       "  <thead>\n",
       "    <tr style=\"text-align: right;\">\n",
       "      <th></th>\n",
       "      <th>color</th>\n",
       "      <th>size</th>\n",
       "      <th>date</th>\n",
       "      <th>a</th>\n",
       "      <th>b</th>\n",
       "    </tr>\n",
       "  </thead>\n",
       "  <tbody>\n",
       "    <tr>\n",
       "      <th>A</th>\n",
       "      <td>black</td>\n",
       "      <td>S</td>\n",
       "      <td>2019-01-06</td>\n",
       "      <td>0.053487</td>\n",
       "      <td>0.451937</td>\n",
       "    </tr>\n",
       "    <tr>\n",
       "      <th>B</th>\n",
       "      <td>white</td>\n",
       "      <td>M</td>\n",
       "      <td>2019-01-13</td>\n",
       "      <td>0.838650</td>\n",
       "      <td>0.813639</td>\n",
       "    </tr>\n",
       "    <tr>\n",
       "      <th>D</th>\n",
       "      <td>white</td>\n",
       "      <td>M</td>\n",
       "      <td>2019-01-27</td>\n",
       "      <td>-1.224732</td>\n",
       "      <td>-1.017963</td>\n",
       "    </tr>\n",
       "  </tbody>\n",
       "</table>\n",
       "</div>"
      ],
      "text/plain": [
       "   color size       date         a         b\n",
       "A  black    S 2019-01-06  0.053487  0.451937\n",
       "B  white    M 2019-01-13  0.838650  0.813639\n",
       "D  white    M 2019-01-27 -1.224732 -1.017963"
      ]
     },
     "execution_count": 26,
     "metadata": {},
     "output_type": "execute_result"
    }
   ],
   "source": [
    "# categorical condition\n",
    "df[df.color.isin(['white', 'black'])]"
   ]
  },
  {
   "cell_type": "code",
   "execution_count": 27,
   "metadata": {},
   "outputs": [
    {
     "data": {
      "text/html": [
       "<div>\n",
       "<style scoped>\n",
       "    .dataframe tbody tr th:only-of-type {\n",
       "        vertical-align: middle;\n",
       "    }\n",
       "\n",
       "    .dataframe tbody tr th {\n",
       "        vertical-align: top;\n",
       "    }\n",
       "\n",
       "    .dataframe thead th {\n",
       "        text-align: right;\n",
       "    }\n",
       "</style>\n",
       "<table border=\"1\" class=\"dataframe\">\n",
       "  <thead>\n",
       "    <tr style=\"text-align: right;\">\n",
       "      <th></th>\n",
       "      <th>color</th>\n",
       "      <th>size</th>\n",
       "      <th>date</th>\n",
       "      <th>a</th>\n",
       "      <th>b</th>\n",
       "    </tr>\n",
       "  </thead>\n",
       "  <tbody>\n",
       "    <tr>\n",
       "      <th>B</th>\n",
       "      <td>white</td>\n",
       "      <td>M</td>\n",
       "      <td>2019-01-13</td>\n",
       "      <td>0.838650</td>\n",
       "      <td>0.813639</td>\n",
       "    </tr>\n",
       "    <tr>\n",
       "      <th>C</th>\n",
       "      <td>red</td>\n",
       "      <td>L</td>\n",
       "      <td>2019-01-20</td>\n",
       "      <td>0.456919</td>\n",
       "      <td>2.493170</td>\n",
       "    </tr>\n",
       "    <tr>\n",
       "      <th>D</th>\n",
       "      <td>white</td>\n",
       "      <td>M</td>\n",
       "      <td>2019-01-27</td>\n",
       "      <td>-1.224732</td>\n",
       "      <td>-1.017963</td>\n",
       "    </tr>\n",
       "    <tr>\n",
       "      <th>E</th>\n",
       "      <td>green</td>\n",
       "      <td>XL</td>\n",
       "      <td>2019-02-03</td>\n",
       "      <td>1.564027</td>\n",
       "      <td>0.780043</td>\n",
       "    </tr>\n",
       "  </tbody>\n",
       "</table>\n",
       "</div>"
      ],
      "text/plain": [
       "   color size       date         a         b\n",
       "B  white    M 2019-01-13  0.838650  0.813639\n",
       "C    red    L 2019-01-20  0.456919  2.493170\n",
       "D  white    M 2019-01-27 -1.224732 -1.017963\n",
       "E  green   XL 2019-02-03  1.564027  0.780043"
      ]
     },
     "execution_count": 27,
     "metadata": {},
     "output_type": "execute_result"
    }
   ],
   "source": [
    "# exclusive condition\n",
    "# same as != 'S'\n",
    "df[df['size'].ne('S')]"
   ]
  },
  {
   "cell_type": "code",
   "execution_count": 28,
   "metadata": {
    "scrolled": true
   },
   "outputs": [
    {
     "data": {
      "text/html": [
       "<div>\n",
       "<style scoped>\n",
       "    .dataframe tbody tr th:only-of-type {\n",
       "        vertical-align: middle;\n",
       "    }\n",
       "\n",
       "    .dataframe tbody tr th {\n",
       "        vertical-align: top;\n",
       "    }\n",
       "\n",
       "    .dataframe thead th {\n",
       "        text-align: right;\n",
       "    }\n",
       "</style>\n",
       "<table border=\"1\" class=\"dataframe\">\n",
       "  <thead>\n",
       "    <tr style=\"text-align: right;\">\n",
       "      <th></th>\n",
       "      <th>a</th>\n",
       "      <th>b</th>\n",
       "    </tr>\n",
       "  </thead>\n",
       "  <tbody>\n",
       "    <tr>\n",
       "      <th>B</th>\n",
       "      <td>0.838650</td>\n",
       "      <td>0.813639</td>\n",
       "    </tr>\n",
       "    <tr>\n",
       "      <th>D</th>\n",
       "      <td>-1.224732</td>\n",
       "      <td>-1.017963</td>\n",
       "    </tr>\n",
       "  </tbody>\n",
       "</table>\n",
       "</div>"
      ],
      "text/plain": [
       "          a         b\n",
       "B  0.838650  0.813639\n",
       "D -1.224732 -1.017963"
      ]
     },
     "execution_count": 28,
     "metadata": {},
     "output_type": "execute_result"
    }
   ],
   "source": [
    "df.loc[(df.color == 'white') & (df['size'] == 'M'), ['a', 'b']]"
   ]
  },
  {
   "cell_type": "markdown",
   "metadata": {},
   "source": [
    "## 5. Basic Operation\n",
    "\n",
    "### 5.1. Evaluating an expression"
   ]
  },
  {
   "cell_type": "markdown",
   "metadata": {},
   "source": [
    "A great feature supported by `pandas` is expression evaluation. The benefit here is that `Numexpr` library evaluates the expression in a way that does not use full-sized temporary arrays, and thus can be much more efficient than `NumPy`, especially for large arrays. The `eval()`and `query()` functions in Pandas uses string expressions to efficiently compute operations. \n",
    "\n",
    "In addition to being a more efficient computation, compared to the masking expression this is much easier to read and understand. Note that the `query()` method also accepts the `@` flag to mark local variables:"
   ]
  },
  {
   "cell_type": "code",
   "execution_count": 29,
   "metadata": {},
   "outputs": [
    {
     "data": {
      "text/html": [
       "<div>\n",
       "<style scoped>\n",
       "    .dataframe tbody tr th:only-of-type {\n",
       "        vertical-align: middle;\n",
       "    }\n",
       "\n",
       "    .dataframe tbody tr th {\n",
       "        vertical-align: top;\n",
       "    }\n",
       "\n",
       "    .dataframe thead th {\n",
       "        text-align: right;\n",
       "    }\n",
       "</style>\n",
       "<table border=\"1\" class=\"dataframe\">\n",
       "  <thead>\n",
       "    <tr style=\"text-align: right;\">\n",
       "      <th></th>\n",
       "      <th>color</th>\n",
       "      <th>size</th>\n",
       "      <th>date</th>\n",
       "      <th>a</th>\n",
       "      <th>b</th>\n",
       "    </tr>\n",
       "  </thead>\n",
       "  <tbody>\n",
       "    <tr>\n",
       "      <th>B</th>\n",
       "      <td>white</td>\n",
       "      <td>M</td>\n",
       "      <td>2019-01-13</td>\n",
       "      <td>0.838650</td>\n",
       "      <td>0.813639</td>\n",
       "    </tr>\n",
       "    <tr>\n",
       "      <th>D</th>\n",
       "      <td>white</td>\n",
       "      <td>M</td>\n",
       "      <td>2019-01-27</td>\n",
       "      <td>-1.224732</td>\n",
       "      <td>-1.017963</td>\n",
       "    </tr>\n",
       "  </tbody>\n",
       "</table>\n",
       "</div>"
      ],
      "text/plain": [
       "   color size       date         a         b\n",
       "B  white    M 2019-01-13  0.838650  0.813639\n",
       "D  white    M 2019-01-27 -1.224732 -1.017963"
      ]
     },
     "execution_count": 29,
     "metadata": {},
     "output_type": "execute_result"
    }
   ],
   "source": [
    "df.query(\"color == 'white' and size == 'M'\")"
   ]
  },
  {
   "cell_type": "code",
   "execution_count": 30,
   "metadata": {
    "scrolled": false
   },
   "outputs": [
    {
     "data": {
      "text/plain": [
       "A    0.505424\n",
       "B    1.652288\n",
       "C    2.950088\n",
       "D   -2.242694\n",
       "E    2.344069\n",
       "dtype: float64"
      ]
     },
     "execution_count": 30,
     "metadata": {},
     "output_type": "execute_result"
    }
   ],
   "source": [
    "# quick evaluate\n",
    "df.eval('a + b')"
   ]
  },
  {
   "cell_type": "code",
   "execution_count": 31,
   "metadata": {
    "scrolled": true
   },
   "outputs": [
    {
     "data": {
      "text/html": [
       "<div>\n",
       "<style scoped>\n",
       "    .dataframe tbody tr th:only-of-type {\n",
       "        vertical-align: middle;\n",
       "    }\n",
       "\n",
       "    .dataframe tbody tr th {\n",
       "        vertical-align: top;\n",
       "    }\n",
       "\n",
       "    .dataframe thead th {\n",
       "        text-align: right;\n",
       "    }\n",
       "</style>\n",
       "<table border=\"1\" class=\"dataframe\">\n",
       "  <thead>\n",
       "    <tr style=\"text-align: right;\">\n",
       "      <th></th>\n",
       "      <th>color</th>\n",
       "      <th>size</th>\n",
       "      <th>date</th>\n",
       "      <th>a</th>\n",
       "      <th>b</th>\n",
       "      <th>c</th>\n",
       "    </tr>\n",
       "  </thead>\n",
       "  <tbody>\n",
       "    <tr>\n",
       "      <th>A</th>\n",
       "      <td>black</td>\n",
       "      <td>S</td>\n",
       "      <td>2019-01-06</td>\n",
       "      <td>0.053487</td>\n",
       "      <td>0.451937</td>\n",
       "      <td>True</td>\n",
       "    </tr>\n",
       "    <tr>\n",
       "      <th>B</th>\n",
       "      <td>white</td>\n",
       "      <td>M</td>\n",
       "      <td>2019-01-13</td>\n",
       "      <td>0.838650</td>\n",
       "      <td>0.813639</td>\n",
       "      <td>True</td>\n",
       "    </tr>\n",
       "    <tr>\n",
       "      <th>C</th>\n",
       "      <td>red</td>\n",
       "      <td>L</td>\n",
       "      <td>2019-01-20</td>\n",
       "      <td>0.456919</td>\n",
       "      <td>2.493170</td>\n",
       "      <td>True</td>\n",
       "    </tr>\n",
       "    <tr>\n",
       "      <th>D</th>\n",
       "      <td>white</td>\n",
       "      <td>M</td>\n",
       "      <td>2019-01-27</td>\n",
       "      <td>-1.224732</td>\n",
       "      <td>-1.017963</td>\n",
       "      <td>False</td>\n",
       "    </tr>\n",
       "    <tr>\n",
       "      <th>E</th>\n",
       "      <td>green</td>\n",
       "      <td>XL</td>\n",
       "      <td>2019-02-03</td>\n",
       "      <td>1.564027</td>\n",
       "      <td>0.780043</td>\n",
       "      <td>True</td>\n",
       "    </tr>\n",
       "  </tbody>\n",
       "</table>\n",
       "</div>"
      ],
      "text/plain": [
       "   color size       date         a         b      c\n",
       "A  black    S 2019-01-06  0.053487  0.451937   True\n",
       "B  white    M 2019-01-13  0.838650  0.813639   True\n",
       "C    red    L 2019-01-20  0.456919  2.493170   True\n",
       "D  white    M 2019-01-27 -1.224732 -1.017963  False\n",
       "E  green   XL 2019-02-03  1.564027  0.780043   True"
      ]
     },
     "execution_count": 31,
     "metadata": {},
     "output_type": "execute_result"
    }
   ],
   "source": [
    "threshold = 0\n",
    "df.eval('c = a + b > @threshold', inplace=True)\n",
    "df"
   ]
  },
  {
   "cell_type": "markdown",
   "metadata": {},
   "source": [
    "### 5.2. Insert columns"
   ]
  },
  {
   "cell_type": "code",
   "execution_count": 32,
   "metadata": {},
   "outputs": [
    {
     "data": {
      "text/html": [
       "<div>\n",
       "<style scoped>\n",
       "    .dataframe tbody tr th:only-of-type {\n",
       "        vertical-align: middle;\n",
       "    }\n",
       "\n",
       "    .dataframe tbody tr th {\n",
       "        vertical-align: top;\n",
       "    }\n",
       "\n",
       "    .dataframe thead th {\n",
       "        text-align: right;\n",
       "    }\n",
       "</style>\n",
       "<table border=\"1\" class=\"dataframe\">\n",
       "  <thead>\n",
       "    <tr style=\"text-align: right;\">\n",
       "      <th></th>\n",
       "      <th>color</th>\n",
       "      <th>size</th>\n",
       "      <th>date</th>\n",
       "      <th>day</th>\n",
       "      <th>a</th>\n",
       "      <th>b</th>\n",
       "      <th>c</th>\n",
       "    </tr>\n",
       "  </thead>\n",
       "  <tbody>\n",
       "    <tr>\n",
       "      <th>A</th>\n",
       "      <td>black</td>\n",
       "      <td>S</td>\n",
       "      <td>2019-01-06</td>\n",
       "      <td>Sunday</td>\n",
       "      <td>0.053487</td>\n",
       "      <td>0.451937</td>\n",
       "      <td>True</td>\n",
       "    </tr>\n",
       "    <tr>\n",
       "      <th>B</th>\n",
       "      <td>white</td>\n",
       "      <td>M</td>\n",
       "      <td>2019-01-13</td>\n",
       "      <td>Sunday</td>\n",
       "      <td>0.838650</td>\n",
       "      <td>0.813639</td>\n",
       "      <td>True</td>\n",
       "    </tr>\n",
       "    <tr>\n",
       "      <th>C</th>\n",
       "      <td>red</td>\n",
       "      <td>L</td>\n",
       "      <td>2019-01-20</td>\n",
       "      <td>Sunday</td>\n",
       "      <td>0.456919</td>\n",
       "      <td>2.493170</td>\n",
       "      <td>True</td>\n",
       "    </tr>\n",
       "    <tr>\n",
       "      <th>D</th>\n",
       "      <td>white</td>\n",
       "      <td>M</td>\n",
       "      <td>2019-01-27</td>\n",
       "      <td>Sunday</td>\n",
       "      <td>-1.224732</td>\n",
       "      <td>-1.017963</td>\n",
       "      <td>False</td>\n",
       "    </tr>\n",
       "    <tr>\n",
       "      <th>E</th>\n",
       "      <td>green</td>\n",
       "      <td>XL</td>\n",
       "      <td>2019-02-03</td>\n",
       "      <td>Sunday</td>\n",
       "      <td>1.564027</td>\n",
       "      <td>0.780043</td>\n",
       "      <td>True</td>\n",
       "    </tr>\n",
       "  </tbody>\n",
       "</table>\n",
       "</div>"
      ],
      "text/plain": [
       "   color size       date     day         a         b      c\n",
       "A  black    S 2019-01-06  Sunday  0.053487  0.451937   True\n",
       "B  white    M 2019-01-13  Sunday  0.838650  0.813639   True\n",
       "C    red    L 2019-01-20  Sunday  0.456919  2.493170   True\n",
       "D  white    M 2019-01-27  Sunday -1.224732 -1.017963  False\n",
       "E  green   XL 2019-02-03  Sunday  1.564027  0.780043   True"
      ]
     },
     "execution_count": 32,
     "metadata": {},
     "output_type": "execute_result"
    }
   ],
   "source": [
    "# insert the day column at position 4 \n",
    "df.insert(3, 'day', df.date.dt.strftime('%A'))\n",
    "df"
   ]
  },
  {
   "cell_type": "markdown",
   "metadata": {},
   "source": [
    "### 5.3. Deleting columns or rows "
   ]
  },
  {
   "cell_type": "code",
   "execution_count": 33,
   "metadata": {},
   "outputs": [
    {
     "data": {
      "text/html": [
       "<div>\n",
       "<style scoped>\n",
       "    .dataframe tbody tr th:only-of-type {\n",
       "        vertical-align: middle;\n",
       "    }\n",
       "\n",
       "    .dataframe tbody tr th {\n",
       "        vertical-align: top;\n",
       "    }\n",
       "\n",
       "    .dataframe thead th {\n",
       "        text-align: right;\n",
       "    }\n",
       "</style>\n",
       "<table border=\"1\" class=\"dataframe\">\n",
       "  <thead>\n",
       "    <tr style=\"text-align: right;\">\n",
       "      <th></th>\n",
       "      <th>color</th>\n",
       "      <th>size</th>\n",
       "      <th>date</th>\n",
       "      <th>day</th>\n",
       "      <th>a</th>\n",
       "      <th>b</th>\n",
       "    </tr>\n",
       "  </thead>\n",
       "  <tbody>\n",
       "    <tr>\n",
       "      <th>A</th>\n",
       "      <td>black</td>\n",
       "      <td>S</td>\n",
       "      <td>2019-01-06</td>\n",
       "      <td>Sunday</td>\n",
       "      <td>0.053487</td>\n",
       "      <td>0.451937</td>\n",
       "    </tr>\n",
       "    <tr>\n",
       "      <th>B</th>\n",
       "      <td>white</td>\n",
       "      <td>M</td>\n",
       "      <td>2019-01-13</td>\n",
       "      <td>Sunday</td>\n",
       "      <td>0.838650</td>\n",
       "      <td>0.813639</td>\n",
       "    </tr>\n",
       "    <tr>\n",
       "      <th>C</th>\n",
       "      <td>red</td>\n",
       "      <td>L</td>\n",
       "      <td>2019-01-20</td>\n",
       "      <td>Sunday</td>\n",
       "      <td>0.456919</td>\n",
       "      <td>2.493170</td>\n",
       "    </tr>\n",
       "    <tr>\n",
       "      <th>D</th>\n",
       "      <td>white</td>\n",
       "      <td>M</td>\n",
       "      <td>2019-01-27</td>\n",
       "      <td>Sunday</td>\n",
       "      <td>-1.224732</td>\n",
       "      <td>-1.017963</td>\n",
       "    </tr>\n",
       "    <tr>\n",
       "      <th>E</th>\n",
       "      <td>green</td>\n",
       "      <td>XL</td>\n",
       "      <td>2019-02-03</td>\n",
       "      <td>Sunday</td>\n",
       "      <td>1.564027</td>\n",
       "      <td>0.780043</td>\n",
       "    </tr>\n",
       "  </tbody>\n",
       "</table>\n",
       "</div>"
      ],
      "text/plain": [
       "   color size       date     day         a         b\n",
       "A  black    S 2019-01-06  Sunday  0.053487  0.451937\n",
       "B  white    M 2019-01-13  Sunday  0.838650  0.813639\n",
       "C    red    L 2019-01-20  Sunday  0.456919  2.493170\n",
       "D  white    M 2019-01-27  Sunday -1.224732 -1.017963\n",
       "E  green   XL 2019-02-03  Sunday  1.564027  0.780043"
      ]
     },
     "execution_count": 33,
     "metadata": {},
     "output_type": "execute_result"
    }
   ],
   "source": [
    "# Notice the axis=1 option for columns\n",
    "df.drop('c', axis = 1)"
   ]
  },
  {
   "cell_type": "code",
   "execution_count": 34,
   "metadata": {},
   "outputs": [
    {
     "data": {
      "text/html": [
       "<div>\n",
       "<style scoped>\n",
       "    .dataframe tbody tr th:only-of-type {\n",
       "        vertical-align: middle;\n",
       "    }\n",
       "\n",
       "    .dataframe tbody tr th {\n",
       "        vertical-align: top;\n",
       "    }\n",
       "\n",
       "    .dataframe thead th {\n",
       "        text-align: right;\n",
       "    }\n",
       "</style>\n",
       "<table border=\"1\" class=\"dataframe\">\n",
       "  <thead>\n",
       "    <tr style=\"text-align: right;\">\n",
       "      <th></th>\n",
       "      <th>color</th>\n",
       "      <th>size</th>\n",
       "      <th>date</th>\n",
       "      <th>day</th>\n",
       "      <th>a</th>\n",
       "      <th>b</th>\n",
       "      <th>c</th>\n",
       "    </tr>\n",
       "  </thead>\n",
       "  <tbody>\n",
       "    <tr>\n",
       "      <th>A</th>\n",
       "      <td>black</td>\n",
       "      <td>S</td>\n",
       "      <td>2019-01-06</td>\n",
       "      <td>Sunday</td>\n",
       "      <td>0.053487</td>\n",
       "      <td>0.451937</td>\n",
       "      <td>True</td>\n",
       "    </tr>\n",
       "    <tr>\n",
       "      <th>C</th>\n",
       "      <td>red</td>\n",
       "      <td>L</td>\n",
       "      <td>2019-01-20</td>\n",
       "      <td>Sunday</td>\n",
       "      <td>0.456919</td>\n",
       "      <td>2.493170</td>\n",
       "      <td>True</td>\n",
       "    </tr>\n",
       "    <tr>\n",
       "      <th>D</th>\n",
       "      <td>white</td>\n",
       "      <td>M</td>\n",
       "      <td>2019-01-27</td>\n",
       "      <td>Sunday</td>\n",
       "      <td>-1.224732</td>\n",
       "      <td>-1.017963</td>\n",
       "      <td>False</td>\n",
       "    </tr>\n",
       "    <tr>\n",
       "      <th>E</th>\n",
       "      <td>green</td>\n",
       "      <td>XL</td>\n",
       "      <td>2019-02-03</td>\n",
       "      <td>Sunday</td>\n",
       "      <td>1.564027</td>\n",
       "      <td>0.780043</td>\n",
       "      <td>True</td>\n",
       "    </tr>\n",
       "  </tbody>\n",
       "</table>\n",
       "</div>"
      ],
      "text/plain": [
       "   color size       date     day         a         b      c\n",
       "A  black    S 2019-01-06  Sunday  0.053487  0.451937   True\n",
       "C    red    L 2019-01-20  Sunday  0.456919  2.493170   True\n",
       "D  white    M 2019-01-27  Sunday -1.224732 -1.017963  False\n",
       "E  green   XL 2019-02-03  Sunday  1.564027  0.780043   True"
      ]
     },
     "execution_count": 34,
     "metadata": {},
     "output_type": "execute_result"
    }
   ],
   "source": [
    "# axis = 0 is default for rows\n",
    "df.drop('B', axis = 0)"
   ]
  },
  {
   "cell_type": "code",
   "execution_count": 35,
   "metadata": {},
   "outputs": [
    {
     "data": {
      "text/html": [
       "<div>\n",
       "<style scoped>\n",
       "    .dataframe tbody tr th:only-of-type {\n",
       "        vertical-align: middle;\n",
       "    }\n",
       "\n",
       "    .dataframe tbody tr th {\n",
       "        vertical-align: top;\n",
       "    }\n",
       "\n",
       "    .dataframe thead th {\n",
       "        text-align: right;\n",
       "    }\n",
       "</style>\n",
       "<table border=\"1\" class=\"dataframe\">\n",
       "  <thead>\n",
       "    <tr style=\"text-align: right;\">\n",
       "      <th></th>\n",
       "      <th>color</th>\n",
       "      <th>size</th>\n",
       "      <th>date</th>\n",
       "      <th>day</th>\n",
       "      <th>a</th>\n",
       "      <th>b</th>\n",
       "      <th>c</th>\n",
       "    </tr>\n",
       "  </thead>\n",
       "  <tbody>\n",
       "    <tr>\n",
       "      <th>A</th>\n",
       "      <td>black</td>\n",
       "      <td>S</td>\n",
       "      <td>2019-01-06</td>\n",
       "      <td>Sunday</td>\n",
       "      <td>0.053487</td>\n",
       "      <td>0.451937</td>\n",
       "      <td>True</td>\n",
       "    </tr>\n",
       "    <tr>\n",
       "      <th>B</th>\n",
       "      <td>white</td>\n",
       "      <td>M</td>\n",
       "      <td>2019-01-13</td>\n",
       "      <td>Sunday</td>\n",
       "      <td>0.838650</td>\n",
       "      <td>0.813639</td>\n",
       "      <td>True</td>\n",
       "    </tr>\n",
       "    <tr>\n",
       "      <th>D</th>\n",
       "      <td>white</td>\n",
       "      <td>M</td>\n",
       "      <td>2019-01-27</td>\n",
       "      <td>Sunday</td>\n",
       "      <td>-1.224732</td>\n",
       "      <td>-1.017963</td>\n",
       "      <td>False</td>\n",
       "    </tr>\n",
       "    <tr>\n",
       "      <th>E</th>\n",
       "      <td>green</td>\n",
       "      <td>XL</td>\n",
       "      <td>2019-02-03</td>\n",
       "      <td>Sunday</td>\n",
       "      <td>1.564027</td>\n",
       "      <td>0.780043</td>\n",
       "      <td>True</td>\n",
       "    </tr>\n",
       "  </tbody>\n",
       "</table>\n",
       "</div>"
      ],
      "text/plain": [
       "   color size       date     day         a         b      c\n",
       "A  black    S 2019-01-06  Sunday  0.053487  0.451937   True\n",
       "B  white    M 2019-01-13  Sunday  0.838650  0.813639   True\n",
       "D  white    M 2019-01-27  Sunday -1.224732 -1.017963  False\n",
       "E  green   XL 2019-02-03  Sunday  1.564027  0.780043   True"
      ]
     },
     "execution_count": 35,
     "metadata": {},
     "output_type": "execute_result"
    }
   ],
   "source": [
    "# removing rows with conditions\n",
    "# same as df[df.color != 'red']\n",
    "df.replace('red', np.nan).dropna()"
   ]
  },
  {
   "cell_type": "markdown",
   "metadata": {},
   "source": [
    "### 5.4. Unique & Counts"
   ]
  },
  {
   "cell_type": "code",
   "execution_count": 36,
   "metadata": {},
   "outputs": [
    {
     "name": "stdout",
     "output_type": "stream",
     "text": [
      "Color column: ['black' 'white' 'red' 'white' 'green']\n",
      "Color column unique values: ['black' 'white' 'red' 'green']\n"
     ]
    }
   ],
   "source": [
    "# return columns as array\n",
    "print('Color column:', df.color.values)\n",
    "\n",
    "# return unique category \n",
    "print('Color column unique values:', df.color.unique())"
   ]
  },
  {
   "cell_type": "code",
   "execution_count": 37,
   "metadata": {},
   "outputs": [
    {
     "name": "stdout",
     "output_type": "stream",
     "text": [
      "Color column counts: 5\n",
      "Color column distinct counts: 4\n"
     ]
    }
   ],
   "source": [
    "# return counts\n",
    "print('Color column counts:', df.color.count())\n",
    "\n",
    "# return distinct counts\n",
    "print('Color column distinct counts:', df.color.nunique())"
   ]
  },
  {
   "cell_type": "code",
   "execution_count": 38,
   "metadata": {},
   "outputs": [
    {
     "data": {
      "text/plain": [
       "white    2\n",
       "black    1\n",
       "green    1\n",
       "red      1\n",
       "Name: color, dtype: int64"
      ]
     },
     "execution_count": 38,
     "metadata": {},
     "output_type": "execute_result"
    }
   ],
   "source": [
    "# return counts by category\n",
    "df.color.value_counts()"
   ]
  },
  {
   "cell_type": "markdown",
   "metadata": {},
   "source": [
    "### 5.5. Sorting"
   ]
  },
  {
   "cell_type": "code",
   "execution_count": 39,
   "metadata": {},
   "outputs": [
    {
     "data": {
      "text/html": [
       "<div>\n",
       "<style scoped>\n",
       "    .dataframe tbody tr th:only-of-type {\n",
       "        vertical-align: middle;\n",
       "    }\n",
       "\n",
       "    .dataframe tbody tr th {\n",
       "        vertical-align: top;\n",
       "    }\n",
       "\n",
       "    .dataframe thead th {\n",
       "        text-align: right;\n",
       "    }\n",
       "</style>\n",
       "<table border=\"1\" class=\"dataframe\">\n",
       "  <thead>\n",
       "    <tr style=\"text-align: right;\">\n",
       "      <th></th>\n",
       "      <th>color</th>\n",
       "      <th>size</th>\n",
       "      <th>date</th>\n",
       "      <th>day</th>\n",
       "      <th>a</th>\n",
       "      <th>b</th>\n",
       "      <th>c</th>\n",
       "    </tr>\n",
       "  </thead>\n",
       "  <tbody>\n",
       "    <tr>\n",
       "      <th>E</th>\n",
       "      <td>green</td>\n",
       "      <td>XL</td>\n",
       "      <td>2019-02-03</td>\n",
       "      <td>Sunday</td>\n",
       "      <td>1.564027</td>\n",
       "      <td>0.780043</td>\n",
       "      <td>True</td>\n",
       "    </tr>\n",
       "    <tr>\n",
       "      <th>D</th>\n",
       "      <td>white</td>\n",
       "      <td>M</td>\n",
       "      <td>2019-01-27</td>\n",
       "      <td>Sunday</td>\n",
       "      <td>-1.224732</td>\n",
       "      <td>-1.017963</td>\n",
       "      <td>False</td>\n",
       "    </tr>\n",
       "    <tr>\n",
       "      <th>C</th>\n",
       "      <td>red</td>\n",
       "      <td>L</td>\n",
       "      <td>2019-01-20</td>\n",
       "      <td>Sunday</td>\n",
       "      <td>0.456919</td>\n",
       "      <td>2.493170</td>\n",
       "      <td>True</td>\n",
       "    </tr>\n",
       "    <tr>\n",
       "      <th>B</th>\n",
       "      <td>white</td>\n",
       "      <td>M</td>\n",
       "      <td>2019-01-13</td>\n",
       "      <td>Sunday</td>\n",
       "      <td>0.838650</td>\n",
       "      <td>0.813639</td>\n",
       "      <td>True</td>\n",
       "    </tr>\n",
       "    <tr>\n",
       "      <th>A</th>\n",
       "      <td>black</td>\n",
       "      <td>S</td>\n",
       "      <td>2019-01-06</td>\n",
       "      <td>Sunday</td>\n",
       "      <td>0.053487</td>\n",
       "      <td>0.451937</td>\n",
       "      <td>True</td>\n",
       "    </tr>\n",
       "  </tbody>\n",
       "</table>\n",
       "</div>"
      ],
      "text/plain": [
       "   color size       date     day         a         b      c\n",
       "E  green   XL 2019-02-03  Sunday  1.564027  0.780043   True\n",
       "D  white    M 2019-01-27  Sunday -1.224732 -1.017963  False\n",
       "C    red    L 2019-01-20  Sunday  0.456919  2.493170   True\n",
       "B  white    M 2019-01-13  Sunday  0.838650  0.813639   True\n",
       "A  black    S 2019-01-06  Sunday  0.053487  0.451937   True"
      ]
     },
     "execution_count": 39,
     "metadata": {},
     "output_type": "execute_result"
    }
   ],
   "source": [
    "# sort by columns\n",
    "df.sort_values(by='date', ascending=False)"
   ]
  },
  {
   "cell_type": "code",
   "execution_count": 40,
   "metadata": {},
   "outputs": [
    {
     "data": {
      "text/html": [
       "<div>\n",
       "<style scoped>\n",
       "    .dataframe tbody tr th:only-of-type {\n",
       "        vertical-align: middle;\n",
       "    }\n",
       "\n",
       "    .dataframe tbody tr th {\n",
       "        vertical-align: top;\n",
       "    }\n",
       "\n",
       "    .dataframe thead th {\n",
       "        text-align: right;\n",
       "    }\n",
       "</style>\n",
       "<table border=\"1\" class=\"dataframe\">\n",
       "  <thead>\n",
       "    <tr style=\"text-align: right;\">\n",
       "      <th></th>\n",
       "      <th>color</th>\n",
       "      <th>size</th>\n",
       "      <th>date</th>\n",
       "      <th>day</th>\n",
       "      <th>a</th>\n",
       "      <th>b</th>\n",
       "      <th>c</th>\n",
       "    </tr>\n",
       "  </thead>\n",
       "  <tbody>\n",
       "    <tr>\n",
       "      <th>E</th>\n",
       "      <td>green</td>\n",
       "      <td>XL</td>\n",
       "      <td>2019-02-03</td>\n",
       "      <td>Sunday</td>\n",
       "      <td>1.564027</td>\n",
       "      <td>0.780043</td>\n",
       "      <td>True</td>\n",
       "    </tr>\n",
       "    <tr>\n",
       "      <th>D</th>\n",
       "      <td>white</td>\n",
       "      <td>M</td>\n",
       "      <td>2019-01-27</td>\n",
       "      <td>Sunday</td>\n",
       "      <td>-1.224732</td>\n",
       "      <td>-1.017963</td>\n",
       "      <td>False</td>\n",
       "    </tr>\n",
       "    <tr>\n",
       "      <th>C</th>\n",
       "      <td>red</td>\n",
       "      <td>L</td>\n",
       "      <td>2019-01-20</td>\n",
       "      <td>Sunday</td>\n",
       "      <td>0.456919</td>\n",
       "      <td>2.493170</td>\n",
       "      <td>True</td>\n",
       "    </tr>\n",
       "    <tr>\n",
       "      <th>B</th>\n",
       "      <td>white</td>\n",
       "      <td>M</td>\n",
       "      <td>2019-01-13</td>\n",
       "      <td>Sunday</td>\n",
       "      <td>0.838650</td>\n",
       "      <td>0.813639</td>\n",
       "      <td>True</td>\n",
       "    </tr>\n",
       "    <tr>\n",
       "      <th>A</th>\n",
       "      <td>black</td>\n",
       "      <td>S</td>\n",
       "      <td>2019-01-06</td>\n",
       "      <td>Sunday</td>\n",
       "      <td>0.053487</td>\n",
       "      <td>0.451937</td>\n",
       "      <td>True</td>\n",
       "    </tr>\n",
       "  </tbody>\n",
       "</table>\n",
       "</div>"
      ],
      "text/plain": [
       "   color size       date     day         a         b      c\n",
       "E  green   XL 2019-02-03  Sunday  1.564027  0.780043   True\n",
       "D  white    M 2019-01-27  Sunday -1.224732 -1.017963  False\n",
       "C    red    L 2019-01-20  Sunday  0.456919  2.493170   True\n",
       "B  white    M 2019-01-13  Sunday  0.838650  0.813639   True\n",
       "A  black    S 2019-01-06  Sunday  0.053487  0.451937   True"
      ]
     },
     "execution_count": 40,
     "metadata": {},
     "output_type": "execute_result"
    }
   ],
   "source": [
    "# sort by index\n",
    "df.sort_index(ascending=False)"
   ]
  },
  {
   "cell_type": "markdown",
   "metadata": {},
   "source": [
    "### 5.6. Drop/filling Missing Value"
   ]
  },
  {
   "cell_type": "code",
   "execution_count": 41,
   "metadata": {},
   "outputs": [
    {
     "data": {
      "text/html": [
       "<div>\n",
       "<style scoped>\n",
       "    .dataframe tbody tr th:only-of-type {\n",
       "        vertical-align: middle;\n",
       "    }\n",
       "\n",
       "    .dataframe tbody tr th {\n",
       "        vertical-align: top;\n",
       "    }\n",
       "\n",
       "    .dataframe thead th {\n",
       "        text-align: right;\n",
       "    }\n",
       "</style>\n",
       "<table border=\"1\" class=\"dataframe\">\n",
       "  <thead>\n",
       "    <tr style=\"text-align: right;\">\n",
       "      <th></th>\n",
       "      <th>color</th>\n",
       "      <th>size</th>\n",
       "      <th>date</th>\n",
       "      <th>day</th>\n",
       "      <th>a</th>\n",
       "      <th>b</th>\n",
       "      <th>c</th>\n",
       "    </tr>\n",
       "  </thead>\n",
       "  <tbody>\n",
       "    <tr>\n",
       "      <th>A</th>\n",
       "      <td>black</td>\n",
       "      <td>S</td>\n",
       "      <td>2019-01-06</td>\n",
       "      <td>Sunday</td>\n",
       "      <td>NaN</td>\n",
       "      <td>0.451937</td>\n",
       "      <td>True</td>\n",
       "    </tr>\n",
       "    <tr>\n",
       "      <th>B</th>\n",
       "      <td>white</td>\n",
       "      <td>M</td>\n",
       "      <td>2019-01-13</td>\n",
       "      <td>Sunday</td>\n",
       "      <td>0.838650</td>\n",
       "      <td>0.813639</td>\n",
       "      <td>True</td>\n",
       "    </tr>\n",
       "    <tr>\n",
       "      <th>C</th>\n",
       "      <td>red</td>\n",
       "      <td>L</td>\n",
       "      <td>2019-01-20</td>\n",
       "      <td>NaN</td>\n",
       "      <td>0.456919</td>\n",
       "      <td>2.493170</td>\n",
       "      <td>True</td>\n",
       "    </tr>\n",
       "    <tr>\n",
       "      <th>D</th>\n",
       "      <td>white</td>\n",
       "      <td>M</td>\n",
       "      <td>2019-01-27</td>\n",
       "      <td>Sunday</td>\n",
       "      <td>-1.224732</td>\n",
       "      <td>-1.017963</td>\n",
       "      <td>False</td>\n",
       "    </tr>\n",
       "    <tr>\n",
       "      <th>E</th>\n",
       "      <td>green</td>\n",
       "      <td>XL</td>\n",
       "      <td>2019-02-03</td>\n",
       "      <td>Sunday</td>\n",
       "      <td>1.564027</td>\n",
       "      <td>0.780043</td>\n",
       "      <td>True</td>\n",
       "    </tr>\n",
       "  </tbody>\n",
       "</table>\n",
       "</div>"
      ],
      "text/plain": [
       "   color size       date     day         a         b      c\n",
       "A  black    S 2019-01-06  Sunday       NaN  0.451937   True\n",
       "B  white    M 2019-01-13  Sunday  0.838650  0.813639   True\n",
       "C    red    L 2019-01-20     NaN  0.456919  2.493170   True\n",
       "D  white    M 2019-01-27  Sunday -1.224732 -1.017963  False\n",
       "E  green   XL 2019-02-03  Sunday  1.564027  0.780043   True"
      ]
     },
     "execution_count": 41,
     "metadata": {},
     "output_type": "execute_result"
    }
   ],
   "source": [
    "dff = df.copy()\n",
    "dff.iloc[0, 4] = np.nan\n",
    "dff.iloc[2, 3] = np.nan\n",
    "dff"
   ]
  },
  {
   "cell_type": "code",
   "execution_count": 42,
   "metadata": {},
   "outputs": [
    {
     "data": {
      "text/html": [
       "<div>\n",
       "<style scoped>\n",
       "    .dataframe tbody tr th:only-of-type {\n",
       "        vertical-align: middle;\n",
       "    }\n",
       "\n",
       "    .dataframe tbody tr th {\n",
       "        vertical-align: top;\n",
       "    }\n",
       "\n",
       "    .dataframe thead th {\n",
       "        text-align: right;\n",
       "    }\n",
       "</style>\n",
       "<table border=\"1\" class=\"dataframe\">\n",
       "  <thead>\n",
       "    <tr style=\"text-align: right;\">\n",
       "      <th></th>\n",
       "      <th>color</th>\n",
       "      <th>size</th>\n",
       "      <th>date</th>\n",
       "      <th>day</th>\n",
       "      <th>a</th>\n",
       "      <th>b</th>\n",
       "      <th>c</th>\n",
       "    </tr>\n",
       "  </thead>\n",
       "  <tbody>\n",
       "    <tr>\n",
       "      <th>B</th>\n",
       "      <td>white</td>\n",
       "      <td>M</td>\n",
       "      <td>2019-01-13</td>\n",
       "      <td>Sunday</td>\n",
       "      <td>0.838650</td>\n",
       "      <td>0.813639</td>\n",
       "      <td>True</td>\n",
       "    </tr>\n",
       "    <tr>\n",
       "      <th>D</th>\n",
       "      <td>white</td>\n",
       "      <td>M</td>\n",
       "      <td>2019-01-27</td>\n",
       "      <td>Sunday</td>\n",
       "      <td>-1.224732</td>\n",
       "      <td>-1.017963</td>\n",
       "      <td>False</td>\n",
       "    </tr>\n",
       "    <tr>\n",
       "      <th>E</th>\n",
       "      <td>green</td>\n",
       "      <td>XL</td>\n",
       "      <td>2019-02-03</td>\n",
       "      <td>Sunday</td>\n",
       "      <td>1.564027</td>\n",
       "      <td>0.780043</td>\n",
       "      <td>True</td>\n",
       "    </tr>\n",
       "  </tbody>\n",
       "</table>\n",
       "</div>"
      ],
      "text/plain": [
       "   color size       date     day         a         b      c\n",
       "B  white    M 2019-01-13  Sunday  0.838650  0.813639   True\n",
       "D  white    M 2019-01-27  Sunday -1.224732 -1.017963  False\n",
       "E  green   XL 2019-02-03  Sunday  1.564027  0.780043   True"
      ]
     },
     "execution_count": 42,
     "metadata": {},
     "output_type": "execute_result"
    }
   ],
   "source": [
    "# drop any rows with NA, axis=1 as columns\n",
    "# same as df[~df.isna().any(axis=1)]\n",
    "dff.dropna(axis=0)"
   ]
  },
  {
   "cell_type": "code",
   "execution_count": 43,
   "metadata": {},
   "outputs": [
    {
     "data": {
      "text/html": [
       "<div>\n",
       "<style scoped>\n",
       "    .dataframe tbody tr th:only-of-type {\n",
       "        vertical-align: middle;\n",
       "    }\n",
       "\n",
       "    .dataframe tbody tr th {\n",
       "        vertical-align: top;\n",
       "    }\n",
       "\n",
       "    .dataframe thead th {\n",
       "        text-align: right;\n",
       "    }\n",
       "</style>\n",
       "<table border=\"1\" class=\"dataframe\">\n",
       "  <thead>\n",
       "    <tr style=\"text-align: right;\">\n",
       "      <th></th>\n",
       "      <th>color</th>\n",
       "      <th>size</th>\n",
       "      <th>date</th>\n",
       "      <th>day</th>\n",
       "      <th>a</th>\n",
       "      <th>b</th>\n",
       "      <th>c</th>\n",
       "    </tr>\n",
       "  </thead>\n",
       "  <tbody>\n",
       "    <tr>\n",
       "      <th>B</th>\n",
       "      <td>white</td>\n",
       "      <td>M</td>\n",
       "      <td>2019-01-13</td>\n",
       "      <td>Sunday</td>\n",
       "      <td>0.838650</td>\n",
       "      <td>0.813639</td>\n",
       "      <td>True</td>\n",
       "    </tr>\n",
       "    <tr>\n",
       "      <th>C</th>\n",
       "      <td>red</td>\n",
       "      <td>L</td>\n",
       "      <td>2019-01-20</td>\n",
       "      <td>NaN</td>\n",
       "      <td>0.456919</td>\n",
       "      <td>2.493170</td>\n",
       "      <td>True</td>\n",
       "    </tr>\n",
       "    <tr>\n",
       "      <th>D</th>\n",
       "      <td>white</td>\n",
       "      <td>M</td>\n",
       "      <td>2019-01-27</td>\n",
       "      <td>Sunday</td>\n",
       "      <td>-1.224732</td>\n",
       "      <td>-1.017963</td>\n",
       "      <td>False</td>\n",
       "    </tr>\n",
       "    <tr>\n",
       "      <th>E</th>\n",
       "      <td>green</td>\n",
       "      <td>XL</td>\n",
       "      <td>2019-02-03</td>\n",
       "      <td>Sunday</td>\n",
       "      <td>1.564027</td>\n",
       "      <td>0.780043</td>\n",
       "      <td>True</td>\n",
       "    </tr>\n",
       "  </tbody>\n",
       "</table>\n",
       "</div>"
      ],
      "text/plain": [
       "   color size       date     day         a         b      c\n",
       "B  white    M 2019-01-13  Sunday  0.838650  0.813639   True\n",
       "C    red    L 2019-01-20     NaN  0.456919  2.493170   True\n",
       "D  white    M 2019-01-27  Sunday -1.224732 -1.017963  False\n",
       "E  green   XL 2019-02-03  Sunday  1.564027  0.780043   True"
      ]
     },
     "execution_count": 43,
     "metadata": {},
     "output_type": "execute_result"
    }
   ],
   "source": [
    "# drop rows any specific column has NA values\n",
    "dff[~dff.a.isna()]"
   ]
  },
  {
   "cell_type": "code",
   "execution_count": 44,
   "metadata": {
    "scrolled": true
   },
   "outputs": [
    {
     "name": "stderr",
     "output_type": "stream",
     "text": [
      "D:\\ProgramData\\Anaconda3\\lib\\site-packages\\ipykernel_launcher.py:2: FutureWarning: DataFrame.mean and DataFrame.median with numeric_only=None will include datetime64 and datetime64tz columns in a future version.\n",
      "  \n"
     ]
    },
    {
     "data": {
      "text/html": [
       "<div>\n",
       "<style scoped>\n",
       "    .dataframe tbody tr th:only-of-type {\n",
       "        vertical-align: middle;\n",
       "    }\n",
       "\n",
       "    .dataframe tbody tr th {\n",
       "        vertical-align: top;\n",
       "    }\n",
       "\n",
       "    .dataframe thead th {\n",
       "        text-align: right;\n",
       "    }\n",
       "</style>\n",
       "<table border=\"1\" class=\"dataframe\">\n",
       "  <thead>\n",
       "    <tr style=\"text-align: right;\">\n",
       "      <th></th>\n",
       "      <th>color</th>\n",
       "      <th>size</th>\n",
       "      <th>date</th>\n",
       "      <th>day</th>\n",
       "      <th>a</th>\n",
       "      <th>b</th>\n",
       "      <th>c</th>\n",
       "    </tr>\n",
       "  </thead>\n",
       "  <tbody>\n",
       "    <tr>\n",
       "      <th>A</th>\n",
       "      <td>black</td>\n",
       "      <td>S</td>\n",
       "      <td>2019-01-06</td>\n",
       "      <td>Sunday</td>\n",
       "      <td>0.408716</td>\n",
       "      <td>0.451937</td>\n",
       "      <td>True</td>\n",
       "    </tr>\n",
       "    <tr>\n",
       "      <th>B</th>\n",
       "      <td>white</td>\n",
       "      <td>M</td>\n",
       "      <td>2019-01-13</td>\n",
       "      <td>Sunday</td>\n",
       "      <td>0.838650</td>\n",
       "      <td>0.813639</td>\n",
       "      <td>True</td>\n",
       "    </tr>\n",
       "    <tr>\n",
       "      <th>C</th>\n",
       "      <td>red</td>\n",
       "      <td>L</td>\n",
       "      <td>2019-01-20</td>\n",
       "      <td>NaN</td>\n",
       "      <td>0.456919</td>\n",
       "      <td>2.493170</td>\n",
       "      <td>True</td>\n",
       "    </tr>\n",
       "    <tr>\n",
       "      <th>D</th>\n",
       "      <td>white</td>\n",
       "      <td>M</td>\n",
       "      <td>2019-01-27</td>\n",
       "      <td>Sunday</td>\n",
       "      <td>-1.224732</td>\n",
       "      <td>-1.017963</td>\n",
       "      <td>False</td>\n",
       "    </tr>\n",
       "    <tr>\n",
       "      <th>E</th>\n",
       "      <td>green</td>\n",
       "      <td>XL</td>\n",
       "      <td>2019-02-03</td>\n",
       "      <td>Sunday</td>\n",
       "      <td>1.564027</td>\n",
       "      <td>0.780043</td>\n",
       "      <td>True</td>\n",
       "    </tr>\n",
       "  </tbody>\n",
       "</table>\n",
       "</div>"
      ],
      "text/plain": [
       "   color size       date     day         a         b      c\n",
       "A  black    S 2019-01-06  Sunday  0.408716  0.451937   True\n",
       "B  white    M 2019-01-13  Sunday  0.838650  0.813639   True\n",
       "C    red    L 2019-01-20     NaN  0.456919  2.493170   True\n",
       "D  white    M 2019-01-27  Sunday -1.224732 -1.017963  False\n",
       "E  green   XL 2019-02-03  Sunday  1.564027  0.780043   True"
      ]
     },
     "execution_count": 44,
     "metadata": {},
     "output_type": "execute_result"
    }
   ],
   "source": [
    "# fill in NA with mean\n",
    "dff.fillna(dff.mean())"
   ]
  },
  {
   "cell_type": "markdown",
   "metadata": {},
   "source": [
    "### 5.7. Map & Apply\n",
    "\n",
    "Mapping is used to transform an initial set of values to another set of values through a function."
   ]
  },
  {
   "cell_type": "code",
   "execution_count": 45,
   "metadata": {
    "scrolled": true
   },
   "outputs": [
    {
     "data": {
      "text/plain": [
       "A    0.053487\n",
       "B    0.838650\n",
       "C    0.456919\n",
       "D   -1.224732\n",
       "E    1.564027\n",
       "Name: a, dtype: float64"
      ]
     },
     "execution_count": 45,
     "metadata": {},
     "output_type": "execute_result"
    }
   ],
   "source": [
    "# map\n",
    "df.a.map(lambda x: np.mean(x))"
   ]
  },
  {
   "cell_type": "markdown",
   "metadata": {},
   "source": [
    "`Apply` is similar to `map`, except that it transforms the entire DataFrame."
   ]
  },
  {
   "cell_type": "code",
   "execution_count": 46,
   "metadata": {},
   "outputs": [
    {
     "data": {
      "text/plain": [
       "a    0.337670\n",
       "b    0.704165\n",
       "dtype: float64"
      ]
     },
     "execution_count": 46,
     "metadata": {},
     "output_type": "execute_result"
    }
   ],
   "source": [
    "# apply\n",
    "df[['a','b']].apply(lambda x: x.mean())"
   ]
  },
  {
   "cell_type": "code",
   "execution_count": 47,
   "metadata": {
    "scrolled": true
   },
   "outputs": [
    {
     "data": {
      "text/html": [
       "<div>\n",
       "<style scoped>\n",
       "    .dataframe tbody tr th:only-of-type {\n",
       "        vertical-align: middle;\n",
       "    }\n",
       "\n",
       "    .dataframe tbody tr th {\n",
       "        vertical-align: top;\n",
       "    }\n",
       "\n",
       "    .dataframe thead th {\n",
       "        text-align: right;\n",
       "    }\n",
       "</style>\n",
       "<table border=\"1\" class=\"dataframe\">\n",
       "  <thead>\n",
       "    <tr style=\"text-align: right;\">\n",
       "      <th></th>\n",
       "      <th>date</th>\n",
       "      <th>a</th>\n",
       "      <th>b</th>\n",
       "      <th>c</th>\n",
       "    </tr>\n",
       "  </thead>\n",
       "  <tbody>\n",
       "    <tr>\n",
       "      <th>A</th>\n",
       "      <td>2019-01-06</td>\n",
       "      <td>0.053487</td>\n",
       "      <td>0.451937</td>\n",
       "      <td>1.0</td>\n",
       "    </tr>\n",
       "    <tr>\n",
       "      <th>B</th>\n",
       "      <td>2019-01-20</td>\n",
       "      <td>-0.193041</td>\n",
       "      <td>-0.102162</td>\n",
       "      <td>0.5</td>\n",
       "    </tr>\n",
       "    <tr>\n",
       "      <th>C</th>\n",
       "      <td>2019-01-20</td>\n",
       "      <td>0.456919</td>\n",
       "      <td>2.493170</td>\n",
       "      <td>1.0</td>\n",
       "    </tr>\n",
       "    <tr>\n",
       "      <th>D</th>\n",
       "      <td>2019-01-20</td>\n",
       "      <td>-0.193041</td>\n",
       "      <td>-0.102162</td>\n",
       "      <td>0.5</td>\n",
       "    </tr>\n",
       "    <tr>\n",
       "      <th>E</th>\n",
       "      <td>2019-02-03</td>\n",
       "      <td>1.564027</td>\n",
       "      <td>0.780043</td>\n",
       "      <td>1.0</td>\n",
       "    </tr>\n",
       "  </tbody>\n",
       "</table>\n",
       "</div>"
      ],
      "text/plain": [
       "        date         a         b    c\n",
       "A 2019-01-06  0.053487  0.451937  1.0\n",
       "B 2019-01-20 -0.193041 -0.102162  0.5\n",
       "C 2019-01-20  0.456919  2.493170  1.0\n",
       "D 2019-01-20 -0.193041 -0.102162  0.5\n",
       "E 2019-02-03  1.564027  0.780043  1.0"
      ]
     },
     "execution_count": 47,
     "metadata": {},
     "output_type": "execute_result"
    }
   ],
   "source": [
    "# Transform\n",
    "df.groupby('color').transform(lambda x: x.mean())"
   ]
  },
  {
   "cell_type": "markdown",
   "metadata": {},
   "source": [
    "### 5.8. Rolling & Expanding\n",
    "\n",
    "Creating a n-row window to aggregate data group by columns. `rolling` is a fixed size window; `expanding` is a increasing window every step. If not enough data, then return `NaN`"
   ]
  },
  {
   "cell_type": "code",
   "execution_count": 48,
   "metadata": {},
   "outputs": [
    {
     "data": {
      "text/plain": [
       "color\n",
       "black    0.053487\n",
       "green    1.564027\n",
       "red      0.456919\n",
       "white   -0.386082\n",
       "Name: a, dtype: float64"
      ]
     },
     "execution_count": 48,
     "metadata": {},
     "output_type": "execute_result"
    }
   ],
   "source": [
    "# aggregation\n",
    "df.groupby('color').a.sum()"
   ]
  },
  {
   "cell_type": "code",
   "execution_count": 49,
   "metadata": {},
   "outputs": [
    {
     "data": {
      "text/plain": [
       "color   \n",
       "black  A         NaN\n",
       "green  E         NaN\n",
       "red    C         NaN\n",
       "white  B         NaN\n",
       "       D   -0.386082\n",
       "Name: a, dtype: float64"
      ]
     },
     "execution_count": 49,
     "metadata": {},
     "output_type": "execute_result"
    }
   ],
   "source": [
    "# SQL windows function with fixed windows\n",
    "df.groupby('color').rolling(2).a.sum()"
   ]
  },
  {
   "cell_type": "code",
   "execution_count": 50,
   "metadata": {},
   "outputs": [
    {
     "data": {
      "text/plain": [
       "color   \n",
       "black  A    0.053487\n",
       "green  E    1.564027\n",
       "red    C    0.456919\n",
       "white  B    0.838650\n",
       "       D   -0.386082\n",
       "Name: a, dtype: float64"
      ]
     },
     "execution_count": 50,
     "metadata": {},
     "output_type": "execute_result"
    }
   ],
   "source": [
    "# SQL windows function with increasing windows\n",
    "df.groupby('color').expanding(1).a.sum()"
   ]
  },
  {
   "cell_type": "markdown",
   "metadata": {},
   "source": [
    "### 5.9. Filter"
   ]
  },
  {
   "cell_type": "code",
   "execution_count": 51,
   "metadata": {},
   "outputs": [
    {
     "data": {
      "text/html": [
       "<div>\n",
       "<style scoped>\n",
       "    .dataframe tbody tr th:only-of-type {\n",
       "        vertical-align: middle;\n",
       "    }\n",
       "\n",
       "    .dataframe tbody tr th {\n",
       "        vertical-align: top;\n",
       "    }\n",
       "\n",
       "    .dataframe thead th {\n",
       "        text-align: right;\n",
       "    }\n",
       "</style>\n",
       "<table border=\"1\" class=\"dataframe\">\n",
       "  <thead>\n",
       "    <tr style=\"text-align: right;\">\n",
       "      <th></th>\n",
       "      <th>color</th>\n",
       "      <th>size</th>\n",
       "      <th>date</th>\n",
       "      <th>day</th>\n",
       "      <th>a</th>\n",
       "      <th>b</th>\n",
       "      <th>c</th>\n",
       "    </tr>\n",
       "  </thead>\n",
       "  <tbody>\n",
       "    <tr>\n",
       "      <th>B</th>\n",
       "      <td>white</td>\n",
       "      <td>M</td>\n",
       "      <td>2019-01-13</td>\n",
       "      <td>Sunday</td>\n",
       "      <td>0.838650</td>\n",
       "      <td>0.813639</td>\n",
       "      <td>True</td>\n",
       "    </tr>\n",
       "    <tr>\n",
       "      <th>D</th>\n",
       "      <td>white</td>\n",
       "      <td>M</td>\n",
       "      <td>2019-01-27</td>\n",
       "      <td>Sunday</td>\n",
       "      <td>-1.224732</td>\n",
       "      <td>-1.017963</td>\n",
       "      <td>False</td>\n",
       "    </tr>\n",
       "  </tbody>\n",
       "</table>\n",
       "</div>"
      ],
      "text/plain": [
       "   color size       date     day         a         b      c\n",
       "B  white    M 2019-01-13  Sunday  0.838650  0.813639   True\n",
       "D  white    M 2019-01-27  Sunday -1.224732 -1.017963  False"
      ]
     },
     "execution_count": 51,
     "metadata": {},
     "output_type": "execute_result"
    }
   ],
   "source": [
    "# SQL having\n",
    "df.groupby('color').filter(lambda x: len(x) > 1)"
   ]
  },
  {
   "cell_type": "markdown",
   "metadata": {},
   "source": [
    "### 5.10. Melt"
   ]
  },
  {
   "cell_type": "code",
   "execution_count": 52,
   "metadata": {},
   "outputs": [
    {
     "name": "stdout",
     "output_type": "stream",
     "text": [
      "  ID  Day1  Day2\n",
      "0  A     1     2\n",
      "1  B     2     4\n",
      "2  C     3     6\n"
     ]
    },
    {
     "data": {
      "text/html": [
       "<div>\n",
       "<style scoped>\n",
       "    .dataframe tbody tr th:only-of-type {\n",
       "        vertical-align: middle;\n",
       "    }\n",
       "\n",
       "    .dataframe tbody tr th {\n",
       "        vertical-align: top;\n",
       "    }\n",
       "\n",
       "    .dataframe thead th {\n",
       "        text-align: right;\n",
       "    }\n",
       "</style>\n",
       "<table border=\"1\" class=\"dataframe\">\n",
       "  <thead>\n",
       "    <tr style=\"text-align: right;\">\n",
       "      <th></th>\n",
       "      <th>ID</th>\n",
       "      <th>variable</th>\n",
       "      <th>value</th>\n",
       "    </tr>\n",
       "  </thead>\n",
       "  <tbody>\n",
       "    <tr>\n",
       "      <th>0</th>\n",
       "      <td>A</td>\n",
       "      <td>Day1</td>\n",
       "      <td>1</td>\n",
       "    </tr>\n",
       "    <tr>\n",
       "      <th>1</th>\n",
       "      <td>B</td>\n",
       "      <td>Day1</td>\n",
       "      <td>2</td>\n",
       "    </tr>\n",
       "    <tr>\n",
       "      <th>2</th>\n",
       "      <td>C</td>\n",
       "      <td>Day1</td>\n",
       "      <td>3</td>\n",
       "    </tr>\n",
       "    <tr>\n",
       "      <th>3</th>\n",
       "      <td>A</td>\n",
       "      <td>Day2</td>\n",
       "      <td>2</td>\n",
       "    </tr>\n",
       "    <tr>\n",
       "      <th>4</th>\n",
       "      <td>B</td>\n",
       "      <td>Day2</td>\n",
       "      <td>4</td>\n",
       "    </tr>\n",
       "    <tr>\n",
       "      <th>5</th>\n",
       "      <td>C</td>\n",
       "      <td>Day2</td>\n",
       "      <td>6</td>\n",
       "    </tr>\n",
       "  </tbody>\n",
       "</table>\n",
       "</div>"
      ],
      "text/plain": [
       "  ID variable  value\n",
       "0  A     Day1      1\n",
       "1  B     Day1      2\n",
       "2  C     Day1      3\n",
       "3  A     Day2      2\n",
       "4  B     Day2      4\n",
       "5  C     Day2      6"
      ]
     },
     "execution_count": 52,
     "metadata": {},
     "output_type": "execute_result"
    }
   ],
   "source": [
    "# Convert wide dataframes to narrow\n",
    "temp = pd.DataFrame({'ID': ['A','B','C'], 'Day1': [1,2,3], 'Day2': [2,4,6]})\n",
    "print(temp)\n",
    "\n",
    "temp.melt(id_vars=['ID'])"
   ]
  },
  {
   "cell_type": "markdown",
   "metadata": {},
   "source": [
    "### 5.11. Explode"
   ]
  },
  {
   "cell_type": "code",
   "execution_count": 53,
   "metadata": {},
   "outputs": [
    {
     "data": {
      "text/html": [
       "<div>\n",
       "<style scoped>\n",
       "    .dataframe tbody tr th:only-of-type {\n",
       "        vertical-align: middle;\n",
       "    }\n",
       "\n",
       "    .dataframe tbody tr th {\n",
       "        vertical-align: top;\n",
       "    }\n",
       "\n",
       "    .dataframe thead th {\n",
       "        text-align: right;\n",
       "    }\n",
       "</style>\n",
       "<table border=\"1\" class=\"dataframe\">\n",
       "  <thead>\n",
       "    <tr style=\"text-align: right;\">\n",
       "      <th></th>\n",
       "      <th>order_id</th>\n",
       "      <th>order_date</th>\n",
       "      <th>package</th>\n",
       "      <th>package_code</th>\n",
       "    </tr>\n",
       "  </thead>\n",
       "  <tbody>\n",
       "    <tr>\n",
       "      <th>0</th>\n",
       "      <td>1</td>\n",
       "      <td>20/5/2018</td>\n",
       "      <td>p1,p2,p3</td>\n",
       "      <td>#111,#222,#333</td>\n",
       "    </tr>\n",
       "    <tr>\n",
       "      <th>1</th>\n",
       "      <td>3</td>\n",
       "      <td>22/5/2018</td>\n",
       "      <td>p4</td>\n",
       "      <td>#444</td>\n",
       "    </tr>\n",
       "    <tr>\n",
       "      <th>2</th>\n",
       "      <td>7</td>\n",
       "      <td>23/5/2018</td>\n",
       "      <td>p5,p6</td>\n",
       "      <td>#555,$666</td>\n",
       "    </tr>\n",
       "  </tbody>\n",
       "</table>\n",
       "</div>"
      ],
      "text/plain": [
       "   order_id order_date   package    package_code\n",
       "0         1  20/5/2018  p1,p2,p3  #111,#222,#333\n",
       "1         3  22/5/2018        p4            #444\n",
       "2         7  23/5/2018     p5,p6       #555,$666"
      ]
     },
     "execution_count": 53,
     "metadata": {},
     "output_type": "execute_result"
    }
   ],
   "source": [
    "temp = {'order_id':[1,3,7],\n",
    "        'order_date':['20/5/2018','22/5/2018','23/5/2018'],\n",
    "        'package':['p1,p2,p3','p4','p5,p6'],\n",
    "        'package_code':['#111,#222,#333','#444','#555,$666']}\n",
    "temp = pd.DataFrame(temp)\n",
    "temp"
   ]
  },
  {
   "cell_type": "code",
   "execution_count": 54,
   "metadata": {},
   "outputs": [
    {
     "data": {
      "text/html": [
       "<div>\n",
       "<style scoped>\n",
       "    .dataframe tbody tr th:only-of-type {\n",
       "        vertical-align: middle;\n",
       "    }\n",
       "\n",
       "    .dataframe tbody tr th {\n",
       "        vertical-align: top;\n",
       "    }\n",
       "\n",
       "    .dataframe thead th {\n",
       "        text-align: right;\n",
       "    }\n",
       "</style>\n",
       "<table border=\"1\" class=\"dataframe\">\n",
       "  <thead>\n",
       "    <tr style=\"text-align: right;\">\n",
       "      <th></th>\n",
       "      <th>order_id</th>\n",
       "      <th>order_date</th>\n",
       "      <th>package</th>\n",
       "      <th>package_code</th>\n",
       "    </tr>\n",
       "  </thead>\n",
       "  <tbody>\n",
       "    <tr>\n",
       "      <th>0</th>\n",
       "      <td>1</td>\n",
       "      <td>20/5/2018</td>\n",
       "      <td>p1</td>\n",
       "      <td>#111</td>\n",
       "    </tr>\n",
       "    <tr>\n",
       "      <th>1</th>\n",
       "      <td>1</td>\n",
       "      <td>20/5/2018</td>\n",
       "      <td>p2</td>\n",
       "      <td>#222</td>\n",
       "    </tr>\n",
       "    <tr>\n",
       "      <th>2</th>\n",
       "      <td>1</td>\n",
       "      <td>20/5/2018</td>\n",
       "      <td>p3</td>\n",
       "      <td>#333</td>\n",
       "    </tr>\n",
       "    <tr>\n",
       "      <th>3</th>\n",
       "      <td>3</td>\n",
       "      <td>22/5/2018</td>\n",
       "      <td>p4</td>\n",
       "      <td>#444</td>\n",
       "    </tr>\n",
       "    <tr>\n",
       "      <th>4</th>\n",
       "      <td>7</td>\n",
       "      <td>23/5/2018</td>\n",
       "      <td>p5</td>\n",
       "      <td>#555</td>\n",
       "    </tr>\n",
       "    <tr>\n",
       "      <th>5</th>\n",
       "      <td>7</td>\n",
       "      <td>23/5/2018</td>\n",
       "      <td>p6</td>\n",
       "      <td>$666</td>\n",
       "    </tr>\n",
       "  </tbody>\n",
       "</table>\n",
       "</div>"
      ],
      "text/plain": [
       "   order_id order_date package package_code\n",
       "0         1  20/5/2018      p1         #111\n",
       "1         1  20/5/2018      p2         #222\n",
       "2         1  20/5/2018      p3         #333\n",
       "3         3  22/5/2018      p4         #444\n",
       "4         7  23/5/2018      p5         #555\n",
       "5         7  23/5/2018      p6         $666"
      ]
     },
     "execution_count": 54,
     "metadata": {},
     "output_type": "execute_result"
    }
   ],
   "source": [
    "temp.set_index(['order_id', 'order_date']).apply(lambda x: x.str.split(',').explode()).reset_index()"
   ]
  }
 ],
 "metadata": {
  "kernelspec": {
   "display_name": "Python 3",
   "language": "python",
   "name": "python3"
  },
  "language_info": {
   "codemirror_mode": {
    "name": "ipython",
    "version": 3
   },
   "file_extension": ".py",
   "mimetype": "text/x-python",
   "name": "python",
   "nbconvert_exporter": "python",
   "pygments_lexer": "ipython3",
   "version": "3.7.3"
  }
 },
 "nbformat": 4,
 "nbformat_minor": 2
}
