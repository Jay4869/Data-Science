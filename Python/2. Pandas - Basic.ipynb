{
 "cells": [
  {
   "cell_type": "markdown",
   "metadata": {},
   "source": [
    "# Pandas - Basic\n",
    "\n",
    "`Pandas` is a package built on top of `NumPy`, which is consist of Series and DataFrame objects, and provides an efficient implementation of a DataFrame. DataFrames are essentially multidimensional arrays with attached row and column labels, and often with heterogeneous types and/or missing data. As well as offering a convenient storage interface for labeled data, Pandas implements a number of powerful data operations familiar to users of both database frameworks and spreadsheet programs.\n",
    "\n",
    "Pandas has more flexibility (e.g., attaching labels to data, working with missing data, etc.) and when attempting operations that do not map well to element-wise broadcasting (e.g., groupings, pivots, etc.), each of which is an important piece of analyzing the less structured data available in many forms in the world around us.\n",
    "\n",
    "* Pandas series\n",
    "* Pandas DataFrame\n",
    "* Quick checking DataFrame\n",
    "* Descriptive stats on DataFrame\n",
    "* Indexing, slicing, conditional subsetting\n",
    "* Basic operations"
   ]
  },
  {
   "cell_type": "code",
   "execution_count": 2,
   "metadata": {},
   "outputs": [],
   "source": [
    "import numpy as np\n",
    "import pandas as pd"
   ]
  },
  {
   "cell_type": "markdown",
   "metadata": {},
   "source": [
    "## 1.1. Series Object\n",
    "\n",
    "The Series object is basically interchangeable with a one-dimensional NumPy array. The essential difference is the presence of the index: while the Numpy Array has an implicitly defined integer index used to access the values, the Pandas Series has an explicitly defined index associated with the values."
   ]
  },
  {
   "cell_type": "code",
   "execution_count": 3,
   "metadata": {
    "scrolled": false
   },
   "outputs": [
    {
     "data": {
      "text/plain": [
       "alice      0.25\n",
       "bob        0.50\n",
       "charles    0.75\n",
       "darwin     1.00\n",
       "dtype: float64"
      ]
     },
     "execution_count": 3,
     "metadata": {},
     "output_type": "execute_result"
    }
   ],
   "source": [
    "s = pd.Series([0.25, 0.5, 0.75, 1.0], index=[\"alice\", \"bob\", \"charles\", \"darwin\"])\n",
    "s"
   ]
  },
  {
   "cell_type": "markdown",
   "metadata": {},
   "source": [
    "We can access with the `values` and `index` attributes, return a NumPy array and Index"
   ]
  },
  {
   "cell_type": "code",
   "execution_count": 4,
   "metadata": {},
   "outputs": [
    {
     "data": {
      "text/plain": [
       "array([0.25, 0.5 , 0.75, 1.  ])"
      ]
     },
     "execution_count": 4,
     "metadata": {},
     "output_type": "execute_result"
    }
   ],
   "source": [
    "s.values"
   ]
  },
  {
   "cell_type": "code",
   "execution_count": 5,
   "metadata": {},
   "outputs": [
    {
     "data": {
      "text/plain": [
       "Index(['alice', 'bob', 'charles', 'darwin'], dtype='object')"
      ]
     },
     "execution_count": 5,
     "metadata": {},
     "output_type": "execute_result"
    }
   ],
   "source": [
    "s.index"
   ]
  },
  {
   "cell_type": "markdown",
   "metadata": {},
   "source": [
    "The Pandas Series is also like a specialization of a Python dictionary. A dictionary is a structure that maps arbitrary keys to a set of arbitrary values, and a Series is a structure which maps typed keys to a set of typed values. This typing is important: just as the type-specific compiled code behind a NumPy array makes it more efficient than a Python list for certain operations, the type information of a Pandas Series makes it much more efficient than Python dictionaries for certain operations."
   ]
  },
  {
   "cell_type": "code",
   "execution_count": 6,
   "metadata": {},
   "outputs": [
    {
     "data": {
      "text/plain": [
       "color                                              [black]\n",
       "size                                                   [S]\n",
       "data     DatetimeIndex(['2019-01-06'], dtype='datetime6...\n",
       "a                                                        0\n",
       "b                                                        1\n",
       "dtype: object"
      ]
     },
     "execution_count": 6,
     "metadata": {},
     "output_type": "execute_result"
    }
   ],
   "source": [
    "# Using a pre-defined Dictionary object\n",
    "s = {'color': ['black'],\n",
    "     'size': ['S'],\n",
    "     'data': pd.date_range('1/1/2019', periods=1, freq='W'),\n",
    "     'a': 0,\n",
    "     'b': 1}\n",
    "pd.Series(s)"
   ]
  },
  {
   "cell_type": "markdown",
   "metadata": {},
   "source": [
    "By default, a Series will be created where the index is drawn from the sorted keys."
   ]
  },
  {
   "cell_type": "code",
   "execution_count": 7,
   "metadata": {},
   "outputs": [
    {
     "data": {
      "text/plain": [
       "['S']"
      ]
     },
     "execution_count": 7,
     "metadata": {},
     "output_type": "execute_result"
    }
   ],
   "source": [
    "s['size']"
   ]
  },
  {
   "cell_type": "markdown",
   "metadata": {},
   "source": [
    "## 1.2. DataFrame Object\n",
    "\n",
    "The DataFrame can be thought of either as a generalization of a NumPy array, or as a specialization of a Python dictionary. A DataFrame is an analog of a two-dimensional array with both flexible row indices and flexible column names."
   ]
  },
  {
   "cell_type": "code",
   "execution_count": 8,
   "metadata": {},
   "outputs": [
    {
     "data": {
      "text/html": [
       "<div>\n",
       "<style scoped>\n",
       "    .dataframe tbody tr th:only-of-type {\n",
       "        vertical-align: middle;\n",
       "    }\n",
       "\n",
       "    .dataframe tbody tr th {\n",
       "        vertical-align: top;\n",
       "    }\n",
       "\n",
       "    .dataframe thead th {\n",
       "        text-align: right;\n",
       "    }\n",
       "</style>\n",
       "<table border=\"1\" class=\"dataframe\">\n",
       "  <thead>\n",
       "    <tr style=\"text-align: right;\">\n",
       "      <th></th>\n",
       "      <th>color</th>\n",
       "      <th>size</th>\n",
       "      <th>date</th>\n",
       "      <th>a</th>\n",
       "      <th>b</th>\n",
       "    </tr>\n",
       "  </thead>\n",
       "  <tbody>\n",
       "    <tr>\n",
       "      <th>0</th>\n",
       "      <td>black</td>\n",
       "      <td>S</td>\n",
       "      <td>2019-01-06</td>\n",
       "      <td>0.804242</td>\n",
       "      <td>-2.063441</td>\n",
       "    </tr>\n",
       "    <tr>\n",
       "      <th>1</th>\n",
       "      <td>white</td>\n",
       "      <td>M</td>\n",
       "      <td>2019-01-13</td>\n",
       "      <td>1.150411</td>\n",
       "      <td>-1.980491</td>\n",
       "    </tr>\n",
       "    <tr>\n",
       "      <th>2</th>\n",
       "      <td>black</td>\n",
       "      <td>L</td>\n",
       "      <td>2019-01-20</td>\n",
       "      <td>-0.913260</td>\n",
       "      <td>3.782389</td>\n",
       "    </tr>\n",
       "    <tr>\n",
       "      <th>3</th>\n",
       "      <td>white</td>\n",
       "      <td>M</td>\n",
       "      <td>2019-01-27</td>\n",
       "      <td>0.761324</td>\n",
       "      <td>0.417888</td>\n",
       "    </tr>\n",
       "    <tr>\n",
       "      <th>4</th>\n",
       "      <td>black</td>\n",
       "      <td>L</td>\n",
       "      <td>2019-02-03</td>\n",
       "      <td>-0.372933</td>\n",
       "      <td>0.344410</td>\n",
       "    </tr>\n",
       "    <tr>\n",
       "      <th>5</th>\n",
       "      <td>white</td>\n",
       "      <td>S</td>\n",
       "      <td>2019-02-10</td>\n",
       "      <td>1.208735</td>\n",
       "      <td>-0.081171</td>\n",
       "    </tr>\n",
       "    <tr>\n",
       "      <th>6</th>\n",
       "      <td>black</td>\n",
       "      <td>S</td>\n",
       "      <td>2019-02-17</td>\n",
       "      <td>0.910037</td>\n",
       "      <td>1.053090</td>\n",
       "    </tr>\n",
       "    <tr>\n",
       "      <th>7</th>\n",
       "      <td>white</td>\n",
       "      <td>XL</td>\n",
       "      <td>2019-02-24</td>\n",
       "      <td>-0.148918</td>\n",
       "      <td>-0.712895</td>\n",
       "    </tr>\n",
       "    <tr>\n",
       "      <th>8</th>\n",
       "      <td>black</td>\n",
       "      <td>XL</td>\n",
       "      <td>2019-03-03</td>\n",
       "      <td>1.368588</td>\n",
       "      <td>-2.362638</td>\n",
       "    </tr>\n",
       "    <tr>\n",
       "      <th>9</th>\n",
       "      <td>white</td>\n",
       "      <td>M</td>\n",
       "      <td>2019-03-10</td>\n",
       "      <td>-0.533759</td>\n",
       "      <td>-0.234717</td>\n",
       "    </tr>\n",
       "  </tbody>\n",
       "</table>\n",
       "</div>"
      ],
      "text/plain": [
       "   color size       date         a         b\n",
       "0  black    S 2019-01-06  0.804242 -2.063441\n",
       "1  white    M 2019-01-13  1.150411 -1.980491\n",
       "2  black    L 2019-01-20 -0.913260  3.782389\n",
       "3  white    M 2019-01-27  0.761324  0.417888\n",
       "4  black    L 2019-02-03 -0.372933  0.344410\n",
       "5  white    S 2019-02-10  1.208735 -0.081171\n",
       "6  black    S 2019-02-17  0.910037  1.053090\n",
       "7  white   XL 2019-02-24 -0.148918 -0.712895\n",
       "8  black   XL 2019-03-03  1.368588 -2.362638\n",
       "9  white    M 2019-03-10 -0.533759 -0.234717"
      ]
     },
     "execution_count": 8,
     "metadata": {},
     "output_type": "execute_result"
    }
   ],
   "source": [
    "data = {'color': ['black', 'white', 'black', 'white', 'black', 'white', 'black', 'white', 'black', 'white'],\n",
    "        'size': ['S', 'M', 'L', 'M', 'L', 'S', 'S', 'XL', 'XL', 'M'],\n",
    "        'date': pd.date_range('1/1/2019', periods=10, freq='W'),\n",
    "        'a': np.random.randn(10),\n",
    "        'b': np.random.normal(0.5, 2, 10)}\n",
    "\n",
    "df = pd.DataFrame(data)\n",
    "df"
   ]
  },
  {
   "cell_type": "code",
   "execution_count": 9,
   "metadata": {},
   "outputs": [
    {
     "data": {
      "text/plain": [
       "array([['black', 'S', Timestamp('2019-01-06 00:00:00'),\n",
       "        0.8042415677144027, -2.063440976715521],\n",
       "       ['white', 'M', Timestamp('2019-01-13 00:00:00'),\n",
       "        1.1504109167698633, -1.9804909900155727],\n",
       "       ['black', 'L', Timestamp('2019-01-20 00:00:00'),\n",
       "        -0.9132604855010013, 3.7823891526280993],\n",
       "       ['white', 'M', Timestamp('2019-01-27 00:00:00'),\n",
       "        0.7613244578365003, 0.41788830359343615],\n",
       "       ['black', 'L', Timestamp('2019-02-03 00:00:00'),\n",
       "        -0.3729326803937552, 0.34440960058121156],\n",
       "       ['white', 'S', Timestamp('2019-02-10 00:00:00'),\n",
       "        1.2087345376490573, -0.08117118384957878],\n",
       "       ['black', 'S', Timestamp('2019-02-17 00:00:00'),\n",
       "        0.9100371802601188, 1.0530898585902602],\n",
       "       ['white', 'XL', Timestamp('2019-02-24 00:00:00'),\n",
       "        -0.14891839375247912, -0.7128947738728315],\n",
       "       ['black', 'XL', Timestamp('2019-03-03 00:00:00'),\n",
       "        1.3685877667975572, -2.362637985860463],\n",
       "       ['white', 'M', Timestamp('2019-03-10 00:00:00'),\n",
       "        -0.5337585823377788, -0.23471713617978973]], dtype=object)"
      ]
     },
     "execution_count": 9,
     "metadata": {},
     "output_type": "execute_result"
    }
   ],
   "source": [
    "df.values"
   ]
  },
  {
   "cell_type": "markdown",
   "metadata": {},
   "source": [
    "Like the Series object, the DataFrame has an index attribute that gives access to the index labels:"
   ]
  },
  {
   "cell_type": "code",
   "execution_count": 10,
   "metadata": {},
   "outputs": [
    {
     "data": {
      "text/plain": [
       "RangeIndex(start=0, stop=10, step=1)"
      ]
     },
     "execution_count": 10,
     "metadata": {},
     "output_type": "execute_result"
    }
   ],
   "source": [
    "df.index"
   ]
  },
  {
   "cell_type": "markdown",
   "metadata": {},
   "source": [
    "Additionally, the DataFrame has a columns attribute, which is an Index object holding the column labels:"
   ]
  },
  {
   "cell_type": "code",
   "execution_count": 11,
   "metadata": {},
   "outputs": [
    {
     "data": {
      "text/plain": [
       "Index(['color', 'size', 'date', 'a', 'b'], dtype='object')"
      ]
     },
     "execution_count": 11,
     "metadata": {},
     "output_type": "execute_result"
    }
   ],
   "source": [
    "df.columns"
   ]
  },
  {
   "cell_type": "markdown",
   "metadata": {},
   "source": [
    "DataFrame can be created reading directly from a CSV or an Excel file using `pd.read_csv` and `pd.read_excel`"
   ]
  },
  {
   "cell_type": "code",
   "execution_count": 12,
   "metadata": {},
   "outputs": [
    {
     "data": {
      "text/html": [
       "<div>\n",
       "<style scoped>\n",
       "    .dataframe tbody tr th:only-of-type {\n",
       "        vertical-align: middle;\n",
       "    }\n",
       "\n",
       "    .dataframe tbody tr th {\n",
       "        vertical-align: top;\n",
       "    }\n",
       "\n",
       "    .dataframe thead th {\n",
       "        text-align: right;\n",
       "    }\n",
       "</style>\n",
       "<table border=\"1\" class=\"dataframe\">\n",
       "  <thead>\n",
       "    <tr style=\"text-align: right;\">\n",
       "      <th></th>\n",
       "      <th>ACT</th>\n",
       "      <th>FinalExam</th>\n",
       "      <th>QuizAvg</th>\n",
       "      <th>TestAvg</th>\n",
       "    </tr>\n",
       "  </thead>\n",
       "  <tbody>\n",
       "    <tr>\n",
       "      <th>0</th>\n",
       "      <td>33</td>\n",
       "      <td>181</td>\n",
       "      <td>95</td>\n",
       "      <td>89</td>\n",
       "    </tr>\n",
       "    <tr>\n",
       "      <th>1</th>\n",
       "      <td>31</td>\n",
       "      <td>169</td>\n",
       "      <td>81</td>\n",
       "      <td>89</td>\n",
       "    </tr>\n",
       "    <tr>\n",
       "      <th>2</th>\n",
       "      <td>21</td>\n",
       "      <td>176</td>\n",
       "      <td>65</td>\n",
       "      <td>68</td>\n",
       "    </tr>\n",
       "    <tr>\n",
       "      <th>3</th>\n",
       "      <td>25</td>\n",
       "      <td>181</td>\n",
       "      <td>66</td>\n",
       "      <td>90</td>\n",
       "    </tr>\n",
       "    <tr>\n",
       "      <th>4</th>\n",
       "      <td>29</td>\n",
       "      <td>169</td>\n",
       "      <td>89</td>\n",
       "      <td>81</td>\n",
       "    </tr>\n",
       "  </tbody>\n",
       "</table>\n",
       "</div>"
      ],
      "text/plain": [
       "   ACT  FinalExam  QuizAvg  TestAvg\n",
       "0   33        181       95       89\n",
       "1   31        169       81       89\n",
       "2   21        176       65       68\n",
       "3   25        181       66       90\n",
       "4   29        169       89       81"
      ]
     },
     "execution_count": 12,
     "metadata": {},
     "output_type": "execute_result"
    }
   ],
   "source": [
    "pd.read_csv('../Data/Test_Scores.csv').head()"
   ]
  },
  {
   "cell_type": "markdown",
   "metadata": {},
   "source": [
    "## 1.3. Index Object"
   ]
  },
  {
   "cell_type": "markdown",
   "metadata": {},
   "source": [
    "This Index object is an interesting structure in itself, and it can be thought of either as an immutable array or as an ordered set (technically a multi-set, as Index objects may contain repeated values). Index objects also have many of the attributes familiar from NumPy arrays:"
   ]
  },
  {
   "cell_type": "code",
   "execution_count": 13,
   "metadata": {},
   "outputs": [
    {
     "data": {
      "text/plain": [
       "Index([['A', 'B', 'B', 'B', 'C', 'A', 'B', 'A', 'C', 'C'], ['JP', 'CN', 'US', 'US', 'US', 'CN', 'CN', 'CA', 'JP', 'CA']], dtype='object')"
      ]
     },
     "execution_count": 13,
     "metadata": {},
     "output_type": "execute_result"
    }
   ],
   "source": [
    "index = [['A', 'B', 'B', 'B', 'C', 'A', 'B', 'A', 'C', 'C'], ['JP', 'CN', 'US', 'US', 'US', 'CN', 'CN', 'CA', 'JP', 'CA']]\n",
    "\n",
    "ind = pd.Index(index)\n",
    "ind"
   ]
  },
  {
   "cell_type": "code",
   "execution_count": 14,
   "metadata": {},
   "outputs": [
    {
     "name": "stdout",
     "output_type": "stream",
     "text": [
      "['A', 'B', 'B', 'B', 'C', 'A', 'B', 'A', 'C', 'C']\n",
      "A\n"
     ]
    }
   ],
   "source": [
    "print(ind[0])\n",
    "\n",
    "print(ind[0][0])"
   ]
  },
  {
   "cell_type": "code",
   "execution_count": 15,
   "metadata": {},
   "outputs": [
    {
     "name": "stdout",
     "output_type": "stream",
     "text": [
      "size: 2\n",
      "shape: (2,)\n",
      "dim: 1\n",
      "type: object\n"
     ]
    }
   ],
   "source": [
    "print('size:', ind.size)\n",
    "print('shape:', ind.shape)\n",
    "print('dim:', ind.ndim)\n",
    "print('type:', ind.dtype)"
   ]
  },
  {
   "cell_type": "markdown",
   "metadata": {},
   "source": [
    "One difference between Index objects are immutable–that is, they cannot be modified, but NumPy arrays does:"
   ]
  },
  {
   "cell_type": "code",
   "execution_count": 16,
   "metadata": {
    "scrolled": true
   },
   "outputs": [
    {
     "ename": "TypeError",
     "evalue": "Index does not support mutable operations",
     "output_type": "error",
     "traceback": [
      "\u001b[1;31m---------------------------------------------------------------------------\u001b[0m",
      "\u001b[1;31mTypeError\u001b[0m                                 Traceback (most recent call last)",
      "\u001b[1;32m<ipython-input-16-5d87789215b7>\u001b[0m in \u001b[0;36m<module>\u001b[1;34m\u001b[0m\n\u001b[1;32m----> 1\u001b[1;33m \u001b[0mind\u001b[0m\u001b[1;33m[\u001b[0m\u001b[1;36m0\u001b[0m\u001b[1;33m]\u001b[0m \u001b[1;33m=\u001b[0m \u001b[1;36m1\u001b[0m\u001b[1;33m\u001b[0m\u001b[1;33m\u001b[0m\u001b[0m\n\u001b[0m",
      "\u001b[1;32mD:\\ProgramData\\Anaconda3\\lib\\site-packages\\pandas\\core\\indexes\\base.py\u001b[0m in \u001b[0;36m__setitem__\u001b[1;34m(self, key, value)\u001b[0m\n\u001b[0;32m   3936\u001b[0m \u001b[1;33m\u001b[0m\u001b[0m\n\u001b[0;32m   3937\u001b[0m     \u001b[1;32mdef\u001b[0m \u001b[0m__setitem__\u001b[0m\u001b[1;33m(\u001b[0m\u001b[0mself\u001b[0m\u001b[1;33m,\u001b[0m \u001b[0mkey\u001b[0m\u001b[1;33m,\u001b[0m \u001b[0mvalue\u001b[0m\u001b[1;33m)\u001b[0m\u001b[1;33m:\u001b[0m\u001b[1;33m\u001b[0m\u001b[1;33m\u001b[0m\u001b[0m\n\u001b[1;32m-> 3938\u001b[1;33m         \u001b[1;32mraise\u001b[0m \u001b[0mTypeError\u001b[0m\u001b[1;33m(\u001b[0m\u001b[1;34m\"Index does not support mutable operations\"\u001b[0m\u001b[1;33m)\u001b[0m\u001b[1;33m\u001b[0m\u001b[1;33m\u001b[0m\u001b[0m\n\u001b[0m\u001b[0;32m   3939\u001b[0m \u001b[1;33m\u001b[0m\u001b[0m\n\u001b[0;32m   3940\u001b[0m     \u001b[1;32mdef\u001b[0m \u001b[0m__getitem__\u001b[0m\u001b[1;33m(\u001b[0m\u001b[0mself\u001b[0m\u001b[1;33m,\u001b[0m \u001b[0mkey\u001b[0m\u001b[1;33m)\u001b[0m\u001b[1;33m:\u001b[0m\u001b[1;33m\u001b[0m\u001b[1;33m\u001b[0m\u001b[0m\n",
      "\u001b[1;31mTypeError\u001b[0m: Index does not support mutable operations"
     ]
    }
   ],
   "source": [
    "ind[0] = 1"
   ]
  },
  {
   "cell_type": "markdown",
   "metadata": {},
   "source": [
    "The Index object follows many of the conventions used by Python's built-in `set` data structure, so that unions, intersections, differences, and other combinations can be computed in a familiar way:"
   ]
  },
  {
   "cell_type": "code",
   "execution_count": 17,
   "metadata": {
    "scrolled": true
   },
   "outputs": [
    {
     "name": "stdout",
     "output_type": "stream",
     "text": [
      "Int64Index([3, 5, 7], dtype='int64')\n",
      "Int64Index([1, 2, 3, 5, 7, 9, 11], dtype='int64')\n",
      "Int64Index([1, 2, 9, 11], dtype='int64')\n"
     ]
    }
   ],
   "source": [
    "indA = pd.Index([1, 3, 5, 7, 9])\n",
    "indB = pd.Index([2, 3, 5, 7, 11])\n",
    "\n",
    "# intersection\n",
    "print(indA & indB)\n",
    "\n",
    "# union\n",
    "print(indA | indB)\n",
    "\n",
    "# symmetric difference\n",
    "print(indA ^ indB)"
   ]
  },
  {
   "cell_type": "markdown",
   "metadata": {},
   "source": [
    "Adding multi-indexing to dataframe"
   ]
  },
  {
   "cell_type": "code",
   "execution_count": 18,
   "metadata": {
    "scrolled": true
   },
   "outputs": [
    {
     "data": {
      "text/html": [
       "<div>\n",
       "<style scoped>\n",
       "    .dataframe tbody tr th:only-of-type {\n",
       "        vertical-align: middle;\n",
       "    }\n",
       "\n",
       "    .dataframe tbody tr th {\n",
       "        vertical-align: top;\n",
       "    }\n",
       "\n",
       "    .dataframe thead th {\n",
       "        text-align: right;\n",
       "    }\n",
       "</style>\n",
       "<table border=\"1\" class=\"dataframe\">\n",
       "  <thead>\n",
       "    <tr style=\"text-align: right;\">\n",
       "      <th></th>\n",
       "      <th></th>\n",
       "      <th>color</th>\n",
       "      <th>size</th>\n",
       "      <th>date</th>\n",
       "      <th>a</th>\n",
       "      <th>b</th>\n",
       "    </tr>\n",
       "    <tr>\n",
       "      <th>class</th>\n",
       "      <th>country</th>\n",
       "      <th></th>\n",
       "      <th></th>\n",
       "      <th></th>\n",
       "      <th></th>\n",
       "      <th></th>\n",
       "    </tr>\n",
       "  </thead>\n",
       "  <tbody>\n",
       "    <tr>\n",
       "      <th>A</th>\n",
       "      <th>JP</th>\n",
       "      <td>black</td>\n",
       "      <td>S</td>\n",
       "      <td>2019-01-06</td>\n",
       "      <td>0.804242</td>\n",
       "      <td>-2.063441</td>\n",
       "    </tr>\n",
       "    <tr>\n",
       "      <th rowspan=\"3\" valign=\"top\">B</th>\n",
       "      <th>CN</th>\n",
       "      <td>white</td>\n",
       "      <td>M</td>\n",
       "      <td>2019-01-13</td>\n",
       "      <td>1.150411</td>\n",
       "      <td>-1.980491</td>\n",
       "    </tr>\n",
       "    <tr>\n",
       "      <th>US</th>\n",
       "      <td>black</td>\n",
       "      <td>L</td>\n",
       "      <td>2019-01-20</td>\n",
       "      <td>-0.913260</td>\n",
       "      <td>3.782389</td>\n",
       "    </tr>\n",
       "    <tr>\n",
       "      <th>US</th>\n",
       "      <td>white</td>\n",
       "      <td>M</td>\n",
       "      <td>2019-01-27</td>\n",
       "      <td>0.761324</td>\n",
       "      <td>0.417888</td>\n",
       "    </tr>\n",
       "    <tr>\n",
       "      <th>C</th>\n",
       "      <th>US</th>\n",
       "      <td>black</td>\n",
       "      <td>L</td>\n",
       "      <td>2019-02-03</td>\n",
       "      <td>-0.372933</td>\n",
       "      <td>0.344410</td>\n",
       "    </tr>\n",
       "    <tr>\n",
       "      <th>A</th>\n",
       "      <th>CN</th>\n",
       "      <td>white</td>\n",
       "      <td>S</td>\n",
       "      <td>2019-02-10</td>\n",
       "      <td>1.208735</td>\n",
       "      <td>-0.081171</td>\n",
       "    </tr>\n",
       "    <tr>\n",
       "      <th>B</th>\n",
       "      <th>CN</th>\n",
       "      <td>black</td>\n",
       "      <td>S</td>\n",
       "      <td>2019-02-17</td>\n",
       "      <td>0.910037</td>\n",
       "      <td>1.053090</td>\n",
       "    </tr>\n",
       "    <tr>\n",
       "      <th>A</th>\n",
       "      <th>CA</th>\n",
       "      <td>white</td>\n",
       "      <td>XL</td>\n",
       "      <td>2019-02-24</td>\n",
       "      <td>-0.148918</td>\n",
       "      <td>-0.712895</td>\n",
       "    </tr>\n",
       "    <tr>\n",
       "      <th rowspan=\"2\" valign=\"top\">C</th>\n",
       "      <th>JP</th>\n",
       "      <td>black</td>\n",
       "      <td>XL</td>\n",
       "      <td>2019-03-03</td>\n",
       "      <td>1.368588</td>\n",
       "      <td>-2.362638</td>\n",
       "    </tr>\n",
       "    <tr>\n",
       "      <th>CA</th>\n",
       "      <td>white</td>\n",
       "      <td>M</td>\n",
       "      <td>2019-03-10</td>\n",
       "      <td>-0.533759</td>\n",
       "      <td>-0.234717</td>\n",
       "    </tr>\n",
       "  </tbody>\n",
       "</table>\n",
       "</div>"
      ],
      "text/plain": [
       "               color size       date         a         b\n",
       "class country                                           \n",
       "A     JP       black    S 2019-01-06  0.804242 -2.063441\n",
       "B     CN       white    M 2019-01-13  1.150411 -1.980491\n",
       "      US       black    L 2019-01-20 -0.913260  3.782389\n",
       "      US       white    M 2019-01-27  0.761324  0.417888\n",
       "C     US       black    L 2019-02-03 -0.372933  0.344410\n",
       "A     CN       white    S 2019-02-10  1.208735 -0.081171\n",
       "B     CN       black    S 2019-02-17  0.910037  1.053090\n",
       "A     CA       white   XL 2019-02-24 -0.148918 -0.712895\n",
       "C     JP       black   XL 2019-03-03  1.368588 -2.362638\n",
       "      CA       white    M 2019-03-10 -0.533759 -0.234717"
      ]
     },
     "execution_count": 18,
     "metadata": {},
     "output_type": "execute_result"
    }
   ],
   "source": [
    "index = pd.MultiIndex.from_arrays(index, names=['class', 'country'])\n",
    "\n",
    "df = pd.DataFrame(data, index=index)\n",
    "df"
   ]
  },
  {
   "cell_type": "markdown",
   "metadata": {},
   "source": [
    "## 2. Quick checking DataFrames"
   ]
  },
  {
   "cell_type": "code",
   "execution_count": 19,
   "metadata": {},
   "outputs": [
    {
     "data": {
      "text/html": [
       "<div>\n",
       "<style scoped>\n",
       "    .dataframe tbody tr th:only-of-type {\n",
       "        vertical-align: middle;\n",
       "    }\n",
       "\n",
       "    .dataframe tbody tr th {\n",
       "        vertical-align: top;\n",
       "    }\n",
       "\n",
       "    .dataframe thead th {\n",
       "        text-align: right;\n",
       "    }\n",
       "</style>\n",
       "<table border=\"1\" class=\"dataframe\">\n",
       "  <thead>\n",
       "    <tr style=\"text-align: right;\">\n",
       "      <th></th>\n",
       "      <th></th>\n",
       "      <th>color</th>\n",
       "      <th>size</th>\n",
       "      <th>date</th>\n",
       "      <th>a</th>\n",
       "      <th>b</th>\n",
       "    </tr>\n",
       "    <tr>\n",
       "      <th>class</th>\n",
       "      <th>country</th>\n",
       "      <th></th>\n",
       "      <th></th>\n",
       "      <th></th>\n",
       "      <th></th>\n",
       "      <th></th>\n",
       "    </tr>\n",
       "  </thead>\n",
       "  <tbody>\n",
       "    <tr>\n",
       "      <th>A</th>\n",
       "      <th>JP</th>\n",
       "      <td>black</td>\n",
       "      <td>S</td>\n",
       "      <td>2019-01-06</td>\n",
       "      <td>0.804242</td>\n",
       "      <td>-2.063441</td>\n",
       "    </tr>\n",
       "    <tr>\n",
       "      <th rowspan=\"2\" valign=\"top\">B</th>\n",
       "      <th>CN</th>\n",
       "      <td>white</td>\n",
       "      <td>M</td>\n",
       "      <td>2019-01-13</td>\n",
       "      <td>1.150411</td>\n",
       "      <td>-1.980491</td>\n",
       "    </tr>\n",
       "    <tr>\n",
       "      <th>US</th>\n",
       "      <td>black</td>\n",
       "      <td>L</td>\n",
       "      <td>2019-01-20</td>\n",
       "      <td>-0.913260</td>\n",
       "      <td>3.782389</td>\n",
       "    </tr>\n",
       "  </tbody>\n",
       "</table>\n",
       "</div>"
      ],
      "text/plain": [
       "               color size       date         a         b\n",
       "class country                                           \n",
       "A     JP       black    S 2019-01-06  0.804242 -2.063441\n",
       "B     CN       white    M 2019-01-13  1.150411 -1.980491\n",
       "      US       black    L 2019-01-20 -0.913260  3.782389"
      ]
     },
     "execution_count": 19,
     "metadata": {},
     "output_type": "execute_result"
    }
   ],
   "source": [
    "# select top 3\n",
    "df.head(3)"
   ]
  },
  {
   "cell_type": "code",
   "execution_count": 20,
   "metadata": {},
   "outputs": [
    {
     "data": {
      "text/html": [
       "<div>\n",
       "<style scoped>\n",
       "    .dataframe tbody tr th:only-of-type {\n",
       "        vertical-align: middle;\n",
       "    }\n",
       "\n",
       "    .dataframe tbody tr th {\n",
       "        vertical-align: top;\n",
       "    }\n",
       "\n",
       "    .dataframe thead th {\n",
       "        text-align: right;\n",
       "    }\n",
       "</style>\n",
       "<table border=\"1\" class=\"dataframe\">\n",
       "  <thead>\n",
       "    <tr style=\"text-align: right;\">\n",
       "      <th></th>\n",
       "      <th></th>\n",
       "      <th>color</th>\n",
       "      <th>size</th>\n",
       "      <th>date</th>\n",
       "      <th>a</th>\n",
       "      <th>b</th>\n",
       "    </tr>\n",
       "    <tr>\n",
       "      <th>class</th>\n",
       "      <th>country</th>\n",
       "      <th></th>\n",
       "      <th></th>\n",
       "      <th></th>\n",
       "      <th></th>\n",
       "      <th></th>\n",
       "    </tr>\n",
       "  </thead>\n",
       "  <tbody>\n",
       "    <tr>\n",
       "      <th>A</th>\n",
       "      <th>CA</th>\n",
       "      <td>white</td>\n",
       "      <td>XL</td>\n",
       "      <td>2019-02-24</td>\n",
       "      <td>-0.148918</td>\n",
       "      <td>-0.712895</td>\n",
       "    </tr>\n",
       "    <tr>\n",
       "      <th rowspan=\"2\" valign=\"top\">C</th>\n",
       "      <th>JP</th>\n",
       "      <td>black</td>\n",
       "      <td>XL</td>\n",
       "      <td>2019-03-03</td>\n",
       "      <td>1.368588</td>\n",
       "      <td>-2.362638</td>\n",
       "    </tr>\n",
       "    <tr>\n",
       "      <th>CA</th>\n",
       "      <td>white</td>\n",
       "      <td>M</td>\n",
       "      <td>2019-03-10</td>\n",
       "      <td>-0.533759</td>\n",
       "      <td>-0.234717</td>\n",
       "    </tr>\n",
       "  </tbody>\n",
       "</table>\n",
       "</div>"
      ],
      "text/plain": [
       "               color size       date         a         b\n",
       "class country                                           \n",
       "A     CA       white   XL 2019-02-24 -0.148918 -0.712895\n",
       "C     JP       black   XL 2019-03-03  1.368588 -2.362638\n",
       "      CA       white    M 2019-03-10 -0.533759 -0.234717"
      ]
     },
     "execution_count": 20,
     "metadata": {},
     "output_type": "execute_result"
    }
   ],
   "source": [
    "# select last 3\n",
    "df.tail(3)"
   ]
  },
  {
   "cell_type": "code",
   "execution_count": 21,
   "metadata": {},
   "outputs": [
    {
     "data": {
      "text/html": [
       "<div>\n",
       "<style scoped>\n",
       "    .dataframe tbody tr th:only-of-type {\n",
       "        vertical-align: middle;\n",
       "    }\n",
       "\n",
       "    .dataframe tbody tr th {\n",
       "        vertical-align: top;\n",
       "    }\n",
       "\n",
       "    .dataframe thead th {\n",
       "        text-align: right;\n",
       "    }\n",
       "</style>\n",
       "<table border=\"1\" class=\"dataframe\">\n",
       "  <thead>\n",
       "    <tr style=\"text-align: right;\">\n",
       "      <th></th>\n",
       "      <th></th>\n",
       "      <th>color</th>\n",
       "      <th>size</th>\n",
       "      <th>date</th>\n",
       "      <th>a</th>\n",
       "      <th>b</th>\n",
       "    </tr>\n",
       "    <tr>\n",
       "      <th>class</th>\n",
       "      <th>country</th>\n",
       "      <th></th>\n",
       "      <th></th>\n",
       "      <th></th>\n",
       "      <th></th>\n",
       "      <th></th>\n",
       "    </tr>\n",
       "  </thead>\n",
       "  <tbody>\n",
       "    <tr>\n",
       "      <th>B</th>\n",
       "      <th>CN</th>\n",
       "      <td>white</td>\n",
       "      <td>M</td>\n",
       "      <td>2019-01-13</td>\n",
       "      <td>1.150411</td>\n",
       "      <td>-1.980491</td>\n",
       "    </tr>\n",
       "    <tr>\n",
       "      <th>C</th>\n",
       "      <th>JP</th>\n",
       "      <td>black</td>\n",
       "      <td>XL</td>\n",
       "      <td>2019-03-03</td>\n",
       "      <td>1.368588</td>\n",
       "      <td>-2.362638</td>\n",
       "    </tr>\n",
       "    <tr>\n",
       "      <th>B</th>\n",
       "      <th>US</th>\n",
       "      <td>black</td>\n",
       "      <td>L</td>\n",
       "      <td>2019-01-20</td>\n",
       "      <td>-0.913260</td>\n",
       "      <td>3.782389</td>\n",
       "    </tr>\n",
       "  </tbody>\n",
       "</table>\n",
       "</div>"
      ],
      "text/plain": [
       "               color size       date         a         b\n",
       "class country                                           \n",
       "B     CN       white    M 2019-01-13  1.150411 -1.980491\n",
       "C     JP       black   XL 2019-03-03  1.368588 -2.362638\n",
       "B     US       black    L 2019-01-20 -0.913260  3.782389"
      ]
     },
     "execution_count": 21,
     "metadata": {},
     "output_type": "execute_result"
    }
   ],
   "source": [
    "# sample data\n",
    "df.sample(3)"
   ]
  },
  {
   "cell_type": "code",
   "execution_count": 22,
   "metadata": {},
   "outputs": [
    {
     "name": "stdout",
     "output_type": "stream",
     "text": [
      "<class 'pandas.core.frame.DataFrame'>\n",
      "MultiIndex: 10 entries, (A, JP) to (C, CA)\n",
      "Data columns (total 5 columns):\n",
      "color    10 non-null object\n",
      "size     10 non-null object\n",
      "date     10 non-null datetime64[ns]\n",
      "a        10 non-null float64\n",
      "b        10 non-null float64\n",
      "dtypes: datetime64[ns](1), float64(2), object(2)\n",
      "memory usage: 586.0+ bytes\n"
     ]
    }
   ],
   "source": [
    "# check data information\n",
    "df.info()"
   ]
  },
  {
   "cell_type": "markdown",
   "metadata": {},
   "source": [
    "# 3. Basic descriptive statistics"
   ]
  },
  {
   "cell_type": "code",
   "execution_count": 23,
   "metadata": {},
   "outputs": [
    {
     "data": {
      "text/html": [
       "<div>\n",
       "<style scoped>\n",
       "    .dataframe tbody tr th:only-of-type {\n",
       "        vertical-align: middle;\n",
       "    }\n",
       "\n",
       "    .dataframe tbody tr th {\n",
       "        vertical-align: top;\n",
       "    }\n",
       "\n",
       "    .dataframe thead th {\n",
       "        text-align: right;\n",
       "    }\n",
       "</style>\n",
       "<table border=\"1\" class=\"dataframe\">\n",
       "  <thead>\n",
       "    <tr style=\"text-align: right;\">\n",
       "      <th></th>\n",
       "      <th>a</th>\n",
       "      <th>b</th>\n",
       "    </tr>\n",
       "  </thead>\n",
       "  <tbody>\n",
       "    <tr>\n",
       "      <th>count</th>\n",
       "      <td>10.000000</td>\n",
       "      <td>10.000000</td>\n",
       "    </tr>\n",
       "    <tr>\n",
       "      <th>mean</th>\n",
       "      <td>0.423447</td>\n",
       "      <td>-0.183758</td>\n",
       "    </tr>\n",
       "    <tr>\n",
       "      <th>std</th>\n",
       "      <td>0.829942</td>\n",
       "      <td>1.816686</td>\n",
       "    </tr>\n",
       "    <tr>\n",
       "      <th>min</th>\n",
       "      <td>-0.913260</td>\n",
       "      <td>-2.362638</td>\n",
       "    </tr>\n",
       "    <tr>\n",
       "      <th>25%</th>\n",
       "      <td>-0.316929</td>\n",
       "      <td>-1.663592</td>\n",
       "    </tr>\n",
       "    <tr>\n",
       "      <th>50%</th>\n",
       "      <td>0.782783</td>\n",
       "      <td>-0.157944</td>\n",
       "    </tr>\n",
       "    <tr>\n",
       "      <th>75%</th>\n",
       "      <td>1.090317</td>\n",
       "      <td>0.399519</td>\n",
       "    </tr>\n",
       "    <tr>\n",
       "      <th>max</th>\n",
       "      <td>1.368588</td>\n",
       "      <td>3.782389</td>\n",
       "    </tr>\n",
       "  </tbody>\n",
       "</table>\n",
       "</div>"
      ],
      "text/plain": [
       "               a          b\n",
       "count  10.000000  10.000000\n",
       "mean    0.423447  -0.183758\n",
       "std     0.829942   1.816686\n",
       "min    -0.913260  -2.362638\n",
       "25%    -0.316929  -1.663592\n",
       "50%     0.782783  -0.157944\n",
       "75%     1.090317   0.399519\n",
       "max     1.368588   3.782389"
      ]
     },
     "execution_count": 23,
     "metadata": {},
     "output_type": "execute_result"
    }
   ],
   "source": [
    "# basic statistical analysis\n",
    "df.describe()"
   ]
  },
  {
   "cell_type": "code",
   "execution_count": 24,
   "metadata": {},
   "outputs": [
    {
     "name": "stdout",
     "output_type": "stream",
     "text": [
      "feature mean\n",
      "a    0.423447\n",
      "b   -0.183758\n",
      "dtype: float64\n",
      "feature variance\n",
      "a    0.423447\n",
      "b   -0.183758\n",
      "dtype: float64\n",
      "feature standard deviation\n",
      "a    0.829942\n",
      "b    1.816686\n",
      "dtype: float64\n",
      "feature min\n",
      "color                  black\n",
      "size                       L\n",
      "date     2019-01-06 00:00:00\n",
      "a                   -0.91326\n",
      "b                   -2.36264\n",
      "dtype: object\n",
      "feature max\n",
      "a    0.423447\n",
      "b   -0.183758\n",
      "dtype: float64\n"
     ]
    }
   ],
   "source": [
    "print('feature mean')\n",
    "print(df.mean())\n",
    "print('feature variance')\n",
    "print(df.mean())\n",
    "print('feature standard deviation')\n",
    "print(df.std())\n",
    "print('feature min')\n",
    "print(df.min())\n",
    "print('feature max')\n",
    "print(df.mean())"
   ]
  },
  {
   "cell_type": "code",
   "execution_count": 25,
   "metadata": {},
   "outputs": [
    {
     "data": {
      "text/plain": [
       "1.2966538136807322"
      ]
     },
     "execution_count": 25,
     "metadata": {},
     "output_type": "execute_result"
    }
   ],
   "source": [
    "# top 5 percentile\n",
    "np.percentile(df.a,95)"
   ]
  },
  {
   "cell_type": "markdown",
   "metadata": {},
   "source": [
    "## 4. Indexing, slicing columns and rows\n",
    "\n",
    "### 4.1. select rows"
   ]
  },
  {
   "cell_type": "code",
   "execution_count": 26,
   "metadata": {},
   "outputs": [
    {
     "data": {
      "text/plain": [
       "color                  black\n",
       "size                       S\n",
       "date     2019-01-06 00:00:00\n",
       "a                   0.804242\n",
       "b                   -2.06344\n",
       "Name: (A, JP), dtype: object"
      ]
     },
     "execution_count": 26,
     "metadata": {},
     "output_type": "execute_result"
    }
   ],
   "source": [
    "# select row by index, return Series\n",
    "df.iloc[0]"
   ]
  },
  {
   "cell_type": "code",
   "execution_count": 27,
   "metadata": {},
   "outputs": [
    {
     "data": {
      "text/html": [
       "<div>\n",
       "<style scoped>\n",
       "    .dataframe tbody tr th:only-of-type {\n",
       "        vertical-align: middle;\n",
       "    }\n",
       "\n",
       "    .dataframe tbody tr th {\n",
       "        vertical-align: top;\n",
       "    }\n",
       "\n",
       "    .dataframe thead th {\n",
       "        text-align: right;\n",
       "    }\n",
       "</style>\n",
       "<table border=\"1\" class=\"dataframe\">\n",
       "  <thead>\n",
       "    <tr style=\"text-align: right;\">\n",
       "      <th></th>\n",
       "      <th></th>\n",
       "      <th>color</th>\n",
       "      <th>size</th>\n",
       "      <th>date</th>\n",
       "      <th>a</th>\n",
       "      <th>b</th>\n",
       "    </tr>\n",
       "    <tr>\n",
       "      <th>class</th>\n",
       "      <th>country</th>\n",
       "      <th></th>\n",
       "      <th></th>\n",
       "      <th></th>\n",
       "      <th></th>\n",
       "      <th></th>\n",
       "    </tr>\n",
       "  </thead>\n",
       "  <tbody>\n",
       "    <tr>\n",
       "      <th>A</th>\n",
       "      <th>JP</th>\n",
       "      <td>black</td>\n",
       "      <td>S</td>\n",
       "      <td>2019-01-06</td>\n",
       "      <td>0.804242</td>\n",
       "      <td>-2.063441</td>\n",
       "    </tr>\n",
       "  </tbody>\n",
       "</table>\n",
       "</div>"
      ],
      "text/plain": [
       "               color size       date         a         b\n",
       "class country                                           \n",
       "A     JP       black    S 2019-01-06  0.804242 -2.063441"
      ]
     },
     "execution_count": 27,
     "metadata": {},
     "output_type": "execute_result"
    }
   ],
   "source": [
    "# select row by index, return dataframe\n",
    "df.iloc[[0]]"
   ]
  },
  {
   "cell_type": "code",
   "execution_count": 28,
   "metadata": {},
   "outputs": [
    {
     "data": {
      "text/html": [
       "<div>\n",
       "<style scoped>\n",
       "    .dataframe tbody tr th:only-of-type {\n",
       "        vertical-align: middle;\n",
       "    }\n",
       "\n",
       "    .dataframe tbody tr th {\n",
       "        vertical-align: top;\n",
       "    }\n",
       "\n",
       "    .dataframe thead th {\n",
       "        text-align: right;\n",
       "    }\n",
       "</style>\n",
       "<table border=\"1\" class=\"dataframe\">\n",
       "  <thead>\n",
       "    <tr style=\"text-align: right;\">\n",
       "      <th></th>\n",
       "      <th>color</th>\n",
       "      <th>size</th>\n",
       "      <th>date</th>\n",
       "      <th>a</th>\n",
       "      <th>b</th>\n",
       "    </tr>\n",
       "    <tr>\n",
       "      <th>country</th>\n",
       "      <th></th>\n",
       "      <th></th>\n",
       "      <th></th>\n",
       "      <th></th>\n",
       "      <th></th>\n",
       "    </tr>\n",
       "  </thead>\n",
       "  <tbody>\n",
       "    <tr>\n",
       "      <th>CN</th>\n",
       "      <td>white</td>\n",
       "      <td>M</td>\n",
       "      <td>2019-01-13</td>\n",
       "      <td>1.150411</td>\n",
       "      <td>-1.980491</td>\n",
       "    </tr>\n",
       "    <tr>\n",
       "      <th>US</th>\n",
       "      <td>black</td>\n",
       "      <td>L</td>\n",
       "      <td>2019-01-20</td>\n",
       "      <td>-0.913260</td>\n",
       "      <td>3.782389</td>\n",
       "    </tr>\n",
       "    <tr>\n",
       "      <th>US</th>\n",
       "      <td>white</td>\n",
       "      <td>M</td>\n",
       "      <td>2019-01-27</td>\n",
       "      <td>0.761324</td>\n",
       "      <td>0.417888</td>\n",
       "    </tr>\n",
       "    <tr>\n",
       "      <th>CN</th>\n",
       "      <td>black</td>\n",
       "      <td>S</td>\n",
       "      <td>2019-02-17</td>\n",
       "      <td>0.910037</td>\n",
       "      <td>1.053090</td>\n",
       "    </tr>\n",
       "  </tbody>\n",
       "</table>\n",
       "</div>"
      ],
      "text/plain": [
       "         color size       date         a         b\n",
       "country                                           \n",
       "CN       white    M 2019-01-13  1.150411 -1.980491\n",
       "US       black    L 2019-01-20 -0.913260  3.782389\n",
       "US       white    M 2019-01-27  0.761324  0.417888\n",
       "CN       black    S 2019-02-17  0.910037  1.053090"
      ]
     },
     "execution_count": 28,
     "metadata": {},
     "output_type": "execute_result"
    }
   ],
   "source": [
    "# select row by name, return dataframe\n",
    "df.loc['B']"
   ]
  },
  {
   "cell_type": "markdown",
   "metadata": {},
   "source": [
    "### 4.2. select columns"
   ]
  },
  {
   "cell_type": "code",
   "execution_count": 29,
   "metadata": {},
   "outputs": [
    {
     "name": "stdout",
     "output_type": "stream",
     "text": [
      "class  country\n",
      "A      JP         black\n",
      "B      CN         white\n",
      "       US         black\n",
      "       US         white\n",
      "C      US         black\n",
      "A      CN         white\n",
      "B      CN         black\n",
      "A      CA         white\n",
      "C      JP         black\n",
      "       CA         white\n",
      "Name: color, dtype: object\n"
     ]
    }
   ],
   "source": [
    "# select column by index, return Series\n",
    "print(df.iloc[:, 0])"
   ]
  },
  {
   "cell_type": "code",
   "execution_count": 30,
   "metadata": {},
   "outputs": [
    {
     "data": {
      "text/plain": [
       "class  country\n",
       "A      JP         black\n",
       "B      CN         white\n",
       "       US         black\n",
       "       US         white\n",
       "C      US         black\n",
       "A      CN         white\n",
       "B      CN         black\n",
       "A      CA         white\n",
       "C      JP         black\n",
       "       CA         white\n",
       "Name: color, dtype: object"
      ]
     },
     "execution_count": 30,
     "metadata": {},
     "output_type": "execute_result"
    }
   ],
   "source": [
    "# select column by name, return Series\n",
    "df.loc[:, 'color']"
   ]
  },
  {
   "cell_type": "code",
   "execution_count": 31,
   "metadata": {},
   "outputs": [
    {
     "data": {
      "text/html": [
       "<div>\n",
       "<style scoped>\n",
       "    .dataframe tbody tr th:only-of-type {\n",
       "        vertical-align: middle;\n",
       "    }\n",
       "\n",
       "    .dataframe tbody tr th {\n",
       "        vertical-align: top;\n",
       "    }\n",
       "\n",
       "    .dataframe thead th {\n",
       "        text-align: right;\n",
       "    }\n",
       "</style>\n",
       "<table border=\"1\" class=\"dataframe\">\n",
       "  <thead>\n",
       "    <tr style=\"text-align: right;\">\n",
       "      <th></th>\n",
       "      <th></th>\n",
       "      <th>color</th>\n",
       "    </tr>\n",
       "    <tr>\n",
       "      <th>class</th>\n",
       "      <th>country</th>\n",
       "      <th></th>\n",
       "    </tr>\n",
       "  </thead>\n",
       "  <tbody>\n",
       "    <tr>\n",
       "      <th>A</th>\n",
       "      <th>JP</th>\n",
       "      <td>black</td>\n",
       "    </tr>\n",
       "    <tr>\n",
       "      <th rowspan=\"3\" valign=\"top\">B</th>\n",
       "      <th>CN</th>\n",
       "      <td>white</td>\n",
       "    </tr>\n",
       "    <tr>\n",
       "      <th>US</th>\n",
       "      <td>black</td>\n",
       "    </tr>\n",
       "    <tr>\n",
       "      <th>US</th>\n",
       "      <td>white</td>\n",
       "    </tr>\n",
       "    <tr>\n",
       "      <th>C</th>\n",
       "      <th>US</th>\n",
       "      <td>black</td>\n",
       "    </tr>\n",
       "  </tbody>\n",
       "</table>\n",
       "</div>"
      ],
      "text/plain": [
       "               color\n",
       "class country       \n",
       "A     JP       black\n",
       "B     CN       white\n",
       "      US       black\n",
       "      US       white\n",
       "C     US       black"
      ]
     },
     "execution_count": 31,
     "metadata": {},
     "output_type": "execute_result"
    }
   ],
   "source": [
    "# select column by index, return dataframe\n",
    "df.iloc[:, [0]].head()"
   ]
  },
  {
   "cell_type": "code",
   "execution_count": 32,
   "metadata": {},
   "outputs": [
    {
     "data": {
      "text/html": [
       "<div>\n",
       "<style scoped>\n",
       "    .dataframe tbody tr th:only-of-type {\n",
       "        vertical-align: middle;\n",
       "    }\n",
       "\n",
       "    .dataframe tbody tr th {\n",
       "        vertical-align: top;\n",
       "    }\n",
       "\n",
       "    .dataframe thead th {\n",
       "        text-align: right;\n",
       "    }\n",
       "</style>\n",
       "<table border=\"1\" class=\"dataframe\">\n",
       "  <thead>\n",
       "    <tr style=\"text-align: right;\">\n",
       "      <th></th>\n",
       "      <th></th>\n",
       "      <th>color</th>\n",
       "    </tr>\n",
       "    <tr>\n",
       "      <th>class</th>\n",
       "      <th>country</th>\n",
       "      <th></th>\n",
       "    </tr>\n",
       "  </thead>\n",
       "  <tbody>\n",
       "    <tr>\n",
       "      <th>A</th>\n",
       "      <th>JP</th>\n",
       "      <td>black</td>\n",
       "    </tr>\n",
       "    <tr>\n",
       "      <th rowspan=\"3\" valign=\"top\">B</th>\n",
       "      <th>CN</th>\n",
       "      <td>white</td>\n",
       "    </tr>\n",
       "    <tr>\n",
       "      <th>US</th>\n",
       "      <td>black</td>\n",
       "    </tr>\n",
       "    <tr>\n",
       "      <th>US</th>\n",
       "      <td>white</td>\n",
       "    </tr>\n",
       "    <tr>\n",
       "      <th>C</th>\n",
       "      <th>US</th>\n",
       "      <td>black</td>\n",
       "    </tr>\n",
       "  </tbody>\n",
       "</table>\n",
       "</div>"
      ],
      "text/plain": [
       "               color\n",
       "class country       \n",
       "A     JP       black\n",
       "B     CN       white\n",
       "      US       black\n",
       "      US       white\n",
       "C     US       black"
      ]
     },
     "execution_count": 32,
     "metadata": {},
     "output_type": "execute_result"
    }
   ],
   "source": [
    "# select column by name, return dataframe\n",
    "df[['color']].head()"
   ]
  },
  {
   "cell_type": "markdown",
   "metadata": {},
   "source": [
    "### 4.3. conditional subsetting"
   ]
  },
  {
   "cell_type": "code",
   "execution_count": 33,
   "metadata": {},
   "outputs": [
    {
     "data": {
      "text/html": [
       "<div>\n",
       "<style scoped>\n",
       "    .dataframe tbody tr th:only-of-type {\n",
       "        vertical-align: middle;\n",
       "    }\n",
       "\n",
       "    .dataframe tbody tr th {\n",
       "        vertical-align: top;\n",
       "    }\n",
       "\n",
       "    .dataframe thead th {\n",
       "        text-align: right;\n",
       "    }\n",
       "</style>\n",
       "<table border=\"1\" class=\"dataframe\">\n",
       "  <thead>\n",
       "    <tr style=\"text-align: right;\">\n",
       "      <th></th>\n",
       "      <th></th>\n",
       "      <th>color</th>\n",
       "      <th>size</th>\n",
       "      <th>date</th>\n",
       "      <th>a</th>\n",
       "      <th>b</th>\n",
       "    </tr>\n",
       "    <tr>\n",
       "      <th>class</th>\n",
       "      <th>country</th>\n",
       "      <th></th>\n",
       "      <th></th>\n",
       "      <th></th>\n",
       "      <th></th>\n",
       "      <th></th>\n",
       "    </tr>\n",
       "  </thead>\n",
       "  <tbody>\n",
       "    <tr>\n",
       "      <th>A</th>\n",
       "      <th>JP</th>\n",
       "      <td>black</td>\n",
       "      <td>S</td>\n",
       "      <td>2019-01-06</td>\n",
       "      <td>0.804242</td>\n",
       "      <td>-2.063441</td>\n",
       "    </tr>\n",
       "    <tr>\n",
       "      <th rowspan=\"2\" valign=\"top\">B</th>\n",
       "      <th>CN</th>\n",
       "      <td>white</td>\n",
       "      <td>M</td>\n",
       "      <td>2019-01-13</td>\n",
       "      <td>1.150411</td>\n",
       "      <td>-1.980491</td>\n",
       "    </tr>\n",
       "    <tr>\n",
       "      <th>US</th>\n",
       "      <td>white</td>\n",
       "      <td>M</td>\n",
       "      <td>2019-01-27</td>\n",
       "      <td>0.761324</td>\n",
       "      <td>0.417888</td>\n",
       "    </tr>\n",
       "    <tr>\n",
       "      <th>A</th>\n",
       "      <th>CN</th>\n",
       "      <td>white</td>\n",
       "      <td>S</td>\n",
       "      <td>2019-02-10</td>\n",
       "      <td>1.208735</td>\n",
       "      <td>-0.081171</td>\n",
       "    </tr>\n",
       "    <tr>\n",
       "      <th>B</th>\n",
       "      <th>CN</th>\n",
       "      <td>black</td>\n",
       "      <td>S</td>\n",
       "      <td>2019-02-17</td>\n",
       "      <td>0.910037</td>\n",
       "      <td>1.053090</td>\n",
       "    </tr>\n",
       "    <tr>\n",
       "      <th>C</th>\n",
       "      <th>JP</th>\n",
       "      <td>black</td>\n",
       "      <td>XL</td>\n",
       "      <td>2019-03-03</td>\n",
       "      <td>1.368588</td>\n",
       "      <td>-2.362638</td>\n",
       "    </tr>\n",
       "  </tbody>\n",
       "</table>\n",
       "</div>"
      ],
      "text/plain": [
       "               color size       date         a         b\n",
       "class country                                           \n",
       "A     JP       black    S 2019-01-06  0.804242 -2.063441\n",
       "B     CN       white    M 2019-01-13  1.150411 -1.980491\n",
       "      US       white    M 2019-01-27  0.761324  0.417888\n",
       "A     CN       white    S 2019-02-10  1.208735 -0.081171\n",
       "B     CN       black    S 2019-02-17  0.910037  1.053090\n",
       "C     JP       black   XL 2019-03-03  1.368588 -2.362638"
      ]
     },
     "execution_count": 33,
     "metadata": {},
     "output_type": "execute_result"
    }
   ],
   "source": [
    "df[df.a > 0]"
   ]
  },
  {
   "cell_type": "code",
   "execution_count": 34,
   "metadata": {
    "scrolled": true
   },
   "outputs": [
    {
     "data": {
      "text/html": [
       "<div>\n",
       "<style scoped>\n",
       "    .dataframe tbody tr th:only-of-type {\n",
       "        vertical-align: middle;\n",
       "    }\n",
       "\n",
       "    .dataframe tbody tr th {\n",
       "        vertical-align: top;\n",
       "    }\n",
       "\n",
       "    .dataframe thead th {\n",
       "        text-align: right;\n",
       "    }\n",
       "</style>\n",
       "<table border=\"1\" class=\"dataframe\">\n",
       "  <thead>\n",
       "    <tr style=\"text-align: right;\">\n",
       "      <th></th>\n",
       "      <th></th>\n",
       "      <th>a</th>\n",
       "      <th>b</th>\n",
       "    </tr>\n",
       "    <tr>\n",
       "      <th>class</th>\n",
       "      <th>country</th>\n",
       "      <th></th>\n",
       "      <th></th>\n",
       "    </tr>\n",
       "  </thead>\n",
       "  <tbody>\n",
       "    <tr>\n",
       "      <th rowspan=\"2\" valign=\"top\">B</th>\n",
       "      <th>CN</th>\n",
       "      <td>1.150411</td>\n",
       "      <td>-1.980491</td>\n",
       "    </tr>\n",
       "    <tr>\n",
       "      <th>US</th>\n",
       "      <td>0.761324</td>\n",
       "      <td>0.417888</td>\n",
       "    </tr>\n",
       "    <tr>\n",
       "      <th>C</th>\n",
       "      <th>CA</th>\n",
       "      <td>-0.533759</td>\n",
       "      <td>-0.234717</td>\n",
       "    </tr>\n",
       "  </tbody>\n",
       "</table>\n",
       "</div>"
      ],
      "text/plain": [
       "                      a         b\n",
       "class country                    \n",
       "B     CN       1.150411 -1.980491\n",
       "      US       0.761324  0.417888\n",
       "C     CA      -0.533759 -0.234717"
      ]
     },
     "execution_count": 34,
     "metadata": {},
     "output_type": "execute_result"
    }
   ],
   "source": [
    "df.loc[(df.color == 'white') & (df['size'] == 'M'), ['a', 'b']]"
   ]
  },
  {
   "cell_type": "markdown",
   "metadata": {},
   "source": [
    "## 5. Basic Operation\n",
    "### 5.1. mathematical operations and store a new column"
   ]
  },
  {
   "cell_type": "code",
   "execution_count": 35,
   "metadata": {},
   "outputs": [
    {
     "data": {
      "text/html": [
       "<div>\n",
       "<style scoped>\n",
       "    .dataframe tbody tr th:only-of-type {\n",
       "        vertical-align: middle;\n",
       "    }\n",
       "\n",
       "    .dataframe tbody tr th {\n",
       "        vertical-align: top;\n",
       "    }\n",
       "\n",
       "    .dataframe thead th {\n",
       "        text-align: right;\n",
       "    }\n",
       "</style>\n",
       "<table border=\"1\" class=\"dataframe\">\n",
       "  <thead>\n",
       "    <tr style=\"text-align: right;\">\n",
       "      <th></th>\n",
       "      <th></th>\n",
       "      <th>color</th>\n",
       "      <th>size</th>\n",
       "      <th>date</th>\n",
       "      <th>a</th>\n",
       "      <th>b</th>\n",
       "      <th>c</th>\n",
       "    </tr>\n",
       "    <tr>\n",
       "      <th>class</th>\n",
       "      <th>country</th>\n",
       "      <th></th>\n",
       "      <th></th>\n",
       "      <th></th>\n",
       "      <th></th>\n",
       "      <th></th>\n",
       "      <th></th>\n",
       "    </tr>\n",
       "  </thead>\n",
       "  <tbody>\n",
       "    <tr>\n",
       "      <th>A</th>\n",
       "      <th>JP</th>\n",
       "      <td>black</td>\n",
       "      <td>S</td>\n",
       "      <td>2019-01-06</td>\n",
       "      <td>0.804242</td>\n",
       "      <td>-2.063441</td>\n",
       "      <td>-1.259199</td>\n",
       "    </tr>\n",
       "    <tr>\n",
       "      <th rowspan=\"3\" valign=\"top\">B</th>\n",
       "      <th>CN</th>\n",
       "      <td>white</td>\n",
       "      <td>M</td>\n",
       "      <td>2019-01-13</td>\n",
       "      <td>1.150411</td>\n",
       "      <td>-1.980491</td>\n",
       "      <td>-0.830080</td>\n",
       "    </tr>\n",
       "    <tr>\n",
       "      <th>US</th>\n",
       "      <td>black</td>\n",
       "      <td>L</td>\n",
       "      <td>2019-01-20</td>\n",
       "      <td>-0.913260</td>\n",
       "      <td>3.782389</td>\n",
       "      <td>2.869129</td>\n",
       "    </tr>\n",
       "    <tr>\n",
       "      <th>US</th>\n",
       "      <td>white</td>\n",
       "      <td>M</td>\n",
       "      <td>2019-01-27</td>\n",
       "      <td>0.761324</td>\n",
       "      <td>0.417888</td>\n",
       "      <td>1.179213</td>\n",
       "    </tr>\n",
       "    <tr>\n",
       "      <th>C</th>\n",
       "      <th>US</th>\n",
       "      <td>black</td>\n",
       "      <td>L</td>\n",
       "      <td>2019-02-03</td>\n",
       "      <td>-0.372933</td>\n",
       "      <td>0.344410</td>\n",
       "      <td>-0.028523</td>\n",
       "    </tr>\n",
       "    <tr>\n",
       "      <th>A</th>\n",
       "      <th>CN</th>\n",
       "      <td>white</td>\n",
       "      <td>S</td>\n",
       "      <td>2019-02-10</td>\n",
       "      <td>1.208735</td>\n",
       "      <td>-0.081171</td>\n",
       "      <td>1.127563</td>\n",
       "    </tr>\n",
       "    <tr>\n",
       "      <th>B</th>\n",
       "      <th>CN</th>\n",
       "      <td>black</td>\n",
       "      <td>S</td>\n",
       "      <td>2019-02-17</td>\n",
       "      <td>0.910037</td>\n",
       "      <td>1.053090</td>\n",
       "      <td>1.963127</td>\n",
       "    </tr>\n",
       "    <tr>\n",
       "      <th>A</th>\n",
       "      <th>CA</th>\n",
       "      <td>white</td>\n",
       "      <td>XL</td>\n",
       "      <td>2019-02-24</td>\n",
       "      <td>-0.148918</td>\n",
       "      <td>-0.712895</td>\n",
       "      <td>-0.861813</td>\n",
       "    </tr>\n",
       "    <tr>\n",
       "      <th rowspan=\"2\" valign=\"top\">C</th>\n",
       "      <th>JP</th>\n",
       "      <td>black</td>\n",
       "      <td>XL</td>\n",
       "      <td>2019-03-03</td>\n",
       "      <td>1.368588</td>\n",
       "      <td>-2.362638</td>\n",
       "      <td>-0.994050</td>\n",
       "    </tr>\n",
       "    <tr>\n",
       "      <th>CA</th>\n",
       "      <td>white</td>\n",
       "      <td>M</td>\n",
       "      <td>2019-03-10</td>\n",
       "      <td>-0.533759</td>\n",
       "      <td>-0.234717</td>\n",
       "      <td>-0.768476</td>\n",
       "    </tr>\n",
       "  </tbody>\n",
       "</table>\n",
       "</div>"
      ],
      "text/plain": [
       "               color size       date         a         b         c\n",
       "class country                                                     \n",
       "A     JP       black    S 2019-01-06  0.804242 -2.063441 -1.259199\n",
       "B     CN       white    M 2019-01-13  1.150411 -1.980491 -0.830080\n",
       "      US       black    L 2019-01-20 -0.913260  3.782389  2.869129\n",
       "      US       white    M 2019-01-27  0.761324  0.417888  1.179213\n",
       "C     US       black    L 2019-02-03 -0.372933  0.344410 -0.028523\n",
       "A     CN       white    S 2019-02-10  1.208735 -0.081171  1.127563\n",
       "B     CN       black    S 2019-02-17  0.910037  1.053090  1.963127\n",
       "A     CA       white   XL 2019-02-24 -0.148918 -0.712895 -0.861813\n",
       "C     JP       black   XL 2019-03-03  1.368588 -2.362638 -0.994050\n",
       "      CA       white    M 2019-03-10 -0.533759 -0.234717 -0.768476"
      ]
     },
     "execution_count": 35,
     "metadata": {},
     "output_type": "execute_result"
    }
   ],
   "source": [
    "df['c'] = df.a + df.b\n",
    "df"
   ]
  },
  {
   "cell_type": "markdown",
   "metadata": {},
   "source": [
    "### 5.2. Evaluating an expression\n",
    "\n",
    "A great feature supported by pandas is expression evaluation. This relies on the `numexpr` library which must be installed. Also, we can directly modify the DataFrame, and use global variable in an expression by prefixing it with `@`"
   ]
  },
  {
   "cell_type": "code",
   "execution_count": 36,
   "metadata": {
    "scrolled": false
   },
   "outputs": [
    {
     "name": "stdout",
     "output_type": "stream",
     "text": [
      "class  country\n",
      "A      JP        -1.259199\n",
      "B      CN        -0.830080\n",
      "       US         2.869129\n",
      "       US         1.179213\n",
      "C      US        -0.028523\n",
      "A      CN         1.127563\n",
      "B      CN         1.963127\n",
      "A      CA        -0.861813\n",
      "C      JP        -0.994050\n",
      "       CA        -0.768476\n",
      "dtype: float64\n"
     ]
    }
   ],
   "source": [
    "# quick evaluate\n",
    "print(df.eval('a + b'))"
   ]
  },
  {
   "cell_type": "code",
   "execution_count": 37,
   "metadata": {
    "scrolled": true
   },
   "outputs": [
    {
     "data": {
      "text/html": [
       "<div>\n",
       "<style scoped>\n",
       "    .dataframe tbody tr th:only-of-type {\n",
       "        vertical-align: middle;\n",
       "    }\n",
       "\n",
       "    .dataframe tbody tr th {\n",
       "        vertical-align: top;\n",
       "    }\n",
       "\n",
       "    .dataframe thead th {\n",
       "        text-align: right;\n",
       "    }\n",
       "</style>\n",
       "<table border=\"1\" class=\"dataframe\">\n",
       "  <thead>\n",
       "    <tr style=\"text-align: right;\">\n",
       "      <th></th>\n",
       "      <th></th>\n",
       "      <th>color</th>\n",
       "      <th>size</th>\n",
       "      <th>date</th>\n",
       "      <th>a</th>\n",
       "      <th>b</th>\n",
       "      <th>c</th>\n",
       "    </tr>\n",
       "    <tr>\n",
       "      <th>class</th>\n",
       "      <th>country</th>\n",
       "      <th></th>\n",
       "      <th></th>\n",
       "      <th></th>\n",
       "      <th></th>\n",
       "      <th></th>\n",
       "      <th></th>\n",
       "    </tr>\n",
       "  </thead>\n",
       "  <tbody>\n",
       "    <tr>\n",
       "      <th>A</th>\n",
       "      <th>JP</th>\n",
       "      <td>black</td>\n",
       "      <td>S</td>\n",
       "      <td>2019-01-06</td>\n",
       "      <td>0.804242</td>\n",
       "      <td>-2.063441</td>\n",
       "      <td>False</td>\n",
       "    </tr>\n",
       "    <tr>\n",
       "      <th rowspan=\"3\" valign=\"top\">B</th>\n",
       "      <th>CN</th>\n",
       "      <td>white</td>\n",
       "      <td>M</td>\n",
       "      <td>2019-01-13</td>\n",
       "      <td>1.150411</td>\n",
       "      <td>-1.980491</td>\n",
       "      <td>False</td>\n",
       "    </tr>\n",
       "    <tr>\n",
       "      <th>US</th>\n",
       "      <td>black</td>\n",
       "      <td>L</td>\n",
       "      <td>2019-01-20</td>\n",
       "      <td>-0.913260</td>\n",
       "      <td>3.782389</td>\n",
       "      <td>True</td>\n",
       "    </tr>\n",
       "    <tr>\n",
       "      <th>US</th>\n",
       "      <td>white</td>\n",
       "      <td>M</td>\n",
       "      <td>2019-01-27</td>\n",
       "      <td>0.761324</td>\n",
       "      <td>0.417888</td>\n",
       "      <td>True</td>\n",
       "    </tr>\n",
       "    <tr>\n",
       "      <th>C</th>\n",
       "      <th>US</th>\n",
       "      <td>black</td>\n",
       "      <td>L</td>\n",
       "      <td>2019-02-03</td>\n",
       "      <td>-0.372933</td>\n",
       "      <td>0.344410</td>\n",
       "      <td>False</td>\n",
       "    </tr>\n",
       "    <tr>\n",
       "      <th>A</th>\n",
       "      <th>CN</th>\n",
       "      <td>white</td>\n",
       "      <td>S</td>\n",
       "      <td>2019-02-10</td>\n",
       "      <td>1.208735</td>\n",
       "      <td>-0.081171</td>\n",
       "      <td>True</td>\n",
       "    </tr>\n",
       "    <tr>\n",
       "      <th>B</th>\n",
       "      <th>CN</th>\n",
       "      <td>black</td>\n",
       "      <td>S</td>\n",
       "      <td>2019-02-17</td>\n",
       "      <td>0.910037</td>\n",
       "      <td>1.053090</td>\n",
       "      <td>True</td>\n",
       "    </tr>\n",
       "    <tr>\n",
       "      <th>A</th>\n",
       "      <th>CA</th>\n",
       "      <td>white</td>\n",
       "      <td>XL</td>\n",
       "      <td>2019-02-24</td>\n",
       "      <td>-0.148918</td>\n",
       "      <td>-0.712895</td>\n",
       "      <td>False</td>\n",
       "    </tr>\n",
       "    <tr>\n",
       "      <th rowspan=\"2\" valign=\"top\">C</th>\n",
       "      <th>JP</th>\n",
       "      <td>black</td>\n",
       "      <td>XL</td>\n",
       "      <td>2019-03-03</td>\n",
       "      <td>1.368588</td>\n",
       "      <td>-2.362638</td>\n",
       "      <td>False</td>\n",
       "    </tr>\n",
       "    <tr>\n",
       "      <th>CA</th>\n",
       "      <td>white</td>\n",
       "      <td>M</td>\n",
       "      <td>2019-03-10</td>\n",
       "      <td>-0.533759</td>\n",
       "      <td>-0.234717</td>\n",
       "      <td>False</td>\n",
       "    </tr>\n",
       "  </tbody>\n",
       "</table>\n",
       "</div>"
      ],
      "text/plain": [
       "               color size       date         a         b      c\n",
       "class country                                                  \n",
       "A     JP       black    S 2019-01-06  0.804242 -2.063441  False\n",
       "B     CN       white    M 2019-01-13  1.150411 -1.980491  False\n",
       "      US       black    L 2019-01-20 -0.913260  3.782389   True\n",
       "      US       white    M 2019-01-27  0.761324  0.417888   True\n",
       "C     US       black    L 2019-02-03 -0.372933  0.344410  False\n",
       "A     CN       white    S 2019-02-10  1.208735 -0.081171   True\n",
       "B     CN       black    S 2019-02-17  0.910037  1.053090   True\n",
       "A     CA       white   XL 2019-02-24 -0.148918 -0.712895  False\n",
       "C     JP       black   XL 2019-03-03  1.368588 -2.362638  False\n",
       "      CA       white    M 2019-03-10 -0.533759 -0.234717  False"
      ]
     },
     "execution_count": 37,
     "metadata": {},
     "output_type": "execute_result"
    }
   ],
   "source": [
    "threshold = 0\n",
    "df.eval('c = a + b > @threshold')"
   ]
  },
  {
   "cell_type": "markdown",
   "metadata": {},
   "source": [
    "### 5.3. Deleting columns or rows "
   ]
  },
  {
   "cell_type": "code",
   "execution_count": 55,
   "metadata": {},
   "outputs": [
    {
     "data": {
      "text/html": [
       "<div>\n",
       "<style scoped>\n",
       "    .dataframe tbody tr th:only-of-type {\n",
       "        vertical-align: middle;\n",
       "    }\n",
       "\n",
       "    .dataframe tbody tr th {\n",
       "        vertical-align: top;\n",
       "    }\n",
       "\n",
       "    .dataframe thead th {\n",
       "        text-align: right;\n",
       "    }\n",
       "</style>\n",
       "<table border=\"1\" class=\"dataframe\">\n",
       "  <thead>\n",
       "    <tr style=\"text-align: right;\">\n",
       "      <th></th>\n",
       "      <th></th>\n",
       "      <th>color</th>\n",
       "      <th>size</th>\n",
       "      <th>date</th>\n",
       "      <th>a</th>\n",
       "      <th>b</th>\n",
       "    </tr>\n",
       "    <tr>\n",
       "      <th>class</th>\n",
       "      <th>country</th>\n",
       "      <th></th>\n",
       "      <th></th>\n",
       "      <th></th>\n",
       "      <th></th>\n",
       "      <th></th>\n",
       "    </tr>\n",
       "  </thead>\n",
       "  <tbody>\n",
       "    <tr>\n",
       "      <th>A</th>\n",
       "      <th>JP</th>\n",
       "      <td>black</td>\n",
       "      <td>S</td>\n",
       "      <td>2019-01-06</td>\n",
       "      <td>0.804242</td>\n",
       "      <td>-2.063441</td>\n",
       "    </tr>\n",
       "    <tr>\n",
       "      <th rowspan=\"3\" valign=\"top\">B</th>\n",
       "      <th>CN</th>\n",
       "      <td>white</td>\n",
       "      <td>M</td>\n",
       "      <td>2019-01-13</td>\n",
       "      <td>1.150411</td>\n",
       "      <td>-1.980491</td>\n",
       "    </tr>\n",
       "    <tr>\n",
       "      <th>US</th>\n",
       "      <td>black</td>\n",
       "      <td>L</td>\n",
       "      <td>2019-01-20</td>\n",
       "      <td>-0.913260</td>\n",
       "      <td>3.782389</td>\n",
       "    </tr>\n",
       "    <tr>\n",
       "      <th>US</th>\n",
       "      <td>white</td>\n",
       "      <td>M</td>\n",
       "      <td>2019-01-27</td>\n",
       "      <td>0.761324</td>\n",
       "      <td>0.417888</td>\n",
       "    </tr>\n",
       "    <tr>\n",
       "      <th>C</th>\n",
       "      <th>US</th>\n",
       "      <td>black</td>\n",
       "      <td>L</td>\n",
       "      <td>2019-02-03</td>\n",
       "      <td>-0.372933</td>\n",
       "      <td>0.344410</td>\n",
       "    </tr>\n",
       "    <tr>\n",
       "      <th>A</th>\n",
       "      <th>CN</th>\n",
       "      <td>white</td>\n",
       "      <td>S</td>\n",
       "      <td>2019-02-10</td>\n",
       "      <td>1.208735</td>\n",
       "      <td>-0.081171</td>\n",
       "    </tr>\n",
       "    <tr>\n",
       "      <th>B</th>\n",
       "      <th>CN</th>\n",
       "      <td>black</td>\n",
       "      <td>S</td>\n",
       "      <td>2019-02-17</td>\n",
       "      <td>0.910037</td>\n",
       "      <td>1.053090</td>\n",
       "    </tr>\n",
       "    <tr>\n",
       "      <th>A</th>\n",
       "      <th>CA</th>\n",
       "      <td>white</td>\n",
       "      <td>XL</td>\n",
       "      <td>2019-02-24</td>\n",
       "      <td>-0.148918</td>\n",
       "      <td>-0.712895</td>\n",
       "    </tr>\n",
       "    <tr>\n",
       "      <th rowspan=\"2\" valign=\"top\">C</th>\n",
       "      <th>JP</th>\n",
       "      <td>black</td>\n",
       "      <td>XL</td>\n",
       "      <td>2019-03-03</td>\n",
       "      <td>1.368588</td>\n",
       "      <td>-2.362638</td>\n",
       "    </tr>\n",
       "    <tr>\n",
       "      <th>CA</th>\n",
       "      <td>white</td>\n",
       "      <td>M</td>\n",
       "      <td>2019-03-10</td>\n",
       "      <td>-0.533759</td>\n",
       "      <td>-0.234717</td>\n",
       "    </tr>\n",
       "  </tbody>\n",
       "</table>\n",
       "</div>"
      ],
      "text/plain": [
       "               color size       date         a         b\n",
       "class country                                           \n",
       "A     JP       black    S 2019-01-06  0.804242 -2.063441\n",
       "B     CN       white    M 2019-01-13  1.150411 -1.980491\n",
       "      US       black    L 2019-01-20 -0.913260  3.782389\n",
       "      US       white    M 2019-01-27  0.761324  0.417888\n",
       "C     US       black    L 2019-02-03 -0.372933  0.344410\n",
       "A     CN       white    S 2019-02-10  1.208735 -0.081171\n",
       "B     CN       black    S 2019-02-17  0.910037  1.053090\n",
       "A     CA       white   XL 2019-02-24 -0.148918 -0.712895\n",
       "C     JP       black   XL 2019-03-03  1.368588 -2.362638\n",
       "      CA       white    M 2019-03-10 -0.533759 -0.234717"
      ]
     },
     "execution_count": 55,
     "metadata": {},
     "output_type": "execute_result"
    }
   ],
   "source": [
    "# Notice the axis=1 option for columns\n",
    "df.drop('c', axis = 1)"
   ]
  },
  {
   "cell_type": "code",
   "execution_count": 57,
   "metadata": {},
   "outputs": [
    {
     "data": {
      "text/html": [
       "<div>\n",
       "<style scoped>\n",
       "    .dataframe tbody tr th:only-of-type {\n",
       "        vertical-align: middle;\n",
       "    }\n",
       "\n",
       "    .dataframe tbody tr th {\n",
       "        vertical-align: top;\n",
       "    }\n",
       "\n",
       "    .dataframe thead th {\n",
       "        text-align: right;\n",
       "    }\n",
       "</style>\n",
       "<table border=\"1\" class=\"dataframe\">\n",
       "  <thead>\n",
       "    <tr style=\"text-align: right;\">\n",
       "      <th></th>\n",
       "      <th></th>\n",
       "      <th>color</th>\n",
       "      <th>size</th>\n",
       "      <th>date</th>\n",
       "      <th>a</th>\n",
       "      <th>b</th>\n",
       "      <th>c</th>\n",
       "    </tr>\n",
       "    <tr>\n",
       "      <th>class</th>\n",
       "      <th>country</th>\n",
       "      <th></th>\n",
       "      <th></th>\n",
       "      <th></th>\n",
       "      <th></th>\n",
       "      <th></th>\n",
       "      <th></th>\n",
       "    </tr>\n",
       "  </thead>\n",
       "  <tbody>\n",
       "    <tr>\n",
       "      <th>A</th>\n",
       "      <th>JP</th>\n",
       "      <td>black</td>\n",
       "      <td>S</td>\n",
       "      <td>2019-01-06</td>\n",
       "      <td>0.804242</td>\n",
       "      <td>-2.063441</td>\n",
       "      <td>-1.259199</td>\n",
       "    </tr>\n",
       "    <tr>\n",
       "      <th>B</th>\n",
       "      <th>CN</th>\n",
       "      <td>white</td>\n",
       "      <td>M</td>\n",
       "      <td>2019-01-13</td>\n",
       "      <td>1.150411</td>\n",
       "      <td>-1.980491</td>\n",
       "      <td>-0.830080</td>\n",
       "    </tr>\n",
       "    <tr>\n",
       "      <th>C</th>\n",
       "      <th>US</th>\n",
       "      <td>black</td>\n",
       "      <td>L</td>\n",
       "      <td>2019-02-03</td>\n",
       "      <td>-0.372933</td>\n",
       "      <td>0.344410</td>\n",
       "      <td>-0.028523</td>\n",
       "    </tr>\n",
       "    <tr>\n",
       "      <th>A</th>\n",
       "      <th>CN</th>\n",
       "      <td>white</td>\n",
       "      <td>S</td>\n",
       "      <td>2019-02-10</td>\n",
       "      <td>1.208735</td>\n",
       "      <td>-0.081171</td>\n",
       "      <td>1.127563</td>\n",
       "    </tr>\n",
       "    <tr>\n",
       "      <th>B</th>\n",
       "      <th>CN</th>\n",
       "      <td>black</td>\n",
       "      <td>S</td>\n",
       "      <td>2019-02-17</td>\n",
       "      <td>0.910037</td>\n",
       "      <td>1.053090</td>\n",
       "      <td>1.963127</td>\n",
       "    </tr>\n",
       "    <tr>\n",
       "      <th>A</th>\n",
       "      <th>CA</th>\n",
       "      <td>white</td>\n",
       "      <td>XL</td>\n",
       "      <td>2019-02-24</td>\n",
       "      <td>-0.148918</td>\n",
       "      <td>-0.712895</td>\n",
       "      <td>-0.861813</td>\n",
       "    </tr>\n",
       "    <tr>\n",
       "      <th rowspan=\"2\" valign=\"top\">C</th>\n",
       "      <th>JP</th>\n",
       "      <td>black</td>\n",
       "      <td>XL</td>\n",
       "      <td>2019-03-03</td>\n",
       "      <td>1.368588</td>\n",
       "      <td>-2.362638</td>\n",
       "      <td>-0.994050</td>\n",
       "    </tr>\n",
       "    <tr>\n",
       "      <th>CA</th>\n",
       "      <td>white</td>\n",
       "      <td>M</td>\n",
       "      <td>2019-03-10</td>\n",
       "      <td>-0.533759</td>\n",
       "      <td>-0.234717</td>\n",
       "      <td>-0.768476</td>\n",
       "    </tr>\n",
       "  </tbody>\n",
       "</table>\n",
       "</div>"
      ],
      "text/plain": [
       "               color size       date         a         b         c\n",
       "class country                                                     \n",
       "A     JP       black    S 2019-01-06  0.804242 -2.063441 -1.259199\n",
       "B     CN       white    M 2019-01-13  1.150411 -1.980491 -0.830080\n",
       "C     US       black    L 2019-02-03 -0.372933  0.344410 -0.028523\n",
       "A     CN       white    S 2019-02-10  1.208735 -0.081171  1.127563\n",
       "B     CN       black    S 2019-02-17  0.910037  1.053090  1.963127\n",
       "A     CA       white   XL 2019-02-24 -0.148918 -0.712895 -0.861813\n",
       "C     JP       black   XL 2019-03-03  1.368588 -2.362638 -0.994050\n",
       "      CA       white    M 2019-03-10 -0.533759 -0.234717 -0.768476"
      ]
     },
     "execution_count": 57,
     "metadata": {},
     "output_type": "execute_result"
    }
   ],
   "source": [
    "# axis = 0 is default for rows\n",
    "df.drop(('B', 'US'), axis = 0)"
   ]
  },
  {
   "cell_type": "markdown",
   "metadata": {},
   "source": [
    "### 5.4. Counting and sorting"
   ]
  },
  {
   "cell_type": "code",
   "execution_count": 38,
   "metadata": {},
   "outputs": [
    {
     "data": {
      "text/plain": [
       "white    5\n",
       "black    5\n",
       "Name: color, dtype: int64"
      ]
     },
     "execution_count": 38,
     "metadata": {},
     "output_type": "execute_result"
    }
   ],
   "source": [
    "df.color.value_counts()"
   ]
  },
  {
   "cell_type": "code",
   "execution_count": 39,
   "metadata": {},
   "outputs": [
    {
     "data": {
      "text/html": [
       "<div>\n",
       "<style scoped>\n",
       "    .dataframe tbody tr th:only-of-type {\n",
       "        vertical-align: middle;\n",
       "    }\n",
       "\n",
       "    .dataframe tbody tr th {\n",
       "        vertical-align: top;\n",
       "    }\n",
       "\n",
       "    .dataframe thead th {\n",
       "        text-align: right;\n",
       "    }\n",
       "</style>\n",
       "<table border=\"1\" class=\"dataframe\">\n",
       "  <thead>\n",
       "    <tr style=\"text-align: right;\">\n",
       "      <th></th>\n",
       "      <th></th>\n",
       "      <th>color</th>\n",
       "      <th>size</th>\n",
       "      <th>date</th>\n",
       "      <th>a</th>\n",
       "      <th>b</th>\n",
       "      <th>c</th>\n",
       "    </tr>\n",
       "    <tr>\n",
       "      <th>class</th>\n",
       "      <th>country</th>\n",
       "      <th></th>\n",
       "      <th></th>\n",
       "      <th></th>\n",
       "      <th></th>\n",
       "      <th></th>\n",
       "      <th></th>\n",
       "    </tr>\n",
       "  </thead>\n",
       "  <tbody>\n",
       "    <tr>\n",
       "      <th rowspan=\"2\" valign=\"top\">C</th>\n",
       "      <th>CA</th>\n",
       "      <td>white</td>\n",
       "      <td>M</td>\n",
       "      <td>2019-03-10</td>\n",
       "      <td>-0.533759</td>\n",
       "      <td>-0.234717</td>\n",
       "      <td>-0.768476</td>\n",
       "    </tr>\n",
       "    <tr>\n",
       "      <th>JP</th>\n",
       "      <td>black</td>\n",
       "      <td>XL</td>\n",
       "      <td>2019-03-03</td>\n",
       "      <td>1.368588</td>\n",
       "      <td>-2.362638</td>\n",
       "      <td>-0.994050</td>\n",
       "    </tr>\n",
       "    <tr>\n",
       "      <th>A</th>\n",
       "      <th>CA</th>\n",
       "      <td>white</td>\n",
       "      <td>XL</td>\n",
       "      <td>2019-02-24</td>\n",
       "      <td>-0.148918</td>\n",
       "      <td>-0.712895</td>\n",
       "      <td>-0.861813</td>\n",
       "    </tr>\n",
       "    <tr>\n",
       "      <th>B</th>\n",
       "      <th>CN</th>\n",
       "      <td>black</td>\n",
       "      <td>S</td>\n",
       "      <td>2019-02-17</td>\n",
       "      <td>0.910037</td>\n",
       "      <td>1.053090</td>\n",
       "      <td>1.963127</td>\n",
       "    </tr>\n",
       "    <tr>\n",
       "      <th>A</th>\n",
       "      <th>CN</th>\n",
       "      <td>white</td>\n",
       "      <td>S</td>\n",
       "      <td>2019-02-10</td>\n",
       "      <td>1.208735</td>\n",
       "      <td>-0.081171</td>\n",
       "      <td>1.127563</td>\n",
       "    </tr>\n",
       "    <tr>\n",
       "      <th>C</th>\n",
       "      <th>US</th>\n",
       "      <td>black</td>\n",
       "      <td>L</td>\n",
       "      <td>2019-02-03</td>\n",
       "      <td>-0.372933</td>\n",
       "      <td>0.344410</td>\n",
       "      <td>-0.028523</td>\n",
       "    </tr>\n",
       "    <tr>\n",
       "      <th rowspan=\"3\" valign=\"top\">B</th>\n",
       "      <th>US</th>\n",
       "      <td>white</td>\n",
       "      <td>M</td>\n",
       "      <td>2019-01-27</td>\n",
       "      <td>0.761324</td>\n",
       "      <td>0.417888</td>\n",
       "      <td>1.179213</td>\n",
       "    </tr>\n",
       "    <tr>\n",
       "      <th>US</th>\n",
       "      <td>black</td>\n",
       "      <td>L</td>\n",
       "      <td>2019-01-20</td>\n",
       "      <td>-0.913260</td>\n",
       "      <td>3.782389</td>\n",
       "      <td>2.869129</td>\n",
       "    </tr>\n",
       "    <tr>\n",
       "      <th>CN</th>\n",
       "      <td>white</td>\n",
       "      <td>M</td>\n",
       "      <td>2019-01-13</td>\n",
       "      <td>1.150411</td>\n",
       "      <td>-1.980491</td>\n",
       "      <td>-0.830080</td>\n",
       "    </tr>\n",
       "    <tr>\n",
       "      <th>A</th>\n",
       "      <th>JP</th>\n",
       "      <td>black</td>\n",
       "      <td>S</td>\n",
       "      <td>2019-01-06</td>\n",
       "      <td>0.804242</td>\n",
       "      <td>-2.063441</td>\n",
       "      <td>-1.259199</td>\n",
       "    </tr>\n",
       "  </tbody>\n",
       "</table>\n",
       "</div>"
      ],
      "text/plain": [
       "               color size       date         a         b         c\n",
       "class country                                                     \n",
       "C     CA       white    M 2019-03-10 -0.533759 -0.234717 -0.768476\n",
       "      JP       black   XL 2019-03-03  1.368588 -2.362638 -0.994050\n",
       "A     CA       white   XL 2019-02-24 -0.148918 -0.712895 -0.861813\n",
       "B     CN       black    S 2019-02-17  0.910037  1.053090  1.963127\n",
       "A     CN       white    S 2019-02-10  1.208735 -0.081171  1.127563\n",
       "C     US       black    L 2019-02-03 -0.372933  0.344410 -0.028523\n",
       "B     US       white    M 2019-01-27  0.761324  0.417888  1.179213\n",
       "      US       black    L 2019-01-20 -0.913260  3.782389  2.869129\n",
       "      CN       white    M 2019-01-13  1.150411 -1.980491 -0.830080\n",
       "A     JP       black    S 2019-01-06  0.804242 -2.063441 -1.259199"
      ]
     },
     "execution_count": 39,
     "metadata": {},
     "output_type": "execute_result"
    }
   ],
   "source": [
    "df.sort_values(by='date', ascending=False)"
   ]
  },
  {
   "cell_type": "markdown",
   "metadata": {},
   "source": [
    "=================================================================================="
   ]
  },
  {
   "cell_type": "markdown",
   "metadata": {},
   "source": [
    "## 2.4. Appending\n",
    "\n",
    "There are two ways to append data records: `append` a dictionary and `concat` a dataframe"
   ]
  },
  {
   "cell_type": "code",
   "execution_count": 40,
   "metadata": {
    "scrolled": true
   },
   "outputs": [
    {
     "data": {
      "text/html": [
       "<div>\n",
       "<style scoped>\n",
       "    .dataframe tbody tr th:only-of-type {\n",
       "        vertical-align: middle;\n",
       "    }\n",
       "\n",
       "    .dataframe tbody tr th {\n",
       "        vertical-align: top;\n",
       "    }\n",
       "\n",
       "    .dataframe thead th {\n",
       "        text-align: right;\n",
       "    }\n",
       "</style>\n",
       "<table border=\"1\" class=\"dataframe\">\n",
       "  <thead>\n",
       "    <tr style=\"text-align: right;\">\n",
       "      <th></th>\n",
       "      <th>color</th>\n",
       "      <th>size</th>\n",
       "      <th>date</th>\n",
       "      <th>a</th>\n",
       "      <th>b</th>\n",
       "      <th>data</th>\n",
       "    </tr>\n",
       "  </thead>\n",
       "  <tbody>\n",
       "    <tr>\n",
       "      <th>0</th>\n",
       "      <td>black</td>\n",
       "      <td>S</td>\n",
       "      <td>2019-01-06</td>\n",
       "      <td>0.804242</td>\n",
       "      <td>-2.063441</td>\n",
       "      <td>NaN</td>\n",
       "    </tr>\n",
       "    <tr>\n",
       "      <th>1</th>\n",
       "      <td>white</td>\n",
       "      <td>M</td>\n",
       "      <td>2019-01-13</td>\n",
       "      <td>1.150411</td>\n",
       "      <td>-1.980491</td>\n",
       "      <td>NaN</td>\n",
       "    </tr>\n",
       "    <tr>\n",
       "      <th>2</th>\n",
       "      <td>black</td>\n",
       "      <td>L</td>\n",
       "      <td>2019-01-20</td>\n",
       "      <td>-0.913260</td>\n",
       "      <td>3.782389</td>\n",
       "      <td>NaN</td>\n",
       "    </tr>\n",
       "    <tr>\n",
       "      <th>3</th>\n",
       "      <td>white</td>\n",
       "      <td>M</td>\n",
       "      <td>2019-01-27</td>\n",
       "      <td>0.761324</td>\n",
       "      <td>0.417888</td>\n",
       "      <td>NaN</td>\n",
       "    </tr>\n",
       "    <tr>\n",
       "      <th>4</th>\n",
       "      <td>black</td>\n",
       "      <td>L</td>\n",
       "      <td>2019-02-03</td>\n",
       "      <td>-0.372933</td>\n",
       "      <td>0.344410</td>\n",
       "      <td>NaN</td>\n",
       "    </tr>\n",
       "    <tr>\n",
       "      <th>5</th>\n",
       "      <td>white</td>\n",
       "      <td>S</td>\n",
       "      <td>2019-02-10</td>\n",
       "      <td>1.208735</td>\n",
       "      <td>-0.081171</td>\n",
       "      <td>NaN</td>\n",
       "    </tr>\n",
       "    <tr>\n",
       "      <th>6</th>\n",
       "      <td>black</td>\n",
       "      <td>S</td>\n",
       "      <td>2019-02-17</td>\n",
       "      <td>0.910037</td>\n",
       "      <td>1.053090</td>\n",
       "      <td>NaN</td>\n",
       "    </tr>\n",
       "    <tr>\n",
       "      <th>7</th>\n",
       "      <td>white</td>\n",
       "      <td>XL</td>\n",
       "      <td>2019-02-24</td>\n",
       "      <td>-0.148918</td>\n",
       "      <td>-0.712895</td>\n",
       "      <td>NaN</td>\n",
       "    </tr>\n",
       "    <tr>\n",
       "      <th>8</th>\n",
       "      <td>black</td>\n",
       "      <td>XL</td>\n",
       "      <td>2019-03-03</td>\n",
       "      <td>1.368588</td>\n",
       "      <td>-2.362638</td>\n",
       "      <td>NaN</td>\n",
       "    </tr>\n",
       "    <tr>\n",
       "      <th>9</th>\n",
       "      <td>white</td>\n",
       "      <td>M</td>\n",
       "      <td>2019-03-10</td>\n",
       "      <td>-0.533759</td>\n",
       "      <td>-0.234717</td>\n",
       "      <td>NaN</td>\n",
       "    </tr>\n",
       "    <tr>\n",
       "      <th>10</th>\n",
       "      <td>green</td>\n",
       "      <td>XS</td>\n",
       "      <td>NaT</td>\n",
       "      <td>1.000000</td>\n",
       "      <td>-3.000000</td>\n",
       "      <td>2019-02-01 00:00:00</td>\n",
       "    </tr>\n",
       "  </tbody>\n",
       "</table>\n",
       "</div>"
      ],
      "text/plain": [
       "    color size       date         a         b                 data\n",
       "0   black    S 2019-01-06  0.804242 -2.063441                  NaN\n",
       "1   white    M 2019-01-13  1.150411 -1.980491                  NaN\n",
       "2   black    L 2019-01-20 -0.913260  3.782389                  NaN\n",
       "3   white    M 2019-01-27  0.761324  0.417888                  NaN\n",
       "4   black    L 2019-02-03 -0.372933  0.344410                  NaN\n",
       "5   white    S 2019-02-10  1.208735 -0.081171                  NaN\n",
       "6   black    S 2019-02-17  0.910037  1.053090                  NaN\n",
       "7   white   XL 2019-02-24 -0.148918 -0.712895                  NaN\n",
       "8   black   XL 2019-03-03  1.368588 -2.362638                  NaN\n",
       "9   white    M 2019-03-10 -0.533759 -0.234717                  NaN\n",
       "10  green   XS        NaT  1.000000 -3.000000  2019-02-01 00:00:00"
      ]
     },
     "execution_count": 40,
     "metadata": {},
     "output_type": "execute_result"
    }
   ],
   "source": [
    "df2 = pd.DataFrame(data)\n",
    "df2.append({'color': 'green', 'size': 'XS', 'data': '2019-02-01 00:00:00', 'a': 1, 'b': -3}, ignore_index=True)"
   ]
  },
  {
   "cell_type": "markdown",
   "metadata": {},
   "source": [
    "Using `concat` is more efficent way to append two dataframe"
   ]
  },
  {
   "cell_type": "code",
   "execution_count": 41,
   "metadata": {
    "scrolled": false
   },
   "outputs": [
    {
     "name": "stderr",
     "output_type": "stream",
     "text": [
      "D:\\ProgramData\\Anaconda3\\lib\\site-packages\\ipykernel_launcher.py:4: FutureWarning: Sorting because non-concatenation axis is not aligned. A future version\n",
      "of pandas will change to not sort by default.\n",
      "\n",
      "To accept the future behavior, pass 'sort=False'.\n",
      "\n",
      "To retain the current behavior and silence the warning, pass 'sort=True'.\n",
      "\n",
      "  after removing the cwd from sys.path.\n"
     ]
    },
    {
     "data": {
      "text/html": [
       "<div>\n",
       "<style scoped>\n",
       "    .dataframe tbody tr th:only-of-type {\n",
       "        vertical-align: middle;\n",
       "    }\n",
       "\n",
       "    .dataframe tbody tr th {\n",
       "        vertical-align: top;\n",
       "    }\n",
       "\n",
       "    .dataframe thead th {\n",
       "        text-align: right;\n",
       "    }\n",
       "</style>\n",
       "<table border=\"1\" class=\"dataframe\">\n",
       "  <thead>\n",
       "    <tr style=\"text-align: right;\">\n",
       "      <th></th>\n",
       "      <th>color</th>\n",
       "      <th>size</th>\n",
       "      <th>date</th>\n",
       "      <th>a</th>\n",
       "      <th>b</th>\n",
       "      <th>0</th>\n",
       "    </tr>\n",
       "  </thead>\n",
       "  <tbody>\n",
       "    <tr>\n",
       "      <th>0</th>\n",
       "      <td>black</td>\n",
       "      <td>S</td>\n",
       "      <td>2019-01-06</td>\n",
       "      <td>0.804242</td>\n",
       "      <td>-2.063441</td>\n",
       "      <td>4.000000</td>\n",
       "    </tr>\n",
       "    <tr>\n",
       "      <th>1</th>\n",
       "      <td>white</td>\n",
       "      <td>M</td>\n",
       "      <td>2019-01-13</td>\n",
       "      <td>1.150411</td>\n",
       "      <td>-1.980491</td>\n",
       "      <td>5.777778</td>\n",
       "    </tr>\n",
       "    <tr>\n",
       "      <th>2</th>\n",
       "      <td>black</td>\n",
       "      <td>L</td>\n",
       "      <td>2019-01-20</td>\n",
       "      <td>-0.913260</td>\n",
       "      <td>3.782389</td>\n",
       "      <td>7.555556</td>\n",
       "    </tr>\n",
       "    <tr>\n",
       "      <th>3</th>\n",
       "      <td>white</td>\n",
       "      <td>M</td>\n",
       "      <td>2019-01-27</td>\n",
       "      <td>0.761324</td>\n",
       "      <td>0.417888</td>\n",
       "      <td>9.333333</td>\n",
       "    </tr>\n",
       "    <tr>\n",
       "      <th>4</th>\n",
       "      <td>black</td>\n",
       "      <td>L</td>\n",
       "      <td>2019-02-03</td>\n",
       "      <td>-0.372933</td>\n",
       "      <td>0.344410</td>\n",
       "      <td>11.111111</td>\n",
       "    </tr>\n",
       "    <tr>\n",
       "      <th>5</th>\n",
       "      <td>white</td>\n",
       "      <td>S</td>\n",
       "      <td>2019-02-10</td>\n",
       "      <td>1.208735</td>\n",
       "      <td>-0.081171</td>\n",
       "      <td>12.888889</td>\n",
       "    </tr>\n",
       "    <tr>\n",
       "      <th>6</th>\n",
       "      <td>black</td>\n",
       "      <td>S</td>\n",
       "      <td>2019-02-17</td>\n",
       "      <td>0.910037</td>\n",
       "      <td>1.053090</td>\n",
       "      <td>14.666667</td>\n",
       "    </tr>\n",
       "    <tr>\n",
       "      <th>7</th>\n",
       "      <td>white</td>\n",
       "      <td>XL</td>\n",
       "      <td>2019-02-24</td>\n",
       "      <td>-0.148918</td>\n",
       "      <td>-0.712895</td>\n",
       "      <td>16.444444</td>\n",
       "    </tr>\n",
       "    <tr>\n",
       "      <th>8</th>\n",
       "      <td>black</td>\n",
       "      <td>XL</td>\n",
       "      <td>2019-03-03</td>\n",
       "      <td>1.368588</td>\n",
       "      <td>-2.362638</td>\n",
       "      <td>18.222222</td>\n",
       "    </tr>\n",
       "    <tr>\n",
       "      <th>9</th>\n",
       "      <td>white</td>\n",
       "      <td>M</td>\n",
       "      <td>2019-03-10</td>\n",
       "      <td>-0.533759</td>\n",
       "      <td>-0.234717</td>\n",
       "      <td>20.000000</td>\n",
       "    </tr>\n",
       "  </tbody>\n",
       "</table>\n",
       "</div>"
      ],
      "text/plain": [
       "   color size       date         a         b          0\n",
       "0  black    S 2019-01-06  0.804242 -2.063441   4.000000\n",
       "1  white    M 2019-01-13  1.150411 -1.980491   5.777778\n",
       "2  black    L 2019-01-20 -0.913260  3.782389   7.555556\n",
       "3  white    M 2019-01-27  0.761324  0.417888   9.333333\n",
       "4  black    L 2019-02-03 -0.372933  0.344410  11.111111\n",
       "5  white    S 2019-02-10  1.208735 -0.081171  12.888889\n",
       "6  black    S 2019-02-17  0.910037  1.053090  14.666667\n",
       "7  white   XL 2019-02-24 -0.148918 -0.712895  16.444444\n",
       "8  black   XL 2019-03-03  1.368588 -2.362638  18.222222\n",
       "9  white    M 2019-03-10 -0.533759 -0.234717  20.000000"
      ]
     },
     "execution_count": 41,
     "metadata": {},
     "output_type": "execute_result"
    }
   ],
   "source": [
    "temp = dict({'color': ['green'], 'size': ['XS'], 'data': ['2019-02-01 00:00:00'], 'a': [1], 'b': [-3]})\n",
    "\n",
    "# append row wise\n",
    "pd.concat([df2, pd.DataFrame(temp)], axis=0, ignore_index=True)\n",
    "\n",
    "# append column wise\n",
    "temp = pd.Series(np.linspace(4,20,10))\n",
    "pd.concat([df2, temp], axis=1)"
   ]
  },
  {
   "cell_type": "code",
   "execution_count": null,
   "metadata": {},
   "outputs": [],
   "source": []
  },
  {
   "cell_type": "code",
   "execution_count": 42,
   "metadata": {},
   "outputs": [
    {
     "name": "stdout",
     "output_type": "stream",
     "text": [
      "('L',                color size       date         a         b         c\n",
      "class country                                                     \n",
      "B     US       black    L 2019-01-20 -0.913260  3.782389  2.869129\n",
      "C     US       black    L 2019-02-03 -0.372933  0.344410 -0.028523)\n",
      "('M',                color size       date         a         b         c\n",
      "class country                                                     \n",
      "B     CN       white    M 2019-01-13  1.150411 -1.980491 -0.830080\n",
      "      US       white    M 2019-01-27  0.761324  0.417888  1.179213\n",
      "C     CA       white    M 2019-03-10 -0.533759 -0.234717 -0.768476)\n",
      "('S',                color size       date         a         b         c\n",
      "class country                                                     \n",
      "A     JP       black    S 2019-01-06  0.804242 -2.063441 -1.259199\n",
      "      CN       white    S 2019-02-10  1.208735 -0.081171  1.127563\n",
      "B     CN       black    S 2019-02-17  0.910037  1.053090  1.963127)\n",
      "('XL',                color size       date         a         b         c\n",
      "class country                                                     \n",
      "A     CA       white   XL 2019-02-24 -0.148918 -0.712895 -0.861813\n",
      "C     JP       black   XL 2019-03-03  1.368588 -2.362638 -0.994050)\n"
     ]
    }
   ],
   "source": [
    "size_lvl = df.groupby('size')\n",
    "\n",
    "for i in size_lvl:\n",
    "    print(i)"
   ]
  },
  {
   "cell_type": "markdown",
   "metadata": {},
   "source": [
    "## 3.2. Select specific group"
   ]
  },
  {
   "cell_type": "code",
   "execution_count": 43,
   "metadata": {},
   "outputs": [
    {
     "data": {
      "text/html": [
       "<div>\n",
       "<style scoped>\n",
       "    .dataframe tbody tr th:only-of-type {\n",
       "        vertical-align: middle;\n",
       "    }\n",
       "\n",
       "    .dataframe tbody tr th {\n",
       "        vertical-align: top;\n",
       "    }\n",
       "\n",
       "    .dataframe thead th {\n",
       "        text-align: right;\n",
       "    }\n",
       "</style>\n",
       "<table border=\"1\" class=\"dataframe\">\n",
       "  <thead>\n",
       "    <tr style=\"text-align: right;\">\n",
       "      <th></th>\n",
       "      <th></th>\n",
       "      <th>color</th>\n",
       "      <th>size</th>\n",
       "      <th>date</th>\n",
       "      <th>a</th>\n",
       "      <th>b</th>\n",
       "      <th>c</th>\n",
       "    </tr>\n",
       "    <tr>\n",
       "      <th>class</th>\n",
       "      <th>country</th>\n",
       "      <th></th>\n",
       "      <th></th>\n",
       "      <th></th>\n",
       "      <th></th>\n",
       "      <th></th>\n",
       "      <th></th>\n",
       "    </tr>\n",
       "  </thead>\n",
       "  <tbody>\n",
       "    <tr>\n",
       "      <th rowspan=\"2\" valign=\"top\">B</th>\n",
       "      <th>CN</th>\n",
       "      <td>white</td>\n",
       "      <td>M</td>\n",
       "      <td>2019-01-13</td>\n",
       "      <td>1.150411</td>\n",
       "      <td>-1.980491</td>\n",
       "      <td>-0.830080</td>\n",
       "    </tr>\n",
       "    <tr>\n",
       "      <th>US</th>\n",
       "      <td>white</td>\n",
       "      <td>M</td>\n",
       "      <td>2019-01-27</td>\n",
       "      <td>0.761324</td>\n",
       "      <td>0.417888</td>\n",
       "      <td>1.179213</td>\n",
       "    </tr>\n",
       "    <tr>\n",
       "      <th>C</th>\n",
       "      <th>CA</th>\n",
       "      <td>white</td>\n",
       "      <td>M</td>\n",
       "      <td>2019-03-10</td>\n",
       "      <td>-0.533759</td>\n",
       "      <td>-0.234717</td>\n",
       "      <td>-0.768476</td>\n",
       "    </tr>\n",
       "  </tbody>\n",
       "</table>\n",
       "</div>"
      ],
      "text/plain": [
       "               color size       date         a         b         c\n",
       "class country                                                     \n",
       "B     CN       white    M 2019-01-13  1.150411 -1.980491 -0.830080\n",
       "      US       white    M 2019-01-27  0.761324  0.417888  1.179213\n",
       "C     CA       white    M 2019-03-10 -0.533759 -0.234717 -0.768476"
      ]
     },
     "execution_count": 43,
     "metadata": {},
     "output_type": "execute_result"
    }
   ],
   "source": [
    "size_lvl.get_group('M')"
   ]
  },
  {
   "cell_type": "markdown",
   "metadata": {},
   "source": [
    "## 4.1. Aggregation"
   ]
  },
  {
   "cell_type": "code",
   "execution_count": 44,
   "metadata": {},
   "outputs": [
    {
     "data": {
      "text/html": [
       "<div>\n",
       "<style scoped>\n",
       "    .dataframe tbody tr th:only-of-type {\n",
       "        vertical-align: middle;\n",
       "    }\n",
       "\n",
       "    .dataframe tbody tr th {\n",
       "        vertical-align: top;\n",
       "    }\n",
       "\n",
       "    .dataframe thead th {\n",
       "        text-align: right;\n",
       "    }\n",
       "</style>\n",
       "<table border=\"1\" class=\"dataframe\">\n",
       "  <thead>\n",
       "    <tr style=\"text-align: right;\">\n",
       "      <th></th>\n",
       "      <th>sum_a</th>\n",
       "      <th>sum_b</th>\n",
       "      <th>sum_c</th>\n",
       "    </tr>\n",
       "    <tr>\n",
       "      <th>size</th>\n",
       "      <th></th>\n",
       "      <th></th>\n",
       "      <th></th>\n",
       "    </tr>\n",
       "  </thead>\n",
       "  <tbody>\n",
       "    <tr>\n",
       "      <th>L</th>\n",
       "      <td>-1.286193</td>\n",
       "      <td>4.126799</td>\n",
       "      <td>2.840606</td>\n",
       "    </tr>\n",
       "    <tr>\n",
       "      <th>M</th>\n",
       "      <td>1.377977</td>\n",
       "      <td>-1.797320</td>\n",
       "      <td>-0.419343</td>\n",
       "    </tr>\n",
       "    <tr>\n",
       "      <th>S</th>\n",
       "      <td>2.923013</td>\n",
       "      <td>-1.091522</td>\n",
       "      <td>1.831491</td>\n",
       "    </tr>\n",
       "    <tr>\n",
       "      <th>XL</th>\n",
       "      <td>1.219669</td>\n",
       "      <td>-3.075533</td>\n",
       "      <td>-1.855863</td>\n",
       "    </tr>\n",
       "  </tbody>\n",
       "</table>\n",
       "</div>"
      ],
      "text/plain": [
       "         sum_a     sum_b     sum_c\n",
       "size                              \n",
       "L    -1.286193  4.126799  2.840606\n",
       "M     1.377977 -1.797320 -0.419343\n",
       "S     2.923013 -1.091522  1.831491\n",
       "XL    1.219669 -3.075533 -1.855863"
      ]
     },
     "execution_count": 44,
     "metadata": {},
     "output_type": "execute_result"
    }
   ],
   "source": [
    "size_lvl.sum().add_prefix('sum_')"
   ]
  },
  {
   "cell_type": "code",
   "execution_count": 45,
   "metadata": {},
   "outputs": [
    {
     "data": {
      "text/html": [
       "<div>\n",
       "<style scoped>\n",
       "    .dataframe tbody tr th:only-of-type {\n",
       "        vertical-align: middle;\n",
       "    }\n",
       "\n",
       "    .dataframe tbody tr th {\n",
       "        vertical-align: top;\n",
       "    }\n",
       "\n",
       "    .dataframe thead th {\n",
       "        text-align: right;\n",
       "    }\n",
       "</style>\n",
       "<table border=\"1\" class=\"dataframe\">\n",
       "  <thead>\n",
       "    <tr style=\"text-align: right;\">\n",
       "      <th></th>\n",
       "      <th></th>\n",
       "      <th>a</th>\n",
       "      <th>b</th>\n",
       "    </tr>\n",
       "    <tr>\n",
       "      <th>size</th>\n",
       "      <th>color</th>\n",
       "      <th></th>\n",
       "      <th></th>\n",
       "    </tr>\n",
       "  </thead>\n",
       "  <tbody>\n",
       "    <tr>\n",
       "      <th>L</th>\n",
       "      <th>black</th>\n",
       "      <td>-0.913260</td>\n",
       "      <td>2.063399</td>\n",
       "    </tr>\n",
       "    <tr>\n",
       "      <th>M</th>\n",
       "      <th>white</th>\n",
       "      <td>-0.533759</td>\n",
       "      <td>-0.599107</td>\n",
       "    </tr>\n",
       "    <tr>\n",
       "      <th rowspan=\"2\" valign=\"top\">S</th>\n",
       "      <th>black</th>\n",
       "      <td>0.804242</td>\n",
       "      <td>-0.505176</td>\n",
       "    </tr>\n",
       "    <tr>\n",
       "      <th>white</th>\n",
       "      <td>1.208735</td>\n",
       "      <td>-0.081171</td>\n",
       "    </tr>\n",
       "    <tr>\n",
       "      <th rowspan=\"2\" valign=\"top\">XL</th>\n",
       "      <th>black</th>\n",
       "      <td>1.368588</td>\n",
       "      <td>-2.362638</td>\n",
       "    </tr>\n",
       "    <tr>\n",
       "      <th>white</th>\n",
       "      <td>-0.148918</td>\n",
       "      <td>-0.712895</td>\n",
       "    </tr>\n",
       "  </tbody>\n",
       "</table>\n",
       "</div>"
      ],
      "text/plain": [
       "                   a         b\n",
       "size color                    \n",
       "L    black -0.913260  2.063399\n",
       "M    white -0.533759 -0.599107\n",
       "S    black  0.804242 -0.505176\n",
       "     white  1.208735 -0.081171\n",
       "XL   black  1.368588 -2.362638\n",
       "     white -0.148918 -0.712895"
      ]
     },
     "execution_count": 45,
     "metadata": {},
     "output_type": "execute_result"
    }
   ],
   "source": [
    "df.groupby(['size', 'color']).agg({'a': np.min, 'b': np.mean})"
   ]
  },
  {
   "cell_type": "markdown",
   "metadata": {},
   "source": [
    "## 5.1. Apply customize function"
   ]
  },
  {
   "cell_type": "code",
   "execution_count": 46,
   "metadata": {
    "scrolled": true
   },
   "outputs": [
    {
     "data": {
      "text/html": [
       "<div>\n",
       "<style scoped>\n",
       "    .dataframe tbody tr th:only-of-type {\n",
       "        vertical-align: middle;\n",
       "    }\n",
       "\n",
       "    .dataframe tbody tr th {\n",
       "        vertical-align: top;\n",
       "    }\n",
       "\n",
       "    .dataframe thead th {\n",
       "        text-align: right;\n",
       "    }\n",
       "</style>\n",
       "<table border=\"1\" class=\"dataframe\">\n",
       "  <thead>\n",
       "    <tr style=\"text-align: right;\">\n",
       "      <th></th>\n",
       "      <th></th>\n",
       "      <th>date</th>\n",
       "      <th>a</th>\n",
       "      <th>b</th>\n",
       "      <th>c</th>\n",
       "    </tr>\n",
       "    <tr>\n",
       "      <th>class</th>\n",
       "      <th>country</th>\n",
       "      <th></th>\n",
       "      <th></th>\n",
       "      <th></th>\n",
       "      <th></th>\n",
       "    </tr>\n",
       "  </thead>\n",
       "  <tbody>\n",
       "    <tr>\n",
       "      <th>A</th>\n",
       "      <th>JP</th>\n",
       "      <td>42 days</td>\n",
       "      <td>0.404493</td>\n",
       "      <td>3.116531</td>\n",
       "      <td>3.222326</td>\n",
       "    </tr>\n",
       "    <tr>\n",
       "      <th rowspan=\"3\" valign=\"top\">B</th>\n",
       "      <th>CN</th>\n",
       "      <td>56 days</td>\n",
       "      <td>1.684169</td>\n",
       "      <td>2.398379</td>\n",
       "      <td>2.009293</td>\n",
       "    </tr>\n",
       "    <tr>\n",
       "      <th>US</th>\n",
       "      <td>14 days</td>\n",
       "      <td>0.540328</td>\n",
       "      <td>3.437980</td>\n",
       "      <td>2.897652</td>\n",
       "    </tr>\n",
       "    <tr>\n",
       "      <th>US</th>\n",
       "      <td>56 days</td>\n",
       "      <td>1.684169</td>\n",
       "      <td>2.398379</td>\n",
       "      <td>2.009293</td>\n",
       "    </tr>\n",
       "    <tr>\n",
       "      <th>C</th>\n",
       "      <th>US</th>\n",
       "      <td>14 days</td>\n",
       "      <td>0.540328</td>\n",
       "      <td>3.437980</td>\n",
       "      <td>2.897652</td>\n",
       "    </tr>\n",
       "    <tr>\n",
       "      <th>A</th>\n",
       "      <th>CN</th>\n",
       "      <td>42 days</td>\n",
       "      <td>0.404493</td>\n",
       "      <td>3.116531</td>\n",
       "      <td>3.222326</td>\n",
       "    </tr>\n",
       "    <tr>\n",
       "      <th>B</th>\n",
       "      <th>CN</th>\n",
       "      <td>42 days</td>\n",
       "      <td>0.404493</td>\n",
       "      <td>3.116531</td>\n",
       "      <td>3.222326</td>\n",
       "    </tr>\n",
       "    <tr>\n",
       "      <th>A</th>\n",
       "      <th>CA</th>\n",
       "      <td>7 days</td>\n",
       "      <td>1.517506</td>\n",
       "      <td>1.649743</td>\n",
       "      <td>0.132237</td>\n",
       "    </tr>\n",
       "    <tr>\n",
       "      <th rowspan=\"2\" valign=\"top\">C</th>\n",
       "      <th>JP</th>\n",
       "      <td>7 days</td>\n",
       "      <td>1.517506</td>\n",
       "      <td>1.649743</td>\n",
       "      <td>0.132237</td>\n",
       "    </tr>\n",
       "    <tr>\n",
       "      <th>CA</th>\n",
       "      <td>56 days</td>\n",
       "      <td>1.684169</td>\n",
       "      <td>2.398379</td>\n",
       "      <td>2.009293</td>\n",
       "    </tr>\n",
       "  </tbody>\n",
       "</table>\n",
       "</div>"
      ],
      "text/plain": [
       "                 date         a         b         c\n",
       "class country                                      \n",
       "A     JP      42 days  0.404493  3.116531  3.222326\n",
       "B     CN      56 days  1.684169  2.398379  2.009293\n",
       "      US      14 days  0.540328  3.437980  2.897652\n",
       "      US      56 days  1.684169  2.398379  2.009293\n",
       "C     US      14 days  0.540328  3.437980  2.897652\n",
       "A     CN      42 days  0.404493  3.116531  3.222326\n",
       "B     CN      42 days  0.404493  3.116531  3.222326\n",
       "A     CA       7 days  1.517506  1.649743  0.132237\n",
       "C     JP       7 days  1.517506  1.649743  0.132237\n",
       "      CA      56 days  1.684169  2.398379  2.009293"
      ]
     },
     "execution_count": 46,
     "metadata": {},
     "output_type": "execute_result"
    }
   ],
   "source": [
    "# Transform\n",
    "data_range = lambda x: x.max() - x.min()\n",
    "df.groupby('size').transform(data_range)"
   ]
  },
  {
   "cell_type": "code",
   "execution_count": 47,
   "metadata": {},
   "outputs": [
    {
     "data": {
      "text/plain": [
       "size\n",
       "L     0.540328\n",
       "M     1.684169\n",
       "S     0.404493\n",
       "XL    1.517506\n",
       "Name: a, dtype: float64"
      ]
     },
     "execution_count": 47,
     "metadata": {},
     "output_type": "execute_result"
    }
   ],
   "source": [
    "# Apply\n",
    "df.groupby('size')['a'].apply(lambda x: x.max() - x.min())"
   ]
  },
  {
   "cell_type": "markdown",
   "metadata": {},
   "source": [
    "## 6.1. Rolling\n",
    "\n",
    "Creating a n-row window to aggregate data group by columns. If not enough data, then return `NaN`"
   ]
  },
  {
   "cell_type": "code",
   "execution_count": 48,
   "metadata": {},
   "outputs": [
    {
     "data": {
      "text/plain": [
       "color  class  country\n",
       "black  A      JP              NaN\n",
       "       B      US        -0.109019\n",
       "       C      US        -1.286193\n",
       "       B      CN         0.537104\n",
       "       C      JP         2.278625\n",
       "white  B      CN              NaN\n",
       "              US         1.911735\n",
       "       A      CN         1.970059\n",
       "              CA         1.059816\n",
       "       C      CA        -0.682677\n",
       "Name: a, dtype: float64"
      ]
     },
     "execution_count": 48,
     "metadata": {},
     "output_type": "execute_result"
    }
   ],
   "source": [
    "df.groupby('color').rolling(2).a.sum()"
   ]
  },
  {
   "cell_type": "markdown",
   "metadata": {},
   "source": [
    "## 7.1. Expanding\n",
    "\n",
    "Creating a window to aggregate data group by columns, but the window is increasing every step"
   ]
  },
  {
   "cell_type": "code",
   "execution_count": 49,
   "metadata": {},
   "outputs": [
    {
     "data": {
      "text/plain": [
       "color  class  country\n",
       "black  A      JP         0.804242\n",
       "       B      US        -0.109019\n",
       "       C      US        -0.481952\n",
       "       B      CN         0.428086\n",
       "       C      JP         1.796673\n",
       "white  B      CN         1.150411\n",
       "              US         1.911735\n",
       "       A      CN         3.120470\n",
       "              CA         2.971552\n",
       "       C      CA         2.437793\n",
       "Name: a, dtype: float64"
      ]
     },
     "execution_count": 49,
     "metadata": {},
     "output_type": "execute_result"
    }
   ],
   "source": [
    "# Cumulative sum\n",
    "df.groupby('color').expanding(1).a.sum()"
   ]
  },
  {
   "cell_type": "markdown",
   "metadata": {},
   "source": [
    "## 8.1. Filter"
   ]
  },
  {
   "cell_type": "code",
   "execution_count": 50,
   "metadata": {},
   "outputs": [
    {
     "data": {
      "text/html": [
       "<div>\n",
       "<style scoped>\n",
       "    .dataframe tbody tr th:only-of-type {\n",
       "        vertical-align: middle;\n",
       "    }\n",
       "\n",
       "    .dataframe tbody tr th {\n",
       "        vertical-align: top;\n",
       "    }\n",
       "\n",
       "    .dataframe thead th {\n",
       "        text-align: right;\n",
       "    }\n",
       "</style>\n",
       "<table border=\"1\" class=\"dataframe\">\n",
       "  <thead>\n",
       "    <tr style=\"text-align: right;\">\n",
       "      <th></th>\n",
       "      <th></th>\n",
       "      <th>color</th>\n",
       "      <th>size</th>\n",
       "      <th>date</th>\n",
       "      <th>a</th>\n",
       "      <th>b</th>\n",
       "      <th>c</th>\n",
       "    </tr>\n",
       "    <tr>\n",
       "      <th>class</th>\n",
       "      <th>country</th>\n",
       "      <th></th>\n",
       "      <th></th>\n",
       "      <th></th>\n",
       "      <th></th>\n",
       "      <th></th>\n",
       "      <th></th>\n",
       "    </tr>\n",
       "  </thead>\n",
       "  <tbody>\n",
       "    <tr>\n",
       "      <th rowspan=\"4\" valign=\"top\">B</th>\n",
       "      <th>CN</th>\n",
       "      <td>white</td>\n",
       "      <td>M</td>\n",
       "      <td>2019-01-13</td>\n",
       "      <td>1.150411</td>\n",
       "      <td>-1.980491</td>\n",
       "      <td>-0.830080</td>\n",
       "    </tr>\n",
       "    <tr>\n",
       "      <th>US</th>\n",
       "      <td>black</td>\n",
       "      <td>L</td>\n",
       "      <td>2019-01-20</td>\n",
       "      <td>-0.913260</td>\n",
       "      <td>3.782389</td>\n",
       "      <td>2.869129</td>\n",
       "    </tr>\n",
       "    <tr>\n",
       "      <th>US</th>\n",
       "      <td>white</td>\n",
       "      <td>M</td>\n",
       "      <td>2019-01-27</td>\n",
       "      <td>0.761324</td>\n",
       "      <td>0.417888</td>\n",
       "      <td>1.179213</td>\n",
       "    </tr>\n",
       "    <tr>\n",
       "      <th>CN</th>\n",
       "      <td>black</td>\n",
       "      <td>S</td>\n",
       "      <td>2019-02-17</td>\n",
       "      <td>0.910037</td>\n",
       "      <td>1.053090</td>\n",
       "      <td>1.963127</td>\n",
       "    </tr>\n",
       "  </tbody>\n",
       "</table>\n",
       "</div>"
      ],
      "text/plain": [
       "               color size       date         a         b         c\n",
       "class country                                                     \n",
       "B     CN       white    M 2019-01-13  1.150411 -1.980491 -0.830080\n",
       "      US       black    L 2019-01-20 -0.913260  3.782389  2.869129\n",
       "      US       white    M 2019-01-27  0.761324  0.417888  1.179213\n",
       "      CN       black    S 2019-02-17  0.910037  1.053090  1.963127"
      ]
     },
     "execution_count": 50,
     "metadata": {},
     "output_type": "execute_result"
    }
   ],
   "source": [
    "df.groupby('class').filter(lambda x: len(x) > 3)"
   ]
  },
  {
   "cell_type": "markdown",
   "metadata": {},
   "source": [
    "## 9.1 Evaluating an expression"
   ]
  },
  {
   "cell_type": "code",
   "execution_count": null,
   "metadata": {},
   "outputs": [],
   "source": []
  }
 ],
 "metadata": {
  "kernelspec": {
   "display_name": "Python 3",
   "language": "python",
   "name": "python3"
  },
  "language_info": {
   "codemirror_mode": {
    "name": "ipython",
    "version": 3
   },
   "file_extension": ".py",
   "mimetype": "text/x-python",
   "name": "python",
   "nbconvert_exporter": "python",
   "pygments_lexer": "ipython3",
   "version": "3.7.3"
  }
 },
 "nbformat": 4,
 "nbformat_minor": 2
}
