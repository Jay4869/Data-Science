{
 "cells": [
  {
   "cell_type": "markdown",
   "metadata": {},
   "source": [
    "# Pandas - Basic\n",
    "\n",
    "`Pandas` is a package built on top of `NumPy`, which is consist of Series and DataFrame objects, and provides an efficient implementation of a DataFrame. DataFrames are essentially multidimensional arrays with attached row and column labels, and often with heterogeneous types and/or missing data. As well as offering a convenient storage interface for labeled data, Pandas implements a number of powerful data operations familiar to users of both database frameworks and spreadsheet programs.\n",
    "\n",
    "Pandas has more flexibility (e.g., attaching labels to data, working with missing data, etc.) and when attempting operations that do not map well to element-wise broadcasting (e.g., groupings, pivots, etc.), each of which is an important piece of analyzing the less structured data available in many forms in the world around us.\n",
    "\n",
    "* Pandas series, DataFrame\n",
    "* Quick checking DataFrame\n",
    "* Descriptive stats on DataFrame\n",
    "* Indexing, slicing, conditional subsetting\n",
    "* Basic operations"
   ]
  },
  {
   "cell_type": "code",
   "execution_count": 81,
   "metadata": {},
   "outputs": [],
   "source": [
    "import numpy as np\n",
    "import pandas as pd"
   ]
  },
  {
   "cell_type": "markdown",
   "metadata": {},
   "source": [
    "## 1.1. Series Object\n",
    "\n",
    "The Series object is basically interchangeable with a one-dimensional NumPy array. The essential difference is the presence of the index: while the Numpy Array has an implicitly defined integer index used to access the values, the Pandas Series has an explicitly defined index associated with the values, which can access with the `values` and `index` attributes."
   ]
  },
  {
   "cell_type": "code",
   "execution_count": 82,
   "metadata": {
    "scrolled": false
   },
   "outputs": [
    {
     "data": {
      "text/plain": [
       "alice      0.25\n",
       "bob        0.50\n",
       "charles    0.75\n",
       "darwin     1.00\n",
       "dtype: float64"
      ]
     },
     "execution_count": 82,
     "metadata": {},
     "output_type": "execute_result"
    }
   ],
   "source": [
    "s = pd.Series([0.25, 0.5, 0.75, 1.0], index=[\"alice\", \"bob\", \"charles\", \"darwin\"])\n",
    "s"
   ]
  },
  {
   "cell_type": "code",
   "execution_count": 83,
   "metadata": {},
   "outputs": [
    {
     "data": {
      "text/plain": [
       "array([0.25, 0.5 , 0.75, 1.  ])"
      ]
     },
     "execution_count": 83,
     "metadata": {},
     "output_type": "execute_result"
    }
   ],
   "source": [
    "s.values"
   ]
  },
  {
   "cell_type": "code",
   "execution_count": 84,
   "metadata": {},
   "outputs": [
    {
     "data": {
      "text/plain": [
       "Index(['alice', 'bob', 'charles', 'darwin'], dtype='object')"
      ]
     },
     "execution_count": 84,
     "metadata": {},
     "output_type": "execute_result"
    }
   ],
   "source": [
    "s.index"
   ]
  },
  {
   "cell_type": "markdown",
   "metadata": {},
   "source": [
    "The Pandas Series is also like a specialization of a Python dictionary. A dictionary is a structure that maps arbitrary keys to a set of arbitrary values, and a Series is a structure which maps typed keys to a set of typed values. **This typing is important: just as the type-specific compiled code behind a NumPy array makes it more efficient than a Python list for certain operations, the type information of a Pandas Series makes it much more efficient than Python dictionaries for certain operations.**"
   ]
  },
  {
   "cell_type": "code",
   "execution_count": 85,
   "metadata": {},
   "outputs": [
    {
     "data": {
      "text/plain": [
       "color    [black]\n",
       "size         [S]\n",
       "a              0\n",
       "b              1\n",
       "dtype: object"
      ]
     },
     "execution_count": 85,
     "metadata": {},
     "output_type": "execute_result"
    }
   ],
   "source": [
    "# Using a pre-defined Dictionary object\n",
    "s = {'color': ['black'],\n",
    "     'size': ['S'],\n",
    "     'a': 0,\n",
    "     'b': 1}\n",
    "\n",
    "pd.Series(s)"
   ]
  },
  {
   "cell_type": "markdown",
   "metadata": {},
   "source": [
    "## 1.2. DataFrame Object\n",
    "\n",
    "The DataFrame can be thought of either as a generalization of a NumPy array, or as a specialization of a Python dictionary. A DataFrame is an analog of a two-dimensional array with both flexible row indices and flexible column names."
   ]
  },
  {
   "cell_type": "code",
   "execution_count": 86,
   "metadata": {},
   "outputs": [
    {
     "data": {
      "text/html": [
       "<div>\n",
       "<style scoped>\n",
       "    .dataframe tbody tr th:only-of-type {\n",
       "        vertical-align: middle;\n",
       "    }\n",
       "\n",
       "    .dataframe tbody tr th {\n",
       "        vertical-align: top;\n",
       "    }\n",
       "\n",
       "    .dataframe thead th {\n",
       "        text-align: right;\n",
       "    }\n",
       "</style>\n",
       "<table border=\"1\" class=\"dataframe\">\n",
       "  <thead>\n",
       "    <tr style=\"text-align: right;\">\n",
       "      <th></th>\n",
       "      <th>color</th>\n",
       "      <th>size</th>\n",
       "      <th>date</th>\n",
       "      <th>a</th>\n",
       "      <th>b</th>\n",
       "    </tr>\n",
       "  </thead>\n",
       "  <tbody>\n",
       "    <tr>\n",
       "      <th>0</th>\n",
       "      <td>black</td>\n",
       "      <td>S</td>\n",
       "      <td>2019-01-06</td>\n",
       "      <td>-0.445812</td>\n",
       "      <td>-0.369978</td>\n",
       "    </tr>\n",
       "    <tr>\n",
       "      <th>1</th>\n",
       "      <td>white</td>\n",
       "      <td>M</td>\n",
       "      <td>2019-01-13</td>\n",
       "      <td>-3.090266</td>\n",
       "      <td>-1.757744</td>\n",
       "    </tr>\n",
       "    <tr>\n",
       "      <th>2</th>\n",
       "      <td>red</td>\n",
       "      <td>L</td>\n",
       "      <td>2019-01-20</td>\n",
       "      <td>-0.424970</td>\n",
       "      <td>-0.380681</td>\n",
       "    </tr>\n",
       "    <tr>\n",
       "      <th>3</th>\n",
       "      <td>white</td>\n",
       "      <td>M</td>\n",
       "      <td>2019-01-27</td>\n",
       "      <td>-0.363608</td>\n",
       "      <td>-2.391862</td>\n",
       "    </tr>\n",
       "    <tr>\n",
       "      <th>4</th>\n",
       "      <td>green</td>\n",
       "      <td>XL</td>\n",
       "      <td>2019-02-03</td>\n",
       "      <td>1.046988</td>\n",
       "      <td>-0.154135</td>\n",
       "    </tr>\n",
       "  </tbody>\n",
       "</table>\n",
       "</div>"
      ],
      "text/plain": [
       "   color size       date         a         b\n",
       "0  black    S 2019-01-06 -0.445812 -0.369978\n",
       "1  white    M 2019-01-13 -3.090266 -1.757744\n",
       "2    red    L 2019-01-20 -0.424970 -0.380681\n",
       "3  white    M 2019-01-27 -0.363608 -2.391862\n",
       "4  green   XL 2019-02-03  1.046988 -0.154135"
      ]
     },
     "execution_count": 86,
     "metadata": {},
     "output_type": "execute_result"
    }
   ],
   "source": [
    "data = {'color': ['black', 'white', 'red', 'white', 'green'],\n",
    "        'size': ['S', 'M', 'L', 'M', 'XL'],\n",
    "        'date': pd.date_range('1/1/2019', periods=5, freq='W'),\n",
    "        'a': np.random.randn(5),\n",
    "        'b': np.random.normal(0.5, 2, 5)}\n",
    "\n",
    "df = pd.DataFrame(data)\n",
    "df"
   ]
  },
  {
   "cell_type": "code",
   "execution_count": 87,
   "metadata": {},
   "outputs": [
    {
     "data": {
      "text/plain": [
       "array([['black', 'S', Timestamp('2019-01-06 00:00:00'),\n",
       "        -0.4458117276753628, -0.3699782962896001],\n",
       "       ['white', 'M', Timestamp('2019-01-13 00:00:00'),\n",
       "        -3.090265967537381, -1.7577435559567611],\n",
       "       ['red', 'L', Timestamp('2019-01-20 00:00:00'),\n",
       "        -0.42496989374927197, -0.38068091458222475],\n",
       "       ['white', 'M', Timestamp('2019-01-27 00:00:00'),\n",
       "        -0.3636079793367742, -2.3918624031364097],\n",
       "       ['green', 'XL', Timestamp('2019-02-03 00:00:00'),\n",
       "        1.0469877365003308, -0.1541349354467163]], dtype=object)"
      ]
     },
     "execution_count": 87,
     "metadata": {},
     "output_type": "execute_result"
    }
   ],
   "source": [
    "df.values"
   ]
  },
  {
   "cell_type": "markdown",
   "metadata": {},
   "source": [
    "Like the Series object, the DataFrame has an index attribute that gives access to the index labels:"
   ]
  },
  {
   "cell_type": "code",
   "execution_count": 88,
   "metadata": {},
   "outputs": [
    {
     "data": {
      "text/plain": [
       "RangeIndex(start=0, stop=5, step=1)"
      ]
     },
     "execution_count": 88,
     "metadata": {},
     "output_type": "execute_result"
    }
   ],
   "source": [
    "df.index"
   ]
  },
  {
   "cell_type": "markdown",
   "metadata": {},
   "source": [
    "Additionally, the DataFrame has a columns attribute, which is an Index object holding the column labels:"
   ]
  },
  {
   "cell_type": "code",
   "execution_count": 89,
   "metadata": {},
   "outputs": [
    {
     "data": {
      "text/plain": [
       "Index(['color', 'size', 'date', 'a', 'b'], dtype='object')"
      ]
     },
     "execution_count": 89,
     "metadata": {},
     "output_type": "execute_result"
    }
   ],
   "source": [
    "df.columns"
   ]
  },
  {
   "cell_type": "markdown",
   "metadata": {},
   "source": [
    "DataFrame can be created reading directly from a CSV or an Excel file using `pd.read_csv` and `pd.read_excel`"
   ]
  },
  {
   "cell_type": "code",
   "execution_count": 90,
   "metadata": {},
   "outputs": [
    {
     "data": {
      "text/html": [
       "<div>\n",
       "<style scoped>\n",
       "    .dataframe tbody tr th:only-of-type {\n",
       "        vertical-align: middle;\n",
       "    }\n",
       "\n",
       "    .dataframe tbody tr th {\n",
       "        vertical-align: top;\n",
       "    }\n",
       "\n",
       "    .dataframe thead th {\n",
       "        text-align: right;\n",
       "    }\n",
       "</style>\n",
       "<table border=\"1\" class=\"dataframe\">\n",
       "  <thead>\n",
       "    <tr style=\"text-align: right;\">\n",
       "      <th></th>\n",
       "      <th>ACT</th>\n",
       "      <th>FinalExam</th>\n",
       "      <th>QuizAvg</th>\n",
       "      <th>TestAvg</th>\n",
       "    </tr>\n",
       "  </thead>\n",
       "  <tbody>\n",
       "    <tr>\n",
       "      <th>0</th>\n",
       "      <td>33</td>\n",
       "      <td>181</td>\n",
       "      <td>95</td>\n",
       "      <td>89</td>\n",
       "    </tr>\n",
       "    <tr>\n",
       "      <th>1</th>\n",
       "      <td>31</td>\n",
       "      <td>169</td>\n",
       "      <td>81</td>\n",
       "      <td>89</td>\n",
       "    </tr>\n",
       "    <tr>\n",
       "      <th>2</th>\n",
       "      <td>21</td>\n",
       "      <td>176</td>\n",
       "      <td>65</td>\n",
       "      <td>68</td>\n",
       "    </tr>\n",
       "    <tr>\n",
       "      <th>3</th>\n",
       "      <td>25</td>\n",
       "      <td>181</td>\n",
       "      <td>66</td>\n",
       "      <td>90</td>\n",
       "    </tr>\n",
       "    <tr>\n",
       "      <th>4</th>\n",
       "      <td>29</td>\n",
       "      <td>169</td>\n",
       "      <td>89</td>\n",
       "      <td>81</td>\n",
       "    </tr>\n",
       "  </tbody>\n",
       "</table>\n",
       "</div>"
      ],
      "text/plain": [
       "   ACT  FinalExam  QuizAvg  TestAvg\n",
       "0   33        181       95       89\n",
       "1   31        169       81       89\n",
       "2   21        176       65       68\n",
       "3   25        181       66       90\n",
       "4   29        169       89       81"
      ]
     },
     "execution_count": 90,
     "metadata": {},
     "output_type": "execute_result"
    }
   ],
   "source": [
    "pd.read_csv('../Data/Test_Scores.csv').head()"
   ]
  },
  {
   "cell_type": "markdown",
   "metadata": {},
   "source": [
    "## 1.3. Index Object"
   ]
  },
  {
   "cell_type": "markdown",
   "metadata": {},
   "source": [
    "This Index object is an interesting structure in itself, and it can be thought of either as an immutable array or as an ordered set (technically a multi-set, as Index objects may contain repeated values). Index objects also have many of the attributes familiar from NumPy arrays, but they are immutable - that is, they cannot be modified."
   ]
  },
  {
   "cell_type": "code",
   "execution_count": 91,
   "metadata": {},
   "outputs": [
    {
     "data": {
      "text/plain": [
       "Index([['A', 'B', 'B', 'B', 'C'], ['JP', 'CN', 'US', 'US', 'US']], dtype='object')"
      ]
     },
     "execution_count": 91,
     "metadata": {},
     "output_type": "execute_result"
    }
   ],
   "source": [
    "index = [['A', 'B', 'B', 'B', 'C'], ['JP', 'CN', 'US', 'US', 'US']]\n",
    "\n",
    "ind = pd.Index(index)\n",
    "ind"
   ]
  },
  {
   "cell_type": "markdown",
   "metadata": {},
   "source": [
    "The Index object follows many of the conventions used by Python's built-in `set` data structure, so that unions, intersections, differences, and other combinations can be computed in a familiar way:"
   ]
  },
  {
   "cell_type": "code",
   "execution_count": 92,
   "metadata": {
    "scrolled": false
   },
   "outputs": [
    {
     "name": "stdout",
     "output_type": "stream",
     "text": [
      "Int64Index([3, 5, 7], dtype='int64')\n",
      "Int64Index([1, 2, 3, 5, 7, 9, 11], dtype='int64')\n",
      "Int64Index([1, 2, 9, 11], dtype='int64')\n"
     ]
    }
   ],
   "source": [
    "indA = pd.Index([1, 3, 5, 7, 9])\n",
    "indB = pd.Index([2, 3, 5, 7, 11])\n",
    "\n",
    "# intersection\n",
    "print(indA & indB)\n",
    "\n",
    "# union\n",
    "print(indA | indB)\n",
    "\n",
    "# symmetric difference\n",
    "print(indA ^ indB)"
   ]
  },
  {
   "cell_type": "markdown",
   "metadata": {},
   "source": [
    "Adding single-indexing to dataframe"
   ]
  },
  {
   "cell_type": "code",
   "execution_count": 93,
   "metadata": {},
   "outputs": [
    {
     "data": {
      "text/html": [
       "<div>\n",
       "<style scoped>\n",
       "    .dataframe tbody tr th:only-of-type {\n",
       "        vertical-align: middle;\n",
       "    }\n",
       "\n",
       "    .dataframe tbody tr th {\n",
       "        vertical-align: top;\n",
       "    }\n",
       "\n",
       "    .dataframe thead th {\n",
       "        text-align: right;\n",
       "    }\n",
       "</style>\n",
       "<table border=\"1\" class=\"dataframe\">\n",
       "  <thead>\n",
       "    <tr style=\"text-align: right;\">\n",
       "      <th></th>\n",
       "      <th>color</th>\n",
       "      <th>size</th>\n",
       "      <th>date</th>\n",
       "      <th>a</th>\n",
       "      <th>b</th>\n",
       "    </tr>\n",
       "  </thead>\n",
       "  <tbody>\n",
       "    <tr>\n",
       "      <th>A</th>\n",
       "      <td>black</td>\n",
       "      <td>S</td>\n",
       "      <td>2019-01-06</td>\n",
       "      <td>-0.445812</td>\n",
       "      <td>-0.369978</td>\n",
       "    </tr>\n",
       "    <tr>\n",
       "      <th>B</th>\n",
       "      <td>white</td>\n",
       "      <td>M</td>\n",
       "      <td>2019-01-13</td>\n",
       "      <td>-3.090266</td>\n",
       "      <td>-1.757744</td>\n",
       "    </tr>\n",
       "    <tr>\n",
       "      <th>C</th>\n",
       "      <td>red</td>\n",
       "      <td>L</td>\n",
       "      <td>2019-01-20</td>\n",
       "      <td>-0.424970</td>\n",
       "      <td>-0.380681</td>\n",
       "    </tr>\n",
       "    <tr>\n",
       "      <th>D</th>\n",
       "      <td>white</td>\n",
       "      <td>M</td>\n",
       "      <td>2019-01-27</td>\n",
       "      <td>-0.363608</td>\n",
       "      <td>-2.391862</td>\n",
       "    </tr>\n",
       "    <tr>\n",
       "      <th>E</th>\n",
       "      <td>green</td>\n",
       "      <td>XL</td>\n",
       "      <td>2019-02-03</td>\n",
       "      <td>1.046988</td>\n",
       "      <td>-0.154135</td>\n",
       "    </tr>\n",
       "  </tbody>\n",
       "</table>\n",
       "</div>"
      ],
      "text/plain": [
       "   color size       date         a         b\n",
       "A  black    S 2019-01-06 -0.445812 -0.369978\n",
       "B  white    M 2019-01-13 -3.090266 -1.757744\n",
       "C    red    L 2019-01-20 -0.424970 -0.380681\n",
       "D  white    M 2019-01-27 -0.363608 -2.391862\n",
       "E  green   XL 2019-02-03  1.046988 -0.154135"
      ]
     },
     "execution_count": 93,
     "metadata": {},
     "output_type": "execute_result"
    }
   ],
   "source": [
    "df.set_index(pd.Index(['A', 'B', 'C', 'D', 'E']), inplace=True)\n",
    "df"
   ]
  },
  {
   "cell_type": "markdown",
   "metadata": {},
   "source": [
    "Adding multi-indexing to dataframe"
   ]
  },
  {
   "cell_type": "code",
   "execution_count": 94,
   "metadata": {
    "scrolled": true
   },
   "outputs": [
    {
     "data": {
      "text/html": [
       "<div>\n",
       "<style scoped>\n",
       "    .dataframe tbody tr th:only-of-type {\n",
       "        vertical-align: middle;\n",
       "    }\n",
       "\n",
       "    .dataframe tbody tr th {\n",
       "        vertical-align: top;\n",
       "    }\n",
       "\n",
       "    .dataframe thead th {\n",
       "        text-align: right;\n",
       "    }\n",
       "</style>\n",
       "<table border=\"1\" class=\"dataframe\">\n",
       "  <thead>\n",
       "    <tr style=\"text-align: right;\">\n",
       "      <th></th>\n",
       "      <th></th>\n",
       "      <th>color</th>\n",
       "      <th>size</th>\n",
       "      <th>date</th>\n",
       "      <th>a</th>\n",
       "      <th>b</th>\n",
       "    </tr>\n",
       "    <tr>\n",
       "      <th>class</th>\n",
       "      <th>country</th>\n",
       "      <th></th>\n",
       "      <th></th>\n",
       "      <th></th>\n",
       "      <th></th>\n",
       "      <th></th>\n",
       "    </tr>\n",
       "  </thead>\n",
       "  <tbody>\n",
       "    <tr>\n",
       "      <th>A</th>\n",
       "      <th>JP</th>\n",
       "      <td>black</td>\n",
       "      <td>S</td>\n",
       "      <td>2019-01-06</td>\n",
       "      <td>-0.445812</td>\n",
       "      <td>-0.369978</td>\n",
       "    </tr>\n",
       "    <tr>\n",
       "      <th rowspan=\"3\" valign=\"top\">B</th>\n",
       "      <th>CN</th>\n",
       "      <td>white</td>\n",
       "      <td>M</td>\n",
       "      <td>2019-01-13</td>\n",
       "      <td>-3.090266</td>\n",
       "      <td>-1.757744</td>\n",
       "    </tr>\n",
       "    <tr>\n",
       "      <th>US</th>\n",
       "      <td>red</td>\n",
       "      <td>L</td>\n",
       "      <td>2019-01-20</td>\n",
       "      <td>-0.424970</td>\n",
       "      <td>-0.380681</td>\n",
       "    </tr>\n",
       "    <tr>\n",
       "      <th>US</th>\n",
       "      <td>white</td>\n",
       "      <td>M</td>\n",
       "      <td>2019-01-27</td>\n",
       "      <td>-0.363608</td>\n",
       "      <td>-2.391862</td>\n",
       "    </tr>\n",
       "    <tr>\n",
       "      <th>C</th>\n",
       "      <th>US</th>\n",
       "      <td>green</td>\n",
       "      <td>XL</td>\n",
       "      <td>2019-02-03</td>\n",
       "      <td>1.046988</td>\n",
       "      <td>-0.154135</td>\n",
       "    </tr>\n",
       "  </tbody>\n",
       "</table>\n",
       "</div>"
      ],
      "text/plain": [
       "               color size       date         a         b\n",
       "class country                                           \n",
       "A     JP       black    S 2019-01-06 -0.445812 -0.369978\n",
       "B     CN       white    M 2019-01-13 -3.090266 -1.757744\n",
       "      US         red    L 2019-01-20 -0.424970 -0.380681\n",
       "      US       white    M 2019-01-27 -0.363608 -2.391862\n",
       "C     US       green   XL 2019-02-03  1.046988 -0.154135"
      ]
     },
     "execution_count": 94,
     "metadata": {},
     "output_type": "execute_result"
    }
   ],
   "source": [
    "index = pd.MultiIndex.from_arrays(index, names=['class', 'country'])\n",
    "\n",
    "pd.DataFrame(data, index=index)"
   ]
  },
  {
   "cell_type": "markdown",
   "metadata": {},
   "source": [
    "## 2. Quick checking DataFrames"
   ]
  },
  {
   "cell_type": "code",
   "execution_count": 95,
   "metadata": {},
   "outputs": [
    {
     "data": {
      "text/html": [
       "<div>\n",
       "<style scoped>\n",
       "    .dataframe tbody tr th:only-of-type {\n",
       "        vertical-align: middle;\n",
       "    }\n",
       "\n",
       "    .dataframe tbody tr th {\n",
       "        vertical-align: top;\n",
       "    }\n",
       "\n",
       "    .dataframe thead th {\n",
       "        text-align: right;\n",
       "    }\n",
       "</style>\n",
       "<table border=\"1\" class=\"dataframe\">\n",
       "  <thead>\n",
       "    <tr style=\"text-align: right;\">\n",
       "      <th></th>\n",
       "      <th>color</th>\n",
       "      <th>size</th>\n",
       "      <th>date</th>\n",
       "      <th>a</th>\n",
       "      <th>b</th>\n",
       "    </tr>\n",
       "  </thead>\n",
       "  <tbody>\n",
       "    <tr>\n",
       "      <th>B</th>\n",
       "      <td>white</td>\n",
       "      <td>M</td>\n",
       "      <td>2019-01-13</td>\n",
       "      <td>-3.090266</td>\n",
       "      <td>-1.757744</td>\n",
       "    </tr>\n",
       "    <tr>\n",
       "      <th>C</th>\n",
       "      <td>red</td>\n",
       "      <td>L</td>\n",
       "      <td>2019-01-20</td>\n",
       "      <td>-0.424970</td>\n",
       "      <td>-0.380681</td>\n",
       "    </tr>\n",
       "    <tr>\n",
       "      <th>E</th>\n",
       "      <td>green</td>\n",
       "      <td>XL</td>\n",
       "      <td>2019-02-03</td>\n",
       "      <td>1.046988</td>\n",
       "      <td>-0.154135</td>\n",
       "    </tr>\n",
       "  </tbody>\n",
       "</table>\n",
       "</div>"
      ],
      "text/plain": [
       "   color size       date         a         b\n",
       "B  white    M 2019-01-13 -3.090266 -1.757744\n",
       "C    red    L 2019-01-20 -0.424970 -0.380681\n",
       "E  green   XL 2019-02-03  1.046988 -0.154135"
      ]
     },
     "execution_count": 95,
     "metadata": {},
     "output_type": "execute_result"
    }
   ],
   "source": [
    "# select top 3\n",
    "df.head(3)\n",
    "\n",
    "# select last 3\n",
    "df.tail(3)\n",
    "\n",
    "# sample data\n",
    "df.sample(3)"
   ]
  },
  {
   "cell_type": "code",
   "execution_count": 96,
   "metadata": {},
   "outputs": [
    {
     "data": {
      "text/plain": [
       "color            object\n",
       "size             object\n",
       "date     datetime64[ns]\n",
       "a               float64\n",
       "b               float64\n",
       "dtype: object"
      ]
     },
     "execution_count": 96,
     "metadata": {},
     "output_type": "execute_result"
    }
   ],
   "source": [
    "# check data type\n",
    "df.dtypes"
   ]
  },
  {
   "cell_type": "code",
   "execution_count": 97,
   "metadata": {},
   "outputs": [
    {
     "data": {
      "text/plain": [
       "A    0\n",
       "B   -3\n",
       "C    0\n",
       "D    0\n",
       "E    1\n",
       "Name: a, dtype: int32"
      ]
     },
     "execution_count": 97,
     "metadata": {},
     "output_type": "execute_result"
    }
   ],
   "source": [
    "# change data type\n",
    "df.a.astype(int)"
   ]
  },
  {
   "cell_type": "code",
   "execution_count": 98,
   "metadata": {},
   "outputs": [
    {
     "name": "stdout",
     "output_type": "stream",
     "text": [
      "<class 'pandas.core.frame.DataFrame'>\n",
      "Index: 5 entries, A to E\n",
      "Data columns (total 5 columns):\n",
      "color    5 non-null object\n",
      "size     5 non-null object\n",
      "date     5 non-null datetime64[ns]\n",
      "a        5 non-null float64\n",
      "b        5 non-null float64\n",
      "dtypes: datetime64[ns](1), float64(2), object(2)\n",
      "memory usage: 400.0+ bytes\n"
     ]
    }
   ],
   "source": [
    "# check data information\n",
    "df.info()"
   ]
  },
  {
   "cell_type": "markdown",
   "metadata": {},
   "source": [
    "# 3. Basic descriptive statistics"
   ]
  },
  {
   "cell_type": "code",
   "execution_count": 99,
   "metadata": {
    "scrolled": true
   },
   "outputs": [
    {
     "data": {
      "text/html": [
       "<div>\n",
       "<style scoped>\n",
       "    .dataframe tbody tr th:only-of-type {\n",
       "        vertical-align: middle;\n",
       "    }\n",
       "\n",
       "    .dataframe tbody tr th {\n",
       "        vertical-align: top;\n",
       "    }\n",
       "\n",
       "    .dataframe thead th {\n",
       "        text-align: right;\n",
       "    }\n",
       "</style>\n",
       "<table border=\"1\" class=\"dataframe\">\n",
       "  <thead>\n",
       "    <tr style=\"text-align: right;\">\n",
       "      <th></th>\n",
       "      <th>a</th>\n",
       "      <th>b</th>\n",
       "    </tr>\n",
       "  </thead>\n",
       "  <tbody>\n",
       "    <tr>\n",
       "      <th>count</th>\n",
       "      <td>5.000000</td>\n",
       "      <td>5.000000</td>\n",
       "    </tr>\n",
       "    <tr>\n",
       "      <th>mean</th>\n",
       "      <td>-0.655534</td>\n",
       "      <td>-1.010880</td>\n",
       "    </tr>\n",
       "    <tr>\n",
       "      <th>std</th>\n",
       "      <td>1.500738</td>\n",
       "      <td>1.000854</td>\n",
       "    </tr>\n",
       "    <tr>\n",
       "      <th>min</th>\n",
       "      <td>-3.090266</td>\n",
       "      <td>-2.391862</td>\n",
       "    </tr>\n",
       "    <tr>\n",
       "      <th>25%</th>\n",
       "      <td>-0.445812</td>\n",
       "      <td>-1.757744</td>\n",
       "    </tr>\n",
       "    <tr>\n",
       "      <th>50%</th>\n",
       "      <td>-0.424970</td>\n",
       "      <td>-0.380681</td>\n",
       "    </tr>\n",
       "    <tr>\n",
       "      <th>75%</th>\n",
       "      <td>-0.363608</td>\n",
       "      <td>-0.369978</td>\n",
       "    </tr>\n",
       "    <tr>\n",
       "      <th>max</th>\n",
       "      <td>1.046988</td>\n",
       "      <td>-0.154135</td>\n",
       "    </tr>\n",
       "  </tbody>\n",
       "</table>\n",
       "</div>"
      ],
      "text/plain": [
       "              a         b\n",
       "count  5.000000  5.000000\n",
       "mean  -0.655534 -1.010880\n",
       "std    1.500738  1.000854\n",
       "min   -3.090266 -2.391862\n",
       "25%   -0.445812 -1.757744\n",
       "50%   -0.424970 -0.380681\n",
       "75%   -0.363608 -0.369978\n",
       "max    1.046988 -0.154135"
      ]
     },
     "execution_count": 99,
     "metadata": {},
     "output_type": "execute_result"
    }
   ],
   "source": [
    "# basic statistical analysis\n",
    "df.describe()"
   ]
  },
  {
   "cell_type": "code",
   "execution_count": 42,
   "metadata": {},
   "outputs": [],
   "source": [
    "# average by columns\n",
    "df.mean()\n",
    "\n",
    "# median by columns\n",
    "df.median()\n",
    "\n",
    "# variance by columns\n",
    "df.var()\n",
    "\n",
    "# standard deviation by columns\n",
    "df.std()\n",
    "\n",
    "# min by columns\n",
    "df.min()\n",
    "\n",
    "# max by columsn\n",
    "df.max()\n",
    "\n",
    "# top 5% quantile\n",
    "df.quantile(0.95)"
   ]
  },
  {
   "cell_type": "markdown",
   "metadata": {},
   "source": [
    "## 4. Indexing, slicing columns and rows\n",
    "\n",
    "### 4.1. select rows"
   ]
  },
  {
   "cell_type": "code",
   "execution_count": 100,
   "metadata": {
    "scrolled": true
   },
   "outputs": [
    {
     "data": {
      "text/html": [
       "<div>\n",
       "<style scoped>\n",
       "    .dataframe tbody tr th:only-of-type {\n",
       "        vertical-align: middle;\n",
       "    }\n",
       "\n",
       "    .dataframe tbody tr th {\n",
       "        vertical-align: top;\n",
       "    }\n",
       "\n",
       "    .dataframe thead th {\n",
       "        text-align: right;\n",
       "    }\n",
       "</style>\n",
       "<table border=\"1\" class=\"dataframe\">\n",
       "  <thead>\n",
       "    <tr style=\"text-align: right;\">\n",
       "      <th></th>\n",
       "      <th>color</th>\n",
       "      <th>size</th>\n",
       "      <th>date</th>\n",
       "      <th>a</th>\n",
       "      <th>b</th>\n",
       "    </tr>\n",
       "  </thead>\n",
       "  <tbody>\n",
       "    <tr>\n",
       "      <th>A</th>\n",
       "      <td>black</td>\n",
       "      <td>S</td>\n",
       "      <td>2019-01-06</td>\n",
       "      <td>-0.445812</td>\n",
       "      <td>-0.369978</td>\n",
       "    </tr>\n",
       "  </tbody>\n",
       "</table>\n",
       "</div>"
      ],
      "text/plain": [
       "   color size       date         a         b\n",
       "A  black    S 2019-01-06 -0.445812 -0.369978"
      ]
     },
     "execution_count": 100,
     "metadata": {},
     "output_type": "execute_result"
    }
   ],
   "source": [
    "# select row by index, return Series\n",
    "df.iloc[0]\n",
    "\n",
    "# select row by index, return dataframe\n",
    "df.iloc[[0]]"
   ]
  },
  {
   "cell_type": "code",
   "execution_count": 101,
   "metadata": {},
   "outputs": [
    {
     "data": {
      "text/html": [
       "<div>\n",
       "<style scoped>\n",
       "    .dataframe tbody tr th:only-of-type {\n",
       "        vertical-align: middle;\n",
       "    }\n",
       "\n",
       "    .dataframe tbody tr th {\n",
       "        vertical-align: top;\n",
       "    }\n",
       "\n",
       "    .dataframe thead th {\n",
       "        text-align: right;\n",
       "    }\n",
       "</style>\n",
       "<table border=\"1\" class=\"dataframe\">\n",
       "  <thead>\n",
       "    <tr style=\"text-align: right;\">\n",
       "      <th></th>\n",
       "      <th>color</th>\n",
       "      <th>size</th>\n",
       "      <th>date</th>\n",
       "      <th>a</th>\n",
       "      <th>b</th>\n",
       "    </tr>\n",
       "  </thead>\n",
       "  <tbody>\n",
       "    <tr>\n",
       "      <th>A</th>\n",
       "      <td>black</td>\n",
       "      <td>S</td>\n",
       "      <td>2019-01-06</td>\n",
       "      <td>-0.445812</td>\n",
       "      <td>-0.369978</td>\n",
       "    </tr>\n",
       "  </tbody>\n",
       "</table>\n",
       "</div>"
      ],
      "text/plain": [
       "   color size       date         a         b\n",
       "A  black    S 2019-01-06 -0.445812 -0.369978"
      ]
     },
     "execution_count": 101,
     "metadata": {},
     "output_type": "execute_result"
    }
   ],
   "source": [
    "# select row by name, return Series\n",
    "df.loc['A']\n",
    "\n",
    "# select row by name, return dataframe\n",
    "df.loc[['A']]"
   ]
  },
  {
   "cell_type": "markdown",
   "metadata": {},
   "source": [
    "### 4.2. select columns"
   ]
  },
  {
   "cell_type": "code",
   "execution_count": 102,
   "metadata": {},
   "outputs": [
    {
     "data": {
      "text/html": [
       "<div>\n",
       "<style scoped>\n",
       "    .dataframe tbody tr th:only-of-type {\n",
       "        vertical-align: middle;\n",
       "    }\n",
       "\n",
       "    .dataframe tbody tr th {\n",
       "        vertical-align: top;\n",
       "    }\n",
       "\n",
       "    .dataframe thead th {\n",
       "        text-align: right;\n",
       "    }\n",
       "</style>\n",
       "<table border=\"1\" class=\"dataframe\">\n",
       "  <thead>\n",
       "    <tr style=\"text-align: right;\">\n",
       "      <th></th>\n",
       "      <th>color</th>\n",
       "    </tr>\n",
       "  </thead>\n",
       "  <tbody>\n",
       "    <tr>\n",
       "      <th>A</th>\n",
       "      <td>black</td>\n",
       "    </tr>\n",
       "    <tr>\n",
       "      <th>B</th>\n",
       "      <td>white</td>\n",
       "    </tr>\n",
       "    <tr>\n",
       "      <th>C</th>\n",
       "      <td>red</td>\n",
       "    </tr>\n",
       "    <tr>\n",
       "      <th>D</th>\n",
       "      <td>white</td>\n",
       "    </tr>\n",
       "    <tr>\n",
       "      <th>E</th>\n",
       "      <td>green</td>\n",
       "    </tr>\n",
       "  </tbody>\n",
       "</table>\n",
       "</div>"
      ],
      "text/plain": [
       "   color\n",
       "A  black\n",
       "B  white\n",
       "C    red\n",
       "D  white\n",
       "E  green"
      ]
     },
     "execution_count": 102,
     "metadata": {},
     "output_type": "execute_result"
    }
   ],
   "source": [
    "# select column by index, return Series\n",
    "df.iloc[:, 0]\n",
    "\n",
    "# select column by index, return dataframe\n",
    "df.iloc[:, [0]]"
   ]
  },
  {
   "cell_type": "code",
   "execution_count": 103,
   "metadata": {},
   "outputs": [
    {
     "data": {
      "text/html": [
       "<div>\n",
       "<style scoped>\n",
       "    .dataframe tbody tr th:only-of-type {\n",
       "        vertical-align: middle;\n",
       "    }\n",
       "\n",
       "    .dataframe tbody tr th {\n",
       "        vertical-align: top;\n",
       "    }\n",
       "\n",
       "    .dataframe thead th {\n",
       "        text-align: right;\n",
       "    }\n",
       "</style>\n",
       "<table border=\"1\" class=\"dataframe\">\n",
       "  <thead>\n",
       "    <tr style=\"text-align: right;\">\n",
       "      <th></th>\n",
       "      <th>color</th>\n",
       "    </tr>\n",
       "  </thead>\n",
       "  <tbody>\n",
       "    <tr>\n",
       "      <th>A</th>\n",
       "      <td>black</td>\n",
       "    </tr>\n",
       "    <tr>\n",
       "      <th>B</th>\n",
       "      <td>white</td>\n",
       "    </tr>\n",
       "    <tr>\n",
       "      <th>C</th>\n",
       "      <td>red</td>\n",
       "    </tr>\n",
       "    <tr>\n",
       "      <th>D</th>\n",
       "      <td>white</td>\n",
       "    </tr>\n",
       "    <tr>\n",
       "      <th>E</th>\n",
       "      <td>green</td>\n",
       "    </tr>\n",
       "  </tbody>\n",
       "</table>\n",
       "</div>"
      ],
      "text/plain": [
       "   color\n",
       "A  black\n",
       "B  white\n",
       "C    red\n",
       "D  white\n",
       "E  green"
      ]
     },
     "execution_count": 103,
     "metadata": {},
     "output_type": "execute_result"
    }
   ],
   "source": [
    "# select column by name, return Series\n",
    "df.loc[:, 'color']\n",
    "\n",
    "# select column by name, return dataframe\n",
    "df[['color']]"
   ]
  },
  {
   "cell_type": "markdown",
   "metadata": {},
   "source": [
    "### 4.3. conditional subsetting"
   ]
  },
  {
   "cell_type": "code",
   "execution_count": 104,
   "metadata": {},
   "outputs": [
    {
     "data": {
      "text/html": [
       "<div>\n",
       "<style scoped>\n",
       "    .dataframe tbody tr th:only-of-type {\n",
       "        vertical-align: middle;\n",
       "    }\n",
       "\n",
       "    .dataframe tbody tr th {\n",
       "        vertical-align: top;\n",
       "    }\n",
       "\n",
       "    .dataframe thead th {\n",
       "        text-align: right;\n",
       "    }\n",
       "</style>\n",
       "<table border=\"1\" class=\"dataframe\">\n",
       "  <thead>\n",
       "    <tr style=\"text-align: right;\">\n",
       "      <th></th>\n",
       "      <th>color</th>\n",
       "      <th>size</th>\n",
       "      <th>date</th>\n",
       "      <th>a</th>\n",
       "      <th>b</th>\n",
       "    </tr>\n",
       "  </thead>\n",
       "  <tbody>\n",
       "    <tr>\n",
       "      <th>B</th>\n",
       "      <td>white</td>\n",
       "      <td>M</td>\n",
       "      <td>2019-01-13</td>\n",
       "      <td>-3.090266</td>\n",
       "      <td>-1.757744</td>\n",
       "    </tr>\n",
       "  </tbody>\n",
       "</table>\n",
       "</div>"
      ],
      "text/plain": [
       "   color size       date         a         b\n",
       "B  white    M 2019-01-13 -3.090266 -1.757744"
      ]
     },
     "execution_count": 104,
     "metadata": {},
     "output_type": "execute_result"
    }
   ],
   "source": [
    "# numeric condition\n",
    "df[df.a < -1]"
   ]
  },
  {
   "cell_type": "code",
   "execution_count": 105,
   "metadata": {},
   "outputs": [
    {
     "data": {
      "text/html": [
       "<div>\n",
       "<style scoped>\n",
       "    .dataframe tbody tr th:only-of-type {\n",
       "        vertical-align: middle;\n",
       "    }\n",
       "\n",
       "    .dataframe tbody tr th {\n",
       "        vertical-align: top;\n",
       "    }\n",
       "\n",
       "    .dataframe thead th {\n",
       "        text-align: right;\n",
       "    }\n",
       "</style>\n",
       "<table border=\"1\" class=\"dataframe\">\n",
       "  <thead>\n",
       "    <tr style=\"text-align: right;\">\n",
       "      <th></th>\n",
       "      <th>color</th>\n",
       "      <th>size</th>\n",
       "      <th>date</th>\n",
       "      <th>a</th>\n",
       "      <th>b</th>\n",
       "    </tr>\n",
       "  </thead>\n",
       "  <tbody>\n",
       "    <tr>\n",
       "      <th>A</th>\n",
       "      <td>black</td>\n",
       "      <td>S</td>\n",
       "      <td>2019-01-06</td>\n",
       "      <td>-0.445812</td>\n",
       "      <td>-0.369978</td>\n",
       "    </tr>\n",
       "    <tr>\n",
       "      <th>B</th>\n",
       "      <td>white</td>\n",
       "      <td>M</td>\n",
       "      <td>2019-01-13</td>\n",
       "      <td>-3.090266</td>\n",
       "      <td>-1.757744</td>\n",
       "    </tr>\n",
       "    <tr>\n",
       "      <th>D</th>\n",
       "      <td>white</td>\n",
       "      <td>M</td>\n",
       "      <td>2019-01-27</td>\n",
       "      <td>-0.363608</td>\n",
       "      <td>-2.391862</td>\n",
       "    </tr>\n",
       "  </tbody>\n",
       "</table>\n",
       "</div>"
      ],
      "text/plain": [
       "   color size       date         a         b\n",
       "A  black    S 2019-01-06 -0.445812 -0.369978\n",
       "B  white    M 2019-01-13 -3.090266 -1.757744\n",
       "D  white    M 2019-01-27 -0.363608 -2.391862"
      ]
     },
     "execution_count": 105,
     "metadata": {},
     "output_type": "execute_result"
    }
   ],
   "source": [
    "# categorical condition\n",
    "df[df.color.isin(['white', 'black'])]"
   ]
  },
  {
   "cell_type": "code",
   "execution_count": 108,
   "metadata": {
    "scrolled": true
   },
   "outputs": [
    {
     "data": {
      "text/html": [
       "<div>\n",
       "<style scoped>\n",
       "    .dataframe tbody tr th:only-of-type {\n",
       "        vertical-align: middle;\n",
       "    }\n",
       "\n",
       "    .dataframe tbody tr th {\n",
       "        vertical-align: top;\n",
       "    }\n",
       "\n",
       "    .dataframe thead th {\n",
       "        text-align: right;\n",
       "    }\n",
       "</style>\n",
       "<table border=\"1\" class=\"dataframe\">\n",
       "  <thead>\n",
       "    <tr style=\"text-align: right;\">\n",
       "      <th></th>\n",
       "      <th>a</th>\n",
       "      <th>b</th>\n",
       "    </tr>\n",
       "  </thead>\n",
       "  <tbody>\n",
       "    <tr>\n",
       "      <th>B</th>\n",
       "      <td>-3.090266</td>\n",
       "      <td>-1.757744</td>\n",
       "    </tr>\n",
       "    <tr>\n",
       "      <th>D</th>\n",
       "      <td>-0.363608</td>\n",
       "      <td>-2.391862</td>\n",
       "    </tr>\n",
       "  </tbody>\n",
       "</table>\n",
       "</div>"
      ],
      "text/plain": [
       "          a         b\n",
       "B -3.090266 -1.757744\n",
       "D -0.363608 -2.391862"
      ]
     },
     "execution_count": 108,
     "metadata": {},
     "output_type": "execute_result"
    }
   ],
   "source": [
    "df.loc[(df.color == 'white') & (df['size'] == 'M'), ['a', 'b']]"
   ]
  },
  {
   "cell_type": "code",
   "execution_count": 109,
   "metadata": {},
   "outputs": [
    {
     "data": {
      "text/html": [
       "<div>\n",
       "<style scoped>\n",
       "    .dataframe tbody tr th:only-of-type {\n",
       "        vertical-align: middle;\n",
       "    }\n",
       "\n",
       "    .dataframe tbody tr th {\n",
       "        vertical-align: top;\n",
       "    }\n",
       "\n",
       "    .dataframe thead th {\n",
       "        text-align: right;\n",
       "    }\n",
       "</style>\n",
       "<table border=\"1\" class=\"dataframe\">\n",
       "  <thead>\n",
       "    <tr style=\"text-align: right;\">\n",
       "      <th></th>\n",
       "      <th>color</th>\n",
       "      <th>size</th>\n",
       "      <th>date</th>\n",
       "      <th>a</th>\n",
       "      <th>b</th>\n",
       "    </tr>\n",
       "  </thead>\n",
       "  <tbody>\n",
       "    <tr>\n",
       "      <th>B</th>\n",
       "      <td>white</td>\n",
       "      <td>M</td>\n",
       "      <td>2019-01-13</td>\n",
       "      <td>-3.090266</td>\n",
       "      <td>-1.757744</td>\n",
       "    </tr>\n",
       "    <tr>\n",
       "      <th>D</th>\n",
       "      <td>white</td>\n",
       "      <td>M</td>\n",
       "      <td>2019-01-27</td>\n",
       "      <td>-0.363608</td>\n",
       "      <td>-2.391862</td>\n",
       "    </tr>\n",
       "  </tbody>\n",
       "</table>\n",
       "</div>"
      ],
      "text/plain": [
       "   color size       date         a         b\n",
       "B  white    M 2019-01-13 -3.090266 -1.757744\n",
       "D  white    M 2019-01-27 -0.363608 -2.391862"
      ]
     },
     "execution_count": 109,
     "metadata": {},
     "output_type": "execute_result"
    }
   ],
   "source": [
    "df.query(\"color == 'white' & size == 'M'\")"
   ]
  },
  {
   "cell_type": "markdown",
   "metadata": {},
   "source": [
    "## 5. Basic Operation\n",
    "### 5.1. mathematical operations and store a new column"
   ]
  },
  {
   "cell_type": "code",
   "execution_count": 110,
   "metadata": {},
   "outputs": [
    {
     "data": {
      "text/html": [
       "<div>\n",
       "<style scoped>\n",
       "    .dataframe tbody tr th:only-of-type {\n",
       "        vertical-align: middle;\n",
       "    }\n",
       "\n",
       "    .dataframe tbody tr th {\n",
       "        vertical-align: top;\n",
       "    }\n",
       "\n",
       "    .dataframe thead th {\n",
       "        text-align: right;\n",
       "    }\n",
       "</style>\n",
       "<table border=\"1\" class=\"dataframe\">\n",
       "  <thead>\n",
       "    <tr style=\"text-align: right;\">\n",
       "      <th></th>\n",
       "      <th>color</th>\n",
       "      <th>size</th>\n",
       "      <th>date</th>\n",
       "      <th>a</th>\n",
       "      <th>b</th>\n",
       "      <th>c</th>\n",
       "    </tr>\n",
       "  </thead>\n",
       "  <tbody>\n",
       "    <tr>\n",
       "      <th>A</th>\n",
       "      <td>black</td>\n",
       "      <td>S</td>\n",
       "      <td>2019-01-06</td>\n",
       "      <td>-0.445812</td>\n",
       "      <td>-0.369978</td>\n",
       "      <td>-0.815790</td>\n",
       "    </tr>\n",
       "    <tr>\n",
       "      <th>B</th>\n",
       "      <td>white</td>\n",
       "      <td>M</td>\n",
       "      <td>2019-01-13</td>\n",
       "      <td>-3.090266</td>\n",
       "      <td>-1.757744</td>\n",
       "      <td>-4.848010</td>\n",
       "    </tr>\n",
       "    <tr>\n",
       "      <th>C</th>\n",
       "      <td>red</td>\n",
       "      <td>L</td>\n",
       "      <td>2019-01-20</td>\n",
       "      <td>-0.424970</td>\n",
       "      <td>-0.380681</td>\n",
       "      <td>-0.805651</td>\n",
       "    </tr>\n",
       "    <tr>\n",
       "      <th>D</th>\n",
       "      <td>white</td>\n",
       "      <td>M</td>\n",
       "      <td>2019-01-27</td>\n",
       "      <td>-0.363608</td>\n",
       "      <td>-2.391862</td>\n",
       "      <td>-2.755470</td>\n",
       "    </tr>\n",
       "    <tr>\n",
       "      <th>E</th>\n",
       "      <td>green</td>\n",
       "      <td>XL</td>\n",
       "      <td>2019-02-03</td>\n",
       "      <td>1.046988</td>\n",
       "      <td>-0.154135</td>\n",
       "      <td>0.892853</td>\n",
       "    </tr>\n",
       "  </tbody>\n",
       "</table>\n",
       "</div>"
      ],
      "text/plain": [
       "   color size       date         a         b         c\n",
       "A  black    S 2019-01-06 -0.445812 -0.369978 -0.815790\n",
       "B  white    M 2019-01-13 -3.090266 -1.757744 -4.848010\n",
       "C    red    L 2019-01-20 -0.424970 -0.380681 -0.805651\n",
       "D  white    M 2019-01-27 -0.363608 -2.391862 -2.755470\n",
       "E  green   XL 2019-02-03  1.046988 -0.154135  0.892853"
      ]
     },
     "execution_count": 110,
     "metadata": {},
     "output_type": "execute_result"
    }
   ],
   "source": [
    "df['c'] = df.a + df.b\n",
    "df"
   ]
  },
  {
   "cell_type": "markdown",
   "metadata": {},
   "source": [
    "### 5.2. Evaluating an expression\n",
    "\n",
    "A great feature supported by pandas is expression evaluation. This relies on the `numexpr` library which must be installed. Also, we can directly modify the DataFrame, and use global variable in an expression by prefixing it with `@`"
   ]
  },
  {
   "cell_type": "code",
   "execution_count": 111,
   "metadata": {
    "scrolled": false
   },
   "outputs": [
    {
     "data": {
      "text/plain": [
       "A   -0.815790\n",
       "B   -4.848010\n",
       "C   -0.805651\n",
       "D   -2.755470\n",
       "E    0.892853\n",
       "dtype: float64"
      ]
     },
     "execution_count": 111,
     "metadata": {},
     "output_type": "execute_result"
    }
   ],
   "source": [
    "# quick evaluate\n",
    "df.eval('a + b')"
   ]
  },
  {
   "cell_type": "code",
   "execution_count": 112,
   "metadata": {
    "scrolled": true
   },
   "outputs": [
    {
     "data": {
      "text/html": [
       "<div>\n",
       "<style scoped>\n",
       "    .dataframe tbody tr th:only-of-type {\n",
       "        vertical-align: middle;\n",
       "    }\n",
       "\n",
       "    .dataframe tbody tr th {\n",
       "        vertical-align: top;\n",
       "    }\n",
       "\n",
       "    .dataframe thead th {\n",
       "        text-align: right;\n",
       "    }\n",
       "</style>\n",
       "<table border=\"1\" class=\"dataframe\">\n",
       "  <thead>\n",
       "    <tr style=\"text-align: right;\">\n",
       "      <th></th>\n",
       "      <th>color</th>\n",
       "      <th>size</th>\n",
       "      <th>date</th>\n",
       "      <th>a</th>\n",
       "      <th>b</th>\n",
       "      <th>c</th>\n",
       "    </tr>\n",
       "  </thead>\n",
       "  <tbody>\n",
       "    <tr>\n",
       "      <th>A</th>\n",
       "      <td>black</td>\n",
       "      <td>S</td>\n",
       "      <td>2019-01-06</td>\n",
       "      <td>-0.445812</td>\n",
       "      <td>-0.369978</td>\n",
       "      <td>False</td>\n",
       "    </tr>\n",
       "    <tr>\n",
       "      <th>B</th>\n",
       "      <td>white</td>\n",
       "      <td>M</td>\n",
       "      <td>2019-01-13</td>\n",
       "      <td>-3.090266</td>\n",
       "      <td>-1.757744</td>\n",
       "      <td>False</td>\n",
       "    </tr>\n",
       "    <tr>\n",
       "      <th>C</th>\n",
       "      <td>red</td>\n",
       "      <td>L</td>\n",
       "      <td>2019-01-20</td>\n",
       "      <td>-0.424970</td>\n",
       "      <td>-0.380681</td>\n",
       "      <td>False</td>\n",
       "    </tr>\n",
       "    <tr>\n",
       "      <th>D</th>\n",
       "      <td>white</td>\n",
       "      <td>M</td>\n",
       "      <td>2019-01-27</td>\n",
       "      <td>-0.363608</td>\n",
       "      <td>-2.391862</td>\n",
       "      <td>False</td>\n",
       "    </tr>\n",
       "    <tr>\n",
       "      <th>E</th>\n",
       "      <td>green</td>\n",
       "      <td>XL</td>\n",
       "      <td>2019-02-03</td>\n",
       "      <td>1.046988</td>\n",
       "      <td>-0.154135</td>\n",
       "      <td>True</td>\n",
       "    </tr>\n",
       "  </tbody>\n",
       "</table>\n",
       "</div>"
      ],
      "text/plain": [
       "   color size       date         a         b      c\n",
       "A  black    S 2019-01-06 -0.445812 -0.369978  False\n",
       "B  white    M 2019-01-13 -3.090266 -1.757744  False\n",
       "C    red    L 2019-01-20 -0.424970 -0.380681  False\n",
       "D  white    M 2019-01-27 -0.363608 -2.391862  False\n",
       "E  green   XL 2019-02-03  1.046988 -0.154135   True"
      ]
     },
     "execution_count": 112,
     "metadata": {},
     "output_type": "execute_result"
    }
   ],
   "source": [
    "threshold = 0\n",
    "df.eval('c = a + b > @threshold')"
   ]
  },
  {
   "cell_type": "markdown",
   "metadata": {},
   "source": [
    "### 5.3. Deleting columns or rows "
   ]
  },
  {
   "cell_type": "code",
   "execution_count": 113,
   "metadata": {},
   "outputs": [
    {
     "data": {
      "text/html": [
       "<div>\n",
       "<style scoped>\n",
       "    .dataframe tbody tr th:only-of-type {\n",
       "        vertical-align: middle;\n",
       "    }\n",
       "\n",
       "    .dataframe tbody tr th {\n",
       "        vertical-align: top;\n",
       "    }\n",
       "\n",
       "    .dataframe thead th {\n",
       "        text-align: right;\n",
       "    }\n",
       "</style>\n",
       "<table border=\"1\" class=\"dataframe\">\n",
       "  <thead>\n",
       "    <tr style=\"text-align: right;\">\n",
       "      <th></th>\n",
       "      <th>color</th>\n",
       "      <th>size</th>\n",
       "      <th>date</th>\n",
       "      <th>a</th>\n",
       "      <th>b</th>\n",
       "    </tr>\n",
       "  </thead>\n",
       "  <tbody>\n",
       "    <tr>\n",
       "      <th>A</th>\n",
       "      <td>black</td>\n",
       "      <td>S</td>\n",
       "      <td>2019-01-06</td>\n",
       "      <td>-0.445812</td>\n",
       "      <td>-0.369978</td>\n",
       "    </tr>\n",
       "    <tr>\n",
       "      <th>B</th>\n",
       "      <td>white</td>\n",
       "      <td>M</td>\n",
       "      <td>2019-01-13</td>\n",
       "      <td>-3.090266</td>\n",
       "      <td>-1.757744</td>\n",
       "    </tr>\n",
       "    <tr>\n",
       "      <th>C</th>\n",
       "      <td>red</td>\n",
       "      <td>L</td>\n",
       "      <td>2019-01-20</td>\n",
       "      <td>-0.424970</td>\n",
       "      <td>-0.380681</td>\n",
       "    </tr>\n",
       "    <tr>\n",
       "      <th>D</th>\n",
       "      <td>white</td>\n",
       "      <td>M</td>\n",
       "      <td>2019-01-27</td>\n",
       "      <td>-0.363608</td>\n",
       "      <td>-2.391862</td>\n",
       "    </tr>\n",
       "    <tr>\n",
       "      <th>E</th>\n",
       "      <td>green</td>\n",
       "      <td>XL</td>\n",
       "      <td>2019-02-03</td>\n",
       "      <td>1.046988</td>\n",
       "      <td>-0.154135</td>\n",
       "    </tr>\n",
       "  </tbody>\n",
       "</table>\n",
       "</div>"
      ],
      "text/plain": [
       "   color size       date         a         b\n",
       "A  black    S 2019-01-06 -0.445812 -0.369978\n",
       "B  white    M 2019-01-13 -3.090266 -1.757744\n",
       "C    red    L 2019-01-20 -0.424970 -0.380681\n",
       "D  white    M 2019-01-27 -0.363608 -2.391862\n",
       "E  green   XL 2019-02-03  1.046988 -0.154135"
      ]
     },
     "execution_count": 113,
     "metadata": {},
     "output_type": "execute_result"
    }
   ],
   "source": [
    "# Notice the axis=1 option for columns\n",
    "df.drop('c', axis = 1)"
   ]
  },
  {
   "cell_type": "code",
   "execution_count": 114,
   "metadata": {},
   "outputs": [
    {
     "data": {
      "text/html": [
       "<div>\n",
       "<style scoped>\n",
       "    .dataframe tbody tr th:only-of-type {\n",
       "        vertical-align: middle;\n",
       "    }\n",
       "\n",
       "    .dataframe tbody tr th {\n",
       "        vertical-align: top;\n",
       "    }\n",
       "\n",
       "    .dataframe thead th {\n",
       "        text-align: right;\n",
       "    }\n",
       "</style>\n",
       "<table border=\"1\" class=\"dataframe\">\n",
       "  <thead>\n",
       "    <tr style=\"text-align: right;\">\n",
       "      <th></th>\n",
       "      <th>color</th>\n",
       "      <th>size</th>\n",
       "      <th>date</th>\n",
       "      <th>a</th>\n",
       "      <th>b</th>\n",
       "      <th>c</th>\n",
       "    </tr>\n",
       "  </thead>\n",
       "  <tbody>\n",
       "    <tr>\n",
       "      <th>A</th>\n",
       "      <td>black</td>\n",
       "      <td>S</td>\n",
       "      <td>2019-01-06</td>\n",
       "      <td>-0.445812</td>\n",
       "      <td>-0.369978</td>\n",
       "      <td>-0.815790</td>\n",
       "    </tr>\n",
       "    <tr>\n",
       "      <th>C</th>\n",
       "      <td>red</td>\n",
       "      <td>L</td>\n",
       "      <td>2019-01-20</td>\n",
       "      <td>-0.424970</td>\n",
       "      <td>-0.380681</td>\n",
       "      <td>-0.805651</td>\n",
       "    </tr>\n",
       "    <tr>\n",
       "      <th>D</th>\n",
       "      <td>white</td>\n",
       "      <td>M</td>\n",
       "      <td>2019-01-27</td>\n",
       "      <td>-0.363608</td>\n",
       "      <td>-2.391862</td>\n",
       "      <td>-2.755470</td>\n",
       "    </tr>\n",
       "    <tr>\n",
       "      <th>E</th>\n",
       "      <td>green</td>\n",
       "      <td>XL</td>\n",
       "      <td>2019-02-03</td>\n",
       "      <td>1.046988</td>\n",
       "      <td>-0.154135</td>\n",
       "      <td>0.892853</td>\n",
       "    </tr>\n",
       "  </tbody>\n",
       "</table>\n",
       "</div>"
      ],
      "text/plain": [
       "   color size       date         a         b         c\n",
       "A  black    S 2019-01-06 -0.445812 -0.369978 -0.815790\n",
       "C    red    L 2019-01-20 -0.424970 -0.380681 -0.805651\n",
       "D  white    M 2019-01-27 -0.363608 -2.391862 -2.755470\n",
       "E  green   XL 2019-02-03  1.046988 -0.154135  0.892853"
      ]
     },
     "execution_count": 114,
     "metadata": {},
     "output_type": "execute_result"
    }
   ],
   "source": [
    "# axis = 0 is default for rows\n",
    "df.drop('B', axis = 0)"
   ]
  },
  {
   "cell_type": "markdown",
   "metadata": {},
   "source": [
    "### 5.4. Counting and sorting"
   ]
  },
  {
   "cell_type": "code",
   "execution_count": 115,
   "metadata": {},
   "outputs": [
    {
     "data": {
      "text/plain": [
       "white    2\n",
       "green    1\n",
       "black    1\n",
       "red      1\n",
       "Name: color, dtype: int64"
      ]
     },
     "execution_count": 115,
     "metadata": {},
     "output_type": "execute_result"
    }
   ],
   "source": [
    "df.color.value_counts()"
   ]
  },
  {
   "cell_type": "code",
   "execution_count": 116,
   "metadata": {},
   "outputs": [
    {
     "data": {
      "text/html": [
       "<div>\n",
       "<style scoped>\n",
       "    .dataframe tbody tr th:only-of-type {\n",
       "        vertical-align: middle;\n",
       "    }\n",
       "\n",
       "    .dataframe tbody tr th {\n",
       "        vertical-align: top;\n",
       "    }\n",
       "\n",
       "    .dataframe thead th {\n",
       "        text-align: right;\n",
       "    }\n",
       "</style>\n",
       "<table border=\"1\" class=\"dataframe\">\n",
       "  <thead>\n",
       "    <tr style=\"text-align: right;\">\n",
       "      <th></th>\n",
       "      <th>color</th>\n",
       "      <th>size</th>\n",
       "      <th>date</th>\n",
       "      <th>a</th>\n",
       "      <th>b</th>\n",
       "      <th>c</th>\n",
       "    </tr>\n",
       "  </thead>\n",
       "  <tbody>\n",
       "    <tr>\n",
       "      <th>E</th>\n",
       "      <td>green</td>\n",
       "      <td>XL</td>\n",
       "      <td>2019-02-03</td>\n",
       "      <td>1.046988</td>\n",
       "      <td>-0.154135</td>\n",
       "      <td>0.892853</td>\n",
       "    </tr>\n",
       "    <tr>\n",
       "      <th>D</th>\n",
       "      <td>white</td>\n",
       "      <td>M</td>\n",
       "      <td>2019-01-27</td>\n",
       "      <td>-0.363608</td>\n",
       "      <td>-2.391862</td>\n",
       "      <td>-2.755470</td>\n",
       "    </tr>\n",
       "    <tr>\n",
       "      <th>C</th>\n",
       "      <td>red</td>\n",
       "      <td>L</td>\n",
       "      <td>2019-01-20</td>\n",
       "      <td>-0.424970</td>\n",
       "      <td>-0.380681</td>\n",
       "      <td>-0.805651</td>\n",
       "    </tr>\n",
       "    <tr>\n",
       "      <th>B</th>\n",
       "      <td>white</td>\n",
       "      <td>M</td>\n",
       "      <td>2019-01-13</td>\n",
       "      <td>-3.090266</td>\n",
       "      <td>-1.757744</td>\n",
       "      <td>-4.848010</td>\n",
       "    </tr>\n",
       "    <tr>\n",
       "      <th>A</th>\n",
       "      <td>black</td>\n",
       "      <td>S</td>\n",
       "      <td>2019-01-06</td>\n",
       "      <td>-0.445812</td>\n",
       "      <td>-0.369978</td>\n",
       "      <td>-0.815790</td>\n",
       "    </tr>\n",
       "  </tbody>\n",
       "</table>\n",
       "</div>"
      ],
      "text/plain": [
       "   color size       date         a         b         c\n",
       "E  green   XL 2019-02-03  1.046988 -0.154135  0.892853\n",
       "D  white    M 2019-01-27 -0.363608 -2.391862 -2.755470\n",
       "C    red    L 2019-01-20 -0.424970 -0.380681 -0.805651\n",
       "B  white    M 2019-01-13 -3.090266 -1.757744 -4.848010\n",
       "A  black    S 2019-01-06 -0.445812 -0.369978 -0.815790"
      ]
     },
     "execution_count": 116,
     "metadata": {},
     "output_type": "execute_result"
    }
   ],
   "source": [
    "df.sort_values(by='date', ascending=False)"
   ]
  },
  {
   "cell_type": "markdown",
   "metadata": {},
   "source": [
    "### 5.5. Re-setting and Setting Index"
   ]
  },
  {
   "cell_type": "code",
   "execution_count": 117,
   "metadata": {},
   "outputs": [
    {
     "data": {
      "text/html": [
       "<div>\n",
       "<style scoped>\n",
       "    .dataframe tbody tr th:only-of-type {\n",
       "        vertical-align: middle;\n",
       "    }\n",
       "\n",
       "    .dataframe tbody tr th {\n",
       "        vertical-align: top;\n",
       "    }\n",
       "\n",
       "    .dataframe thead th {\n",
       "        text-align: right;\n",
       "    }\n",
       "</style>\n",
       "<table border=\"1\" class=\"dataframe\">\n",
       "  <thead>\n",
       "    <tr style=\"text-align: right;\">\n",
       "      <th></th>\n",
       "      <th>index</th>\n",
       "      <th>color</th>\n",
       "      <th>size</th>\n",
       "      <th>date</th>\n",
       "      <th>a</th>\n",
       "      <th>b</th>\n",
       "      <th>c</th>\n",
       "    </tr>\n",
       "  </thead>\n",
       "  <tbody>\n",
       "    <tr>\n",
       "      <th>0</th>\n",
       "      <td>A</td>\n",
       "      <td>black</td>\n",
       "      <td>S</td>\n",
       "      <td>2019-01-06</td>\n",
       "      <td>-0.445812</td>\n",
       "      <td>-0.369978</td>\n",
       "      <td>-0.815790</td>\n",
       "    </tr>\n",
       "    <tr>\n",
       "      <th>1</th>\n",
       "      <td>B</td>\n",
       "      <td>white</td>\n",
       "      <td>M</td>\n",
       "      <td>2019-01-13</td>\n",
       "      <td>-3.090266</td>\n",
       "      <td>-1.757744</td>\n",
       "      <td>-4.848010</td>\n",
       "    </tr>\n",
       "    <tr>\n",
       "      <th>2</th>\n",
       "      <td>C</td>\n",
       "      <td>red</td>\n",
       "      <td>L</td>\n",
       "      <td>2019-01-20</td>\n",
       "      <td>-0.424970</td>\n",
       "      <td>-0.380681</td>\n",
       "      <td>-0.805651</td>\n",
       "    </tr>\n",
       "    <tr>\n",
       "      <th>3</th>\n",
       "      <td>D</td>\n",
       "      <td>white</td>\n",
       "      <td>M</td>\n",
       "      <td>2019-01-27</td>\n",
       "      <td>-0.363608</td>\n",
       "      <td>-2.391862</td>\n",
       "      <td>-2.755470</td>\n",
       "    </tr>\n",
       "    <tr>\n",
       "      <th>4</th>\n",
       "      <td>E</td>\n",
       "      <td>green</td>\n",
       "      <td>XL</td>\n",
       "      <td>2019-02-03</td>\n",
       "      <td>1.046988</td>\n",
       "      <td>-0.154135</td>\n",
       "      <td>0.892853</td>\n",
       "    </tr>\n",
       "  </tbody>\n",
       "</table>\n",
       "</div>"
      ],
      "text/plain": [
       "  index  color size       date         a         b         c\n",
       "0     A  black    S 2019-01-06 -0.445812 -0.369978 -0.815790\n",
       "1     B  white    M 2019-01-13 -3.090266 -1.757744 -4.848010\n",
       "2     C    red    L 2019-01-20 -0.424970 -0.380681 -0.805651\n",
       "3     D  white    M 2019-01-27 -0.363608 -2.391862 -2.755470\n",
       "4     E  green   XL 2019-02-03  1.046988 -0.154135  0.892853"
      ]
     },
     "execution_count": 117,
     "metadata": {},
     "output_type": "execute_result"
    }
   ],
   "source": [
    "df.reset_index()"
   ]
  },
  {
   "cell_type": "code",
   "execution_count": 119,
   "metadata": {},
   "outputs": [
    {
     "data": {
      "text/html": [
       "<div>\n",
       "<style scoped>\n",
       "    .dataframe tbody tr th:only-of-type {\n",
       "        vertical-align: middle;\n",
       "    }\n",
       "\n",
       "    .dataframe tbody tr th {\n",
       "        vertical-align: top;\n",
       "    }\n",
       "\n",
       "    .dataframe thead th {\n",
       "        text-align: right;\n",
       "    }\n",
       "</style>\n",
       "<table border=\"1\" class=\"dataframe\">\n",
       "  <thead>\n",
       "    <tr style=\"text-align: right;\">\n",
       "      <th></th>\n",
       "      <th>color</th>\n",
       "      <th>size</th>\n",
       "      <th>a</th>\n",
       "      <th>b</th>\n",
       "      <th>c</th>\n",
       "    </tr>\n",
       "    <tr>\n",
       "      <th>date</th>\n",
       "      <th></th>\n",
       "      <th></th>\n",
       "      <th></th>\n",
       "      <th></th>\n",
       "      <th></th>\n",
       "    </tr>\n",
       "  </thead>\n",
       "  <tbody>\n",
       "    <tr>\n",
       "      <th>2019-01-06</th>\n",
       "      <td>black</td>\n",
       "      <td>S</td>\n",
       "      <td>-0.445812</td>\n",
       "      <td>-0.369978</td>\n",
       "      <td>-0.815790</td>\n",
       "    </tr>\n",
       "    <tr>\n",
       "      <th>2019-01-13</th>\n",
       "      <td>white</td>\n",
       "      <td>M</td>\n",
       "      <td>-3.090266</td>\n",
       "      <td>-1.757744</td>\n",
       "      <td>-4.848010</td>\n",
       "    </tr>\n",
       "    <tr>\n",
       "      <th>2019-01-20</th>\n",
       "      <td>red</td>\n",
       "      <td>L</td>\n",
       "      <td>-0.424970</td>\n",
       "      <td>-0.380681</td>\n",
       "      <td>-0.805651</td>\n",
       "    </tr>\n",
       "    <tr>\n",
       "      <th>2019-01-27</th>\n",
       "      <td>white</td>\n",
       "      <td>M</td>\n",
       "      <td>-0.363608</td>\n",
       "      <td>-2.391862</td>\n",
       "      <td>-2.755470</td>\n",
       "    </tr>\n",
       "    <tr>\n",
       "      <th>2019-02-03</th>\n",
       "      <td>green</td>\n",
       "      <td>XL</td>\n",
       "      <td>1.046988</td>\n",
       "      <td>-0.154135</td>\n",
       "      <td>0.892853</td>\n",
       "    </tr>\n",
       "  </tbody>\n",
       "</table>\n",
       "</div>"
      ],
      "text/plain": [
       "            color size         a         b         c\n",
       "date                                                \n",
       "2019-01-06  black    S -0.445812 -0.369978 -0.815790\n",
       "2019-01-13  white    M -3.090266 -1.757744 -4.848010\n",
       "2019-01-20    red    L -0.424970 -0.380681 -0.805651\n",
       "2019-01-27  white    M -0.363608 -2.391862 -2.755470\n",
       "2019-02-03  green   XL  1.046988 -0.154135  0.892853"
      ]
     },
     "execution_count": 119,
     "metadata": {},
     "output_type": "execute_result"
    }
   ],
   "source": [
    "df.set_index('date')"
   ]
  },
  {
   "cell_type": "markdown",
   "metadata": {},
   "source": [
    "### 5.6. Drop/filling Missing Value"
   ]
  },
  {
   "cell_type": "code",
   "execution_count": 122,
   "metadata": {},
   "outputs": [
    {
     "data": {
      "text/html": [
       "<div>\n",
       "<style scoped>\n",
       "    .dataframe tbody tr th:only-of-type {\n",
       "        vertical-align: middle;\n",
       "    }\n",
       "\n",
       "    .dataframe tbody tr th {\n",
       "        vertical-align: top;\n",
       "    }\n",
       "\n",
       "    .dataframe thead th {\n",
       "        text-align: right;\n",
       "    }\n",
       "</style>\n",
       "<table border=\"1\" class=\"dataframe\">\n",
       "  <thead>\n",
       "    <tr style=\"text-align: right;\">\n",
       "      <th></th>\n",
       "      <th>color</th>\n",
       "      <th>size</th>\n",
       "      <th>date</th>\n",
       "      <th>a</th>\n",
       "      <th>b</th>\n",
       "      <th>c</th>\n",
       "    </tr>\n",
       "  </thead>\n",
       "  <tbody>\n",
       "    <tr>\n",
       "      <th>A</th>\n",
       "      <td>black</td>\n",
       "      <td>S</td>\n",
       "      <td>2019-01-06</td>\n",
       "      <td>-0.445812</td>\n",
       "      <td>NaN</td>\n",
       "      <td>-0.815790</td>\n",
       "    </tr>\n",
       "    <tr>\n",
       "      <th>B</th>\n",
       "      <td>white</td>\n",
       "      <td>M</td>\n",
       "      <td>2019-01-13</td>\n",
       "      <td>-3.090266</td>\n",
       "      <td>-1.757744</td>\n",
       "      <td>-4.848010</td>\n",
       "    </tr>\n",
       "    <tr>\n",
       "      <th>C</th>\n",
       "      <td>red</td>\n",
       "      <td>L</td>\n",
       "      <td>2019-01-20</td>\n",
       "      <td>NaN</td>\n",
       "      <td>-0.380681</td>\n",
       "      <td>-0.805651</td>\n",
       "    </tr>\n",
       "    <tr>\n",
       "      <th>D</th>\n",
       "      <td>white</td>\n",
       "      <td>M</td>\n",
       "      <td>2019-01-27</td>\n",
       "      <td>-0.363608</td>\n",
       "      <td>-2.391862</td>\n",
       "      <td>-2.755470</td>\n",
       "    </tr>\n",
       "    <tr>\n",
       "      <th>E</th>\n",
       "      <td>green</td>\n",
       "      <td>XL</td>\n",
       "      <td>2019-02-03</td>\n",
       "      <td>1.046988</td>\n",
       "      <td>-0.154135</td>\n",
       "      <td>0.892853</td>\n",
       "    </tr>\n",
       "  </tbody>\n",
       "</table>\n",
       "</div>"
      ],
      "text/plain": [
       "   color size       date         a         b         c\n",
       "A  black    S 2019-01-06 -0.445812       NaN -0.815790\n",
       "B  white    M 2019-01-13 -3.090266 -1.757744 -4.848010\n",
       "C    red    L 2019-01-20       NaN -0.380681 -0.805651\n",
       "D  white    M 2019-01-27 -0.363608 -2.391862 -2.755470\n",
       "E  green   XL 2019-02-03  1.046988 -0.154135  0.892853"
      ]
     },
     "execution_count": 122,
     "metadata": {},
     "output_type": "execute_result"
    }
   ],
   "source": [
    "df.iloc[0, 4] = np.nan\n",
    "df.iloc[2, 3] = np.nan\n",
    "df"
   ]
  },
  {
   "cell_type": "code",
   "execution_count": 123,
   "metadata": {},
   "outputs": [
    {
     "data": {
      "text/html": [
       "<div>\n",
       "<style scoped>\n",
       "    .dataframe tbody tr th:only-of-type {\n",
       "        vertical-align: middle;\n",
       "    }\n",
       "\n",
       "    .dataframe tbody tr th {\n",
       "        vertical-align: top;\n",
       "    }\n",
       "\n",
       "    .dataframe thead th {\n",
       "        text-align: right;\n",
       "    }\n",
       "</style>\n",
       "<table border=\"1\" class=\"dataframe\">\n",
       "  <thead>\n",
       "    <tr style=\"text-align: right;\">\n",
       "      <th></th>\n",
       "      <th>color</th>\n",
       "      <th>size</th>\n",
       "      <th>date</th>\n",
       "      <th>a</th>\n",
       "      <th>b</th>\n",
       "      <th>c</th>\n",
       "    </tr>\n",
       "  </thead>\n",
       "  <tbody>\n",
       "    <tr>\n",
       "      <th>B</th>\n",
       "      <td>white</td>\n",
       "      <td>M</td>\n",
       "      <td>2019-01-13</td>\n",
       "      <td>-3.090266</td>\n",
       "      <td>-1.757744</td>\n",
       "      <td>-4.848010</td>\n",
       "    </tr>\n",
       "    <tr>\n",
       "      <th>D</th>\n",
       "      <td>white</td>\n",
       "      <td>M</td>\n",
       "      <td>2019-01-27</td>\n",
       "      <td>-0.363608</td>\n",
       "      <td>-2.391862</td>\n",
       "      <td>-2.755470</td>\n",
       "    </tr>\n",
       "    <tr>\n",
       "      <th>E</th>\n",
       "      <td>green</td>\n",
       "      <td>XL</td>\n",
       "      <td>2019-02-03</td>\n",
       "      <td>1.046988</td>\n",
       "      <td>-0.154135</td>\n",
       "      <td>0.892853</td>\n",
       "    </tr>\n",
       "  </tbody>\n",
       "</table>\n",
       "</div>"
      ],
      "text/plain": [
       "   color size       date         a         b         c\n",
       "B  white    M 2019-01-13 -3.090266 -1.757744 -4.848010\n",
       "D  white    M 2019-01-27 -0.363608 -2.391862 -2.755470\n",
       "E  green   XL 2019-02-03  1.046988 -0.154135  0.892853"
      ]
     },
     "execution_count": 123,
     "metadata": {},
     "output_type": "execute_result"
    }
   ],
   "source": [
    "# drop any rows with NA, axis=1 as columns\n",
    "df.dropna(axis=0)"
   ]
  },
  {
   "cell_type": "code",
   "execution_count": 124,
   "metadata": {},
   "outputs": [
    {
     "data": {
      "text/html": [
       "<div>\n",
       "<style scoped>\n",
       "    .dataframe tbody tr th:only-of-type {\n",
       "        vertical-align: middle;\n",
       "    }\n",
       "\n",
       "    .dataframe tbody tr th {\n",
       "        vertical-align: top;\n",
       "    }\n",
       "\n",
       "    .dataframe thead th {\n",
       "        text-align: right;\n",
       "    }\n",
       "</style>\n",
       "<table border=\"1\" class=\"dataframe\">\n",
       "  <thead>\n",
       "    <tr style=\"text-align: right;\">\n",
       "      <th></th>\n",
       "      <th>color</th>\n",
       "      <th>size</th>\n",
       "      <th>date</th>\n",
       "      <th>a</th>\n",
       "      <th>b</th>\n",
       "      <th>c</th>\n",
       "    </tr>\n",
       "  </thead>\n",
       "  <tbody>\n",
       "    <tr>\n",
       "      <th>A</th>\n",
       "      <td>black</td>\n",
       "      <td>S</td>\n",
       "      <td>2019-01-06</td>\n",
       "      <td>-0.445812</td>\n",
       "      <td>NaN</td>\n",
       "      <td>-0.815790</td>\n",
       "    </tr>\n",
       "    <tr>\n",
       "      <th>B</th>\n",
       "      <td>white</td>\n",
       "      <td>M</td>\n",
       "      <td>2019-01-13</td>\n",
       "      <td>-3.090266</td>\n",
       "      <td>-1.757744</td>\n",
       "      <td>-4.848010</td>\n",
       "    </tr>\n",
       "    <tr>\n",
       "      <th>D</th>\n",
       "      <td>white</td>\n",
       "      <td>M</td>\n",
       "      <td>2019-01-27</td>\n",
       "      <td>-0.363608</td>\n",
       "      <td>-2.391862</td>\n",
       "      <td>-2.755470</td>\n",
       "    </tr>\n",
       "    <tr>\n",
       "      <th>E</th>\n",
       "      <td>green</td>\n",
       "      <td>XL</td>\n",
       "      <td>2019-02-03</td>\n",
       "      <td>1.046988</td>\n",
       "      <td>-0.154135</td>\n",
       "      <td>0.892853</td>\n",
       "    </tr>\n",
       "  </tbody>\n",
       "</table>\n",
       "</div>"
      ],
      "text/plain": [
       "   color size       date         a         b         c\n",
       "A  black    S 2019-01-06 -0.445812       NaN -0.815790\n",
       "B  white    M 2019-01-13 -3.090266 -1.757744 -4.848010\n",
       "D  white    M 2019-01-27 -0.363608 -2.391862 -2.755470\n",
       "E  green   XL 2019-02-03  1.046988 -0.154135  0.892853"
      ]
     },
     "execution_count": 124,
     "metadata": {},
     "output_type": "execute_result"
    }
   ],
   "source": [
    "# drop rows any specific column has NA values\n",
    "df[df.a.notna()] # same as df[~df.a.isna()]"
   ]
  },
  {
   "cell_type": "code",
   "execution_count": 125,
   "metadata": {},
   "outputs": [
    {
     "data": {
      "text/html": [
       "<div>\n",
       "<style scoped>\n",
       "    .dataframe tbody tr th:only-of-type {\n",
       "        vertical-align: middle;\n",
       "    }\n",
       "\n",
       "    .dataframe tbody tr th {\n",
       "        vertical-align: top;\n",
       "    }\n",
       "\n",
       "    .dataframe thead th {\n",
       "        text-align: right;\n",
       "    }\n",
       "</style>\n",
       "<table border=\"1\" class=\"dataframe\">\n",
       "  <thead>\n",
       "    <tr style=\"text-align: right;\">\n",
       "      <th></th>\n",
       "      <th>color</th>\n",
       "      <th>size</th>\n",
       "      <th>date</th>\n",
       "      <th>a</th>\n",
       "      <th>b</th>\n",
       "      <th>c</th>\n",
       "    </tr>\n",
       "  </thead>\n",
       "  <tbody>\n",
       "    <tr>\n",
       "      <th>A</th>\n",
       "      <td>black</td>\n",
       "      <td>S</td>\n",
       "      <td>2019-01-06</td>\n",
       "      <td>-0.445812</td>\n",
       "      <td>-1.171105</td>\n",
       "      <td>-0.815790</td>\n",
       "    </tr>\n",
       "    <tr>\n",
       "      <th>B</th>\n",
       "      <td>white</td>\n",
       "      <td>M</td>\n",
       "      <td>2019-01-13</td>\n",
       "      <td>-3.090266</td>\n",
       "      <td>-1.757744</td>\n",
       "      <td>-4.848010</td>\n",
       "    </tr>\n",
       "    <tr>\n",
       "      <th>C</th>\n",
       "      <td>red</td>\n",
       "      <td>L</td>\n",
       "      <td>2019-01-20</td>\n",
       "      <td>-0.713174</td>\n",
       "      <td>-0.380681</td>\n",
       "      <td>-0.805651</td>\n",
       "    </tr>\n",
       "    <tr>\n",
       "      <th>D</th>\n",
       "      <td>white</td>\n",
       "      <td>M</td>\n",
       "      <td>2019-01-27</td>\n",
       "      <td>-0.363608</td>\n",
       "      <td>-2.391862</td>\n",
       "      <td>-2.755470</td>\n",
       "    </tr>\n",
       "    <tr>\n",
       "      <th>E</th>\n",
       "      <td>green</td>\n",
       "      <td>XL</td>\n",
       "      <td>2019-02-03</td>\n",
       "      <td>1.046988</td>\n",
       "      <td>-0.154135</td>\n",
       "      <td>0.892853</td>\n",
       "    </tr>\n",
       "  </tbody>\n",
       "</table>\n",
       "</div>"
      ],
      "text/plain": [
       "   color size       date         a         b         c\n",
       "A  black    S 2019-01-06 -0.445812 -1.171105 -0.815790\n",
       "B  white    M 2019-01-13 -3.090266 -1.757744 -4.848010\n",
       "C    red    L 2019-01-20 -0.713174 -0.380681 -0.805651\n",
       "D  white    M 2019-01-27 -0.363608 -2.391862 -2.755470\n",
       "E  green   XL 2019-02-03  1.046988 -0.154135  0.892853"
      ]
     },
     "execution_count": 125,
     "metadata": {},
     "output_type": "execute_result"
    }
   ],
   "source": [
    "# fill in NA with mean\n",
    "df.fillna(df.mean())"
   ]
  },
  {
   "cell_type": "markdown",
   "metadata": {},
   "source": [
    "### 5.7. Mapping Functions\n",
    "\n",
    "Mapping is used to transform an initial set of values to another set of values through a function."
   ]
  },
  {
   "cell_type": "code",
   "execution_count": 136,
   "metadata": {
    "scrolled": true
   },
   "outputs": [
    {
     "data": {
      "text/plain": [
       "A   -0.445812\n",
       "B   -3.090266\n",
       "C         NaN\n",
       "D   -0.363608\n",
       "E    1.046988\n",
       "Name: a, dtype: float64"
      ]
     },
     "execution_count": 136,
     "metadata": {},
     "output_type": "execute_result"
    }
   ],
   "source": [
    "df.a.map(lambda x: np.mean(x))"
   ]
  },
  {
   "cell_type": "markdown",
   "metadata": {},
   "source": [
    "`Apply` is similar to `map`, except that it transforms the entire DataFrame."
   ]
  },
  {
   "cell_type": "code",
   "execution_count": 137,
   "metadata": {},
   "outputs": [
    {
     "data": {
      "text/plain": [
       "a   -0.713174\n",
       "b   -1.171105\n",
       "dtype: float64"
      ]
     },
     "execution_count": 137,
     "metadata": {},
     "output_type": "execute_result"
    }
   ],
   "source": [
    "df[['a','b']].apply(lambda x: x.mean())"
   ]
  },
  {
   "cell_type": "markdown",
   "metadata": {},
   "source": [
    "=================================================================================="
   ]
  },
  {
   "cell_type": "markdown",
   "metadata": {},
   "source": [
    "## 4.1. Aggregation"
   ]
  },
  {
   "cell_type": "code",
   "execution_count": 55,
   "metadata": {},
   "outputs": [
    {
     "data": {
      "text/html": [
       "<div>\n",
       "<style scoped>\n",
       "    .dataframe tbody tr th:only-of-type {\n",
       "        vertical-align: middle;\n",
       "    }\n",
       "\n",
       "    .dataframe tbody tr th {\n",
       "        vertical-align: top;\n",
       "    }\n",
       "\n",
       "    .dataframe thead th {\n",
       "        text-align: right;\n",
       "    }\n",
       "</style>\n",
       "<table border=\"1\" class=\"dataframe\">\n",
       "  <thead>\n",
       "    <tr style=\"text-align: right;\">\n",
       "      <th></th>\n",
       "      <th>sum_a</th>\n",
       "      <th>sum_b</th>\n",
       "      <th>sum_c</th>\n",
       "    </tr>\n",
       "    <tr>\n",
       "      <th>size</th>\n",
       "      <th></th>\n",
       "      <th></th>\n",
       "      <th></th>\n",
       "    </tr>\n",
       "  </thead>\n",
       "  <tbody>\n",
       "    <tr>\n",
       "      <th>L</th>\n",
       "      <td>-1.697975</td>\n",
       "      <td>4.557380</td>\n",
       "      <td>2.859405</td>\n",
       "    </tr>\n",
       "    <tr>\n",
       "      <th>M</th>\n",
       "      <td>-0.006746</td>\n",
       "      <td>-2.004138</td>\n",
       "      <td>-2.010884</td>\n",
       "    </tr>\n",
       "    <tr>\n",
       "      <th>S</th>\n",
       "      <td>0.544520</td>\n",
       "      <td>-0.595174</td>\n",
       "      <td>-0.016940</td>\n",
       "    </tr>\n",
       "    <tr>\n",
       "      <th>XL</th>\n",
       "      <td>-0.096295</td>\n",
       "      <td>-1.190030</td>\n",
       "      <td>-1.286325</td>\n",
       "    </tr>\n",
       "  </tbody>\n",
       "</table>\n",
       "</div>"
      ],
      "text/plain": [
       "         sum_a     sum_b     sum_c\n",
       "size                              \n",
       "L    -1.697975  4.557380  2.859405\n",
       "M    -0.006746 -2.004138 -2.010884\n",
       "S     0.544520 -0.595174 -0.016940\n",
       "XL   -0.096295 -1.190030 -1.286325"
      ]
     },
     "execution_count": 55,
     "metadata": {},
     "output_type": "execute_result"
    }
   ],
   "source": [
    "size_lvl.sum().add_prefix('sum_')"
   ]
  },
  {
   "cell_type": "code",
   "execution_count": 56,
   "metadata": {},
   "outputs": [
    {
     "data": {
      "text/html": [
       "<div>\n",
       "<style scoped>\n",
       "    .dataframe tbody tr th:only-of-type {\n",
       "        vertical-align: middle;\n",
       "    }\n",
       "\n",
       "    .dataframe tbody tr th {\n",
       "        vertical-align: top;\n",
       "    }\n",
       "\n",
       "    .dataframe thead th {\n",
       "        text-align: right;\n",
       "    }\n",
       "</style>\n",
       "<table border=\"1\" class=\"dataframe\">\n",
       "  <thead>\n",
       "    <tr style=\"text-align: right;\">\n",
       "      <th></th>\n",
       "      <th></th>\n",
       "      <th>a</th>\n",
       "      <th>b</th>\n",
       "    </tr>\n",
       "    <tr>\n",
       "      <th>size</th>\n",
       "      <th>color</th>\n",
       "      <th></th>\n",
       "      <th></th>\n",
       "    </tr>\n",
       "  </thead>\n",
       "  <tbody>\n",
       "    <tr>\n",
       "      <th>L</th>\n",
       "      <th>black</th>\n",
       "      <td>-1.812915</td>\n",
       "      <td>2.278690</td>\n",
       "    </tr>\n",
       "    <tr>\n",
       "      <th>M</th>\n",
       "      <th>white</th>\n",
       "      <td>-1.102740</td>\n",
       "      <td>-0.668046</td>\n",
       "    </tr>\n",
       "    <tr>\n",
       "      <th rowspan=\"2\" valign=\"top\">S</th>\n",
       "      <th>black</th>\n",
       "      <td>-0.161944</td>\n",
       "      <td>-1.022070</td>\n",
       "    </tr>\n",
       "    <tr>\n",
       "      <th>white</th>\n",
       "      <td>NaN</td>\n",
       "      <td>0.426896</td>\n",
       "    </tr>\n",
       "    <tr>\n",
       "      <th rowspan=\"2\" valign=\"top\">XL</th>\n",
       "      <th>black</th>\n",
       "      <td>0.836499</td>\n",
       "      <td>3.797216</td>\n",
       "    </tr>\n",
       "    <tr>\n",
       "      <th>white</th>\n",
       "      <td>-0.932795</td>\n",
       "      <td>-4.987246</td>\n",
       "    </tr>\n",
       "  </tbody>\n",
       "</table>\n",
       "</div>"
      ],
      "text/plain": [
       "                   a         b\n",
       "size color                    \n",
       "L    black -1.812915  2.278690\n",
       "M    white -1.102740 -0.668046\n",
       "S    black -0.161944 -1.022070\n",
       "     white       NaN  0.426896\n",
       "XL   black  0.836499  3.797216\n",
       "     white -0.932795 -4.987246"
      ]
     },
     "execution_count": 56,
     "metadata": {},
     "output_type": "execute_result"
    }
   ],
   "source": [
    "df.groupby(['size', 'color']).agg({'a': np.min, 'b': np.mean})"
   ]
  },
  {
   "cell_type": "markdown",
   "metadata": {},
   "source": [
    "## 5.1. Apply customize function"
   ]
  },
  {
   "cell_type": "code",
   "execution_count": 57,
   "metadata": {
    "scrolled": true
   },
   "outputs": [
    {
     "data": {
      "text/html": [
       "<div>\n",
       "<style scoped>\n",
       "    .dataframe tbody tr th:only-of-type {\n",
       "        vertical-align: middle;\n",
       "    }\n",
       "\n",
       "    .dataframe tbody tr th {\n",
       "        vertical-align: top;\n",
       "    }\n",
       "\n",
       "    .dataframe thead th {\n",
       "        text-align: right;\n",
       "    }\n",
       "</style>\n",
       "<table border=\"1\" class=\"dataframe\">\n",
       "  <thead>\n",
       "    <tr style=\"text-align: right;\">\n",
       "      <th></th>\n",
       "      <th></th>\n",
       "      <th>date</th>\n",
       "      <th>a</th>\n",
       "      <th>b</th>\n",
       "      <th>c</th>\n",
       "    </tr>\n",
       "    <tr>\n",
       "      <th>class</th>\n",
       "      <th>country</th>\n",
       "      <th></th>\n",
       "      <th></th>\n",
       "      <th></th>\n",
       "      <th></th>\n",
       "    </tr>\n",
       "  </thead>\n",
       "  <tbody>\n",
       "    <tr>\n",
       "      <th>A</th>\n",
       "      <th>JP</th>\n",
       "      <td>42 days</td>\n",
       "      <td>0.868408</td>\n",
       "      <td>1.448966</td>\n",
       "      <td>0.712515</td>\n",
       "    </tr>\n",
       "    <tr>\n",
       "      <th rowspan=\"3\" valign=\"top\">B</th>\n",
       "      <th>CN</th>\n",
       "      <td>56 days</td>\n",
       "      <td>2.484031</td>\n",
       "      <td>1.331560</td>\n",
       "      <td>1.829802</td>\n",
       "    </tr>\n",
       "    <tr>\n",
       "      <th>US</th>\n",
       "      <td>14 days</td>\n",
       "      <td>1.927855</td>\n",
       "      <td>4.894578</td>\n",
       "      <td>6.822433</td>\n",
       "    </tr>\n",
       "    <tr>\n",
       "      <th>US</th>\n",
       "      <td>56 days</td>\n",
       "      <td>2.484031</td>\n",
       "      <td>1.331560</td>\n",
       "      <td>1.829802</td>\n",
       "    </tr>\n",
       "    <tr>\n",
       "      <th>C</th>\n",
       "      <th>US</th>\n",
       "      <td>14 days</td>\n",
       "      <td>1.927855</td>\n",
       "      <td>4.894578</td>\n",
       "      <td>6.822433</td>\n",
       "    </tr>\n",
       "    <tr>\n",
       "      <th>A</th>\n",
       "      <th>CN</th>\n",
       "      <td>42 days</td>\n",
       "      <td>0.868408</td>\n",
       "      <td>1.448966</td>\n",
       "      <td>0.712515</td>\n",
       "    </tr>\n",
       "    <tr>\n",
       "      <th>B</th>\n",
       "      <th>CN</th>\n",
       "      <td>42 days</td>\n",
       "      <td>0.868408</td>\n",
       "      <td>1.448966</td>\n",
       "      <td>0.712515</td>\n",
       "    </tr>\n",
       "    <tr>\n",
       "      <th>A</th>\n",
       "      <th>CA</th>\n",
       "      <td>7 days</td>\n",
       "      <td>1.769294</td>\n",
       "      <td>8.784461</td>\n",
       "      <td>10.553755</td>\n",
       "    </tr>\n",
       "    <tr>\n",
       "      <th rowspan=\"2\" valign=\"top\">C</th>\n",
       "      <th>JP</th>\n",
       "      <td>7 days</td>\n",
       "      <td>1.769294</td>\n",
       "      <td>8.784461</td>\n",
       "      <td>10.553755</td>\n",
       "    </tr>\n",
       "    <tr>\n",
       "      <th>CA</th>\n",
       "      <td>56 days</td>\n",
       "      <td>2.484031</td>\n",
       "      <td>1.331560</td>\n",
       "      <td>1.829802</td>\n",
       "    </tr>\n",
       "  </tbody>\n",
       "</table>\n",
       "</div>"
      ],
      "text/plain": [
       "                 date         a         b          c\n",
       "class country                                       \n",
       "A     JP      42 days  0.868408  1.448966   0.712515\n",
       "B     CN      56 days  2.484031  1.331560   1.829802\n",
       "      US      14 days  1.927855  4.894578   6.822433\n",
       "      US      56 days  2.484031  1.331560   1.829802\n",
       "C     US      14 days  1.927855  4.894578   6.822433\n",
       "A     CN      42 days  0.868408  1.448966   0.712515\n",
       "B     CN      42 days  0.868408  1.448966   0.712515\n",
       "A     CA       7 days  1.769294  8.784461  10.553755\n",
       "C     JP       7 days  1.769294  8.784461  10.553755\n",
       "      CA      56 days  2.484031  1.331560   1.829802"
      ]
     },
     "execution_count": 57,
     "metadata": {},
     "output_type": "execute_result"
    }
   ],
   "source": [
    "# Transform\n",
    "data_range = lambda x: x.max() - x.min()\n",
    "df.groupby('size').transform(data_range)"
   ]
  },
  {
   "cell_type": "code",
   "execution_count": 58,
   "metadata": {},
   "outputs": [
    {
     "data": {
      "text/plain": [
       "size\n",
       "L     1.927855\n",
       "M     2.484031\n",
       "S     0.868408\n",
       "XL    1.769294\n",
       "Name: a, dtype: float64"
      ]
     },
     "execution_count": 58,
     "metadata": {},
     "output_type": "execute_result"
    }
   ],
   "source": [
    "# Apply\n",
    "df.groupby('size')['a'].apply(lambda x: x.max() - x.min())"
   ]
  },
  {
   "cell_type": "markdown",
   "metadata": {},
   "source": [
    "## 6.1. Rolling\n",
    "\n",
    "Creating a n-row window to aggregate data group by columns. If not enough data, then return `NaN`"
   ]
  },
  {
   "cell_type": "code",
   "execution_count": 59,
   "metadata": {},
   "outputs": [
    {
     "data": {
      "text/plain": [
       "color  class  country\n",
       "black  A      JP              NaN\n",
       "       B      US        -0.047004\n",
       "       C      US        -1.697975\n",
       "       B      CN        -1.106451\n",
       "       C      JP         1.542963\n",
       "white  B      CN              NaN\n",
       "              US        -1.388037\n",
       "       A      CN              NaN\n",
       "              CA              NaN\n",
       "       C      CA         0.448496\n",
       "Name: a, dtype: float64"
      ]
     },
     "execution_count": 59,
     "metadata": {},
     "output_type": "execute_result"
    }
   ],
   "source": [
    "df.groupby('color').rolling(2).a.sum()"
   ]
  },
  {
   "cell_type": "markdown",
   "metadata": {},
   "source": [
    "## 7.1. Expanding\n",
    "\n",
    "Creating a window to aggregate data group by columns, but the window is increasing every step"
   ]
  },
  {
   "cell_type": "code",
   "execution_count": 60,
   "metadata": {},
   "outputs": [
    {
     "data": {
      "text/plain": [
       "color  class  country\n",
       "black  A      JP        -0.161944\n",
       "       B      US        -0.047004\n",
       "       C      US        -1.859919\n",
       "       B      CN        -1.153455\n",
       "       C      JP        -0.316955\n",
       "white  B      CN        -0.285296\n",
       "              US        -1.388037\n",
       "       A      CN        -1.388037\n",
       "              CA        -2.320831\n",
       "       C      CA        -0.939541\n",
       "Name: a, dtype: float64"
      ]
     },
     "execution_count": 60,
     "metadata": {},
     "output_type": "execute_result"
    }
   ],
   "source": [
    "# Cumulative sum\n",
    "df.groupby('color').expanding(1).a.sum()"
   ]
  },
  {
   "cell_type": "markdown",
   "metadata": {},
   "source": [
    "## 8.1. Filter"
   ]
  },
  {
   "cell_type": "code",
   "execution_count": 61,
   "metadata": {},
   "outputs": [
    {
     "data": {
      "text/html": [
       "<div>\n",
       "<style scoped>\n",
       "    .dataframe tbody tr th:only-of-type {\n",
       "        vertical-align: middle;\n",
       "    }\n",
       "\n",
       "    .dataframe tbody tr th {\n",
       "        vertical-align: top;\n",
       "    }\n",
       "\n",
       "    .dataframe thead th {\n",
       "        text-align: right;\n",
       "    }\n",
       "</style>\n",
       "<table border=\"1\" class=\"dataframe\">\n",
       "  <thead>\n",
       "    <tr style=\"text-align: right;\">\n",
       "      <th></th>\n",
       "      <th></th>\n",
       "      <th>color</th>\n",
       "      <th>size</th>\n",
       "      <th>date</th>\n",
       "      <th>a</th>\n",
       "      <th>b</th>\n",
       "      <th>c</th>\n",
       "    </tr>\n",
       "    <tr>\n",
       "      <th>class</th>\n",
       "      <th>country</th>\n",
       "      <th></th>\n",
       "      <th></th>\n",
       "      <th></th>\n",
       "      <th></th>\n",
       "      <th></th>\n",
       "      <th></th>\n",
       "    </tr>\n",
       "  </thead>\n",
       "  <tbody>\n",
       "    <tr>\n",
       "      <th rowspan=\"4\" valign=\"top\">B</th>\n",
       "      <th>CN</th>\n",
       "      <td>white</td>\n",
       "      <td>M</td>\n",
       "      <td>2019-01-13</td>\n",
       "      <td>-0.285296</td>\n",
       "      <td>0.001584</td>\n",
       "      <td>-0.283712</td>\n",
       "    </tr>\n",
       "    <tr>\n",
       "      <th>US</th>\n",
       "      <td>black</td>\n",
       "      <td>L</td>\n",
       "      <td>2019-01-20</td>\n",
       "      <td>0.114940</td>\n",
       "      <td>4.725979</td>\n",
       "      <td>4.840919</td>\n",
       "    </tr>\n",
       "    <tr>\n",
       "      <th>US</th>\n",
       "      <td>white</td>\n",
       "      <td>M</td>\n",
       "      <td>2019-01-27</td>\n",
       "      <td>-1.102740</td>\n",
       "      <td>-0.675747</td>\n",
       "      <td>-1.778487</td>\n",
       "    </tr>\n",
       "    <tr>\n",
       "      <th>CN</th>\n",
       "      <td>black</td>\n",
       "      <td>S</td>\n",
       "      <td>2019-02-17</td>\n",
       "      <td>0.706464</td>\n",
       "      <td>-1.022070</td>\n",
       "      <td>-0.315606</td>\n",
       "    </tr>\n",
       "  </tbody>\n",
       "</table>\n",
       "</div>"
      ],
      "text/plain": [
       "               color size       date         a         b         c\n",
       "class country                                                     \n",
       "B     CN       white    M 2019-01-13 -0.285296  0.001584 -0.283712\n",
       "      US       black    L 2019-01-20  0.114940  4.725979  4.840919\n",
       "      US       white    M 2019-01-27 -1.102740 -0.675747 -1.778487\n",
       "      CN       black    S 2019-02-17  0.706464 -1.022070 -0.315606"
      ]
     },
     "execution_count": 61,
     "metadata": {},
     "output_type": "execute_result"
    }
   ],
   "source": [
    "df.groupby('class').filter(lambda x: len(x) > 3)"
   ]
  },
  {
   "cell_type": "markdown",
   "metadata": {},
   "source": [
    "## 9.1 Evaluating an expression"
   ]
  },
  {
   "cell_type": "code",
   "execution_count": null,
   "metadata": {},
   "outputs": [],
   "source": []
  }
 ],
 "metadata": {
  "kernelspec": {
   "display_name": "Python 3",
   "language": "python",
   "name": "python3"
  },
  "language_info": {
   "codemirror_mode": {
    "name": "ipython",
    "version": 3
   },
   "file_extension": ".py",
   "mimetype": "text/x-python",
   "name": "python",
   "nbconvert_exporter": "python",
   "pygments_lexer": "ipython3",
   "version": "3.7.3"
  }
 },
 "nbformat": 4,
 "nbformat_minor": 2
}
